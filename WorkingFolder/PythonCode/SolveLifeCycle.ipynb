{
 "cells": [
  {
   "cell_type": "markdown",
   "metadata": {},
   "source": [
    "## A life-cycle consumption  problem nder objective/subjective risk perceptions\n",
    "\n",
    "- author: Tao Wang\n",
    "- date: September 2021\n",
    "- this is a companion notebook to the paper \"Perceived income risks\""
   ]
  },
  {
   "cell_type": "markdown",
   "metadata": {},
   "source": [
    "- This notebook builds on a standard life-cycle consumption model under an incomplete market and extends it to allow subjective belief formation about income risks\n",
    "  - Preference/income process\n",
    "\n",
    "      - CRRA utility \n",
    "      - During work: labor income risk: permanent + MA(1)/persistent/transitory/2-state Markov between UE and EMP or between low and high risk + i.i.d. unemployment shock\n",
    "       -  a deterministic growth rate of permanent income over the life cycle \n",
    "      - During retirement: receives a constant pension proportional to permanent income (hence still subject to permanent income risks)\n",
    "      - A positive probability of death before terminal age \n",
    "  "
   ]
  },
  {
   "cell_type": "markdown",
   "metadata": {},
   "source": [
    "- Objective v.s. subjective\n",
    "     - All state variables are obsersable: permanent income, ma(1) shock or the persistent shock\n",
    "     - What may not be perfectly known is the size and nature of the risks \n",
    "  1. Perfect understanding case\n",
    "  2. Benchmark case without perfect understanding\n",
    "      - individual observe past income realizations\n",
    "      - overreact to transitory shock realizations\n",
    "          - perceived risk of transitory shock is a weighted average of long-run mean and short-run deviations\n",
    "          - similarly, the same mechanism can be for permanent risks \n",
    "      - individuals swing between low and high risk perceptions (either about permanent or transitory income risks) following a 2-state Markov "
   ]
  },
  {
   "cell_type": "markdown",
   "metadata": {},
   "source": [
    "- Other bolder extensions\n",
    "  - Extention 1\n",
    "       - subjective determine the degree of persistence or the ma(1) coefficient \n",
    "       - assymetric extrolation \n",
    "      \n",
    "  - Extention 2 \n",
    "       - adding aggregate risks, and agents need to learn about the growth rate using cross-sectional experiences\n",
    "       - so subjectively determine the cross-sectional correlation\n",
    "       - form the best guess and the corresponding uncertainty based on the attribution\n",
    "         \n",
    "  - Extenstion 3\n",
    "       - persistence attribution is assymmetric: determined by realized income shocks \n",
    "       - correlation attribution is assymetric: determined by realized income shocks "
   ]
  },
  {
   "cell_type": "code",
   "execution_count": 2,
   "metadata": {},
   "outputs": [
    {
     "name": "stderr",
     "output_type": "stream",
     "text": [
      "OMP: Info #270: omp_set_nested routine deprecated, please use omp_set_max_active_levels instead.\n"
     ]
    }
   ],
   "source": [
    "import numpy as np\n",
    "import pandas as pd\n",
    "from quantecon.optimize import brent_max, brentq\n",
    "from interpolation import interp, mlinterp\n",
    "from scipy import interpolate\n",
    "import numba as nb\n",
    "from numba import jit,njit, float64, int64, boolean\n",
    "from numba.experimental import jitclass\n",
    "import matplotlib as mp\n",
    "import matplotlib.pyplot as plt\n",
    "%matplotlib inline\n",
    "from quantecon import MarkovChain\n",
    "import quantecon as qe \n",
    "from mpl_toolkits.mplot3d import Axes3D\n",
    "from matplotlib import cm\n",
    "from time import time\n",
    "#from HARK.utilities import make_grid_exp_mult\n",
    "from scipy import sparse as sp\n",
    "import scipy.sparse.linalg\n",
    "from scipy import linalg as lg \n",
    "from numba.typed import List\n",
    "from Utility import cal_ss_2markov"
   ]
  },
  {
   "cell_type": "code",
   "execution_count": 3,
   "metadata": {
    "code_folding": []
   },
   "outputs": [],
   "source": [
    "## figure plotting configurations\n",
    "\n",
    "mp.rc('xtick', labelsize=11) \n",
    "mp.rc('ytick', labelsize=11) \n",
    "\n",
    "mp.rc('legend',fontsize=11)\n",
    "plt.rc('font',size=11) "
   ]
  },
  {
   "cell_type": "markdown",
   "metadata": {},
   "source": [
    "## The Model Class and Solver"
   ]
  },
  {
   "cell_type": "code",
   "execution_count": 4,
   "metadata": {
    "code_folding": [
     0
    ]
   },
   "outputs": [],
   "source": [
    "lc_data = [\n",
    "    ('ρ', float64),              # utility parameter CRRA\n",
    "    ('β', float64),              # discount factor\n",
    "    ('R',float64),               # Nominal interest rate factor \n",
    "    ('W',float64),               # Wage rate\n",
    "    ('P', float64[:, :]),        # transition probs for z_t, a persistent (macro) state  x\n",
    "    ('z_val', float64[:]),       # values of z, grid values for the continous (macro) persistent state    x\n",
    "    ('sigma_n', float64),        # permanent shock volatility              x\n",
    "    ('x',float64),               # MA(1) coefficient, or essentially the autocorrelation coef of non-persmanent income\n",
    "    ('sigma_eps', float64),      # transitory shock volatility\n",
    "    ('borrowing_cstr',boolean),  ## artifitial borrowing constraint, natural borrowing constraint if False\n",
    "    ('U',float64),               # the probability of being unemployed    * \n",
    "    ('LivPrb',float64),         # the probability of being alive next period \n",
    "    ('b_y', float64),            # loading of macro state to income        x \n",
    "    ('sigma_n_2mkv',float64[:]), # markov permanent risks, only 2 for now\n",
    "    ('sigma_eps_2mkv',float64[:]), # markov transtory risk, only 2 for now\n",
    "    ('s_grid', float64[:]),      # Grid over savings\n",
    "    ('eps_grid', float64[:]),    # Grid over savings\n",
    "    ('n_shk_draws', float64[:]), ## Draws of permanent income shock \n",
    "    ('eps_shk_draws', float64[:]), # Draws of MA/transitory income shocks \n",
    "    ('T',int64),                 # years of work                          *   \n",
    "    ('L',int64),                 # years of life                          * \n",
    "    ('G',float64[:]),            # growth rate of permanent income    *\n",
    "    ('theta',float64),           ## extrapolation parameter \n",
    "    ('shock_draw_size',int64),    ## nb of points drawn for shocks \n",
    "    ('n_shk_mkv_draws',float64[:,:]),  ## 2-state markov on permanent risks \n",
    "    ('eps_shk_mkv_draws',float64[:,:]), ## 2-state markov on transitory risks\n",
    "    ('unemp_insurance',float64),   ## Unemployment insurance replacement ratio \n",
    "    ('pension',float64),           ## pension payment to permanent income ratio\n",
    "    ('ue_markov', boolean),        ## True if 2-state emp/uemp markov \n",
    "    ('adjust_prob',float64),        ## the exogenous probability of being able to adjust consumption plan \n",
    "    ('sigma_p_init',float64),         ## standard devaition of initial income\n",
    "    ('init_p_draws', float64[:]),     ## Draws of initial permanent income \n",
    "    ('init_b', float64),              ## Initial endowment (possibly from accidental bequests) \n",
    "    ('λ', float64),                   ## Income tax rate\n",
    "    ('λ_SS',float64),                 ## Social security tax \n",
    "    ('transfer', float64),            ## Transfer/current permanent income ratio\n",
    "    ('bequest_ratio',float64)         ## zero: bequest thrown to the ocea; one: fully given to newborns\n",
    "]"
   ]
  },
  {
   "cell_type": "code",
   "execution_count": 5,
   "metadata": {},
   "outputs": [
    {
     "name": "stdout",
     "output_type": "stream",
     "text": [
      "{'ρ': 2, 'β': 0.97, 'P': array([[0.9, 0.1],\n",
      "       [0.1, 0.9]]), 'z_val': array([0., 1.]), 'σ_ψ': 0.01, 'σ_θ': 0.03, 'U': 0.0, 'LivPrb': 1.0, 'σ_ψ_2mkv': array([0.01, 0.02]), 'σ_θ_2mkv': array([0.02, 0.04]), 'R': 1.03, 'W': 1.0, 'T': 40, 'L': 60, 'G': array([1., 1., 1., 1., 1., 1., 1., 1., 1., 1., 1., 1., 1., 1., 1., 1., 1.,\n",
      "       1., 1., 1., 1., 1., 1., 1., 1., 1., 1., 1., 1., 1., 1., 1., 1., 1.,\n",
      "       1., 1., 1., 1., 1., 1., 1., 1., 1., 1., 1., 1., 1., 1., 1., 1., 1.,\n",
      "       1., 1., 1., 1., 1., 1., 1., 1., 1.]), 'unemp_insurance': 0.0, 'pension': 1.0, 'σ_ψ_init': 0.01, 'init_b': 0.0, 'λ': 0.0, 'λ_SS': 0.0, 'transfer': 0.0, 'bequest_ratio': 0.0, 'q': 0.5000000004267958, 'p': 0.999983237276475, 'sigma_p_l': 0.0042898171337328135, 'sigma_t_l': 0.06549669559399782, 'sigma_p_h': 0.2816973327374159, 'sigma_t_h': 0.53075166767276, 'U2U_l': -1.2775144706161092, 'U2U_h': 0.0015879776587706118, 'E2E_l': 0.8725635903705148, 'E2E_h': 0.00020083160355721663}\n"
     ]
    }
   ],
   "source": [
    "import pickle\n",
    "with open(\"parameters.txt\", \"rb\") as fp:\n",
    "    lc_paras = pickle.load(fp)\n",
    "    \n",
    "print(lc_paras)"
   ]
  },
  {
   "cell_type": "code",
   "execution_count": 6,
   "metadata": {
    "code_folding": [
     122,
     137,
     148
    ]
   },
   "outputs": [],
   "source": [
    "@jitclass(lc_data)\n",
    "class LifeCycle:\n",
    "    \"\"\"\n",
    "    A class that stores primitives for the life cycle consumption problem.\n",
    "    \"\"\"\n",
    "\n",
    "    def __init__(self,\n",
    "                 ρ = lc_paras['ρ'],     ## relative risk aversion  \n",
    "                 β = lc_paras['β'],  ## discount factor\n",
    "                 P = lc_paras['P'],   ## transitory probability of markov state z\n",
    "                 z_val = lc_paras['z_val'], ## markov state from low to high  \n",
    "                 sigma_n = lc_paras['σ_ψ'],     ## size of permanent income shocks\n",
    "                 sigma_eps = lc_paras['σ_θ'],   ## size of transitory income risks\n",
    "                 x = 0.9,            ## MA(1) coefficient of non-permanent inocme shocks\n",
    "                 borrowing_cstr = True,  ## artificial zero borrowing constraint \n",
    "                 U = lc_paras['U'],   ## unemployment risk probability (0-1)\n",
    "                 LivPrb = lc_paras['LivPrb'],       ## living probability \n",
    "                 b_y = 0.0,          ## loading of markov state on income  \n",
    "                 sigma_n_2mkv = lc_paras['σ_ψ_2mkv'],  ## permanent risks in 2 markov states\n",
    "                 sigma_eps_2mkv = lc_paras['σ_θ_2mkv'],  ## transitory risks in 2 markov states\n",
    "                 R = lc_paras['R'],           ## interest factor \n",
    "                 W = lc_paras['W'],            ## Wage rate\n",
    "                 T = lc_paras['T'],             ## work age, from 25 to 65\n",
    "                 L = lc_paras['L'],             ## life length 85\n",
    "                 G = lc_paras['G'],    ## growth factor list of permanent income \n",
    "                 shock_draw_size = 40,\n",
    "                 grid_max = 2.5,\n",
    "                 grid_size = 50,\n",
    "                 seed = 456789,\n",
    "                 theta = 2,               ## assymetric extrapolative parameter\n",
    "                 unemp_insurance = lc_paras['unemp_insurance'],   #  unemp_insurance = 0.0,   \n",
    "                 pension = lc_paras['pension'],           \n",
    "                 ue_markov = False,    \n",
    "                 adjust_prob = 1.0,\n",
    "                 sigma_p_init = lc_paras['σ_ψ_init'],\n",
    "                 init_b = lc_paras['init_b'],\n",
    "                 λ = lc_paras['λ'],\n",
    "                 λ_SS = lc_paras['λ_SS'],\n",
    "                 transfer = lc_paras['transfer'],\n",
    "                 bequest_ratio = lc_paras['bequest_ratio']):  \n",
    "\n",
    "        np.random.seed(seed)  # arbitrary seed\n",
    "        \n",
    "        self.ρ, self.β = ρ, β\n",
    "        self.R = R \n",
    "        self.W = W\n",
    "        n_z = len(z_val)\n",
    "        self.P, self.z_val = P, z_val\n",
    "        n_mkv = len(sigma_n_2mkv)\n",
    "        assert n_z == n_mkv, \"the number of markov states for income and for risks should be equal\"\n",
    "        self.T,self.L = T,L\n",
    "        self.G = G\n",
    "        self.sigma_n = sigma_n\n",
    "        self.x = x\n",
    "        self.sigma_eps = sigma_eps\n",
    "        self.sigma_p_init = sigma_p_init\n",
    "        self.init_b = init_b\n",
    "        self.borrowing_cstr = borrowing_cstr\n",
    "        self.b_y = b_y\n",
    "        self.λ = λ\n",
    "        self.λ_SS= λ\n",
    "        self.transfer = transfer \n",
    "        self.bequest_ratio = bequest_ratio \n",
    "        self.sigma_n_2mkv = sigma_n_2mkv\n",
    "        self.sigma_eps_2mkv = sigma_eps_2mkv\n",
    "        self.LivPrb = LivPrb \n",
    "        self.unemp_insurance = unemp_insurance\n",
    "        self.pension = pension \n",
    "        self.ue_markov = ue_markov\n",
    "        self.adjust_prob = adjust_prob\n",
    "        \n",
    "        \n",
    "        ## shocks \n",
    "        \n",
    "        self.shock_draw_size = shock_draw_size\n",
    "        \n",
    "        ## these codes use equalprob discretized distributions at the cost of not being jittable \n",
    "        \n",
    "        #mu_n = -sigma_n**2/2\n",
    "        #mu_eps = -sigma_eps**2/2\n",
    "        #theta_n = stats.lognorm(sigma_n, 0, np.exp(mu_n))    # Create \"frozen\" distribution instance\n",
    "        #theta_eps = stats.lognorm(sigma_eps, 0, np.exp(mu_eps)) # Create \"frozen\" distribution instance\n",
    "        #self.n_shk_draws = DiscreteApproximation(N = shock_draw_size, \n",
    "        #                                         cdf=theta_n.cdf, \n",
    "        #                                         pdf=theta_n.pdf, \n",
    "        #                                         invcdf=theta_n.ppf)\n",
    "        #self.eps_shk_draws = DiscreteApproximation(N = shock_draw_size, \n",
    "        #                                         cdf=theta_eps.cdf, \n",
    "        #                                         pdf=theta_eps.pdf, \n",
    "        #                                         invcdf=theta_eps.ppf)\n",
    "        \n",
    "        \n",
    "        ## draw shocks for constant volatility scenario\n",
    "        self.n_shk_draws = sigma_n*np.random.randn(shock_draw_size)-sigma_n**2/2\n",
    "        self.eps_shk_draws = sigma_eps*np.random.randn(shock_draw_size)-sigma_eps**2/2\n",
    "        self.init_p_draws = sigma_p_init*np.random.randn(shock_draw_size)-sigma_p_init**2/2\n",
    "        \n",
    "        ## draw shocks for stochastic volatility scenario\n",
    "        sigma_n_2mkv_r = sigma_n_2mkv.reshape(n_mkv,-1)\n",
    "        sigma_eps_2mkv_r = sigma_eps_2mkv.reshape(n_mkv,-1)\n",
    "        \n",
    "        self.n_shk_mkv_draws = sigma_n_2mkv_r*np.random.randn(shock_draw_size)-sigma_n_2mkv_r**2/2\n",
    "        self.eps_shk_mkv_draws = sigma_eps_2mkv_r*np.random.randn(shock_draw_size)-sigma_eps_2mkv_r**2/2\n",
    "\n",
    "        \n",
    "        ## ma(1) shock grid \n",
    "        lb_sigma_ϵ = -sigma_eps**2/2-2*sigma_eps\n",
    "        ub_sigma_ϵ = -sigma_eps**2/2+2*sigma_eps\n",
    "        self.eps_grid = np.linspace(lb_sigma_ϵ,ub_sigma_ϵ,grid_size)\n",
    "        \n",
    "        ## saving grid\n",
    "        self.s_grid = np.exp(np.linspace(np.log(1e-6), np.log(grid_max), grid_size))\n",
    "       \n",
    "       \n",
    "        ## extrapolaton coefficient, i.e. higher theta, higher asymmetric response\n",
    "        self.theta = theta\n",
    "        \n",
    "        # Test stability \n",
    "        ## this is for infinite horizon problem \n",
    "        #assert β * R < 1, \"Stability condition failed.\"\n",
    "\n",
    "    ## utility function \n",
    "    def u(self,c):\n",
    "        return c**(1-self.ρ)/(1-ρ)\n",
    "    \n",
    "    # Marginal utility\n",
    "    def u_prime(self, c):\n",
    "        return c**(-self.ρ)\n",
    "\n",
    "    # Inverse of marginal utility\n",
    "    def u_prime_inv(self, c):\n",
    "        return c**(-1/self.ρ)\n",
    "    \n",
    "    ## value function \n",
    "    def V(self,m):\n",
    "        return None\n",
    "\n",
    "    def Y(self, z, u_shk):\n",
    "        #from the transitory/ma shock and ue realization  to the income factor\n",
    "        if self.ue_markov ==False:\n",
    "            ## z state continuously loading to inome\n",
    "            ## u_shk here represents the cumulated MA shock, for instance, for ma(1), u_shk = phi eps_(t-1) + eps_t\n",
    "            ## income \n",
    "            return np.exp(u_shk + (z * self.b_y))\n",
    "        elif self.ue_markov ==True:\n",
    "            assert len(self.P)==2,\"unemployment/employment markov has to be 2 state markov\"\n",
    "            return (z==0)*(self.unemp_insurance) + (z==1)*np.exp(u_shk)\n",
    "\n",
    "    def Γ(self,n_shk):\n",
    "        ## from the permanent shock to the income factor\n",
    "        return np.exp(n_shk)"
   ]
  },
  {
   "cell_type": "code",
   "execution_count": 7,
   "metadata": {
    "code_folding": [
     5
    ]
   },
   "outputs": [],
   "source": [
    "## this function takes the consumption values at different grids of state \n",
    "###   variables from period t+1, and model class \n",
    "### and generates the consumption values at t \n",
    "\n",
    "@njit\n",
    "def EGM(aϵ_in,\n",
    "      σ_in,\n",
    "      t, ## the period for which the c policy is computed \n",
    "      lc):\n",
    "    \"\"\"\n",
    "    The Coleman--Reffett operator for the life-cycle consumption problem,\n",
    "    using the endogenous grid method.\n",
    "\n",
    "        * lc is an instance of life cycle model\n",
    "        * σ_in is a n1 x n2 x n3 dimension consumption policy \n",
    "          * n1 = dim(s), n2 = dim(eps), n3 = dim(z)\n",
    "        * aϵ_in is the same sized grid points of the three state variable \n",
    "        * aϵ_in[:,j,z] is the vector of asset grids corresponding to j-th grid of eps and z-th grid of z \n",
    "        * σ_in[i,j,z] is consumption at aϵ_in[i,j,z]\n",
    "    \"\"\"\n",
    "\n",
    "    # Simplify names\n",
    "    u_prime, u_prime_inv = lc.u_prime, lc.u_prime_inv\n",
    "    R, ρ, P, β = lc.R, lc.ρ, lc.P, lc.β\n",
    "    W = lc.W\n",
    "    z_val = lc.z_val\n",
    "    s_grid,eps_grid = lc.s_grid,lc.eps_grid\n",
    "    n_shk_draws, eps_shk_draws= lc.n_shk_draws, lc.eps_shk_draws\n",
    "    borrowing_cstr = lc.borrowing_cstr \n",
    "    ue_prob = lc.U  ## uemp prob\n",
    "    LivProb = lc.LivPrb  ## live probabilituy \n",
    "    unemp_insurance = lc.unemp_insurance\n",
    "    ue_markov = lc.ue_markov            ## bool for 2-state markov transition probability \n",
    "    adjust_prob = lc.adjust_prob  ## exogenous adjustment probability \n",
    "     \n",
    "    Y = lc.Y\n",
    "    ####################\n",
    "    ρ = lc.ρ\n",
    "    Γ = lc.Γ\n",
    "    ####################################\n",
    "    G = lc.G[t+1]  ## get the age specific \n",
    "    ####################################\n",
    "\n",
    "    x = lc.x\n",
    "    λ = lc.λ\n",
    "    λ_SS = lc.λ_SS\n",
    "    transfer = lc.transfer\n",
    "    \n",
    "    ###################\n",
    "    \n",
    "    n = len(P)\n",
    "\n",
    "    # Create consumption function by linear interpolation\n",
    "    ########################################################\n",
    "    σ = lambda a,ϵ,z: mlinterp((aϵ_in[:,0,z],eps_grid),σ_in[:,:,z], (a,ϵ)) \n",
    "    ########## need to replace with multiinterp \n",
    "\n",
    "    # Allocate memory\n",
    "    σ_out = np.empty_like(σ_in)  ## grid_size_s X grid_size_ϵ X grid_size_z\n",
    "\n",
    "    # Obtain c_i at each s_i, z, store in σ_out[i, z], computing\n",
    "    # the expectation term by Monte Carlo\n",
    "    for i, s in enumerate(s_grid):\n",
    "        for j, eps in enumerate(eps_grid):\n",
    "            for z in range(n):\n",
    "                # Compute expectation\n",
    "                Ez = 0.0\n",
    "                for z_hat in range(n):\n",
    "                    z_val_hat = z_val[z_hat]\n",
    "                    for eps_shk in eps_shk_draws:\n",
    "                        for n_shk in n_shk_draws:\n",
    "                            ## for employed next period \n",
    "                            Γ_hat = Γ(n_shk) \n",
    "                            u_shk = x*eps+eps_shk\n",
    "                            if t <=lc.T-1:\n",
    "                                ## work \n",
    "                                Y_hat = (1-λ)*(1-λ_SS)*Y(z_val_hat,u_shk) ## conditional on being employed \n",
    "                                c_hat = σ(R/(G*Γ_hat) * s + Y_hat+transfer/(G*Γ_hat),eps_shk,z_hat)\n",
    "                                utility = (G*Γ_hat)**(1-ρ)*u_prime(c_hat)\n",
    "\n",
    "                                ## for unemployed next period\n",
    "                                Y_hat_u = (1-λ)*unemp_insurance\n",
    "                                c_hat_u = σ(R/(G*Γ_hat) * s + Y_hat_u+transfer/(G*Γ_hat),eps_shk,z_hat)\n",
    "                                utility_u = (G*Γ_hat)**(1-ρ)*u_prime(c_hat_u)\n",
    "                            \n",
    "                                Ez += LivProb*((1-ue_prob)*utility * P[z, z_hat]+\n",
    "                                           ue_prob*utility_u* P[z, z_hat]\n",
    "                                          )\n",
    "                            else:\n",
    "                                ## retirement\n",
    "                                Y_R = lc.pension\n",
    "                                c_hat = σ(R/(G*Γ_hat) * s + (Y_R+transfer)/(G*Γ_hat),eps_shk,z_hat)\n",
    "                                utility = (G*Γ_hat)**(1-ρ)*u_prime(c_hat)\n",
    "                                Ez += LivProb*utility * P[z, z_hat]\n",
    "                            \n",
    "                Ez = Ez / (len(n_shk_draws)*len(eps_shk_draws))\n",
    "                ## the last step depends on if adjustment is fully flexible\n",
    "                if adjust_prob ==1.0:\n",
    "                    σ_out[i, j, z] =  u_prime_inv(β * R* Ez)\n",
    "                elif adjust_prob <1.0:\n",
    "                    σ_out[i, j, z] =  adjust_prob/(1-LivProb*β*R*(1-adjust_prob))*u_prime_inv(β * R* Ez)\n",
    "\n",
    "    # Calculate endogenous asset grid\n",
    "    aϵ_out = np.empty_like(σ_out)\n",
    "\n",
    "    for j,ϵ in enumerate(eps_grid):\n",
    "        for z in range(n):\n",
    "            aϵ_out[:,j,z] = s_grid + σ_out[:,j,z]\n",
    "\n",
    "    # Fixing a consumption-asset pair at for the constraint region\n",
    "    for j,ϵ in enumerate(eps_grid):\n",
    "        for z in range(n):\n",
    "            if borrowing_cstr==True:  ## either hard constraint is zero or positive probability of losing job\n",
    "                σ_out[0,j,z] = 0.0\n",
    "                aϵ_out[0,j,z] = 0.0\n",
    "            #elif borrowing_cstr==False and ue_markov==True:\n",
    "            #    σ_out[0,j,z] = 0.0\n",
    "            #    aϵ_out[0,j,z] = min(0.0,-unemp_insurance/R)\n",
    "            else:\n",
    "                σ_out[0,j,z] = 0.0\n",
    "                self_min_a = - np.exp(np.min(eps_grid))*G/R\n",
    "                self_min_a = min(self_min_a,-unemp_insurance/R)\n",
    "                aϵ_out[0,j,z] = self_min_a\n",
    "\n",
    "    return aϵ_out, σ_out"
   ]
  },
  {
   "cell_type": "code",
   "execution_count": 6,
   "metadata": {
    "code_folding": [
     4
    ]
   },
   "outputs": [],
   "source": [
    "## the operator under markov stochastic risks \n",
    "## now the permanent and transitory risks are different between a good macro and bad macro state \n",
    "\n",
    "@njit\n",
    "def EGM_sv(aϵ_in, \n",
    "         σ_in, \n",
    "         t,\n",
    "         lc):\n",
    "    \"\"\"\n",
    "    The Coleman--Reffett operator for the life-cycle consumption problem,\n",
    "    using the endogenous grid method.\n",
    "\n",
    "        * lc is an instance of life cycle model\n",
    "        * σ_in is a n1 x n2 x n3 dimension consumption policy \n",
    "          * n1 = dim(s), n2 = dim(eps), n3 = dim(z)\n",
    "        * aϵ_in is the same sized grid points of the three state variable \n",
    "        * aϵ_in[:,j,z] is the vector of asset grids corresponding to j-th grid of eps and z-th grid of z \n",
    "        * σ_in[i,j,z] is consumption at aϵ_in[i,j,z]\n",
    "    \"\"\"\n",
    "\n",
    "    # Simplify names\n",
    "    u_prime, u_prime_inv = lc.u_prime, lc.u_prime_inv\n",
    "    R, ρ, P, β = lc.R, lc.ρ, lc.P, lc.β\n",
    "    z_val = lc.z_val\n",
    "    s_grid,eps_grid = lc.s_grid,lc.eps_grid\n",
    "    n_shk_draws, eps_shk_draws= lc.n_shk_draws, lc.eps_shk_draws\n",
    "    borrowing_cstr = lc.borrowing_cstr\n",
    "    ue_prob = lc.U  ## uemp prob\n",
    "    unemp_insurance = lc.unemp_insurance\n",
    "    LivProb = lc.LivPrb  ## live probabilituy\n",
    "    ue_markov = lc.ue_markov\n",
    "    n_shk_mkv_draws, eps_shk_mkv_draws = lc.n_shk_mkv_draws, lc.eps_shk_mkv_draws \n",
    "    adjust_prob = lc.adjust_prob  ## exogenous adjustment probability \n",
    "    Y = lc.Y\n",
    "    ####################\n",
    "    ρ = lc.ρ\n",
    "    Γ = lc.Γ\n",
    "    ####################################\n",
    "    G = lc.G[t+1]  ## get the age specific \n",
    "    ####################################    \n",
    "    x = lc.x\n",
    "    λ = lc.λ\n",
    "    transfer = lc.transfer\n",
    "    pension = lc.pension\n",
    "    \n",
    "    ###################\n",
    "    T = lc.T\n",
    "    L = lc.L\n",
    "    \n",
    "    ###################\n",
    "    n = len(P)\n",
    "\n",
    "    # Create consumption function by linear interpolation\n",
    "    ########################################################\n",
    "    σ = lambda a,ϵ,z: mlinterp((aϵ_in[:,0,z],eps_grid),σ_in[:,:,z], (a,ϵ)) \n",
    "    ########## need to replace with multiinterp \n",
    "\n",
    "    # Allocate memory\n",
    "    σ_out = np.empty_like(σ_in)  ## grid_size_s X grid_size_ϵ X grid_size_z\n",
    "\n",
    "    # Obtain c_i at each s_i, z, store in σ_out[i, z], computing\n",
    "    # the expectation term by Monte Carlo\n",
    "    for i, s in enumerate(s_grid):\n",
    "        for j, eps in enumerate(eps_grid):\n",
    "            for z in range(n):\n",
    "                # Compute expectation\n",
    "                Ez = 0.0\n",
    "                for z_hat in range(n):\n",
    "                    z_val_hat = z_val[z_hat]\n",
    "                    n_shk_draws = n_shk_mkv_draws[z_hat,:]\n",
    "                    eps_shk_draws = eps_shk_mkv_draws[z_hat,:]\n",
    "                    for eps_shk in eps_shk_draws:\n",
    "                        for n_shk in n_shk_draws:\n",
    "                            Γ_hat = Γ(n_shk) \n",
    "                            u_shk = x*eps+eps_shk\n",
    "                            if t <=lc.T-1:\n",
    "                                # work  \n",
    "                                Y_hat = (1-λ)*Y(z_val_hat,u_shk) ## conditional on being employed \n",
    "                                c_hat = σ(R/(G*Γ_hat) * s + Y_hat+transfer/(G*Γ_hat),eps_shk,z_hat)\n",
    "                                utility = (G*Γ_hat)**(1-ρ)*u_prime(c_hat)\n",
    "\n",
    "                                ## for unemployed next period\n",
    "                                Y_hat_u = (1-λ)*unemp_insurance\n",
    "                                c_hat_u = σ(R/(G*Γ_hat) * s + Y_hat_u+transfer/(G*Γ_hat),eps_shk,z_hat)\n",
    "                                utility_u = (G*Γ_hat)**(1-ρ)*u_prime(c_hat_u)\n",
    "                                Ez += LivProb*((1-ue_prob)*utility * P[z, z_hat]+\n",
    "                                               ue_prob*utility_u* P[z, z_hat]\n",
    "                                              )\n",
    "                            else:\n",
    "                                ## retirement\n",
    "                                Y_R = lc.pension\n",
    "                                c_hat = σ(R/(G*Γ_hat) * s + (Y_R+transfer)/(G*Γ_hat),eps_shk,z_hat)\n",
    "                                utility = (G*Γ_hat)**(1-ρ)*u_prime(c_hat)\n",
    "                                Ez += LivProb*utility * P[z, z_hat]\n",
    "                Ez = Ez / (len(n_shk_draws)*len(eps_shk_draws))\n",
    "                ## the last step depends on if adjustment is fully flexible\n",
    "                if adjust_prob ==1.0:\n",
    "                    σ_out[i, j, z] =  u_prime_inv(β * R* Ez)\n",
    "                elif adjust_prob <=1.0:\n",
    "                    σ_out[i, j, z] =  adjust_prob/(1-β*R*(1-adjust_prob))*u_prime_inv(β * R* Ez)\n",
    "\n",
    "    # Calculate endogenous asset grid\n",
    "    aϵ_out = np.empty_like(σ_out)\n",
    "                \n",
    "    for j,ϵ in enumerate(eps_grid):\n",
    "        for z in range(n):\n",
    "            aϵ_out[:,j,z] = s_grid + σ_out[:,j,z]\n",
    "\n",
    "    # Fixing a consumption-asset pair at (0, 0) improves interpolation\n",
    "    for j,ϵ in enumerate(eps_grid):\n",
    "        for z in range(n):\n",
    "            if borrowing_cstr==True:  ## either hard constraint is zero or positive probability of losing job\n",
    "                σ_out[0,j,z] = 0.0\n",
    "                aϵ_out[0,j,z] = 0.0\n",
    "            #elif borrowing_cstr==True or ue_markov==True:\n",
    "            #    print('case2')\n",
    "            #    σ_out[0,j,z] = 0.0\n",
    "            #    aϵ_out[0,j,z] = min(0.0,-unemp_insurance/R)\n",
    "            else:\n",
    "                if t <=T-1:\n",
    "                    σ_out[0,j,z] = 0.0\n",
    "                    self_min_a = - np.exp(np.min(eps_grid))*G/R\n",
    "                    self_min_a = min(self_min_a,-unemp_insurance/R)\n",
    "                    aϵ_out[0,j,z] = self_min_a\n",
    "                else:\n",
    "                    σ_out[0,j,z] = 0.0\n",
    "                    self_min_a = - pension*G/R\n",
    "                    aϵ_out[0,j,z] = self_min_a\n",
    "\n",
    "\n",
    "    return aϵ_out, σ_out"
   ]
  },
  {
   "cell_type": "code",
   "execution_count": 7,
   "metadata": {
    "code_folding": [
     3
    ]
   },
   "outputs": [],
   "source": [
    "## this function describes assymetric extrapolative rule from realized income shock to the perceived risk \n",
    "\n",
    "@njit\n",
    "def extrapolate(theta,\n",
    "                x,\n",
    "                eps_shk):\n",
    "    \"\"\"\n",
    "    extrapolation function from realized eps_shk from unbiased risk x to the subjective risk x_sub\n",
    "    x_sub = x when eps_shk = 0  \n",
    "    theta governs the degree of extrapolation \n",
    "    \"\"\"\n",
    "    if x ==0.0:\n",
    "        alpha=0.0\n",
    "    else:\n",
    "        alpha=np.log((1-x)/x) ## get the alpha for unbiased x\n",
    "    x_sub = 1/(1+np.exp(alpha-theta*eps_shk))\n",
    "    return x_sub"
   ]
  },
  {
   "cell_type": "code",
   "execution_count": 8,
   "metadata": {
    "code_folding": [
     4
    ]
   },
   "outputs": [],
   "source": [
    "## subjective agent\n",
    "### transitory shock affects risk perceptions\n",
    "\n",
    "@njit\n",
    "def EGM_br(aϵ_in, \n",
    "         σ_in, \n",
    "         t,\n",
    "         lc):\n",
    "    \"\"\"\n",
    "    UNDER BOUNDED RATIONALITY assumption\n",
    "    The Coleman--Reffett operator for the life-cycle consumption problem. \n",
    "    using the endogenous grid method.\n",
    "\n",
    "        * lc is an instance of life cycle model\n",
    "        * σ_in is a n1 x n2 x n3 dimension consumption policy \n",
    "          * n1 = dim(s), n2 = dim(eps), n3 = dim(z)\n",
    "        * aϵ_in is the same sized grid points of the three state variable \n",
    "        * aϵ_in[:,j,z] is the vector of asset grids corresponding to j-th grid of eps and z-th grid of z \n",
    "        * σ_in[i,j,z] is consumption at aϵ_in[i,j,z]\n",
    "    \"\"\"\n",
    "\n",
    "    # Simplify names\n",
    "    u_prime, u_prime_inv = lc.u_prime, lc.u_prime_inv\n",
    "    R, ρ, P, β = lc.R, lc.ρ, lc.P, lc.β\n",
    "    z_val = lc.z_val\n",
    "    s_grid,eps_grid = lc.s_grid,lc.eps_grid\n",
    "    n_shk_draws, eps_shk_draws= lc.n_shk_draws, lc.eps_shk_draws\n",
    "    borrowing_cstr = lc.borrowing_cstr\n",
    "    ue_prob = lc.U  ## uemp prob\n",
    "    unemp_insurance = lc.unemp_insurance\n",
    "    LivProb = lc.LivPrb  ## live probabilituy\n",
    "    ue_markov = lc.ue_markov\n",
    "    adjust_prob = lc.adjust_prob  ## exogenous adjustment probability \n",
    "    Y = lc.Y\n",
    "    ####################\n",
    "    ρ = lc.ρ\n",
    "    Γ = lc.Γ\n",
    "    G = lc.G\n",
    "    ####################################\n",
    "    G = lc.G[t+1]  ## get the age specific \n",
    "    ####################################  \n",
    "    x = lc.x\n",
    "    λ = lc.λ\n",
    "    transfer = lc.transfer\n",
    "    pension = lc.pension\n",
    "    \n",
    "    ###################\n",
    "    T = lc.T\n",
    "    L = lc.L\n",
    "    \n",
    "    ###################\n",
    "    theta = lc.theta \n",
    "    sigma_eps = lc.sigma_eps\n",
    "    eps_mean = -sigma_eps**2/2\n",
    "    ###################\n",
    "    \n",
    "    n = len(P)\n",
    "\n",
    "    # Create consumption function by linear interpolation\n",
    "    ########################################################\n",
    "    σ = lambda a,ϵ,z: mlinterp((aϵ_in[:,0,z],eps_grid),σ_in[:,:,z], (a,ϵ)) \n",
    "    ########## need to replace with multiinterp \n",
    "\n",
    "    # Allocate memory\n",
    "    σ_out = np.empty_like(σ_in)  ## grid_size_s X grid_size_ϵ X grid_size_z\n",
    "\n",
    "    # Obtain c_i at each s_i, z, store in σ_out[i, z], computing\n",
    "    # the expectation term by Monte Carlo\n",
    "    for i, s in enumerate(s_grid):\n",
    "        for j, eps in enumerate(eps_grid):\n",
    "            ##############################################################\n",
    "            #x_sj = extrapolate(theta,\n",
    "            #                   lc.x,\n",
    "            #                   eps-eps_mean) ## sj: subjective \n",
    "            sigma_eps_sj = 0.05*np.sqrt((eps-eps_mean)**2)+0.95*lc.sigma_eps\n",
    "            np.random.seed(166789)\n",
    "            eps_shk_draws_sj = sigma_eps_sj*np.random.randn(lc.shock_draw_size)-sigma_eps_sj**2/2\n",
    "            #############################################################\n",
    "            for z in range(n):\n",
    "                # Compute expectation\n",
    "                Ez = 0.0\n",
    "                for z_hat in range(n):\n",
    "                    z_val_hat = z_val[z_hat]\n",
    "                    ################################\n",
    "                    for eps_shk in eps_shk_draws_sj:\n",
    "                        ############################\n",
    "                        for n_shk in n_shk_draws:\n",
    "                            Γ_hat = Γ(n_shk) \n",
    "                            ###############\n",
    "                            u_shk = x*eps+eps_shk\n",
    "                            ####################\n",
    "                            if t <=lc.T-1:\n",
    "                                # work  \n",
    "                                Y_hat = (1-λ)*Y(z_val_hat,u_shk) ## conditional on being employed \n",
    "                                c_hat = σ(R/(G*Γ_hat) * s + Y_hat+transfer/(G*Γ_hat),eps_shk,z_hat)\n",
    "                                utility = (G*Γ_hat)**(1-ρ)*u_prime(c_hat)\n",
    "\n",
    "                                ## for unemployed next period\n",
    "                                Y_hat_u = (1-λ)*unemp_insurance\n",
    "                                c_hat_u = σ(R/(G*Γ_hat) * s + Y_hat_u+transfer/(G*Γ_hat) ,eps_shk,z_hat)\n",
    "                                utility_u = (G*Γ_hat)**(1-ρ)*u_prime(c_hat_u)\n",
    "                                Ez += LivProb*((1-ue_prob)*utility * P[z, z_hat]+\n",
    "                                               ue_prob*utility_u* P[z, z_hat]\n",
    "                                              )\n",
    "                            else:\n",
    "                                ## retirement\n",
    "                                Y_R = lc.pension\n",
    "                                c_hat = σ(R/(G*Γ_hat) * s + (Y_R+transfer)/(G*Γ_hat),eps_shk,z_hat)\n",
    "                                utility = (G*Γ_hat)**(1-ρ)*u_prime(c_hat)\n",
    "                                Ez += LivProb*utility * P[z, z_hat]\n",
    "                Ez = Ez / (len(n_shk_draws)*len(eps_shk_draws_sj))\n",
    "                ## the last step depends on if adjustment is fully flexible\n",
    "                if adjust_prob ==1.0:\n",
    "                    σ_out[i, j, z] =  u_prime_inv(β * R* Ez)\n",
    "                elif adjust_prob <=1.0:\n",
    "                    σ_out[i, j, z] =  adjust_prob/(1-β*R*(1-adjust_prob))*u_prime_inv(β * R* Ez)\n",
    "\n",
    "    # Calculate endogenous asset grid\n",
    "    aϵ_out = np.empty_like(σ_out)\n",
    "            \n",
    "    for j,ϵ in enumerate(eps_grid):\n",
    "        for z in range(n):\n",
    "            aϵ_out[:,j,z] = s_grid + σ_out[:,j,z]\n",
    "\n",
    "    # Fixing a consumption-asset pair at (0, 0) improves interpolation\n",
    "    for j,ϵ in enumerate(eps_grid):\n",
    "        for z in range(n):\n",
    "            if borrowing_cstr==True:  ## either hard constraint is zero or positive probability of losing job\n",
    "                σ_out[0,j,z] = 0.0\n",
    "                aϵ_out[0,j,z] = 0.0\n",
    "            #elif borrowing_cstr==True or ue_markov==True:\n",
    "            #    σ_out[0,j,z] = 0.0\n",
    "            #    aϵ_out[0,j,z] = min(0.0,-unemp_insurance/R)\n",
    "            else:\n",
    "                if t <=T-1:\n",
    "                    σ_out[0,j,z] = 0.0\n",
    "                    self_min_a = - np.exp(np.min(eps_grid))*G/R\n",
    "                    self_min_a = min(self_min_a,-unemp_insurance/R)\n",
    "                    aϵ_out[0,j,z] = self_min_a\n",
    "                else:\n",
    "                    σ_out[0,j,z] = 0.0\n",
    "                    self_min_a = - pension*G/R\n",
    "                    aϵ_out[0,j,z] = self_min_a\n",
    "\n",
    "    return aϵ_out, σ_out"
   ]
  },
  {
   "cell_type": "code",
   "execution_count": 50,
   "metadata": {
    "code_folding": [
     1
    ]
   },
   "outputs": [],
   "source": [
    "## for life-cycle/finite horizon problem \n",
    "def solve_model_backward_iter(model,        # Class with model information\n",
    "                                  aϵ_vec,        # Initial condition for assets and MA shocks\n",
    "                                  σ_vec,        # Initial condition for consumption\n",
    "                                  br = False,\n",
    "                                  sv = False):\n",
    "\n",
    "    ## memories for life-cycle solutions \n",
    "    n_grids1 = σ_vec.shape[0]\n",
    "    n_grids2 =σ_vec.shape[1]\n",
    "    n_z = len(model.P)                       \n",
    "    aϵs_new =  np.empty((model.L,n_grids1,n_grids2,n_z),dtype = np.float64)\n",
    "    σs_new =  np.empty((model.L,n_grids1,n_grids2,n_z),dtype = np.float64)\n",
    "    \n",
    "    aϵs_new[0,:,:,:] = aϵ_vec\n",
    "    σs_new[0,:,:,:] = σ_vec\n",
    "    \n",
    "    for year2L in range(1,model.L): ## nb of years till L from 0 to Model.L-2\n",
    "        age = model.L-year2L\n",
    "        age_id = age-1\n",
    "        print(\"at work age of \"+str(age))\n",
    "        aϵ_vec_next, σ_vec_next = aϵs_new[year2L-1,:,:,:],σs_new[year2L-1,:,:,:]\n",
    "        if br==False:\n",
    "            if sv ==False:\n",
    "                print('objective model without stochastic risk')\n",
    "                aϵ_new, σ_new =EGM(aϵ_vec_next, σ_vec_next, age_id, model)\n",
    "            else:\n",
    "                print('objective model with stochastic risk')\n",
    "                aϵ_new, σ_new = EGM_sv(aϵ_vec_next, σ_vec_next, age_id, model)\n",
    "        elif br==True:\n",
    "            print('subjective model with stochastic risk')\n",
    "            aϵ_new, σ_new = EGM_br(aϵ_vec_next, σ_vec_next, age_id, model)\n",
    "        aϵs_new[year2L,:,:,:] = aϵ_new\n",
    "        σs_new[year2L,:,:,:] = σ_new\n",
    "\n",
    "    return aϵs_new, σs_new"
   ]
  },
  {
   "cell_type": "code",
   "execution_count": 51,
   "metadata": {
    "code_folding": [
     1
    ]
   },
   "outputs": [],
   "source": [
    "## for infinite horizon problem \n",
    "def solve_model_iter(model,        # Class with model information\n",
    "                     ae_vec,        # Initial condition for assets and MA shocks\n",
    "                     σ_vec,        # Initial condition for consumption\n",
    "                      tol=1e-6,\n",
    "                      max_iter=2000,\n",
    "                      verbose=True,\n",
    "                      print_skip=50,\n",
    "                      br = False,\n",
    "                      sv = False):\n",
    "\n",
    "    # Set up loop\n",
    "    i = 0\n",
    "    error = tol + 1\n",
    "\n",
    "    ## memories for life-cycle solutions \n",
    "    n_grids1 = σ_vec.shape[0]\n",
    "    n_grids2 =σ_vec.shape[1]\n",
    "    n_z = len(model.P)                       \n",
    "    \n",
    "    while i < max_iter and error > tol:\n",
    "        ae_new, σ_new = EGM(ae_vec, σ_vec, 0,model)\n",
    "        error = np.max(np.abs(σ_vec - σ_new))\n",
    "        i += 1\n",
    "        if verbose and i % print_skip == 0:\n",
    "            print(f\"Error at iteration {i} is {error}.\")\n",
    "        ae_vec, σ_vec = np.copy(ae_new), np.copy(σ_new)\n",
    "\n",
    "    if i == max_iter:\n",
    "        print(\"Failed to converge!\")\n",
    "\n",
    "    if verbose and i < max_iter:\n",
    "        print(f\"\\nConverged in {i} iterations.\")\n",
    "\n",
    "    return ae_vec, σ_vec"
   ]
  },
  {
   "cell_type": "markdown",
   "metadata": {},
   "source": [
    "## Initialize the model"
   ]
  },
  {
   "cell_type": "code",
   "execution_count": 52,
   "metadata": {
    "code_folding": [],
    "lines_to_next_cell": 2
   },
   "outputs": [],
   "source": [
    "## parameters \n",
    "###################\n",
    "\n",
    "U = 0.2 ## transitory ue risk\n",
    "U0 = 0.0 ## transitory ue risk\n",
    "unemp_insurance = 0.15\n",
    "pension = 1.0 ## pension\n",
    "sigma_n = 0.05 # permanent \n",
    "sigma_eps = 0.2 # transitory \n",
    "\n",
    "\n",
    "λ = 0.0  ## tax rate\n",
    "λ_SS = 0.0 ## social tax rate\n",
    "transfer = 0.0  ## transfer \n",
    "\n",
    "## life cycle \n",
    "\n",
    "T = 15\n",
    "L = 30\n",
    "TGPos = int(L/3) ## one third of life sees income growth \n",
    "GPos = 1.01*np.ones(TGPos)\n",
    "GNeg= 0.99*np.ones(L-TGPos)\n",
    "#G = np.concatenate([GPos,GNeg])\n",
    "G = np.ones(L)\n",
    "YPath = np.cumprod(G)\n",
    "\n",
    "\n",
    "## other parameters \n",
    "\n",
    "ρ = 2\n",
    "R = 1.01\n",
    "β = 0.97\n",
    "x = 0.0\n",
    "theta = 0.0 ## extrapolation parameter \n",
    "\n",
    "## no persistent state\n",
    "b_y = 0.0\n",
    "\n",
    "## wether to have zero borrowing constraint \n",
    "borrowing_cstr = True\n"
   ]
  },
  {
   "cell_type": "code",
   "execution_count": 53,
   "metadata": {},
   "outputs": [
    {
     "data": {
      "text/plain": [
       "Text(0, 0.5, '$\\\\hat Y$')"
      ]
     },
     "execution_count": 53,
     "metadata": {},
     "output_type": "execute_result"
    },
    {
     "data": {
      "image/png": "[encoded data removed]",
      "text/plain": [
       "<Figure size 432x288 with 1 Axes>"
      ]
     },
     "metadata": {
      "needs_background": "light"
     },
     "output_type": "display_data"
    }
   ],
   "source": [
    "## a deterministic income profile \n",
    "\n",
    "plt.title('Deterministic Life-cycle Income Profile \\n')\n",
    "plt.plot(YPath,'ro')\n",
    "plt.xlabel('Age')\n",
    "plt.ylabel(r'$\\hat Y$')"
   ]
  },
  {
   "cell_type": "markdown",
   "metadata": {},
   "source": [
    "## Life-Cycle Problem "
   ]
  },
  {
   "cell_type": "markdown",
   "metadata": {},
   "source": [
    "### Consumption  the last period "
   ]
  },
  {
   "cell_type": "code",
   "execution_count": 54,
   "metadata": {
    "code_folding": [
     3
    ]
   },
   "outputs": [
    {
     "data": {
      "text/plain": [
       "'\\n## this is the retirement consumption policy \\n\\ndef policyPF(β,\\n             ρ,\\n             R,\\n             T,\\n             L):\\n    c_growth = β**(1/ρ)*R**(1/ρ-1)\\n    return (1-c_growth)/(1-c_growth**(L-T))\\n    \\n'"
      ]
     },
     "execution_count": 54,
     "metadata": {},
     "output_type": "execute_result"
    }
   ],
   "source": [
    "\"\"\"\n",
    "## this is the retirement consumption policy \n",
    "\n",
    "def policyPF(β,\n",
    "             ρ,\n",
    "             R,\n",
    "             T,\n",
    "             L):\n",
    "    c_growth = β**(1/ρ)*R**(1/ρ-1)\n",
    "    return (1-c_growth)/(1-c_growth**(L-T))\n",
    "    \n",
    "\"\"\""
   ]
  },
  {
   "cell_type": "code",
   "execution_count": 55,
   "metadata": {
    "code_folding": [
     2
    ],
    "lines_to_next_cell": 2
   },
   "outputs": [],
   "source": [
    "## intialize a model instance\n",
    "\n",
    "lc = LifeCycle(sigma_n = sigma_n,\n",
    "               sigma_eps = sigma_eps,\n",
    "               U=U,\n",
    "               ρ=ρ,\n",
    "               R=R,\n",
    "               T=T,\n",
    "               L=L,\n",
    "               G=G,\n",
    "               β=β,\n",
    "               x=x,\n",
    "               theta=theta,\n",
    "               borrowing_cstr = borrowing_cstr,\n",
    "               b_y=b_y,\n",
    "               unemp_insurance = unemp_insurance,\n",
    "               pension = pension,\n",
    "               λ = λ,\n",
    "               λ_SS = λ_SS,\n",
    "               transfer = transfer)\n"
   ]
  },
  {
   "cell_type": "code",
   "execution_count": 56,
   "metadata": {
    "code_folding": [
     0
    ]
   },
   "outputs": [],
   "source": [
    "# Initial the end-of-period consumption policy of σ = consume all assets\n",
    "\n",
    "\n",
    "## initial consumption functions \n",
    "\n",
    "k = len(lc.s_grid)\n",
    "k2 =len(lc.eps_grid)\n",
    "\n",
    "n = len(lc.P)\n",
    "σ_init = np.empty((k,k2,n))\n",
    "a_init = np.empty((k,k2,n))\n",
    "\n",
    "for z in range(n):\n",
    "    for j in range(k2):\n",
    "        a_init[:,j,z] = lc.s_grid\n",
    "        σ_init[:,j,z] = a_init[:,j,z]"
   ]
  },
  {
   "cell_type": "code",
   "execution_count": 57,
   "metadata": {},
   "outputs": [
    {
     "data": {
      "text/plain": [
       "[<matplotlib.lines.Line2D at 0x7f8f583cd0d0>]"
      ]
     },
     "execution_count": 57,
     "metadata": {},
     "output_type": "execute_result"
    },
    {
     "data": {
      "image/png": "[encoded data removed]",
      "text/plain": [
       "<Figure size 432x288 with 1 Axes>"
      ]
     },
     "metadata": {
      "needs_background": "light"
     },
     "output_type": "display_data"
    }
   ],
   "source": [
    "plt.title('Consumption in the last period')\n",
    "plt.plot(a_init[:,1,1],\n",
    "         σ_init[:,1,1])"
   ]
  },
  {
   "cell_type": "markdown",
   "metadata": {},
   "source": [
    "### Without MA idiosyncratic income shock "
   ]
  },
  {
   "cell_type": "code",
   "execution_count": null,
   "metadata": {
    "code_folding": []
   },
   "outputs": [
    {
     "name": "stdout",
     "output_type": "stream",
     "text": [
      "at work age of 29\n",
      "objective model without stochastic risk\n",
      "at work age of 28\n",
      "objective model without stochastic risk\n",
      "at work age of 27\n",
      "objective model without stochastic risk\n",
      "at work age of 26\n",
      "objective model without stochastic risk\n",
      "at work age of 25\n",
      "objective model without stochastic risk\n",
      "at work age of 24\n",
      "objective model without stochastic risk\n",
      "at work age of 23\n",
      "objective model without stochastic risk\n",
      "at work age of 22\n",
      "objective model without stochastic risk\n",
      "at work age of 21\n",
      "objective model without stochastic risk\n",
      "at work age of 20\n",
      "objective model without stochastic risk\n",
      "at work age of 19\n",
      "objective model without stochastic risk\n",
      "at work age of 18\n",
      "objective model without stochastic risk\n",
      "at work age of 17\n",
      "objective model without stochastic risk\n",
      "at work age of 16\n",
      "objective model without stochastic risk\n",
      "at work age of 15\n",
      "objective model without stochastic risk\n",
      "at work age of 14\n",
      "objective model without stochastic risk\n",
      "at work age of 13\n",
      "objective model without stochastic risk\n",
      "at work age of 12\n",
      "objective model without stochastic risk\n",
      "at work age of 11\n",
      "objective model without stochastic risk\n",
      "at work age of 10\n",
      "objective model without stochastic risk\n"
     ]
    }
   ],
   "source": [
    "## solve the model for a range of ma(1) coefficients\n",
    "### x!=0, adds the transitory shock an additional state variable \n",
    "\n",
    "t_start = time()\n",
    "\n",
    "x_ls = [0.0]\n",
    "as_stars =[]\n",
    "σs_stars = []\n",
    "for i,x in enumerate(x_ls):\n",
    "    lc.x = x\n",
    "    as_star, σs_star = solve_model_backward_iter(lc,\n",
    "                                                 a_init,\n",
    "                                                 σ_init)\n",
    "    as_stars.append(as_star)\n",
    "    σs_stars.append(σs_star)\n",
    "    \n",
    "    \n",
    "\n",
    "t_finish = time()\n",
    "\n",
    "print(\"Time taken, in seconds: \"+ str(t_finish - t_start))"
   ]
  },
  {
   "cell_type": "code",
   "execution_count": null,
   "metadata": {
    "code_folding": []
   },
   "outputs": [],
   "source": [
    "## plot c func at different age /asset grid\n",
    "years_left = [0,1,2,3]\n",
    "\n",
    "n_sub = len(years_left)\n",
    "\n",
    "eps_ls = [1,10,20]\n",
    "\n",
    "as_star = as_stars[0]\n",
    "σs_star =σs_stars[0]\n",
    "\n",
    "fig,axes = plt.subplots(1,n_sub,figsize=(4*n_sub,4))\n",
    "\n",
    "for x,year in enumerate(years_left):\n",
    "    age = lc.L-year\n",
    "    i = lc.L-age\n",
    "    for y,eps in enumerate(eps_ls):\n",
    "        axes[x].plot(as_star[i,:,eps,0],\n",
    "                     σs_star[i,:,eps,0],\n",
    "                     label = str(round(lc.eps_grid[eps],2)),\n",
    "                     lw=3,\n",
    "                    )\n",
    "    axes[x].legend()\n",
    "    axes[x].set_xlabel('asset')\n",
    "    axes[0].set_ylabel('c')\n",
    "    axes[x].set_title(r'$age={}$'.format(age))"
   ]
  },
  {
   "cell_type": "code",
   "execution_count": 19,
   "metadata": {
    "code_folding": [],
    "lines_to_next_cell": 2
   },
   "outputs": [],
   "source": [
    "## interpolate consumption function on continuous s/eps grid \n",
    "\n",
    "#σs_list = []\n",
    "\n",
    "#for i in range(lc.L):\n",
    "#    this_σ= policyfuncMA(lc,\n",
    "#                         as_star[i,:,:,0],\n",
    "#                         σs_star[i,:,:,0])\n",
    "#    σs_list.append(this_σ)"
   ]
  },
  {
   "cell_type": "code",
   "execution_count": 20,
   "metadata": {
    "code_folding": []
   },
   "outputs": [
    {
     "data": {
      "text/plain": [
       "\"\\n## plot contour for policy function \\n\\na_grid = np.linspace(0.00001,5,20)\\neps_grid = lc.eps_grid\\naa,epss = np.meshgrid(a_grid,\\n                      eps_grid)\\n\\nσ_this = σs_list[3]\\nc_stars = σ_this(a_grid,\\n                 eps_grid)\\n\\ncp = plt.contourf(aa,epss,\\n                  c_stars)\\nplt.title(r'$c$')\\nplt.xlabel('wealth')\\nplt.ylabel('ma income shock')\\n\""
      ]
     },
     "execution_count": 20,
     "metadata": {},
     "output_type": "execute_result"
    }
   ],
   "source": [
    "\"\"\"\n",
    "## plot contour for policy function \n",
    "\n",
    "a_grid = np.linspace(0.00001,5,20)\n",
    "eps_grid = lc.eps_grid\n",
    "aa,epss = np.meshgrid(a_grid,\n",
    "                      eps_grid)\n",
    "\n",
    "σ_this = σs_list[3]\n",
    "c_stars = σ_this(a_grid,\n",
    "                 eps_grid)\n",
    "\n",
    "cp = plt.contourf(aa,epss,\n",
    "                  c_stars)\n",
    "plt.title(r'$c$')\n",
    "plt.xlabel('wealth')\n",
    "plt.ylabel('ma income shock')\n",
    "\"\"\""
   ]
  },
  {
   "cell_type": "code",
   "execution_count": 21,
   "metadata": {},
   "outputs": [
    {
     "data": {
      "text/plain": [
       "(30, 50, 50, 2)"
      ]
     },
     "execution_count": 21,
     "metadata": {},
     "output_type": "execute_result"
    }
   ],
   "source": [
    "## the size of consumption function is  T x nb_a x nb_eps x nb_z \n",
    "σs_star.shape"
   ]
  },
  {
   "cell_type": "code",
   "execution_count": 22,
   "metadata": {
    "code_folding": [],
    "lines_to_next_cell": 2
   },
   "outputs": [
    {
     "data": {
      "text/plain": [
       "\"\\n## plot 3d consumption function \\n#age,asset,inc_shk =σs_star[:,:,:,0]\\n\\nfig = plt.figure()\\nax = fig.add_subplot(111, projection='3d')\\nax.scatter(aa, epss, c_stars, zdir='z', c= 'red')\\nax.set_xlabel('wealth')\\nax.set_ylabel('inc shock')\\nax.set_title('consumption at a certain age')\\n\""
      ]
     },
     "execution_count": 22,
     "metadata": {},
     "output_type": "execute_result"
    }
   ],
   "source": [
    "\"\"\"\n",
    "## plot 3d consumption function \n",
    "#age,asset,inc_shk =σs_star[:,:,:,0]\n",
    "\n",
    "fig = plt.figure()\n",
    "ax = fig.add_subplot(111, projection='3d')\n",
    "ax.scatter(aa, epss, c_stars, zdir='z', c= 'red')\n",
    "ax.set_xlabel('wealth')\n",
    "ax.set_ylabel('inc shock')\n",
    "ax.set_title('consumption at a certain age')\n",
    "\"\"\""
   ]
  },
  {
   "cell_type": "code",
   "execution_count": 23,
   "metadata": {
    "code_folding": []
   },
   "outputs": [
    {
     "data": {
      "image/png": "[encoded data removed]",
      "text/plain": [
       "<Figure size 432x432 with 1 Axes>"
      ]
     },
     "metadata": {
      "needs_background": "light"
     },
     "output_type": "display_data"
    }
   ],
   "source": [
    "## plot 3d functions over life cycle \n",
    "\n",
    "ages = np.array(range(as_star.shape[0]))\n",
    "asset = as_star[0,:,10,0]\n",
    "xx, yy = np.meshgrid(ages, asset)\n",
    "c_stars = σs_star[:,:,10,0].T\n",
    "\n",
    "fig = plt.figure(figsize=(6,6))\n",
    "ax = fig.add_subplot(111, \n",
    "                     projection='3d')\n",
    "dem3d = ax.plot_surface(xx,\n",
    "                        yy,\n",
    "                        c_stars,\n",
    "                        rstride=1, \n",
    "                        cstride=1,\n",
    "                        cmap='viridis', \n",
    "                        edgecolor='none'\n",
    "                       )\n",
    "ax.set_title('consumption over the life cycle')\n",
    "ax.set_xlabel('years left')\n",
    "ax.set_ylabel('wealth')\n",
    "ax.view_init(30, 30)"
   ]
  },
  {
   "cell_type": "markdown",
   "metadata": {},
   "source": [
    "### Different ma persistence\n",
    "\n",
    "- could be either individual unemployment state or macroeconomic state\n"
   ]
  },
  {
   "cell_type": "code",
   "execution_count": 24,
   "metadata": {
    "code_folding": [
     3
    ]
   },
   "outputs": [
    {
     "data": {
      "text/plain": [
       "Text(0.5, 1.0, 'work age$=4$')"
      ]
     },
     "execution_count": 24,
     "metadata": {},
     "output_type": "execute_result"
    },
    {
     "data": {
      "image/png": "[encoded data removed]",
      "text/plain": [
       "<Figure size 432x288 with 1 Axes>"
      ]
     },
     "metadata": {
      "needs_background": "light"
     },
     "output_type": "display_data"
    }
   ],
   "source": [
    "at_age = 4\n",
    "at_asset_id = 20\n",
    "\n",
    "for i,x in enumerate(x_ls):\n",
    "    this_σs_star = σs_stars[i]\n",
    "    plt.plot(lc.eps_grid,\n",
    "             this_σs_star[lc.T-at_age,at_asset_id,:,0],\n",
    "             '-.',\n",
    "             label = r'$x={}$'.format(x),\n",
    "             lw=3)\n",
    "plt.legend(loc=0)\n",
    "plt.xlabel(r'$\\epsilon$')\n",
    "plt.ylabel(r'$c(a,\\epsilon,age)$')\n",
    "plt.title(r'work age$={}$'.format(at_age))"
   ]
  },
  {
   "cell_type": "markdown",
   "metadata": {},
   "source": [
    "\n"
   ]
  },
  {
   "cell_type": "markdown",
   "metadata": {},
   "source": [
    "### With a Markov/persistent state: good versus bad "
   ]
  },
  {
   "cell_type": "code",
   "execution_count": 25,
   "metadata": {
    "code_folding": [
     1
    ],
    "lines_to_next_cell": 2
   },
   "outputs": [],
   "source": [
    "## initialize another \n",
    "lc_ar = LifeCycle(sigma_n=sigma_n,\n",
    "                 sigma_eps = sigma_eps,\n",
    "                 U=U0,\n",
    "                 ρ=ρ,\n",
    "                 R=R,\n",
    "                 T=T,\n",
    "                 L=L,\n",
    "                 G=G,\n",
    "                 β=β,\n",
    "                 x=0.0,  ## shut down ma(1)\n",
    "                 theta=theta,\n",
    "                 borrowing_cstr = borrowing_cstr,\n",
    "                 b_y=1.0,\n",
    "                  unemp_insurance = unemp_insurance,\n",
    "                  pension = pension,\n",
    "                  λ = λ,\n",
    "                  transfer = transfer)"
   ]
  },
  {
   "cell_type": "code",
   "execution_count": 26,
   "metadata": {
    "code_folding": [
     8
    ]
   },
   "outputs": [
    {
     "name": "stdout",
     "output_type": "stream",
     "text": [
      "at work age of 29\n",
      "objective model without stochastic risk\n",
      "at work age of 28\n",
      "objective model without stochastic risk\n",
      "at work age of 27\n",
      "objective model without stochastic risk\n",
      "at work age of 26\n",
      "objective model without stochastic risk\n",
      "at work age of 25\n",
      "objective model without stochastic risk\n",
      "at work age of 24\n",
      "objective model without stochastic risk\n",
      "at work age of 23\n",
      "objective model without stochastic risk\n",
      "at work age of 22\n",
      "objective model without stochastic risk\n",
      "at work age of 21\n",
      "objective model without stochastic risk\n",
      "at work age of 20\n",
      "objective model without stochastic risk\n",
      "at work age of 19\n",
      "objective model without stochastic risk\n",
      "at work age of 18\n",
      "objective model without stochastic risk\n",
      "at work age of 17\n",
      "objective model without stochastic risk\n",
      "at work age of 16\n",
      "objective model without stochastic risk\n",
      "at work age of 15\n",
      "objective model without stochastic risk\n",
      "at work age of 14\n",
      "objective model without stochastic risk\n",
      "at work age of 13\n",
      "objective model without stochastic risk\n",
      "at work age of 12\n",
      "objective model without stochastic risk\n",
      "at work age of 11\n",
      "objective model without stochastic risk\n",
      "at work age of 10\n",
      "objective model without stochastic risk\n",
      "at work age of 9\n",
      "objective model without stochastic risk\n",
      "at work age of 8\n",
      "objective model without stochastic risk\n",
      "at work age of 7\n",
      "objective model without stochastic risk\n",
      "at work age of 6\n",
      "objective model without stochastic risk\n",
      "at work age of 5\n",
      "objective model without stochastic risk\n",
      "at work age of 4\n",
      "objective model without stochastic risk\n",
      "at work age of 3\n",
      "objective model without stochastic risk\n",
      "at work age of 2\n",
      "objective model without stochastic risk\n",
      "at work age of 1\n",
      "objective model without stochastic risk\n",
      "Time taken, in seconds: 87.0928680896759\n"
     ]
    }
   ],
   "source": [
    "## solve the model for different persistence \n",
    "t_start = time()\n",
    "\n",
    "\n",
    "ar_ls = [0.99]\n",
    "as_stars_ar=[]\n",
    "σs_stars_ar = []\n",
    "\n",
    "for i, ar in enumerate(ar_ls):\n",
    "    \n",
    "    ## tauchenize an ar1\n",
    "    #σ = 0.18\n",
    "    #constant = 0.00\n",
    "\n",
    "    #mc = qe.markov.approximation.tauchen(ar, σ, b=constant, m=3, n=7)\n",
    "    #z_ss_av = constant/(1-ar)\n",
    "    #z_ss_sd = σ*np.sqrt(1/(1-ar**2))\n",
    "    \n",
    "    ## feed the model with a markov matrix of macro state \n",
    "    #lc_ar.z_val, lc_ar.P = mc.state_values, mc.P\n",
    "    P = np.array([(0.8, 0.2),\n",
    "              (0.05, 0.95)])\n",
    "    lc_ar.P = P\n",
    "    \n",
    "    ## initial guess\n",
    "    k = len(lc_ar.s_grid)\n",
    "    k2 =len(lc_ar.eps_grid)\n",
    "    n = len(lc_ar.P)\n",
    "    \n",
    "    σ_init_ar = np.empty((k,k2,n))\n",
    "    a_init_ar = np.empty((k,k2,n))\n",
    "\n",
    "    for z in range(n):\n",
    "        for j in range(k2):\n",
    "            σ_init_ar[:,j,z] = 2*lc_ar.s_grid\n",
    "            a_init_ar[:,j,z] = 2*lc_ar.s_grid\n",
    "    \n",
    "    ## solve the model \n",
    "    as_star_ar, σs_star_ar = solve_model_backward_iter(lc_ar,\n",
    "                                                     a_init_ar,\n",
    "                                                     σ_init_ar)\n",
    "    as_stars_ar.append(as_star_ar)\n",
    "    σs_stars_ar.append(σs_star_ar)\n",
    "    \n",
    "\n",
    "t_finish = time()\n",
    "\n",
    "print(\"Time taken, in seconds: \"+ str(t_finish - t_start))"
   ]
  },
  {
   "cell_type": "code",
   "execution_count": 27,
   "metadata": {
    "code_folding": []
   },
   "outputs": [
    {
     "data": {
      "image/png": "[encoded data removed]",
      "text/plain": [
       "<Figure size 1152x288 with 4 Axes>"
      ]
     },
     "metadata": {
      "needs_background": "light"
     },
     "output_type": "display_data"
    }
   ],
   "source": [
    "## compare two markov states good versus bad \n",
    "\n",
    "years_left = [1,2,20,25]\n",
    "\n",
    "n_sub = len(years_left)\n",
    "\n",
    "\n",
    "eps_ls = [20]\n",
    "\n",
    "fig,axes = plt.subplots(1,n_sub,figsize=(4*n_sub,4))\n",
    "\n",
    "for x,year in enumerate(years_left):\n",
    "    age = lc_ar.L-year\n",
    "    i = lc_ar.L-age\n",
    "    for y,eps in enumerate(eps_ls):\n",
    "        axes[x].plot(as_stars_ar[0][i,:,y,0],\n",
    "                     σs_stars_ar[0][i,:,y,0],\n",
    "                     '--',\n",
    "                     label ='bad',\n",
    "                     lw=3)\n",
    "        axes[x].plot(as_stars_ar[0][i,:,y,1],\n",
    "                     σs_stars_ar[0][i,:,y,1],\n",
    "                     '-.',\n",
    "                     label ='good',\n",
    "                     lw=3)\n",
    "    axes[x].legend()\n",
    "    axes[x].set_xlabel('m')\n",
    "    axes[0].set_ylabel('c')\n",
    "    axes[x].set_title(r'c at $age={}$'.format(age))"
   ]
  },
  {
   "cell_type": "markdown",
   "metadata": {},
   "source": [
    "### State-dependent risks "
   ]
  },
  {
   "cell_type": "code",
   "execution_count": 28,
   "metadata": {
    "code_folding": [],
    "lines_to_next_cell": 2
   },
   "outputs": [],
   "source": [
    "## transition matrix between low and high risk state\n",
    "\n",
    "P = np.array([(0.5, 0.5),\n",
    "              (0.5, 0.5)])   # markov transition matricies \n",
    "\n",
    "ss_P = cal_ss_2markov(P)\n",
    "prob_l = P[0,0]\n",
    "prob_h = P[0,1]\n",
    "\n",
    "## keep average risks the same \n",
    "sigma_n_l = 0.01*sigma_n\n",
    "sigma_n_h = np.sqrt((sigma_n**2 - prob_l*sigma_n_l**2)/prob_h)\n",
    "\n",
    "sigma_eps_l = 0.1*sigma_eps\n",
    "sigma_eps_h = np.sqrt((sigma_eps**2 - prob_l*sigma_eps_l**2)/prob_h)\n",
    "sigma_n_2mkv = np.array([sigma_n_l,sigma_n_h]) \n",
    "sigma_eps_2mkv = np.array([sigma_eps_l,sigma_eps_h]) \n",
    "\n",
    "\n",
    "b_y = 0.0  ## set the macro state loading to be zero, i.e. only risks differ across two states"
   ]
  },
  {
   "cell_type": "code",
   "execution_count": 29,
   "metadata": {},
   "outputs": [
    {
     "name": "stdout",
     "output_type": "stream",
     "text": [
      "steady state is [0.5 0.5]\n",
      "transitory probability is [0.5 0.5]\n",
      "average permanent risk is 0.05 compared to objective model 0.05\n",
      "average transitory risk is 0.2 compared to objective model 0.2\n"
     ]
    }
   ],
   "source": [
    "## compute steady state \n",
    "av_sigma_n = np.sqrt(np.dot(P[0,:],sigma_n_2mkv**2))\n",
    "av_sigma_eps = np.sqrt(np.dot(P[0,:],sigma_eps_2mkv**2))\n",
    "print('steady state is '+str(ss_P))\n",
    "print('transitory probability is '+str(P[0,:]))\n",
    "print('average permanent risk is '+str(av_sigma_n)+' compared to objective model '+str(sigma_n))\n",
    "print('average transitory risk is '+str(av_sigma_eps)+' compared to objective model '+str(sigma_eps))"
   ]
  },
  {
   "cell_type": "code",
   "execution_count": 30,
   "metadata": {},
   "outputs": [
    {
     "name": "stdout",
     "output_type": "stream",
     "text": [
      "permanent risk state is [0.0005     0.07070891]\n",
      "transitory risk state is [0.02       0.28213472]\n"
     ]
    }
   ],
   "source": [
    "print('permanent risk state is '+str(sigma_n_2mkv))\n",
    "print('transitory risk state is '+str(sigma_eps_2mkv))"
   ]
  },
  {
   "cell_type": "code",
   "execution_count": 31,
   "metadata": {
    "code_folding": [
     2
    ],
    "lines_to_next_cell": 2
   },
   "outputs": [],
   "source": [
    "## another model instance \n",
    "\n",
    "lc_sv = LifeCycle(sigma_n = sigma_n,\n",
    "               sigma_eps = sigma_eps,\n",
    "               U=U,\n",
    "               ρ=ρ,\n",
    "               R=R,\n",
    "               T=T,\n",
    "               L=L,\n",
    "               G=G,\n",
    "               β=β,\n",
    "               x=x,\n",
    "               theta=theta,\n",
    "               sigma_n_2mkv = sigma_n_2mkv,\n",
    "               sigma_eps_2mkv = sigma_eps_2mkv,\n",
    "               borrowing_cstr = borrowing_cstr,\n",
    "               b_y=b_y,\n",
    "               unemp_insurance = unemp_insurance,\n",
    "               pension = pension,\n",
    "               λ = λ,\n",
    "               transfer = transfer)"
   ]
  },
  {
   "cell_type": "code",
   "execution_count": 32,
   "metadata": {
    "code_folding": [
     0,
     8
    ]
   },
   "outputs": [
    {
     "name": "stdout",
     "output_type": "stream",
     "text": [
      "at work age of 29\n",
      "objective model with stochastic risk\n",
      "at work age of 28\n",
      "objective model with stochastic risk\n",
      "at work age of 27\n",
      "objective model with stochastic risk\n",
      "at work age of 26\n",
      "objective model with stochastic risk\n",
      "at work age of 25\n",
      "objective model with stochastic risk\n",
      "at work age of 24\n",
      "objective model with stochastic risk\n",
      "at work age of 23\n",
      "objective model with stochastic risk\n",
      "at work age of 22\n",
      "objective model with stochastic risk\n",
      "at work age of 21\n",
      "objective model with stochastic risk\n",
      "at work age of 20\n",
      "objective model with stochastic risk\n",
      "at work age of 19\n",
      "objective model with stochastic risk\n",
      "at work age of 18\n",
      "objective model with stochastic risk\n",
      "at work age of 17\n",
      "objective model with stochastic risk\n",
      "at work age of 16\n",
      "objective model with stochastic risk\n",
      "at work age of 15\n",
      "objective model with stochastic risk\n",
      "at work age of 14\n",
      "objective model with stochastic risk\n",
      "at work age of 13\n",
      "objective model with stochastic risk\n",
      "at work age of 12\n",
      "objective model with stochastic risk\n",
      "at work age of 11\n",
      "objective model with stochastic risk\n",
      "at work age of 10\n",
      "objective model with stochastic risk\n",
      "at work age of 9\n",
      "objective model with stochastic risk\n",
      "at work age of 8\n",
      "objective model with stochastic risk\n",
      "at work age of 7\n",
      "objective model with stochastic risk\n",
      "at work age of 6\n",
      "objective model with stochastic risk\n",
      "at work age of 5\n",
      "objective model with stochastic risk\n",
      "at work age of 4\n",
      "objective model with stochastic risk\n",
      "at work age of 3\n",
      "objective model with stochastic risk\n",
      "at work age of 2\n",
      "objective model with stochastic risk\n",
      "at work age of 1\n",
      "objective model with stochastic risk\n",
      "Time taken, in seconds: 86.66203284263611\n"
     ]
    }
   ],
   "source": [
    "## solve the model for different transition matricies \n",
    "\n",
    "t_start = time()\n",
    "\n",
    "P_ls = [P]\n",
    "as_stars_sv=[]\n",
    "σs_stars_sv = []\n",
    "\n",
    "for i, P in enumerate(P_ls):\n",
    "    \n",
    "    ## feed the model with a markov matrix of macro state \n",
    "    lc_sv.P = P\n",
    "    \n",
    "    ## initial guess\n",
    "    k = len(lc_sv.s_grid)\n",
    "    k2 =len(lc_sv.eps_grid)\n",
    "    n = len(lc_sv.P)\n",
    "    \n",
    "    σ_init_sv = np.empty((k,k2,n))\n",
    "    a_init_sv = np.empty((k,k2,n))\n",
    "\n",
    "    for z in range(n):\n",
    "        for j in range(k2):\n",
    "            σ_init_sv[:,j,z] = 2*lc_sv.s_grid\n",
    "            a_init_sv[:,j,z] = 2*lc_sv.s_grid\n",
    "    \n",
    "    ## solve the model \n",
    "    as_star_sv, σs_star_sv = solve_model_backward_iter(lc_sv,\n",
    "                                                       a_init_sv,\n",
    "                                                       σ_init_sv,\n",
    "                                                       sv=True)\n",
    "    as_stars_sv.append(as_star_sv)\n",
    "    σs_stars_sv.append(σs_star_sv)\n",
    "    \n",
    "t_finish = time()\n",
    "\n",
    "print(\"Time taken, in seconds: \"+ str(t_finish - t_start))"
   ]
  },
  {
   "cell_type": "code",
   "execution_count": 33,
   "metadata": {
    "code_folding": []
   },
   "outputs": [
    {
     "data": {
      "image/png": "[encoded data removed]",
      "text/plain": [
       "<Figure size 1152x288 with 4 Axes>"
      ]
     },
     "metadata": {
      "needs_background": "light"
     },
     "output_type": "display_data"
    }
   ],
   "source": [
    "## compare two markov states low versus high risk \n",
    "\n",
    "years_left = [1,5,17,28]\n",
    "\n",
    "n_sub = len(years_left)\n",
    "\n",
    "eps_id = 20\n",
    "\n",
    "fig,axes = plt.subplots(1,n_sub,figsize=(4*n_sub,4))\n",
    "\n",
    "for x,year in enumerate(years_left):\n",
    "    age = lc.L-year\n",
    "    i = lc.L-age\n",
    "    axes[x].plot(as_stars_sv[0][i,:,eps_id,0], ## 0 indicates the low risk state \n",
    "                 σs_stars_sv[0][i,:,eps_id,0],\n",
    "                 '--',\n",
    "                 label ='low risk',\n",
    "                 lw=3)\n",
    "    axes[x].plot(as_stars_sv[0][i,:,eps_id,1], ## 1 indicates the high risk state \n",
    "                 σs_stars_sv[0][i,:,eps_id,1],\n",
    "                 '-.',\n",
    "                 label ='high risk',\n",
    "                 lw=3)\n",
    "    axes[x].legend()\n",
    "    axes[x].set_xlabel('m')\n",
    "    axes[0].set_ylabel('c')\n",
    "    axes[x].set_title(r'c under SV at $age={}$'.format(age))"
   ]
  },
  {
   "cell_type": "markdown",
   "metadata": {},
   "source": [
    "### Comparison: objective and subjective risk perceptions"
   ]
  },
  {
   "cell_type": "code",
   "execution_count": 34,
   "metadata": {
    "code_folding": [
     10
    ]
   },
   "outputs": [
    {
     "data": {
      "image/png": "[encoded data removed]",
      "text/plain": [
       "<Figure size 1728x432 with 4 Axes>"
      ]
     },
     "metadata": {
      "needs_background": "light"
     },
     "output_type": "display_data"
    }
   ],
   "source": [
    "## compare subjective and objective models \n",
    "years_left = [1,5,17,25]\n",
    "\n",
    "\n",
    "n_sub = len(years_left)\n",
    "\n",
    "eps_ls = [10]\n",
    "\n",
    "fig,axes = plt.subplots(1,n_sub,figsize=(6*n_sub,6))\n",
    "\n",
    "for x,year in enumerate(years_left):\n",
    "    age = lc.L-year\n",
    "    i = lc.L-age\n",
    "    for y,eps in enumerate(eps_ls):\n",
    "        ## baseline: no ma shock \n",
    "        axes[x].plot(as_star[i,:,eps,0],\n",
    "                     σs_star[i,:,eps,0],\n",
    "                     label = 'objective',\n",
    "                     lw=3)\n",
    "        ## persistent \n",
    "        #axes[x].plot(as_stars_ar[0][i,:,y,0],\n",
    "        #             σs_stars_ar[0][i,:,y,0],\n",
    "        #             '--',\n",
    "        #             label ='bad',\n",
    "        #             lw=3)\n",
    "        #axes[x].plot(as_stars_ar[0][i,:,y,1],\n",
    "        #             σs_stars_ar[0][i,:,y,1],\n",
    "        #             '-.',\n",
    "        #             label ='good',\n",
    "        #             lw=3)\n",
    "         ## stochastic volatility \n",
    "        axes[x].plot(as_stars_sv[0][i,:,eps_id,0], ## 0 indicates the low risk state \n",
    "                     σs_stars_sv[0][i,:,eps_id,0],\n",
    "                     '--',\n",
    "                     label ='subjective: low risk',\n",
    "                     lw=3)\n",
    "        axes[x].plot(as_stars_sv[0][i,:,eps_id,1], ## 1 indicates the high risk state \n",
    "                     σs_stars_sv[0][i,:,eps_id,1],\n",
    "                     '-.',\n",
    "                     label ='subjective: high risk',\n",
    "                     lw=3)\n",
    "        ## countercyclical \n",
    "        #axes[x].plot(as_stars_cr[0][i,:,eps_id,0], ## 0 indicates the low risk state \n",
    "        #         σs_stars_cr[0][i,:,eps_id,0],\n",
    "        #         '--',\n",
    "        #         label ='sv: unemployed + high risk',\n",
    "        #         lw=3)\n",
    "        #axes[x].plot(as_stars_cr[0][i,:,eps_id,1], ## 1 indicates the high risk state \n",
    "        #             σs_stars_cr[0][i,:,eps_id,1],\n",
    "        #             '-.',\n",
    "        #             label ='sv:employed + low risk',\n",
    "        #             lw=3)\n",
    "        ## subjective \n",
    "        #axes[x].plot(as_br[i,:,eps,0],\n",
    "        #             σs_br[i,:,eps,0],\n",
    "        #             '*-',\n",
    "        #             label = 'subjective:'+str(round(lc.eps_grid[eps],2)),\n",
    "        #             lw=3)\n",
    "        #axes[x].plot(as_star[i,:,eps,0],\n",
    "        #             σs_star[i,:,eps,0],\n",
    "        #             '--',\n",
    "        #             label ='objective:'+str(round(lc.eps_grid[eps],2)),\n",
    "        #             lw=3)\n",
    "        \n",
    "    axes[0].legend()\n",
    "    axes[x].set_xlabel('m')\n",
    "    axes[0].set_ylabel('c')\n",
    "    axes[x].set_title(r'working age$={}$'.format(age))\n",
    "    \n",
    "#plt.suptitle('Various Straight Lines',fontsize=20)\n",
    "\n",
    "fig.savefig('../Graphs/model/comparison1.png')"
   ]
  },
  {
   "cell_type": "markdown",
   "metadata": {},
   "source": [
    "### With a Markov/persistent unemployment state"
   ]
  },
  {
   "cell_type": "code",
   "execution_count": 35,
   "metadata": {
    "code_folding": [
     4
    ],
    "lines_to_next_cell": 2
   },
   "outputs": [],
   "source": [
    "## transition matrix between emp and uemp\n",
    "\n",
    "## transition probability during normal times of the economy \n",
    "\n",
    "P_uemkv = np.array([(0.2, 0.8),\n",
    "                    (0.2, 0.8)])   # markov transition matricies \n",
    "\n",
    "#P_uemkv = np.array([(0.4, 0.6),\n",
    "#                    (0.05, 0.95)])   # markov transition matricies "
   ]
  },
  {
   "cell_type": "code",
   "execution_count": 36,
   "metadata": {
    "code_folding": [
     1
    ]
   },
   "outputs": [],
   "source": [
    "## initialize another \n",
    "lc_uemkv = LifeCycle(sigma_n=sigma_n,\n",
    "                     sigma_eps = sigma_eps,\n",
    "                     U=U0,\n",
    "                     ρ=ρ,\n",
    "                     R=R,\n",
    "                     T=T,\n",
    "                     L=L,\n",
    "                     G=G,\n",
    "                     β=β,\n",
    "                     x=0.0,  ## shut down ma(1)\n",
    "                     theta=theta,\n",
    "                     borrowing_cstr = borrowing_cstr,\n",
    "                     b_y = 0.0, ## markov state loading does not matter any more \n",
    "                     unemp_insurance = 0.3,\n",
    "                     ue_markov = True,\n",
    "                     λ = λ,\n",
    "                     transfer=transfer)"
   ]
  },
  {
   "cell_type": "code",
   "execution_count": 37,
   "metadata": {
    "code_folding": [
     0
    ]
   },
   "outputs": [
    {
     "name": "stdout",
     "output_type": "stream",
     "text": [
      "at work age of 29\n",
      "objective model without stochastic risk\n",
      "at work age of 28\n",
      "objective model without stochastic risk\n",
      "at work age of 27\n",
      "objective model without stochastic risk\n",
      "at work age of 26\n",
      "objective model without stochastic risk\n",
      "at work age of 25\n",
      "objective model without stochastic risk\n",
      "at work age of 24\n",
      "objective model without stochastic risk\n",
      "at work age of 23\n",
      "objective model without stochastic risk\n",
      "at work age of 22\n",
      "objective model without stochastic risk\n",
      "at work age of 21\n",
      "objective model without stochastic risk\n",
      "at work age of 20\n",
      "objective model without stochastic risk\n",
      "at work age of 19\n",
      "objective model without stochastic risk\n",
      "at work age of 18\n",
      "objective model without stochastic risk\n",
      "at work age of 17\n",
      "objective model without stochastic risk\n",
      "at work age of 16\n",
      "objective model without stochastic risk\n",
      "at work age of 15\n",
      "objective model without stochastic risk\n",
      "at work age of 14\n",
      "objective model without stochastic risk\n",
      "at work age of 13\n",
      "objective model without stochastic risk\n",
      "at work age of 12\n",
      "objective model without stochastic risk\n",
      "at work age of 11\n",
      "objective model without stochastic risk\n",
      "at work age of 10\n",
      "objective model without stochastic risk\n",
      "at work age of 9\n",
      "objective model without stochastic risk\n",
      "at work age of 8\n",
      "objective model without stochastic risk\n",
      "at work age of 7\n",
      "objective model without stochastic risk\n",
      "at work age of 6\n",
      "objective model without stochastic risk\n",
      "at work age of 5\n",
      "objective model without stochastic risk\n",
      "at work age of 4\n",
      "objective model without stochastic risk\n",
      "at work age of 3\n",
      "objective model without stochastic risk\n",
      "at work age of 2\n",
      "objective model without stochastic risk\n",
      "at work age of 1\n",
      "objective model without stochastic risk\n",
      "Time taken, in seconds: 87.10449576377869\n"
     ]
    }
   ],
   "source": [
    "## solve the model for different transition matricies of UE markov\n",
    "\n",
    "\n",
    "t_start = time()\n",
    "\n",
    "P_ls = [P_uemkv]\n",
    "as_stars_uemkv=[]\n",
    "σs_stars_uemkv = []\n",
    "\n",
    "for i, P in enumerate(P_ls):\n",
    "    \n",
    "    ## feed the model with a markov matrix of macro state \n",
    "    lc_uemkv.P = P\n",
    "    \n",
    "    ## initial guess\n",
    "    k = len(lc_uemkv.s_grid)\n",
    "    k2 =len(lc_uemkv.eps_grid)\n",
    "    n = len(lc_uemkv.P)\n",
    "    \n",
    "    σ_init_uemkv = np.empty((k,k2,n))\n",
    "    a_init_uemkv = np.empty((k,k2,n))\n",
    "\n",
    "    for z in range(n):\n",
    "        for j in range(k2):\n",
    "            a_init_uemkv[:,j,z] = 2*lc_uemkv.s_grid\n",
    "            σ_init_uemkv[:,j,z] = a_init_uemkv[:,j,z]\n",
    "\n",
    "    \n",
    "    ## solve the model \n",
    "    as_star_uemkv, σs_star_uemkv = solve_model_backward_iter(lc_uemkv,\n",
    "                                                             a_init_uemkv,\n",
    "                                                             σ_init_uemkv,\n",
    "                                                             sv = False)\n",
    "    as_stars_uemkv.append(as_star_uemkv)\n",
    "    σs_stars_uemkv.append(σs_star_uemkv)\n",
    "    \n",
    "t_finish = time()\n",
    "\n",
    "print(\"Time taken, in seconds: \"+ str(t_finish - t_start))"
   ]
  },
  {
   "cell_type": "code",
   "execution_count": 38,
   "metadata": {
    "code_folding": [
     11
    ]
   },
   "outputs": [
    {
     "data": {
      "image/png": "[encoded data removed]",
      "text/plain": [
       "<Figure size 1152x288 with 4 Axes>"
      ]
     },
     "metadata": {
      "needs_background": "light"
     },
     "output_type": "display_data"
    }
   ],
   "source": [
    "## compare two markov states of emp and uemp \n",
    "\n",
    "\n",
    "years_left = [1,2,20,25]\n",
    "\n",
    "n_sub = len(years_left)\n",
    "\n",
    "eps_id = 20\n",
    "\n",
    "fig,axes = plt.subplots(1,n_sub,figsize=(4*n_sub,4))\n",
    "\n",
    "for x,year in enumerate(years_left):\n",
    "    age = lc_uemkv.L-year\n",
    "    i = lc_uemkv.L-age\n",
    "    axes[x].plot(as_stars_uemkv[0][i,:,eps_id,0], ## 0 indicates the low risk state \n",
    "                 σs_stars_uemkv[0][i,:,eps_id,0],\n",
    "                 '--',\n",
    "                 label ='unemployed',\n",
    "                 lw=3)\n",
    "    axes[x].plot(as_stars_uemkv[0][i,:,eps_id,1], ## 1 indicates the high risk state \n",
    "                 σs_stars_uemkv[0][i,:,eps_id,1],\n",
    "                 '-.',\n",
    "                 label ='employed',\n",
    "                 lw=3)\n",
    "    axes[x].legend()\n",
    "    axes[x].set_xlabel('asset')\n",
    "    axes[0].set_ylabel('c')\n",
    "    axes[x].set_title(r'c under UE Markov at $age={}$'.format(age))"
   ]
  },
  {
   "cell_type": "markdown",
   "metadata": {},
   "source": [
    "### \"Countercylical\" risks\n",
    "\n",
    "- unemployed perceive higher risks\n"
   ]
  },
  {
   "cell_type": "code",
   "execution_count": 39,
   "metadata": {},
   "outputs": [],
   "source": [
    "ss_P_cr= cal_ss_2markov(P_uemkv)\n",
    "prob_h_cr = P_uemkv[0,0]\n",
    "prob_l_cr = P_uemkv[0,1]\n",
    "\n",
    "## keep average risks the same \n",
    "sigma_n_l_cr = 0.1*sigma_n\n",
    "sigma_n_h_cr = np.sqrt((sigma_n**2 - prob_l_cr*sigma_n_l_cr**2)/prob_h_cr)\n",
    "\n",
    "sigma_eps_l_cr = 0.1*sigma_eps\n",
    "sigma_eps_h_cr = np.sqrt((sigma_eps**2 - prob_l_cr*sigma_eps_l_cr**2)/prob_h_cr)\n",
    "\n",
    "### notice here I put high risk at the first!!!\n",
    "sigma_n_2mkv_cr= np.array([sigma_n_h_cr,sigma_n_l_cr**2])\n",
    "sigma_eps_2mkv_cr = np.array([sigma_eps_h_cr,sigma_eps_l_cr**2])\n",
    "\n",
    "## again, zero loading from z\n",
    "b_y = 0.0"
   ]
  },
  {
   "cell_type": "code",
   "execution_count": 40,
   "metadata": {},
   "outputs": [
    {
     "name": "stdout",
     "output_type": "stream",
     "text": [
      "steady state is [0.2 0.8]\n",
      "transitory probability is [0.2 0.8]\n",
      "average permanent risk is 0.04979960341207549 compared to objective model 0.05\n",
      "average transitory risk is 0.1991987148552922 compared to objective model 0.2\n"
     ]
    }
   ],
   "source": [
    "## compute steady state \n",
    "av_sigma_n_cr = np.sqrt(np.dot(P_uemkv[0,:],sigma_n_2mkv_cr**2))\n",
    "av_sigma_eps_cr = np.sqrt(np.dot(P_uemkv[0,:],sigma_eps_2mkv_cr**2))\n",
    "print('steady state is '+str(ss_P_cr))\n",
    "print('transitory probability is '+str(P_uemkv[0,:]))\n",
    "\n",
    "print('average permanent risk is '+str(av_sigma_n_cr)+' compared to objective model '+str(sigma_n))\n",
    "print('average transitory risk is '+str(av_sigma_eps_cr)+' compared to objective model '+str(sigma_eps))"
   ]
  },
  {
   "cell_type": "code",
   "execution_count": 41,
   "metadata": {
    "code_folding": [
     1
    ]
   },
   "outputs": [],
   "source": [
    "## model instance \n",
    "lc_cr= LifeCycle(sigma_n = sigma_n,\n",
    "                 sigma_eps = sigma_eps,\n",
    "                 U=U0,\n",
    "                 ρ=ρ,\n",
    "                 P=P, \n",
    "                 R=R,\n",
    "                 T=T,\n",
    "                 L=L,\n",
    "                 G=G,\n",
    "                 β=β,\n",
    "                 sigma_n_2mkv = sigma_n_2mkv_cr,   # different \n",
    "                 sigma_eps_2mkv = sigma_eps_2mkv_cr,  # different \n",
    "                 shock_draw_size = 30,\n",
    "                 borrowing_cstr = borrowing_cstr,\n",
    "                 x = x,  ## shut down ma(1)\n",
    "                 theta=theta,\n",
    "                 b_y = b_y,\n",
    "                 ue_markov = True,\n",
    "                 λ = λ,\n",
    "                 transfer=transfer)"
   ]
  },
  {
   "cell_type": "code",
   "execution_count": 42,
   "metadata": {
    "code_folding": [
     8
    ]
   },
   "outputs": [
    {
     "name": "stdout",
     "output_type": "stream",
     "text": [
      "at work age of 29\n",
      "objective model with stochastic risk\n",
      "at work age of 28\n",
      "objective model with stochastic risk\n",
      "at work age of 27\n",
      "objective model with stochastic risk\n",
      "at work age of 26\n",
      "objective model with stochastic risk\n",
      "at work age of 25\n",
      "objective model with stochastic risk\n",
      "at work age of 24\n",
      "objective model with stochastic risk\n",
      "at work age of 23\n",
      "objective model with stochastic risk\n",
      "at work age of 22\n",
      "objective model with stochastic risk\n",
      "at work age of 21\n",
      "objective model with stochastic risk\n",
      "at work age of 20\n",
      "objective model with stochastic risk\n",
      "at work age of 19\n",
      "objective model with stochastic risk\n",
      "at work age of 18\n",
      "objective model with stochastic risk\n",
      "at work age of 17\n",
      "objective model with stochastic risk\n",
      "at work age of 16\n",
      "objective model with stochastic risk\n",
      "at work age of 15\n",
      "objective model with stochastic risk\n",
      "at work age of 14\n",
      "objective model with stochastic risk\n",
      "at work age of 13\n",
      "objective model with stochastic risk\n",
      "at work age of 12\n",
      "objective model with stochastic risk\n",
      "at work age of 11\n",
      "objective model with stochastic risk\n",
      "at work age of 10\n",
      "objective model with stochastic risk\n",
      "at work age of 9\n",
      "objective model with stochastic risk\n",
      "at work age of 8\n",
      "objective model with stochastic risk\n",
      "at work age of 7\n",
      "objective model with stochastic risk\n",
      "at work age of 6\n",
      "objective model with stochastic risk\n",
      "at work age of 5\n",
      "objective model with stochastic risk\n",
      "at work age of 4\n",
      "objective model with stochastic risk\n",
      "at work age of 3\n",
      "objective model with stochastic risk\n",
      "at work age of 2\n",
      "objective model with stochastic risk\n",
      "at work age of 1\n",
      "objective model with stochastic risk\n",
      "Time taken, in seconds: 47.32928705215454\n"
     ]
    }
   ],
   "source": [
    "## solve the model for different transition matricies \n",
    "\n",
    "t_start = time()\n",
    "\n",
    "P_ls = [P_uemkv]\n",
    "as_stars_cr=[]\n",
    "σs_stars_cr = []\n",
    "\n",
    "for i, P in enumerate(P_ls):\n",
    "    \n",
    "    ## feed the model with a markov matrix of macro state \n",
    "    lc_cr.P = P\n",
    "    \n",
    "    ## initial guess\n",
    "    k = len(lc_cr.s_grid)\n",
    "    k2 =len(lc_cr.eps_grid)\n",
    "    n = len(lc_cr.P)\n",
    "    \n",
    "    σ_init_cr = np.empty((k,k2,n))\n",
    "    a_init_cr = np.empty((k,k2,n))\n",
    "\n",
    "    for z in range(n):\n",
    "        for j in range(k2):\n",
    "            σ_init_cr[:,j,z] = 2*lc_cr.s_grid\n",
    "            a_init_cr[:,j,z] = 2*lc_cr.s_grid\n",
    "    \n",
    "    ## solve the model \n",
    "    as_star_cr, σs_star_cr = solve_model_backward_iter(lc_cr,\n",
    "                                                       a_init_cr,\n",
    "                                                       σ_init_cr,\n",
    "                                                       sv= True)\n",
    "    as_stars_cr.append(as_star_cr)\n",
    "    σs_stars_cr.append(σs_star_cr)\n",
    "    \n",
    "t_finish = time()\n",
    "\n",
    "print(\"Time taken, in seconds: \"+ str(t_finish - t_start))"
   ]
  },
  {
   "cell_type": "code",
   "execution_count": 43,
   "metadata": {
    "code_folding": []
   },
   "outputs": [
    {
     "data": {
      "image/png": "[encoded data removed]",
      "text/plain": [
       "<Figure size 1152x288 with 4 Axes>"
      ]
     },
     "metadata": {
      "needs_background": "light"
     },
     "output_type": "display_data"
    }
   ],
   "source": [
    "## compare two markov states low versus high risk \n",
    "\n",
    "\n",
    "years_left = [1,5,20,25]\n",
    "\n",
    "n_sub = len(years_left)\n",
    "\n",
    "eps_id = 20\n",
    "\n",
    "fig,axes = plt.subplots(1,n_sub,figsize=(4*n_sub,4))\n",
    "\n",
    "for x,year in enumerate(years_left):\n",
    "    age = lc.L-year\n",
    "    i = lc.L-age\n",
    "    axes[x].plot(as_stars_cr[0][i,:,eps_id,0], ## 0 indicates the low risk state \n",
    "                 σs_stars_cr[0][i,:,eps_id,0],\n",
    "                 '--',\n",
    "                 label ='une+ high risk',\n",
    "                 lw=3)\n",
    "    axes[x].plot(as_stars_cr[0][i,:,eps_id,1], ## 1 indicates the high risk state \n",
    "                 σs_stars_cr[0][i,:,eps_id,1],\n",
    "                 '-.',\n",
    "                 label ='emp+ low risk',\n",
    "                 lw=3)\n",
    "    axes[x].legend()\n",
    "    axes[x].set_xlabel('m')\n",
    "    axes[0].set_ylabel('c')\n",
    "    axes[x].set_title(r'c under countercyclical \\n risks at $age={}$'.format(age))"
   ]
  },
  {
   "cell_type": "markdown",
   "metadata": {},
   "source": [
    "### Objective and subject state-dependent profile"
   ]
  },
  {
   "cell_type": "code",
   "execution_count": 44,
   "metadata": {
    "code_folding": [
     11
    ],
    "lines_to_end_of_cell_marker": 2
   },
   "outputs": [
    {
     "data": {
      "image/png": "[encoded data removed]",
      "text/plain": [
       "<Figure size 1296x432 with 3 Axes>"
      ]
     },
     "metadata": {
      "needs_background": "light"
     },
     "output_type": "display_data"
    }
   ],
   "source": [
    "## compare subjective and objective models \n",
    "\n",
    "years_left = [1,20,25]\n",
    "\n",
    "\n",
    "n_sub = len(years_left)\n",
    "\n",
    "eps_ls = [20]\n",
    "\n",
    "fig,axes = plt.subplots(1,n_sub,figsize=(6*n_sub,6))\n",
    "\n",
    "for x,year in enumerate(years_left):\n",
    "    age = lc.L-year\n",
    "    i = lc.L-age\n",
    "    for y,eps in enumerate(eps_ls):\n",
    "        ## baseline: no ma shock \n",
    "        #axes[x].plot(as_star[i,:,eps,0],\n",
    "        #             σs_star[i,:,eps,0],\n",
    "        #             label = 'objective',\n",
    "        #             lw=3)\n",
    "        ## persistent \n",
    "        axes[x].plot(as_stars_uemkv[0][i,:,y,0],\n",
    "                     σs_stars_uemkv[0][i,:,y,0],\n",
    "                     '--',\n",
    "                     label ='unemployed',\n",
    "                     lw=3)\n",
    "        axes[x].plot(as_stars_uemkv[0][i,:,y,1],\n",
    "                     σs_stars_uemkv[0][i,:,y,1],\n",
    "                     '-.',\n",
    "                     label ='employed',\n",
    "                     lw=3)\n",
    "         ## stochastic volatility \n",
    "        #axes[x].plot(as_stars_sv[0][i,:,eps_id,0], ## 0 indicates the low risk state \n",
    "        #             σs_stars_sv[0][i,:,eps_id,0],\n",
    "        #             '--',\n",
    "        #             label ='sv:low risk',\n",
    "        #             lw=3)\n",
    "        #axes[x].plot(as_stars_sv[0][i,:,eps_id,1], ## 1 indicates the high risk state \n",
    "        #             σs_stars_sv[0][i,:,eps_id,1],\n",
    "        #             '-.',\n",
    "        #             label ='sv:high risk',\n",
    "        #             lw=3)\n",
    "        ## countercyclical \n",
    "        axes[x].plot(as_stars_cr[0][i,:,eps_id,0], ## 0 indicates the low risk state \n",
    "                 σs_stars_cr[0][i,:,eps_id,0],\n",
    "                 '--',\n",
    "                 label ='ue + high risk',\n",
    "                 lw=3)\n",
    "        axes[x].plot(as_stars_cr[0][i,:,eps_id,1], ## 1 indicates the high risk state \n",
    "                     σs_stars_cr[0][i,:,eps_id,1],\n",
    "                     '-.',\n",
    "                     label ='emp + low risk',\n",
    "                     lw=3)\n",
    "        # subjective \n",
    "        #axes[x].plot(as_br[i,:,eps,0],\n",
    "        #             σs_br[i,:,eps,0],\n",
    "        #             '*-',\n",
    "        #             label = 'subjective:'+str(round(lc.eps_grid[eps],2)),\n",
    "        #             lw=3)\n",
    "        #axes[x].plot(as_star[i,:,eps,0],\n",
    "        #             σs_star[i,:,eps,0],\n",
    "        #             '--',\n",
    "        #             label ='objective:'+str(round(lc.eps_grid[eps],2)),\n",
    "        #             lw=3)\n",
    "        \n",
    "    axes[0].legend()\n",
    "    axes[x].set_xlabel('m')\n",
    "    axes[0].set_ylabel('c')\n",
    "    axes[x].set_title(r'working age$={}$'.format(age))\n",
    "    \n",
    "#plt.suptitle('Various Straight Lines',fontsize=20)\n",
    "\n",
    "fig.savefig('../Graphs/model/comparison2.png')"
   ]
  },
  {
   "cell_type": "markdown",
   "metadata": {},
   "source": [
    "### Subjective perceptions "
   ]
  },
  {
   "cell_type": "code",
   "execution_count": 45,
   "metadata": {
    "code_folding": []
   },
   "outputs": [
    {
     "name": "stdout",
     "output_type": "stream",
     "text": [
      "at work age of 29\n",
      "subjective model with stochastic risk\n",
      "at work age of 28\n",
      "subjective model with stochastic risk\n",
      "at work age of 27\n",
      "subjective model with stochastic risk\n",
      "at work age of 26\n",
      "subjective model with stochastic risk\n",
      "at work age of 25\n",
      "subjective model with stochastic risk\n",
      "at work age of 24\n",
      "subjective model with stochastic risk\n",
      "at work age of 23\n",
      "subjective model with stochastic risk\n",
      "at work age of 22\n",
      "subjective model with stochastic risk\n",
      "at work age of 21\n",
      "subjective model with stochastic risk\n",
      "at work age of 20\n",
      "subjective model with stochastic risk\n",
      "at work age of 19\n",
      "subjective model with stochastic risk\n",
      "at work age of 18\n",
      "subjective model with stochastic risk\n",
      "at work age of 17\n",
      "subjective model with stochastic risk\n",
      "at work age of 16\n",
      "subjective model with stochastic risk\n",
      "at work age of 15\n",
      "subjective model with stochastic risk\n",
      "at work age of 14\n",
      "subjective model with stochastic risk\n",
      "at work age of 13\n",
      "subjective model with stochastic risk\n",
      "at work age of 12\n",
      "subjective model with stochastic risk\n",
      "at work age of 11\n",
      "subjective model with stochastic risk\n",
      "at work age of 10\n",
      "subjective model with stochastic risk\n",
      "at work age of 9\n",
      "subjective model with stochastic risk\n",
      "at work age of 8\n",
      "subjective model with stochastic risk\n",
      "at work age of 7\n",
      "subjective model with stochastic risk\n",
      "at work age of 6\n",
      "subjective model with stochastic risk\n",
      "at work age of 5\n",
      "subjective model with stochastic risk\n",
      "at work age of 4\n",
      "subjective model with stochastic risk\n",
      "at work age of 3\n",
      "subjective model with stochastic risk\n",
      "at work age of 2\n",
      "subjective model with stochastic risk\n",
      "at work age of 1\n",
      "subjective model with stochastic risk\n",
      "Time taken, in seconds: 87.93188405036926\n"
     ]
    }
   ],
   "source": [
    "## solve for subjective agent \n",
    "## agents extrapolate recent tarnsitory volatility to perceptions \n",
    "\n",
    "t_start = time()\n",
    "\n",
    "\n",
    "as_br, σs_br = solve_model_backward_iter(lc,\n",
    "                                         a_init,\n",
    "                                         σ_init,\n",
    "                                         br = True) ## bounded rationality is true \n",
    "\n",
    "\n",
    "\n",
    "t_finish = time()\n",
    "\n",
    "print(\"Time taken, in seconds: \"+ str(t_finish - t_start))"
   ]
  },
  {
   "cell_type": "code",
   "execution_count": 46,
   "metadata": {
    "code_folding": [
     0
    ]
   },
   "outputs": [
    {
     "data": {
      "image/png": "[encoded data removed]",
      "text/plain": [
       "<Figure size 1152x288 with 4 Axes>"
      ]
     },
     "metadata": {
      "needs_background": "light"
     },
     "output_type": "display_data"
    }
   ],
   "source": [
    "## compare subjective and objective model \n",
    "years_left = [1,3,5,6]\n",
    "n_sub = len(years_left)\n",
    "\n",
    "eps_ls = [20]\n",
    "\n",
    "fig,axes = plt.subplots(1,n_sub,figsize=(4*n_sub,4))\n",
    "\n",
    "for x,year in enumerate(years_left):\n",
    "    age = lc.L-year\n",
    "    i = lc.L-age\n",
    "    for y,eps in enumerate(eps_ls):\n",
    "        axes[x].plot(as_br[i,:,eps,0],\n",
    "                     σs_br[i,:,eps,0],\n",
    "                     '*-',\n",
    "                     label = 'subjective:'+str(round(lc.eps_grid[eps],2)),\n",
    "                     lw=3)\n",
    "        axes[x].plot(as_star[i,:,eps,0],\n",
    "                     σs_star[i,:,eps,0],\n",
    "                     '--',\n",
    "                     label ='objective:'+str(round(lc.eps_grid[eps],2)),\n",
    "                     lw=3)\n",
    "    axes[x].legend()\n",
    "    axes[x].set_xlabel('asset')\n",
    "    axes[0].set_ylabel('c')\n",
    "    axes[x].set_title(r'subjective c at $age={}$'.format(age))"
   ]
  },
  {
   "cell_type": "code",
   "execution_count": 47,
   "metadata": {
    "code_folding": []
   },
   "outputs": [
    {
     "data": {
      "text/plain": [
       "[<matplotlib.lines.Line2D at 0x7f8f7c9403a0>]"
      ]
     },
     "execution_count": 47,
     "metadata": {},
     "output_type": "execute_result"
    },
    {
     "data": {
      "image/png": "[encoded data removed]",
      "text/plain": [
       "<Figure size 432x288 with 1 Axes>"
      ]
     },
     "metadata": {
      "needs_background": "light"
     },
     "output_type": "display_data"
    }
   ],
   "source": [
    "x_sj = extrapolate(5, \n",
    "                   lc.x,\n",
    "                   lc.eps_grid) ## sj: subjective \n",
    "\n",
    "plt.plot(lc.eps_grid,x_sj)"
   ]
  },
  {
   "cell_type": "code",
   "execution_count": 48,
   "metadata": {
    "code_folding": [
     3,
     8
    ],
    "lines_to_next_cell": 0
   },
   "outputs": [
    {
     "data": {
      "text/plain": [
       "Text(0.5, 1.0, 'subjectiv c at work age$=10$')"
      ]
     },
     "execution_count": 48,
     "metadata": {},
     "output_type": "execute_result"
    },
    {
     "data": {
      "image/png": "[encoded data removed]",
      "text/plain": [
       "<Figure size 432x288 with 1 Axes>"
      ]
     },
     "metadata": {
      "needs_background": "light"
     },
     "output_type": "display_data"
    }
   ],
   "source": [
    "at_age = 10\n",
    "at_asset_id = 15\n",
    "\n",
    "plt.plot(lc.eps_grid,\n",
    "         σs_br[lc.T-at_age,at_asset_id,:,0],\n",
    "             'v-',\n",
    "             label = 'subjective',\n",
    "             lw=3)\n",
    "plt.plot(lc.eps_grid,\n",
    "         σs_star[lc.T-at_age,at_asset_id,:,0],\n",
    "         '--',\n",
    "         label='objective',\n",
    "         lw=3)\n",
    "plt.legend(loc=0)\n",
    "plt.xlabel(r'$\\epsilon$')\n",
    "plt.ylabel(r'$c(a,\\epsilon,age)$')\n",
    "plt.title(r'subjectiv c at work age$={}$'.format(at_age))"
   ]
  },
  {
   "cell_type": "markdown",
   "metadata": {},
   "source": [
    "## Infinite horizon problem"
   ]
  },
  {
   "cell_type": "code",
   "execution_count": 49,
   "metadata": {
    "code_folding": [
     0,
     2
    ]
   },
   "outputs": [
    {
     "ename": "KeyboardInterrupt",
     "evalue": "",
     "output_type": "error",
     "traceback": [
      "\u001b[0;31m---------------------------------------------------------------------------\u001b[0m",
      "\u001b[0;31mKeyboardInterrupt\u001b[0m                         Traceback (most recent call last)",
      "\u001b[0;32m/var/folders/39/ks6jc__9375c2fl7h7pwq5jh0000gn/T/ipykernel_26911/1689197741.py\u001b[0m in \u001b[0;36m<module>\u001b[0;34m\u001b[0m\n\u001b[1;32m     42\u001b[0m     \u001b[0;31m## set different ma parameters\u001b[0m\u001b[0;34m\u001b[0m\u001b[0;34m\u001b[0m\u001b[0;34m\u001b[0m\u001b[0m\n\u001b[1;32m     43\u001b[0m     \u001b[0minf_liv\u001b[0m\u001b[0;34m.\u001b[0m\u001b[0mx\u001b[0m \u001b[0;34m=\u001b[0m \u001b[0mx\u001b[0m\u001b[0;34m\u001b[0m\u001b[0;34m\u001b[0m\u001b[0m\n\u001b[0;32m---> 44\u001b[0;31m     a_inf_star, σ_inf_star = solve_model_iter(inf_liv,\n\u001b[0m\u001b[1;32m     45\u001b[0m                                               \u001b[0ma_init\u001b[0m\u001b[0;34m,\u001b[0m\u001b[0;34m\u001b[0m\u001b[0;34m\u001b[0m\u001b[0m\n\u001b[1;32m     46\u001b[0m                                               σ_init)\n",
      "\u001b[0;32m/var/folders/39/ks6jc__9375c2fl7h7pwq5jh0000gn/T/ipykernel_26911/1227039349.py\u001b[0m in \u001b[0;36msolve_model_iter\u001b[0;34m(model, ae_vec, σ_vec, tol, max_iter, verbose, print_skip, br, sv)\u001b[0m\n\u001b[1;32m     20\u001b[0m \u001b[0;34m\u001b[0m\u001b[0m\n\u001b[1;32m     21\u001b[0m     \u001b[0;32mwhile\u001b[0m \u001b[0mi\u001b[0m \u001b[0;34m<\u001b[0m \u001b[0mmax_iter\u001b[0m \u001b[0;32mand\u001b[0m \u001b[0merror\u001b[0m \u001b[0;34m>\u001b[0m \u001b[0mtol\u001b[0m\u001b[0;34m:\u001b[0m\u001b[0;34m\u001b[0m\u001b[0;34m\u001b[0m\u001b[0m\n\u001b[0;32m---> 22\u001b[0;31m         \u001b[0mae_new\u001b[0m\u001b[0;34m,\u001b[0m \u001b[0mσ_new\u001b[0m \u001b[0;34m=\u001b[0m \u001b[0mEGM\u001b[0m\u001b[0;34m(\u001b[0m\u001b[0mae_vec\u001b[0m\u001b[0;34m,\u001b[0m \u001b[0mσ_vec\u001b[0m\u001b[0;34m,\u001b[0m \u001b[0;36m0\u001b[0m\u001b[0;34m,\u001b[0m\u001b[0mmodel\u001b[0m\u001b[0;34m)\u001b[0m\u001b[0;34m\u001b[0m\u001b[0;34m\u001b[0m\u001b[0m\n\u001b[0m\u001b[1;32m     23\u001b[0m         \u001b[0merror\u001b[0m \u001b[0;34m=\u001b[0m \u001b[0mnp\u001b[0m\u001b[0;34m.\u001b[0m\u001b[0mmax\u001b[0m\u001b[0;34m(\u001b[0m\u001b[0mnp\u001b[0m\u001b[0;34m.\u001b[0m\u001b[0mabs\u001b[0m\u001b[0;34m(\u001b[0m\u001b[0mσ_vec\u001b[0m \u001b[0;34m-\u001b[0m \u001b[0mσ_new\u001b[0m\u001b[0;34m)\u001b[0m\u001b[0;34m)\u001b[0m\u001b[0;34m\u001b[0m\u001b[0;34m\u001b[0m\u001b[0m\n\u001b[1;32m     24\u001b[0m         \u001b[0mi\u001b[0m \u001b[0;34m+=\u001b[0m \u001b[0;36m1\u001b[0m\u001b[0;34m\u001b[0m\u001b[0;34m\u001b[0m\u001b[0m\n",
      "\u001b[0;31mKeyboardInterrupt\u001b[0m: "
     ]
    }
   ],
   "source": [
    "## intialize a model instance\n",
    "\n",
    "inf_liv = LifeCycle(sigma_n=sigma_n,\n",
    "                   sigma_eps = sigma_eps,\n",
    "                   U=U,\n",
    "                   ρ=ρ,\n",
    "                   R=R,\n",
    "                   T=T,\n",
    "                   L=L,\n",
    "                   β=β,\n",
    "                   x=x,\n",
    "                   theta=theta,\n",
    "                   borrowing_cstr = borrowing_cstr,\n",
    "                   b_y=b_y,\n",
    "                   unemp_insurance = unemp_insurance,\n",
    "                   λ = λ,\n",
    "                   transfer = transfer)\n",
    "\n",
    "\n",
    "## initial consumption functions \n",
    "\n",
    "k = len(inf_liv.s_grid)\n",
    "k2 =len(inf_liv.eps_grid)\n",
    "\n",
    "n = len(inf_liv.P)\n",
    "σ_init = np.empty((k,k2,n))\n",
    "a_init = np.empty((k,k2,n))\n",
    "\n",
    "for z in range(n):\n",
    "    for j in range(k2):\n",
    "        a_init[:,j,z] = inf_liv.s_grid\n",
    "        σ_init[:,j,z] = 0.1*a_init[:,j,z]\n",
    "        \n",
    "t_start = time()\n",
    "\n",
    "\n",
    "x_ls = [0.0]\n",
    "as_inf_stars =[]\n",
    "σs_inf_stars = []\n",
    "for i,x in enumerate(x_ls):\n",
    "    \n",
    "    ## set different ma parameters \n",
    "    inf_liv.x = x\n",
    "    a_inf_star, σ_inf_star = solve_model_iter(inf_liv,\n",
    "                                              a_init,\n",
    "                                              σ_init)\n",
    "    as_inf_stars.append(a_inf_star)\n",
    "    σs_inf_stars.append(σ_inf_star)\n",
    "    \n",
    "    \n",
    "t_finish = time()\n",
    "\n",
    "print(\"Time taken, in seconds: \"+ str(t_finish - t_start))   \n",
    "\n",
    "\n",
    "\n",
    "## plot c func \n",
    "\n",
    "eps_ls = [1,10,20]\n",
    "\n",
    "as_inf_star = as_inf_stars[0]\n",
    "σs_inf_star = σs_inf_stars[0]\n",
    "\n",
    "\n",
    "for y,eps in enumerate(eps_ls):\n",
    "    plt.plot(as_inf_star[:,eps,0],\n",
    "             σs_inf_star[:,eps,0],\n",
    "             label = r'$\\epsilon=$'+str(round(inf_liv.eps_grid[eps],2)),\n",
    "             lw=3\n",
    "            )\n",
    "    plt.legend()\n",
    "    plt.xlabel('asset')\n",
    "    plt.ylabel('c')\n",
    "    plt.title('Inifite horizon solution')\n"
   ]
  },
  {
   "cell_type": "markdown",
   "metadata": {},
   "source": [
    "## Infinite horizon with adjustment inertia\n",
    "\n"
   ]
  },
  {
   "cell_type": "code",
   "execution_count": null,
   "metadata": {
    "code_folding": [
     0,
     2
    ],
    "lines_to_next_cell": 0
   },
   "outputs": [],
   "source": [
    "## intialize a model instance\n",
    "\n",
    "imp_adjust = LifeCycle(sigma_n=sigma_n,\n",
    "                   sigma_eps = sigma_eps,\n",
    "                   U=U,\n",
    "                   ρ=ρ,\n",
    "                   R=R,\n",
    "                   T=T,\n",
    "                   L=L,\n",
    "                   β=β,\n",
    "                   x=x,\n",
    "                   theta=theta,\n",
    "                   borrowing_cstr = borrowing_cstr,\n",
    "                   b_y=b_y,\n",
    "                   unemp_insurance = unemp_insurance,\n",
    "                   adjust_prob = 0.6)\n",
    "\n",
    "## initial consumption functions \n",
    "\n",
    "k = len(imp_adjust.s_grid)\n",
    "k2 =len(imp_adjust.eps_grid)\n",
    "\n",
    "n = len(imp_adjust.P)\n",
    "σ_init = np.empty((k,k2,n))\n",
    "a_init = np.empty((k,k2,n))\n",
    "\n",
    "for z in range(n):\n",
    "    for j in range(k2):\n",
    "        a_init[:,j,z] = imp_adjust.s_grid\n",
    "        σ_init[:,j,z] = 0.1*a_init[:,j,z]  ## c !=m because of infinite horizon\n",
    "        \n",
    "t_start = time()\n",
    "\n",
    "\n",
    "x_ls = [0.0]\n",
    "as_imp_stars =[]\n",
    "σs_imp_stars = []\n",
    "for i,x in enumerate(x_ls):\n",
    "    \n",
    "    ## set different ma parameters \n",
    "    inf_liv.x = x\n",
    "    a_imp_star, σ_imp_star = solve_model_iter(imp_adjust,\n",
    "                                              a_init,\n",
    "                                              σ_init)\n",
    "    as_imp_stars.append(a_imp_star)\n",
    "    σs_imp_stars.append(σ_imp_star)\n",
    "    \n",
    "    \n",
    "t_finish = time()\n",
    "\n",
    "print(\"Time taken, in seconds: \"+ str(t_finish - t_start))   \n",
    "\n",
    "\n",
    "## plot c func at different age /asset grid\n",
    "\n",
    "eps_ls = [10]\n",
    "\n",
    "as_imp_star = as_imp_stars[0]\n",
    "σs_imp_star = σs_imp_stars[0]\n",
    "\n",
    "for y,eps in enumerate(eps_ls):\n",
    "    plt.plot(as_imp_star[:,eps,1],\n",
    "             σs_imp_star[:,eps,1],\n",
    "             '-',\n",
    "             label = 'imperfect adjustment',\n",
    "             lw=3\n",
    "            )\n",
    "    plt.plot(as_inf_star[:,eps,1],\n",
    "             σs_inf_star[:,eps,1],\n",
    "             '--',\n",
    "             label = 'perfect adjustment',\n",
    "             lw=3\n",
    "            )\n",
    "    plt.legend()\n",
    "    plt.xlabel('asset')\n",
    "    plt.ylabel('c')\n",
    "    plt.title('Inifite horizon solution')"
   ]
  },
  {
   "cell_type": "markdown",
   "metadata": {
    "lines_to_next_cell": 2
   },
   "source": [
    "# "
   ]
  }
 ],
 "metadata": {
  "jupytext": {
   "encoding": "# -*- coding: utf-8 -*-",
   "formats": "ipynb,py:light"
  },
  "kernelspec": {
   "display_name": "Python 3 (ipykernel)",
   "language": "python",
   "name": "python3"
  },
  "language_info": {
   "codemirror_mode": {
    "name": "ipython",
    "version": 3
   },
   "file_extension": ".py",
   "mimetype": "text/x-python",
   "name": "python",
   "nbconvert_exporter": "python",
   "pygments_lexer": "ipython3",
   "version": "3.8.5"
  }
 },
 "nbformat": 4,
 "nbformat_minor": 4
}
