{
 "cells": [
  {
   "cell_type": "markdown",
   "metadata": {},
   "source": [
    "## Estimating a uni/multi-variate hidden markov switching model \n"
   ]
  },
  {
   "cell_type": "code",
   "execution_count": 1,
   "metadata": {},
   "outputs": [],
   "source": [
    "import numpy as np\n",
    "from scipy.optimize import minimize\n",
    "import matplotlib.pyplot as plt"
   ]
  },
  {
   "cell_type": "code",
   "execution_count": 2,
   "metadata": {
    "code_folding": [
     1,
     12,
     29
    ]
   },
   "outputs": [],
   "source": [
    "### pdf function of normal distribution\n",
    "\n",
    "\n",
    "def norm_pdf(x, μ, σ):  ## value of the rm  ## mean of the normal  ## std of the normal\n",
    "    \"\"\"\n",
    "    pdf of normal distribution mean μ and variance σ^2\n",
    "    \"\"\"\n",
    "    x_new = (x - μ) / σ\n",
    "    temp1 = 1 / (np.sqrt(2 * np.pi))\n",
    "    temp2 = np.exp(-(x_new**2 / 2))\n",
    "    return temp1 * temp2\n",
    "\n",
    "\n",
    "def prob_func(x):\n",
    "    \"\"\"\n",
    "    this bound function maps unconstrained x to y between 0, and 1\n",
    "    , and it increases with x\n",
    "    \"\"\"\n",
    "    return np.exp(x) / (1 + np.exp(x))\n",
    "\n",
    "\n",
    "def prob_func_inv(y):\n",
    "    return np.log(y) - np.log(1 - y)\n",
    "\n",
    "\n",
    "## exp_func  from R --> [0,+infinity]\n",
    "def exp_func(x):\n",
    "    return np.exp(x)\n",
    "\n",
    "\n",
    "def exp_func_inv(y):\n",
    "    return np.log(y)\n",
    "\n",
    "\n",
    "def steady_state(q, p):\n",
    "    \"\"\"\n",
    "    a function that computes the ss of a 2-state markov\n",
    "    \"\"\"\n",
    "    return ((1 - p) / (2 - p - q), (1 - q) / (2 - p - q))"
   ]
  },
  {
   "cell_type": "code",
   "execution_count": 3,
   "metadata": {
    "code_folding": [
     0,
     15,
     50,
     72,
     93
    ],
    "lines_to_next_cell": 2
   },
   "outputs": [],
   "source": [
    "class Markov2Switching:\n",
    "    \"\"\"\n",
    "    A class that stores primitives for the Markov Regime Switching Model\n",
    "    %%%% Model %%%%%%%\n",
    "    % y_t = alpha+ beta * s_t + epsilon_t\n",
    "    % y is the observed variable;\n",
    "    % s_t =1 in high state; s_t = 0 in low state;\n",
    "    % q=p(s_t=0|s_t-1=0)\n",
    "    % p=p(s_t=1|s_t-1=1)\n",
    "    % Transition Matrix from [s=0,s=1]' is [q,1-p;1-q,p]\n",
    "    % para_est stores all estimates of parameters.\n",
    "    %%%%%%%%%%%%%%%%%\n",
    "\n",
    "    \"\"\"\n",
    "\n",
    "    def __init__(\n",
    "        self,\n",
    "        Y=None,\n",
    "        paras=np.array([0.1, 0.1, 0.1, 0.7, 0.7]),\n",
    "        nb_var=1,\n",
    "        state_dependence=False,\n",
    "        AR=0,\n",
    "    ):\n",
    "        ## count how many variables\n",
    "        self.nb_var = nb_var\n",
    "\n",
    "        if AR == 0:\n",
    "            assert self.nb_var == int(\n",
    "                len(paras) / 5\n",
    "            ), \"the nb of paras needs to be equal to 5 x nb of variables\"\n",
    "        elif AR == 1:\n",
    "            assert self.nb_var == int(\n",
    "                len(paras) / 6\n",
    "            ), \"the nb of paras needs to be equal to 6 x nb of variables\"\n",
    "\n",
    "        self.paras = paras.reshape(self.nb_var, -1)\n",
    "\n",
    "        self.Y = Y\n",
    "        ## be careful with the order\n",
    "        self.αs = self.paras[:, 0]\n",
    "        self.βs = self.paras[:, 1]\n",
    "        self.σs = self.paras[:, 2]\n",
    "        self.qs = self.paras[:, 3]\n",
    "        self.ps = self.paras[:, 4]\n",
    "        if AR == 0:\n",
    "            self.ϕ1s = np.zeros(self.nb_var)\n",
    "        elif AR == 1:\n",
    "            self.ϕ1s = self.paras[:, 5]\n",
    "        self.state_dependence = state_dependence\n",
    "        self.AR = AR\n",
    "\n",
    "    ## The functions below are help functions\n",
    "    ## that turn a hard constraint on parameters values to an unconstrained problem\n",
    "    ## prob_func  from R -> [0,1]\n",
    "\n",
    "    def get_model_para(self, para):\n",
    "        \"\"\"\n",
    "        unconstrained parameters recast into model parameters with constraints\n",
    "        \"\"\"\n",
    "        assert len(para) == self.nb_var * (\n",
    "            5 + self.AR\n",
    "        ), \"the nb of parameters is incorrect\"\n",
    "        paras = para.reshape(self.nb_var, -1)\n",
    "\n",
    "        αs = paras[:, 0]\n",
    "        βs = paras[:, 1]\n",
    "        # np.concatenate([self.exp_func(paras[0:2,1]),\n",
    "        #                     np.array(-self.exp_func([paras[2,1]]))\n",
    "        #                    ])\n",
    "        σs = exp_func(paras[:, 2])\n",
    "        qs = prob_func(paras[:, 3])\n",
    "        ps = prob_func(paras[:, 4])\n",
    "        if self.AR == 1:\n",
    "            ϕ1s = prob_func(paras[:, 5])\n",
    "        else:\n",
    "            ϕ1s = np.zeros(self.nb_var)\n",
    "        return αs, βs, σs, qs, ps, ϕ1s\n",
    "\n",
    "    def make_para_dict(self, para):\n",
    "        \"\"\"\n",
    "        a function that creates a dictionary of parameters with names\n",
    "        \"\"\"\n",
    "        αs, βs, σs, qs, ps, ϕ1s = self.get_model_para(para)\n",
    "\n",
    "        q = qs[0]\n",
    "        p = ps[0]\n",
    "\n",
    "        model_para = {}\n",
    "        model_para[\"q\"] = q\n",
    "        model_para[\"p\"] = p\n",
    "        model_para[\"α\"] = αs\n",
    "        model_para[\"β\"] = βs\n",
    "        model_para[\"σ\"] = σs\n",
    "        model_para[\"ϕ1\"] = ϕ1s\n",
    "\n",
    "        return model_para\n",
    "\n",
    "    ## The key function that computes log-likelihood for a list of time series of realized data\n",
    "    def log_likelihood(self, Y_list, para):  ## a list of multiple series\n",
    "        \"\"\"\n",
    "        inputs\n",
    "        ======\n",
    "        Y: a list of independent univariate/multivariate (a vector) time series for which the log-likelihood is computed jointly\n",
    "        para: parameters of the process sized of nb of variables x nb of parameters, with the strict order of α,β,σ,q,p,ϕ1\n",
    "\n",
    "        outputs\n",
    "        =======\n",
    "        llh_tot: total log-likelihood across all series\n",
    "        update1_list: list of updating probs s=1|Y_t at time t;\n",
    "        prdict1_list: list of prediction probs: s=1|Y_t-1 at time t-1;\n",
    "        f1_list: list of predicted probs: y_t|y_t-1;\n",
    "        \"\"\"\n",
    "        αs, βs, σs, qs, ps, ϕ1s = self.get_model_para(para)\n",
    "\n",
    "        update1_list = []\n",
    "        prdict1_list = []\n",
    "        f1_list = []\n",
    "\n",
    "        ## starting from zero loglikelihood\n",
    "\n",
    "        llh_tot = 0.0\n",
    "\n",
    "        q = qs[0]\n",
    "        p = ps[0]\n",
    "\n",
    "        for k in range(len(Y_list)):\n",
    "            Y = Y_list[k]  ## Y is a 1-d or nb_var-d array\n",
    "\n",
    "            T = Y_list[k].shape[1]  ## length of the series is not necessarily the same\n",
    "\n",
    "            ## this loops over all periods\n",
    "            llh = 0.0\n",
    "\n",
    "            update0 = np.empty(T)\n",
    "            update1 = np.empty(T)\n",
    "            prdict1 = np.empty(T)\n",
    "            f1 = np.empty(T)\n",
    "\n",
    "            ## initialize the first period\n",
    "            update0[0], update1[0] = steady_state(q, p)  # p(s=0|Y_0) and  # p(s=1|Y_1)\n",
    "\n",
    "            for t in range(1, T - 1):\n",
    "                prdict1[t] = (1 - q) * update0[t - 1] + p * update1[\n",
    "                    t - 1\n",
    "                ]  # p(s_t=1|y_t-1);\n",
    "\n",
    "                pdf_t_1 = prdict1[t]\n",
    "                pdf_t_0 = 1 - prdict1[t]\n",
    "\n",
    "                ## loop over different time series\n",
    "                for x in range(self.nb_var):\n",
    "                    pdf_t_1 = pdf_t_1 * norm_pdf(\n",
    "                        Y[x, t] - ϕ1s[x] * Y[x, t - 1], αs[x] + βs[x], σs[x]\n",
    "                    )  # f(y_t|s_t=1,Y_t-1)\n",
    "                    pdf_t_0 = pdf_t_0 * norm_pdf(\n",
    "                        Y[x, t] - ϕ1s[x] * Y[x, t - 1], αs[x], σs[x]\n",
    "                    )  # f(y_t|s_t=0,Y_t-1)\n",
    "\n",
    "                f1[t] = pdf_t_1 + pdf_t_0  # f1= f(y_t|Y_t-1)\n",
    "                # print(f1[t])\n",
    "                llh_pred = np.log(f1[t])  # log( f(y_t|Y_t-1))\n",
    "                llh = llh + llh_pred  # llh_pred = log(f(y_t|Y_t-1))\n",
    "                update1[t] = pdf_t_1 / (pdf_t_1 + pdf_t_0)  # p(s_t=0|y_t-1)\n",
    "                update0[t] = 1 - update1[t]  # p(s_t=1|y_t-1)\n",
    "\n",
    "            ## merge those probabilities\n",
    "\n",
    "            update1_list.append(update1)\n",
    "            prdict1_list.append(prdict1)\n",
    "            f1_list.append(f1)\n",
    "\n",
    "            ## sum across agents\n",
    "            llh_tot = llh_tot + llh\n",
    "\n",
    "        return llh_tot, update1_list, prdict1_list, f1_list"
   ]
  },
  {
   "cell_type": "code",
   "execution_count": 4,
   "metadata": {
    "code_folding": []
   },
   "outputs": [],
   "source": [
    "if __name__ == \"__main__\":\n",
    "    ## create the model\n",
    "    mkv2 = Markov2Switching(AR=0, nb_var=1)"
   ]
  },
  {
   "cell_type": "markdown",
   "metadata": {},
   "source": [
    "### Test using fake simulated data with known parameters"
   ]
  },
  {
   "cell_type": "code",
   "execution_count": 5,
   "metadata": {
    "code_folding": [
     0
    ]
   },
   "outputs": [
    {
     "name": "stderr",
     "output_type": "stream",
     "text": [
      "/Users/tao/opt/anaconda3/lib/python3.8/site-packages/numba/np/ufunc/parallel.py:371: NumbaWarning: \u001b[1mThe TBB threading layer requires TBB version 2021 update 6 or later i.e., TBB_INTERFACE_VERSION >= 12060. Found TBB_INTERFACE_VERSION = 12050. The TBB threading layer is disabled.\u001b[0m\n",
      "  warnings.warn(problem)\n",
      "OMP: Info #271: omp_set_nested routine deprecated, please use omp_set_max_active_levels instead.\n",
      "/Users/tao/opt/anaconda3/lib/python3.8/site-packages/numba/core/decorators.py:262: NumbaDeprecationWarning: \u001b[1mnumba.generated_jit is deprecated. Please see the documentation at: https://numba.readthedocs.io/en/stable/reference/deprecation.html#deprecation-of-generated-jit for more information and advice on a suitable replacement.\u001b[0m\n",
      "  warnings.warn(msg, NumbaDeprecationWarning)\n",
      "/Users/tao/opt/anaconda3/lib/python3.8/site-packages/numba/core/decorators.py:262: NumbaDeprecationWarning: \u001b[1mnumba.generated_jit is deprecated. Please see the documentation at: https://numba.readthedocs.io/en/stable/reference/deprecation.html#deprecation-of-generated-jit for more information and advice on a suitable replacement.\u001b[0m\n",
      "  warnings.warn(msg, NumbaDeprecationWarning)\n",
      "/Users/tao/opt/anaconda3/lib/python3.8/site-packages/quantecon/lss.py:21: NumbaDeprecationWarning: \u001b[1mThe 'nopython' keyword argument was not supplied to the 'numba.jit' decorator. The implicit default value for this argument is currently False, but it will be changed to True in Numba 0.59.0. See https://numba.readthedocs.io/en/stable/reference/deprecation.html#deprecation-of-object-mode-fall-back-behaviour-when-using-jit for details.\u001b[0m\n",
      "  def simulate_linear_model(A, x0, v, ts_length):\n"
     ]
    }
   ],
   "source": [
    "if __name__ == \"__main__\":\n",
    "    import quantecon as qe\n",
    "\n",
    "    ## fake parameters\n",
    "    α_fake = 0.1\n",
    "    β_fake = 0.2\n",
    "    σ_fake = 0.1\n",
    "    q_fake = 0.7\n",
    "    p_fake = 0.6\n",
    "    ϕ1_fake = 0.0\n",
    "\n",
    "    mkv_mat = np.array([[q_fake, 1 - q_fake], [1 - p_fake, p_fake]])\n",
    "\n",
    "    para_fake = np.array(\n",
    "        [\n",
    "            α_fake,\n",
    "            β_fake,\n",
    "            exp_func_inv(σ_fake),\n",
    "            prob_func_inv(q_fake),\n",
    "            prob_func_inv(p_fake),\n",
    "            # prob_func_inv(ϕ1_fake)\n",
    "        ]\n",
    "    )\n",
    "    T_fake = 12\n",
    "    nb_sim = 300\n",
    "\n",
    "    fake_regime_h_list = []\n",
    "    fake_data_list = []\n",
    "\n",
    "    prob_ss0, prob_ss1 = steady_state(q_fake, p_fake)\n",
    "\n",
    "    init_sim = (np.random.uniform(0, 1, nb_sim) <= prob_ss1) * 1\n",
    "\n",
    "    for i in range(nb_sim):\n",
    "        mc = qe.MarkovChain(mkv_mat)\n",
    "        regime_h = mc.simulate(ts_length=T_fake + 1, init=init_sim[i])\n",
    "        regime_l = 1 - regime_h\n",
    "        shocks = np.random.randn(T_fake + 1) * σ_fake\n",
    "        constant_l = α_fake\n",
    "        constant_h = α_fake + β_fake\n",
    "        y = (regime_l * constant_l + regime_h * constant_h) + shocks\n",
    "        ## AR1 process\n",
    "        for t in range(1, T_fake):\n",
    "            y[t] = ϕ1_fake * y[t - 1] + y[t]\n",
    "\n",
    "        ## add to the list\n",
    "        this_y_2d = y[1:].reshape(-1, len(y[1:]))\n",
    "        fake_data_list.append(this_y_2d)\n",
    "        fake_regime_h_list.append(regime_h)\n",
    "    index = range(T_fake)"
   ]
  },
  {
   "cell_type": "code",
   "execution_count": 6,
   "metadata": {
    "code_folding": [
     0,
     16
    ]
   },
   "outputs": [
    {
     "data": {
      "image/png": "[encoded data removed]",
      "text/plain": [
       "<Figure size 720x360 with 1 Axes>"
      ]
     },
     "metadata": {
      "needs_background": "light"
     },
     "output_type": "display_data"
    }
   ],
   "source": [
    "if __name__ == \"__main__\":\n",
    "    ## plot the simulated data\n",
    "    if len(fake_data_list) == 1:\n",
    "        random_id = 0\n",
    "    else:\n",
    "        random_id = np.random.randint(0, len(fake_data_list) - 1)\n",
    "\n",
    "    ## get the random data and regime sequence\n",
    "    y = fake_data_list[random_id].T\n",
    "    regime_h = fake_regime_h_list[random_id]\n",
    "\n",
    "    plt.figure(figsize=(10, 5))\n",
    "    plt.title(\"Simulated time series and the hidden state\")\n",
    "    plt.plot(y, label=r\"$y_t$\")\n",
    "    plt.fill_between(\n",
    "        index,\n",
    "        np.min(y),\n",
    "        np.max(y),\n",
    "        where=regime_h[1:],\n",
    "        color=\"k\",\n",
    "        alpha=0.3,\n",
    "        label=\"high\",\n",
    "    )\n",
    "    plt.legend(loc=1)"
   ]
  },
  {
   "cell_type": "code",
   "execution_count": 21,
   "metadata": {
    "code_folding": []
   },
   "outputs": [],
   "source": [
    "if __name__ == \"__main__\":\n",
    "    ## plot log-likelihood based on the true parameters\n",
    "\n",
    "    llh, filter1, pr1, pdf = mkv2.log_likelihood(fake_data_list, para_fake)"
   ]
  },
  {
   "cell_type": "code",
   "execution_count": 22,
   "metadata": {
    "code_folding": [
     19
    ]
   },
   "outputs": [
    {
     "data": {
      "image/png": "[encoded data removed]",
      "text/plain": [
       "<Figure size 720x360 with 2 Axes>"
      ]
     },
     "metadata": {
      "needs_background": "light"
     },
     "output_type": "display_data"
    }
   ],
   "source": [
    "if __name__ == \"__main__\":\n",
    "    ## plot the simulated data\n",
    "    if len(fake_data_list) == 1:\n",
    "        random_id = 0\n",
    "    else:\n",
    "        random_id = np.random.randint(0, len(fake_data_list) - 1)\n",
    "\n",
    "    ## get the random data and regime sequence\n",
    "    y = fake_data_list[random_id].T\n",
    "    regime_h = fake_regime_h_list[random_id]\n",
    "\n",
    "    ## plot everything\n",
    "    fig, ax = plt.subplots(figsize=(10, 5))\n",
    "    ax.set_title(\"Simulated time series and the hidden state\")\n",
    "\n",
    "    ## time series of y\n",
    "    ax.plot(y, label=r\"$y_t$\")\n",
    "    ## regime\n",
    "    ax.fill_between(\n",
    "        index,\n",
    "        np.min(y),\n",
    "        np.max(y),\n",
    "        where=regime_h[1:],\n",
    "        color=\"k\",\n",
    "        alpha=0.3,\n",
    "        label=\"high\",\n",
    "    )\n",
    "\n",
    "    ax2 = ax.twinx()\n",
    "    ## filter prob\n",
    "    ax2.plot(filter1[random_id][:-1], \"r--\", label=\"filtered prob with true para\")\n",
    "    ax.legend(loc=1)\n",
    "    ax2.legend(loc=2)"
   ]
  },
  {
   "cell_type": "code",
   "execution_count": null,
   "metadata": {
    "code_folding": [
     0,
     4
    ],
    "lines_to_next_cell": 2
   },
   "outputs": [],
   "source": [
    "if __name__ == \"__main__\":\n",
    "    ## try estimation\n",
    "\n",
    "    obj = lambda para: -mkv2.log_likelihood(fake_data_list, para)[\n",
    "        0\n",
    "    ]  ## only the first output\n",
    "\n",
    "    ## tight bounds for some parameters\n",
    "    sigma_ub = np.mean([np.std(np.array(x)) for x in fake_data_list])\n",
    "    sigma_inv_ub = exp_func_inv(sigma_ub)\n",
    "    q_lb = 0.5  ## persistent\n",
    "    q_inv_lb = prob_func_inv(q_lb)\n",
    "    p_lb = 0.5  ## persistent\n",
    "    p_inv_lb = prob_func_inv(p_lb)\n",
    "\n",
    "    ## estimation\n",
    "    # guess = (0.2,0.3,0.1,0.1,0.4)\n",
    "    guess = para_fake\n",
    "    # bounds = ((-0.3,1),(-2,2),(-2,2),(-4,1),(-4,1),)\n",
    "    bounds = (\n",
    "        (None, None),\n",
    "        (0.0, None),\n",
    "        (-3, sigma_inv_ub),\n",
    "        (None, None),\n",
    "        (None, None),\n",
    "    )\n",
    "\n",
    "    result = minimize(\n",
    "        obj,\n",
    "        x0=guess,\n",
    "        method=\"trust-constr\",  # trust-constr\n",
    "        bounds=bounds,\n",
    "        options={\n",
    "            \"disp\": False,\n",
    "        },\n",
    "    )\n",
    "    print(\"success? \", result[\"success\"])\n",
    "    para_est = result[\"x\"]\n",
    "\n",
    "    para_fake_dict = mkv2.make_para_dict(para_fake)\n",
    "    para_guess_dict = mkv2.make_para_dict(guess)\n",
    "    para_est_dict = mkv2.make_para_dict(para_est)\n",
    "\n",
    "    # results\n",
    "    print(\"fake TRUE parameters\\n\", para_fake_dict)\n",
    "    print(\"initial guess of the parameters\\n\", para_guess_dict)\n",
    "    print(\"estimated parameters\\n\", para_est_dict)"
   ]
  },
  {
   "cell_type": "code",
   "execution_count": null,
   "metadata": {
    "code_folding": []
   },
   "outputs": [],
   "source": [
    "if __name__ == \"__main__\":\n",
    "    # Based on estimates of parameters and data; compute filtered probabilities\n",
    "\n",
    "    llh, filter1, pr1, pdf = mkv2.log_likelihood(fake_data_list, para_est)\n",
    "    # filter1: prob of good state;\n",
    "    # pr1: predicted prob of good state"
   ]
  },
  {
   "cell_type": "code",
   "execution_count": null,
   "metadata": {
    "code_folding": [
     0,
     3,
     5,
     19,
     22
    ],
    "lines_to_next_cell": 0
   },
   "outputs": [],
   "source": [
    "if __name__ == \"__main__\":\n",
    "    ## plot the simulated data\n",
    "    if len(fake_data_list) == 1:\n",
    "        random_id = 0\n",
    "    else:\n",
    "        random_id = np.random.randint(0, len(fake_data_list) - 1)\n",
    "\n",
    "    ## get the random data and regime sequence\n",
    "    y = fake_data_list[random_id].T\n",
    "    regime_h = fake_regime_h_list[random_id]\n",
    "\n",
    "    ## plot everything\n",
    "\n",
    "    fig, ax = plt.subplots(figsize=(10, 5))\n",
    "    ax.set_title(\"Simulated time series and the hidden state\")\n",
    "\n",
    "    ## time series of y\n",
    "    ax.plot(y, label=r\"$y_t$\")\n",
    "    ## regime\n",
    "    ax.fill_between(\n",
    "        index,\n",
    "        np.min(y),\n",
    "        np.max(y),\n",
    "        where=regime_h[1:],\n",
    "        color=\"k\",\n",
    "        alpha=0.3,\n",
    "        label=\"high\",\n",
    "    )\n",
    "    ax2 = ax.twinx()\n",
    "    ## filter prob\n",
    "    ax2.plot(filter1[random_id][:-1], \"r--\", label=\"filtered prob with est para\")\n",
    "    ax.legend(loc=1)\n",
    "    ax2.legend(loc=2)"
   ]
  },
  {
   "cell_type": "code",
   "execution_count": null,
   "metadata": {
    "lines_to_next_cell": 2
   },
   "outputs": [],
   "source": []
  }
 ],
 "metadata": {
  "jupytext": {
   "encoding": "# -*- coding: utf-8 -*-",
   "formats": "ipynb,py:light"
  },
  "kernelspec": {
   "display_name": "Python 3 (ipykernel)",
   "language": "python",
   "name": "python3"
  },
  "language_info": {
   "codemirror_mode": {
    "name": "ipython",
    "version": 3
   },
   "file_extension": ".py",
   "mimetype": "text/x-python",
   "name": "python",
   "nbconvert_exporter": "python",
   "pygments_lexer": "ipython3",
   "version": "3.8.13"
  }
 },
 "nbformat": 4,
 "nbformat_minor": 4
}
