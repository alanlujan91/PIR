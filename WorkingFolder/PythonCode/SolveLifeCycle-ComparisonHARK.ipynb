{
 "cells": [
  {
   "cell_type": "markdown",
   "metadata": {},
   "source": [
    "## Comparing the PIR and HARK solution\n",
    "\n",
    "- author: Tao Wang\n",
    "- date: Feb 2022\n",
    "- this is a companion notebook to the paper \"Perceived income risks\""
   ]
  },
  {
   "cell_type": "code",
   "execution_count": 7,
   "metadata": {},
   "outputs": [],
   "source": [
    "import numpy as np\n",
    "import pandas as pd\n",
    "from quantecon.optimize import brent_max, brentq\n",
    "from interpolation import interp, mlinterp\n",
    "from scipy import interpolate\n",
    "import numba as nb\n",
    "from numba import jit,njit, float64, int64, boolean\n",
    "from numba.experimental import jitclass\n",
    "import matplotlib as mp\n",
    "import matplotlib.pyplot as plt\n",
    "%matplotlib inline\n",
    "from quantecon import MarkovChain\n",
    "import quantecon as qe \n",
    "from mpl_toolkits.mplot3d import Axes3D\n",
    "from matplotlib import cm\n",
    "from time import time\n",
    "#from HARK.utilities import make_grid_exp_mult\n",
    "from scipy import sparse as sp\n",
    "import scipy.sparse.linalg\n",
    "from scipy import linalg as lg \n",
    "from numba.typed import List\n",
    "from Utility import cal_ss_2markov"
   ]
  },
  {
   "cell_type": "code",
   "execution_count": 8,
   "metadata": {
    "code_folding": []
   },
   "outputs": [],
   "source": [
    "## figure plotting configurations\n",
    "\n",
    "mp.rc('xtick', labelsize=11) \n",
    "mp.rc('ytick', labelsize=11) \n",
    "\n",
    "mp.rc('legend',fontsize=11)\n",
    "plt.rc('font',size=11) "
   ]
  },
  {
   "cell_type": "code",
   "execution_count": 9,
   "metadata": {},
   "outputs": [],
   "source": [
    "from SolveLifeCycle import LifeCycle, EGM, solve_model_iter\n",
    "from PrepareParameters import life_cycle_paras_y as inf_paras"
   ]
  },
  {
   "cell_type": "markdown",
   "metadata": {},
   "source": [
    "### parameters "
   ]
  },
  {
   "cell_type": "code",
   "execution_count": 22,
   "metadata": {},
   "outputs": [],
   "source": [
    "inf_paras['G'] =  np.ones_like(inf_paras['G'])\n",
    "inf_paras['unemp_insurance'] = 0.0\n",
    "inf_paras['P'] = np.array([[0.9,0.1],[0.2,0.8]])\n",
    "\n",
    "grid_max = 5.0\n",
    "grid_size = 50"
   ]
  },
  {
   "cell_type": "code",
   "execution_count": 23,
   "metadata": {
    "code_folding": [
     0
    ]
   },
   "outputs": [],
   "source": [
    "inf_mkv = LifeCycle(U = inf_paras['U'], ## transitory ue risk\n",
    "                    unemp_insurance = inf_paras['unemp_insurance'],\n",
    "                    pension = inf_paras['pension'], ## pension\n",
    "                    sigma_n = inf_paras['σ_ψ'], # permanent \n",
    "                    sigma_eps = inf_paras['σ_θ'], # transitory \n",
    "                    P = inf_paras['P'],   ## transitory probability of markov state z\n",
    "                    z_val = inf_paras['z_val'], ## markov state from low to high  \n",
    "                    x = 0.0,           ## MA(1) coefficient of non-permanent inocme shocks\n",
    "                    ue_markov = True,   \n",
    "                    adjust_prob = 1.0,\n",
    "                    sigma_p_init = inf_paras['σ_ψ_init'],\n",
    "                    init_b = inf_paras['init_b'],\n",
    "                    ## subjective risk prifile \n",
    "                    sigma_n_2mkv = inf_paras['σ_ψ_2mkv'],  ## permanent risks in 2 markov states\n",
    "                    sigma_eps_2mkv = inf_paras['σ_θ_2mkv'],  ## transitory risks in 2 markov states\n",
    "                    λ = inf_paras['λ'],  ## tax rate\n",
    "                    λ_SS = inf_paras['λ_SS'], ## social tax rate\n",
    "                    transfer = inf_paras['transfer'],  ## transfer \n",
    "                    bequest_ratio = inf_paras['bequest_ratio'],\n",
    "                    LivPrb = inf_paras['LivPrb'],       ## living probability \n",
    "                    ## life cycle \n",
    "                    T = inf_paras['T'],\n",
    "                    L = inf_paras['L'],\n",
    "                    G = inf_paras['G'],\n",
    "                    #YPath = np.cumprod(G),\n",
    "                    ## other parameters \n",
    "                    ρ = inf_paras['ρ'],     ## relative risk aversion  \n",
    "                    β = inf_paras['β'],    ## discount factor\n",
    "                    R = inf_paras['R'],           ## interest factor \n",
    "                    W = inf_paras['W'],            ## Wage rate\n",
    "                    ## subjective models \n",
    "                    theta = 0.0, ## extrapolation parameter \n",
    "                    ## no persistent state\n",
    "                    b_y = 0.0,\n",
    "                    ## wether to have zero borrowing constraint \n",
    "                    borrowing_cstr = True,\n",
    "                    ## a grids \n",
    "                    grid_max = 20,\n",
    "                    grid_size = 200,\n",
    "    )"
   ]
  },
  {
   "cell_type": "code",
   "execution_count": 6,
   "metadata": {
    "code_folding": [
     0,
     9
    ]
   },
   "outputs": [
    {
     "name": "stdout",
     "output_type": "stream",
     "text": [
      "Error at iteration 50 is 0.0017409226110949305.\n",
      "Error at iteration 100 is 5.517104514152216e-05.\n",
      "Error at iteration 150 is 1.957220169268581e-06.\n",
      "\n",
      "Converged in 161 iterations.\n",
      "Time taken, in seconds: 338.8171441555023\n"
     ]
    },
    {
     "data": {
      "text/plain": [
       "Text(0.5, 1.0, 'Inifite horizon solution')"
      ]
     },
     "execution_count": 6,
     "metadata": {},
     "output_type": "execute_result"
    },
    {
     "data": {
      "image/png": "[encoded data removed]",
      "text/plain": [
       "<Figure size 432x288 with 1 Axes>"
      ]
     },
     "metadata": {
      "needs_background": "light"
     },
     "output_type": "display_data"
    }
   ],
   "source": [
    "## initial consumption functions \n",
    "\n",
    "k = len(inf_mkv.s_grid)\n",
    "k2 =len(inf_mkv.eps_grid)\n",
    "\n",
    "n = len(inf_mkv.P)\n",
    "σ_init = np.empty((k,k2,n))\n",
    "a_init = np.empty((k,k2,n))\n",
    "\n",
    "for z in range(n):\n",
    "    for j in range(k2):\n",
    "        a_init[:,j,z] = inf_mkv.s_grid\n",
    "        σ_init[:,j,z] = 0.1*a_init[:,j,z]\n",
    "\n",
    "t_start = time()\n",
    "\n",
    "a_inf_star, σ_inf_star = solve_model_iter(inf_mkv,\n",
    "                                          a_init,\n",
    "                                          σ_init)\n",
    "t_finish = time()\n",
    "\n",
    "print(\"Time taken, in seconds: \"+ str(t_finish - t_start))   \n",
    "\n",
    "\n",
    "## plot c func \n",
    "\n",
    "eps = 10 ## a random number \n",
    "m_plt_u, c_plt_u = a_inf_star[:,eps,0],σ_inf_star[:,eps,0] \n",
    "m_plt_e, c_plt_e = a_inf_star[:,eps,1], σ_inf_star[:,eps,1]\n",
    "plt.plot(m_plt_u,\n",
    "         c_plt_u,\n",
    "         label = 'unemployed',\n",
    "        )\n",
    "plt.plot(m_plt_e,\n",
    "         c_plt_e,\n",
    "         label = 'employed',\n",
    "        )\n",
    "plt.legend()\n",
    "plt.xlabel(r'$m$')\n",
    "plt.ylabel(r'$c$')\n",
    "plt.title('Inifite horizon solution')"
   ]
  },
  {
   "cell_type": "markdown",
   "metadata": {},
   "source": [
    "## Solving the same model with HARK\n"
   ]
  },
  {
   "cell_type": "code",
   "execution_count": 10,
   "metadata": {},
   "outputs": [],
   "source": [
    "from copy import copy\n",
    "from HARK.ConsumptionSaving.ConsMarkovModel import MarkovConsumerType\n",
    "from HARK.distribution import DiscreteDistribution\n",
    "from HARK.ConsumptionSaving.ConsIndShockModel import init_lifecycle\n",
    "from HARK.ConsumptionSaving.ConsIndShockModel import init_idiosyncratic_shocks\n",
    "from HARK.utilities import plot_funcs"
   ]
  },
  {
   "cell_type": "code",
   "execution_count": 8,
   "metadata": {},
   "outputs": [],
   "source": [
    "## for infinite horizon \n",
    "hark_mkv_para = copy(init_idiosyncratic_shocks)\n",
    "hark_mkv_para[\"MrkvArray\"] = [inf_paras['P']]\n",
    "hark_mkv_para[\"UnempPrb\"] = inf_paras['U']  # to make income distribution when employed\n",
    "hark_mkv_para[\"global_markov\"] = False\n",
    "hark_mkv_para['CRRA'] = inf_paras['ρ']\n",
    "hark_mkv_para['Rfree'] = inf_paras['R']\n",
    "hark_mkv_para['LivPrb'] = [inf_paras['LivPrb']]\n",
    "hark_mkv_para['PermGroFac'] = [1.0]\n",
    "hark_mkv_para['PermShkStd'] = [inf_paras['σ_ψ']]\n",
    "hark_mkv_para['TranShkStd'] = [inf_paras['σ_θ']]\n",
    "hark_mkv_para['DiscFac'] = inf_paras['β']\n",
    "hark_mkv_para['aXtraMax'] = grid_max\n",
    "hark_mkv_para['aXtraCount'] = grid_size-1"
   ]
  },
  {
   "cell_type": "code",
   "execution_count": 9,
   "metadata": {},
   "outputs": [
    {
     "name": "stdout",
     "output_type": "stream",
     "text": [
      "HARK parameterization {'CRRA': 1.0, 'Rfree': 1.01, 'DiscFac': 0.98, 'LivPrb': [0.99375], 'PermGroFac': [1.0], 'BoroCnstArt': 0.0, 'MaxKinks': 400, 'AgentCount': 10000, 'aNrmInitMean': 0.0, 'aNrmInitStd': 1.0, 'pLvlInitMean': 0.0, 'pLvlInitStd': 0.0, 'PermGroFacAgg': 1.0, 'T_age': None, 'T_cycle': 1, 'aXtraMin': 0.001, 'aXtraMax': 5.0, 'aXtraNestFac': 3, 'aXtraCount': 49, 'aXtraExtra': [None], 'PermShkStd': [0.15], 'PermShkCount': 7, 'TranShkStd': [0.1], 'TranShkCount': 7, 'UnempPrb': 0.0, 'UnempPrbRet': 0.005, 'IncUnemp': 0.3, 'IncUnempRet': 0.0, 'tax_rate': 0.0, 'T_retire': 0, 'vFuncBool': False, 'CubicBool': False, 'MrkvArray': [array([[0.9, 0.1],\n",
      "       [0.2, 0.8]])], 'global_markov': False}\n",
      "PIR parameterization {'ρ': 1.0, 'β': 0.98, 'P': array([[0.9, 0.1],\n",
      "       [0.2, 0.8]]), 'z_val': array([0., 1.]), 'σ_ψ': 0.15, 'σ_θ': 0.1, 'U': 0.0, 'LivPrb': 0.99375, 'R': 1.01, 'W': 1.0, 'T': 40, 'L': 60, 'G': array([1., 1., 1., 1., 1., 1., 1., 1., 1., 1., 1., 1., 1., 1., 1., 1., 1.,\n",
      "       1., 1., 1., 1., 1., 1., 1., 1., 1., 1., 1., 1., 1., 1., 1., 1., 1.,\n",
      "       1., 1., 1., 1., 1., 1., 1., 1., 1., 1., 1., 1., 1., 1., 1., 1., 1.,\n",
      "       1., 1., 1., 1., 1., 1., 1., 1., 1.]), 'unemp_insurance': 0.0, 'pension': 1.0, 'σ_ψ_init': 0.6285209184601319, 'init_b': 0.5540657379463796, 'λ': 0.0, 'λ_SS': 0.0, 'transfer': 0.0, 'bequest_ratio': 0.0, 'κ': 1.719786711116489, 'q': 0.9999949729217684, 'p': 0.9999949729217684, 'σ_ψ_2mkv': array([0.30487402, 0.97615849]), 'σ_θ_2mkv': array([0.00738643, 0.02365018]), 'mho_2mkv': array([0.31532124, 0.99885345]), 'E_2mkv': array([0.31808566, 0.99884752])}\n"
     ]
    }
   ],
   "source": [
    "print('HARK parameterization',str(hark_mkv_para))\n",
    "print('PIR parameterization',str(inf_paras))"
   ]
  },
  {
   "cell_type": "code",
   "execution_count": 10,
   "metadata": {},
   "outputs": [],
   "source": [
    "hark_mkv = MarkovConsumerType(**hark_mkv_para)\n",
    "hark_mkv.cycles = 0\n",
    "hark_mkv.vFuncBool = False  # for easy toggling here"
   ]
  },
  {
   "cell_type": "code",
   "execution_count": 11,
   "metadata": {
    "code_folding": []
   },
   "outputs": [],
   "source": [
    "# Interest factor, permanent growth rates, and survival probabilities are constant arrays\n",
    "hark_mkv.assign_parameters(Rfree = np.array(2 * [hark_mkv.Rfree]))\n",
    "hark_mkv.PermGroFac = [\n",
    "    np.array(2 * hark_mkv.PermGroFac)\n",
    "]\n",
    "hark_mkv.LivPrb = [hark_mkv.LivPrb * np.ones(2)]"
   ]
  },
  {
   "cell_type": "code",
   "execution_count": 12,
   "metadata": {
    "code_folding": [
     3
    ]
   },
   "outputs": [],
   "source": [
    "# Replace the default (lognormal) income distribution with a custom one\n",
    "employed_income_dist = DiscreteDistribution(np.ones(1), [np.ones(1), np.ones(1)])  # Definitely get income\n",
    "unemployed_income_dist = DiscreteDistribution(np.ones(1), [np.ones(1), np.zeros(1)]) # Definitely don't\n",
    "hark_mkv.IncShkDstn = [\n",
    "    [\n",
    "        unemployed_income_dist,\n",
    "        employed_income_dist\n",
    "    ]\n",
    "]"
   ]
  },
  {
   "cell_type": "code",
   "execution_count": 13,
   "metadata": {
    "code_folding": []
   },
   "outputs": [
    {
     "name": "stdout",
     "output_type": "stream",
     "text": [
      "Solving a Markov consumer with serially correlated unemployment took 0.1097710132598877 seconds.\n",
      "Consumption functions for each discrete state:\n"
     ]
    },
    {
     "data": {
      "image/png": "[encoded data removed]",
      "text/plain": [
       "<Figure size 432x288 with 1 Axes>"
      ]
     },
     "metadata": {
      "needs_background": "light"
     },
     "output_type": "display_data"
    }
   ],
   "source": [
    "## solve the model \n",
    "\n",
    "start_time = time()\n",
    "hark_mkv.solve()\n",
    "end_time = time()\n",
    "print(\n",
    "    \"Solving a Markov consumer with serially correlated unemployment took \"\n",
    "    + str(end_time - start_time)\n",
    "    + \" seconds.\"\n",
    ")\n",
    "print(\"Consumption functions for each discrete state:\")\n",
    "plot_funcs(hark_mkv.solution[0].cFunc, 0, 20)\n",
    "if hark_mkv.vFuncBool:\n",
    "    print(\"Value functions for each discrete state:\")\n",
    "    plot_funcs(hark_mkv.solution[0].vFunc, 5, 20)"
   ]
  },
  {
   "cell_type": "code",
   "execution_count": 14,
   "metadata": {
    "lines_to_next_cell": 0
   },
   "outputs": [
    {
     "data": {
      "text/plain": [
       "<matplotlib.legend.Legend at 0x7f908dca9fd0>"
      ]
     },
     "execution_count": 14,
     "metadata": {},
     "output_type": "execute_result"
    },
    {
     "data": {
      "image/png": "[encoded data removed]",
      "text/plain": [
       "<Figure size 432x288 with 1 Axes>"
      ]
     },
     "metadata": {
      "needs_background": "light"
     },
     "output_type": "display_data"
    }
   ],
   "source": [
    "## compare the solutions \n",
    "\n",
    "## get the HARK c  \n",
    "c_u_HARK = hark_mkv.solution[0].cFunc[0](m_plt_u)\n",
    "c_e_HARK = hark_mkv.solution[0].cFunc[1](m_plt_e)\n",
    "\n",
    "plt.title('Comparing consumption policies')\n",
    "plt.plot(m_plt_u,c_u_HARK,'k-',label='uemp:HARK')\n",
    "plt.plot(m_plt_u,c_plt_u,'r*',label='uemp:PIR')\n",
    "plt.plot(m_plt_e,c_e_HARK,'b--',label='emp:HARK')\n",
    "plt.plot(m_plt_e,c_plt_e,'go',label='emp:PIR')\n",
    "plt.legend(loc=0)"
   ]
  },
  {
   "cell_type": "markdown",
   "metadata": {},
   "source": [
    "## Wealth distribution over life cycle "
   ]
  },
  {
   "cell_type": "code",
   "execution_count": 24,
   "metadata": {},
   "outputs": [
    {
     "data": {
      "text/plain": [
       "{'ρ': 1.0,\n",
       " 'β': 0.98,\n",
       " 'P': array([[0.9, 0.1],\n",
       "        [0.2, 0.8]]),\n",
       " 'z_val': array([0., 1.]),\n",
       " 'σ_ψ': 0.15,\n",
       " 'σ_θ': 0.1,\n",
       " 'U': 0.0,\n",
       " 'LivPrb': 0.99375,\n",
       " 'R': 1.01,\n",
       " 'W': 1.0,\n",
       " 'T': 40,\n",
       " 'L': 60,\n",
       " 'G': array([1., 1., 1., 1., 1., 1., 1., 1., 1., 1., 1., 1., 1., 1., 1., 1., 1.,\n",
       "        1., 1., 1., 1., 1., 1., 1., 1., 1., 1., 1., 1., 1., 1., 1., 1., 1.,\n",
       "        1., 1., 1., 1., 1., 1., 1., 1., 1., 1., 1., 1., 1., 1., 1., 1., 1.,\n",
       "        1., 1., 1., 1., 1., 1., 1., 1., 1.]),\n",
       " 'unemp_insurance': 0.0,\n",
       " 'pension': 1.0,\n",
       " 'σ_ψ_init': 0.6285209184601319,\n",
       " 'init_b': 0.5540657379463796,\n",
       " 'λ': 0.0,\n",
       " 'λ_SS': 0.0,\n",
       " 'transfer': 0.0,\n",
       " 'bequest_ratio': 0.0,\n",
       " 'κ': 1.719786711116489,\n",
       " 'q': 0.9999949729217684,\n",
       " 'p': 0.9999949729217684,\n",
       " 'σ_ψ_2mkv': array([0.30487402, 0.97615849]),\n",
       " 'σ_θ_2mkv': array([0.00738643, 0.02365018]),\n",
       " 'mho_2mkv': array([0.31532124, 0.99885345]),\n",
       " 'E_2mkv': array([0.31808566, 0.99884752])}"
      ]
     },
     "execution_count": 24,
     "metadata": {},
     "output_type": "execute_result"
    }
   ],
   "source": [
    "lc_paras"
   ]
  },
  {
   "cell_type": "code",
   "execution_count": 25,
   "metadata": {},
   "outputs": [
    {
     "data": {
      "text/plain": [
       "'\\nLifeCycleType = MarkovConsumerType(**init_life_cycle_new)\\n\\nLifeCycleType.cycles = 1 ## life cycle problem instead of infinite horizon\\nLifeCycleType.vFuncBool = False  ## no need to calculate the value for the purpose here \\n'"
      ]
     },
     "execution_count": 25,
     "metadata": {},
     "output_type": "execute_result"
    }
   ],
   "source": [
    "## for life cycle \n",
    "init_life_cycle_new = copy(init_lifecycle)\n",
    "lc_paras = inf_paras\n",
    "\n",
    "init_life_cycle_new['T_cycle'] = lc_paras['L']-1   ## minus 1 because T_cycle is nb periods in a life cycle - 1 in HARK \n",
    "init_life_cycle_new['CRRA'] = lc_paras['ρ']\n",
    "init_life_cycle_new['T_retire'] = lc_paras['T']\n",
    "init_life_cycle_new['Rfree'] = lc_paras['R']\n",
    "init_life_cycle_new['LivPrb'] = [lc_paras['LivPrb']]*init_life_cycle_new['T_cycle']\n",
    "init_life_cycle_new['PermGroFac'] = lc_paras['G']\n",
    "init_life_cycle_new['PermShkStd'] = [lc_paras['σ_ψ']]*init_life_cycle_new['T_cycle']\n",
    "init_life_cycle_new['TranShkStd'] = [lc_paras['σ_θ']]*init_life_cycle_new['T_cycle']\n",
    "init_life_cycle_new['DiscFac'] = lc_paras['β']\n",
    "init_life_cycle_new['PermGroFacAgg'] = 1.0\n",
    "init_life_cycle_new['aNrmInitMean']= lc_paras['init_b']\n",
    "init_life_cycle_new['aNrmInitStd']= 0.0\n",
    "init_life_cycle_new['pLvlInitMean']= 1.0\n",
    "init_life_cycle_new['pLvlInitStd']= lc_paras['σ_ψ_init']\n",
    "init_life_cycle_new[\"UnempPrb\"] = lc_paras['U']  # to make income distribution when employed\n",
    "\n",
    "#init_life_cycle_new['aXtraMin'] = a_min+0.00001\n",
    "#init_life_cycle_new['aXtraMax'] = a_max\n",
    "#init_life_cycle_new['aXtraCount'] = 800\n",
    "\n",
    "#init_life_cycle_new[\"MrkvArray\"] = [lc_paras['P']]\n",
    "#init_life_cycle_new[\"global_markov\"] = False\n",
    "\n",
    "\"\"\"\n",
    "LifeCycleType = MarkovConsumerType(**init_life_cycle_new)\n",
    "\n",
    "LifeCycleType.cycles = 1 ## life cycle problem instead of infinite horizon\n",
    "LifeCycleType.vFuncBool = False  ## no need to calculate the value for the purpose here \n",
    "\"\"\""
   ]
  },
  {
   "cell_type": "code",
   "execution_count": 26,
   "metadata": {},
   "outputs": [],
   "source": [
    "import HARK.ConsumptionSaving.ConsIndShockModel as HARK_model         # The consumption-saving micro model\n",
    "from HARK.utilities import plot_funcs_der, plot_funcs              # Some tools"
   ]
  },
  {
   "cell_type": "code",
   "execution_count": 27,
   "metadata": {},
   "outputs": [],
   "source": [
    "LifeCyclePop = HARK_model.IndShockConsumerType(**init_life_cycle_new)\n",
    "LifeCyclePop.cycles = 1\n",
    "LifeCyclePop.vFuncBool = False  # for easy toggling here"
   ]
  },
  {
   "cell_type": "code",
   "execution_count": 28,
   "metadata": {},
   "outputs": [
    {
     "name": "stderr",
     "output_type": "stream",
     "text": [
      "/Users/tao/opt/anaconda3/envs/econ-ark/lib/python3.9/site-packages/HARK/core.py:871: RuntimeWarning: invalid value encountered in add\n",
      "  self.history[var_name] = np.empty((self.T_sim, self.AgentCount)) + np.nan\n"
     ]
    },
    {
     "data": {
      "text/plain": [
       "{'aNrm': array([[1.75933448, 1.668137  , 1.668137  , ..., 1.56744811, 1.668137  ,\n",
       "         1.85565089],\n",
       "        [1.40750715, 1.7185982 , 1.57818243, ..., 1.57554329, 1.668137  ,\n",
       "         1.83132862],\n",
       "        [1.68139601, 1.45403046, 1.23313582, ..., 1.85990492, 1.85435485,\n",
       "         2.1053309 ],\n",
       "        ...,\n",
       "        [1.82785935, 0.16627707, 0.16616134, ..., 0.17585811, 1.45238341,\n",
       "         0.16586079],\n",
       "        [2.0536408 , 0.13638995, 0.13632591, ..., 0.1416911 , 1.4592419 ,\n",
       "         0.13615962],\n",
       "        [2.43597715, 0.08900065, 0.088975  , ..., 0.0911243 , 1.53787121,\n",
       "         0.08890838]]),\n",
       " 'pLvl': array([[ 9.43475321,  3.54285931,  7.31071278, ...,  1.53191434,\n",
       "          2.52921039,  1.45158615],\n",
       "        [11.84960795,  3.50364938,  8.15227043, ...,  1.70825751,\n",
       "          3.98741805,  1.43552099],\n",
       "        [10.39477296,  4.40041945, 10.23886969, ...,  1.33561014,\n",
       "          3.73137329,  1.34334163],\n",
       "        ...,\n",
       "        [ 6.04201397,  3.47778199, 15.19810788, ...,  0.56956476,\n",
       "          2.52558912,  4.68959406],\n",
       "        [ 5.30020602,  3.47778199, 15.19810788, ...,  0.56956476,\n",
       "          2.36341303,  4.68959406],\n",
       "        [ 4.14399404,  3.47778199, 15.19810788, ...,  0.56956476,\n",
       "          2.3372564 ,  4.68959406]]),\n",
       " 'mNrm': array([[2.77738837, 2.6818105 , 2.6818105 , ..., 2.57626855, 2.6818105 ,\n",
       "         2.87833106],\n",
       "        [2.40987022, 2.73608695, 2.58887113, ..., 2.58610325, 2.6818105 ,\n",
       "         2.85426668],\n",
       "        [2.69852079, 2.46002164, 2.22821187, ..., 2.88571569, 2.87840598,\n",
       "         3.14296947],\n",
       "        ...,\n",
       "        [2.86048913, 1.19324072, 1.19305473, ..., 1.20863902, 2.54752238,\n",
       "         1.19257168],\n",
       "        [3.0995863 , 1.17296497, 1.17284808, ..., 1.18264181, 2.56263159,\n",
       "         1.17254452],\n",
       "        [3.50332166, 1.14277897, 1.1427143 , ..., 1.14813313, 2.65673441,\n",
       "         1.14254634]]),\n",
       " 'cNrm': array([[1.01805389, 1.0136735 , 1.0136735 , ..., 1.00882044, 1.0136735 ,\n",
       "         1.02268016],\n",
       "        [1.00236307, 1.01748875, 1.0106887 , ..., 1.01055996, 1.0136735 ,\n",
       "         1.02293806],\n",
       "        [1.01712478, 1.00599118, 0.99507605, ..., 1.02581077, 1.02405113,\n",
       "         1.03763857],\n",
       "        ...,\n",
       "        [1.03262978, 1.02696365, 1.02689338, ..., 1.03278091, 1.09513897,\n",
       "         1.0267109 ],\n",
       "        [1.0459455 , 1.03657502, 1.03652217, ..., 1.04095072, 1.1033897 ,\n",
       "         1.0363849 ],\n",
       "        [1.06734451, 1.05377832, 1.0537393 , ..., 1.05700883, 1.1188632 ,\n",
       "         1.05363796]]),\n",
       " 'TranShk': array([[1.        , 1.        , 1.        , ..., 1.        , 1.        ,\n",
       "         1.        ],\n",
       "        [0.99506599, 1.03241349, 1.0779763 , ..., 1.16640616, 1.        ,\n",
       "         0.95908471],\n",
       "        [1.0779763 , 1.0779763 , 0.95908471, ..., 0.85043016, 1.0779763 ,\n",
       "         1.16640616],\n",
       "        ...,\n",
       "        [1.16640616, 1.00502513, 1.00502513, ..., 1.00502513, 1.03241349,\n",
       "         1.00502513],\n",
       "        [0.99506599, 1.00502513, 1.00502513, ..., 1.00502513, 0.99506599,\n",
       "         1.00502513],\n",
       "        [0.85043016, 1.00502513, 1.00502513, ..., 1.00502513, 1.16640616,\n",
       "         1.00502513]])}"
      ]
     },
     "execution_count": 28,
     "metadata": {},
     "output_type": "execute_result"
    }
   ],
   "source": [
    "LifeCyclePop.solve()                            # Obtain consumption rules by age \n",
    "LifeCyclePop.unpack('cFunc')                      # Expose the consumption rules\n",
    "\n",
    "# Which variables do we want to track\n",
    "LifeCyclePop.track_vars = ['aNrm','pLvl','mNrm','cNrm','TranShk']\n",
    "\n",
    "LifeCyclePop.T_sim = lc_paras['L']-1              # Nobody lives to be older than 145 years (=25+120)\n",
    "LifeCyclePop.initialize_sim()                     # Construct the age-25 distribution of income and assets\n",
    "LifeCyclePop.simulate()"
   ]
  },
  {
   "cell_type": "code",
   "execution_count": 29,
   "metadata": {},
   "outputs": [],
   "source": [
    "LifeCyclePop.history['aLvl'] = LifeCyclePop.history['aNrm']*LifeCyclePop.history['pLvl']\n",
    "aGro41=LifeCyclePop.history['aLvl'][41]/LifeCyclePop.history['aLvl'][40]\n",
    "aGro41NoU=aGro41[aGro41[:]>0.2] # Throw out extreme outliers\n",
    "aGro41NoU = aGro41NoU[aGro41NoU[:]<2]"
   ]
  },
  {
   "cell_type": "code",
   "execution_count": 30,
   "metadata": {},
   "outputs": [
    {
     "data": {
      "image/png": "[encoded data removed]",
      "text/plain": [
       "<Figure size 432x288 with 1 Axes>"
      ]
     },
     "metadata": {
      "needs_background": "light"
     },
     "output_type": "display_data"
    }
   ],
   "source": [
    "# Plot the distribution of growth rates of wealth between age 65 and 66 (=25 + 41)\n",
    "n, bins, patches = plt.hist(aGro41NoU,50,density=True)"
   ]
  },
  {
   "cell_type": "code",
   "execution_count": 31,
   "metadata": {},
   "outputs": [
    {
     "data": {
      "text/plain": [
       "[<matplotlib.lines.Line2D at 0x7ffc00dc5f10>]"
      ]
     },
     "execution_count": 31,
     "metadata": {},
     "output_type": "execute_result"
    },
    {
     "data": {
      "image/png": "[encoded data removed]",
      "text/plain": [
       "<Figure size 432x288 with 1 Axes>"
      ]
     },
     "metadata": {
      "needs_background": "light"
     },
     "output_type": "display_data"
    }
   ],
   "source": [
    "plt.plot(LifeCyclePop.history['aLvl'].mean(axis=1))"
   ]
  },
  {
   "cell_type": "code",
   "execution_count": 32,
   "metadata": {},
   "outputs": [
    {
     "data": {
      "text/plain": [
       "[<matplotlib.lines.Line2D at 0x7ffc00be8df0>]"
      ]
     },
     "execution_count": 32,
     "metadata": {},
     "output_type": "execute_result"
    },
    {
     "data": {
      "image/png": "[encoded data removed]",
      "text/plain": [
       "<Figure size 432x288 with 1 Axes>"
      ]
     },
     "metadata": {
      "needs_background": "light"
     },
     "output_type": "display_data"
    }
   ],
   "source": [
    "plt.plot(np.log(LifeCyclePop.history['aLvl'].mean(axis=1)))"
   ]
  },
  {
   "cell_type": "code",
   "execution_count": 33,
   "metadata": {},
   "outputs": [
    {
     "data": {
      "text/plain": [
       "[<matplotlib.lines.Line2D at 0x7ffc00918e20>]"
      ]
     },
     "execution_count": 33,
     "metadata": {},
     "output_type": "execute_result"
    },
    {
     "data": {
      "image/png": "[encoded data removed]",
      "text/plain": [
       "<Figure size 432x288 with 1 Axes>"
      ]
     },
     "metadata": {
      "needs_background": "light"
     },
     "output_type": "display_data"
    }
   ],
   "source": [
    "plt.plot(LifeCyclePop.history['aLvl'].std(axis=1))"
   ]
  }
 ],
 "metadata": {
  "jupytext": {
   "encoding": "# -*- coding: utf-8 -*-",
   "formats": "ipynb,py:light"
  },
  "kernelspec": {
   "display_name": "Python 3 (ipykernel)",
   "language": "python",
   "name": "python3"
  },
  "language_info": {
   "codemirror_mode": {
    "name": "ipython",
    "version": 3
   },
   "file_extension": ".py",
   "mimetype": "text/x-python",
   "name": "python",
   "nbconvert_exporter": "python",
   "pygments_lexer": "ipython3",
   "version": "3.9.7"
  }
 },
 "nbformat": 4,
 "nbformat_minor": 4
}
