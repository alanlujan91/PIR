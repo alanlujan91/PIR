{
 "cells": [
  {
   "cell_type": "markdown",
   "metadata": {},
   "source": [
    "## Comparing the PIR and HARK solution\n",
    "\n",
    "- author: Tao Wang\n",
    "- date: Feb 2022\n",
    "- this is a companion notebook to the paper \"Perceived income risks\""
   ]
  },
  {
   "cell_type": "code",
   "execution_count": 1,
   "metadata": {
    "lines_to_next_cell": 2
   },
   "outputs": [
    {
     "name": "stderr",
     "output_type": "stream",
     "text": [
      "OMP: Info #271: omp_set_nested routine deprecated, please use omp_set_max_active_levels instead.\n"
     ]
    }
   ],
   "source": [
    "import numpy as np\n",
    "import pandas as pd\n",
    "from quantecon.optimize import brent_max, brentq\n",
    "from interpolation import interp, mlinterp\n",
    "from scipy import interpolate\n",
    "import numba as nb\n",
    "from numba import jit,njit, float64, int64, boolean\n",
    "from numba.experimental import jitclass\n",
    "import matplotlib as mp\n",
    "import matplotlib.pyplot as plt\n",
    "%matplotlib inline\n",
    "from quantecon import MarkovChain\n",
    "import quantecon as qe \n",
    "from mpl_toolkits.mplot3d import Axes3D\n",
    "from matplotlib import cm\n",
    "from time import time\n",
    "#from HARK.utilities import make_grid_exp_mult\n",
    "from scipy import sparse as sp\n",
    "import scipy.sparse.linalg\n",
    "from scipy import linalg as lg \n",
    "from numba.typed import List\n",
    "from Utility import cal_ss_2markov\n",
    "from copy import copy"
   ]
  },
  {
   "cell_type": "code",
   "execution_count": 2,
   "metadata": {
    "code_folding": [
     0
    ]
   },
   "outputs": [],
   "source": [
    "## figure plotting configurations\n",
    "\n",
    "mp.rc('xtick', labelsize=11) \n",
    "mp.rc('ytick', labelsize=11) \n",
    "\n",
    "mp.rc('legend',fontsize=11)\n",
    "plt.rc('font',size=11) "
   ]
  },
  {
   "cell_type": "code",
   "execution_count": 3,
   "metadata": {},
   "outputs": [],
   "source": [
    "from SolveLifeCycle import LifeCycle, EGM, solve_model_iter\n",
    "from PrepareParameters import life_cycle_paras_y "
   ]
  },
  {
   "cell_type": "markdown",
   "metadata": {},
   "source": [
    "### parameters "
   ]
  },
  {
   "cell_type": "code",
   "execution_count": 4,
   "metadata": {},
   "outputs": [],
   "source": [
    "inf_paras = copy(life_cycle_paras_y)\n",
    "inf_paras['G'] =  np.ones_like(inf_paras['G'])\n",
    "inf_paras['unemp_insurance'] = 0.0\n",
    "inf_paras['P'] = np.array([[0.9,0.1],[0.2,0.8]])\n",
    "\n",
    "grid_max = 5.0\n",
    "grid_size = 50"
   ]
  },
  {
   "cell_type": "code",
   "execution_count": 6,
   "metadata": {
    "code_folding": []
   },
   "outputs": [],
   "source": [
    "inf_mkv = LifeCycle(U = inf_paras['U'], ## transitory ue risk\n",
    "                    unemp_insurance = inf_paras['unemp_insurance'],\n",
    "                    pension = inf_paras['pension'], ## pension\n",
    "                    sigma_psi = inf_paras['σ_ψ'], # permanent \n",
    "                    sigma_eps = inf_paras['σ_θ'], # transitory \n",
    "                    P = inf_paras['P'],   ## transitory probability of markov state z\n",
    "                    z_val = inf_paras['z_val'], ## markov state from low to high  \n",
    "                    x = 0.0,           ## MA(1) coefficient of non-permanent inocme shocks\n",
    "                    ue_markov = True,   \n",
    "                    adjust_prob = 1.0,\n",
    "                    sigma_p_init = inf_paras['σ_ψ_init'],\n",
    "                    init_b = inf_paras['init_b'],\n",
    "                    ## subjective risk prifile \n",
    "                    sigma_psi_2mkv = inf_paras['σ_ψ_2mkv'],  ## permanent risks in 2 markov states\n",
    "                    sigma_eps_2mkv = inf_paras['σ_θ_2mkv'],  ## transitory risks in 2 markov states\n",
    "                    λ = inf_paras['λ'],  ## tax rate\n",
    "                    λ_SS = inf_paras['λ_SS'], ## social tax rate\n",
    "                    transfer = inf_paras['transfer'],  ## transfer \n",
    "                    bequest_ratio = inf_paras['bequest_ratio'],\n",
    "                    LivPrb = inf_paras['LivPrb'],       ## living probability \n",
    "                    ## life cycle \n",
    "                    T = inf_paras['T'],\n",
    "                    L = inf_paras['L'],\n",
    "                    G = inf_paras['G'],\n",
    "                    #YPath = np.cumprod(G),\n",
    "                    ## other parameters \n",
    "                    ρ = inf_paras['ρ'],     ## relative risk aversion  \n",
    "                    β = inf_paras['β'],    ## discount factor\n",
    "                    R = inf_paras['R'],           ## interest factor \n",
    "                    W = inf_paras['W'],            ## Wage rate\n",
    "                    ## subjective models \n",
    "                    theta = 0.0, ## extrapolation parameter \n",
    "                    ## no persistent state\n",
    "                    b_y = 0.0,\n",
    "                    ## wether to have zero borrowing constraint \n",
    "                    borrowing_cstr = True,\n",
    "                    ## a grids \n",
    "                    grid_max = grid_max,\n",
    "                    grid_size = grid_size,\n",
    "    )"
   ]
  },
  {
   "cell_type": "code",
   "execution_count": 7,
   "metadata": {
    "code_folding": [
     0,
     9
    ]
   },
   "outputs": [
    {
     "name": "stdout",
     "output_type": "stream",
     "text": [
      "Error at iteration 50 is 0.00039700071622350563.\n",
      "Error at iteration 100 is 1.095458093225421e-05.\n",
      "\n",
      "Converged in 133 iterations.\n",
      "Time taken, in seconds: 12.623477935791016\n"
     ]
    },
    {
     "data": {
      "text/plain": [
       "Text(0.5, 1.0, 'Inifite horizon solution')"
      ]
     },
     "execution_count": 7,
     "metadata": {},
     "output_type": "execute_result"
    },
    {
     "data": {
      "image/png": "[encoded data removed]",
      "text/plain": [
       "<Figure size 432x288 with 1 Axes>"
      ]
     },
     "metadata": {
      "needs_background": "light"
     },
     "output_type": "display_data"
    }
   ],
   "source": [
    "## initial consumption functions \n",
    "\n",
    "k = len(inf_mkv.s_grid)\n",
    "k2 =len(inf_mkv.eps_grid)\n",
    "\n",
    "n = len(inf_mkv.P)\n",
    "σ_init = np.empty((k,k2,n))\n",
    "a_init = np.empty((k,k2,n))\n",
    "\n",
    "for z in range(n):\n",
    "    for j in range(k2):\n",
    "        a_init[:,j,z] = inf_mkv.s_grid\n",
    "        σ_init[:,j,z] = 0.1*a_init[:,j,z]\n",
    "\n",
    "t_start = time()\n",
    "\n",
    "a_inf_star, σ_inf_star = solve_model_iter(inf_mkv,\n",
    "                                          a_init,\n",
    "                                          σ_init)\n",
    "t_finish = time()\n",
    "\n",
    "print(\"Time taken, in seconds: \"+ str(t_finish - t_start))   \n",
    "\n",
    "\n",
    "## plot c func \n",
    "\n",
    "eps = 10 ## a random number \n",
    "m_plt_u, c_plt_u = a_inf_star[:,eps,0],σ_inf_star[:,eps,0] \n",
    "m_plt_e, c_plt_e = a_inf_star[:,eps,1], σ_inf_star[:,eps,1]\n",
    "plt.plot(m_plt_u,\n",
    "         c_plt_u,\n",
    "         label = 'unemployed',\n",
    "        )\n",
    "plt.plot(m_plt_e,\n",
    "         c_plt_e,\n",
    "         label = 'employed',\n",
    "        )\n",
    "plt.legend()\n",
    "plt.xlabel(r'$m$')\n",
    "plt.ylabel(r'$c$')\n",
    "plt.title('Inifite horizon solution')"
   ]
  },
  {
   "cell_type": "markdown",
   "metadata": {},
   "source": [
    "## Solving the same model with HARK\n"
   ]
  },
  {
   "cell_type": "code",
   "execution_count": 8,
   "metadata": {},
   "outputs": [],
   "source": [
    "from HARK.ConsumptionSaving.ConsMarkovModel import MarkovConsumerType\n",
    "from HARK.distribution import DiscreteDistribution\n",
    "from HARK.ConsumptionSaving.ConsIndShockModel import init_lifecycle\n",
    "from HARK.ConsumptionSaving.ConsIndShockModel import init_idiosyncratic_shocks\n",
    "from HARK.utilities import plot_funcs"
   ]
  },
  {
   "cell_type": "code",
   "execution_count": 9,
   "metadata": {},
   "outputs": [],
   "source": [
    "## for infinite horizon \n",
    "hark_mkv_para = copy(init_idiosyncratic_shocks)\n",
    "hark_mkv_para[\"MrkvArray\"] = [inf_paras['P']]\n",
    "hark_mkv_para[\"UnempPrb\"] = inf_paras['U']  # to make income distribution when employed\n",
    "hark_mkv_para[\"global_markov\"] = False\n",
    "hark_mkv_para['CRRA'] = inf_paras['ρ']\n",
    "hark_mkv_para['Rfree'] = inf_paras['R']\n",
    "hark_mkv_para['LivPrb'] = [inf_paras['LivPrb']]\n",
    "hark_mkv_para['PermGroFac'] = [1.0]\n",
    "hark_mkv_para['PermShkStd'] = [inf_paras['σ_ψ']]\n",
    "hark_mkv_para['TranShkStd'] = [inf_paras['σ_θ']]\n",
    "hark_mkv_para['DiscFac'] = inf_paras['β']\n",
    "hark_mkv_para['aXtraMax'] = grid_max\n",
    "hark_mkv_para['aXtraCount'] = grid_size-1"
   ]
  },
  {
   "cell_type": "code",
   "execution_count": 10,
   "metadata": {},
   "outputs": [
    {
     "name": "stdout",
     "output_type": "stream",
     "text": [
      "HARK parameterization {'cycles': 1, 'CRRA': 1.5, 'Rfree': 1.01, 'DiscFac': 0.98, 'LivPrb': [0.99375], 'PermGroFac': [1.0], 'BoroCnstArt': 0.0, 'MaxKinks': 400, 'AgentCount': 10000, 'aNrmInitMean': 0.0, 'aNrmInitStd': 1.0, 'pLvlInitMean': 0.0, 'pLvlInitStd': 0.0, 'PermGroFacAgg': 1.0, 'T_age': None, 'T_cycle': 1, 'PerfMITShk': False, 'aXtraMin': 0.001, 'aXtraMax': 5.0, 'aXtraNestFac': 3, 'aXtraCount': 49, 'aXtraExtra': [None], 'PermShkStd': [0.15], 'PermShkCount': 7, 'TranShkStd': [0.1], 'TranShkCount': 7, 'UnempPrb': 0.0, 'UnempPrbRet': 0.005, 'IncUnemp': 0.3, 'IncUnempRet': 0.0, 'tax_rate': 0.0, 'T_retire': 0, 'vFuncBool': False, 'CubicBool': False, 'neutral_measure': False, 'MrkvArray': [array([[0.9, 0.1],\n",
      "       [0.2, 0.8]])], 'global_markov': False}\n",
      "PIR parameterization {'ρ': 1.5, 'β': 0.98, 'P': array([[0.9, 0.1],\n",
      "       [0.2, 0.8]]), 'z_val': array([0., 1.]), 'σ_ψ': 0.15, 'σ_θ': 0.1, 'U': 0.0, 'LivPrb': 0.99375, 'R': 1.01, 'W': 1.0, 'T': 40, 'L': 60, 'G': array([1., 1., 1., 1., 1., 1., 1., 1., 1., 1., 1., 1., 1., 1., 1., 1., 1.,\n",
      "       1., 1., 1., 1., 1., 1., 1., 1., 1., 1., 1., 1., 1., 1., 1., 1., 1.,\n",
      "       1., 1., 1., 1., 1., 1., 1., 1., 1., 1., 1., 1., 1., 1., 1., 1., 1.,\n",
      "       1., 1., 1., 1., 1., 1., 1., 1., 1.]), 'unemp_insurance': 0.0, 'pension': 1.0, 'σ_ψ_init': 0.6285209184601319, 'init_b': 0.5540657379463796, 'λ': 0.0, 'λ_SS': 0.0, 'transfer': 0.0, 'bequest_ratio': 0.0, 'κ': 1.719786711116489, 'q': 0.9999999999292453, 'p': 0.9999999999292453, 'σ_ψ_2mkv': array([0.87854563, 1.16907218]), 'σ_θ_2mkv': array([0.02128524, 0.02832406]), 'mho_2mkv': array([0.14981333, 0.72996631]), 'E_2mkv': array([0.45316724, 0.51185259])}\n"
     ]
    }
   ],
   "source": [
    "print('HARK parameterization',str(hark_mkv_para))\n",
    "print('PIR parameterization',str(inf_paras))"
   ]
  },
  {
   "cell_type": "code",
   "execution_count": 11,
   "metadata": {},
   "outputs": [],
   "source": [
    "hark_mkv = MarkovConsumerType(**hark_mkv_para)\n",
    "hark_mkv.cycles = 0\n",
    "hark_mkv.vFuncBool = False  # for easy toggling here"
   ]
  },
  {
   "cell_type": "code",
   "execution_count": 12,
   "metadata": {
    "code_folding": []
   },
   "outputs": [],
   "source": [
    "# Interest factor, permanent growth rates, and survival probabilities are constant arrays\n",
    "hark_mkv.assign_parameters(Rfree = np.array(2 * [hark_mkv.Rfree]))\n",
    "hark_mkv.PermGroFac = [\n",
    "    np.array(2 * hark_mkv.PermGroFac)\n",
    "]\n",
    "hark_mkv.LivPrb = [hark_mkv.LivPrb * np.ones(2)]"
   ]
  },
  {
   "cell_type": "code",
   "execution_count": 13,
   "metadata": {
    "code_folding": [
     3
    ]
   },
   "outputs": [],
   "source": [
    "# Replace the default (lognormal) income distribution with a custom one\n",
    "employed_income_dist = DiscreteDistribution(np.ones(1), [np.ones(1), np.ones(1)])  # Definitely get income\n",
    "unemployed_income_dist = DiscreteDistribution(np.ones(1), [np.ones(1), np.zeros(1)]) # Definitely don't\n",
    "hark_mkv.IncShkDstn = [\n",
    "    [\n",
    "        unemployed_income_dist,\n",
    "        employed_income_dist\n",
    "    ]\n",
    "]"
   ]
  },
  {
   "cell_type": "code",
   "execution_count": 14,
   "metadata": {
    "code_folding": []
   },
   "outputs": [
    {
     "name": "stdout",
     "output_type": "stream",
     "text": [
      "Solving a Markov consumer with serially correlated unemployment took 0.1257936954498291 seconds.\n",
      "Consumption functions for each discrete state:\n"
     ]
    },
    {
     "data": {
      "image/png": "[encoded data removed]",
      "text/plain": [
       "<Figure size 432x288 with 1 Axes>"
      ]
     },
     "metadata": {
      "needs_background": "light"
     },
     "output_type": "display_data"
    }
   ],
   "source": [
    "## solve the model \n",
    "\n",
    "start_time = time()\n",
    "hark_mkv.solve()\n",
    "end_time = time()\n",
    "print(\n",
    "    \"Solving a Markov consumer with serially correlated unemployment took \"\n",
    "    + str(end_time - start_time)\n",
    "    + \" seconds.\"\n",
    ")\n",
    "print(\"Consumption functions for each discrete state:\")\n",
    "plot_funcs(hark_mkv.solution[0].cFunc, 0, 20)\n",
    "if hark_mkv.vFuncBool:\n",
    "    print(\"Value functions for each discrete state:\")\n",
    "    plot_funcs(hark_mkv.solution[0].vFunc, 5, 20)"
   ]
  },
  {
   "cell_type": "code",
   "execution_count": 15,
   "metadata": {
    "lines_to_next_cell": 0
   },
   "outputs": [
    {
     "data": {
      "text/plain": [
       "<matplotlib.legend.Legend at 0x7fd50b27a550>"
      ]
     },
     "execution_count": 15,
     "metadata": {},
     "output_type": "execute_result"
    },
    {
     "data": {
      "image/png": "[encoded data removed]",
      "text/plain": [
       "<Figure size 432x288 with 1 Axes>"
      ]
     },
     "metadata": {
      "needs_background": "light"
     },
     "output_type": "display_data"
    }
   ],
   "source": [
    "## compare the solutions \n",
    "\n",
    "## get the HARK c  \n",
    "c_u_HARK = hark_mkv.solution[0].cFunc[0](m_plt_u)\n",
    "c_e_HARK = hark_mkv.solution[0].cFunc[1](m_plt_e)\n",
    "\n",
    "plt.title('Comparing consumption policies')\n",
    "plt.plot(m_plt_u,c_u_HARK,'k-',label='uemp:HARK')\n",
    "plt.plot(m_plt_u,c_plt_u,'r*',label='uemp:PIR')\n",
    "plt.plot(m_plt_e,c_e_HARK,'b--',label='emp:HARK')\n",
    "plt.plot(m_plt_e,c_plt_e,'go',label='emp:PIR')\n",
    "plt.legend(loc=0)"
   ]
  },
  {
   "cell_type": "markdown",
   "metadata": {},
   "source": [
    "## Wealth distribution over life cycle "
   ]
  },
  {
   "cell_type": "code",
   "execution_count": 16,
   "metadata": {
    "code_folding": []
   },
   "outputs": [
    {
     "data": {
      "text/plain": [
       "'\\nLifeCycleType = MarkovConsumerType(**init_life_cycle_new)\\n\\nLifeCycleType.cycles = 1 ## life cycle problem instead of infinite horizon\\nLifeCycleType.vFuncBool = False  ## no need to calculate the value for the purpose here \\n'"
      ]
     },
     "execution_count": 16,
     "metadata": {},
     "output_type": "execute_result"
    }
   ],
   "source": [
    "## for life cycle \n",
    "init_life_cycle_new = copy(init_lifecycle)\n",
    "lc_paras = copy(life_cycle_paras_y)\n",
    "\n",
    "\n",
    "years_retire = lc_paras['L']- lc_paras['T']\n",
    "\n",
    "init_life_cycle_new['T_cycle'] = lc_paras['L']-1   ## minus 1 because T_cycle is nb periods in a life cycle - 1 in HARK \n",
    "init_life_cycle_new['CRRA'] = lc_paras['ρ']\n",
    "init_life_cycle_new['T_retire'] = lc_paras['T']-1\n",
    "init_life_cycle_new['Rfree'] = lc_paras['R']\n",
    "init_life_cycle_new['LivPrb'] = [lc_paras['LivPrb']]*init_life_cycle_new['T_cycle']\n",
    "init_life_cycle_new['PermGroFac'] = lc_paras['G']\n",
    "init_life_cycle_new['PermShkStd'] = [lc_paras['σ_ψ']]*init_life_cycle_new['T_retire']+[0.0]*years_retire\n",
    "init_life_cycle_new['TranShkStd'] = [lc_paras['σ_θ']]*init_life_cycle_new['T_retire']+[0.0]*years_retire\n",
    "init_life_cycle_new['DiscFac'] = lc_paras['β']\n",
    "init_life_cycle_new['PermGroFacAgg'] = 1.0\n",
    "init_life_cycle_new['aNrmInitMean']= np.log(lc_paras['init_b'])\n",
    "init_life_cycle_new['aNrmInitStd']= 0.0\n",
    "init_life_cycle_new['pLvlInitMean']= np.log(1.0)\n",
    "init_life_cycle_new['pLvlInitStd']= lc_paras['σ_ψ_init']\n",
    "init_life_cycle_new[\"UnempPrb\"] = lc_paras['U']  # to make income distribution when employed\n",
    "init_life_cycle_new['UnempPrbRet'] = 0.0\n",
    "init_life_cycle_new['IncUnemp'] = 0.0\n",
    "init_life_cycle_new['aXtraMax'] = 5.0\n",
    "\n",
    "\"\"\"\n",
    "LifeCycleType = MarkovConsumerType(**init_life_cycle_new)\n",
    "\n",
    "LifeCycleType.cycles = 1 ## life cycle problem instead of infinite horizon\n",
    "LifeCycleType.vFuncBool = False  ## no need to calculate the value for the purpose here \n",
    "\"\"\""
   ]
  },
  {
   "cell_type": "code",
   "execution_count": 17,
   "metadata": {},
   "outputs": [
    {
     "name": "stdout",
     "output_type": "stream",
     "text": [
      "{'cycles': 1, 'CRRA': 1.5, 'Rfree': 1.01, 'DiscFac': 0.98, 'LivPrb': [0.99375, 0.99375, 0.99375, 0.99375, 0.99375, 0.99375, 0.99375, 0.99375, 0.99375, 0.99375, 0.99375, 0.99375, 0.99375, 0.99375, 0.99375, 0.99375, 0.99375, 0.99375, 0.99375, 0.99375, 0.99375, 0.99375, 0.99375, 0.99375, 0.99375, 0.99375, 0.99375, 0.99375, 0.99375, 0.99375, 0.99375, 0.99375, 0.99375, 0.99375, 0.99375, 0.99375, 0.99375, 0.99375, 0.99375, 0.99375, 0.99375, 0.99375, 0.99375, 0.99375, 0.99375, 0.99375, 0.99375, 0.99375, 0.99375, 0.99375, 0.99375, 0.99375, 0.99375, 0.99375, 0.99375, 0.99375, 0.99375, 0.99375, 0.99375], 'PermGroFac': array([1.10455031, 1.2534466 , 1.19627542, 0.87234491, 1.14497695,\n",
      "       0.9291965 , 1.07110332, 1.01738249, 0.97626478, 1.12922969,\n",
      "       0.99941475, 0.97349597, 1.0893093 , 0.98353993, 1.14892645,\n",
      "       0.97906461, 0.91025961, 1.04760429, 1.17548467, 0.85318063,\n",
      "       1.17776868, 0.90491453, 1.09848218, 0.97082377, 0.87554249,\n",
      "       1.02371263, 0.91572759, 1.11870388, 0.90662006, 0.89395724,\n",
      "       1.01534996, 1.22118921, 0.75860141, 1.42282798, 0.82526106,\n",
      "       1.19399751, 0.82243583, 0.98492788, 0.95760787, 0.81536932,\n",
      "       1.31880938, 0.78579426, 0.97751472, 1.4357771 , 0.71825979,\n",
      "       0.94115225, 1.18988227, 0.92526562, 0.91878387, 1.00682059,\n",
      "       1.01459173, 0.87216358, 1.08948598, 1.03773095, 1.32181813,\n",
      "       0.7292744 , 1.08935167, 0.75156075, 1.11052486, 1.1311065 ]), 'BoroCnstArt': 0.0, 'MaxKinks': 400, 'AgentCount': 10000, 'aNrmInitMean': -0.590471938721428, 'aNrmInitStd': 0.0, 'pLvlInitMean': 0.0, 'pLvlInitStd': 0.6285209184601319, 'PermGroFacAgg': 1.0, 'T_age': 66, 'T_cycle': 59, 'PerfMITShk': False, 'aXtraMin': 0.001, 'aXtraMax': 5.0, 'aXtraNestFac': 3, 'aXtraCount': 48, 'aXtraExtra': [None], 'PermShkStd': [0.15, 0.15, 0.15, 0.15, 0.15, 0.15, 0.15, 0.15, 0.15, 0.15, 0.15, 0.15, 0.15, 0.15, 0.15, 0.15, 0.15, 0.15, 0.15, 0.15, 0.15, 0.15, 0.15, 0.15, 0.15, 0.15, 0.15, 0.15, 0.15, 0.15, 0.15, 0.15, 0.15, 0.15, 0.15, 0.15, 0.15, 0.15, 0.15, 0.0, 0.0, 0.0, 0.0, 0.0, 0.0, 0.0, 0.0, 0.0, 0.0, 0.0, 0.0, 0.0, 0.0, 0.0, 0.0, 0.0, 0.0, 0.0, 0.0], 'PermShkCount': 7, 'TranShkStd': [0.1, 0.1, 0.1, 0.1, 0.1, 0.1, 0.1, 0.1, 0.1, 0.1, 0.1, 0.1, 0.1, 0.1, 0.1, 0.1, 0.1, 0.1, 0.1, 0.1, 0.1, 0.1, 0.1, 0.1, 0.1, 0.1, 0.1, 0.1, 0.1, 0.1, 0.1, 0.1, 0.1, 0.1, 0.1, 0.1, 0.1, 0.1, 0.1, 0.0, 0.0, 0.0, 0.0, 0.0, 0.0, 0.0, 0.0, 0.0, 0.0, 0.0, 0.0, 0.0, 0.0, 0.0, 0.0, 0.0, 0.0, 0.0, 0.0], 'TranShkCount': 7, 'UnempPrb': 0.0, 'UnempPrbRet': 0.0, 'IncUnemp': 0.0, 'IncUnempRet': 0.0, 'tax_rate': 0.0, 'T_retire': 39, 'vFuncBool': False, 'CubicBool': False, 'neutral_measure': False, 'P0': 21.397337769996003}\n"
     ]
    }
   ],
   "source": [
    "print(init_life_cycle_new)"
   ]
  },
  {
   "cell_type": "code",
   "execution_count": 18,
   "metadata": {},
   "outputs": [],
   "source": [
    "import HARK.ConsumptionSaving.ConsIndShockModel as HARK_model         # The consumption-saving micro model\n",
    "from HARK.utilities import plot_funcs_der, plot_funcs              # Some tools"
   ]
  },
  {
   "cell_type": "code",
   "execution_count": 19,
   "metadata": {},
   "outputs": [],
   "source": [
    "LifeCyclePop = HARK_model.IndShockConsumerType(**init_life_cycle_new)\n",
    "LifeCyclePop.cycles = 1\n",
    "LifeCyclePop.vFuncBool = False  # for easy toggling here"
   ]
  },
  {
   "cell_type": "code",
   "execution_count": 20,
   "metadata": {},
   "outputs": [
    {
     "data": {
      "text/plain": [
       "{'aNrm': array([[0.22889254, 0.21255398, 0.21255398, ..., 0.1945121 , 0.21255398,\n",
       "         0.24614819],\n",
       "        [0.        , 0.01909198, 0.03350656, ..., 0.08067224, 0.21255398,\n",
       "         0.        ],\n",
       "        [0.04495574, 0.05544442, 0.        , ..., 0.        , 0.05490057,\n",
       "         0.12388306],\n",
       "        ...,\n",
       "        [0.70854248, 0.5367526 , 0.45338256, ..., 0.67889303, 2.76765986,\n",
       "         0.47898851],\n",
       "        [0.79045362, 0.29611384, 0.24068179, ..., 0.39062184, 3.66923916,\n",
       "         0.25770697],\n",
       "        [1.07490027, 0.09409769, 0.0690822 , ..., 0.13765051, 2.30965562,\n",
       "         0.07676536]]),\n",
       " 'pLvl': array([[ 3.83373037,  1.43961024,  2.97064491, ...,  0.62248014,\n",
       "          1.02772277,  0.58983948],\n",
       "        [ 5.31839397,  1.57252356,  3.65893843, ...,  0.76670777,\n",
       "          1.62025284,  0.64429694],\n",
       "        [ 5.84786541,  2.47557698,  5.76015773, ...,  0.75138422,\n",
       "          1.67473163,  0.75573378],\n",
       "        ...,\n",
       "        [ 3.6075674 ,  2.07798289, 10.14201424, ...,  0.45491301,\n",
       "          2.08562838,  2.62620133],\n",
       "        [ 2.75364815,  1.56173037,  7.62233979, ...,  0.34189476,\n",
       "          1.56465036,  1.97374983],\n",
       "        [ 2.43117995,  1.76648338,  8.62167808, ...,  0.38671939,\n",
       "          2.79603845,  2.23252126]]),\n",
       " 'mNrm': array([[1.51230717, 1.4847582 , 1.4847582 , ..., 1.45433721, 1.4847582 ,\n",
       "         1.54140248],\n",
       "        [1.16171167, 1.2289478 , 1.25227183, ..., 1.32590725, 1.4847582 ,\n",
       "         1.18668132],\n",
       "        [1.0779763 , 1.09022509, 0.98058141, ..., 0.93357079, 1.28567232,\n",
       "         1.16640616],\n",
       "        ...,\n",
       "        [1.66697579, 1.61974932, 1.49336491, ..., 1.83522643, 3.68051497,\n",
       "         1.53218212],\n",
       "        [1.78797764, 1.72132576, 1.60928726, ..., 1.91234403, 4.89249936,\n",
       "         1.64369832],\n",
       "        [1.98222753, 1.26440921, 1.21491222, ..., 1.34879833, 3.15179869,\n",
       "         1.23011453]]),\n",
       " 'cNrm': array([[1.28341463, 1.27220422, 1.27220422, ..., 1.25982511, 1.27220422,\n",
       "         1.29525429],\n",
       "        [1.16171167, 1.20985582, 1.21876528, ..., 1.24523501, 1.27220422,\n",
       "         1.18668132],\n",
       "        [1.03302056, 1.03478067, 0.98058141, ..., 0.93357079, 1.23077175,\n",
       "         1.04252311],\n",
       "        ...,\n",
       "        [0.95843332, 1.08299672, 1.03998234, ..., 1.1563334 , 0.91285511,\n",
       "         1.05319361],\n",
       "        [0.99752402, 1.42521192, 1.36860547, ..., 1.52172219, 1.22326021,\n",
       "         1.38599135],\n",
       "        [0.90732726, 1.17031152, 1.14583002, ..., 1.21114782, 0.84214307,\n",
       "         1.15334917]])}"
      ]
     },
     "execution_count": 20,
     "metadata": {},
     "output_type": "execute_result"
    }
   ],
   "source": [
    "LifeCyclePop.solve()                            # Obtain consumption rules by age \n",
    "LifeCyclePop.unpack('cFunc')                      # Expose the consumption rules\n",
    "\n",
    "# Which variables do we want to track\n",
    "LifeCyclePop.track_vars = ['aNrm','pLvl','mNrm','cNrm']\n",
    "\n",
    "LifeCyclePop.T_sim = lc_paras['L']              \n",
    "LifeCyclePop.initialize_sim()                     # Construct the age-25 distribution of income and assets\n",
    "LifeCyclePop.simulate()"
   ]
  },
  {
   "cell_type": "code",
   "execution_count": 21,
   "metadata": {},
   "outputs": [
    {
     "name": "stderr",
     "output_type": "stream",
     "text": [
      "/var/folders/39/ks6jc__9375c2fl7h7pwq5jh0000gn/T/ipykernel_13544/3741922547.py:2: RuntimeWarning: divide by zero encountered in true_divide\n",
      "  aGro41=LifeCyclePop.history['aLvl'][41]/LifeCyclePop.history['aLvl'][40]\n",
      "/var/folders/39/ks6jc__9375c2fl7h7pwq5jh0000gn/T/ipykernel_13544/3741922547.py:2: RuntimeWarning: invalid value encountered in true_divide\n",
      "  aGro41=LifeCyclePop.history['aLvl'][41]/LifeCyclePop.history['aLvl'][40]\n"
     ]
    }
   ],
   "source": [
    "LifeCyclePop.history['aLvl'] = LifeCyclePop.history['aNrm']*LifeCyclePop.history['pLvl']\n",
    "aGro41=LifeCyclePop.history['aLvl'][41]/LifeCyclePop.history['aLvl'][40]\n",
    "aGro41NoU=aGro41[aGro41[:]>0.2] # Throw out extreme outliers\n",
    "aGro41NoU = aGro41NoU[aGro41NoU[:]<2]"
   ]
  },
  {
   "cell_type": "code",
   "execution_count": 22,
   "metadata": {},
   "outputs": [
    {
     "data": {
      "image/png": "[encoded data removed]",
      "text/plain": [
       "<Figure size 432x288 with 1 Axes>"
      ]
     },
     "metadata": {
      "needs_background": "light"
     },
     "output_type": "display_data"
    }
   ],
   "source": [
    "## wealth distribution  \n",
    "wealth_dist=plt.hist(np.log(LifeCyclePop.history['aLvl'].flatten()+0.00000001),bins=100)"
   ]
  },
  {
   "cell_type": "code",
   "execution_count": 23,
   "metadata": {},
   "outputs": [
    {
     "data": {
      "image/png": "[encoded data removed]",
      "text/plain": [
       "<Figure size 432x288 with 1 Axes>"
      ]
     },
     "metadata": {
      "needs_background": "light"
     },
     "output_type": "display_data"
    }
   ],
   "source": [
    "# Plot the distribution of growth rates of wealth between age 65 and 66 (=25 + 41)\n",
    "n, bins, patches = plt.hist(aGro41NoU,50,density=True)"
   ]
  },
  {
   "cell_type": "markdown",
   "metadata": {},
   "source": [
    "## Wealthy over life cycle  "
   ]
  },
  {
   "cell_type": "code",
   "execution_count": 24,
   "metadata": {},
   "outputs": [],
   "source": [
    "A_life = LifeCyclePop.history['aLvl'].mean(axis=1)"
   ]
  },
  {
   "cell_type": "code",
   "execution_count": 25,
   "metadata": {},
   "outputs": [
    {
     "data": {
      "text/plain": [
       "0.30547078533714495"
      ]
     },
     "execution_count": 25,
     "metadata": {},
     "output_type": "execute_result"
    }
   ],
   "source": [
    "A_life[0]"
   ]
  },
  {
   "cell_type": "code",
   "execution_count": 26,
   "metadata": {},
   "outputs": [
    {
     "data": {
      "text/plain": [
       "<matplotlib.legend.Legend at 0x7fd50cd7efa0>"
      ]
     },
     "execution_count": 26,
     "metadata": {},
     "output_type": "execute_result"
    },
    {
     "data": {
      "image/png": "[encoded data removed]",
      "text/plain": [
       "<Figure size 720x360 with 2 Axes>"
      ]
     },
     "metadata": {
      "needs_background": "light"
     },
     "output_type": "display_data"
    }
   ],
   "source": [
    "import pandas as pd\n",
    "SCF_profile = pd.read_pickle('data/SCF_age_profile.pkl')\n",
    "\n",
    "SCF_profile['mv_wealth'] = SCF_profile['av_wealth'].rolling(3).mean()\n",
    "## plot life cycle profile\n",
    "\n",
    "age_lc = SCF_profile.index\n",
    "\n",
    "fig, ax = plt.subplots(figsize=(10,5))\n",
    "plt.title('Life cycle profile of wealth and consumption')\n",
    "ax.plot(age_lc[1:],\n",
    "        np.log(A_life),\n",
    "       'r-',\n",
    "       label='model from HARK')\n",
    "\n",
    "#ax.vlines(lc_mkv.T+25,\n",
    "#          np.min(A_life),\n",
    "#          np.max(A_life),\n",
    "#          color='b',\n",
    "#          label='retirement')\n",
    "\n",
    "ax2 = ax.twinx()\n",
    "ax2.set_ylim([10.5,15])\n",
    "ax2.bar(age_lc[1:],\n",
    "        np.log(SCF_profile['av_wealth'][1:]),\n",
    "       #'k--',\n",
    "       label='SCF (RHS)')\n",
    "\n",
    "ax.set_xlabel('Age')\n",
    "ax.set_ylabel('Log wealth')\n",
    "ax2.set_ylabel('Log wealth SCF')\n",
    "ax.legend(loc=1)\n",
    "ax2.legend(loc=2)"
   ]
  }
 ],
 "metadata": {
  "jupytext": {
   "encoding": "# -*- coding: utf-8 -*-",
   "formats": "ipynb,py:light"
  },
  "kernelspec": {
   "display_name": "Python 3 (ipykernel)",
   "language": "python",
   "name": "python3"
  },
  "language_info": {
   "codemirror_mode": {
    "name": "ipython",
    "version": 3
   },
   "file_extension": ".py",
   "mimetype": "text/x-python",
   "name": "python",
   "nbconvert_exporter": "python",
   "pygments_lexer": "ipython3",
   "version": "3.9.7"
  }
 },
 "nbformat": 4,
 "nbformat_minor": 4
}
