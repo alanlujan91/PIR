{
 "cells": [
  {
   "cell_type": "markdown",
   "metadata": {},
   "source": [
    "## SCF data cleaning and analysis \n",
    "\n",
    "- drawing on from this [blog](https://notebook.community/DaveBackus/Data_Bootcamp/Code/Lab/SCF_data_experiment_Brian)"
   ]
  },
  {
   "cell_type": "code",
   "execution_count": null,
   "metadata": {},
   "outputs": [],
   "source": [
    "import pandas as pd   #The data package\n",
    "import sys            #The code below wont work for any versions before Python 3. This just ensures that (allegedly).\n",
    "assert sys.version_info >= (3,5)"
   ]
  },
  {
   "cell_type": "code",
   "execution_count": 24,
   "metadata": {},
   "outputs": [],
   "source": [
    "import requests\n",
    "import io\n",
    "import zipfile     #Three packages we'll need to unzip the data\n",
    "import matplotlib.pyplot as plt                            "
   ]
  },
  {
   "cell_type": "code",
   "execution_count": 19,
   "metadata": {},
   "outputs": [
    {
     "data": {
      "text/plain": [
       "'\\ndef unzip_survey_file(year = \\'2013\\'):\\n    \\n    #The next two lines of code converts the URL into a format that works\\n    #with the \"zipfile\" package.\\n    \\n    if int(year) <1989:\\n        url = \\'http://www.federalreserve.gov/econresdata/scf/files/\\'+year+\\'_scf\\'+year[2:]+\\'bs.zip\\'\\n    \\n    else: \\n        url = \\'http://www.federalreserve.gov/econresdata/scf/files/scfp\\'+year+\\'s.zip\\'    \\n    url = requests.get(url)\\n    \\n    #Next, zipfile downloads, unzips, and saves the file to your computer. \\'url2013_unzipped\\' \\n    #contains the file path for the file.\\n    \\n    url_unzipped = zipfile.ZipFile(io.BytesIO(url.content))\\n    return url_unzipped.extract(url_unzipped.namelist()[0])\\n    \\n'"
      ]
     },
     "execution_count": 19,
     "metadata": {},
     "output_type": "execute_result"
    }
   ],
   "source": [
    "\"\"\"\n",
    "def unzip_survey_file(year = '2013'):\n",
    "    \n",
    "    #The next two lines of code converts the URL into a format that works\n",
    "    #with the \"zipfile\" package.\n",
    "    \n",
    "    if int(year) <1989:\n",
    "        url = 'http://www.federalreserve.gov/econresdata/scf/files/'+year+'_scf'+year[2:]+'bs.zip'\n",
    "    \n",
    "    else: \n",
    "        url = 'http://www.federalreserve.gov/econresdata/scf/files/scfp'+year+'s.zip'    \n",
    "    url = requests.get(url)\n",
    "    \n",
    "    #Next, zipfile downloads, unzips, and saves the file to your computer. 'url2013_unzipped' \n",
    "    #contains the file path for the file.\n",
    "    \n",
    "    url_unzipped = zipfile.ZipFile(io.BytesIO(url.content))\n",
    "    return url_unzipped.extract(url_unzipped.namelist()[0])\n",
    "    \n",
    "\"\"\""
   ]
  },
  {
   "cell_type": "code",
   "execution_count": 22,
   "metadata": {
    "code_folding": [
     0
    ]
   },
   "outputs": [],
   "source": [
    "def unzip_survey_file(year = '2013'):\n",
    "    \"\"\"\n",
    "    The next two lines of code converts the URL into a format that works\n",
    "    with the \"zipfile\" package.\n",
    "    \"\"\"\n",
    "    if int(year) <1989:\n",
    "        url = 'http://www.federalreserve.gov/econres/files/'+year+'_scf'+year[2:]+'bs.zip'\n",
    "    \n",
    "    else: \n",
    "        url = 'http://www.federalreserve.gov/econres/files/scfp'+year+'s.zip'    \n",
    "    url = requests.get(url)\n",
    "    \"\"\"\n",
    "    Next, zipfile downloads, unzips, and saves the file to your computer. 'url2013_unzipped' \n",
    "    contains the file path for the file.\n",
    "    \"\"\"\n",
    "    url_unzipped = zipfile.ZipFile(io.BytesIO(url.content))\n",
    "    return url_unzipped.extract(url_unzipped.namelist()[0])"
   ]
  },
  {
   "cell_type": "code",
   "execution_count": 23,
   "metadata": {},
   "outputs": [
    {
     "data": {
      "text/plain": [
       "\"\\nThere is no Summary Extract dataset for 1983, so we'll rename the variable names in the 1983 Full \\ndataset so that they correspond to the variable names in the other survey years.\\n\\nAlso, 161 out of the 4262 total households covered in the 1983 survey actually reported having \\nnegative income. This isn't the case for the other survey years we are considering, and it \\ncomplicates our analysis a bit below. Because of this, we drop any obs. that report negative \\nincomes before proceeding. This has a near-zero impact on any of our results, since all but 2 \\nof these observations recieve a weight of zero. The two non-zero weight observations reporting\\nnegative incomes account for only <0.05% of the total population, so not much is lost be \\nexcluding them.\\n\\nGoing forward: it might be worthwhile to figure out why there are instances of negative incomes\\nin the 1983 survey yet none for the other years. \\n\""
      ]
     },
     "execution_count": 23,
     "metadata": {},
     "output_type": "execute_result"
    }
   ],
   "source": [
    "df2019 = pd.read_stata(unzip_survey_file(year='2019'))\n",
    "df2016 = pd.read_stata(unzip_survey_file(year='2016'))\n",
    "df2013 = pd.read_stata(unzip_survey_file(year='2013'))\n",
    "#df2001 = pd.read_stata(unzip_survey_file(year = '2001'))\n",
    "#df1983 = pd.read_stata(unzip_survey_file(year = '1983'))\n",
    "#df1992 = pd.read_stata(unzip_survey_file(year = '1992'))\n",
    "\n",
    "\n",
    "\"\"\"\n",
    "There is no Summary Extract dataset for 1983, so we'll rename the variable names in the 1983 Full \n",
    "dataset so that they correspond to the variable names in the other survey years.\n",
    "\n",
    "Also, 161 out of the 4262 total households covered in the 1983 survey actually reported having \n",
    "negative income. This isn't the case for the other survey years we are considering, and it \n",
    "complicates our analysis a bit below. Because of this, we drop any obs. that report negative \n",
    "incomes before proceeding. This has a near-zero impact on any of our results, since all but 2 \n",
    "of these observations recieve a weight of zero. The two non-zero weight observations reporting\n",
    "negative incomes account for only <0.05% of the total population, so not much is lost be \n",
    "excluding them.\n",
    "\n",
    "Going forward: it might be worthwhile to figure out why there are instances of negative incomes\n",
    "in the 1983 survey yet none for the other years. \n",
    "\"\"\"\n",
    "\n",
    "#df1983 = df1983.rename(columns = {'b3201':'income', 'b3324':'networth', 'b3015' : 'wgt'})\n",
    "#df1983 = df1983[df1983['income']>=0]"
   ]
  },
  {
   "cell_type": "code",
   "execution_count": 48,
   "metadata": {},
   "outputs": [
    {
     "name": "stdout",
     "output_type": "stream",
     "text": [
      "['yy1', 'y1', 'wgt', 'hhsex', 'age', 'agecl', 'educ', 'edcl', 'married', 'kids', 'lf', 'lifecl', 'famstruct', 'racecl', 'racecl4', 'race', 'occat1', 'occat2', 'indcat', 'foodhome', 'foodaway', 'fooddelv', 'rent', 'income', 'wageinc', 'bussefarminc', 'intdivinc', 'kginc', 'ssretinc', 'transfothinc', 'penacctwd', 'norminc', 'wsaved', 'saved', 'savres1', 'savres2', 'savres3', 'savres4', 'savres5', 'savres6', 'savres7', 'savres8', 'savres9', 'spendmor', 'spendless', 'expenshilo', 'late', 'late60', 'hpayday', 'bnkruplast5', 'knowl', 'yesfinrisk', 'nofinrisk', 'crdapp', 'turndown', 'feardenial', 'turnfear', 'forecllast5', 'emergborr', 'emergsav', 'emergpstp', 'emergcut', 'hborrff', 'hborrcc', 'hborralt', 'hborrfin', 'hsavfin', 'hsavnfin', 'hpstppay', 'hpstpln', 'hpstpoth', 'hcutfood', 'hcutent', 'hcutoth', 'finlit', 'bshopnone', 'bshopgrdl', 'bshopmodr', 'ishopnone', 'ishopgrdl', 'ishopmodr', 'bcall', 'bmagznews', 'bmailadtv', 'binternet', 'bfriendwork', 'bfinpro', 'bself', 'bdont', 'bother', 'icall', 'imagznews', 'imailadtv', 'iinternet', 'ifriendwork', 'ifinpro', 'iself', 'idont', 'iother', 'bfinplan', 'ifinplan', 'internet', 'checking', 'hcheck', 'nochk', 'ehchkg', 'whynockg', 'dontwrit', 'minbal', 'dontlike', 'svcchg', 'cantmang', 'nomoney', 'credit', 'dontwant', 'other', 'cklocation', 'cklowfeebal', 'ckmanysvcs', 'ckrecomfrnd', 'ckpersonal', 'ckconnectn', 'cklongtime', 'cksafety', 'ckconvpayrl', 'ckothchoose', 'prepaid', 'saving', 'hsaving', 'mmda', 'mmmf', 'mma', 'hmma', 'call', 'hcall', 'liq', 'hliq', 'cds', 'hcds', 'stmutf', 'tfbmutf', 'gbmutf', 'obmutf', 'comutf', 'omutf', 'nmmf', 'hnmmf', 'stocks', 'hstocks', 'nstocks', 'wilsh', 'notxbnd', 'mortbnd', 'govtbnd', 'obnd', 'bond', 'hbond', 'irakh', 'thrift', 'futpen', 'currpen', 'retqliq', 'hretqliq', 'anypen', 'dbplancj', 'dcplancj', 'dbplant', 'bplancj', 'savbnd', 'hsavbnd', 'cashli', 'hcashli', 'annuit', 'trusts', 'othma', 'hothma', 'othfin', 'hothfin', 'equity', 'hequity', 'deq', 'reteq', 'equitinc', 'hbrok', 'htrad', 'ntrad', 'fin', 'hfin', 'vehic', 'hvehic', 'busveh', 'nbusveh', 'own', 'nown', 'lease', 'nlease', 'vlease', 'nvehic', 'newcar1', 'newcar2', 'farmbus', 'houses', 'hhouses', 'housecl', 'oresre', 'horesre', 'nnresre', 'hnnresre', 'bus', 'actbus', 'nonactbus', 'hbus', 'othnfin', 'hothnfin', 'nfin', 'hnfin', 'nhnfin', 'asset', 'hasset', 'heloc', 'mrthel', 'nh_mort', 'homeeq', 'hmrthel', 'hheloc', 'hnh_mort', 'hprim_mort', 'purch1', 'refin_ever', 'hextract_ever', 'hsec_mort', 'purch2', 'hmort2', 'heloc_yn', 'othloc', 'hothloc', 'mort1', 'mort2', 'mort3', 'resdbt', 'hresdbt', 'ccbal', 'noccbal', 'hccbal', 'veh_inst', 'edn_inst', 'install', 'oth_inst', 'hveh_inst', 'hedn_inst', 'hoth_inst', 'hinstall', 'odebt', 'hodebt', 'debt', 'hdebt', 'networth', 'levratio', 'debt2inc', 'kghouse', 'kgore', 'kgbus', 'farmbus_kg', 'kgstmf', 'kgtotal', 'paymort1', 'paymort2', 'paymort3', 'paymorto', 'payloc1', 'payloc2', 'payloc3', 'payloco', 'payhi1', 'payhi2', 'paylc1', 'paylc2', 'paylco', 'payore1', 'payore2', 'payorev', 'payore3', 'payveh1', 'payveh2', 'payveh3', 'payveh4', 'payvehm', 'payveo1', 'payveo2', 'payveom', 'payedu1', 'payedu2', 'payedu3', 'payedu4', 'payedu5', 'payedu6', 'payedu7', 'payiln1', 'payiln2', 'payiln3', 'payiln4', 'payiln5', 'payiln6', 'payiln7', 'paymarg', 'payins', 'paypen1', 'paypen2', 'paypen3', 'paypen4', 'paypen5', 'paypen6', 'tpay', 'mortpay', 'conspay', 'revpay', 'pirtotal', 'pirmort', 'pircons', 'pirrev', 'pir40', 'ploan1', 'ploan2', 'ploan3', 'ploan4', 'ploan5', 'ploan6', 'ploan7', 'ploan8', 'lloan1', 'lloan2', 'lloan3', 'lloan4', 'lloan5', 'lloan6', 'lloan7', 'lloan8', 'lloan9', 'lloan10', 'lloan11', 'lloan12', 'nwcat', 'inccat', 'assetcat', 'ninccat', 'ninc2cat', 'nwpctlecat', 'incpctlecat', 'nincpctlecat', 'incqrtcat', 'nincqrtcat', 'incomewgt']\n"
     ]
    }
   ],
   "source": [
    "print(list(df2019.columns))"
   ]
  },
  {
   "cell_type": "code",
   "execution_count": 46,
   "metadata": {},
   "outputs": [
    {
     "data": {
      "text/plain": [
       "<AxesSubplot:>"
      ]
     },
     "execution_count": 46,
     "metadata": {},
     "output_type": "execute_result"
    },
    {
     "data": {
      "image/png": "[encoded data removed]",
      "text/plain": [
       "<Figure size 432x288 with 1 Axes>"
      ]
     },
     "metadata": {
      "needs_background": "light"
     },
     "output_type": "display_data"
    }
   ],
   "source": [
    "df2019['age'].hist()\n",
    "df2016['age'].hist()\n",
    "df2013['age'].hist()"
   ]
  },
  {
   "cell_type": "code",
   "execution_count": 31,
   "metadata": {},
   "outputs": [
    {
     "data": {
      "text/html": [
       "<div>\n",
       "<style scoped>\n",
       "    .dataframe tbody tr th:only-of-type {\n",
       "        vertical-align: middle;\n",
       "    }\n",
       "\n",
       "    .dataframe tbody tr th {\n",
       "        vertical-align: top;\n",
       "    }\n",
       "\n",
       "    .dataframe thead th {\n",
       "        text-align: right;\n",
       "    }\n",
       "</style>\n",
       "<table border=\"1\" class=\"dataframe\">\n",
       "  <thead>\n",
       "    <tr style=\"text-align: right;\">\n",
       "      <th></th>\n",
       "      <th>yy1</th>\n",
       "      <th>y1</th>\n",
       "      <th>wgt</th>\n",
       "      <th>hhsex</th>\n",
       "      <th>age</th>\n",
       "      <th>agecl</th>\n",
       "      <th>educ</th>\n",
       "      <th>edcl</th>\n",
       "      <th>married</th>\n",
       "      <th>kids</th>\n",
       "      <th>...</th>\n",
       "      <th>inccat</th>\n",
       "      <th>assetcat</th>\n",
       "      <th>ninccat</th>\n",
       "      <th>ninc2cat</th>\n",
       "      <th>nwpctlecat</th>\n",
       "      <th>incpctlecat</th>\n",
       "      <th>nincpctlecat</th>\n",
       "      <th>incqrtcat</th>\n",
       "      <th>nincqrtcat</th>\n",
       "      <th>incomewgt</th>\n",
       "    </tr>\n",
       "  </thead>\n",
       "  <tbody>\n",
       "    <tr>\n",
       "      <th>0</th>\n",
       "      <td>1</td>\n",
       "      <td>11</td>\n",
       "      <td>3100.802441</td>\n",
       "      <td>1</td>\n",
       "      <td>54</td>\n",
       "      <td>3</td>\n",
       "      <td>6.0</td>\n",
       "      <td>2</td>\n",
       "      <td>2</td>\n",
       "      <td>1</td>\n",
       "      <td>...</td>\n",
       "      <td>1</td>\n",
       "      <td>1</td>\n",
       "      <td>2</td>\n",
       "      <td>1</td>\n",
       "      <td>2</td>\n",
       "      <td>2</td>\n",
       "      <td>4</td>\n",
       "      <td>1</td>\n",
       "      <td>2</td>\n",
       "      <td>6.911313e+07</td>\n",
       "    </tr>\n",
       "    <tr>\n",
       "      <th>1</th>\n",
       "      <td>1</td>\n",
       "      <td>12</td>\n",
       "      <td>3090.352195</td>\n",
       "      <td>1</td>\n",
       "      <td>54</td>\n",
       "      <td>3</td>\n",
       "      <td>6.0</td>\n",
       "      <td>2</td>\n",
       "      <td>2</td>\n",
       "      <td>1</td>\n",
       "      <td>...</td>\n",
       "      <td>1</td>\n",
       "      <td>1</td>\n",
       "      <td>2</td>\n",
       "      <td>1</td>\n",
       "      <td>2</td>\n",
       "      <td>2</td>\n",
       "      <td>4</td>\n",
       "      <td>1</td>\n",
       "      <td>2</td>\n",
       "      <td>6.888020e+07</td>\n",
       "    </tr>\n",
       "    <tr>\n",
       "      <th>2</th>\n",
       "      <td>1</td>\n",
       "      <td>13</td>\n",
       "      <td>3094.100275</td>\n",
       "      <td>1</td>\n",
       "      <td>54</td>\n",
       "      <td>3</td>\n",
       "      <td>6.0</td>\n",
       "      <td>2</td>\n",
       "      <td>2</td>\n",
       "      <td>1</td>\n",
       "      <td>...</td>\n",
       "      <td>1</td>\n",
       "      <td>1</td>\n",
       "      <td>2</td>\n",
       "      <td>1</td>\n",
       "      <td>2</td>\n",
       "      <td>2</td>\n",
       "      <td>4</td>\n",
       "      <td>1</td>\n",
       "      <td>2</td>\n",
       "      <td>6.896374e+07</td>\n",
       "    </tr>\n",
       "    <tr>\n",
       "      <th>3</th>\n",
       "      <td>1</td>\n",
       "      <td>14</td>\n",
       "      <td>3098.507517</td>\n",
       "      <td>1</td>\n",
       "      <td>54</td>\n",
       "      <td>3</td>\n",
       "      <td>6.0</td>\n",
       "      <td>2</td>\n",
       "      <td>2</td>\n",
       "      <td>1</td>\n",
       "      <td>...</td>\n",
       "      <td>1</td>\n",
       "      <td>1</td>\n",
       "      <td>2</td>\n",
       "      <td>1</td>\n",
       "      <td>2</td>\n",
       "      <td>2</td>\n",
       "      <td>4</td>\n",
       "      <td>1</td>\n",
       "      <td>2</td>\n",
       "      <td>6.906198e+07</td>\n",
       "    </tr>\n",
       "    <tr>\n",
       "      <th>4</th>\n",
       "      <td>1</td>\n",
       "      <td>15</td>\n",
       "      <td>3104.670102</td>\n",
       "      <td>1</td>\n",
       "      <td>54</td>\n",
       "      <td>3</td>\n",
       "      <td>6.0</td>\n",
       "      <td>2</td>\n",
       "      <td>2</td>\n",
       "      <td>1</td>\n",
       "      <td>...</td>\n",
       "      <td>1</td>\n",
       "      <td>1</td>\n",
       "      <td>2</td>\n",
       "      <td>1</td>\n",
       "      <td>2</td>\n",
       "      <td>2</td>\n",
       "      <td>4</td>\n",
       "      <td>1</td>\n",
       "      <td>2</td>\n",
       "      <td>6.919933e+07</td>\n",
       "    </tr>\n",
       "  </tbody>\n",
       "</table>\n",
       "<p>5 rows × 351 columns</p>\n",
       "</div>"
      ],
      "text/plain": [
       "   yy1  y1          wgt  hhsex  age  agecl  educ  edcl  married  kids  ...  \\\n",
       "0    1  11  3100.802441      1   54      3   6.0     2        2     1  ...   \n",
       "1    1  12  3090.352195      1   54      3   6.0     2        2     1  ...   \n",
       "2    1  13  3094.100275      1   54      3   6.0     2        2     1  ...   \n",
       "3    1  14  3098.507517      1   54      3   6.0     2        2     1  ...   \n",
       "4    1  15  3104.670102      1   54      3   6.0     2        2     1  ...   \n",
       "\n",
       "   inccat  assetcat  ninccat  ninc2cat  nwpctlecat  incpctlecat  nincpctlecat  \\\n",
       "0       1         1        2         1           2            2             4   \n",
       "1       1         1        2         1           2            2             4   \n",
       "2       1         1        2         1           2            2             4   \n",
       "3       1         1        2         1           2            2             4   \n",
       "4       1         1        2         1           2            2             4   \n",
       "\n",
       "   incqrtcat  nincqrtcat     incomewgt  \n",
       "0          1           2  6.911313e+07  \n",
       "1          1           2  6.888020e+07  \n",
       "2          1           2  6.896374e+07  \n",
       "3          1           2  6.906198e+07  \n",
       "4          1           2  6.919933e+07  \n",
       "\n",
       "[5 rows x 351 columns]"
      ]
     },
     "execution_count": 31,
     "metadata": {},
     "output_type": "execute_result"
    }
   ],
   "source": [
    "df2013.head()"
   ]
  },
  {
   "cell_type": "code",
   "execution_count": 26,
   "metadata": {
    "code_folding": [
     0
    ]
   },
   "outputs": [],
   "source": [
    "def weighted_percentiles(data, variable, weights, percentiles = [], \n",
    "                         dollar_amt = False, subgroup = None, limits = []):\n",
    "    \"\"\"\n",
    "    data               specifies what dataframe we're working with\n",
    "    \n",
    "    variable           specifies the variable name (e.g. income, networth, etc.) in the dataframe\n",
    "    \n",
    "    percentiles = []   indicates what percentile(s) to return (e.g. 90th percentile = .90)\n",
    "    \n",
    "    weights            corresponds to the weighting variable in the dataframe\n",
    "    \n",
    "    dollar_amt = False returns the percentage of total income earned by that percentile \n",
    "                       group (i.e. bottom 80% of earners earned XX% of total)\n",
    "                         \n",
    "    dollar_amt = True  returns the $ amount earned by that percentile (i.e. 90th percentile\n",
    "                       earned $X)\n",
    "                         \n",
    "    subgroup = ''      isolates the analysis to a particular subgroup in the dataset. For example\n",
    "                       subgroup = 'age' would return the income distribution of the age group \n",
    "                       determined by the limits argument\n",
    "                       \n",
    "    limits = []        Corresponds to the subgroup argument. For example, if you were interesting in \n",
    "                       looking at the distribution of income across heads of household aged 18-24,\n",
    "                       then you would input \"subgroup = 'age', limits = [18,24]\"\n",
    "                         \n",
    "    \"\"\"\n",
    "    import numpy \n",
    "    a  = list()\n",
    "    data[variable+weights] = data[variable]*data[weights]\n",
    "    if subgroup is None:\n",
    "        tt = data\n",
    "    else:\n",
    "        tt = data[data[subgroup].astype(int).isin(range(limits[0],limits[1]+1))] \n",
    "    values, sample_weight = tt[variable], tt[weights]\n",
    "    \n",
    "    for index in percentiles: \n",
    "        values = numpy.array(values)\n",
    "        index = numpy.array(index)\n",
    "        sample_weight = numpy.array(sample_weight)\n",
    "\n",
    "        sorter = numpy.argsort(values)\n",
    "        values = values[sorter]\n",
    "        sample_weight = sample_weight[sorter]\n",
    "\n",
    "        weighted_percentiles = numpy.cumsum(sample_weight) - 0.5 * sample_weight\n",
    "        weighted_percentiles /= numpy.sum(sample_weight)\n",
    "        a.append(numpy.interp(index, weighted_percentiles, values))\n",
    "    \n",
    "    if dollar_amt is False:    \n",
    "        return[tt.loc[tt[variable]<=a[x],\n",
    "                      variable+weights].sum()/tt[variable+weights].sum() for x in range(len(percentiles))]\n",
    "    else:\n",
    "        return a"
   ]
  },
  {
   "cell_type": "code",
   "execution_count": 40,
   "metadata": {
    "code_folding": []
   },
   "outputs": [
    {
     "data": {
      "image/png": "[encoded data removed]",
      "text/plain": [
       "<Figure size 432x432 with 1 Axes>"
      ]
     },
     "metadata": {
      "needs_background": "light"
     },
     "output_type": "display_data"
    }
   ],
   "source": [
    "def figureprefs(data, variable = 'income', labels = False, legendlabels = []):\n",
    "    \n",
    "    percentiles = [i * 0.05 for i in range(20)]+[0.99, 1.00]\n",
    "\n",
    "    fig, ax = plt.subplots(figsize=(6,6));\n",
    "\n",
    "    ax.set_xticks([i*0.1 for i in range(11)]);       #Sets the tick marks\n",
    "    ax.set_yticks([i*0.1 for i in range(11)]);\n",
    "\n",
    "    vals = ax.get_yticks()                           #Labels the tick marks\n",
    "    ax.set_yticklabels(['{:3.0f}%'.format(x*100) for x in vals]);\n",
    "    ax.set_xticklabels(['{:3.0f}%'.format(x*100) for x in vals]);\n",
    "\n",
    "    ax.set_title('Lorenz Curve: United States, 2013 vs. 2016 vs. 2019',  #Axes titles\n",
    "                  fontsize=18, loc='center');\n",
    "    ax.set_ylabel('Cumulative Percent of Total Income', fontsize = 12);\n",
    "    ax.set_xlabel('Percent of Familes Ordered by Incomes', fontsize = 12);\n",
    "    \n",
    "    if type(data) == list:\n",
    "        values = [weighted_percentiles(data[x], variable,\n",
    "                    'wgt', dollar_amt = False, percentiles = percentiles) for x in range(len(data))]\n",
    "        for index in range(len(data)):\n",
    "            plt.plot(percentiles,values[index],\n",
    "                     linewidth=2.0, marker = 's',clip_on=False,label=legendlabels[index]);\n",
    "            for num in [10, 19, 20]:\n",
    "                ax.annotate('{:3.1f}%'.format(values[index][num]*100), \n",
    "                    xy=(percentiles[num], values[index][num]),\n",
    "                    ha = 'right', va = 'center', fontsize = 12);\n",
    "\n",
    "    else:\n",
    "        values = weighted_percentiles(data, variable,\n",
    "                    'wgt', dollar_amt = False, percentiles = percentiles)\n",
    "        plt.plot(percentiles,values,\n",
    "                     linewidth=2.0, marker = 's',clip_on=False,label=legendlabels);\n",
    "\n",
    "    plt.plot(percentiles,percentiles, linestyle =  '--', color='k',\n",
    "            label='Perfect Equality');\n",
    "   \n",
    "    plt.legend(loc = 2)\n",
    "\n",
    "    \n",
    "years_graph = [df2019, df2016,df2013]\n",
    "labels = ['2019', '2016','2013']\n",
    "\n",
    "figureprefs(years_graph, variable = 'income', legendlabels = labels);"
   ]
  }
 ],
 "metadata": {
  "kernelspec": {
   "display_name": "Python 3 (ipykernel)",
   "language": "python",
   "name": "python3"
  },
  "language_info": {
   "codemirror_mode": {
    "name": "ipython",
    "version": 3
   },
   "file_extension": ".py",
   "mimetype": "text/x-python",
   "name": "python",
   "nbconvert_exporter": "python",
   "pygments_lexer": "ipython3",
   "version": "3.8.5"
  }
 },
 "nbformat": 4,
 "nbformat_minor": 4
}
