{
 "cells": [
  {
   "cell_type": "code",
   "execution_count": 4,
   "metadata": {
    "lines_to_end_of_cell_marker": 2,
    "lines_to_next_cell": 0
   },
   "outputs": [],
   "source": [
    "import numpy as np \n",
    "\n",
    "life_cycle_paras = {'ρ':2,\n",
    "                    'β':0.97,\n",
    "                    'P': np.array([(0.9, 0.1),\n",
    "                                   (0.1, 0.9)]),   ## transitory probability of markov state z\n",
    "                    'z_val':np.array([0.0,1.0]), ## markov state from low to high  \n",
    "                    'σ_ψ':0.01,     ## size of permanent income shocks\n",
    "                    'σ_θ':0.03,   ## size of transitory income risks\n",
    "                    'U': 0.0,            ## unemployment risk probability (0-1)\n",
    "                    'LivPrb':1.0,       ## living probability \n",
    "                    'σ_ψ_2mkv': np.array([0.01,0.02]),  ## permanent risks in 2 markov states\n",
    "                    'σ_θ_2mkv': np.array([0.02,0.04]),  ## transitory risks in 2 markov states\n",
    "                    'R': 1.03,           ## interest factor \n",
    "                    'W': 1.0,            ## Wage rate\n",
    "                    'T': 40,             ## work age, from 25 to 65\n",
    "                    'L': 60,             ## life length 85\n",
    "                    'G': np.ones(60),    ## growth factor list of permanent income \n",
    "                    'unemp_insurance':0.0,   #  unemp_insurance = 0.0,   \n",
    "                    'pension':1.0,           \n",
    "                    'σ_ψ_init':0.01,\n",
    "                    'init_b':0.0,\n",
    "                    'λ':0.0,\n",
    "                    'λ_SS': 0.0,\n",
    "                    'transfer':0.0,\n",
    "                    'bequest_ratio':0.0}"
   ]
  },
  {
   "cell_type": "code",
   "execution_count": null,
   "metadata": {
    "lines_to_next_cell": 2
   },
   "outputs": [],
   "source": []
  }
 ],
 "metadata": {
  "jupytext": {
   "encoding": "# -*- coding: utf-8 -*-",
   "formats": "ipynb,py:light"
  },
  "kernelspec": {
   "display_name": "Python 3 (ipykernel)",
   "language": "python",
   "name": "python3"
  },
  "language_info": {
   "codemirror_mode": {
    "name": "ipython",
    "version": 3
   },
   "file_extension": ".py",
   "mimetype": "text/x-python",
   "name": "python",
   "nbconvert_exporter": "python",
   "pygments_lexer": "ipython3",
   "version": "3.8.5"
  }
 },
 "nbformat": 4,
 "nbformat_minor": 4
}
