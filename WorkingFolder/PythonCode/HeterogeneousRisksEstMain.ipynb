{
 "cells": [
  {
   "cell_type": "markdown",
   "metadata": {},
   "source": [
    "# A heterogeneous-risk model estimation using SCE\n"
   ]
  },
  {
   "cell_type": "markdown",
   "metadata": {},
   "source": [
    "## Motivation\n",
    "\n",
    "So it has been established that PR shows a large degree of heterogeneity and it is along dimensions beyond the conventional assumptions. So the questions are how am I about to model this heterogeneity, estimating them from survey data and also acccount for the empirical regularities.\n",
    "\n",
    "In reality, the income process could differ in various different ways. But a simple assumption is enough. I assume that the relative size of permanent and transitory risks are heterogeneous. This easily accomodates various kinds of reasons for the heterogeneity in income risks. "
   ]
  },
  {
   "cell_type": "code",
   "execution_count": 15,
   "metadata": {},
   "outputs": [],
   "source": [
    "import numpy as np\n",
    "import numpy.ma as ma\n",
    "import matplotlib.pyplot as plt\n",
    "import pandas as pd\n",
    "import copy as cp\n",
    "plt.style.use('ggplot')\n",
    "from scipy.optimize import fsolve\n",
    "import pickle \n",
    "\n",
    "## figure plotting configurations\n",
    "\n",
    "plt.style.use('seaborn')\n",
    "plt.rcParams[\"font.family\"] = \"Times New Roman\" #'serif'\n",
    "plt.rcParams['font.serif'] = 'Ubuntu'\n",
    "plt.rcParams['font.monospace'] = 'Ubuntu Mono'\n",
    "plt.rcParams['axes.labelweight'] = 'bold'\n",
    "\n",
    "## Set the \n",
    "plt.rc('font', size=25)\n",
    "# Set the axes title font size\n",
    "plt.rc('axes', titlesize=20)\n",
    "# Set the axes labels font size\n",
    "plt.rc('axes', labelsize=20)\n",
    "# Set the font size for x tick labels\n",
    "plt.rc('xtick', labelsize=20)\n",
    "# Set the font size for y tick labels\n",
    "plt.rc('ytick', labelsize=20)\n",
    "# Set the legend font size\n",
    "plt.rc('legend', fontsize=20)\n",
    "# Set the font size of the figure title\n",
    "plt.rc('figure', titlesize=20)"
   ]
  },
  {
   "cell_type": "code",
   "execution_count": 16,
   "metadata": {
    "code_folding": [
     0
    ]
   },
   "outputs": [
    {
     "name": "stdout",
     "output_type": "stream",
     "text": [
      "true mu: -0.08000000000000002\n",
      "true sigma: 0.4\n",
      "est mu: -0.08031437809935381\n",
      "est sigma: 0.39923884984040575\n",
      "est loc: 0.0\n"
     ]
    }
   ],
   "source": [
    "## a test of fitting fake log normal data \n",
    "\n",
    "sigma_fake = 0.4\n",
    "mu_fake = - sigma_fake**2/2\n",
    "mean_one_log_normal_draws = np.exp(np.random.randn(100000)*sigma_fake-sigma_fake**2/2)\n",
    "\n",
    "## fit \n",
    "from scipy import stats\n",
    "shape, loc, scale = stats.lognorm.fit(mean_one_log_normal_draws,floc=0)\n",
    "mu_fake_est, sigma_fake_est= np.log(scale), shape  # mu, sigma ## mu=-sigma^2/2 for mean-one log normal\n",
    "\n",
    "print('true mu:',str(mu_fake))\n",
    "print('true sigma:',str(sigma_fake))\n",
    "\n",
    "print('est mu:',str(mu_fake_est))\n",
    "print('est sigma:',str(sigma_fake_est))\n",
    "print('est loc:',str(loc))"
   ]
  },
  {
   "cell_type": "code",
   "execution_count": 17,
   "metadata": {
    "code_folding": [
     0
    ]
   },
   "outputs": [],
   "source": [
    "def Est_PR_log_normal_simple(PRs,\n",
    "                             est_PR):\n",
    "    \"\"\"\n",
    "    input\n",
    "    =====\n",
    "    PRs: an array of individual PRs\n",
    "    est_PR: a scalar of average PR estimated from Panel data \n",
    "    \n",
    "    output\n",
    "    ======\n",
    "    an array storing 3 parameters \n",
    "    mu_PR_est: the estimated mean of the PR in population \n",
    "    sigma_PR_est: the estimated stadanrd deviation of PR in population\n",
    "    sigma_xi_est: the estimated unobserved heterogeneity \n",
    "    \n",
    "    \"\"\"\n",
    "    \n",
    "    ## PR log normal \n",
    "    \n",
    "    shape, loc, scale = stats.lognorm.fit(PRs, \n",
    "                                          floc=0)\n",
    "    mu_PR_est, sigma_PR_est= np.log(scale), shape  # mu, sigma ## mu=-sigma^2/2 for mean-one log normal \n",
    "    \n",
    "    av_PRs = np.mean(PRs)\n",
    "    ## Estimating the wedge \n",
    "    sigma_xi_est = np.sqrt(est_PR - av_PRs)\n",
    "    \n",
    "    #PRs_transform = PRs/est_sigma_tran**2-1 \n",
    "    \n",
    "    \n",
    "    return np.array([mu_PR_est,sigma_PR_est,sigma_xi_est])"
   ]
  },
  {
   "cell_type": "markdown",
   "metadata": {},
   "source": [
    "## Estimation using SCE data\n"
   ]
  },
  {
   "cell_type": "code",
   "execution_count": 18,
   "metadata": {
    "code_folding": [
     9,
     13,
     26,
     35
    ]
   },
   "outputs": [
    {
     "name": "stdout",
     "output_type": "stream",
     "text": [
      "nb of observations before: 115083\n",
      "nb of observations after dropping low numeracy/low education sample: 32541\n"
     ]
    }
   ],
   "source": [
    "dataset = pd.read_stata('../SurveyData/SCE/IncExpSCEProbIndM.dta')   \n",
    "\n",
    "## variables \n",
    "vars_id = ['userid','date']\n",
    "moms_nom = ['Q24_mean','Q24_iqr','Q24_var']\n",
    "moms_real = ['Q24_rmean','Q24_rvar']\n",
    "ue_risks = ['Q13new','Q22new']\n",
    "vars_demog = ['D6']   ## level of income, 11 groups \n",
    "\n",
    "vars_job = ['Q10_1',  # full-time \n",
    "            'Q10_2',  # part-time\n",
    "            'Q12new'] ## =1 worked for others; = 2 self-employment \n",
    "\n",
    "vars_demog_sub = ['Q32',  ## age \n",
    "                  'Q33',  ## gender \n",
    "                  'Q36',  ## education (1-8 low to high, 9 other)\n",
    "                  'educ_gr',##education group (1-3)\n",
    "                  'byear', ## year of birth\n",
    "                  'tenure', ## nb of months staying in the survey \n",
    "                   'nlit'] \n",
    "\n",
    "vars_all_reg_long = (vars_id+moms_nom + moms_real+ue_risks+vars_demog+vars_demog_sub+vars_job)\n",
    "\n",
    "## select dataset \n",
    "SCEM = dataset[vars_all_reg_long]\n",
    "\n",
    "SCEM = SCEM.rename(columns={'Q24_mean': 'incexp',\n",
    "                           'Q24_var': 'incvar',\n",
    "                           'Q24_iqr': 'inciqr',\n",
    "                           'Q24_rmean':'rincexp',\n",
    "                           'Q24_rvar': 'rincvar',\n",
    "                           'Q13new':'UE_s',\n",
    "                           'Q22new':'UE_f'\n",
    "                           })\n",
    "\n",
    "SCEM = SCEM.rename(columns = {'D6':'HHinc',\n",
    "                              'Q10_1':'fulltime',\n",
    "                              'Q10_2':'parttime',\n",
    "                              'Q12new':'selfemp',\n",
    "                              'Q32':'age',\n",
    "                              'Q33':'gender',\n",
    "                              'Q36':'educ'})\n",
    "\n",
    "SCEM = SCEM.dropna(subset=['date'])\n",
    "\n",
    "## filter by basic/necessary criteria  \n",
    "print('nb of observations before:',str(len(SCEM)))\n",
    "SCEM = SCEM[SCEM['tenure']>=3]\n",
    "SCEM = SCEM[SCEM['fulltime']==1]\n",
    "SCEM = SCEM[SCEM['selfemp']==1]  ## working for someone \n",
    "SCEM =SCEM[(SCEM['age']<=65) & (SCEM['age']>=25) ]\n",
    "SCEM =SCEM[SCEM['nlit']>=2.0]\n",
    "SCEM =SCEM[SCEM['educ']>=1]\n",
    "print('nb of observations after dropping low numeracy/low education sample:',str(len(SCEM)))"
   ]
  },
  {
   "cell_type": "code",
   "execution_count": 19,
   "metadata": {
    "code_folding": [
     0
    ]
   },
   "outputs": [],
   "source": [
    "## first obtain time average by individual \n",
    "\n",
    "PR_ind_av = SCEM.groupby('userid')['rincvar'].mean().dropna()\n",
    "\n",
    "PR_ind_av = SCEM.groupby('userid')['rincvar'].mean().dropna()"
   ]
  },
  {
   "cell_type": "code",
   "execution_count": 20,
   "metadata": {
    "code_folding": [
     0
    ],
    "lines_to_next_cell": 2
   },
   "outputs": [
    {
     "name": "stdout",
     "output_type": "stream",
     "text": [
      "Estimated perm risk 0.1\n",
      "Estimated tran risk 0.08\n",
      "Implied Estimated PR in std term 0.12806248474865697\n",
      "Average PR in SCE 0.03567073296643721\n"
     ]
    }
   ],
   "source": [
    "## some commonly used parameters, e.g. from Low et al.\n",
    "\n",
    "sigma_perm_Low_est = 0.1\n",
    "print('Estimated perm risk', str(sigma_perm_Low_est))\n",
    "sigma_tran_Low_est = 0.08\n",
    "print('Estimated tran risk', str(sigma_tran_Low_est))\n",
    "est_PR_Low = sigma_perm_Low_est**2 + sigma_tran_Low_est**2\n",
    "print('Implied Estimated PR in std term', str(np.sqrt(est_PR_Low)))\n",
    "\n",
    "PRs_SCE = np.array(PR_ind_av)\n",
    "av_PR_SCE = np.mean(PR_ind_av)\n",
    "\n",
    "print('Average PR in SCE', str(np.sqrt(av_PR_SCE)))"
   ]
  },
  {
   "cell_type": "code",
   "execution_count": 21,
   "metadata": {
    "code_folding": [
     0,
     4
    ]
   },
   "outputs": [
    {
     "data": {
      "text/plain": [
       "<matplotlib.legend.Legend at 0x7fb6803a64f0>"
      ]
     },
     "execution_count": 21,
     "metadata": {},
     "output_type": "execute_result"
    },
    {
     "data": {
      "image/png": "[encoded data removed]",
      "text/plain": [
       "<Figure size 576x396 with 1 Axes>"
      ]
     },
     "metadata": {},
     "output_type": "display_data"
    }
   ],
   "source": [
    "## distributions of PR \n",
    "\n",
    "plt.title('Data')\n",
    "\n",
    "hist = plt.hist(np.sqrt(PRs_SCE),\n",
    "                bins = 50,\n",
    "                color='red',\n",
    "                label='Dist of PRs',\n",
    "               density=True)\n",
    "\n",
    "plt.axvline(np.sqrt(av_PR_SCE),\n",
    "            color='black',\n",
    "            label='Average PR=.{:.3f}'.format(np.sqrt(av_PR_SCE)))\n",
    "\n",
    "plt.axvline(np.sqrt(est_PR_Low),\n",
    "            linestyle='--',\n",
    "            color='blue',\n",
    "            label='Estimated PR')\n",
    "\n",
    "plt.xlabel('PR (in std terms)')\n",
    "plt.legend(loc=1)"
   ]
  },
  {
   "cell_type": "code",
   "execution_count": 22,
   "metadata": {},
   "outputs": [
    {
     "name": "stdout",
     "output_type": "stream",
     "text": [
      "Estimated mean PR -7.432702541351318\n",
      "Estimated standard deviation in PR 1.2520112991333008\n",
      "Estimated wedge due to unobserved heterogeneity 0.1229943120176604\n"
     ]
    }
   ],
   "source": [
    "## estimating the parameters using SCE \n",
    "\n",
    "mu_PR_est_SCE, sigma_PR_est_SCE,sigma_xi_est_SCE = Est_PR_log_normal_simple(PRs_SCE,\n",
    "                                                                            est_PR_Low)\n",
    "print('Estimated mean PR',str(mu_PR_est_SCE))\n",
    "print('Estimated standard deviation in PR',str(sigma_PR_est_SCE))\n",
    "print('Estimated wedge due to unobserved heterogeneity',str(sigma_xi_est_SCE))\n",
    "\n",
    "PRs_sim_simple = np.exp(np.random.randn(10000)*sigma_PR_est_SCE+mu_PR_est_SCE)"
   ]
  },
  {
   "cell_type": "code",
   "execution_count": 24,
   "metadata": {
    "code_folding": [],
    "lines_to_next_cell": 0
   },
   "outputs": [
    {
     "data": {
      "image/png": "[encoded data removed]",
      "text/plain": [
       "<Figure size 576x396 with 1 Axes>"
      ]
     },
     "metadata": {},
     "output_type": "display_data"
    }
   ],
   "source": [
    "## plot simulated data based on log normal estimates and the observed PRs\n",
    "\n",
    "plt.title('Heterogeneity in PR in SCE')\n",
    "plt.hist(np.sqrt(PRs_sim_simple),\n",
    "        bins = 200,\n",
    "         color='gray',\n",
    "        label='Estimated distribution in PRs',\n",
    "        density = True)\n",
    "\n",
    "plt.hist(np.sqrt(PRs_SCE),\n",
    "         bins = 200,\n",
    "         color='black',\n",
    "         label='Observed PRs in SCE',\n",
    "         density = True,\n",
    "         alpha=0.3)\n",
    "\n",
    "plt.axvline(np.sqrt(av_PR_SCE),\n",
    "            color='red',\n",
    "            label='Average PR=.{:.2f}'.format(np.sqrt(av_PR_SCE)))\n",
    "\n",
    "plt.axvline(np.sqrt(est_PR_Low),\n",
    "            linestyle='--',\n",
    "            color='blue',\n",
    "            label='Estimated PR')\n",
    "\n",
    "plt.xlim([0.0,0.2])\n",
    "plt.xlabel('PR in std terms')\n",
    "plt.legend(loc=1)\n",
    "plt.savefig('../Graphs/sce/log_normal_fit.pdf')"
   ]
  },
  {
   "cell_type": "code",
   "execution_count": 25,
   "metadata": {
    "code_folding": []
   },
   "outputs": [],
   "source": [
    "## Create equalprobable grid for sigma_permanent and sigma_transitory "
   ]
  },
  {
   "cell_type": "code",
   "execution_count": null,
   "metadata": {},
   "outputs": [],
   "source": [
    "## ## store all data \n",
    "PR_est_dict = {'mu_pr':mu_PR_est_SCE,\n",
    "              'sigma_pr':sigma_PR_est_SCE,\n",
    "              'sigma_xi':sigma_xi_est_SCE}\n",
    "\n",
    "pickle.dump(PR_est_dict,open('./parameters/PR_est.pkl','wb'))"
   ]
  }
 ],
 "metadata": {
  "jupytext": {
   "cell_metadata_json": true,
   "formats": "ipynb,py:light"
  },
  "kernelspec": {
   "display_name": "Python 3 (ipykernel)",
   "language": "python",
   "name": "python3"
  },
  "language_info": {
   "codemirror_mode": {
    "name": "ipython",
    "version": 3
   },
   "file_extension": ".py",
   "mimetype": "text/x-python",
   "name": "python",
   "nbconvert_exporter": "python",
   "pygments_lexer": "ipython3",
   "version": "3.8.13"
  }
 },
 "nbformat": 4,
 "nbformat_minor": 4
}
