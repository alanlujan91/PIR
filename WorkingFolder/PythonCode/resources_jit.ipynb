{
 "cells": [
  {
   "cell_type": "markdown",
   "metadata": {},
   "source": [
    "# Resources"
   ]
  },
  {
   "cell_type": "markdown",
   "metadata": {},
   "source": [
    "This is a library of classes and functions which I often employ in simulations and numerical work. The classes (and occasional function) are organized alphabetically by titled section (within each section, the classes themselves are organized by importance/inheritance, as needed).\n"
   ]
  },
  {
   "cell_type": "code",
   "execution_count": 1,
   "metadata": {},
   "outputs": [],
   "source": [
    "# Import required Python libraries\n",
    "import math\n",
    "import numpy as np\n",
    "import scipy.stats as stats\n",
    "from scipy.integrate import quad\n",
    "import pylab as plt"
   ]
  },
  {
   "cell_type": "code",
   "execution_count": 2,
   "metadata": {},
   "outputs": [],
   "source": [
    "from numba import float64, int64\n",
    "from numba.experimental import jitclass"
   ]
  },
  {
   "cell_type": "markdown",
   "metadata": {},
   "source": [
    "## Jittable frozen distribution of log normal "
   ]
  },
  {
   "cell_type": "code",
   "execution_count": 3,
   "metadata": {
    "code_folding": [
     11
    ]
   },
   "outputs": [],
   "source": [
    "LogNormalPara = [\n",
    "    (\"sigma\", float64),\n",
    "    (\"mu\", float64),\n",
    "    (\"sim_N\", int64),\n",
    "    (\"sim_draws\", float64[:]),\n",
    "    (\"X\", float64[:]),\n",
    "    (\"pmf\", float64[:]),\n",
    "    (\"approx_N\", int64),\n",
    "]\n",
    "\n",
    "\n",
    "@jitclass(LogNormalPara)\n",
    "class LogNormal:\n",
    "    def __init__(self, mu=0.1, sigma=0.2, sim_N=100000, approx_N=7):\n",
    "        self.mu = mu\n",
    "        self.sigma = sigma  ## underlying normal std\n",
    "        self.sim_N = sim_N\n",
    "        self.sim_draws = np.random.lognormal(mu, sigma, sim_N)\n",
    "        self.approx_N = approx_N\n",
    "        self.discretize()\n",
    "\n",
    "    def pdf(self, x):\n",
    "        lx = np.log(x)\n",
    "        ## notice there is a x in denominator\n",
    "        return (\n",
    "            1\n",
    "            / (self.sigma * x * np.sqrt(2 * np.pi))\n",
    "            * np.exp(-((lx - self.mu) ** 2) / (2 * self.sigma**2))\n",
    "        )\n",
    "\n",
    "    def cdf(self, x):\n",
    "        ## cdf\n",
    "        sim_draws_sort = np.sort(self.sim_draws)\n",
    "        cdf = np.sum(sim_draws_sort <= x) / self.sim_N\n",
    "        return cdf\n",
    "\n",
    "    def invcdf(self, cdf):\n",
    "        sim_draws_sort = np.sort(self.sim_draws)\n",
    "        if cdf > 0.0 and cdf < 1.0:\n",
    "            cdfs = 1.0 * np.arange(self.sim_N) / self.sim_N\n",
    "            where_idx = np.min(cdfs <= cdf)\n",
    "            where_idx = np.searchsorted(cdfs, cdf)  ## the location index of the cdf\n",
    "            if where_idx == 0:\n",
    "                left_x = sim_draws_sort[where_idx]\n",
    "            elif where_idx == self.sim_N:\n",
    "                left_x = sim_draws_sort[where_idx - 1]\n",
    "            else:\n",
    "                left_x, right_x = (\n",
    "                    sim_draws_sort[where_idx - 1],\n",
    "                    sim_draws_sort[where_idx],\n",
    "                )\n",
    "            x = (left_x + right_x) / 2\n",
    "        elif cdf == 0.0:\n",
    "            x = np.min(sim_draws_sort)\n",
    "        else:\n",
    "            x = np.max(sim_draws_sort)\n",
    "        return x\n",
    "\n",
    "    def discretize(self):\n",
    "        \"\"\"\n",
    "        N equally probable values of the random variable\n",
    "        \"\"\"\n",
    "        if self.sigma != 0.0:\n",
    "            N = self.approx_N\n",
    "            probs_cutoffs = np.arange(N + 1) / N  # Includes 0 and 1\n",
    "            state_cutoffs = np.array(\n",
    "                [self.invcdf(prob_cutoff) for prob_cutoff in probs_cutoffs]\n",
    "            )  # State cutoff values, each bin\n",
    "            bin_probs = np.empty(N, float64)\n",
    "\n",
    "            # Find the E[X|bin] values:\n",
    "            # F = lambda x: x*self.pdf(x)\n",
    "            Ebins = np.empty(N, float64)\n",
    "\n",
    "            for i, (x0, x1) in enumerate(zip(state_cutoffs[:-1], state_cutoffs[1:])):\n",
    "                bin_probs[i] = self.cdf(x1) - self.cdf(x0)  ## pdf between x0 and x1\n",
    "                cond_mean = self.integrate_by_sum(x0, x1)\n",
    "                # cond_mean, err = quad(F, x0, x1)\n",
    "                Ebins[i] = cond_mean / bin_probs[i]\n",
    "\n",
    "            self.X = Ebins\n",
    "            self.pmf = bin_probs\n",
    "        else:\n",
    "            self.X = np.array([1.0])\n",
    "            self.pmf = np.array([1.0])\n",
    "        # return self.X,self.pmf\n",
    "\n",
    "    def integrate_by_sum(self, x0, x1, bins=10000, how=\"midpoint\"):\n",
    "        \"\"\"\n",
    "        integrate pdfs by sum over very finely divided bins between x0 and x1.\n",
    "        it is an good approximation as long as the number of bins is fine enough\n",
    "        the pdf is calculated exactly\n",
    "        \"\"\"\n",
    "        dx = (x1 - x0) / bins\n",
    "        xs = np.linspace(x0, x1, bins)\n",
    "        if how == \"left\":\n",
    "            x_left = xs[:-1]\n",
    "            to_sum = np.array([self.pdf(x) * x for x in x_left]) * dx\n",
    "            return np.sum(to_sum)\n",
    "        elif how == \"right\":\n",
    "            x_right = xs[1:]\n",
    "            to_sum = np.array([self.pdf(x) * x for x in x_right]) * dx\n",
    "            return np.sum(to_sum)\n",
    "        elif how == \"midpoint\":\n",
    "            x_mid = (xs[:-1] + xs[1:]) / 2\n",
    "            to_sum = np.array([self.pdf(x) * x for x in x_mid]) * dx\n",
    "            return np.sum(to_sum)\n",
    "        else:\n",
    "            raise ValueError(\"Method must be 'left', 'right' or 'midpoint'.\")"
   ]
  },
  {
   "cell_type": "code",
   "execution_count": 4,
   "metadata": {
    "code_folding": [
     59,
     86
    ]
   },
   "outputs": [],
   "source": [
    "MeanOneLogNormalPara = [\n",
    "    (\"sigma\", float64),\n",
    "    (\"mu\", float64),\n",
    "    (\"sim_N\", int64),\n",
    "    (\"sim_draws\", float64[:]),\n",
    "    (\"X\", float64[:]),\n",
    "    (\"pmf\", float64[:]),\n",
    "    (\"approx_N\", int64),\n",
    "]\n",
    "\n",
    "\n",
    "@jitclass(MeanOneLogNormalPara)\n",
    "class MeanOneLogNormal:\n",
    "    def __init__(self, sigma=0.2, sim_N=100000, approx_N=7):\n",
    "        self.sigma = sigma  ## underlying normal std\n",
    "        self.sim_N = sim_N\n",
    "        self.mu = -(sigma**2) / 2  ## underlying normal mean\n",
    "        self.sim_draws = np.random.lognormal(-(sigma**2) / 2, sigma, sim_N)\n",
    "        self.approx_N = approx_N\n",
    "        self.discretize()\n",
    "\n",
    "    def pdf(self, x):\n",
    "        lx = np.log(x)\n",
    "        ## notice there is a x in denominator\n",
    "        return (\n",
    "            1\n",
    "            / (self.sigma * x * np.sqrt(2 * np.pi))\n",
    "            * np.exp(-((lx - self.mu) ** 2) / (2 * self.sigma**2))\n",
    "        )\n",
    "\n",
    "    def cdf(self, x):\n",
    "        ## cdf\n",
    "        sim_draws_sort = np.sort(self.sim_draws)\n",
    "        cdf = np.sum(sim_draws_sort <= x) / self.sim_N\n",
    "        return cdf\n",
    "\n",
    "    def invcdf(self, cdf):\n",
    "        sim_draws_sort = np.sort(self.sim_draws)\n",
    "        if cdf > 0.0 and cdf < 1.0:\n",
    "            cdfs = 1.0 * np.arange(self.sim_N) / self.sim_N\n",
    "            where_idx = np.min(cdfs <= cdf)\n",
    "            where_idx = np.searchsorted(cdfs, cdf)  ## the location index of the cdf\n",
    "            if where_idx == 0:\n",
    "                left_x = sim_draws_sort[where_idx]\n",
    "            elif where_idx == self.sim_N:\n",
    "                left_x = sim_draws_sort[where_idx - 1]\n",
    "            else:\n",
    "                left_x, right_x = (\n",
    "                    sim_draws_sort[where_idx - 1],\n",
    "                    sim_draws_sort[where_idx],\n",
    "                )\n",
    "            x = (left_x + right_x) / 2\n",
    "        elif cdf == 0.0:\n",
    "            x = np.min(sim_draws_sort)\n",
    "        else:\n",
    "            x = np.max(sim_draws_sort)\n",
    "        return x\n",
    "\n",
    "    def discretize(self):\n",
    "        \"\"\"\n",
    "        N equally probable values of the random variable\n",
    "        \"\"\"\n",
    "        if self.sigma != 0.0:\n",
    "            N = self.approx_N\n",
    "            probs_cutoffs = np.arange(N + 1) / N  # Includes 0 and 1\n",
    "            state_cutoffs = np.array(\n",
    "                [self.invcdf(prob_cutoff) for prob_cutoff in probs_cutoffs]\n",
    "            )  # State cutoff values, each bin\n",
    "            bin_probs = np.empty(N, float64)\n",
    "\n",
    "            # Find the E[X|bin] values:\n",
    "            # F = lambda x: x*self.pdf(x)\n",
    "            Ebins = np.empty(N, float64)\n",
    "\n",
    "            for i, (x0, x1) in enumerate(zip(state_cutoffs[:-1], state_cutoffs[1:])):\n",
    "                bin_probs[i] = self.cdf(x1) - self.cdf(x0)  ## pdf between x0 and x1\n",
    "                cond_mean = self.integrate_by_sum(x0, x1)\n",
    "                # cond_mean, err = quad(F, x0, x1)\n",
    "                Ebins[i] = cond_mean / bin_probs[i]\n",
    "\n",
    "            self.X = Ebins\n",
    "            self.pmf = bin_probs\n",
    "        else:\n",
    "            self.X = np.array([1.0])\n",
    "            self.pmf = np.array([1.0])\n",
    "        # return self.X,self.pmf\n",
    "\n",
    "    def integrate_by_sum(self, x0, x1, bins=10000, how=\"midpoint\"):\n",
    "        \"\"\"\n",
    "        integrate pdfs by sum over very finely divided bins between x0 and x1.\n",
    "        it is an good approximation as long as the number of bins is fine enough\n",
    "        the pdf is calculated exactly\n",
    "        \"\"\"\n",
    "        dx = (x1 - x0) / bins\n",
    "        xs = np.linspace(x0, x1, bins)\n",
    "        if how == \"left\":\n",
    "            x_left = xs[:-1]\n",
    "            to_sum = np.array([self.pdf(x) * x for x in x_left]) * dx\n",
    "            return np.sum(to_sum)\n",
    "        elif how == \"right\":\n",
    "            x_right = xs[1:]\n",
    "            to_sum = np.array([self.pdf(x) * x for x in x_right]) * dx\n",
    "            return np.sum(to_sum)\n",
    "        elif how == \"midpoint\":\n",
    "            x_mid = (xs[:-1] + xs[1:]) / 2\n",
    "            to_sum = np.array([self.pdf(x) * x for x in x_mid]) * dx\n",
    "            return np.sum(to_sum)\n",
    "        else:\n",
    "            raise ValueError(\"Method must be 'left', 'right' or 'midpoint'.\")"
   ]
  },
  {
   "cell_type": "code",
   "execution_count": 11,
   "metadata": {},
   "outputs": [
    {
     "name": "stdout",
     "output_type": "stream",
     "text": [
      "[0.85934129 0.90850872 0.9549534  0.97957707 1.04183979 1.09413158\n",
      " 1.16058457]\n"
     ]
    },
    {
     "data": {
      "image/png": "[encoded data removed]",
      "text/plain": [
       "<Figure size 432x288 with 1 Axes>"
      ]
     },
     "metadata": {
      "needs_background": "light"
     },
     "output_type": "display_data"
    }
   ],
   "source": [
    "if __name__ == \"__main__\":\n",
    "    sigma = 0.1\n",
    "    N = 7\n",
    "\n",
    "    # new model\n",
    "    ln = MeanOneLogNormal(sigma=sigma)\n",
    "    # scipy\n",
    "    ln_sp = stats.lognorm(s=ln.sigma, scale=np.exp(ln.mu))\n",
    "\n",
    "    ## compare pdf is computed right compared to scipy\n",
    "\n",
    "    Xs = np.linspace(0.4, 2.0, 300)\n",
    "\n",
    "    ln_pdf = np.array([ln.pdf(x) for x in Xs])\n",
    "    sp_pdf = ln_sp.pdf(Xs)\n",
    "\n",
    "    ## plot pdfs\n",
    "    plt.plot(Xs, ln_pdf)\n",
    "    plt.plot(Xs, sp_pdf)\n",
    "\n",
    "    ### discretization\n",
    "    print(ln.X)"
   ]
  },
  {
   "cell_type": "code",
   "execution_count": 12,
   "metadata": {
    "code_folding": []
   },
   "outputs": [
    {
     "data": {
      "image/png": "[encoded data removed]",
      "text/plain": [
       "<Figure size 432x288 with 1 Axes>"
      ]
     },
     "metadata": {
      "needs_background": "light"
     },
     "output_type": "display_data"
    }
   ],
   "source": [
    "def plot(ln, x0, x1, gridsize=100):\n",
    "    \"\"\"\n",
    "    Plot the discrete approximation against the actual distribution.\n",
    "    \"\"\"\n",
    "    grid = np.linspace(x0, x1, gridsize)\n",
    "\n",
    "    plt.plot(ln.X, np.array([ln.cdf(x) for x in ln.X]), \"ok\")\n",
    "    plt.plot(grid, np.array([ln.cdf(x) for x in grid]), \"k-\")\n",
    "    plt.axis([x0, x1, 0, 1])\n",
    "    plt.hlines(\n",
    "        ln.pmf.cumsum(), x0, x1, color=\"black\", linestyles=\"--\"\n",
    "    )  ## added by Tao to show equiprobable ranges\n",
    "    plt.title(\"Discrete Approximation to Lognormal Distribution\")\n",
    "    plt.xlabel(\"theta\")\n",
    "    plt.ylabel(\"CDF\")\n",
    "    plt.grid()\n",
    "    plt.show()\n",
    "\n",
    "\n",
    "if __name__ == \"__main__\":\n",
    "    plot(ln, 0.7, 1.4)"
   ]
  },
  {
   "cell_type": "markdown",
   "metadata": {},
   "source": [
    "## Discrete Approximation to a Continuous Distribution"
   ]
  },
  {
   "cell_type": "markdown",
   "metadata": {},
   "source": [
    "This implements a Python version of the discrete approximation code used in Carroll's Microeconomic DSOP notes. "
   ]
  },
  {
   "cell_type": "code",
   "execution_count": 13,
   "metadata": {
    "code_folding": [
     0,
     2,
     54
    ]
   },
   "outputs": [],
   "source": [
    "class DiscreteApproximation(object):\n",
    "    def __init__(self, N, cdf, pdf, invcdf, precise_summation=False):\n",
    "        \"\"\"\n",
    "        Given a cdf, pdf, and invererse cdf, and number of evenly-spaced bins\n",
    "        (a partition) of a state space, find the conditional expected values\n",
    "        of each evenly-sized partition,  E[X|partition]\n",
    "\n",
    "        An equidistant grid is imposed upon the [0,1] range, and the inverse cdf\n",
    "        is employed to determine the appropriate \"bin cutoffs.\"\n",
    "\n",
    "        The cdf, pdf, and inverse cdf need to be \"frozen\" distributions -- they\n",
    "        need to have their parameters already set and only accept one value to\n",
    "        produce output.\n",
    "\n",
    "        Note that the MATLAB version has a manually-entered minpoint and maxpoint.\n",
    "        These numbers, used \"raw\" as an upper bound in the Fortran QUADPACK\n",
    "        automatic integration function (which is used by both Numpy and Octave,\n",
    "        as well as many others) cause numerical instability in the solution.\n",
    "\n",
    "        The solution is to use np.inf as the upper bound, which happens\n",
    "        automatically when the state cutoffs are determined. The np.inf values\n",
    "        forces correct evaluation of the integral.\n",
    "        For more details please see discussion in this stackoverflow:\n",
    "        http://stackoverflow.com/questions/24003694/discontinuity-in-results-when-using-scipy-integrate-quad\n",
    "        \"\"\"\n",
    "        self.cdf = cdf\n",
    "        self.pdf = pdf\n",
    "        self.invcdf = invcdf\n",
    "        self.N = N  # Number of bins\n",
    "        probs_cutoffs = np.arange(N + 1) / N  # Includes 0 and 1\n",
    "        state_cutoffs = invcdf(probs_cutoffs)  # State cutoff values, each bin\n",
    "        # bin_probs = np.diff(probs_cutoffs)      # Total prob mass, each bin\n",
    "        bin_probs = np.zeros(N)\n",
    "\n",
    "        # Find the E[X|bin] values:\n",
    "        F = lambda x: x * self.pdf(x)\n",
    "        Ebins = []\n",
    "        for i, (x0, x1) in enumerate(zip(state_cutoffs[:-1], state_cutoffs[1:])):\n",
    "            bin_probs[i] = cdf(x1) - cdf(x0)  ## pdf between x0 and x1\n",
    "            cond_mean, err = quad(F, x0, x1)\n",
    "            Ebins.append(cond_mean / bin_probs[i])\n",
    "\n",
    "        self.X = np.array(Ebins)\n",
    "        self.pmf = bin_probs\n",
    "\n",
    "        self.precise_summation = precise_summation\n",
    "\n",
    "    def E(self, f=None):\n",
    "        \"\"\"\n",
    "        Find expectation of f(X) over the discrete space.\n",
    "        \"\"\"\n",
    "        if f is None:\n",
    "            if self.precise_summation:\n",
    "                return math.fsum(self.pmf * self.X)  # High precision\n",
    "            else:\n",
    "                return self.pmf.dot(self.X)  # ~100x faster\n",
    "        else:\n",
    "            if self.precise_summation:\n",
    "                return math.fsum(np.multiply(self.pmf, f(self.X)))  # High precision\n",
    "            else:\n",
    "                return self.pmf.dot(f(self.X))  # ~100x faster\n",
    "\n",
    "    def plot(self, x0, x1, gridsize=100):\n",
    "        \"\"\"\n",
    "        Plot the discrete approximation against the actual distribution.\n",
    "        \"\"\"\n",
    "        grid = np.linspace(x0, x1, gridsize)\n",
    "\n",
    "        plt.plot(self.X, self.cdf(self.X), \"ok\")\n",
    "        plt.plot(grid, self.cdf(grid), \"k-\")\n",
    "        plt.axis([x0, x1, 0, 1])\n",
    "        plt.hlines(\n",
    "            self.pmf.cumsum(), x0, x1, color=\"black\", linestyles=\"--\"\n",
    "        )  ## added by Tao to show equiprobable ranges\n",
    "        plt.title(\"Discrete Approximation to Lognormal Distribution\")\n",
    "        plt.xlabel(\"theta\")\n",
    "        plt.ylabel(\"CDF\")\n",
    "        plt.grid()\n",
    "        plt.show()"
   ]
  },
  {
   "cell_type": "markdown",
   "metadata": {},
   "source": [
    "## A Specific Discrete Approximation to the Mean-one lognormal:\n",
    "\n",
    "Now we use simple inheritance to create a mean-one lognormal instance quickly and easily."
   ]
  },
  {
   "cell_type": "code",
   "execution_count": 14,
   "metadata": {
    "code_folding": [
     0
    ]
   },
   "outputs": [],
   "source": [
    "class DiscreteApproximationToMeanOneLogNormal(DiscreteApproximation):\n",
    "    \"\"\"\n",
    "    Extension of the DiscreteApproximation class, which creates a mean-one\n",
    "    lognormal approximation, given standard deviation 'sigma' and number\n",
    "    of grid-points 'N'.\n",
    "    \"\"\"\n",
    "\n",
    "    def __init__(self, N, sigma, precise_summation=False):\n",
    "        \"\"\"\n",
    "        Given N and sigma, create a lognormal \"frozen\" distribution object,\n",
    "        and initilize an appropriate DiscreteApproximation.\n",
    "\n",
    "        N:      integer, number of grid points to interpolate over\n",
    "        sigma:  double, standard deviation of the lognormal distribution\n",
    "        \"\"\"\n",
    "\n",
    "        # Save the one bit of new information (N saved in super()):\n",
    "        self.sigma = sigma\n",
    "        self.mu = -0.5 * (self.sigma**2)\n",
    "\n",
    "        # Set up the \"frozen\" lognormal:\n",
    "        distrib = stats.lognorm(self.sigma, 0, np.exp(self.mu))\n",
    "\n",
    "        # Create the class:\n",
    "        super(DiscreteApproximationToMeanOneLogNormal, self).__init__(\n",
    "            N,\n",
    "            distrib.cdf,\n",
    "            distrib.pdf,\n",
    "            distrib.ppf,\n",
    "            precise_summation=precise_summation,\n",
    "        )\n",
    "\n",
    "        # Everything is done now."
   ]
  },
  {
   "cell_type": "code",
   "execution_count": 15,
   "metadata": {
    "code_folding": []
   },
   "outputs": [
    {
     "name": "stdout",
     "output_type": "stream",
     "text": [
      "LNDiscApprox.E():1.0\n",
      "Success: Unconditional expectation is correct!\n",
      "Success: Eg(X) = manually calculated values.\n",
      "All tests passed successfully.\n"
     ]
    },
    {
     "data": {
      "image/png": "[encoded data removed]",
      "text/plain": [
       "<Figure size 432x288 with 1 Axes>"
      ]
     },
     "metadata": {
      "needs_background": "light"
     },
     "output_type": "display_data"
    }
   ],
   "source": [
    "# Testing:\n",
    "if __name__ == \"__main__\":\n",
    "    import numpy as np\n",
    "    import pylab as plt\n",
    "    from scipy.integrate import quad\n",
    "    import scipy.stats as stats\n",
    "\n",
    "    # Create a 2-D discrete approximation instance:\n",
    "    sigma = sigma\n",
    "    N = N\n",
    "\n",
    "    LNDiscApprox = DiscreteApproximationToMeanOneLogNormal(N, sigma)\n",
    "\n",
    "    print(\"LNDiscApprox.E():\" + str(LNDiscApprox.E()))\n",
    "    # Check that \"raw expectation\" is correct:\n",
    "    assert (\n",
    "        np.max(np.abs(LNDiscApprox.E() - 1.0)) < 1e-16\n",
    "    ), \"Unconditional expectation is not correct!\"\n",
    "    print(\"Success: Unconditional expectation is correct!\")\n",
    "\n",
    "    # Check that the expectation applied to a misc function is correct:\n",
    "    # Manually, the 7-point approximation for each gridpoint should be:\n",
    "    manual_X = np.array(\n",
    "        [\n",
    "            0.85043016002691718125,\n",
    "            0.91862318529875575113,\n",
    "            0.95908470592906813756,\n",
    "            0.99506598629571241243,\n",
    "            1.03241349447674446438,\n",
    "            1.0779763032188010019,\n",
    "            1.16640616475400205054,\n",
    "        ]\n",
    "    )\n",
    "    manual_p = np.repeat(1.0 / N, N)\n",
    "\n",
    "    # Check for a random function:\n",
    "    g = lambda x1: x1**2 + 1.5\n",
    "\n",
    "    # Manually construct the expectation of g:\n",
    "    manual_EgX = 0.0\n",
    "    for x, p in zip(manual_X, manual_p):\n",
    "        manual_EgX += g(x) * p\n",
    "\n",
    "    # Now compare manual value against vectorized:\n",
    "    EgX = LNDiscApprox.E(g)\n",
    "\n",
    "    # print \"manual_EgXY:\", manual_EgXY\n",
    "    # print \"EgXY:\", EgXY\n",
    "\n",
    "    assert (\n",
    "        np.abs(manual_EgX - EgX) < 1e-12\n",
    "    ), \"Eg(X) not equal between the values that have expectations.\"\n",
    "    print(\"Success: Eg(X) = manually calculated values.\")\n",
    "    print(\"All tests passed successfully.\")\n",
    "\n",
    "    LNDiscApprox.plot(0.7, 1.4)\n",
    "\n",
    "    # Comparing to the 0630 Matlab definition:\n",
    "    matsig = np.array(\n",
    "        [\n",
    "            0.509520331925153,\n",
    "            0.667826497278589,\n",
    "            0.776380649071803,\n",
    "            0.879396570886877,\n",
    "            0.989752424342583,\n",
    "            1.121403448305962,\n",
    "            1.305157824866014,\n",
    "            1.750562243647017,\n",
    "        ]\n",
    "    )\n",
    "    matN = 8"
   ]
  },
  {
   "cell_type": "code",
   "execution_count": 16,
   "metadata": {},
   "outputs": [
    {
     "data": {
      "image/png": "[encoded data removed]",
      "text/plain": [
       "<Figure size 432x288 with 1 Axes>"
      ]
     },
     "metadata": {
      "needs_background": "light"
     },
     "output_type": "display_data"
    }
   ],
   "source": [
    "if __name__ == \"__main__\":\n",
    "    plt.plot(ln.X, LNDiscApprox.X, \"o\")\n",
    "    plt.plot(ln.X, ln.X)"
   ]
  },
  {
   "cell_type": "code",
   "execution_count": null,
   "metadata": {},
   "outputs": [],
   "source": []
  }
 ],
 "metadata": {
  "jupytext": {
   "formats": "ipynb,py:light"
  },
  "kernelspec": {
   "display_name": "Python 3 (ipykernel)",
   "language": "python",
   "name": "python3"
  },
  "language_info": {
   "codemirror_mode": {
    "name": "ipython",
    "version": 3
   },
   "file_extension": ".py",
   "mimetype": "text/x-python",
   "name": "python",
   "nbconvert_exporter": "python",
   "pygments_lexer": "ipython3",
   "version": "3.8.13"
  }
 },
 "nbformat": 4,
 "nbformat_minor": 1
}
