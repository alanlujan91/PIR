{
 "cells": [
  {
   "cell_type": "code",
   "execution_count": 39,
   "metadata": {
    "code_folding": []
   },
   "outputs": [],
   "source": [
    "import numpy as np\n",
    "import pickle\n",
    "import pandas as pd\n",
    "import matplotlib.pyplot as plt\n",
    "import numba as nb"
   ]
  },
  {
   "cell_type": "markdown",
   "metadata": {},
   "source": [
    "### Age profile of income "
   ]
  },
  {
   "cell_type": "code",
   "execution_count": 40,
   "metadata": {},
   "outputs": [
    {
     "name": "stdout",
     "output_type": "stream",
     "text": [
      "40 years since age 25\n"
     ]
    }
   ],
   "source": [
    "## import age income profile \n",
    "\n",
    "age_profile = pd.read_stata('../OtherData/age_profile.dta')   \n",
    "\n",
    "## select age range for the model and turn it into an array \n",
    "lc_wages = np.array(age_profile[(age_profile['age']>=25) &(age_profile['age']<=64)]['wage_age'])\n",
    "print(str(len(lc_wages)),'years since age 25')\n",
    "\n",
    "## growth rates since initial age over life cicle before retirement\n",
    "lc_G = lc_wages[1:]/lc_wages[:-1]\n",
    "lc_G = np.insert(lc_G,0,1.0) \n",
    "\n",
    "T = 40\n",
    "L = 60\n",
    "## growth rates after retirement\n",
    "\n",
    "lc_G_rt = np.ones(L-T)\n",
    "lc_G_rt[1] = 0.6\n",
    "\n",
    "T_q = T*4\n",
    "L_q = L*4"
   ]
  },
  {
   "cell_type": "code",
   "execution_count": 41,
   "metadata": {
    "code_folding": [
     2
    ]
   },
   "outputs": [],
   "source": [
    "## turn yearly number to quarterly number with interpolation \n",
    "\n",
    "def y2q_interpolate(xs_y):\n",
    "    \n",
    "    \"\"\"\n",
    "    this function turns an array of yealry rates into quarterly rates via linear interpolation \n",
    "    \"\"\"\n",
    "\n",
    "    n_y = len(xs_y)\n",
    "    y_id = np.arange(n_y)\n",
    "    q_id = y_id*4\n",
    "\n",
    "    n_q = 4*n_y\n",
    "    xs_q = np.empty(n_q)\n",
    "    \n",
    "    for i_y in range(n_y):\n",
    "        xs_q[4*i_y] = xs_y[i_y]\n",
    "        for i_q in np.arange(1,4):\n",
    "            q_id_this = 4*i_y+i_q\n",
    "            xs_q[q_id_this] = np.interp(q_id_this,q_id,xs_y)\n",
    "            \n",
    "    return xs_q\n",
    "\n",
    "\n",
    "## get the quarterly income profile over life cycle before retirement \n",
    "lc_G_q = y2q_interpolate(lc_G)\n",
    "\n",
    "lc_G_q_rt = y2q_interpolate(lc_G_rt)\n",
    "\n",
    "lc_G_q_full = np.concatenate([lc_G_q,lc_G_q_rt])"
   ]
  },
  {
   "cell_type": "markdown",
   "metadata": {},
   "source": [
    "### Income risk estimates "
   ]
  },
  {
   "cell_type": "code",
   "execution_count": 42,
   "metadata": {},
   "outputs": [],
   "source": [
    "risks_est = pd.read_stata('../OtherData/sipp/sipp_history_vol_decomposed.dta')\n",
    "## risks of permanent and transitory component \n",
    "\n",
    "σ_ψ_q_sipp = np.sqrt(risks_est['permanent']**2*3)\n",
    "σ_θ_q_sipp = np.sqrt(risks_est['permanent']**2/3)\n",
    "\n",
    "## p/t ratio \n",
    "kappas_sipp  = risks_est['permanent']/risks_est['transitory']\n",
    "kappa_sipp = np.median(kappas_sipp.dropna())"
   ]
  },
  {
   "cell_type": "code",
   "execution_count": 43,
   "metadata": {},
   "outputs": [],
   "source": [
    "## risks of permanent and transitory component \n",
    "\n",
    "σ_ψ_q_sipp = np.sqrt(risks_est['permanent']**2*3)\n",
    "σ_θ_q_sipp = np.sqrt(risks_est['permanent']**2/3)\n",
    "\n",
    "## p/t ratio \n",
    "kappas_sipp  = risks_est['permanent']/risks_est['transitory']\n",
    "kappa_sipp = np.median(kappas_sipp.dropna())"
   ]
  },
  {
   "cell_type": "markdown",
   "metadata": {},
   "source": [
    "### subjective profile estiamtion "
   ]
  },
  {
   "cell_type": "code",
   "execution_count": 44,
   "metadata": {},
   "outputs": [],
   "source": [
    "## import subjective profile estimation results \n",
    "SCE_est = pd.read_pickle('subjective_profile_est.pkl')\n",
    "SCE_est =SCE_est['baseline']"
   ]
  },
  {
   "cell_type": "code",
   "execution_count": 45,
   "metadata": {
    "code_folding": []
   },
   "outputs": [],
   "source": [
    "## create a dictionary of parameters \n",
    "life_cycle_paras = {'ρ': 1.0, \n",
    "                    'β': 0.98**(1/4), \n",
    "                    'P': np.array([[0.18, 0.82],\n",
    "                                   [0.04, 0.96]]), \n",
    "                    'z_val': np.array([0., 1.]), \n",
    "                    'σ_ψ': np.sqrt(0.15**2*4/11), \n",
    "                    'σ_θ': np.sqrt(0.1**2*4), \n",
    "                    'U': 0.0, \n",
    "                    'LivPrb': 1.0-0.00625, \n",
    "                    'σ_ψ_2mkv': np.array([0.01, 0.02]), \n",
    "                    'σ_θ_2mkv': np.array([0.02, 0.04]), \n",
    "                    'R': 1.01**(1/4), \n",
    "                    'W': 1.0, \n",
    "                    'T': T_q, \n",
    "                    'L': L_q, \n",
    "                    'G':lc_G_q_full, \n",
    "                    'unemp_insurance': 0.15, \n",
    "                    'pension': 1.0, \n",
    "                    'σ_ψ_init': 0.01, \n",
    "                    'init_b': 0.0, \n",
    "                    'λ': 0.0, \n",
    "                    'λ_SS': 0.0, \n",
    "                    'transfer': 0.0, \n",
    "                    'bequest_ratio': 0.0,\n",
    "                    'κ':kappa_sipp,\n",
    "                    \n",
    "                    ## subjective profile\n",
    "                    'q':SCE_est.loc['$q$'],\n",
    "                    'p':SCE_est.loc['$p$'],\n",
    "                    'σ_ψ_2mkv':np.array([SCE_est.loc['$\\tilde\\sigma^l_\\psi$'],\n",
    "                                       SCE_est.loc['$\\tilde\\sigma^h_\\psi$']]),\n",
    "                    'σ_θ_2mkv':np.array([SCE_est.loc['$\\tilde\\sigma^l_\\theta$'],\n",
    "                                       SCE_est.loc['$\\tilde\\sigma^h_\\theta$']]),\n",
    "                    'mho_2mkv':np.array([SCE_est.loc['$\\tilde \\mho^l$'],\n",
    "                                         SCE_est.loc['$\\tilde \\mho^h$']]),\n",
    "                    'E_2mkv':np.array([SCE_est.loc['$\\tilde E^l$'],\n",
    "                                      SCE_est.loc['$\\tilde E^h$']])\n",
    "                }"
   ]
  },
  {
   "cell_type": "code",
   "execution_count": 46,
   "metadata": {},
   "outputs": [
    {
     "data": {
      "text/plain": [
       "{'ρ': 1.0,\n",
       " 'β': 0.9949620563926881,\n",
       " 'P': array([[0.18, 0.82],\n",
       "        [0.04, 0.96]]),\n",
       " 'z_val': array([0., 1.]),\n",
       " 'σ_ψ': 0.09045340337332908,\n",
       " 'σ_θ': 0.2,\n",
       " 'U': 0.0,\n",
       " 'LivPrb': 0.99375,\n",
       " 'σ_ψ_2mkv': array([0.22455688, 0.468325  ]),\n",
       " 'σ_θ_2mkv': array([0.04352417, 0.09077191]),\n",
       " 'R': 1.0024906793143211,\n",
       " 'W': 1.0,\n",
       " 'T': 160,\n",
       " 'L': 240,\n",
       " 'G': array([1.        , 1.00621092, 1.01242185, 1.01863277, 1.02484369,\n",
       "        1.02443039, 1.0240171 , 1.0236038 , 1.0231905 , 1.02278841,\n",
       "        1.02238631, 1.02198422, 1.02158213, 1.02119136, 1.02080059,\n",
       "        1.02040982, 1.02001905, 1.01963976, 1.01926047, 1.01888117,\n",
       "        1.01850188, 1.01813418, 1.01776648, 1.01739877, 1.01703107,\n",
       "        1.01667506, 1.01631904, 1.01596302, 1.015607  , 1.01526287,\n",
       "        1.01491874, 1.01457462, 1.01423049, 1.0138984 , 1.01356632,\n",
       "        1.01323423, 1.01290214, 1.01258209, 1.01226205, 1.011942  ,\n",
       "        1.01162195, 1.01131424, 1.01100653, 1.01069883, 1.01039112,\n",
       "        1.01009578, 1.00980043, 1.00950509, 1.00920975, 1.00892699,\n",
       "        1.00864422, 1.00836146, 1.00807869, 1.00780857, 1.00753844,\n",
       "        1.00726831, 1.00699818, 1.00674093, 1.00648367, 1.00622642,\n",
       "        1.00596917, 1.00572485, 1.00548053, 1.00523621, 1.00499189,\n",
       "        1.00476068, 1.00452948, 1.00429827, 1.00406706, 1.00384912,\n",
       "        1.00363117, 1.00341323, 1.00319529, 1.00299069, 1.0027861 ,\n",
       "        1.00258151, 1.00237691, 1.00218591, 1.00199491, 1.0018039 ,\n",
       "        1.0016129 , 1.00143558, 1.00125825, 1.00108093, 1.00090361,\n",
       "        1.00074011, 1.00057662, 1.00041312, 1.00024962, 1.00010012,\n",
       "        0.99995062, 0.99980111, 0.99965161, 0.99951625, 0.99938089,\n",
       "        0.99924552, 0.99911016, 0.99898914, 0.99886811, 0.99874708,\n",
       "        0.99862605, 0.99851948, 0.99841291, 0.99830633, 0.99819976,\n",
       "        0.99810779, 0.99801582, 0.99792385, 0.99783188, 0.99775474,\n",
       "        0.99767759, 0.99760045, 0.99752331, 0.9974611 , 0.99739888,\n",
       "        0.99733667, 0.99727446, 0.99722734, 0.99718022, 0.99713311,\n",
       "        0.99708599, 0.99705417, 0.99702236, 0.99699055, 0.99695873,\n",
       "        0.99694239, 0.99692604, 0.99690969, 0.99689335, 0.99689262,\n",
       "        0.99689189, 0.99689116, 0.99689043, 0.99690555, 0.99692068,\n",
       "        0.9969358 , 0.99695092, 0.99698201, 0.99701309, 0.99704418,\n",
       "        0.99707526, 0.99712256, 0.99716985, 0.99721715, 0.99726444,\n",
       "        0.99732807, 0.9973917 , 0.99745533, 0.99751896, 0.9975992 ,\n",
       "        0.99767944, 0.99775968, 0.99783993, 0.99793686, 0.99803379,\n",
       "        0.99813072, 0.99822766, 0.99822766, 0.99822766, 0.99822766,\n",
       "        1.        , 0.9       , 0.8       , 0.7       , 0.6       ,\n",
       "        0.7       , 0.8       , 0.9       , 1.        , 1.        ,\n",
       "        1.        , 1.        , 1.        , 1.        , 1.        ,\n",
       "        1.        , 1.        , 1.        , 1.        , 1.        ,\n",
       "        1.        , 1.        , 1.        , 1.        , 1.        ,\n",
       "        1.        , 1.        , 1.        , 1.        , 1.        ,\n",
       "        1.        , 1.        , 1.        , 1.        , 1.        ,\n",
       "        1.        , 1.        , 1.        , 1.        , 1.        ,\n",
       "        1.        , 1.        , 1.        , 1.        , 1.        ,\n",
       "        1.        , 1.        , 1.        , 1.        , 1.        ,\n",
       "        1.        , 1.        , 1.        , 1.        , 1.        ,\n",
       "        1.        , 1.        , 1.        , 1.        , 1.        ,\n",
       "        1.        , 1.        , 1.        , 1.        , 1.        ,\n",
       "        1.        , 1.        , 1.        , 1.        , 1.        ,\n",
       "        1.        , 1.        , 1.        , 1.        , 1.        ,\n",
       "        1.        , 1.        , 1.        , 1.        , 1.        ]),\n",
       " 'unemp_insurance': 0.15,\n",
       " 'pension': 1.0,\n",
       " 'σ_ψ_init': 0.01,\n",
       " 'init_b': 0.0,\n",
       " 'λ': 0.0,\n",
       " 'λ_SS': 0.0,\n",
       " 'transfer': 0.0,\n",
       " 'bequest_ratio': 0.0,\n",
       " 'κ': 1.719786711116489,\n",
       " 'q': 0.28170847347106975,\n",
       " 'p': 0.28170847347106975,\n",
       " 'mho_2mkv': array([-0.11765583,         nan]),\n",
       " 'E_2mkv': array([0.17399329, 0.59994946])}"
      ]
     },
     "execution_count": 46,
     "metadata": {},
     "output_type": "execute_result"
    }
   ],
   "source": [
    "life_cycle_paras"
   ]
  },
  {
   "cell_type": "code",
   "execution_count": 47,
   "metadata": {},
   "outputs": [],
   "source": [
    "with open(\"parameters.txt\", \"wb\") as fp:\n",
    "    pickle.dump(life_cycle_paras, fp)"
   ]
  }
 ],
 "metadata": {
  "jupytext": {
   "encoding": "# -*- coding: utf-8 -*-",
   "formats": "ipynb,py:light"
  },
  "kernelspec": {
   "display_name": "Python 3 (ipykernel)",
   "language": "python",
   "name": "python3"
  },
  "language_info": {
   "codemirror_mode": {
    "name": "ipython",
    "version": 3
   },
   "file_extension": ".py",
   "mimetype": "text/x-python",
   "name": "python",
   "nbconvert_exporter": "python",
   "pygments_lexer": "ipython3",
   "version": "3.8.5"
  }
 },
 "nbformat": 4,
 "nbformat_minor": 4
}
