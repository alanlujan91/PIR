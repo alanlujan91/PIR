{
 "cells": [
  {
   "cell_type": "code",
   "execution_count": 17,
   "metadata": {
    "code_folding": []
   },
   "outputs": [],
   "source": [
    "import numpy as np\n",
    "import pickle\n",
    "import pandas as pd\n",
    "import matplotlib.pyplot as plt\n",
    "import numba as nb\n",
    "from copy import copy"
   ]
  },
  {
   "cell_type": "markdown",
   "metadata": {},
   "source": [
    "### Age profile of income "
   ]
  },
  {
   "cell_type": "code",
   "execution_count": 18,
   "metadata": {},
   "outputs": [],
   "source": [
    "## some life cycle paras \n",
    "T = 40\n",
    "L = 60\n",
    "\n",
    "T_q = T*4\n",
    "L_q = L*4"
   ]
  },
  {
   "cell_type": "code",
   "execution_count": 19,
   "metadata": {
    "code_folding": [
     0
    ]
   },
   "outputs": [],
   "source": [
    "def y2q_interpolate(xs_y):\n",
    "    \n",
    "    \"\"\"\n",
    "    this function turns an array of yealry rates into quarterly rates via linear interpolation \n",
    "    \"\"\"\n",
    "\n",
    "    n_y = len(xs_y)\n",
    "    y_id = np.arange(n_y)\n",
    "    q_id = y_id*4\n",
    "\n",
    "    n_q = 4*n_y\n",
    "    xs_q = np.empty(n_q)\n",
    "    \n",
    "    for i_y in range(n_y):\n",
    "        xs_q[4*i_y] = xs_y[i_y]\n",
    "        for i_q in np.arange(1,4):\n",
    "            q_id_this = 4*i_y+i_q\n",
    "            xs_q[q_id_this] = np.interp(q_id_this,q_id,xs_y)\n",
    "            \n",
    "    return xs_q"
   ]
  },
  {
   "cell_type": "code",
   "execution_count": 20,
   "metadata": {
    "code_folding": []
   },
   "outputs": [],
   "source": [
    "age_profile_data ='SCF'\n",
    "\n",
    "if age_profile_data=='SIPP':\n",
    "    ## import age income profile \n",
    "\n",
    "    age_profile = pd.read_stata('../OtherData/age_profile.dta')   \n",
    "\n",
    "    ## select age range for the model and turn it into an array \n",
    "    lc_wages = np.array(age_profile[(age_profile['age']>=24) &(age_profile['age']<=64)]['wage_age'])\n",
    "    #print(str(len(lc_wages)),'years since age 25')\n",
    "\n",
    "    ## growth rates since initial age over life cicle before retirement\n",
    "    lc_G = lc_wages[1:]/lc_wages[:-1]\n",
    "\n",
    "    T = 40\n",
    "    L = 60\n",
    "    ## growth rates after retirement\n",
    "\n",
    "    lc_G_rt = np.ones(L-T)\n",
    "    lc_G_rt[0] = 0.6\n",
    "\n",
    "\n",
    "    lc_G_full = np.concatenate([lc_G,lc_G_rt])\n",
    "    #lc_G_full = np.ones_like(lc_G_full)\n",
    "\n",
    "    \n",
    "    ## turn yearly number to quarterly number with interpolation \n",
    "\n",
    "    ## get the quarterly income profile over life cycle before retirement \n",
    "    lc_G_q = y2q_interpolate(lc_G)\n",
    "\n",
    "    lc_G_q_rt = y2q_interpolate(lc_G_rt)\n",
    "\n",
    "    lc_G_q_full = np.concatenate([lc_G_q,lc_G_q_rt])\n",
    "    \n",
    "    \n",
    "elif age_profile_data=='SCF':\n",
    "    ## import age income profile \n",
    "    SCF_profile = pd.read_pickle('data/SCF_age_profile.pkl')\n",
    "    SCF_profile = SCF_profile[(SCF_profile.index>=24) & (SCF_profile.index<=85)]\n",
    "    lc_p_incom = np.exp(np.array(SCF_profile['av_lnorminc']))\n",
    "    lc_G_full = lc_p_incom[1:]/lc_p_incom[:-1] \n",
    "    assert len(lc_G_full) == L,'length of G needs to be equal to L'\n",
    "    lc_G_q_full = y2q_interpolate(lc_G_full)\n"
   ]
  },
  {
   "cell_type": "markdown",
   "metadata": {},
   "source": [
    "### Income risk estimates "
   ]
  },
  {
   "cell_type": "code",
   "execution_count": 21,
   "metadata": {},
   "outputs": [],
   "source": [
    "risks_est = pd.read_stata('../OtherData/sipp/sipp_history_vol_decomposed.dta')\n",
    "## risks of permanent and transitory component \n",
    "\n",
    "σ_ψ_q_sipp = np.sqrt(risks_est['permanent']**2*3)\n",
    "σ_θ_q_sipp = np.sqrt(risks_est['permanent']**2/3)\n",
    "\n",
    "## p/t ratio \n",
    "kappas_sipp  = risks_est['permanent']/risks_est['transitory']\n",
    "kappa_sipp = np.median(kappas_sipp.dropna())"
   ]
  },
  {
   "cell_type": "code",
   "execution_count": 22,
   "metadata": {},
   "outputs": [],
   "source": [
    "## risks of permanent and transitory component \n",
    "\n",
    "σ_ψ_q_sipp = np.sqrt(risks_est['permanent']**2*3)\n",
    "σ_θ_q_sipp = np.sqrt(risks_est['permanent']**2/3)\n",
    "\n",
    "## p/t ratio \n",
    "kappas_sipp  = risks_est['permanent']/risks_est['transitory']\n",
    "kappa_sipp = np.median(kappas_sipp.dropna())"
   ]
  },
  {
   "cell_type": "markdown",
   "metadata": {},
   "source": [
    "### Initial conditions"
   ]
  },
  {
   "cell_type": "code",
   "execution_count": 23,
   "metadata": {},
   "outputs": [],
   "source": [
    "from statsmodels.stats.weightstats import DescrStatsW\n",
    "\n",
    "## SCF data \n",
    "SCF2016 = pd.read_stata('rscfp2016.dta')\n",
    "SCF2016 = SCF2016[SCF2016['age']==25]\n",
    "SCF2016 = SCF2016.drop_duplicates(subset=['yy1'])\n",
    "SCF2016 = SCF2016[['norminc','networth','wgt']]\n",
    "SCF2016 = SCF2016[SCF2016['norminc']>0]\n",
    "\n",
    "## permanent income at age 25 \n",
    "pinc_SCF = SCF2016[['norminc','wgt']]\n",
    "lpinc_SCF_pos, lpinc_SCF_wgt = np.log(pinc_SCF['norminc']),np.array(pinc_SCF['wgt'])\n",
    "\n",
    "## wealth \n",
    "b_SCF = SCF2016[['networth','wgt']]\n",
    "lb_SCF_pos, lb_SCF_wgt = b_SCF['networth'],np.array(b_SCF['wgt'])\n",
    "\n",
    "## wealth to permanent income\n",
    "SCF2016['networth2pinc'] = SCF2016['networth']/SCF2016['norminc']\n",
    "b_SCF, b_wgt = SCF2016['networth2pinc'], SCF2016['wgt']\n",
    "\n",
    "## compute data moments \n",
    "σ_ψ_init_SCF = DescrStatsW(lpinc_SCF_pos, weights=lpinc_SCF_wgt, ddof=1).std\n",
    "σ_b_init_SCF = DescrStatsW(lb_SCF_pos, weights=lb_SCF_wgt, ddof=1).std\n",
    "b_SCF = DescrStatsW(b_SCF,weights=b_wgt, ddof=1).mean ## annual \n",
    "b_q_SCF = b_SCF*4  ## quarterly  "
   ]
  },
  {
   "cell_type": "markdown",
   "metadata": {},
   "source": [
    "### subjective profile estiamtion "
   ]
  },
  {
   "cell_type": "code",
   "execution_count": 24,
   "metadata": {},
   "outputs": [],
   "source": [
    "## import subjective profile estimation results \n",
    "SCE_est_q = pd.read_pickle('data/subjective_profile_est_q.pkl')\n",
    "SCE_est_y = pd.read_pickle('data/subjective_profile_est_y.pkl')\n",
    "SCE_est_q = SCE_est_q['baseline']\n",
    "SCE_est_y = SCE_est_y['baseline']"
   ]
  },
  {
   "cell_type": "code",
   "execution_count": 25,
   "metadata": {
    "code_folding": []
   },
   "outputs": [],
   "source": [
    "## create a dictionary of parameters \n",
    "life_cycle_paras_q = {'ρ': 2.0, \n",
    "                    'β': 0.98**(1/4), \n",
    "                    'P': np.array([[0.18, 0.82],\n",
    "                                   [0.04, 0.96]]), \n",
    "                    'z_val': np.array([0., 1.]), \n",
    "                    'σ_ψ': np.sqrt(0.15**2*4/11), \n",
    "                    'σ_θ': np.sqrt(0.1**2*4), \n",
    "                    'U': 0.0, \n",
    "                    'LivPrb': 1.0-0.00625, \n",
    "                    'R': 1.01**(1/4), \n",
    "                    'W': 1.0, \n",
    "                    'T': T_q, \n",
    "                    'L': L_q, \n",
    "                    'G':lc_G_q_full, \n",
    "                    'unemp_insurance': 0.15, \n",
    "                    'pension': 1.0, \n",
    "                    'σ_ψ_init': σ_ψ_init_SCF, \n",
    "                    'init_b': b_q_SCF, \n",
    "                    'λ': 0.0, \n",
    "                    'λ_SS': 0.0, \n",
    "                    'transfer': 0.0, \n",
    "                    'bequest_ratio': 0.0,\n",
    "                    'κ':kappa_sipp,\n",
    "                    \n",
    "                    ## subjective profile\n",
    "                    'q':SCE_est_q.loc['$q$'],\n",
    "                    'p':SCE_est_q.loc['$p$'],\n",
    "                    'σ_ψ_2mkv':np.array([SCE_est_q.loc['$\\tilde\\sigma^l_\\psi$'],\n",
    "                                       SCE_est_q.loc['$\\tilde\\sigma^h_\\psi$']]),\n",
    "                    'σ_θ_2mkv':np.array([SCE_est_q.loc['$\\tilde\\sigma^l_\\theta$'],\n",
    "                                       SCE_est_q.loc['$\\tilde\\sigma^h_\\theta$']]),\n",
    "                    'mho_2mkv':np.array([SCE_est_q.loc['$\\tilde \\mho^l$'],\n",
    "                                         SCE_est_q.loc['$\\tilde \\mho^h$']]),\n",
    "                    'E_2mkv':np.array([SCE_est_q.loc['$\\tilde E^l$'],\n",
    "                                      SCE_est_q.loc['$\\tilde E^h$']])\n",
    "                }"
   ]
  },
  {
   "cell_type": "code",
   "execution_count": 26,
   "metadata": {},
   "outputs": [
    {
     "data": {
      "text/plain": [
       "{'ρ': 2.0,\n",
       " 'β': 0.9949620563926881,\n",
       " 'P': array([[0.18, 0.82],\n",
       "        [0.04, 0.96]]),\n",
       " 'z_val': array([0., 1.]),\n",
       " 'σ_ψ': 0.09045340337332908,\n",
       " 'σ_θ': 0.2,\n",
       " 'U': 0.0,\n",
       " 'LivPrb': 0.99375,\n",
       " 'R': 1.0024906793143211,\n",
       " 'W': 1.0,\n",
       " 'T': 160,\n",
       " 'L': 240,\n",
       " 'G': array([1.10455031, 1.14177438, 1.17899846, 1.21622253, 1.2534466 ,\n",
       "        1.2391538 , 1.22486101, 1.21056821, 1.19627542, 1.11529279,\n",
       "        1.03431016, 0.95332754, 0.87234491, 0.94050292, 1.00866093,\n",
       "        1.07681894, 1.14497695, 1.09103184, 1.03708673, 0.98314161,\n",
       "        0.9291965 , 0.96467321, 1.00014991, 1.03562661, 1.07110332,\n",
       "        1.05767311, 1.0442429 , 1.0308127 , 1.01738249, 1.00710306,\n",
       "        0.99682364, 0.98654421, 0.97626478, 1.01450601, 1.05274724,\n",
       "        1.09098846, 1.12922969, 1.09677595, 1.06432222, 1.03186848,\n",
       "        0.99941475, 0.99293505, 0.98645536, 0.97997567, 0.97349597,\n",
       "        1.0024493 , 1.03140263, 1.06035597, 1.0893093 , 1.06286696,\n",
       "        1.03642461, 1.00998227, 0.98353993, 1.02488656, 1.06623319,\n",
       "        1.10757982, 1.14892645, 1.10646099, 1.06399553, 1.02153007,\n",
       "        0.97906461, 0.96186336, 0.94466211, 0.92746086, 0.91025961,\n",
       "        0.94459578, 0.97893195, 1.01326812, 1.04760429, 1.07957438,\n",
       "        1.11154448, 1.14351457, 1.17548467, 1.09490866, 1.01433265,\n",
       "        0.93375664, 0.85318063, 0.93432764, 1.01547465, 1.09662167,\n",
       "        1.17776868, 1.10955514, 1.0413416 , 0.97312806, 0.90491453,\n",
       "        0.95330644, 1.00169836, 1.05009027, 1.09848218, 1.06656758,\n",
       "        1.03465298, 1.00273838, 0.97082377, 0.94700345, 0.92318313,\n",
       "        0.89936281, 0.87554249, 0.91258503, 0.94962756, 0.98667009,\n",
       "        1.02371263, 0.99671637, 0.96972011, 0.94272385, 0.91572759,\n",
       "        0.96647166, 1.01721573, 1.0679598 , 1.11870388, 1.06568292,\n",
       "        1.01266197, 0.95964101, 0.90662006, 0.90345435, 0.90028865,\n",
       "        0.89712295, 0.89395724, 0.92430542, 0.9546536 , 0.98500178,\n",
       "        1.01534996, 1.06680977, 1.11826958, 1.1697294 , 1.22118921,\n",
       "        1.10554226, 0.98989531, 0.87424836, 0.75860141, 0.92465805,\n",
       "        1.09071469, 1.25677134, 1.42282798, 1.27343625, 1.12404452,\n",
       "        0.97465279, 0.82526106, 0.91744518, 1.00962929, 1.1018134 ,\n",
       "        1.19399751, 1.10110709, 1.00821667, 0.91532625, 0.82243583,\n",
       "        0.86305884, 0.90368186, 0.94430487, 0.98492788, 0.97809788,\n",
       "        0.97126788, 0.96443787, 0.95760787, 0.92204824, 0.8864886 ,\n",
       "        0.85092896, 0.81536932, 0.94122934, 1.06708935, 1.19294937,\n",
       "        1.31880938, 1.1855556 , 1.05230182, 0.91904804, 0.78579426,\n",
       "        0.83372438, 0.88165449, 0.92958461, 0.97751472, 1.09208032,\n",
       "        1.20664591, 1.32121151, 1.4357771 , 1.25639777, 1.07701844,\n",
       "        0.89763911, 0.71825979, 0.7739829 , 0.82970602, 0.88542913,\n",
       "        0.94115225, 1.00333475, 1.06551726, 1.12769977, 1.18988227,\n",
       "        1.12372811, 1.05757394, 0.99141978, 0.92526562, 0.92364518,\n",
       "        0.92202474, 0.9204043 , 0.91878387, 0.94079305, 0.96280223,\n",
       "        0.98481141, 1.00682059, 1.00876337, 1.01070616, 1.01264894,\n",
       "        1.01459173, 0.97898469, 0.94337765, 0.90777062, 0.87216358,\n",
       "        0.92649418, 0.98082478, 1.03515538, 1.08948598, 1.07654722,\n",
       "        1.06360846, 1.05066971, 1.03773095, 1.10875274, 1.17977454,\n",
       "        1.25079634, 1.32181813, 1.1736822 , 1.02554627, 0.87741033,\n",
       "        0.7292744 , 0.81929372, 0.90931304, 0.99933236, 1.08935167,\n",
       "        1.00490394, 0.92045621, 0.83600848, 0.75156075, 0.84130177,\n",
       "        0.9310428 , 1.02078383, 1.11052486, 1.11567027, 1.12081568,\n",
       "        1.12596109, 1.1311065 , 1.1311065 , 1.1311065 , 1.1311065 ]),\n",
       " 'unemp_insurance': 0.15,\n",
       " 'pension': 1.0,\n",
       " 'σ_ψ_init': 0.6285209184601319,\n",
       " 'init_b': 2.216262951785519,\n",
       " 'λ': 0.0,\n",
       " 'λ_SS': 0.0,\n",
       " 'transfer': 0.0,\n",
       " 'bequest_ratio': 0.0,\n",
       " 'κ': 1.719786711116489,\n",
       " 'q': 0.8453517596002347,\n",
       " 'p': 0.8453517596002347,\n",
       " 'σ_ψ_2mkv': array([0.40239936, 0.49789844]),\n",
       " 'σ_θ_2mkv': array([0.07799404, 0.09650391]),\n",
       " 'mho_2mkv': array([0.00920499, 0.41293405]),\n",
       " 'E_2mkv': array([0.02467274, 0.35382534])}"
      ]
     },
     "execution_count": 26,
     "metadata": {},
     "output_type": "execute_result"
    }
   ],
   "source": [
    "life_cycle_paras_q"
   ]
  },
  {
   "cell_type": "code",
   "execution_count": 27,
   "metadata": {},
   "outputs": [],
   "source": [
    "## create a dictionary of parameters \n",
    "life_cycle_paras_y = {'ρ': 2.0, \n",
    "                    'β': 0.98, \n",
    "                    'P': np.array([[0.18, 0.82],\n",
    "                                   [0.04, 0.96]]), \n",
    "                    'z_val': np.array([0., 1.]), \n",
    "                    'σ_ψ': np.sqrt(0.15**2), \n",
    "                    'σ_θ': np.sqrt(0.1**2), \n",
    "                    'U': 0.0, \n",
    "                    'LivPrb': 1.0-0.00625, \n",
    "                    'R': 1.01, \n",
    "                    'W': 1.0, \n",
    "                    'T': T, \n",
    "                    'L': L, \n",
    "                    'G':lc_G_full, \n",
    "                    'unemp_insurance': 0.15, \n",
    "                    'pension': 1.0, \n",
    "                    'σ_ψ_init': σ_ψ_init_SCF, \n",
    "                    'init_b': b_SCF, \n",
    "                    'λ': 0.0, \n",
    "                    'λ_SS': 0.0, \n",
    "                    'transfer': 0.0, \n",
    "                    'bequest_ratio': 0.0,\n",
    "                    'κ':kappa_sipp,\n",
    "                    \n",
    "                    ## subjective profile\n",
    "                    'q':SCE_est_y.loc['$q$'],\n",
    "                    'p':SCE_est_y.loc['$p$'],\n",
    "                    'σ_ψ_2mkv':np.array([SCE_est_y.loc['$\\tilde\\sigma^l_\\psi$'],\n",
    "                                       SCE_est_y.loc['$\\tilde\\sigma^h_\\psi$']]),\n",
    "                    'σ_θ_2mkv':np.array([SCE_est_y.loc['$\\tilde\\sigma^l_\\theta$'],\n",
    "                                       SCE_est_y.loc['$\\tilde\\sigma^h_\\theta$']]),\n",
    "                    'mho_2mkv':np.array([SCE_est_y.loc['$\\tilde \\mho^l$'],\n",
    "                                         SCE_est_y.loc['$\\tilde \\mho^h$']]),\n",
    "                    'E_2mkv':np.array([SCE_est_y.loc['$\\tilde E^l$'],\n",
    "                                      SCE_est_y.loc['$\\tilde E^h$']])\n",
    "                }"
   ]
  },
  {
   "cell_type": "code",
   "execution_count": 28,
   "metadata": {},
   "outputs": [
    {
     "data": {
      "text/plain": [
       "{'ρ': 2.0,\n",
       " 'β': 0.98,\n",
       " 'P': array([[0.18, 0.82],\n",
       "        [0.04, 0.96]]),\n",
       " 'z_val': array([0., 1.]),\n",
       " 'σ_ψ': 0.15,\n",
       " 'σ_θ': 0.1,\n",
       " 'U': 0.0,\n",
       " 'LivPrb': 0.99375,\n",
       " 'R': 1.01,\n",
       " 'W': 1.0,\n",
       " 'T': 40,\n",
       " 'L': 60,\n",
       " 'G': array([1.10455031, 1.2534466 , 1.19627542, 0.87234491, 1.14497695,\n",
       "        0.9291965 , 1.07110332, 1.01738249, 0.97626478, 1.12922969,\n",
       "        0.99941475, 0.97349597, 1.0893093 , 0.98353993, 1.14892645,\n",
       "        0.97906461, 0.91025961, 1.04760429, 1.17548467, 0.85318063,\n",
       "        1.17776868, 0.90491453, 1.09848218, 0.97082377, 0.87554249,\n",
       "        1.02371263, 0.91572759, 1.11870388, 0.90662006, 0.89395724,\n",
       "        1.01534996, 1.22118921, 0.75860141, 1.42282798, 0.82526106,\n",
       "        1.19399751, 0.82243583, 0.98492788, 0.95760787, 0.81536932,\n",
       "        1.31880938, 0.78579426, 0.97751472, 1.4357771 , 0.71825979,\n",
       "        0.94115225, 1.18988227, 0.92526562, 0.91878387, 1.00682059,\n",
       "        1.01459173, 0.87216358, 1.08948598, 1.03773095, 1.32181813,\n",
       "        0.7292744 , 1.08935167, 0.75156075, 1.11052486, 1.1311065 ]),\n",
       " 'unemp_insurance': 0.15,\n",
       " 'pension': 1.0,\n",
       " 'σ_ψ_init': 0.6285209184601319,\n",
       " 'init_b': 0.5540657379463797,\n",
       " 'λ': 0.0,\n",
       " 'λ_SS': 0.0,\n",
       " 'transfer': 0.0,\n",
       " 'bequest_ratio': 0.0,\n",
       " 'κ': 1.719786711116489,\n",
       " 'q': 0.8453517596002347,\n",
       " 'p': 0.8453517596002347,\n",
       " 'σ_ψ_2mkv': array([0.80479871, 0.99579687]),\n",
       " 'σ_θ_2mkv': array([0.01949851, 0.02412598]),\n",
       " 'mho_2mkv': array([0.02736155, 0.79766982]),\n",
       " 'E_2mkv': array([0.072207  , 0.73019514])}"
      ]
     },
     "execution_count": 28,
     "metadata": {},
     "output_type": "execute_result"
    }
   ],
   "source": [
    "life_cycle_paras_y"
   ]
  },
  {
   "cell_type": "code",
   "execution_count": 29,
   "metadata": {
    "lines_to_next_cell": 0
   },
   "outputs": [],
   "source": [
    "#with open(\"parameters.txt\", \"wb\") as fp:\n",
    "#    pickle.dump(life_cycle_paras, fp)"
   ]
  },
  {
   "cell_type": "markdown",
   "metadata": {
    "lines_to_next_cell": 2
   },
   "source": [
    "### Export the parameters into a table used in the draft"
   ]
  },
  {
   "cell_type": "code",
   "execution_count": 84,
   "metadata": {},
   "outputs": [],
   "source": [
    "life_cycle_paras_y_copy = copy(life_cycle_paras_y)"
   ]
  },
  {
   "cell_type": "code",
   "execution_count": 85,
   "metadata": {},
   "outputs": [],
   "source": [
    "del life_cycle_paras_y_copy['G']  \n",
    "del life_cycle_paras_y_copy['σ_ψ_2mkv']  \n",
    "del life_cycle_paras_y_copy['σ_θ_2mkv']  \n",
    "del life_cycle_paras_y_copy['mho_2mkv']  \n",
    "del life_cycle_paras_y_copy['E_2mkv']  \n",
    "del life_cycle_paras_y_copy['P']  \n",
    "del life_cycle_paras_y_copy['z_val']  \n",
    "del life_cycle_paras_y_copy['U']  \n",
    "del life_cycle_paras_y_copy['κ']  \n",
    "del life_cycle_paras_y_copy['q']  \n",
    "del life_cycle_paras_y_copy['p']  \n",
    "\n",
    "\n",
    "## rewrite some parameters' names\n",
    "\n",
    "life_cycle_paras_y_copy['U2U'] = life_cycle_paras_y['P'][0,0]\n",
    "life_cycle_paras_y_copy['E2E'] = life_cycle_paras_y['P'][1,1]\n",
    "\n",
    "## rename some \n",
    "life_cycle_paras_y_copy['1-D'] =  life_cycle_paras_y_copy.pop('LivPrb')\n",
    "life_cycle_paras_y_copy['μ'] =  life_cycle_paras_y_copy.pop('unemp_insurance')\n",
    "\n",
    "\n",
    "## rounding \n",
    "life_cycle_paras_y_copy['1-D'] = round(life_cycle_paras_y_copy['1-D'],3)\n",
    "life_cycle_paras_y_copy['σ_ψ_init'] = round(life_cycle_paras_y_copy['σ_ψ_init'],3)\n",
    "life_cycle_paras_y_copy['init_b'] = round(life_cycle_paras_y_copy['init_b'],3)"
   ]
  },
  {
   "cell_type": "code",
   "execution_count": 77,
   "metadata": {},
   "outputs": [],
   "source": [
    "## turn scalor to list \n",
    "\n",
    "#for key in life_cycle_paras_y_copy.keys():\n",
    "#    life_cycle_paras_y_copy[key] = [life_cycle_paras_y_copy[key]]"
   ]
  },
  {
   "cell_type": "code",
   "execution_count": 86,
   "metadata": {},
   "outputs": [
    {
     "data": {
      "text/plain": [
       "{'ρ': 2.0,\n",
       " 'β': 0.98,\n",
       " 'σ_ψ': 0.15,\n",
       " 'σ_θ': 0.1,\n",
       " 'R': 1.01,\n",
       " 'W': 1.0,\n",
       " 'T': 40,\n",
       " 'L': 60,\n",
       " 'pension': 1.0,\n",
       " 'σ_ψ_init': 0.629,\n",
       " 'init_b': 0.554,\n",
       " 'λ': 0.0,\n",
       " 'λ_SS': 0.0,\n",
       " 'transfer': 0.0,\n",
       " 'bequest_ratio': 0.0,\n",
       " 'U2U': 0.18,\n",
       " 'E2E': 0.96,\n",
       " '1-D': 0.994,\n",
       " 'μ': 0.15}"
      ]
     },
     "execution_count": 86,
     "metadata": {},
     "output_type": "execute_result"
    }
   ],
   "source": [
    "life_cycle_paras_y_copy"
   ]
  },
  {
   "cell_type": "code",
   "execution_count": 94,
   "metadata": {},
   "outputs": [],
   "source": [
    "# making blocks \n",
    "\n",
    "blocknames =['risk',\n",
    "            'initial condition',\n",
    "            'life-cycle',\n",
    "            'preference',\n",
    "            'policy',\n",
    "            'production']\n",
    "\n",
    "prefernece = ['ρ','β']\n",
    "lifecycle = ['T','L','1-D']\n",
    "risk  = ['σ_ψ','σ_θ','U2U','E2E']\n",
    "initial = ['σ_ψ_init','init_b','bequest_ratio']\n",
    "policy = ['μ','λ','λ_SS','transfer']\n",
    "\n",
    "block_all= [risk,\n",
    "            initial,\n",
    "            lifecycle,\n",
    "            prefernece,\n",
    "            policy]\n",
    "\n",
    "## create multiple layer dictionary \n",
    "\n",
    "life_cycle_paras_y_copy_ml = {}\n",
    "\n",
    "for i,block in enumerate(block_all):\n",
    "    life_cycle_paras_y_copy_ml[blocknames[i]] =  {k: v for k, v \n",
    "                                               in life_cycle_paras_y_copy.items() \n",
    "                                               if k in block}"
   ]
  },
  {
   "cell_type": "code",
   "execution_count": 95,
   "metadata": {},
   "outputs": [
    {
     "data": {
      "text/plain": [
       "{'risk': {'σ_ψ': 0.15, 'σ_θ': 0.1, 'U2U': 0.18, 'E2E': 0.96},\n",
       " 'initial condition': {'σ_ψ_init': 0.629,\n",
       "  'init_b': 0.554,\n",
       "  'bequest_ratio': 0.0},\n",
       " 'life-cycle': {'T': 40, 'L': 60, '1-D': 0.994},\n",
       " 'preference': {'ρ': 2.0, 'β': 0.98},\n",
       " 'policy': {'λ': 0.0, 'λ_SS': 0.0, 'transfer': 0.0, 'μ': 0.15}}"
      ]
     },
     "execution_count": 95,
     "metadata": {},
     "output_type": "execute_result"
    }
   ],
   "source": [
    "life_cycle_paras_y_copy_ml"
   ]
  },
  {
   "cell_type": "code",
   "execution_count": 99,
   "metadata": {},
   "outputs": [],
   "source": [
    "life_cycle_paras_y_copy_df = pd.DataFrame.from_dict({(i,j): life_cycle_paras_y_copy_ml[i][j] \n",
    "                           for i in life_cycle_paras_y_copy_ml.keys() \n",
    "                           for j in life_cycle_paras_y_copy_ml[i].keys()},\n",
    "                       orient='index')"
   ]
  },
  {
   "cell_type": "code",
   "execution_count": 103,
   "metadata": {},
   "outputs": [],
   "source": [
    "## add another column \n",
    "\n",
    "life_cycle_paras_y_copy_df.columns =['values']"
   ]
  },
  {
   "cell_type": "code",
   "execution_count": 104,
   "metadata": {},
   "outputs": [
    {
     "data": {
      "text/html": [
       "<div>\n",
       "<style scoped>\n",
       "    .dataframe tbody tr th:only-of-type {\n",
       "        vertical-align: middle;\n",
       "    }\n",
       "\n",
       "    .dataframe tbody tr th {\n",
       "        vertical-align: top;\n",
       "    }\n",
       "\n",
       "    .dataframe thead th {\n",
       "        text-align: right;\n",
       "    }\n",
       "</style>\n",
       "<table border=\"1\" class=\"dataframe\">\n",
       "  <thead>\n",
       "    <tr style=\"text-align: right;\">\n",
       "      <th></th>\n",
       "      <th>values</th>\n",
       "    </tr>\n",
       "  </thead>\n",
       "  <tbody>\n",
       "    <tr>\n",
       "      <th>(risk, σ_ψ)</th>\n",
       "      <td>0.150</td>\n",
       "    </tr>\n",
       "    <tr>\n",
       "      <th>(risk, σ_θ)</th>\n",
       "      <td>0.100</td>\n",
       "    </tr>\n",
       "    <tr>\n",
       "      <th>(risk, U2U)</th>\n",
       "      <td>0.180</td>\n",
       "    </tr>\n",
       "    <tr>\n",
       "      <th>(risk, E2E)</th>\n",
       "      <td>0.960</td>\n",
       "    </tr>\n",
       "    <tr>\n",
       "      <th>(initial condition, σ_ψ_init)</th>\n",
       "      <td>0.629</td>\n",
       "    </tr>\n",
       "    <tr>\n",
       "      <th>(initial condition, init_b)</th>\n",
       "      <td>0.554</td>\n",
       "    </tr>\n",
       "    <tr>\n",
       "      <th>(initial condition, bequest_ratio)</th>\n",
       "      <td>0.000</td>\n",
       "    </tr>\n",
       "    <tr>\n",
       "      <th>(life-cycle, T)</th>\n",
       "      <td>40.000</td>\n",
       "    </tr>\n",
       "    <tr>\n",
       "      <th>(life-cycle, L)</th>\n",
       "      <td>60.000</td>\n",
       "    </tr>\n",
       "    <tr>\n",
       "      <th>(life-cycle, 1-D)</th>\n",
       "      <td>0.994</td>\n",
       "    </tr>\n",
       "    <tr>\n",
       "      <th>(preference, ρ)</th>\n",
       "      <td>2.000</td>\n",
       "    </tr>\n",
       "    <tr>\n",
       "      <th>(preference, β)</th>\n",
       "      <td>0.980</td>\n",
       "    </tr>\n",
       "    <tr>\n",
       "      <th>(policy, λ)</th>\n",
       "      <td>0.000</td>\n",
       "    </tr>\n",
       "    <tr>\n",
       "      <th>(policy, λ_SS)</th>\n",
       "      <td>0.000</td>\n",
       "    </tr>\n",
       "    <tr>\n",
       "      <th>(policy, transfer)</th>\n",
       "      <td>0.000</td>\n",
       "    </tr>\n",
       "    <tr>\n",
       "      <th>(policy, μ)</th>\n",
       "      <td>0.150</td>\n",
       "    </tr>\n",
       "  </tbody>\n",
       "</table>\n",
       "</div>"
      ],
      "text/plain": [
       "                                    values\n",
       "(risk, σ_ψ)                          0.150\n",
       "(risk, σ_θ)                          0.100\n",
       "(risk, U2U)                          0.180\n",
       "(risk, E2E)                          0.960\n",
       "(initial condition, σ_ψ_init)        0.629\n",
       "(initial condition, init_b)          0.554\n",
       "(initial condition, bequest_ratio)   0.000\n",
       "(life-cycle, T)                     40.000\n",
       "(life-cycle, L)                     60.000\n",
       "(life-cycle, 1-D)                    0.994\n",
       "(preference, ρ)                      2.000\n",
       "(preference, β)                      0.980\n",
       "(policy, λ)                          0.000\n",
       "(policy, λ_SS)                       0.000\n",
       "(policy, transfer)                   0.000\n",
       "(policy, μ)                          0.150"
      ]
     },
     "execution_count": 104,
     "metadata": {},
     "output_type": "execute_result"
    }
   ],
   "source": [
    "life_cycle_paras_y_copy_df"
   ]
  },
  {
   "cell_type": "code",
   "execution_count": 105,
   "metadata": {},
   "outputs": [],
   "source": [
    "life_cycle_paras_y_copy_df.to_excel('../Tables/calibration.xlsx')"
   ]
  },
  {
   "cell_type": "code",
   "execution_count": null,
   "metadata": {},
   "outputs": [],
   "source": []
  }
 ],
 "metadata": {
  "jupytext": {
   "encoding": "# -*- coding: utf-8 -*-",
   "formats": "ipynb,py:light"
  },
  "kernelspec": {
   "display_name": "Python 3 (ipykernel)",
   "language": "python",
   "name": "python3"
  },
  "language_info": {
   "codemirror_mode": {
    "name": "ipython",
    "version": 3
   },
   "file_extension": ".py",
   "mimetype": "text/x-python",
   "name": "python",
   "nbconvert_exporter": "python",
   "pygments_lexer": "ipython3",
   "version": "3.8.5"
  }
 },
 "nbformat": 4,
 "nbformat_minor": 4
}
