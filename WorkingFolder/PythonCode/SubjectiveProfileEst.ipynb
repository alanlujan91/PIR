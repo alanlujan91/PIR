{
 "cells": [
  {
   "cell_type": "markdown",
   "metadata": {},
   "source": [
    "## Estimation of subjective income risk profile using SCE data\n",
    "\n",
    "\n",
    "- This notebook does the estimation of the Markov switching model for income risk perceptions using data from SCE \n",
    "- parameters to estimate:\n",
    "   - $\\tilde \\Gamma_l$ and $\\tilde \\Gamma_h$ \n",
    "   - transition matrix $\\Omega$ with $p$ and $q$ as the staying probability in low and high risk states, respectively.\n",
    "  - where $\\tilde \\Gamma_l = \\{\\tilde \\sigma^l_\\psi,\\tilde \\sigma^l_\\theta, \\tilde{\\mho^l}, \\tilde{E^l}\\}$ and $\\tilde \\Gamma_h = \\{\\tilde \\sigma^h_\\psi,\\tilde \\sigma^h_\\theta, \\tilde{\\mho^h}, \\tilde{E^h}\\}$ where we impose the restriction that $\\tilde \\sigma^h_\\psi > \\tilde \\sigma^l_\\psi$ and $\\tilde \\sigma^h_\\theta > \\tilde \\sigma^l_\\theta$\n",
    "  \n",
    "Two extensions\n",
    "- I also estimate various versions of these profile specific to group, such as age and education. \n",
    "- I also estimate this conditional on macroeconomic history "
   ]
  },
  {
   "cell_type": "markdown",
   "metadata": {},
   "source": [
    "### Data and Estimation\n",
    "\n",
    "For each individual $i$, we observe at most 12 observations of their perceived income volatility over the earning growth next year $\\tilde {var}_{i,t}$ from $t$ to $t+12$. We assume the following relation between observed survey income volatility and underlying perceived permanent/transitory risks by the individual $i$ at time $t$ \n",
    "\n",
    "$\\newcommand{\\var}{\\text{var}}$\n",
    "\n",
    "\n",
    "$$\\tilde {\\var}_{i,t}= (12 \\tilde \\sigma^2_{i,t,\\psi} + 1/12 \\tilde \\sigma^2_{i,t,\\theta})exp^{\\xi_{t}}exp^{\\eta_{i}}exp^{\\epsilon_{i,t}} \\\\\n",
    "\\log \\tilde {\\var}_{i,t}= \\log(12 \\tilde \\sigma^2_{i,t,\\psi} + 1/12 \\tilde \\sigma^2_{i,t,\\theta})+\\xi_{t}+\\eta_{i}+\\epsilon_{i,t}$$\n",
    "\n",
    "Individual fixed effect $\\eta_i$ and time-fixed effect $\\xi_t$ can be directly controlled for. The i.i.d shock $\\epsilon_{i,t}$ represents unobserved information  that is available to agent $i$ but not available to modelers. It can be also interpreted as any idiosyncratic shock that affect the risk perceptions of individual $i$. We assume it is log-normally distributed.\n",
    "\n",
    "$$\\epsilon_{i,t} \\sim N(0,\\sigma^2_\\epsilon)$$\n",
    "\n",
    "Notice that $\\tilde {\\var}_{i,t}$ alone is not enough to separately identify the component-specific perceived risk parameters. \n",
    "\n",
    "Therefore, I make the following auxiliary assumption: the agent adopts a constant ratio of decomposition between permanent and transitory risks, $\\kappa =\\frac{\\tilde \\sigma_{i,t,\\psi}}{\\tilde \\sigma_{i,t,\\theta}}$, the value of $\\kappa$ is externally estimated from the realized income data. \n",
    "\n",
    "With the additional assumption, we can rewrite the above equation.\n",
    "\n",
    "$$\\log(\\tilde {\\var}_{i,t})= \\log[(12+\\frac{1}{12\\kappa^2})\\tilde \\sigma^2_{i,t,\\psi}] + \\xi_{t}+\\eta_{i}+ \\epsilon_{i,t}$$"
   ]
  },
  {
   "cell_type": "markdown",
   "metadata": {},
   "source": [
    "Now, we transform this model to a general form of Markov switching model. \n",
    "\n",
    "$$y_{i,t} = \\alpha + \\beta \\mathbb{1}(S_{i,t}=1)+\\tau_{i,t}$$\n",
    "\n",
    "where \n",
    "\n",
    "- $y_{i,t} = \\log(\\tilde{\\var}_{i,t})- \\xi_t-\\eta_i$\n",
    "- $\\alpha = \\log[(12+\\frac{1}{12\\kappa^2})\\tilde \\sigma^{l2}_{i,t,\\psi}]$\n",
    "- $\\alpha+\\beta = \\log[(12+\\frac{1}{12\\kappa^2})\\tilde \\sigma^{h2}_{i,t,\\psi}]$\n",
    "- $S_{i,t}=1$ if $\\tilde \\Gamma_{i,t}=\\tilde \\Gamma^h_{i,t}$ (high risk state) and $S_{i,t}=0$ if $\\tilde \\Gamma_{i,t}=\\tilde \\Gamma^l_{i,t}$ (low risk state)\n",
    "- $\\tau_{i,t}$ is the i.i.d. shocks whose variance $\\sigma$ is to be estimated\n",
    "\n",
    "We have data of a short time series of many individuals, each of which is a vector of risk perceptions $\\{y_{i,t}\\}^{12}_{t=1}$. The objective function of the estiamtion is essentially a sum the log-likelihood proabilities of all individuals. "
   ]
  },
  {
   "cell_type": "code",
   "execution_count": 86,
   "metadata": {},
   "outputs": [],
   "source": [
    "import numpy as np\n",
    "from scipy.optimize import minimize \n",
    "import matplotlib.pyplot as plt \n",
    "import pandas as pd\n",
    "import statsmodels.api as sm"
   ]
  },
  {
   "cell_type": "code",
   "execution_count": 175,
   "metadata": {
    "code_folding": [
     0,
     47,
     62,
     78,
     82,
     105,
     125,
     132
    ]
   },
   "outputs": [],
   "source": [
    "class Markov2Switching:\n",
    "    \"\"\"\n",
    "    A class that stores primitives for the Markov Regime Switching Model\n",
    "    %%%% Model %%%%%%%\n",
    "    % y_t = alpha+ beta * s_t + epsilon_t\n",
    "    % y is the observed variable;\n",
    "    % s_t =1 in high state; s_t = 0 in low state;\n",
    "    % q=p(s_t=0|s_t-1=0)\n",
    "    % p=p(s_t=1|s_t-1=1)\n",
    "    % Transition Matrix from [s=0,s=1]' is [q,1-p;1-q,p] \n",
    "    % para_est stores all estimates of parameters. \n",
    "    %%%%%%%%%%%%%%%%%\n",
    "\n",
    "    \"\"\"\n",
    "\n",
    "    def __init__(self,\n",
    "                 Y = None,\n",
    "                 paras = np.array([0.1,0.1,0.1,0.7,0.7]),\n",
    "                 nb_var = 1,\n",
    "                 state_dependence = False,\n",
    "                 AR = 0):  \n",
    "        \n",
    "        ## count how many variables \n",
    "        self.nb_var = nb_var\n",
    "        \n",
    "        if AR==0:\n",
    "            assert self.nb_var == int(len(paras)/5),'the nb of parameters needs to be equal to 5 x nb of variables'\n",
    "        elif AR==1:\n",
    "            assert self.nb_var == int(len(paras)/6),'the nb of parameters needs to be equal to 6 x nb of variables'\n",
    "          \n",
    "        self.paras = paras.reshape(self.nb_var,-1)\n",
    "        \n",
    "        self.Y = Y\n",
    "        ## be careful with the order \n",
    "        self.αs = self.paras[:,0]\n",
    "        self.βs = self.paras[:,1]\n",
    "        self.σs = self.paras[:,2]\n",
    "        self.qs = self.paras[:,3]\n",
    "        self.ps = self.paras[:,4]\n",
    "        if AR==0:\n",
    "            self.ϕ1s =np.zeros(self.nb_var)\n",
    "        elif AR==1:\n",
    "            self.ϕ1s = paras[:,5]\n",
    "        self.state_dependence = state_dependence\n",
    "        self.AR = AR \n",
    "    \n",
    "    ### pdf function of normal distribution \n",
    "    def norm_pdf(self,\n",
    "                 x,    ## value of the rm \n",
    "                 μ,    ## mean of the nromal\n",
    "                 σ):   ## std of the normal \n",
    "        \"\"\"\n",
    "        pdf of normal distribution mean μ and variance σ^2\n",
    "        \"\"\"\n",
    "        x_new = (x-μ)/σ\n",
    "        temp1 = 1/(np.sqrt(2*np.pi))\n",
    "        temp2 = np.exp(-(x_new**2/2))\n",
    "        return temp1*temp2 \n",
    "    \n",
    "    ## The functions below are help functions \n",
    "    ## that turn a hard constraint for parameters to a unconstrainted problem\n",
    "    ## prob_func  from R -> [0,1]\n",
    "    def prob_func(self,\n",
    "                   x):\n",
    "        \"\"\"\n",
    "        this bound function maps unconstrained x to y between 0 and 1\n",
    "        \"\"\"\n",
    "        return np.exp(x)/(1+np.exp(x))     \n",
    "    \n",
    "    def prob_func_inv(self,\n",
    "                     y):\n",
    "        return np.log(y)-np.log(1-y)\n",
    "    \n",
    "    ## exp_func  from R --> [0,+infinity]\n",
    "    def exp_func(self,\n",
    "                 x):\n",
    "        return np.exp(x)\n",
    "    \n",
    "    def exp_func_inv(self,\n",
    "                     y):\n",
    "        return np.log(y)\n",
    "    \n",
    "    def get_model_para(self,\n",
    "                      para):\n",
    "        \"\"\"\n",
    "        unconstrained parameters recast into model parameters with constraints\n",
    "        \"\"\"\n",
    "        assert len(para)==self.nb_var*(5+self.AR),\"the nb of parameters is incorrect\"\n",
    "        paras = para.reshape(self.nb_var,-1)\n",
    "        \n",
    "        αs = paras[:,0]\n",
    "        βs = paras[:,1]\n",
    "        #np.concatenate([self.exp_func(paras[0:2,1]),\n",
    "        #                     np.array(-self.exp_func([paras[2,1]]))\n",
    "        #                    ])\n",
    "        σs = self.exp_func(paras[:,2])\n",
    "        qs = self.prob_func(paras[:,3])\n",
    "        ps = self.prob_func(paras[:,4])\n",
    "        if self.AR==1:\n",
    "            ϕ1s = self.prob_func(paras[:,5])\n",
    "        else:\n",
    "            ϕ1s = np.zeros(self.nb_var)\n",
    "        return αs,βs,σs,qs,ps,ϕ1s\n",
    "    \n",
    "    \n",
    "    def make_para_dict(self,\n",
    "                      para):\n",
    "        \"\"\"\n",
    "        a function that creates a dictionary of parameters with names\n",
    "        \"\"\"\n",
    "        αs,βs,σs,qs,ps,ϕ1s =self.get_model_para(para)\n",
    "            \n",
    "        q = qs[0]\n",
    "        p =ps[0]\n",
    "        \n",
    "        model_para ={}\n",
    "        model_para['q']=q\n",
    "        model_para['p']=p\n",
    "        model_para['α']=αs\n",
    "        model_para['β']=βs\n",
    "        model_para['σ'] =σs\n",
    "        model_para['ϕ1']=ϕ1s\n",
    "                   \n",
    "        return model_para\n",
    "    \n",
    "    def steady_state(self,\n",
    "                      q,\n",
    "                      p):\n",
    "        return ((1-p)/(2-p-q),\n",
    "                (1-q)/(2-p-q))\n",
    "    \n",
    "    ## Key function that computes log-likelihood for a list of time series of realized data\n",
    "    def log_likelihood(self,\n",
    "                       Y_list,   ## a list of multiple series \n",
    "                       para):\n",
    "        \n",
    "        \"\"\"\n",
    "        inputs\n",
    "        ======\n",
    "        Y: a list of independent univariate/multivariate (a vector) time series for which the log-likilihood is computed jointly\n",
    "        para: parameters of the process sized of nb of vairalbes x nb of parameters, with the strictly set order of α,β,σ,q,p,ϕ1\n",
    "        \n",
    "        outputs\n",
    "        =======\n",
    "        llh_tot: total log-likelihood across all series\n",
    "        update1_list: list of updating probs s=1|Y_t at time t;\n",
    "        prdict1_list: list of prediction probs: s=1|Y_t-1 at time t-1;\n",
    "        f1_list: list of predicted probs: y_t|y_t-1;\n",
    "        \"\"\"\n",
    "        αs,βs,σs,qs,ps,ϕ1s = self.get_model_para(para)\n",
    "\n",
    "        update1_list =[]\n",
    "        prdict1_list =[]\n",
    "        f1_list =[]\n",
    "        \n",
    "        \n",
    "        ## starting from zero loglikelihood \n",
    "        \n",
    "        llh_tot = 0.0\n",
    "        \n",
    "\n",
    "        q = qs[0]\n",
    "        p = ps[0]\n",
    "        \n",
    "        for k in range(len(Y_list)):\n",
    "            Y = Y_list[k]  ## Y is a 1-d or nb_var-d array \n",
    "            \n",
    "            T = Y_list[k].shape[1] ## length of the series is not necessarily the same \n",
    "            \n",
    "            ## this loops over all periods \n",
    "            llh = 0.0\n",
    "\n",
    "            update0 = np.empty(T)\n",
    "            update1 = np.empty(T)\n",
    "            prdict1 = np.empty(T)\n",
    "            f1 = np.empty(T)\n",
    "\n",
    "            ## initilize the first period \n",
    "            update0[0], update1[0] = self.steady_state(q,   #p(s=0|Y_0) and  # p(s=1|Y_1)\n",
    "                                                       p)   \n",
    "            \n",
    "            for t in range(1,T-1):\n",
    "                prdict1[t] = (1-q)*update0[t-1]+p*update1[t-1]  #p(s_t=1|y_t-1);\n",
    "                \n",
    "                pdf_t_1 = prdict1[t]\n",
    "                pdf_t_0 = (1-prdict1[t])\n",
    "                \n",
    "                ## loop over differen time series \n",
    "                for x in range(self.nb_var):\n",
    "                    pdf_t_1 =pdf_t_1*self.norm_pdf(Y[x,t]-ϕ1s[x]*Y[x,t-1],αs[x]+βs[x],σs[x])  # f(y_t|s_t=1,Y_t-1)\n",
    "                    pdf_t_0 =pdf_t_0*self.norm_pdf(Y[x,t]-ϕ1s[x]*Y[x,t-1],αs[x],σs[x]) # f(y_t|s_t=0,Y_t-1)\n",
    "                \n",
    "                f1[t]= pdf_t_1+pdf_t_0     # f1= f(y_t|Y_t-1)\n",
    "                #print(f1[t])\n",
    "                llh_pred = np.log(f1[t])     # log( f(y_t|Y_t-1))\n",
    "                llh = llh + llh_pred    # llh_pred = log(f(y_t|Y_t-1))\n",
    "                update1[t] = pdf_t_1/(pdf_t_1+ pdf_t_0)  # p(s_t=0|y_t-1) \n",
    "                update0[t] = 1-update1[t]                # p(s_t=1|y_t-1)\n",
    "                \n",
    "            ## merge those probabilities \n",
    "            \n",
    "            update1_list.append(update1) \n",
    "            prdict1_list.append(prdict1)\n",
    "            f1_list.append(f1)\n",
    "        \n",
    "            ## sum across agents \n",
    "            llh_tot = llh_tot+llh\n",
    "        \n",
    "        return llh_tot,update1_list,prdict1_list,f1_list\n",
    "    "
   ]
  },
  {
   "cell_type": "code",
   "execution_count": 176,
   "metadata": {},
   "outputs": [],
   "source": [
    "## create the model \n",
    "mkv2 = Markov2Switching(AR=0,\n",
    "                        nb_var=1)"
   ]
  },
  {
   "cell_type": "markdown",
   "metadata": {},
   "source": [
    "### Test using fake simulated data with known parameters"
   ]
  },
  {
   "cell_type": "code",
   "execution_count": 203,
   "metadata": {
    "code_folding": []
   },
   "outputs": [],
   "source": [
    "import quantecon as qe\n",
    "from quantecon import MarkovChain\n",
    "\n",
    "## fake data \n",
    "α_fake = 0.1\n",
    "β_fake = 0.2\n",
    "σ_fake = 0.8\n",
    "q_fake = 0.7\n",
    "p_fake = 0.8\n",
    "ϕ1_fake = 0.0\n",
    "\n",
    "mkv_mat = np.array([[q_fake,1-q_fake],\n",
    "                    [1-p_fake,p_fake]])\n",
    "\n",
    "para_fake = np.array([α_fake,\n",
    "                      β_fake,\n",
    "                      mkv2.exp_func_inv(σ_fake),\n",
    "                      mkv2.prob_func_inv(q_fake),\n",
    "                      mkv2.prob_func_inv(p_fake),\n",
    "                      #mkv2.prob_func_inv(ϕ1_fake)\n",
    "                     ])\n",
    "T_fake = 12\n",
    "nb_sim = 300\n",
    "\n",
    "fake_regime_h_list=[]\n",
    "fake_data_list = []\n",
    "\n",
    "prob_ss0, prob_ss1 = mkv2.steady_state(q_fake,\n",
    "                                       p_fake)\n",
    "\n",
    "init_sim = (np.random.uniform(0,1,nb_sim)<=prob_ss1)*1\n",
    "\n",
    "for i in range(nb_sim):\n",
    "    mc = qe.MarkovChain(mkv_mat)\n",
    "    regime_h = mc.simulate(ts_length=T_fake+1,\n",
    "                          init= init_sim[i])\n",
    "    regime_l = 1-regime_h\n",
    "    shocks = np.random.randn(T_fake+1)*σ_fake\n",
    "    constant_l = α_fake\n",
    "    constant_h = α_fake+β_fake\n",
    "    y = (regime_l*constant_l+regime_h*constant_h)+shocks\n",
    "    ## AR1 process\n",
    "    for t in range(1,T_fake):\n",
    "        y[t]= ϕ1_fake*y[t-1]+y[t]\n",
    "    \n",
    "    ## add to the list \n",
    "    this_y_2d = y[1:].reshape(-1,len(y[1:]))\n",
    "    fake_data_list.append(this_y_2d)\n",
    "    fake_regime_h_list.append(regime_h)\n",
    "index = range(T_fake)"
   ]
  },
  {
   "cell_type": "code",
   "execution_count": 204,
   "metadata": {
    "code_folding": []
   },
   "outputs": [
    {
     "data": {
      "text/plain": [
       "<matplotlib.legend.Legend at 0x7fb4f0eab0a0>"
      ]
     },
     "execution_count": 204,
     "metadata": {},
     "output_type": "execute_result"
    },
    {
     "data": {
      "image/png": "[encoded data removed]",
      "text/plain": [
       "<Figure size 720x360 with 1 Axes>"
      ]
     },
     "metadata": {
      "needs_background": "light"
     },
     "output_type": "display_data"
    }
   ],
   "source": [
    "## plot the simulated data \n",
    "if len(fake_data_list)==1:\n",
    "    random_id = 0\n",
    "else:\n",
    "    random_id = np.random.randint(0,len(fake_data_list)-1)\n",
    "    \n",
    "## get the random data and regime sequence\n",
    "y = fake_data_list[random_id].T\n",
    "regime_h = fake_regime_h_list[random_id]\n",
    "\n",
    "plt.figure(figsize=(10,5))\n",
    "plt.title('Simulated time series and the hidden state')\n",
    "plt.plot(y,\n",
    "         label=r'$y_t$')\n",
    "plt.fill_between(index,\n",
    "                 np.min(y),\n",
    "                 np.max(y),\n",
    "                 where=regime_h[1:],\n",
    "                 color=\"k\", \n",
    "                 alpha=0.3,\n",
    "                label='high')\n",
    "plt.legend(loc=1)"
   ]
  },
  {
   "cell_type": "code",
   "execution_count": 259,
   "metadata": {
    "code_folding": []
   },
   "outputs": [],
   "source": [
    "## plot log-likelihood \n",
    "\n",
    "llh,filter1,pr1,pdf = mkv2.log_likelihood(fake_data_list,\n",
    "                                          para_fake)"
   ]
  },
  {
   "cell_type": "code",
   "execution_count": 260,
   "metadata": {
    "code_folding": []
   },
   "outputs": [
    {
     "data": {
      "text/plain": [
       "<matplotlib.legend.Legend at 0x7fb4b1e8eac0>"
      ]
     },
     "execution_count": 260,
     "metadata": {},
     "output_type": "execute_result"
    },
    {
     "data": {
      "image/png": "[encoded data removed]",
      "text/plain": [
       "<Figure size 720x360 with 1 Axes>"
      ]
     },
     "metadata": {
      "needs_background": "light"
     },
     "output_type": "display_data"
    }
   ],
   "source": [
    "## plot the simulated data \n",
    "if len(fake_data_list)==1:\n",
    "    random_id = 0\n",
    "else:\n",
    "    random_id = np.random.randint(0,len(fake_data_list)-1)\n",
    "    \n",
    "## get the random data and regime sequence\n",
    "y = fake_data_list[random_id].T\n",
    "regime_h = fake_regime_h_list[random_id]\n",
    "\n",
    "\n",
    "## plot everything \n",
    "plt.figure(figsize=(10,5))\n",
    "plt.title('Simulated time series and the hidden state')\n",
    "\n",
    "## time series of y \n",
    "plt.plot(y,\n",
    "         label=r'$y_t$')\n",
    "## regime \n",
    "plt.fill_between(index,\n",
    "                 np.min(y),\n",
    "                 np.max(y),\n",
    "                 where=regime_h[1:],\n",
    "                 color=\"k\", \n",
    "                 alpha=0.3,\n",
    "                label='high')\n",
    "## filter prob\n",
    "plt.plot(filter1[random_id][:-1],\n",
    "        label='filtered prob')\n",
    "plt.legend(loc=1)"
   ]
  },
  {
   "cell_type": "code",
   "execution_count": 261,
   "metadata": {
    "code_folding": []
   },
   "outputs": [
    {
     "name": "stderr",
     "output_type": "stream",
     "text": [
      "/var/folders/39/ks6jc__9375c2fl7h7pwq5jh0000gn/T/ipykernel_11168/3357298615.py:195: RuntimeWarning: divide by zero encountered in log\n",
      "  llh_pred = np.log(f1[t])     # log( f(y_t|Y_t-1))\n",
      "/var/folders/39/ks6jc__9375c2fl7h7pwq5jh0000gn/T/ipykernel_11168/3357298615.py:197: RuntimeWarning: invalid value encountered in double_scalars\n",
      "  update1[t] = pdf_t_1/(pdf_t_1+ pdf_t_0)  # p(s_t=0|y_t-1)\n"
     ]
    },
    {
     "name": "stdout",
     "output_type": "stream",
     "text": [
      "success?  True\n",
      "fake TRUE parameters\n",
      " {'q': 0.7, 'p': 0.8, 'α': array([0.1]), 'β': array([0.2]), 'σ': array([0.8]), 'ϕ1': array([0.])}\n",
      "initial guess of the parameters\n",
      " {'q': 0.7, 'p': 0.8, 'α': array([0.1]), 'β': array([0.2]), 'σ': array([0.8]), 'ϕ1': array([0.])}\n",
      "estimated parameters\n",
      " {'q': 0.7738171874123703, 'p': 0.5083067727052278, 'α': array([0.01726421]), 'β': array([0.66049775]), 'σ': array([0.7457924]), 'ϕ1': array([0.])}\n"
     ]
    }
   ],
   "source": [
    "## try estimation\n",
    "\n",
    "obj = lambda para: -mkv2.log_likelihood(fake_data_list,\n",
    "                                        para)[0]   ## only the first output\n",
    "\n",
    "\n",
    "## tight bounds for some parameters \n",
    "sigma_ub = np.mean([np.std(np.array(x)) for x in fake_data_list])\n",
    "sigma_inv_ub = mkv2.exp_func_inv(sigma_ub)\n",
    "q_lb = 0.5  ## persistent \n",
    "q_inv_lb = mkv2.prob_func_inv(q_lb) \n",
    "p_lb = 0.5 ## persistent \n",
    "p_inv_lb = mkv2.prob_func_inv(p_lb)\n",
    "\n",
    "## estimation \n",
    "#guess = (0.2,0.3,0.1,0.1,0.4)\n",
    "guess = para_fake\n",
    "#bounds = ((-0.3,1),(-2,2),(-2,2),(-4,1),(-4,1),) \n",
    "bounds = ((None,None),(0.0,None),(-1,sigma_inv_ub),(None,None),(None,None),)\n",
    "\n",
    "result = minimize(obj,\n",
    "                    x0 = guess,\n",
    "                    method='SLSQP',   #SLSQP\n",
    "                    bounds = bounds,\n",
    "                    options={'disp': False,\n",
    "                            }\n",
    "                   )\n",
    "print('success? ',result['success'])\n",
    "para_est = result['x']\n",
    "\n",
    "\n",
    "para_fake_dict = mkv2.make_para_dict(para_fake)\n",
    "para_guess_dict = mkv2.make_para_dict(guess)\n",
    "para_est_dict = mkv2.make_para_dict(para_est)\n",
    "\n",
    "\n",
    "#results\n",
    "print(\"fake TRUE parameters\\n\",para_fake_dict)\n",
    "print(\"initial guess of the parameters\\n\",para_guess_dict)\n",
    "print(\"estimated parameters\\n\",para_est_dict)\n"
   ]
  },
  {
   "cell_type": "code",
   "execution_count": 262,
   "metadata": {},
   "outputs": [],
   "source": [
    "#Based on estimates of parameters and data; compute filtered probabilities\n",
    "\n",
    "llh,filter1,pr1,pdf = mkv2.log_likelihood(fake_data_list,\n",
    "                                          para_est)\n",
    "# filter1: prob of good state;\n",
    "# pr1: predicted prob of good state "
   ]
  },
  {
   "cell_type": "code",
   "execution_count": 263,
   "metadata": {},
   "outputs": [
    {
     "data": {
      "text/plain": [
       "<matplotlib.legend.Legend at 0x7fb4e4af5850>"
      ]
     },
     "execution_count": 263,
     "metadata": {},
     "output_type": "execute_result"
    },
    {
     "data": {
      "image/png": "[encoded data removed]",
      "text/plain": [
       "<Figure size 720x360 with 1 Axes>"
      ]
     },
     "metadata": {
      "needs_background": "light"
     },
     "output_type": "display_data"
    }
   ],
   "source": [
    "## plot the simulated data \n",
    "if len(fake_data_list)==1:\n",
    "    random_id = 0\n",
    "else:\n",
    "    random_id = np.random.randint(0,len(fake_data_list)-1)\n",
    "    \n",
    "## get the random data and regime sequence\n",
    "y = fake_data_list[random_id].T\n",
    "regime_h = fake_regime_h_list[random_id]\n",
    "\n",
    "\n",
    "## plot everything \n",
    "plt.figure(figsize=(10,5))\n",
    "plt.title('Simulated time series and the hidden state')\n",
    "\n",
    "## time series of y \n",
    "plt.plot(y,\n",
    "         label=r'$y_t$')\n",
    "## regime \n",
    "plt.fill_between(index,\n",
    "                 np.min(y),\n",
    "                 np.max(y),\n",
    "                 where=regime_h[1:],\n",
    "                 color=\"k\", \n",
    "                 alpha=0.3,\n",
    "                label='high')\n",
    "## filter prob\n",
    "plt.plot(filter1[random_id][:-1],\n",
    "        label='filtered prob')\n",
    "plt.legend(loc=1)"
   ]
  },
  {
   "cell_type": "markdown",
   "metadata": {},
   "source": [
    "### Estimation of SCE data"
   ]
  },
  {
   "cell_type": "code",
   "execution_count": 1,
   "metadata": {},
   "outputs": [],
   "source": [
    "import pandas as pd\n",
    "import statsmodels.formula.api as smf\n",
    "import numpy as np\n",
    "\n",
    "## precision of showing float  \n",
    "pd.options.display.float_format = '{:,.3f}'.format\n"
   ]
  },
  {
   "cell_type": "code",
   "execution_count": 2,
   "metadata": {
    "code_folding": [
     0,
     16
    ]
   },
   "outputs": [],
   "source": [
    "## import data \n",
    "dataset = pd.read_stata('../SurveyData/SCE/IncExpSCEProbIndM.dta')   \n",
    "\n",
    "## variables \n",
    "vars_id = ['userid','date']\n",
    "moms_nom = ['Q24_mean','Q24_iqr','Q24_var']\n",
    "moms_real = ['Q24_rmean','Q24_rvar']\n",
    "ue_risks = ['Q13new','Q22new']\n",
    "\n",
    "\n",
    "vars_all_reg_long = (vars_id+moms_nom + moms_real+ue_risks)\n",
    "\n",
    "## select dataset \n",
    "SCEM = dataset[vars_all_reg_long]\n",
    "\n",
    "\n",
    "SCEM = SCEM.rename(columns={'Q24_mean': 'incexp',\n",
    "                           'Q24_var': 'incvar',\n",
    "                           'Q24_iqr': 'inciqr',\n",
    "                           'Q24_rmean':'rincexp',\n",
    "                           'Q24_rvar': 'rincvar',\n",
    "                           'Q13new':'UE_s',\n",
    "                           'Q22new':'UE_f'\n",
    "                           })\n",
    "\n",
    "SCEM = SCEM.dropna(subset=['date'])\n",
    "\n",
    "## add year and month variable \n",
    "SCEM['year'] = SCEM.date.dt.year\n",
    "SCEM['month'] = SCEM.date.dt.month \n",
    "\n",
    "## take the log \n",
    "\n",
    "SCEM['lrincvar'] = np.log(SCEM['rincvar'])\n",
    "\n",
    "\n",
    "### some data transformation \n",
    "\n",
    "SCEM['UE_s'] = SCEM['UE_s']/100\n",
    "SCEM['UE_f'] = SCEM['UE_f']/100\n",
    "\n",
    "SCEM['U2U_prob'] = 1-SCEM['UE_f']   #. 1- prob of find a job\n",
    "SCEM['E2E_prob'] = 1- SCEM['UE_s']*(1-SCEM['UE_f'])   ## 1- prob(loses the job and not finding one)\n",
    "\n",
    "\n",
    "### transform 0-1 prob to a R \n",
    "\n",
    "prob_inv_func = lambda x: np.log(x)-np.log(1-x)\n",
    "\n",
    "#SCEM['U2U_prob_e'] = SCEM['U2U_prob'].apply(prob_inv_func)\n",
    "#SCEM['E2E_prob_e'] =  SCEM['E2E_prob'].apply(prob_inv_func)\n"
   ]
  },
  {
   "cell_type": "code",
   "execution_count": 10,
   "metadata": {
    "code_folding": [
     5
    ]
   },
   "outputs": [],
   "source": [
    "## demean or id FE\n",
    "vars_list = ['lrincvar',\n",
    "            'U2U_prob',\n",
    "            'E2E_prob']  \n",
    "\n",
    "for var in vars_list:\n",
    "    ## demeaned \n",
    "    SCEM[var+'_dm'] = SCEM[var]-SCEM.groupby('userid')[var].transform('mean')\n",
    "    \n",
    "    ## run a panel regression to get the residuls \n",
    "    model = smf.ols(formula = var+'_dm'+'~ C(date)',\n",
    "                data = SCEM)\n",
    "    result = model.fit()\n",
    "    residuls = result.resid\n",
    "    SCEM[var+'_rd'] = residuls\n",
    "    "
   ]
  },
  {
   "cell_type": "code",
   "execution_count": 11,
   "metadata": {},
   "outputs": [],
   "source": [
    "## convert the panel data of rincvar into a list of time series sequence\n",
    "vars_rd_list = ['lrincvar_rd',\n",
    "            'U2U_prob_rd',\n",
    "            'E2E_prob_rd']  \n"
   ]
  },
  {
   "cell_type": "code",
   "execution_count": 99,
   "metadata": {},
   "outputs": [
    {
     "data": {
      "text/html": [
       "<div>\n",
       "<style scoped>\n",
       "    .dataframe tbody tr th:only-of-type {\n",
       "        vertical-align: middle;\n",
       "    }\n",
       "\n",
       "    .dataframe tbody tr th {\n",
       "        vertical-align: top;\n",
       "    }\n",
       "\n",
       "    .dataframe thead th {\n",
       "        text-align: right;\n",
       "    }\n",
       "</style>\n",
       "<table border=\"1\" class=\"dataframe\">\n",
       "  <thead>\n",
       "    <tr style=\"text-align: right;\">\n",
       "      <th></th>\n",
       "      <th>userid</th>\n",
       "      <th>lrincvar_rd</th>\n",
       "      <th>U2U_prob_rd</th>\n",
       "      <th>E2E_prob_rd</th>\n",
       "    </tr>\n",
       "  </thead>\n",
       "  <tbody>\n",
       "    <tr>\n",
       "      <th>userid</th>\n",
       "      <td>1.000</td>\n",
       "      <td>0.030</td>\n",
       "      <td>-0.004</td>\n",
       "      <td>-0.005</td>\n",
       "    </tr>\n",
       "    <tr>\n",
       "      <th>lrincvar_rd</th>\n",
       "      <td>0.030</td>\n",
       "      <td>1.000</td>\n",
       "      <td>-0.001</td>\n",
       "      <td>-0.024</td>\n",
       "    </tr>\n",
       "    <tr>\n",
       "      <th>U2U_prob_rd</th>\n",
       "      <td>-0.004</td>\n",
       "      <td>-0.001</td>\n",
       "      <td>1.000</td>\n",
       "      <td>-0.288</td>\n",
       "    </tr>\n",
       "    <tr>\n",
       "      <th>E2E_prob_rd</th>\n",
       "      <td>-0.005</td>\n",
       "      <td>-0.024</td>\n",
       "      <td>-0.288</td>\n",
       "      <td>1.000</td>\n",
       "    </tr>\n",
       "  </tbody>\n",
       "</table>\n",
       "</div>"
      ],
      "text/plain": [
       "             userid  lrincvar_rd  U2U_prob_rd  E2E_prob_rd\n",
       "userid        1.000        0.030       -0.004       -0.005\n",
       "lrincvar_rd   0.030        1.000       -0.001       -0.024\n",
       "U2U_prob_rd  -0.004       -0.001        1.000       -0.288\n",
       "E2E_prob_rd  -0.005       -0.024       -0.288        1.000"
      ]
     },
     "execution_count": 99,
     "metadata": {},
     "output_type": "execute_result"
    }
   ],
   "source": [
    "SCEM_sub.corr()"
   ]
  },
  {
   "cell_type": "code",
   "execution_count": 42,
   "metadata": {},
   "outputs": [],
   "source": [
    "## convert it to a list of arrays storing all time series data for each individual\n",
    "\n",
    "SCEM_sub = SCEM[['userid']+vars_rd_list].dropna(how='any')\n",
    "\n",
    "unique_ids = list(SCEM_sub['userid'].unique())\n",
    "\n",
    "SCE_list = [SCEM_sub[SCEM_sub['userid']==ID][vars_rd_list].T.to_numpy() for ID in unique_ids]\n",
    "\n",
    "SCE_list = [x for x in SCE_list if ~np.isnan(np.array(x)).any() and x.shape[1]>=2]\n",
    "\n",
    "print('how many invidividuals have answers in successive months?',len(SCE_list))"
   ]
  },
  {
   "cell_type": "code",
   "execution_count": 154,
   "metadata": {
    "code_folding": []
   },
   "outputs": [
    {
     "data": {
      "text/plain": [
       "<matplotlib.legend.Legend at 0x7fb5349669a0>"
      ]
     },
     "execution_count": 154,
     "metadata": {},
     "output_type": "execute_result"
    },
    {
     "data": {
      "image/png": "[encoded data removed]",
      "text/plain": [
       "<Figure size 720x360 with 1 Axes>"
      ]
     },
     "metadata": {
      "needs_background": "light"
     },
     "output_type": "display_data"
    }
   ],
   "source": [
    "## plot the simulated data \n",
    "random_id = np.random.randint(0,len(SCE_list)-1)\n",
    "\n",
    "plt.figure(figsize=(10,5))\n",
    "plt.title('Time series of income risk perceptions from the survey')\n",
    "plt.plot(SCE_list[random_id][0,:],\n",
    "         'o-',\n",
    "         label=r'$y_t$')\n",
    "#plt.fill_between(index,\n",
    "#                 np.min(rincvar_list),\n",
    "#                 np.max(rincvar_list),\n",
    "#                 where=regime_h[1:],\n",
    "#                 color=\"k\", \n",
    "#                 alpha=0.3,\n",
    "#                label='high')\n",
    "plt.legend(loc=1)"
   ]
  },
  {
   "cell_type": "code",
   "execution_count": 132,
   "metadata": {
    "code_folding": [
     0,
     1
    ]
   },
   "outputs": [],
   "source": [
    "## create the model \n",
    "SCE_mkv2 = Markov2Switching(AR=0,\n",
    "                            paras = np.array([0.1,0.1,0.1,0.7,0.7,\n",
    "                                             0.1,0.1,0.1,0.7,0.7,\n",
    "                                             0.1,-0.1,0.1,0.7,0.7,]),\n",
    "                           nb_var = 3)\n",
    "\n",
    "## objective func\n",
    "SCE_obj = lambda para: -SCE_mkv2.log_likelihood(SCE_list,\n",
    "                                                para)[0]   ## only the first output\n"
   ]
  },
  {
   "cell_type": "code",
   "execution_count": 133,
   "metadata": {
    "code_folding": [
     0,
     26
    ]
   },
   "outputs": [
    {
     "name": "stderr",
     "output_type": "stream",
     "text": [
      "/var/folders/39/ks6jc__9375c2fl7h7pwq5jh0000gn/T/ipykernel_11168/3357298615.py:68: RuntimeWarning: overflow encountered in exp\n",
      "  return np.exp(x)/(1+np.exp(x))\n",
      "/var/folders/39/ks6jc__9375c2fl7h7pwq5jh0000gn/T/ipykernel_11168/3357298615.py:68: RuntimeWarning: invalid value encountered in true_divide\n",
      "  return np.exp(x)/(1+np.exp(x))\n",
      "/var/folders/39/ks6jc__9375c2fl7h7pwq5jh0000gn/T/ipykernel_11168/3357298615.py:195: RuntimeWarning: divide by zero encountered in log\n",
      "  llh_pred = np.log(f1[t])     # log( f(y_t|Y_t-1))\n",
      "/var/folders/39/ks6jc__9375c2fl7h7pwq5jh0000gn/T/ipykernel_11168/3357298615.py:197: RuntimeWarning: invalid value encountered in double_scalars\n",
      "  update1[t] = pdf_t_1/(pdf_t_1+ pdf_t_0)  # p(s_t=0|y_t-1)\n",
      "/var/folders/39/ks6jc__9375c2fl7h7pwq5jh0000gn/T/ipykernel_11168/3357298615.py:129: RuntimeWarning: invalid value encountered in double_scalars\n",
      "  return ((1-p)/(2-p-q),\n",
      "/var/folders/39/ks6jc__9375c2fl7h7pwq5jh0000gn/T/ipykernel_11168/3357298615.py:130: RuntimeWarning: invalid value encountered in double_scalars\n",
      "  (1-q)/(2-p-q))\n"
     ]
    },
    {
     "name": "stdout",
     "output_type": "stream",
     "text": [
      "success?  True\n",
      "initial guess of the parameters [0.2, 0.4, 1.11, 0.52, 0.6, 0.0]\n",
      "estimated parameters [-0.05, 0.24, 0.7, 0.97, 0.21, 0.0]\n"
     ]
    }
   ],
   "source": [
    "## tight bounds for some parameters \n",
    "sigma_ub0 = np.mean([np.std(np.array(x[0,:])) for x in SCE_list])\n",
    "sigma_inv_ub0 = SCE_mkv2.exp_func_inv(sigma_ub0)\n",
    "\n",
    "sigma_ub1 = np.mean([np.std(np.array(x[1,:])) for x in SCE_list])\n",
    "sigma_inv_ub1 = SCE_mkv2.exp_func_inv(sigma_ub1)\n",
    "\n",
    "sigma_ub2 = np.mean([np.std(np.array(x[2,:])) for x in SCE_list])\n",
    "sigma_inv_ub2 = SCE_mkv2.exp_func_inv(sigma_ub1)\n",
    "\n",
    "q_lb = 0.5  ## persistent \n",
    "q_inv_lb =SCE_mkv2.prob_func_inv(q_lb) \n",
    "p_lb = 0.5 ## persistent \n",
    "p_inv_lb =SCE_mkv2.prob_func_inv(p_lb)\n",
    "\n",
    "## estimation \n",
    "guess = np.array([0.2,0.4,0.1,0.1,0.4,\n",
    "                0.2,0.4,-2,0.1,0.4,\n",
    "                0.2,-0.1,-2,0.1,0.4])\n",
    "\n",
    "bounds = ((None,None),(0.0,None),(-1,sigma_inv_ub0),(None,None),(None,None),\n",
    "         (None,None),(0.0,None),(-4,sigma_inv_ub1),(None,None),(None,None),\n",
    "         (None,None),(None,0.0),(-4,sigma_inv_ub2),(None,None),(None,None),)\n",
    "\n",
    "\n",
    "\n",
    "result = minimize(SCE_obj,\n",
    "                  x0 = guess,\n",
    "                  method='SLSQP',   #SLSQP\n",
    "                  bounds = bounds,\n",
    "                  options={'disp': False,\n",
    "                            'maxiter':3000}\n",
    "                   )\n",
    "print('success? ',result['success'])\n",
    "SCE_para_est = result['x']\n",
    "## get alpha, beta, sigma, q, p \n",
    "\n",
    "guess_para_model = SCE_mkv2.make_para_dict(guess)\n",
    "SCE_para_model_est = SCE_mkv2.make_para_dict(SCE_para_est)\n"
   ]
  },
  {
   "cell_type": "code",
   "execution_count": 136,
   "metadata": {},
   "outputs": [
    {
     "name": "stdout",
     "output_type": "stream",
     "text": [
      "initial guess of the parameters\n",
      " {'q': 0.52497918747894, 'p': 0.598687660112452, 'α': array([0.2, 0.2, 0.2]), 'β': array([ 0.4,  0.4, -0.1]), 'σ': array([1.10517092, 0.13533528, 0.13533528]), 'ϕ1': array([0., 0., 0.])}\n",
      "estimated parameters\n",
      " {'q': 0.9692644464330913, 'p': 0.21492377921729913, 'α': array([-0.05218615, -0.01611886,  0.00263137]), 'β': array([ 0.23611381,  0.46148839, -0.06238022]), 'σ': array([0.70278787, 0.13189012, 0.13202311]), 'ϕ1': array([0., 0., 0.])}\n"
     ]
    }
   ],
   "source": [
    "#results\n",
    "\n",
    "print(\"initial guess of the parameters\\n\",guess_para_model)\n",
    "print(\"estimated parameters\\n\",SCE_para_model_est)\n"
   ]
  },
  {
   "cell_type": "code",
   "execution_count": 162,
   "metadata": {},
   "outputs": [
    {
     "name": "stdout",
     "output_type": "stream",
     "text": [
      "monthly SCE parameters\n",
      " {'q': 0.9692644464330913, 'p': 0.21492377921729913, 'sigma_p_l': 0.2802686642920723, 'sigma_t_l': 0.5294040652394656, 'sigma_p_h': 0.3153886103971443, 'sigma_t_h': 0.5615947029639295, 'U2U_l': -0.016118856068108044, 'U2U_h': 0.4453695343816509, 'E2E_l': 0.0026313672292806777, 'E2E_h': -0.05974885650270581}\n"
     ]
    }
   ],
   "source": [
    "## from the estimation to model parameters \n",
    "\n",
    "kappa = 1 ## ratio of permanent and transitory risks \n",
    "\n",
    "model_para_est = {}\n",
    "\n",
    "alpha = SCE_para_model_est['α'][0]\n",
    "beta = SCE_para_model_est['β'][0]\n",
    "\n",
    "model_para_est['q'] = SCE_para_model_est['q']\n",
    "model_para_est['p'] = SCE_para_model_est['p']\n",
    "\n",
    "############################################\n",
    "## monthly risk parameters \n",
    "############################################\n",
    "model_para_est['sigma_p_l'] = np.sqrt(np.exp(alpha)/(12+1/(12*kappa**2)))\n",
    "model_para_est['sigma_t_l'] =  np.sqrt(model_para_est['sigma_p_l']/kappa)\n",
    "model_para_est['sigma_p_h'] =  np.sqrt(np.exp(alpha+beta)/(12+1/(12*kappa**2)))\n",
    "model_para_est['sigma_t_h'] =  np.sqrt(model_para_est['sigma_p_h']/kappa)\n",
    "\n",
    "\n",
    "model_para_est['U2U_l'] = SCE_para_model_est['α'][1]\n",
    "model_para_est['U2U_h'] =  SCE_para_model_est['α'][1]+SCE_para_model_est['β'][1]\n",
    "\n",
    "model_para_est['E2E_l'] = SCE_para_model_est['α'][2]\n",
    "model_para_est['E2E_h'] =  SCE_para_model_est['α'][2]+SCE_para_model_est['β'][2]\n",
    "\n",
    "print('monthly SCE parameters\\n',model_para_est)"
   ]
  },
  {
   "cell_type": "code",
   "execution_count": 173,
   "metadata": {
    "code_folding": []
   },
   "outputs": [],
   "source": [
    "## convert to a dataframe \n",
    "\n",
    "index_names = ['$q$',\n",
    "              '$p$',\n",
    "              '$\\tilde\\sigma^l_\\psi$',\n",
    "              '$\\tilde\\sigma^l_\\theta$',\n",
    "              '$\\tilde\\sigma^h_\\psi$',\n",
    "              '$\\tilde\\sigma^h_\\theta$',\n",
    "              '$\\tilde \\mho^l$',\n",
    "              '$\\tilde \\mho^h$',\n",
    "              '$\\tilde E^l$',\n",
    "              '$\\tilde E^h$']\n",
    "\n",
    "SCE_para_est_df = pd.DataFrame.from_dict(model_para_est,\n",
    "                                         orient='index',\n",
    "                                         dtype=None, \n",
    "                                         columns=['baseline']\n",
    "                                        )\n",
    "\n",
    "SCE_para_est_df.index = index_names"
   ]
  },
  {
   "cell_type": "code",
   "execution_count": 174,
   "metadata": {},
   "outputs": [
    {
     "data": {
      "text/html": [
       "<div>\n",
       "<style scoped>\n",
       "    .dataframe tbody tr th:only-of-type {\n",
       "        vertical-align: middle;\n",
       "    }\n",
       "\n",
       "    .dataframe tbody tr th {\n",
       "        vertical-align: top;\n",
       "    }\n",
       "\n",
       "    .dataframe thead th {\n",
       "        text-align: right;\n",
       "    }\n",
       "</style>\n",
       "<table border=\"1\" class=\"dataframe\">\n",
       "  <thead>\n",
       "    <tr style=\"text-align: right;\">\n",
       "      <th></th>\n",
       "      <th>baseline</th>\n",
       "    </tr>\n",
       "  </thead>\n",
       "  <tbody>\n",
       "    <tr>\n",
       "      <th>$q$</th>\n",
       "      <td>0.969</td>\n",
       "    </tr>\n",
       "    <tr>\n",
       "      <th>$p$</th>\n",
       "      <td>0.215</td>\n",
       "    </tr>\n",
       "    <tr>\n",
       "      <th>$\\tilde\\sigma^l_\\psi$</th>\n",
       "      <td>0.280</td>\n",
       "    </tr>\n",
       "    <tr>\n",
       "      <th>$\\tilde\\sigma^l_\\theta$</th>\n",
       "      <td>0.529</td>\n",
       "    </tr>\n",
       "    <tr>\n",
       "      <th>$\\tilde\\sigma^h_\\psi$</th>\n",
       "      <td>0.315</td>\n",
       "    </tr>\n",
       "    <tr>\n",
       "      <th>$\\tilde\\sigma^h_\\theta$</th>\n",
       "      <td>0.562</td>\n",
       "    </tr>\n",
       "    <tr>\n",
       "      <th>$\\tilde \\mho^l$</th>\n",
       "      <td>-0.016</td>\n",
       "    </tr>\n",
       "    <tr>\n",
       "      <th>$\\tilde \\mho^h$</th>\n",
       "      <td>0.445</td>\n",
       "    </tr>\n",
       "    <tr>\n",
       "      <th>$\\tilde E^l$</th>\n",
       "      <td>0.003</td>\n",
       "    </tr>\n",
       "    <tr>\n",
       "      <th>$\\tilde E^h$</th>\n",
       "      <td>-0.060</td>\n",
       "    </tr>\n",
       "  </tbody>\n",
       "</table>\n",
       "</div>"
      ],
      "text/plain": [
       "                         baseline\n",
       "$q$                         0.969\n",
       "$p$                         0.215\n",
       "$\\tilde\\sigma^l_\\psi$       0.280\n",
       "$\\tilde\\sigma^l_\\theta$     0.529\n",
       "$\\tilde\\sigma^h_\\psi$       0.315\n",
       "$\\tilde\\sigma^h_\\theta$     0.562\n",
       "$\\tilde \\mho^l$            -0.016\n",
       "$\\tilde \\mho^h$             0.445\n",
       "$\\tilde E^l$                0.003\n",
       "$\\tilde E^h$               -0.060"
      ]
     },
     "execution_count": 174,
     "metadata": {},
     "output_type": "execute_result"
    }
   ],
   "source": [
    "SCE_para_est_df"
   ]
  },
  {
   "cell_type": "code",
   "execution_count": 137,
   "metadata": {},
   "outputs": [],
   "source": [
    "## output tables \n",
    "\n",
    "beginningtex = \"\"\"\n",
    "\\\\begin{table}[p]\n",
    "\\\\centering\n",
    "\\\\begin{adjustbox}{width=0.3\\\\textwidth}\n",
    "\\\\begin{threeparttable}\n",
    "\\\\caption{Estimated subjective risk perceptions}\n",
    "\\\\label{tab:PRMarkovEst}\"\"\"\n",
    "\n",
    "endtex = \"\"\"\\\\begin{tablenotes}\\item This table reports estimates of the parameters \n",
    "for the 2-state Markov switching model of subjective risk perceptions. Risks are at the monthly frequency. \n",
    "\\\\end{tablenotes}\n",
    "\\\\end{threeparttable}\n",
    "\\\\end{adjustbox}\n",
    "\\\\end{table}\"\"\"\n",
    "\n",
    "\n",
    "## write to latex \n",
    "f = open('../Tables/latex/PRMarkovEst.tex', 'w')\n",
    "f.write(beginningtex)\n",
    "tb_ltx = SCE_para_est_df.to_latex()\n",
    "f.write(tb_ltx)\n",
    "f.write(endtex)\n",
    "f.close()"
   ]
  },
  {
   "cell_type": "markdown",
   "metadata": {},
   "source": [
    "## Other tests of the code"
   ]
  },
  {
   "cell_type": "markdown",
   "metadata": {},
   "source": [
    "### test using macro time series: U.S.  real GDP growth rate \n",
    "\n"
   ]
  },
  {
   "cell_type": "code",
   "execution_count": 25,
   "metadata": {
    "code_folding": [
     7,
     11
    ]
   },
   "outputs": [],
   "source": [
    "import pandas_datareader.data as web\n",
    "import datetime\n",
    "\n",
    "start = datetime.datetime(1945, 1, 1)\n",
    "end = datetime.datetime(2019, 12, 31)\n",
    "\n",
    "\n",
    "rec = web.DataReader(\"USREC\", \n",
    "                     \"fred\", \n",
    "                     start, \n",
    "                     end)\n",
    "gdp = web.DataReader('GDPC1',\n",
    "                     'fred',\n",
    "                     start,\n",
    "                     end)\n",
    "gdp_gr = gdp.pct_change().dropna()\n",
    "gdp_gr.index = pd.DatetimeIndex(gdp_gr.index, freq=\"QS\")\n"
   ]
  },
  {
   "cell_type": "code",
   "execution_count": 26,
   "metadata": {
    "code_folding": [
     2
    ]
   },
   "outputs": [],
   "source": [
    "## use statsmodels \n",
    "\n",
    "mod_hamilton = sm.tsa.MarkovAutoregression(\n",
    "    gdp_gr, \n",
    "    k_regimes=2, \n",
    "    order= 4, \n",
    "    switching_ar=False\n",
    ")\n",
    "res_hamilton = mod_hamilton.fit()"
   ]
  },
  {
   "cell_type": "code",
   "execution_count": 27,
   "metadata": {},
   "outputs": [
    {
     "data": {
      "text/html": [
       "<table class=\"simpletable\">\n",
       "<caption>Markov Switching Model Results</caption>\n",
       "<tr>\n",
       "  <th>Dep. Variable:</th>           <td>GDPC1</td>        <th>  No. Observations:  </th>    <td>287</td>   \n",
       "</tr>\n",
       "<tr>\n",
       "  <th>Model:</th>           <td>MarkovAutoregression</td> <th>  Log Likelihood     </th>  <td>966.274</td> \n",
       "</tr>\n",
       "<tr>\n",
       "  <th>Date:</th>              <td>Thu, 13 Jan 2022</td>   <th>  AIC                </th> <td>-1914.549</td>\n",
       "</tr>\n",
       "<tr>\n",
       "  <th>Time:</th>                  <td>11:51:02</td>       <th>  BIC                </th> <td>-1881.613</td>\n",
       "</tr>\n",
       "<tr>\n",
       "  <th>Sample:</th>               <td>04-01-1947</td>      <th>  HQIC               </th> <td>-1901.349</td>\n",
       "</tr>\n",
       "<tr>\n",
       "  <th></th>                     <td>- 10-01-2019</td>     <th>                     </th>     <td> </td>    \n",
       "</tr>\n",
       "<tr>\n",
       "  <th>Covariance Type:</th>        <td>approx</td>        <th>                     </th>     <td> </td>    \n",
       "</tr>\n",
       "</table>\n",
       "<table class=\"simpletable\">\n",
       "<caption>Regime 0 parameters</caption>\n",
       "<tr>\n",
       "    <td></td>       <th>coef</th>     <th>std err</th>      <th>z</th>      <th>P>|z|</th>  <th>[0.025</th>    <th>0.975]</th>  \n",
       "</tr>\n",
       "<tr>\n",
       "  <th>const</th> <td>   -0.0142</td> <td>    0.004</td> <td>   -3.954</td> <td> 0.000</td> <td>   -0.021</td> <td>   -0.007</td>\n",
       "</tr>\n",
       "</table>\n",
       "<table class=\"simpletable\">\n",
       "<caption>Regime 1 parameters</caption>\n",
       "<tr>\n",
       "    <td></td>       <th>coef</th>     <th>std err</th>      <th>z</th>      <th>P>|z|</th>  <th>[0.025</th>    <th>0.975]</th>  \n",
       "</tr>\n",
       "<tr>\n",
       "  <th>const</th> <td>    0.0084</td> <td>    0.001</td> <td>   11.821</td> <td> 0.000</td> <td>    0.007</td> <td>    0.010</td>\n",
       "</tr>\n",
       "</table>\n",
       "<table class=\"simpletable\">\n",
       "<caption>Non-switching parameters</caption>\n",
       "<tr>\n",
       "     <td></td>       <th>coef</th>     <th>std err</th>      <th>z</th>      <th>P>|z|</th>  <th>[0.025</th>    <th>0.975]</th>  \n",
       "</tr>\n",
       "<tr>\n",
       "  <th>sigma2</th> <td> 5.767e-05</td> <td> 5.64e-06</td> <td>   10.223</td> <td> 0.000</td> <td> 4.66e-05</td> <td> 6.87e-05</td>\n",
       "</tr>\n",
       "<tr>\n",
       "  <th>ar.L1</th>  <td>    0.3604</td> <td>    0.063</td> <td>    5.687</td> <td> 0.000</td> <td>    0.236</td> <td>    0.485</td>\n",
       "</tr>\n",
       "<tr>\n",
       "  <th>ar.L2</th>  <td>    0.2617</td> <td>    0.082</td> <td>    3.175</td> <td> 0.001</td> <td>    0.100</td> <td>    0.423</td>\n",
       "</tr>\n",
       "<tr>\n",
       "  <th>ar.L3</th>  <td>   -0.1677</td> <td>    0.077</td> <td>   -2.179</td> <td> 0.029</td> <td>   -0.319</td> <td>   -0.017</td>\n",
       "</tr>\n",
       "<tr>\n",
       "  <th>ar.L4</th>  <td>   -0.1073</td> <td>    0.064</td> <td>   -1.678</td> <td> 0.093</td> <td>   -0.233</td> <td>    0.018</td>\n",
       "</tr>\n",
       "</table>\n",
       "<table class=\"simpletable\">\n",
       "<caption>Regime transition parameters</caption>\n",
       "<tr>\n",
       "     <td></td>        <th>coef</th>     <th>std err</th>      <th>z</th>      <th>P>|z|</th>  <th>[0.025</th>    <th>0.975]</th>  \n",
       "</tr>\n",
       "<tr>\n",
       "  <th>p[0->0]</th> <td> 4.005e-20</td> <td>      nan</td> <td>      nan</td> <td>   nan</td> <td>      nan</td> <td>      nan</td>\n",
       "</tr>\n",
       "<tr>\n",
       "  <th>p[1->0]</th> <td>    0.0276</td> <td>    0.014</td> <td>    1.972</td> <td> 0.049</td> <td>    0.000</td> <td>    0.055</td>\n",
       "</tr>\n",
       "</table><br/><br/>Warnings:<br/>[1] Covariance matrix calculated using numerical (complex-step) differentiation."
      ],
      "text/plain": [
       "<class 'statsmodels.iolib.summary.Summary'>\n",
       "\"\"\"\n",
       "                         Markov Switching Model Results                         \n",
       "================================================================================\n",
       "Dep. Variable:                    GDPC1   No. Observations:                  287\n",
       "Model:             MarkovAutoregression   Log Likelihood                 966.274\n",
       "Date:                  Thu, 13 Jan 2022   AIC                          -1914.549\n",
       "Time:                          11:51:02   BIC                          -1881.613\n",
       "Sample:                      04-01-1947   HQIC                         -1901.349\n",
       "                           - 10-01-2019                                         \n",
       "Covariance Type:                 approx                                         \n",
       "                             Regime 0 parameters                              \n",
       "==============================================================================\n",
       "                 coef    std err          z      P>|z|      [0.025      0.975]\n",
       "------------------------------------------------------------------------------\n",
       "const         -0.0142      0.004     -3.954      0.000      -0.021      -0.007\n",
       "                             Regime 1 parameters                              \n",
       "==============================================================================\n",
       "                 coef    std err          z      P>|z|      [0.025      0.975]\n",
       "------------------------------------------------------------------------------\n",
       "const          0.0084      0.001     11.821      0.000       0.007       0.010\n",
       "                           Non-switching parameters                           \n",
       "==============================================================================\n",
       "                 coef    std err          z      P>|z|      [0.025      0.975]\n",
       "------------------------------------------------------------------------------\n",
       "sigma2      5.767e-05   5.64e-06     10.223      0.000    4.66e-05    6.87e-05\n",
       "ar.L1          0.3604      0.063      5.687      0.000       0.236       0.485\n",
       "ar.L2          0.2617      0.082      3.175      0.001       0.100       0.423\n",
       "ar.L3         -0.1677      0.077     -2.179      0.029      -0.319      -0.017\n",
       "ar.L4         -0.1073      0.064     -1.678      0.093      -0.233       0.018\n",
       "                         Regime transition parameters                         \n",
       "==============================================================================\n",
       "                 coef    std err          z      P>|z|      [0.025      0.975]\n",
       "------------------------------------------------------------------------------\n",
       "p[0->0]     4.005e-20        nan        nan        nan         nan         nan\n",
       "p[1->0]        0.0276      0.014      1.972      0.049       0.000       0.055\n",
       "==============================================================================\n",
       "\n",
       "Warnings:\n",
       "[1] Covariance matrix calculated using numerical (complex-step) differentiation.\n",
       "\"\"\""
      ]
     },
     "execution_count": 27,
     "metadata": {},
     "output_type": "execute_result"
    }
   ],
   "source": [
    "res_hamilton.summary()"
   ]
  },
  {
   "cell_type": "code",
   "execution_count": 28,
   "metadata": {},
   "outputs": [
    {
     "data": {
      "image/png": "[encoded data removed]",
      "text/plain": [
       "<Figure size 504x504 with 2 Axes>"
      ]
     },
     "metadata": {
      "needs_background": "light"
     },
     "output_type": "display_data"
    }
   ],
   "source": [
    "fig, axes = plt.subplots(2, figsize=(7, 7))\n",
    "ax = axes[0]\n",
    "ax.plot(res_hamilton.filtered_marginal_probabilities[0])\n",
    "ax.fill_between(rec.index, \n",
    "                0, \n",
    "                1, \n",
    "                where=rec[\"USREC\"].values, \n",
    "                color=\"k\", \n",
    "                alpha=0.1)\n",
    "ax.set_xlim(gdp_gr.index[4], gdp_gr.index[-1])\n",
    "ax.set(title=\"Filtered probability of recession\")\n",
    "\n",
    "ax = axes[1]\n",
    "ax.plot(res_hamilton.smoothed_marginal_probabilities[0])\n",
    "ax.fill_between(rec.index, 0, 1, where=rec[\"USREC\"].values, color=\"k\", alpha=0.1)\n",
    "ax.set_xlim(gdp_gr.index[4], gdp_gr.index[-1])\n",
    "ax.set(title=\"Smoothed probability of recession\")\n",
    "\n",
    "fig.tight_layout()"
   ]
  },
  {
   "cell_type": "code",
   "execution_count": 45,
   "metadata": {},
   "outputs": [
    {
     "name": "stdout",
     "output_type": "stream",
     "text": [
      "Optimization terminated successfully.\n",
      "         Current function value: 265.573238\n",
      "         Iterations: 8\n",
      "         Function evaluations: 259\n",
      "         Gradient evaluations: 37\n",
      "Estimated model parameters: [6.03, 0.1, 51559.86, 0.35, 0.55, 0.29]\n"
     ]
    }
   ],
   "source": [
    "## data list \n",
    "\n",
    "mkv2_gdp = Markov2Switching(AR=1)\n",
    "fake_data_list = [np.array(gdp_gr['GDPC1'])]\n",
    "\n",
    "obj = lambda para: -mkv2_gdp.log_likelihood(fake_data_list,\n",
    "                                        para)[0]   ## only the first output\n",
    "\n",
    "## estimation \n",
    "guess = (0.0,0.2,0.4,0.2,0.2,0.9)\n",
    "#bounds = [(None,None),(None,None),(0.03,1.0),(0.0,1.0),(0.0,1.0)] \n",
    "\n",
    "para_est = minimize(obj,\n",
    "                    x0=guess,\n",
    "                    method='CG',\n",
    "                    options={'disp': True,\n",
    "                            #'maxls':40,\n",
    "                            #'ftol': 2.220446049250313e-11\n",
    "                            }\n",
    "                   )['x']\n",
    "\n",
    "#results\n",
    "print('Estimated model parameters:',[round(x,2) for x in mkv2_gdp.get_model_para(para_est)])\n",
    "\n",
    "llh,filter1,pr1,pdf = mkv2_gdp.log_likelihood(fake_data_list,\n",
    "                                          para_est)\n"
   ]
  },
  {
   "cell_type": "code",
   "execution_count": 47,
   "metadata": {
    "code_folding": []
   },
   "outputs": [
    {
     "data": {
      "text/plain": [
       "<matplotlib.legend.Legend at 0x7f8c50afd490>"
      ]
     },
     "execution_count": 47,
     "metadata": {},
     "output_type": "execute_result"
    },
    {
     "data": {
      "image/png": "[encoded data removed]",
      "text/plain": [
       "<Figure size 1080x360 with 2 Axes>"
      ]
     },
     "metadata": {
      "needs_background": "light"
     },
     "output_type": "display_data"
    }
   ],
   "source": [
    "## plot the time series \n",
    "\n",
    "lw = 2\n",
    "figsize = (15,5)\n",
    "fontsize = 10\n",
    "\n",
    "## plot \n",
    "fig, ax = plt.subplots(figsize = figsize)\n",
    "ax2 = ax.twinx()\n",
    "ax.plot(gdp_gr.index[2:-1],\n",
    "        gdp_gr[2:-1],\n",
    "        color='black',\n",
    "           lw= lw,\n",
    "           label= 'gdp growth ')\n",
    "ax2.plot(gdp_gr.index[2:-1],\n",
    "         filter1[0][2:-1],\n",
    "         'r-',\n",
    "         lw = lw,\n",
    "         label = 'filter prob (RHS)')\n",
    "ax.legend(loc = 2,\n",
    "         fontsize = fontsize)\n",
    "ax.set_xlabel(\"month\",fontsize = fontsize)\n",
    "ax.grid()\n",
    "ax.set_ylabel('% growth',fontsize = fontsize)\n",
    "ax.tick_params(axis='both', \n",
    "               which='major', \n",
    "               labelsize = fontsize)\n",
    "ax2.tick_params(axis='both', \n",
    "               which='major', \n",
    "               labelsize = fontsize)\n",
    "ax2.fill_between(rec.index, \n",
    "                min(filter1[0][1:-1]), \n",
    "                max(filter1[0][1:-1]), \n",
    "                where=rec[\"USREC\"].values, \n",
    "                color=\"k\", \n",
    "                alpha=0.1)\n",
    "ax2.legend(loc = 1,\n",
    "          fontsize = fontsize)"
   ]
  }
 ],
 "metadata": {
  "kernelspec": {
   "display_name": "Python 3 (ipykernel)",
   "language": "python",
   "name": "python3"
  },
  "language_info": {
   "codemirror_mode": {
    "name": "ipython",
    "version": 3
   },
   "file_extension": ".py",
   "mimetype": "text/x-python",
   "name": "python",
   "nbconvert_exporter": "python",
   "pygments_lexer": "ipython3",
   "version": "3.8.5"
  }
 },
 "nbformat": 4,
 "nbformat_minor": 4
}
