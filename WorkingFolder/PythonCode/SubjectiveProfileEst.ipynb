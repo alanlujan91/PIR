{
 "cells": [
  {
   "cell_type": "markdown",
   "metadata": {},
   "source": [
    "## Estimation of subjective income risk profile using SCE data\n",
    "\n",
    "\n",
    "- This notebook does the estimation of the Markov switching model for income risk perceptions using data from SCE \n",
    "- parameters to estimate:\n",
    "   - $\\tilde \\Gamma_l$ and $\\tilde \\Gamma_h$ \n",
    "   - transition matrix $\\Omega$ with $p$ and $q$ as the staying probability in low and high risk states, respectively.\n",
    "  - where $\\tilde \\Gamma_l = \\{\\tilde \\sigma^l_\\psi,\\tilde \\sigma^l_\\theta, \\tilde{\\mho^l}, \\tilde{E^l}\\}$ and $\\tilde \\Gamma_h = \\{\\tilde \\sigma^h_\\psi,\\tilde \\sigma^h_\\theta, \\tilde{\\mho^h}, \\tilde{E^h}\\}$ where we impose the restriction that $\\tilde \\sigma^h_\\psi > \\tilde \\sigma^l_\\psi$ and $\\tilde \\sigma^h_\\theta > \\tilde \\sigma^l_\\theta$, $\\tilde{\\mho^h}>\\tilde{\\mho^l}$, and $\\tilde{E^h}<\\tilde{E^l}$.\n",
    " \n",
    "  \n",
    "Possible extensions\n",
    "- Specific to group, such as age and education. \n",
    "- Conditional on macroeconomic conditions "
   ]
  },
  {
   "cell_type": "code",
   "execution_count": 1,
   "metadata": {},
   "outputs": [],
   "source": [
    "import numpy as np\n",
    "from scipy.optimize import minimize \n",
    "import matplotlib.pyplot as plt \n",
    "import pandas as pd\n",
    "import statsmodels.api as sm"
   ]
  },
  {
   "cell_type": "code",
   "execution_count": 2,
   "metadata": {
    "code_folding": [
     2,
     32
    ]
   },
   "outputs": [],
   "source": [
    "## some functions used for markov-related calculations \n",
    "\n",
    "def mkv2_M2Q(q,p):\n",
    "    \"\"\"\n",
    "    input\n",
    "    ======\n",
    "    q and p are staying probs at monthly frequency \n",
    "    \n",
    "    output\n",
    "    ======\n",
    "    qq and pp are quarterly counterparts \n",
    "    \"\"\"\n",
    "    \n",
    "    ## different possibilities of staying in low state \n",
    "    qq0 = q**3   #LLLL\n",
    "    qq1 = q*(1-q)*(1-p)    ## LLHL\n",
    "    qq2 = (1-q)*(1-p)*q    ## LHLL\n",
    "    qq3 = (1-q)*q*(1-q)    ## LHHL\n",
    "    qq = qq0+qq1+qq2+qq3\n",
    "    \n",
    "    ## different possibilities of staying in high state\n",
    "    \n",
    "    pp0 = p**3             #HHHH\n",
    "    pp1 = p*(1-p)*(1-q)    ## HHLH\n",
    "    pp2 = (1-p)*(1-q)*p    ## HLHH\n",
    "    pp3 = (1-q)*p*(1-p)    ## HLLH \n",
    "    pp = qq0+qq1+qq2+qq3\n",
    "    \n",
    "    return qq, pp\n",
    "\n",
    "\n",
    "\n",
    "def mkv2_Q2Y(q,p):\n",
    "    \"\"\"\n",
    "    input\n",
    "    ======\n",
    "    q and p are staying probs at quarterly frequency \n",
    "    \n",
    "    output\n",
    "    ======\n",
    "    qq and pp are yearly counterparts \n",
    "    \"\"\"\n",
    "    \n",
    "    ## 8 different possibilities of staying in low state \n",
    "    qq0 = q**4                               #L LLL L\n",
    "    qq1 = q**2*(1-q)*(1-p)                   #L LLH L\n",
    "    qq2 = q*(1-q)*(1-p)*q                    #L LHL L\n",
    "    qq3 = q*(1-q)*p*(1-p)                    #L LHH L\n",
    "    qq4 = (1-q)*(1-p)*q**2                   #L HLL L\n",
    "    qq5 = (1-q)*(1-p)*(1-q)*(1-p)            #L HLH L\n",
    "    qq6 = (1-q)*p*(1-p)*q                    #L HHL L\n",
    "    qq7 = (1-q)*p**2*(1-p)                   #L HHH L\n",
    "    qq = qq0+qq1+qq2+qq3+qq4+qq5+qq6+qq7\n",
    "    \n",
    "    ## 8 different possibilities of staying in high state\n",
    "    \n",
    "    pp0 = p**4                               #H HHH H\n",
    "    pp1 = p**2*(1-p)*(1-q)                   #H HHL H\n",
    "    pp2 = p*(1-p)*(1-q)*p                    #H HLH H\n",
    "    pp3 = p*(1-p)*q*(1-q)                    #H HLL H\n",
    "    pp4 = (1-p)*(1-q)*p**2                   #H LHH H\n",
    "    pp5 = (1-p)*(1-q)*(1-p)*(1-q)            #H LHL H\n",
    "    pp6 = (1-p)*q*(1-q)*p                    #H LLH H\n",
    "    pp7 = (1-p)*q**2*(1-q)                   #H LLL H\n",
    "    pp = pp0+pp1+pp2+pp3+pp4+pp5+pp6+pp7\n",
    "    \n",
    "    return qq, pp"
   ]
  },
  {
   "cell_type": "code",
   "execution_count": 3,
   "metadata": {
    "code_folding": [
     0,
     20
    ]
   },
   "outputs": [],
   "source": [
    "def mkv2_Y2M(q,\n",
    "             p):\n",
    "    \"\"\"\n",
    "    input\n",
    "    =====\n",
    "    transition probs at the annual frequency \n",
    "    output\n",
    "    =====\n",
    "    monthly transition probs computed via continuous time Poisson rate \n",
    "    \"\"\"\n",
    "    \n",
    "    ## to be completed \n",
    "    poisson_qM = -np.log(1-q)/12   ## = -np.log(1-qq)\n",
    "    qq = 1-np.exp(-poisson_qM)\n",
    "    \n",
    "    poisson_pM = -np.log(1-p)/12   ## = -np.log(1-qq)\n",
    "    pp = 1-np.exp(-poisson_pM)\n",
    "    return qq,pp\n",
    "\n",
    "\n",
    "def mkv2_Y2Q(q,\n",
    "             p):\n",
    "    \"\"\"\n",
    "    input\n",
    "    =====\n",
    "    transition probs at the annual frequency \n",
    "    output\n",
    "    =====\n",
    "    quarterly transition probs computed via continuous time Poisson rate \n",
    "    \"\"\"\n",
    "    \n",
    "    ## to be completed \n",
    "    poisson_qM = -np.log(1-q)/3   ## = -np.log(1-qq)\n",
    "    qq = 1-np.exp(-poisson_qM)\n",
    "    \n",
    "    poisson_pM = -np.log(1-p)/3   ## = -np.log(1-qq)\n",
    "    pp = 1-np.exp(-poisson_pM)\n",
    "    return qq,pp"
   ]
  },
  {
   "cell_type": "code",
   "execution_count": 4,
   "metadata": {
    "code_folding": [
     0,
     15,
     47,
     62,
     69,
     78,
     82,
     104,
     124,
     132
    ]
   },
   "outputs": [],
   "source": [
    "class Markov2Switching:\n",
    "    \"\"\"\n",
    "    A class that stores primitives for the Markov Regime Switching Model\n",
    "    %%%% Model %%%%%%%\n",
    "    % y_t = alpha+ beta * s_t + epsilon_t\n",
    "    % y is the observed variable;\n",
    "    % s_t =1 in high state; s_t = 0 in low state;\n",
    "    % q=p(s_t=0|s_t-1=0)\n",
    "    % p=p(s_t=1|s_t-1=1)\n",
    "    % Transition Matrix from [s=0,s=1]' is [q,1-p;1-q,p] \n",
    "    % para_est stores all estimates of parameters. \n",
    "    %%%%%%%%%%%%%%%%%\n",
    "\n",
    "    \"\"\"\n",
    "\n",
    "    def __init__(self,\n",
    "                 Y = None,\n",
    "                 paras = np.array([0.1,0.1,0.1,0.7,0.7]),\n",
    "                 nb_var = 1,\n",
    "                 state_dependence = False,\n",
    "                 AR = 0):  \n",
    "        \n",
    "        ## count how many variables \n",
    "        self.nb_var = nb_var\n",
    "        \n",
    "        if AR==0:\n",
    "            assert self.nb_var == int(len(paras)/5),'the nb of parameters needs to be equal to 5 x nb of variables'\n",
    "        elif AR==1:\n",
    "            assert self.nb_var == int(len(paras)/6),'the nb of parameters needs to be equal to 6 x nb of variables'\n",
    "          \n",
    "        self.paras = paras.reshape(self.nb_var,-1)\n",
    "        \n",
    "        self.Y = Y\n",
    "        ## be careful with the order \n",
    "        self.αs = self.paras[:,0]\n",
    "        self.βs = self.paras[:,1]\n",
    "        self.σs = self.paras[:,2]\n",
    "        self.qs = self.paras[:,3]\n",
    "        self.ps = self.paras[:,4]\n",
    "        if AR==0:\n",
    "            self.ϕ1s =np.zeros(self.nb_var)\n",
    "        elif AR==1:\n",
    "            self.ϕ1s = paras[:,5]\n",
    "        self.state_dependence = state_dependence\n",
    "        self.AR = AR \n",
    "    \n",
    "    ### pdf function of normal distribution \n",
    "    def norm_pdf(self,\n",
    "                 x,    ## value of the rm \n",
    "                 μ,    ## mean of the nromal\n",
    "                 σ):   ## std of the normal \n",
    "        \"\"\"\n",
    "        pdf of normal distribution mean μ and variance σ^2\n",
    "        \"\"\"\n",
    "        x_new = (x-μ)/σ\n",
    "        temp1 = 1/(np.sqrt(2*np.pi))\n",
    "        temp2 = np.exp(-(x_new**2/2))\n",
    "        return temp1*temp2 \n",
    "    \n",
    "    ## The functions below are help functions \n",
    "    ## that turn a hard constraint for parameters to a unconstrainted problem\n",
    "    ## prob_func  from R -> [0,1]\n",
    "    def prob_func(self,\n",
    "                   x):\n",
    "        \"\"\"\n",
    "        this bound function maps unconstrained x to y between 0 and 1\n",
    "        \"\"\"\n",
    "        return np.exp(x)/(1+np.exp(x))     \n",
    "    \n",
    "    def prob_func_inv(self,\n",
    "                     y):\n",
    "        return np.log(y)-np.log(1-y)\n",
    "    \n",
    "    ## exp_func  from R --> [0,+infinity]\n",
    "    def exp_func(self,\n",
    "                 x):\n",
    "        return np.exp(x)\n",
    "    \n",
    "    def exp_func_inv(self,\n",
    "                     y):\n",
    "        return np.log(y)\n",
    "    \n",
    "    def get_model_para(self,\n",
    "                      para):\n",
    "        \"\"\"\n",
    "        unconstrained parameters recast into model parameters with constraints\n",
    "        \"\"\"\n",
    "        assert len(para)==self.nb_var*(5+self.AR),\"the nb of parameters is incorrect\"\n",
    "        paras = para.reshape(self.nb_var,-1)\n",
    "        \n",
    "        αs = paras[:,0]\n",
    "        βs = paras[:,1]\n",
    "        #np.concatenate([self.exp_func(paras[0:2,1]),\n",
    "        #                     np.array(-self.exp_func([paras[2,1]]))\n",
    "        #                    ])\n",
    "        σs = self.exp_func(paras[:,2])\n",
    "        qs = self.prob_func(paras[:,3])\n",
    "        ps = self.prob_func(paras[:,4])\n",
    "        if self.AR==1:\n",
    "            ϕ1s = self.prob_func(paras[:,5])\n",
    "        else:\n",
    "            ϕ1s = np.zeros(self.nb_var)\n",
    "        return αs,βs,σs,qs,ps,ϕ1s\n",
    "    \n",
    "    def make_para_dict(self,\n",
    "                      para):\n",
    "        \"\"\"\n",
    "        a function that creates a dictionary of parameters with names\n",
    "        \"\"\"\n",
    "        αs,βs,σs,qs,ps,ϕ1s =self.get_model_para(para)\n",
    "            \n",
    "        q = qs[0]\n",
    "        p =ps[0]\n",
    "        \n",
    "        model_para ={}\n",
    "        model_para['q']=q\n",
    "        model_para['p']=p\n",
    "        model_para['α']=αs\n",
    "        model_para['β']=βs\n",
    "        model_para['σ'] =σs\n",
    "        model_para['ϕ1']=ϕ1s\n",
    "                   \n",
    "        return model_para\n",
    "    \n",
    "    def steady_state(self,\n",
    "                      q,\n",
    "                      p):\n",
    "        return ((1-p)/(2-p-q),\n",
    "                (1-q)/(2-p-q))\n",
    "    \n",
    "    \n",
    "    ## Key function that computes log-likelihood for a list of time series of realized data\n",
    "    def log_likelihood(self,\n",
    "                       Y_list,   ## a list of multiple series \n",
    "                       para):\n",
    "        \n",
    "        \"\"\"\n",
    "        inputs\n",
    "        ======\n",
    "        Y: a list of independent univariate/multivariate (a vector) time series for which the log-likilihood is computed jointly\n",
    "        para: parameters of the process sized of nb of vairalbes x nb of parameters, with the strictly set order of α,β,σ,q,p,ϕ1\n",
    "        \n",
    "        outputs\n",
    "        =======\n",
    "        llh_tot: total log-likelihood across all series\n",
    "        update1_list: list of updating probs s=1|Y_t at time t;\n",
    "        prdict1_list: list of prediction probs: s=1|Y_t-1 at time t-1;\n",
    "        f1_list: list of predicted probs: y_t|y_t-1;\n",
    "        \"\"\"\n",
    "        αs,βs,σs,qs,ps,ϕ1s = self.get_model_para(para)\n",
    "\n",
    "        update1_list =[]\n",
    "        prdict1_list =[]\n",
    "        f1_list =[]\n",
    "        \n",
    "        \n",
    "        ## starting from zero loglikelihood \n",
    "        \n",
    "        llh_tot = 0.0\n",
    "        \n",
    "\n",
    "        q = qs[0]\n",
    "        p = ps[0]\n",
    "        \n",
    "        for k in range(len(Y_list)):\n",
    "            Y = Y_list[k]  ## Y is a 1-d or nb_var-d array \n",
    "            \n",
    "            T = Y_list[k].shape[1] ## length of the series is not necessarily the same \n",
    "            \n",
    "            ## this loops over all periods \n",
    "            llh = 0.0\n",
    "\n",
    "            update0 = np.empty(T)\n",
    "            update1 = np.empty(T)\n",
    "            prdict1 = np.empty(T)\n",
    "            f1 = np.empty(T)\n",
    "\n",
    "            ## initilize the first period \n",
    "            update0[0], update1[0] = self.steady_state(q,   #p(s=0|Y_0) and  # p(s=1|Y_1)\n",
    "                                                       p)   \n",
    "            \n",
    "            for t in range(1,T-1):\n",
    "                prdict1[t] = (1-q)*update0[t-1]+p*update1[t-1]  #p(s_t=1|y_t-1);\n",
    "                \n",
    "                pdf_t_1 = prdict1[t]\n",
    "                pdf_t_0 = (1-prdict1[t])\n",
    "                \n",
    "                ## loop over differen time series \n",
    "                for x in range(self.nb_var):\n",
    "                    pdf_t_1 =pdf_t_1*self.norm_pdf(Y[x,t]-ϕ1s[x]*Y[x,t-1],αs[x]+βs[x],σs[x])  # f(y_t|s_t=1,Y_t-1)\n",
    "                    pdf_t_0 =pdf_t_0*self.norm_pdf(Y[x,t]-ϕ1s[x]*Y[x,t-1],αs[x],σs[x]) # f(y_t|s_t=0,Y_t-1)\n",
    "                \n",
    "                f1[t]= pdf_t_1+pdf_t_0     # f1= f(y_t|Y_t-1)\n",
    "                #print(f1[t])\n",
    "                llh_pred = np.log(f1[t])     # log( f(y_t|Y_t-1))\n",
    "                llh = llh + llh_pred    # llh_pred = log(f(y_t|Y_t-1))\n",
    "                update1[t] = pdf_t_1/(pdf_t_1+ pdf_t_0)  # p(s_t=0|y_t-1) \n",
    "                update0[t] = 1-update1[t]                # p(s_t=1|y_t-1)\n",
    "                \n",
    "            ## merge those probabilities \n",
    "            \n",
    "            update1_list.append(update1) \n",
    "            prdict1_list.append(prdict1)\n",
    "            f1_list.append(f1)\n",
    "        \n",
    "            ## sum across agents \n",
    "            llh_tot = llh_tot+llh\n",
    "        \n",
    "        return llh_tot,update1_list,prdict1_list,f1_list\n",
    "    "
   ]
  },
  {
   "cell_type": "code",
   "execution_count": 5,
   "metadata": {
    "code_folding": [
     1
    ]
   },
   "outputs": [],
   "source": [
    "## create the model \n",
    "mkv2 = Markov2Switching(AR=0,\n",
    "                        nb_var=1)"
   ]
  },
  {
   "cell_type": "markdown",
   "metadata": {},
   "source": [
    "### Test using fake simulated data with known parameters"
   ]
  },
  {
   "cell_type": "code",
   "execution_count": 6,
   "metadata": {
    "code_folding": [
     14
    ]
   },
   "outputs": [
    {
     "name": "stderr",
     "output_type": "stream",
     "text": [
      "OMP: Info #270: omp_set_nested routine deprecated, please use omp_set_max_active_levels instead.\n"
     ]
    }
   ],
   "source": [
    "import quantecon as qe\n",
    "from quantecon import MarkovChain\n",
    "\n",
    "## fake parameters \n",
    "α_fake = 0.1\n",
    "β_fake = 0.2\n",
    "σ_fake = 0.8\n",
    "q_fake = 0.7\n",
    "p_fake = 0.6\n",
    "ϕ1_fake = 0.0\n",
    "\n",
    "mkv_mat = np.array([[q_fake,1-q_fake],\n",
    "                    [1-p_fake,p_fake]])\n",
    "\n",
    "para_fake = np.array([α_fake,\n",
    "                      β_fake,\n",
    "                      mkv2.exp_func_inv(σ_fake),\n",
    "                      mkv2.prob_func_inv(q_fake),\n",
    "                      mkv2.prob_func_inv(p_fake),\n",
    "                      #mkv2.prob_func_inv(ϕ1_fake)\n",
    "                     ])\n",
    "T_fake = 12\n",
    "nb_sim = 300\n",
    "\n",
    "fake_regime_h_list=[]\n",
    "fake_data_list = []\n",
    "\n",
    "prob_ss0, prob_ss1 = mkv2.steady_state(q_fake,\n",
    "                                       p_fake)\n",
    "\n",
    "init_sim = (np.random.uniform(0,1,nb_sim)<=prob_ss1)*1\n",
    "\n",
    "for i in range(nb_sim):\n",
    "    mc = qe.MarkovChain(mkv_mat)\n",
    "    regime_h = mc.simulate(ts_length=T_fake+1,\n",
    "                          init= init_sim[i])\n",
    "    regime_l = 1-regime_h\n",
    "    shocks = np.random.randn(T_fake+1)*σ_fake\n",
    "    constant_l = α_fake\n",
    "    constant_h = α_fake+β_fake\n",
    "    y = (regime_l*constant_l+regime_h*constant_h)+shocks\n",
    "    ## AR1 process\n",
    "    for t in range(1,T_fake):\n",
    "        y[t]= ϕ1_fake*y[t-1]+y[t]\n",
    "    \n",
    "    ## add to the list \n",
    "    this_y_2d = y[1:].reshape(-1,len(y[1:]))\n",
    "    fake_data_list.append(this_y_2d)\n",
    "    fake_regime_h_list.append(regime_h)\n",
    "index = range(T_fake)"
   ]
  },
  {
   "cell_type": "code",
   "execution_count": 7,
   "metadata": {
    "code_folding": [
     14
    ]
   },
   "outputs": [
    {
     "data": {
      "text/plain": [
       "<matplotlib.legend.Legend at 0x7ffd10351d90>"
      ]
     },
     "execution_count": 7,
     "metadata": {},
     "output_type": "execute_result"
    },
    {
     "data": {
      "image/png": "[encoded data removed]",
      "text/plain": [
       "<Figure size 720x360 with 1 Axes>"
      ]
     },
     "metadata": {
      "needs_background": "light"
     },
     "output_type": "display_data"
    }
   ],
   "source": [
    "## plot the simulated data \n",
    "if len(fake_data_list)==1:\n",
    "    random_id = 0\n",
    "else:\n",
    "    random_id = np.random.randint(0,len(fake_data_list)-1)\n",
    "    \n",
    "## get the random data and regime sequence\n",
    "y = fake_data_list[random_id].T\n",
    "regime_h = fake_regime_h_list[random_id]\n",
    "\n",
    "plt.figure(figsize=(10,5))\n",
    "plt.title('Simulated time series and the hidden state')\n",
    "plt.plot(y,\n",
    "         label=r'$y_t$')\n",
    "plt.fill_between(index,\n",
    "                 np.min(y),\n",
    "                 np.max(y),\n",
    "                 where=regime_h[1:],\n",
    "                 color=\"k\", \n",
    "                 alpha=0.3,\n",
    "                label='high')\n",
    "plt.legend(loc=1)"
   ]
  },
  {
   "cell_type": "code",
   "execution_count": 8,
   "metadata": {
    "code_folding": []
   },
   "outputs": [],
   "source": [
    "## plot log-likelihood based on the true parameters \n",
    "\n",
    "llh,filter1,pr1,pdf = mkv2.log_likelihood(fake_data_list,\n",
    "                                          para_fake)"
   ]
  },
  {
   "cell_type": "code",
   "execution_count": 9,
   "metadata": {
    "code_folding": [
     19
    ]
   },
   "outputs": [
    {
     "data": {
      "text/plain": [
       "<matplotlib.legend.Legend at 0x7ffd056e1220>"
      ]
     },
     "execution_count": 9,
     "metadata": {},
     "output_type": "execute_result"
    },
    {
     "data": {
      "image/png": "[encoded data removed]",
      "text/plain": [
       "<Figure size 720x360 with 2 Axes>"
      ]
     },
     "metadata": {
      "needs_background": "light"
     },
     "output_type": "display_data"
    }
   ],
   "source": [
    "## plot the simulated data \n",
    "if len(fake_data_list)==1:\n",
    "    random_id = 0\n",
    "else:\n",
    "    random_id = np.random.randint(0,len(fake_data_list)-1)\n",
    "    \n",
    "## get the random data and regime sequence\n",
    "y = fake_data_list[random_id].T\n",
    "regime_h = fake_regime_h_list[random_id]\n",
    "\n",
    "\n",
    "## plot everything \n",
    "fig, ax = plt.subplots(figsize=(10,5))\n",
    "ax.set_title('Simulated time series and the hidden state')\n",
    "\n",
    "## time series of y \n",
    "ax.plot(y,\n",
    "         label=r'$y_t$')\n",
    "## regime \n",
    "ax.fill_between(index,\n",
    "                 np.min(y),\n",
    "                 np.max(y),\n",
    "                 where=regime_h[1:],\n",
    "                 color=\"k\", \n",
    "                 alpha=0.3,\n",
    "                label='high')\n",
    "ax2 = ax.twinx()\n",
    "## filter prob\n",
    "ax2.plot(filter1[random_id][:-1],\n",
    "         'r--',\n",
    "        label='filtered prob with true para')\n",
    "ax.legend(loc=1)\n",
    "ax2.legend(loc=2)"
   ]
  },
  {
   "cell_type": "code",
   "execution_count": 10,
   "metadata": {
    "code_folding": [
     0,
     2
    ],
    "lines_to_next_cell": 2
   },
   "outputs": [
    {
     "name": "stderr",
     "output_type": "stream",
     "text": [
      "/var/folders/39/ks6jc__9375c2fl7h7pwq5jh0000gn/T/ipykernel_32153/3962638210.py:195: RuntimeWarning: divide by zero encountered in log\n",
      "  llh_pred = np.log(f1[t])     # log( f(y_t|Y_t-1))\n",
      "/var/folders/39/ks6jc__9375c2fl7h7pwq5jh0000gn/T/ipykernel_32153/3962638210.py:197: RuntimeWarning: invalid value encountered in double_scalars\n",
      "  update1[t] = pdf_t_1/(pdf_t_1+ pdf_t_0)  # p(s_t=0|y_t-1)\n"
     ]
    },
    {
     "name": "stdout",
     "output_type": "stream",
     "text": [
      "success?  True\n",
      "fake TRUE parameters\n",
      " {'q': 0.7, 'p': 0.5999999999999999, 'α': array([0.1]), 'β': array([0.2]), 'σ': array([0.8]), 'ϕ1': array([0.])}\n",
      "initial guess of the parameters\n",
      " {'q': 0.7, 'p': 0.5999999999999999, 'α': array([0.1]), 'β': array([0.2]), 'σ': array([0.8]), 'ϕ1': array([0.])}\n",
      "estimated parameters\n",
      " {'q': 0.6609988949706123, 'p': 0.5081863851628077, 'α': array([-0.07764042]), 'β': array([0.59600454]), 'σ': array([0.75059554]), 'ϕ1': array([0.])}\n"
     ]
    }
   ],
   "source": [
    "## try estimation\n",
    "\n",
    "obj = lambda para: -mkv2.log_likelihood(fake_data_list,\n",
    "                                        para)[0]   ## only the first output\n",
    "\n",
    "\n",
    "## tight bounds for some parameters \n",
    "sigma_ub = np.mean([np.std(np.array(x)) for x in fake_data_list])\n",
    "sigma_inv_ub = mkv2.exp_func_inv(sigma_ub)\n",
    "q_lb = 0.5  ## persistent \n",
    "q_inv_lb = mkv2.prob_func_inv(q_lb) \n",
    "p_lb = 0.5 ## persistent \n",
    "p_inv_lb = mkv2.prob_func_inv(p_lb)\n",
    "\n",
    "## estimation \n",
    "#guess = (0.2,0.3,0.1,0.1,0.4)\n",
    "guess = para_fake\n",
    "#bounds = ((-0.3,1),(-2,2),(-2,2),(-4,1),(-4,1),) \n",
    "bounds = ((None,None),(0.0,None),(-1,sigma_inv_ub),(None,None),(None,None),)\n",
    "\n",
    "result = minimize(obj,\n",
    "                    x0 = guess,\n",
    "                    method='SLSQP',   #SLSQP\n",
    "                    bounds = bounds,\n",
    "                    options={'disp': False,\n",
    "                            }\n",
    "                   )\n",
    "print('success? ',result['success'])\n",
    "para_est = result['x']\n",
    "\n",
    "\n",
    "para_fake_dict = mkv2.make_para_dict(para_fake)\n",
    "para_guess_dict = mkv2.make_para_dict(guess)\n",
    "para_est_dict = mkv2.make_para_dict(para_est)\n",
    "\n",
    "\n",
    "#results\n",
    "print(\"fake TRUE parameters\\n\",para_fake_dict)\n",
    "print(\"initial guess of the parameters\\n\",para_guess_dict)\n",
    "print(\"estimated parameters\\n\",para_est_dict)"
   ]
  },
  {
   "cell_type": "code",
   "execution_count": 11,
   "metadata": {},
   "outputs": [],
   "source": [
    "#Based on estimates of parameters and data; compute filtered probabilities\n",
    "\n",
    "llh,filter1,pr1,pdf = mkv2.log_likelihood(fake_data_list,\n",
    "                                          para_est)\n",
    "# filter1: prob of good state;\n",
    "# pr1: predicted prob of good state "
   ]
  },
  {
   "cell_type": "code",
   "execution_count": 12,
   "metadata": {
    "code_folding": [
     1,
     3,
     20
    ]
   },
   "outputs": [
    {
     "data": {
      "text/plain": [
       "<matplotlib.legend.Legend at 0x7ffd10462550>"
      ]
     },
     "execution_count": 12,
     "metadata": {},
     "output_type": "execute_result"
    },
    {
     "data": {
      "image/png": "[encoded data removed]",
      "text/plain": [
       "<Figure size 720x360 with 2 Axes>"
      ]
     },
     "metadata": {
      "needs_background": "light"
     },
     "output_type": "display_data"
    }
   ],
   "source": [
    "## plot the simulated data \n",
    "if len(fake_data_list)==1:\n",
    "    random_id = 0\n",
    "else:\n",
    "    random_id = np.random.randint(0,len(fake_data_list)-1)\n",
    "    \n",
    "## get the random data and regime sequence\n",
    "y = fake_data_list[random_id].T\n",
    "regime_h = fake_regime_h_list[random_id]\n",
    "\n",
    "\n",
    "## plot everything \n",
    "\n",
    "fig, ax = plt.subplots(figsize=(10,5))\n",
    "ax.set_title('Simulated time series and the hidden state')\n",
    "\n",
    "## time series of y \n",
    "ax.plot(y,\n",
    "         label=r'$y_t$')\n",
    "## regime \n",
    "ax.fill_between(index,\n",
    "                 np.min(y),\n",
    "                 np.max(y),\n",
    "                 where=regime_h[1:],\n",
    "                 color=\"k\", \n",
    "                 alpha=0.3,\n",
    "                label='high')\n",
    "ax2 = ax.twinx()\n",
    "## filter prob\n",
    "ax2.plot(filter1[random_id][:-1],\n",
    "         'r--',\n",
    "        label='filtered prob with est para')\n",
    "ax.legend(loc=1)\n",
    "ax2.legend(loc=2)"
   ]
  },
  {
   "cell_type": "markdown",
   "metadata": {},
   "source": [
    "### Estimation of SCE data"
   ]
  },
  {
   "cell_type": "code",
   "execution_count": 13,
   "metadata": {
    "lines_to_next_cell": 2
   },
   "outputs": [],
   "source": [
    "import pandas as pd\n",
    "import statsmodels.formula.api as smf\n",
    "import numpy as np\n",
    "\n",
    "## precision of showing float  \n",
    "pd.options.display.float_format = '{:,.3f}'.format"
   ]
  },
  {
   "cell_type": "code",
   "execution_count": 14,
   "metadata": {
    "code_folding": [
     0,
     15
    ],
    "lines_to_next_cell": 2
   },
   "outputs": [],
   "source": [
    "## import data \n",
    "dataset = pd.read_stata('../SurveyData/SCE/IncExpSCEProbIndM.dta')   \n",
    "\n",
    "## variables \n",
    "vars_id = ['userid','date']\n",
    "moms_nom = ['Q24_mean','Q24_iqr','Q24_var']\n",
    "moms_real = ['Q24_rmean','Q24_rvar']\n",
    "ue_risks = ['Q13new','Q22new']\n",
    "\n",
    "vars_all_reg_long = (vars_id+moms_nom + moms_real+ue_risks)\n",
    "\n",
    "## select dataset \n",
    "SCEM = dataset[vars_all_reg_long]\n",
    "\n",
    "\n",
    "SCEM = SCEM.rename(columns={'Q24_mean': 'incexp',\n",
    "                           'Q24_var': 'incvar',\n",
    "                           'Q24_iqr': 'inciqr',\n",
    "                           'Q24_rmean':'rincexp',\n",
    "                           'Q24_rvar': 'rincvar',\n",
    "                           'Q13new':'UE_s',\n",
    "                           'Q22new':'UE_f'\n",
    "                           })\n",
    "\n",
    "SCEM = SCEM.dropna(subset=['date'])\n",
    "\n",
    "## add year and month variable \n",
    "SCEM['year'] = SCEM.date.dt.year\n",
    "SCEM['month'] = SCEM.date.dt.month \n",
    "\n",
    "## take the log \n",
    "\n",
    "SCEM['lrincvar'] = np.log(SCEM['rincvar'])\n",
    "\n",
    "\n",
    "### some data transformation \n",
    "\n",
    "SCEM['UE_s'] = SCEM['UE_s']/100\n",
    "SCEM['UE_f'] = SCEM['UE_f']/100\n",
    "\n",
    "SCEM['U2U_prob'] = 1-SCEM['UE_f']   #. 1- prob of find a job\n",
    "SCEM['E2E_prob'] = 1- SCEM['UE_s']*(1-SCEM['UE_f'])   ## 1- prob(loses the job and not finding one)\n",
    "\n",
    "\n",
    "\n",
    "## trucate 0 and 1s for probs \n",
    "SCEM['U2U_prob_truc'] = np.where((SCEM['U2U_prob']==1),1-1e-10,SCEM['U2U_prob'])\n",
    "SCEM['U2U_prob_truc'] = np.where((SCEM['U2U_prob']==0),0+1e-10,SCEM['U2U_prob'])\n",
    "\n",
    "SCEM['E2E_prob_truc'] = np.where((SCEM['E2E_prob']==1),1-1e-10,SCEM['E2E_prob'])\n",
    "SCEM['E2E_prob_truc'] = np.where((SCEM['E2E_prob']==0),0+1e-10,SCEM['E2E_prob'])\n",
    "\n",
    "\n",
    "### transform 0-1 prob to a R \n",
    "\n",
    "prob_inv_func = lambda x: np.log(x)-np.log(1-x)\n",
    "SCEM['U2U_prob_e'] = SCEM['U2U_prob_truc'].apply(prob_inv_func)\n",
    "SCEM['E2E_prob_e'] =  SCEM['E2E_prob_truc'].apply(prob_inv_func)"
   ]
  },
  {
   "cell_type": "code",
   "execution_count": 15,
   "metadata": {
    "code_folding": [
     5
    ],
    "lines_to_next_cell": 2
   },
   "outputs": [],
   "source": [
    "## demean or id FE\n",
    "vars_list = ['lrincvar',\n",
    "            'U2U_prob',\n",
    "            'E2E_prob']  \n",
    "\n",
    "for var in vars_list:\n",
    "    ## demeaned \n",
    "    SCEM[var+'_dm'] = SCEM[var]-SCEM.groupby('userid')[var].transform('mean')\n",
    "    \n",
    "    ## run a panel regression to get the residuls \n",
    "    model = smf.ols(formula = var+'~ C(date)',\n",
    "                data = SCEM)\n",
    "    result = model.fit()\n",
    "    residuls = result.resid\n",
    "    SCEM[var+'_rd'] = residuls"
   ]
  },
  {
   "cell_type": "code",
   "execution_count": 16,
   "metadata": {
    "code_folding": [],
    "lines_to_next_cell": 2
   },
   "outputs": [],
   "source": [
    "## convert the panel data of rincvar into a list of time series sequence\n",
    "vars_rd_list = ['lrincvar_rd',\n",
    "                'U2U_prob',\n",
    "                'E2E_prob']  "
   ]
  },
  {
   "cell_type": "code",
   "execution_count": 17,
   "metadata": {
    "code_folding": []
   },
   "outputs": [
    {
     "name": "stdout",
     "output_type": "stream",
     "text": [
      "how many invidividuals have answers in successive months? 6457\n"
     ]
    }
   ],
   "source": [
    "## convert it to a list of arrays storing all time series data for each individual\n",
    "\n",
    "SCEM_sub = SCEM[['userid']+vars_rd_list].dropna(how='any')\n",
    "\n",
    "unique_ids = list(SCEM_sub['userid'].unique())\n",
    "\n",
    "SCE_list = [SCEM_sub[SCEM_sub['userid']==ID][vars_rd_list].T.to_numpy() for ID in unique_ids]\n",
    "\n",
    "SCE_list = [x for x in SCE_list if ~np.isnan(np.array(x)).any() and x.shape[1]>=3]\n",
    "\n",
    "print('how many invidividuals have answers in successive months?',len(SCE_list))"
   ]
  },
  {
   "cell_type": "code",
   "execution_count": 18,
   "metadata": {
    "code_folding": [
     5
    ]
   },
   "outputs": [
    {
     "data": {
      "text/plain": [
       "<matplotlib.legend.Legend at 0x7ffd059c7fd0>"
      ]
     },
     "execution_count": 18,
     "metadata": {},
     "output_type": "execute_result"
    },
    {
     "data": {
      "image/png": "[encoded data removed]",
      "text/plain": [
       "<Figure size 720x360 with 1 Axes>"
      ]
     },
     "metadata": {
      "needs_background": "light"
     },
     "output_type": "display_data"
    }
   ],
   "source": [
    "## plot the simulated data \n",
    "random_id = np.random.randint(0,len(SCE_list)-1)\n",
    "\n",
    "plt.figure(figsize=(10,5))\n",
    "plt.title(\"A random respondent's earning risk perceptions from the survey\")\n",
    "plt.plot(SCE_list[random_id][0,:],\n",
    "         'o-',\n",
    "         label=r'$y_t$')\n",
    "plt.legend(loc=1)"
   ]
  },
  {
   "cell_type": "code",
   "execution_count": 19,
   "metadata": {
    "code_folding": [
     1,
     8
    ],
    "lines_to_next_cell": 2
   },
   "outputs": [],
   "source": [
    "## create the model \n",
    "SCE_mkv2 = Markov2Switching(AR=0,\n",
    "                            paras = np.array([0.1,0.1,0.1,0.7,0.7,\n",
    "                                             0.1,0.1,0.1,0.7,0.7,\n",
    "                                             0.1,-0.1,0.1,0.7,0.7,]),\n",
    "                           nb_var = 3)\n",
    "\n",
    "## objective func\n",
    "SCE_obj = lambda para: -SCE_mkv2.log_likelihood(SCE_list,\n",
    "                                                para)[0]   ## only the first output"
   ]
  },
  {
   "cell_type": "code",
   "execution_count": 20,
   "metadata": {
    "code_folding": [
     0,
     20
    ],
    "lines_to_next_cell": 0
   },
   "outputs": [
    {
     "name": "stderr",
     "output_type": "stream",
     "text": [
      "/Users/tao/opt/anaconda3/lib/python3.8/site-packages/scipy/optimize/_hessian_update_strategy.py:182: UserWarning: delta_grad == 0.0. Check if the approximated function is linear. If the function is linear better results can be obtained by defining the Hessian as zero instead of using quasi-Newton approximations.\n",
      "  warn('delta_grad == 0.0. Check if the approximated '\n"
     ]
    },
    {
     "name": "stdout",
     "output_type": "stream",
     "text": [
      "`xtol` termination condition is satisfied.\n",
      "Number of iterations: 465, function evaluations: 9392, CG iterations: 2392, optimality: 1.54e-01, constraint violation: 0.00e+00, execution time: 2e+04 s.\n",
      "success?  True\n",
      "initial guess of the parameters\n",
      " {'q': 0.52497918747894, 'p': 0.598687660112452, 'α': array([0.2, 0.2, 0.2]), 'β': array([ 0.4,  0.4, -0.1]), 'σ': array([0.60653066, 0.13533528, 0.13533528]), 'ϕ1': array([0., 0., 0.])}\n",
      "estimated parameters\n",
      " {'q': 0.9113554182255332, 'p': 0.8910819121019007, 'α': array([-0.1593232 ,  0.19856334,  0.97363509]), 'β': array([ 2.55705925e-05,  5.39099631e-01, -9.08678723e-02]), 'σ': array([0.73034675, 0.13836598, 0.13836596]), 'ϕ1': array([0., 0., 0.])}\n"
     ]
    }
   ],
   "source": [
    "## impose some bounds for some parameter based on informed priors\n",
    "\n",
    "\n",
    "## the size of the shock cannot exceed the sample variation\n",
    "sigma_ub0 = np.mean([np.std(np.array(x[0,:])) for x in SCE_list])\n",
    "sigma_inv_ub0 = SCE_mkv2.exp_func_inv(sigma_ub0)\n",
    "\n",
    "sigma_ub1 = np.mean([np.std(np.array(x[1,:])) for x in SCE_list])\n",
    "sigma_inv_ub1 = SCE_mkv2.exp_func_inv(sigma_ub1)\n",
    "\n",
    "sigma_ub2 = np.mean([np.std(np.array(x[2,:])) for x in SCE_list])\n",
    "sigma_inv_ub2 = SCE_mkv2.exp_func_inv(sigma_ub1)\n",
    "\n",
    "## staying probabilities of both 2 states are above half, indicating persistency \n",
    "q_lb = 0.5  ## persistent \n",
    "q_inv_lb =SCE_mkv2.prob_func_inv(q_lb) \n",
    "p_lb = 0.5 ## persistent \n",
    "p_inv_lb =SCE_mkv2.prob_func_inv(p_lb)\n",
    "\n",
    "## estimation \n",
    "guess = np.array([0.2,0.4,-0.5,0.1,0.4,\n",
    "                0.2,0.4,-2,0.1,0.4,\n",
    "                0.2,-0.1,-2,0.1,0.4])\n",
    "\n",
    "bounds = ((None,None),(0.0,None),(-1,sigma_inv_ub0),(q_inv_lb,None),(p_inv_lb,None),\n",
    "         (None,None),(0.0,None),(-4,sigma_inv_ub1),(None,None),(None,None),\n",
    "         (None,None),(None,0.0),(-4,sigma_inv_ub2),(None,None),(None,None),)\n",
    "\n",
    "\n",
    "result = minimize(SCE_obj,\n",
    "                  x0 = guess,\n",
    "                  method='trust-constr',   #SLSQP\n",
    "                  bounds = bounds,\n",
    "                  options={'disp': True,\n",
    "                            'maxiter':5000}\n",
    "                   )\n",
    "print('success? ',result['success'])\n",
    "SCE_para_est = result['x']\n",
    "## get alpha, beta, sigma, q, p \n",
    "\n",
    "\n",
    "## get model parameters \n",
    "guess_para_model = SCE_mkv2.make_para_dict(guess)\n",
    "SCE_para_model_est = SCE_mkv2.make_para_dict(SCE_para_est)\n",
    "\n",
    "\n",
    "#results\n",
    "print(\"initial guess of the parameters\\n\",guess_para_model)\n",
    "print(\"estimated parameters\\n\",SCE_para_model_est)"
   ]
  },
  {
   "cell_type": "code",
   "execution_count": 21,
   "metadata": {
    "code_folding": [
     0,
     4,
     28,
     31
    ]
   },
   "outputs": [
    {
     "name": "stdout",
     "output_type": "stream",
     "text": [
      "quarterly SCE parameters\n",
      " {'q': 0.7817028585462233, 'p': 0.7817028585462233, '\\tilde\\\\sigma_\\\\psi^l': 0.46116065710958404, '\\tilde\\\\sigma_\\theta^l': 0.09042365825678117, '\\tilde\\\\sigma_\\\\psi^h': 0.46116655322290107, '\\tilde\\\\sigma_\\theta^h': 0.09042481435743159, '\\tilde \\\\mho^l': 0.07112686539189406, '\\tilde E^l': 0.7023708806314315, '\\tilde \\\\mho^h': 0.35984294842437436, '\\tilde E^h': 0.5105785251051489}\n"
     ]
    }
   ],
   "source": [
    "## from the estimation to model parameters \n",
    "\n",
    "import pickle\n",
    "\n",
    "with open(\"parameters.txt\", \"rb\") as fp:\n",
    "    lc_paras = pickle.load(fp)\n",
    "    \n",
    "kappa = lc_paras['kappa'] ## ratio of permanent and transitory risks \n",
    "\n",
    "model_para_est = {}\n",
    "\n",
    "############################################\n",
    "## from yeraly to monthly risk then to quarterly \n",
    "############################################\n",
    "\n",
    "\n",
    "model_para_est['q'],model_para_est['p'] = mkv2_M2Q(SCE_para_model_est['q'],\n",
    "                                                   SCE_para_model_est['p'])\n",
    "\n",
    "alpha = SCE_para_model_est['α'][0]\n",
    "beta = SCE_para_model_est['β'][0]\n",
    "\n",
    "model_para_est['\\tilde\\sigma_\\psi^l'] = np.sqrt(3*np.exp(alpha)/(12+1/(12*kappa**2)))\n",
    "model_para_est['\\tilde\\sigma_\\theta^l'] =  1/3*model_para_est['\\tilde\\sigma_\\psi^l']/kappa\n",
    "model_para_est['\\tilde\\sigma_\\psi^h'] =  np.sqrt(3*np.exp(alpha+beta)/(12+1/(12*kappa**2)))\n",
    "model_para_est['\\tilde\\sigma_\\theta^h'] =  1/3*model_para_est['\\tilde\\sigma_\\psi^h']/kappa\n",
    "\n",
    "\n",
    "model_para_est['\\tilde \\mho^l'],model_para_est['\\tilde E^l'] = mkv2_Y2Q(SCE_para_model_est['α'][1],\n",
    "                                                                        SCE_para_model_est['α'][2])\n",
    "\n",
    "model_para_est['\\tilde \\mho^h'], model_para_est['\\tilde E^h']=  mkv2_Y2Q(SCE_para_model_est['α'][1]+SCE_para_model_est['β'][1],\n",
    "                                                                         SCE_para_model_est['α'][2]+SCE_para_model_est['β'][2])\n",
    "\n",
    "print('quarterly SCE parameters\\n',model_para_est)"
   ]
  },
  {
   "cell_type": "code",
   "execution_count": 22,
   "metadata": {
    "code_folding": [
     0,
     3
    ],
    "lines_to_next_cell": 2
   },
   "outputs": [],
   "source": [
    "## convert to a dataframe \n",
    "\n",
    "\n",
    "SCE_para_est_df = pd.DataFrame.from_dict(model_para_est,\n",
    "                                         orient='index',\n",
    "                                         dtype=None, \n",
    "                                         columns=['baseline']\n",
    "                                        )\n",
    "\n",
    "## output tables \n",
    "\n",
    "beginningtex = \"\"\"\n",
    "\\\\begin{table}[p]\n",
    "\\\\centering\n",
    "\\\\begin{adjustbox}{width=0.3\\\\textwidth}\n",
    "\\\\begin{threeparttable}\n",
    "\\\\caption{Estimated subjective risk perceptions}\n",
    "\\\\label{tab:PRMarkovEst}\"\"\"\n",
    "\n",
    "endtex = \"\"\"\\\\begin{tablenotes}\\item This table reports estimates of the parameters \n",
    "for the 2-state Markov switching model of subjective risk perceptions. Risks are at the monthly frequency. \n",
    "\\\\end{tablenotes}\n",
    "\\\\end{threeparttable}\n",
    "\\\\end{adjustbox}\n",
    "\\\\end{table}\"\"\"\n",
    "\n",
    "\n",
    "## write to latex \n",
    "f = open('../Tables/latex/PRMarkovEst.tex', 'w')\n",
    "f.write(beginningtex)\n",
    "tb_ltx = SCE_para_est_df.to_latex()\n",
    "f.write(tb_ltx)\n",
    "f.write(endtex)\n",
    "f.close()"
   ]
  },
  {
   "cell_type": "code",
   "execution_count": 23,
   "metadata": {
    "code_folding": [
     3
    ]
   },
   "outputs": [
    {
     "data": {
      "text/html": [
       "<div>\n",
       "<style scoped>\n",
       "    .dataframe tbody tr th:only-of-type {\n",
       "        vertical-align: middle;\n",
       "    }\n",
       "\n",
       "    .dataframe tbody tr th {\n",
       "        vertical-align: top;\n",
       "    }\n",
       "\n",
       "    .dataframe thead th {\n",
       "        text-align: right;\n",
       "    }\n",
       "</style>\n",
       "<table border=\"1\" class=\"dataframe\">\n",
       "  <thead>\n",
       "    <tr style=\"text-align: right;\">\n",
       "      <th></th>\n",
       "      <th>baseline</th>\n",
       "    </tr>\n",
       "  </thead>\n",
       "  <tbody>\n",
       "    <tr>\n",
       "      <th>$q$</th>\n",
       "      <td>0.782</td>\n",
       "    </tr>\n",
       "    <tr>\n",
       "      <th>$p$</th>\n",
       "      <td>0.782</td>\n",
       "    </tr>\n",
       "    <tr>\n",
       "      <th>$\\tilde\\sigma^l_\\psi$</th>\n",
       "      <td>0.461</td>\n",
       "    </tr>\n",
       "    <tr>\n",
       "      <th>$\\tilde\\sigma^l_\\theta$</th>\n",
       "      <td>0.090</td>\n",
       "    </tr>\n",
       "    <tr>\n",
       "      <th>$\\tilde\\sigma^h_\\psi$</th>\n",
       "      <td>0.461</td>\n",
       "    </tr>\n",
       "    <tr>\n",
       "      <th>$\\tilde\\sigma^h_\\theta$</th>\n",
       "      <td>0.090</td>\n",
       "    </tr>\n",
       "    <tr>\n",
       "      <th>$\\tilde \\mho^l$</th>\n",
       "      <td>0.071</td>\n",
       "    </tr>\n",
       "    <tr>\n",
       "      <th>$\\tilde \\mho^h$</th>\n",
       "      <td>0.702</td>\n",
       "    </tr>\n",
       "    <tr>\n",
       "      <th>$\\tilde E^l$</th>\n",
       "      <td>0.360</td>\n",
       "    </tr>\n",
       "    <tr>\n",
       "      <th>$\\tilde E^h$</th>\n",
       "      <td>0.511</td>\n",
       "    </tr>\n",
       "  </tbody>\n",
       "</table>\n",
       "</div>"
      ],
      "text/plain": [
       "                         baseline\n",
       "$q$                         0.782\n",
       "$p$                         0.782\n",
       "$\\tilde\\sigma^l_\\psi$       0.461\n",
       "$\\tilde\\sigma^l_\\theta$     0.090\n",
       "$\\tilde\\sigma^h_\\psi$       0.461\n",
       "$\\tilde\\sigma^h_\\theta$     0.090\n",
       "$\\tilde \\mho^l$             0.071\n",
       "$\\tilde \\mho^h$             0.702\n",
       "$\\tilde E^l$                0.360\n",
       "$\\tilde E^h$                0.511"
      ]
     },
     "execution_count": 23,
     "metadata": {},
     "output_type": "execute_result"
    }
   ],
   "source": [
    "## presentable tables \n",
    "\n",
    "\n",
    "index_names = ['$q$',\n",
    "              '$p$',\n",
    "              '$\\tilde\\sigma^l_\\psi$',\n",
    "              '$\\tilde\\sigma^l_\\theta$',\n",
    "              '$\\tilde\\sigma^h_\\psi$',\n",
    "              '$\\tilde\\sigma^h_\\theta$',\n",
    "              '$\\tilde \\mho^l$',\n",
    "              '$\\tilde \\mho^h$',\n",
    "              '$\\tilde E^l$',\n",
    "              '$\\tilde E^h$']\n",
    "\n",
    "\n",
    "SCE_para_est_df.index = index_names\n",
    "SCE_para_est_df"
   ]
  },
  {
   "cell_type": "code",
   "execution_count": 24,
   "metadata": {
    "code_folding": [
     5
    ]
   },
   "outputs": [
    {
     "name": "stdout",
     "output_type": "stream",
     "text": [
      "{'ρ': 1, 'β': 0.9949620563926881, 'P': array([[0.9, 0.1],\n",
      "       [0.1, 0.9]]), 'z_val': array([0., 1.]), 'σ_ψ': 0.06030226891555272, 'σ_θ': 0.2, 'U': 0.0, 'LivPrb': 0.99375, 'σ_ψ_2mkv': array([0.01, 0.02]), 'σ_θ_2mkv': array([0.02, 0.04]), 'R': 1.0024906793143211, 'W': 1.0, 'T': 40, 'L': 60, 'G': array([1., 1., 1., 1., 1., 1., 1., 1., 1., 1., 1., 1., 1., 1., 1., 1., 1.,\n",
      "       1., 1., 1., 1., 1., 1., 1., 1., 1., 1., 1., 1., 1., 1., 1., 1., 1.,\n",
      "       1., 1., 1., 1., 1., 1., 1., 1., 1., 1., 1., 1., 1., 1., 1., 1., 1.,\n",
      "       1., 1., 1., 1., 1., 1., 1., 1., 1.]), 'unemp_insurance': 0.15, 'pension': 1.0, 'σ_ψ_init': 0.01, 'init_b': 0.0, 'λ': 0.0, 'λ_SS': 0.0, 'transfer': 0.0, 'bequest_ratio': 0.0, 'kappa': 1.7, 'q': 0.7817028585462233, 'p': 0.7817028585462233, '\\tilde\\\\sigma_\\\\psi^l': 0.46116065710958404, '\\tilde\\\\sigma_\\theta^l': 0.09042365825678117, '\\tilde\\\\sigma_\\\\psi^h': 0.46116655322290107, '\\tilde\\\\sigma_\\theta^h': 0.09042481435743159, '\\tilde \\\\mho^l': 0.07112686539189406, '\\tilde E^l': 0.7023708806314315, '\\tilde \\\\mho^h': 0.35984294842437436, '\\tilde E^h': 0.5105785251051489}\n"
     ]
    }
   ],
   "source": [
    "import pickle\n",
    "\n",
    "with open(\"parameters.txt\", \"rb\") as fp:\n",
    "    lc_paras = pickle.load(fp)\n",
    "    \n",
    "for key in model_para_est.keys():\n",
    "    lc_paras[key] = model_para_est[key]\n",
    "    \n",
    "print(lc_paras)\n",
    "with open(\"parameters.txt\", \"wb\") as fp:\n",
    "    pickle.dump(lc_paras, fp)"
   ]
  },
  {
   "cell_type": "markdown",
   "metadata": {},
   "source": [
    "## Other tests of the code"
   ]
  },
  {
   "cell_type": "markdown",
   "metadata": {},
   "source": [
    "### test using macro time series: U.S.  real GDP growth rate \n",
    "\n"
   ]
  },
  {
   "cell_type": "code",
   "execution_count": 25,
   "metadata": {
    "code_folding": [
     7,
     11
    ],
    "lines_to_next_cell": 2
   },
   "outputs": [
    {
     "ename": "ConnectionError",
     "evalue": "HTTPSConnectionPool(host='fred.stlouisfed.org', port=443): Max retries exceeded with url: /graph/fredgraph.csv?id=USREC (Caused by NewConnectionError('<urllib3.connection.HTTPSConnection object at 0x7ffd05a0fa60>: Failed to establish a new connection: [Errno 8] nodename nor servname provided, or not known'))",
     "output_type": "error",
     "traceback": [
      "\u001b[0;31m---------------------------------------------------------------------------\u001b[0m",
      "\u001b[0;31mgaierror\u001b[0m                                  Traceback (most recent call last)",
      "\u001b[0;32m~/opt/anaconda3/lib/python3.8/site-packages/urllib3/connection.py\u001b[0m in \u001b[0;36m_new_conn\u001b[0;34m(self)\u001b[0m\n\u001b[1;32m    158\u001b[0m         \u001b[0;32mtry\u001b[0m\u001b[0;34m:\u001b[0m\u001b[0;34m\u001b[0m\u001b[0;34m\u001b[0m\u001b[0m\n\u001b[0;32m--> 159\u001b[0;31m             conn = connection.create_connection(\n\u001b[0m\u001b[1;32m    160\u001b[0m                 \u001b[0;34m(\u001b[0m\u001b[0mself\u001b[0m\u001b[0;34m.\u001b[0m\u001b[0m_dns_host\u001b[0m\u001b[0;34m,\u001b[0m \u001b[0mself\u001b[0m\u001b[0;34m.\u001b[0m\u001b[0mport\u001b[0m\u001b[0;34m)\u001b[0m\u001b[0;34m,\u001b[0m \u001b[0mself\u001b[0m\u001b[0;34m.\u001b[0m\u001b[0mtimeout\u001b[0m\u001b[0;34m,\u001b[0m \u001b[0;34m**\u001b[0m\u001b[0mextra_kw\u001b[0m\u001b[0;34m\u001b[0m\u001b[0;34m\u001b[0m\u001b[0m\n",
      "\u001b[0;32m~/opt/anaconda3/lib/python3.8/site-packages/urllib3/util/connection.py\u001b[0m in \u001b[0;36mcreate_connection\u001b[0;34m(address, timeout, source_address, socket_options)\u001b[0m\n\u001b[1;32m     60\u001b[0m \u001b[0;34m\u001b[0m\u001b[0m\n\u001b[0;32m---> 61\u001b[0;31m     \u001b[0;32mfor\u001b[0m \u001b[0mres\u001b[0m \u001b[0;32min\u001b[0m \u001b[0msocket\u001b[0m\u001b[0;34m.\u001b[0m\u001b[0mgetaddrinfo\u001b[0m\u001b[0;34m(\u001b[0m\u001b[0mhost\u001b[0m\u001b[0;34m,\u001b[0m \u001b[0mport\u001b[0m\u001b[0;34m,\u001b[0m \u001b[0mfamily\u001b[0m\u001b[0;34m,\u001b[0m \u001b[0msocket\u001b[0m\u001b[0;34m.\u001b[0m\u001b[0mSOCK_STREAM\u001b[0m\u001b[0;34m)\u001b[0m\u001b[0;34m:\u001b[0m\u001b[0;34m\u001b[0m\u001b[0;34m\u001b[0m\u001b[0m\n\u001b[0m\u001b[1;32m     62\u001b[0m         \u001b[0maf\u001b[0m\u001b[0;34m,\u001b[0m \u001b[0msocktype\u001b[0m\u001b[0;34m,\u001b[0m \u001b[0mproto\u001b[0m\u001b[0;34m,\u001b[0m \u001b[0mcanonname\u001b[0m\u001b[0;34m,\u001b[0m \u001b[0msa\u001b[0m \u001b[0;34m=\u001b[0m \u001b[0mres\u001b[0m\u001b[0;34m\u001b[0m\u001b[0;34m\u001b[0m\u001b[0m\n",
      "\u001b[0;32m~/opt/anaconda3/lib/python3.8/socket.py\u001b[0m in \u001b[0;36mgetaddrinfo\u001b[0;34m(host, port, family, type, proto, flags)\u001b[0m\n\u001b[1;32m    917\u001b[0m     \u001b[0maddrlist\u001b[0m \u001b[0;34m=\u001b[0m \u001b[0;34m[\u001b[0m\u001b[0;34m]\u001b[0m\u001b[0;34m\u001b[0m\u001b[0;34m\u001b[0m\u001b[0m\n\u001b[0;32m--> 918\u001b[0;31m     \u001b[0;32mfor\u001b[0m \u001b[0mres\u001b[0m \u001b[0;32min\u001b[0m \u001b[0m_socket\u001b[0m\u001b[0;34m.\u001b[0m\u001b[0mgetaddrinfo\u001b[0m\u001b[0;34m(\u001b[0m\u001b[0mhost\u001b[0m\u001b[0;34m,\u001b[0m \u001b[0mport\u001b[0m\u001b[0;34m,\u001b[0m \u001b[0mfamily\u001b[0m\u001b[0;34m,\u001b[0m \u001b[0mtype\u001b[0m\u001b[0;34m,\u001b[0m \u001b[0mproto\u001b[0m\u001b[0;34m,\u001b[0m \u001b[0mflags\u001b[0m\u001b[0;34m)\u001b[0m\u001b[0;34m:\u001b[0m\u001b[0;34m\u001b[0m\u001b[0;34m\u001b[0m\u001b[0m\n\u001b[0m\u001b[1;32m    919\u001b[0m         \u001b[0maf\u001b[0m\u001b[0;34m,\u001b[0m \u001b[0msocktype\u001b[0m\u001b[0;34m,\u001b[0m \u001b[0mproto\u001b[0m\u001b[0;34m,\u001b[0m \u001b[0mcanonname\u001b[0m\u001b[0;34m,\u001b[0m \u001b[0msa\u001b[0m \u001b[0;34m=\u001b[0m \u001b[0mres\u001b[0m\u001b[0;34m\u001b[0m\u001b[0;34m\u001b[0m\u001b[0m\n",
      "\u001b[0;31mgaierror\u001b[0m: [Errno 8] nodename nor servname provided, or not known",
      "\nDuring handling of the above exception, another exception occurred:\n",
      "\u001b[0;31mNewConnectionError\u001b[0m                        Traceback (most recent call last)",
      "\u001b[0;32m~/opt/anaconda3/lib/python3.8/site-packages/urllib3/connectionpool.py\u001b[0m in \u001b[0;36murlopen\u001b[0;34m(self, method, url, body, headers, retries, redirect, assert_same_host, timeout, pool_timeout, release_conn, chunked, body_pos, **response_kw)\u001b[0m\n\u001b[1;32m    669\u001b[0m             \u001b[0;31m# Make the request on the httplib connection object.\u001b[0m\u001b[0;34m\u001b[0m\u001b[0;34m\u001b[0m\u001b[0;34m\u001b[0m\u001b[0m\n\u001b[0;32m--> 670\u001b[0;31m             httplib_response = self._make_request(\n\u001b[0m\u001b[1;32m    671\u001b[0m                 \u001b[0mconn\u001b[0m\u001b[0;34m,\u001b[0m\u001b[0;34m\u001b[0m\u001b[0;34m\u001b[0m\u001b[0m\n",
      "\u001b[0;32m~/opt/anaconda3/lib/python3.8/site-packages/urllib3/connectionpool.py\u001b[0m in \u001b[0;36m_make_request\u001b[0;34m(self, conn, method, url, timeout, chunked, **httplib_request_kw)\u001b[0m\n\u001b[1;32m    380\u001b[0m         \u001b[0;32mtry\u001b[0m\u001b[0;34m:\u001b[0m\u001b[0;34m\u001b[0m\u001b[0;34m\u001b[0m\u001b[0m\n\u001b[0;32m--> 381\u001b[0;31m             \u001b[0mself\u001b[0m\u001b[0;34m.\u001b[0m\u001b[0m_validate_conn\u001b[0m\u001b[0;34m(\u001b[0m\u001b[0mconn\u001b[0m\u001b[0;34m)\u001b[0m\u001b[0;34m\u001b[0m\u001b[0;34m\u001b[0m\u001b[0m\n\u001b[0m\u001b[1;32m    382\u001b[0m         \u001b[0;32mexcept\u001b[0m \u001b[0;34m(\u001b[0m\u001b[0mSocketTimeout\u001b[0m\u001b[0;34m,\u001b[0m \u001b[0mBaseSSLError\u001b[0m\u001b[0;34m)\u001b[0m \u001b[0;32mas\u001b[0m \u001b[0me\u001b[0m\u001b[0;34m:\u001b[0m\u001b[0;34m\u001b[0m\u001b[0;34m\u001b[0m\u001b[0m\n",
      "\u001b[0;32m~/opt/anaconda3/lib/python3.8/site-packages/urllib3/connectionpool.py\u001b[0m in \u001b[0;36m_validate_conn\u001b[0;34m(self, conn)\u001b[0m\n\u001b[1;32m    977\u001b[0m         \u001b[0;32mif\u001b[0m \u001b[0;32mnot\u001b[0m \u001b[0mgetattr\u001b[0m\u001b[0;34m(\u001b[0m\u001b[0mconn\u001b[0m\u001b[0;34m,\u001b[0m \u001b[0;34m\"sock\"\u001b[0m\u001b[0;34m,\u001b[0m \u001b[0;32mNone\u001b[0m\u001b[0;34m)\u001b[0m\u001b[0;34m:\u001b[0m  \u001b[0;31m# AppEngine might not have  `.sock`\u001b[0m\u001b[0;34m\u001b[0m\u001b[0;34m\u001b[0m\u001b[0m\n\u001b[0;32m--> 978\u001b[0;31m             \u001b[0mconn\u001b[0m\u001b[0;34m.\u001b[0m\u001b[0mconnect\u001b[0m\u001b[0;34m(\u001b[0m\u001b[0;34m)\u001b[0m\u001b[0;34m\u001b[0m\u001b[0;34m\u001b[0m\u001b[0m\n\u001b[0m\u001b[1;32m    979\u001b[0m \u001b[0;34m\u001b[0m\u001b[0m\n",
      "\u001b[0;32m~/opt/anaconda3/lib/python3.8/site-packages/urllib3/connection.py\u001b[0m in \u001b[0;36mconnect\u001b[0;34m(self)\u001b[0m\n\u001b[1;32m    308\u001b[0m         \u001b[0;31m# Add certificate verification\u001b[0m\u001b[0;34m\u001b[0m\u001b[0;34m\u001b[0m\u001b[0;34m\u001b[0m\u001b[0m\n\u001b[0;32m--> 309\u001b[0;31m         \u001b[0mconn\u001b[0m \u001b[0;34m=\u001b[0m \u001b[0mself\u001b[0m\u001b[0;34m.\u001b[0m\u001b[0m_new_conn\u001b[0m\u001b[0;34m(\u001b[0m\u001b[0;34m)\u001b[0m\u001b[0;34m\u001b[0m\u001b[0;34m\u001b[0m\u001b[0m\n\u001b[0m\u001b[1;32m    310\u001b[0m         \u001b[0mhostname\u001b[0m \u001b[0;34m=\u001b[0m \u001b[0mself\u001b[0m\u001b[0;34m.\u001b[0m\u001b[0mhost\u001b[0m\u001b[0;34m\u001b[0m\u001b[0;34m\u001b[0m\u001b[0m\n",
      "\u001b[0;32m~/opt/anaconda3/lib/python3.8/site-packages/urllib3/connection.py\u001b[0m in \u001b[0;36m_new_conn\u001b[0;34m(self)\u001b[0m\n\u001b[1;32m    170\u001b[0m         \u001b[0;32mexcept\u001b[0m \u001b[0mSocketError\u001b[0m \u001b[0;32mas\u001b[0m \u001b[0me\u001b[0m\u001b[0;34m:\u001b[0m\u001b[0;34m\u001b[0m\u001b[0;34m\u001b[0m\u001b[0m\n\u001b[0;32m--> 171\u001b[0;31m             raise NewConnectionError(\n\u001b[0m\u001b[1;32m    172\u001b[0m                 \u001b[0mself\u001b[0m\u001b[0;34m,\u001b[0m \u001b[0;34m\"Failed to establish a new connection: %s\"\u001b[0m \u001b[0;34m%\u001b[0m \u001b[0me\u001b[0m\u001b[0;34m\u001b[0m\u001b[0;34m\u001b[0m\u001b[0m\n",
      "\u001b[0;31mNewConnectionError\u001b[0m: <urllib3.connection.HTTPSConnection object at 0x7ffd05a0fa60>: Failed to establish a new connection: [Errno 8] nodename nor servname provided, or not known",
      "\nDuring handling of the above exception, another exception occurred:\n",
      "\u001b[0;31mMaxRetryError\u001b[0m                             Traceback (most recent call last)",
      "\u001b[0;32m~/opt/anaconda3/lib/python3.8/site-packages/requests/adapters.py\u001b[0m in \u001b[0;36msend\u001b[0;34m(self, request, stream, timeout, verify, cert, proxies)\u001b[0m\n\u001b[1;32m    438\u001b[0m             \u001b[0;32mif\u001b[0m \u001b[0;32mnot\u001b[0m \u001b[0mchunked\u001b[0m\u001b[0;34m:\u001b[0m\u001b[0;34m\u001b[0m\u001b[0;34m\u001b[0m\u001b[0m\n\u001b[0;32m--> 439\u001b[0;31m                 resp = conn.urlopen(\n\u001b[0m\u001b[1;32m    440\u001b[0m                     \u001b[0mmethod\u001b[0m\u001b[0;34m=\u001b[0m\u001b[0mrequest\u001b[0m\u001b[0;34m.\u001b[0m\u001b[0mmethod\u001b[0m\u001b[0;34m,\u001b[0m\u001b[0;34m\u001b[0m\u001b[0;34m\u001b[0m\u001b[0m\n",
      "\u001b[0;32m~/opt/anaconda3/lib/python3.8/site-packages/urllib3/connectionpool.py\u001b[0m in \u001b[0;36murlopen\u001b[0;34m(self, method, url, body, headers, retries, redirect, assert_same_host, timeout, pool_timeout, release_conn, chunked, body_pos, **response_kw)\u001b[0m\n\u001b[1;32m    725\u001b[0m \u001b[0;34m\u001b[0m\u001b[0m\n\u001b[0;32m--> 726\u001b[0;31m             retries = retries.increment(\n\u001b[0m\u001b[1;32m    727\u001b[0m                 \u001b[0mmethod\u001b[0m\u001b[0;34m,\u001b[0m \u001b[0murl\u001b[0m\u001b[0;34m,\u001b[0m \u001b[0merror\u001b[0m\u001b[0;34m=\u001b[0m\u001b[0me\u001b[0m\u001b[0;34m,\u001b[0m \u001b[0m_pool\u001b[0m\u001b[0;34m=\u001b[0m\u001b[0mself\u001b[0m\u001b[0;34m,\u001b[0m \u001b[0m_stacktrace\u001b[0m\u001b[0;34m=\u001b[0m\u001b[0msys\u001b[0m\u001b[0;34m.\u001b[0m\u001b[0mexc_info\u001b[0m\u001b[0;34m(\u001b[0m\u001b[0;34m)\u001b[0m\u001b[0;34m[\u001b[0m\u001b[0;36m2\u001b[0m\u001b[0;34m]\u001b[0m\u001b[0;34m\u001b[0m\u001b[0;34m\u001b[0m\u001b[0m\n",
      "\u001b[0;32m~/opt/anaconda3/lib/python3.8/site-packages/urllib3/util/retry.py\u001b[0m in \u001b[0;36mincrement\u001b[0;34m(self, method, url, response, error, _pool, _stacktrace)\u001b[0m\n\u001b[1;32m    445\u001b[0m         \u001b[0;32mif\u001b[0m \u001b[0mnew_retry\u001b[0m\u001b[0;34m.\u001b[0m\u001b[0mis_exhausted\u001b[0m\u001b[0;34m(\u001b[0m\u001b[0;34m)\u001b[0m\u001b[0;34m:\u001b[0m\u001b[0;34m\u001b[0m\u001b[0;34m\u001b[0m\u001b[0m\n\u001b[0;32m--> 446\u001b[0;31m             \u001b[0;32mraise\u001b[0m \u001b[0mMaxRetryError\u001b[0m\u001b[0;34m(\u001b[0m\u001b[0m_pool\u001b[0m\u001b[0;34m,\u001b[0m \u001b[0murl\u001b[0m\u001b[0;34m,\u001b[0m \u001b[0merror\u001b[0m \u001b[0;32mor\u001b[0m \u001b[0mResponseError\u001b[0m\u001b[0;34m(\u001b[0m\u001b[0mcause\u001b[0m\u001b[0;34m)\u001b[0m\u001b[0;34m)\u001b[0m\u001b[0;34m\u001b[0m\u001b[0;34m\u001b[0m\u001b[0m\n\u001b[0m\u001b[1;32m    447\u001b[0m \u001b[0;34m\u001b[0m\u001b[0m\n",
      "\u001b[0;31mMaxRetryError\u001b[0m: HTTPSConnectionPool(host='fred.stlouisfed.org', port=443): Max retries exceeded with url: /graph/fredgraph.csv?id=USREC (Caused by NewConnectionError('<urllib3.connection.HTTPSConnection object at 0x7ffd05a0fa60>: Failed to establish a new connection: [Errno 8] nodename nor servname provided, or not known'))",
      "\nDuring handling of the above exception, another exception occurred:\n",
      "\u001b[0;31mConnectionError\u001b[0m                           Traceback (most recent call last)",
      "\u001b[0;32m/var/folders/39/ks6jc__9375c2fl7h7pwq5jh0000gn/T/ipykernel_32153/3429214029.py\u001b[0m in \u001b[0;36m<module>\u001b[0;34m\u001b[0m\n\u001b[1;32m      6\u001b[0m \u001b[0;34m\u001b[0m\u001b[0m\n\u001b[1;32m      7\u001b[0m \u001b[0;34m\u001b[0m\u001b[0m\n\u001b[0;32m----> 8\u001b[0;31m rec = web.DataReader(\"USREC\", \n\u001b[0m\u001b[1;32m      9\u001b[0m                      \u001b[0;34m\"fred\"\u001b[0m\u001b[0;34m,\u001b[0m\u001b[0;34m\u001b[0m\u001b[0;34m\u001b[0m\u001b[0m\n\u001b[1;32m     10\u001b[0m                      \u001b[0mstart\u001b[0m\u001b[0;34m,\u001b[0m\u001b[0;34m\u001b[0m\u001b[0;34m\u001b[0m\u001b[0m\n",
      "\u001b[0;32m~/opt/anaconda3/lib/python3.8/site-packages/pandas/util/_decorators.py\u001b[0m in \u001b[0;36mwrapper\u001b[0;34m(*args, **kwargs)\u001b[0m\n\u001b[1;32m    205\u001b[0m                 \u001b[0;32melse\u001b[0m\u001b[0;34m:\u001b[0m\u001b[0;34m\u001b[0m\u001b[0;34m\u001b[0m\u001b[0m\n\u001b[1;32m    206\u001b[0m                     \u001b[0mkwargs\u001b[0m\u001b[0;34m[\u001b[0m\u001b[0mnew_arg_name\u001b[0m\u001b[0;34m]\u001b[0m \u001b[0;34m=\u001b[0m \u001b[0mnew_arg_value\u001b[0m\u001b[0;34m\u001b[0m\u001b[0;34m\u001b[0m\u001b[0m\n\u001b[0;32m--> 207\u001b[0;31m             \u001b[0;32mreturn\u001b[0m \u001b[0mfunc\u001b[0m\u001b[0;34m(\u001b[0m\u001b[0;34m*\u001b[0m\u001b[0margs\u001b[0m\u001b[0;34m,\u001b[0m \u001b[0;34m**\u001b[0m\u001b[0mkwargs\u001b[0m\u001b[0;34m)\u001b[0m\u001b[0;34m\u001b[0m\u001b[0;34m\u001b[0m\u001b[0m\n\u001b[0m\u001b[1;32m    208\u001b[0m \u001b[0;34m\u001b[0m\u001b[0m\n\u001b[1;32m    209\u001b[0m         \u001b[0;32mreturn\u001b[0m \u001b[0mcast\u001b[0m\u001b[0;34m(\u001b[0m\u001b[0mF\u001b[0m\u001b[0;34m,\u001b[0m \u001b[0mwrapper\u001b[0m\u001b[0;34m)\u001b[0m\u001b[0;34m\u001b[0m\u001b[0;34m\u001b[0m\u001b[0m\n",
      "\u001b[0;32m~/opt/anaconda3/lib/python3.8/site-packages/pandas_datareader/data.py\u001b[0m in \u001b[0;36mDataReader\u001b[0;34m(name, data_source, start, end, retry_count, pause, session, api_key)\u001b[0m\n\u001b[1;32m    453\u001b[0m \u001b[0;34m\u001b[0m\u001b[0m\n\u001b[1;32m    454\u001b[0m     \u001b[0;32melif\u001b[0m \u001b[0mdata_source\u001b[0m \u001b[0;34m==\u001b[0m \u001b[0;34m\"fred\"\u001b[0m\u001b[0;34m:\u001b[0m\u001b[0;34m\u001b[0m\u001b[0;34m\u001b[0m\u001b[0m\n\u001b[0;32m--> 455\u001b[0;31m         return FredReader(\n\u001b[0m\u001b[1;32m    456\u001b[0m             \u001b[0msymbols\u001b[0m\u001b[0;34m=\u001b[0m\u001b[0mname\u001b[0m\u001b[0;34m,\u001b[0m\u001b[0;34m\u001b[0m\u001b[0;34m\u001b[0m\u001b[0m\n\u001b[1;32m    457\u001b[0m             \u001b[0mstart\u001b[0m\u001b[0;34m=\u001b[0m\u001b[0mstart\u001b[0m\u001b[0;34m,\u001b[0m\u001b[0;34m\u001b[0m\u001b[0;34m\u001b[0m\u001b[0m\n",
      "\u001b[0;32m~/opt/anaconda3/lib/python3.8/site-packages/pandas_datareader/fred.py\u001b[0m in \u001b[0;36mread\u001b[0;34m(self)\u001b[0m\n\u001b[1;32m     25\u001b[0m         \"\"\"\n\u001b[1;32m     26\u001b[0m         \u001b[0;32mtry\u001b[0m\u001b[0;34m:\u001b[0m\u001b[0;34m\u001b[0m\u001b[0;34m\u001b[0m\u001b[0m\n\u001b[0;32m---> 27\u001b[0;31m             \u001b[0;32mreturn\u001b[0m \u001b[0mself\u001b[0m\u001b[0;34m.\u001b[0m\u001b[0m_read\u001b[0m\u001b[0;34m(\u001b[0m\u001b[0;34m)\u001b[0m\u001b[0;34m\u001b[0m\u001b[0;34m\u001b[0m\u001b[0m\n\u001b[0m\u001b[1;32m     28\u001b[0m         \u001b[0;32mfinally\u001b[0m\u001b[0;34m:\u001b[0m\u001b[0;34m\u001b[0m\u001b[0;34m\u001b[0m\u001b[0m\n\u001b[1;32m     29\u001b[0m             \u001b[0mself\u001b[0m\u001b[0;34m.\u001b[0m\u001b[0mclose\u001b[0m\u001b[0;34m(\u001b[0m\u001b[0;34m)\u001b[0m\u001b[0;34m\u001b[0m\u001b[0;34m\u001b[0m\u001b[0m\n",
      "\u001b[0;32m~/opt/anaconda3/lib/python3.8/site-packages/pandas_datareader/fred.py\u001b[0m in \u001b[0;36m_read\u001b[0;34m(self)\u001b[0m\n\u001b[1;32m     60\u001b[0m \u001b[0;34m\u001b[0m\u001b[0m\n\u001b[1;32m     61\u001b[0m         df = concat(\n\u001b[0;32m---> 62\u001b[0;31m             \u001b[0;34m[\u001b[0m\u001b[0mfetch_data\u001b[0m\u001b[0;34m(\u001b[0m\u001b[0murl\u001b[0m\u001b[0;34m,\u001b[0m \u001b[0mn\u001b[0m\u001b[0;34m)\u001b[0m \u001b[0;32mfor\u001b[0m \u001b[0murl\u001b[0m\u001b[0;34m,\u001b[0m \u001b[0mn\u001b[0m \u001b[0;32min\u001b[0m \u001b[0mzip\u001b[0m\u001b[0;34m(\u001b[0m\u001b[0murls\u001b[0m\u001b[0;34m,\u001b[0m \u001b[0mnames\u001b[0m\u001b[0;34m)\u001b[0m\u001b[0;34m]\u001b[0m\u001b[0;34m,\u001b[0m \u001b[0maxis\u001b[0m\u001b[0;34m=\u001b[0m\u001b[0;36m1\u001b[0m\u001b[0;34m,\u001b[0m \u001b[0mjoin\u001b[0m\u001b[0;34m=\u001b[0m\u001b[0;34m\"outer\"\u001b[0m\u001b[0;34m\u001b[0m\u001b[0;34m\u001b[0m\u001b[0m\n\u001b[0m\u001b[1;32m     63\u001b[0m         )\n\u001b[1;32m     64\u001b[0m         \u001b[0;32mreturn\u001b[0m \u001b[0mdf\u001b[0m\u001b[0;34m\u001b[0m\u001b[0;34m\u001b[0m\u001b[0m\n",
      "\u001b[0;32m~/opt/anaconda3/lib/python3.8/site-packages/pandas_datareader/fred.py\u001b[0m in \u001b[0;36m<listcomp>\u001b[0;34m(.0)\u001b[0m\n\u001b[1;32m     60\u001b[0m \u001b[0;34m\u001b[0m\u001b[0m\n\u001b[1;32m     61\u001b[0m         df = concat(\n\u001b[0;32m---> 62\u001b[0;31m             \u001b[0;34m[\u001b[0m\u001b[0mfetch_data\u001b[0m\u001b[0;34m(\u001b[0m\u001b[0murl\u001b[0m\u001b[0;34m,\u001b[0m \u001b[0mn\u001b[0m\u001b[0;34m)\u001b[0m \u001b[0;32mfor\u001b[0m \u001b[0murl\u001b[0m\u001b[0;34m,\u001b[0m \u001b[0mn\u001b[0m \u001b[0;32min\u001b[0m \u001b[0mzip\u001b[0m\u001b[0;34m(\u001b[0m\u001b[0murls\u001b[0m\u001b[0;34m,\u001b[0m \u001b[0mnames\u001b[0m\u001b[0;34m)\u001b[0m\u001b[0;34m]\u001b[0m\u001b[0;34m,\u001b[0m \u001b[0maxis\u001b[0m\u001b[0;34m=\u001b[0m\u001b[0;36m1\u001b[0m\u001b[0;34m,\u001b[0m \u001b[0mjoin\u001b[0m\u001b[0;34m=\u001b[0m\u001b[0;34m\"outer\"\u001b[0m\u001b[0;34m\u001b[0m\u001b[0;34m\u001b[0m\u001b[0m\n\u001b[0m\u001b[1;32m     63\u001b[0m         )\n\u001b[1;32m     64\u001b[0m         \u001b[0;32mreturn\u001b[0m \u001b[0mdf\u001b[0m\u001b[0;34m\u001b[0m\u001b[0;34m\u001b[0m\u001b[0m\n",
      "\u001b[0;32m~/opt/anaconda3/lib/python3.8/site-packages/pandas_datareader/fred.py\u001b[0m in \u001b[0;36mfetch_data\u001b[0;34m(url, name)\u001b[0m\n\u001b[1;32m     39\u001b[0m         \u001b[0;32mdef\u001b[0m \u001b[0mfetch_data\u001b[0m\u001b[0;34m(\u001b[0m\u001b[0murl\u001b[0m\u001b[0;34m,\u001b[0m \u001b[0mname\u001b[0m\u001b[0;34m)\u001b[0m\u001b[0;34m:\u001b[0m\u001b[0;34m\u001b[0m\u001b[0;34m\u001b[0m\u001b[0m\n\u001b[1;32m     40\u001b[0m             \u001b[0;34m\"\"\"Utillity to fetch data\"\"\"\u001b[0m\u001b[0;34m\u001b[0m\u001b[0;34m\u001b[0m\u001b[0m\n\u001b[0;32m---> 41\u001b[0;31m             \u001b[0mresp\u001b[0m \u001b[0;34m=\u001b[0m \u001b[0mself\u001b[0m\u001b[0;34m.\u001b[0m\u001b[0m_read_url_as_StringIO\u001b[0m\u001b[0;34m(\u001b[0m\u001b[0murl\u001b[0m\u001b[0;34m)\u001b[0m\u001b[0;34m\u001b[0m\u001b[0;34m\u001b[0m\u001b[0m\n\u001b[0m\u001b[1;32m     42\u001b[0m             data = read_csv(\n\u001b[1;32m     43\u001b[0m                 \u001b[0mresp\u001b[0m\u001b[0;34m,\u001b[0m\u001b[0;34m\u001b[0m\u001b[0;34m\u001b[0m\u001b[0m\n",
      "\u001b[0;32m~/opt/anaconda3/lib/python3.8/site-packages/pandas_datareader/base.py\u001b[0m in \u001b[0;36m_read_url_as_StringIO\u001b[0;34m(self, url, params)\u001b[0m\n\u001b[1;32m    116\u001b[0m         \u001b[0mOpen\u001b[0m \u001b[0murl\u001b[0m \u001b[0;34m(\u001b[0m\u001b[0;32mand\u001b[0m \u001b[0mretry\u001b[0m\u001b[0;34m)\u001b[0m\u001b[0;34m\u001b[0m\u001b[0;34m\u001b[0m\u001b[0m\n\u001b[1;32m    117\u001b[0m         \"\"\"\n\u001b[0;32m--> 118\u001b[0;31m         \u001b[0mresponse\u001b[0m \u001b[0;34m=\u001b[0m \u001b[0mself\u001b[0m\u001b[0;34m.\u001b[0m\u001b[0m_get_response\u001b[0m\u001b[0;34m(\u001b[0m\u001b[0murl\u001b[0m\u001b[0;34m,\u001b[0m \u001b[0mparams\u001b[0m\u001b[0;34m=\u001b[0m\u001b[0mparams\u001b[0m\u001b[0;34m)\u001b[0m\u001b[0;34m\u001b[0m\u001b[0;34m\u001b[0m\u001b[0m\n\u001b[0m\u001b[1;32m    119\u001b[0m         \u001b[0mtext\u001b[0m \u001b[0;34m=\u001b[0m \u001b[0mself\u001b[0m\u001b[0;34m.\u001b[0m\u001b[0m_sanitize_response\u001b[0m\u001b[0;34m(\u001b[0m\u001b[0mresponse\u001b[0m\u001b[0;34m)\u001b[0m\u001b[0;34m\u001b[0m\u001b[0;34m\u001b[0m\u001b[0m\n\u001b[1;32m    120\u001b[0m         \u001b[0mout\u001b[0m \u001b[0;34m=\u001b[0m \u001b[0mStringIO\u001b[0m\u001b[0;34m(\u001b[0m\u001b[0;34m)\u001b[0m\u001b[0;34m\u001b[0m\u001b[0;34m\u001b[0m\u001b[0m\n",
      "\u001b[0;32m~/opt/anaconda3/lib/python3.8/site-packages/pandas_datareader/base.py\u001b[0m in \u001b[0;36m_get_response\u001b[0;34m(self, url, params, headers)\u001b[0m\n\u001b[1;32m    153\u001b[0m         \u001b[0mlast_response_text\u001b[0m \u001b[0;34m=\u001b[0m \u001b[0;34m\"\"\u001b[0m\u001b[0;34m\u001b[0m\u001b[0;34m\u001b[0m\u001b[0m\n\u001b[1;32m    154\u001b[0m         \u001b[0;32mfor\u001b[0m \u001b[0m_\u001b[0m \u001b[0;32min\u001b[0m \u001b[0mrange\u001b[0m\u001b[0;34m(\u001b[0m\u001b[0mself\u001b[0m\u001b[0;34m.\u001b[0m\u001b[0mretry_count\u001b[0m \u001b[0;34m+\u001b[0m \u001b[0;36m1\u001b[0m\u001b[0;34m)\u001b[0m\u001b[0;34m:\u001b[0m\u001b[0;34m\u001b[0m\u001b[0;34m\u001b[0m\u001b[0m\n\u001b[0;32m--> 155\u001b[0;31m             response = self.session.get(\n\u001b[0m\u001b[1;32m    156\u001b[0m                 \u001b[0murl\u001b[0m\u001b[0;34m,\u001b[0m \u001b[0mparams\u001b[0m\u001b[0;34m=\u001b[0m\u001b[0mparams\u001b[0m\u001b[0;34m,\u001b[0m \u001b[0mheaders\u001b[0m\u001b[0;34m=\u001b[0m\u001b[0mheaders\u001b[0m\u001b[0;34m,\u001b[0m \u001b[0mtimeout\u001b[0m\u001b[0;34m=\u001b[0m\u001b[0mself\u001b[0m\u001b[0;34m.\u001b[0m\u001b[0mtimeout\u001b[0m\u001b[0;34m\u001b[0m\u001b[0;34m\u001b[0m\u001b[0m\n\u001b[1;32m    157\u001b[0m             )\n",
      "\u001b[0;32m~/opt/anaconda3/lib/python3.8/site-packages/requests/sessions.py\u001b[0m in \u001b[0;36mget\u001b[0;34m(self, url, **kwargs)\u001b[0m\n\u001b[1;32m    553\u001b[0m \u001b[0;34m\u001b[0m\u001b[0m\n\u001b[1;32m    554\u001b[0m         \u001b[0mkwargs\u001b[0m\u001b[0;34m.\u001b[0m\u001b[0msetdefault\u001b[0m\u001b[0;34m(\u001b[0m\u001b[0;34m'allow_redirects'\u001b[0m\u001b[0;34m,\u001b[0m \u001b[0;32mTrue\u001b[0m\u001b[0;34m)\u001b[0m\u001b[0;34m\u001b[0m\u001b[0;34m\u001b[0m\u001b[0m\n\u001b[0;32m--> 555\u001b[0;31m         \u001b[0;32mreturn\u001b[0m \u001b[0mself\u001b[0m\u001b[0;34m.\u001b[0m\u001b[0mrequest\u001b[0m\u001b[0;34m(\u001b[0m\u001b[0;34m'GET'\u001b[0m\u001b[0;34m,\u001b[0m \u001b[0murl\u001b[0m\u001b[0;34m,\u001b[0m \u001b[0;34m**\u001b[0m\u001b[0mkwargs\u001b[0m\u001b[0;34m)\u001b[0m\u001b[0;34m\u001b[0m\u001b[0;34m\u001b[0m\u001b[0m\n\u001b[0m\u001b[1;32m    556\u001b[0m \u001b[0;34m\u001b[0m\u001b[0m\n\u001b[1;32m    557\u001b[0m     \u001b[0;32mdef\u001b[0m \u001b[0moptions\u001b[0m\u001b[0;34m(\u001b[0m\u001b[0mself\u001b[0m\u001b[0;34m,\u001b[0m \u001b[0murl\u001b[0m\u001b[0;34m,\u001b[0m \u001b[0;34m**\u001b[0m\u001b[0mkwargs\u001b[0m\u001b[0;34m)\u001b[0m\u001b[0;34m:\u001b[0m\u001b[0;34m\u001b[0m\u001b[0;34m\u001b[0m\u001b[0m\n",
      "\u001b[0;32m~/opt/anaconda3/lib/python3.8/site-packages/requests/sessions.py\u001b[0m in \u001b[0;36mrequest\u001b[0;34m(self, method, url, params, data, headers, cookies, files, auth, timeout, allow_redirects, proxies, hooks, stream, verify, cert, json)\u001b[0m\n\u001b[1;32m    540\u001b[0m         }\n\u001b[1;32m    541\u001b[0m         \u001b[0msend_kwargs\u001b[0m\u001b[0;34m.\u001b[0m\u001b[0mupdate\u001b[0m\u001b[0;34m(\u001b[0m\u001b[0msettings\u001b[0m\u001b[0;34m)\u001b[0m\u001b[0;34m\u001b[0m\u001b[0;34m\u001b[0m\u001b[0m\n\u001b[0;32m--> 542\u001b[0;31m         \u001b[0mresp\u001b[0m \u001b[0;34m=\u001b[0m \u001b[0mself\u001b[0m\u001b[0;34m.\u001b[0m\u001b[0msend\u001b[0m\u001b[0;34m(\u001b[0m\u001b[0mprep\u001b[0m\u001b[0;34m,\u001b[0m \u001b[0;34m**\u001b[0m\u001b[0msend_kwargs\u001b[0m\u001b[0;34m)\u001b[0m\u001b[0;34m\u001b[0m\u001b[0;34m\u001b[0m\u001b[0m\n\u001b[0m\u001b[1;32m    543\u001b[0m \u001b[0;34m\u001b[0m\u001b[0m\n\u001b[1;32m    544\u001b[0m         \u001b[0;32mreturn\u001b[0m \u001b[0mresp\u001b[0m\u001b[0;34m\u001b[0m\u001b[0;34m\u001b[0m\u001b[0m\n",
      "\u001b[0;32m~/opt/anaconda3/lib/python3.8/site-packages/requests/sessions.py\u001b[0m in \u001b[0;36msend\u001b[0;34m(self, request, **kwargs)\u001b[0m\n\u001b[1;32m    653\u001b[0m \u001b[0;34m\u001b[0m\u001b[0m\n\u001b[1;32m    654\u001b[0m         \u001b[0;31m# Send the request\u001b[0m\u001b[0;34m\u001b[0m\u001b[0;34m\u001b[0m\u001b[0;34m\u001b[0m\u001b[0m\n\u001b[0;32m--> 655\u001b[0;31m         \u001b[0mr\u001b[0m \u001b[0;34m=\u001b[0m \u001b[0madapter\u001b[0m\u001b[0;34m.\u001b[0m\u001b[0msend\u001b[0m\u001b[0;34m(\u001b[0m\u001b[0mrequest\u001b[0m\u001b[0;34m,\u001b[0m \u001b[0;34m**\u001b[0m\u001b[0mkwargs\u001b[0m\u001b[0;34m)\u001b[0m\u001b[0;34m\u001b[0m\u001b[0;34m\u001b[0m\u001b[0m\n\u001b[0m\u001b[1;32m    656\u001b[0m \u001b[0;34m\u001b[0m\u001b[0m\n\u001b[1;32m    657\u001b[0m         \u001b[0;31m# Total elapsed time of the request (approximately)\u001b[0m\u001b[0;34m\u001b[0m\u001b[0;34m\u001b[0m\u001b[0;34m\u001b[0m\u001b[0m\n",
      "\u001b[0;32m~/opt/anaconda3/lib/python3.8/site-packages/requests/adapters.py\u001b[0m in \u001b[0;36msend\u001b[0;34m(self, request, stream, timeout, verify, cert, proxies)\u001b[0m\n\u001b[1;32m    514\u001b[0m                 \u001b[0;32mraise\u001b[0m \u001b[0mSSLError\u001b[0m\u001b[0;34m(\u001b[0m\u001b[0me\u001b[0m\u001b[0;34m,\u001b[0m \u001b[0mrequest\u001b[0m\u001b[0;34m=\u001b[0m\u001b[0mrequest\u001b[0m\u001b[0;34m)\u001b[0m\u001b[0;34m\u001b[0m\u001b[0;34m\u001b[0m\u001b[0m\n\u001b[1;32m    515\u001b[0m \u001b[0;34m\u001b[0m\u001b[0m\n\u001b[0;32m--> 516\u001b[0;31m             \u001b[0;32mraise\u001b[0m \u001b[0mConnectionError\u001b[0m\u001b[0;34m(\u001b[0m\u001b[0me\u001b[0m\u001b[0;34m,\u001b[0m \u001b[0mrequest\u001b[0m\u001b[0;34m=\u001b[0m\u001b[0mrequest\u001b[0m\u001b[0;34m)\u001b[0m\u001b[0;34m\u001b[0m\u001b[0;34m\u001b[0m\u001b[0m\n\u001b[0m\u001b[1;32m    517\u001b[0m \u001b[0;34m\u001b[0m\u001b[0m\n\u001b[1;32m    518\u001b[0m         \u001b[0;32mexcept\u001b[0m \u001b[0mClosedPoolError\u001b[0m \u001b[0;32mas\u001b[0m \u001b[0me\u001b[0m\u001b[0;34m:\u001b[0m\u001b[0;34m\u001b[0m\u001b[0;34m\u001b[0m\u001b[0m\n",
      "\u001b[0;31mConnectionError\u001b[0m: HTTPSConnectionPool(host='fred.stlouisfed.org', port=443): Max retries exceeded with url: /graph/fredgraph.csv?id=USREC (Caused by NewConnectionError('<urllib3.connection.HTTPSConnection object at 0x7ffd05a0fa60>: Failed to establish a new connection: [Errno 8] nodename nor servname provided, or not known'))"
     ]
    }
   ],
   "source": [
    "import pandas_datareader.data as web\n",
    "import datetime\n",
    "\n",
    "start = datetime.datetime(1945, 1, 1)\n",
    "end = datetime.datetime(2019, 12, 31)\n",
    "\n",
    "\n",
    "rec = web.DataReader(\"USREC\", \n",
    "                     \"fred\", \n",
    "                     start, \n",
    "                     end)\n",
    "gdp = web.DataReader('GDPC1',\n",
    "                     'fred',\n",
    "                     start,\n",
    "                     end)\n",
    "gdp_gr = gdp.pct_change().dropna()\n",
    "gdp_gr.index = pd.DatetimeIndex(gdp_gr.index, freq=\"QS\")"
   ]
  },
  {
   "cell_type": "code",
   "execution_count": null,
   "metadata": {
    "code_folding": [
     2
    ]
   },
   "outputs": [],
   "source": [
    "## use statsmodels \n",
    "\n",
    "mod_hamilton = sm.tsa.MarkovAutoregression(\n",
    "    gdp_gr, \n",
    "    k_regimes=2, \n",
    "    order= 4, \n",
    "    switching_ar=False\n",
    ")\n",
    "res_hamilton = mod_hamilton.fit()"
   ]
  },
  {
   "cell_type": "code",
   "execution_count": null,
   "metadata": {},
   "outputs": [],
   "source": [
    "res_hamilton.summary()"
   ]
  },
  {
   "cell_type": "code",
   "execution_count": null,
   "metadata": {},
   "outputs": [],
   "source": [
    "fig, axes = plt.subplots(2, figsize=(7, 7))\n",
    "ax = axes[0]\n",
    "ax.plot(res_hamilton.filtered_marginal_probabilities[0])\n",
    "ax.fill_between(rec.index, \n",
    "                0, \n",
    "                1, \n",
    "                where=rec[\"USREC\"].values, \n",
    "                color=\"k\", \n",
    "                alpha=0.1)\n",
    "ax.set_xlim(gdp_gr.index[4], gdp_gr.index[-1])\n",
    "ax.set(title=\"Filtered probability of recession\")\n",
    "\n",
    "ax = axes[1]\n",
    "ax.plot(res_hamilton.smoothed_marginal_probabilities[0])\n",
    "ax.fill_between(rec.index, 0, 1, where=rec[\"USREC\"].values, color=\"k\", alpha=0.1)\n",
    "ax.set_xlim(gdp_gr.index[4], gdp_gr.index[-1])\n",
    "ax.set(title=\"Smoothed probability of recession\")\n",
    "\n",
    "fig.tight_layout()"
   ]
  },
  {
   "cell_type": "code",
   "execution_count": null,
   "metadata": {
    "lines_to_next_cell": 2
   },
   "outputs": [],
   "source": [
    "## estimation using codes here \n",
    "\n",
    "mkv2_gdp = Markov2Switching(AR=1,\n",
    "                           nb_var=1)\n",
    "fake_data_list = [np.array(gdp_gr['GDPC1'])]\n",
    "\n",
    "obj = lambda para: -mkv2_gdp.log_likelihood(fake_data_list,\n",
    "                                        para)[0]   ## only the first output\n",
    "\n",
    "## estimation \n",
    "guess = (0.0,0.2,0.4,0.2,0.2,0.9)\n",
    "#bounds = [(None,None),(None,None),(0.03,1.0),(0.0,1.0),(0.0,1.0)] \n",
    "\n",
    "para_est = minimize(obj,\n",
    "                    x0=guess,\n",
    "                    method='CG',\n",
    "                    options={'disp': True,\n",
    "                            #'maxls':40,\n",
    "                            #'ftol': 2.220446049250313e-11\n",
    "                            }\n",
    "                   )['x']\n",
    "\n",
    "#results\n",
    "print('Estimated model parameters:',[round(x,2) for x in mkv2_gdp.get_model_para(para_est)])\n",
    "\n",
    "llh,filter1,pr1,pdf = mkv2_gdp.log_likelihood(fake_data_list,\n",
    "                                          para_est)"
   ]
  },
  {
   "cell_type": "code",
   "execution_count": null,
   "metadata": {
    "code_folding": []
   },
   "outputs": [],
   "source": [
    "## plot the time series \n",
    "\n",
    "lw = 2\n",
    "figsize = (15,5)\n",
    "fontsize = 10\n",
    "\n",
    "## plot \n",
    "fig, ax = plt.subplots(figsize = figsize)\n",
    "ax2 = ax.twinx()\n",
    "ax.plot(gdp_gr.index[2:-1],\n",
    "        gdp_gr[2:-1],\n",
    "        color='black',\n",
    "           lw= lw,\n",
    "           label= 'gdp growth ')\n",
    "ax2.plot(gdp_gr.index[2:-1],\n",
    "         filter1[0][2:-1],\n",
    "         'r-',\n",
    "         lw = lw,\n",
    "         label = 'filter prob (RHS)')\n",
    "ax.legend(loc = 2,\n",
    "         fontsize = fontsize)\n",
    "ax.set_xlabel(\"month\",fontsize = fontsize)\n",
    "ax.grid()\n",
    "ax.set_ylabel('% growth',fontsize = fontsize)\n",
    "ax.tick_params(axis='both', \n",
    "               which='major', \n",
    "               labelsize = fontsize)\n",
    "ax2.tick_params(axis='both', \n",
    "               which='major', \n",
    "               labelsize = fontsize)\n",
    "ax2.fill_between(rec.index, \n",
    "                min(filter1[0][1:-1]), \n",
    "                max(filter1[0][1:-1]), \n",
    "                where=rec[\"USREC\"].values, \n",
    "                color=\"k\", \n",
    "                alpha=0.1)\n",
    "ax2.legend(loc = 1,\n",
    "          fontsize = fontsize)"
   ]
  }
 ],
 "metadata": {
  "jupytext": {
   "encoding": "# -*- coding: utf-8 -*-",
   "formats": "ipynb,py:light"
  },
  "kernelspec": {
   "display_name": "Python 3 (ipykernel)",
   "language": "python",
   "name": "python3"
  },
  "language_info": {
   "codemirror_mode": {
    "name": "ipython",
    "version": 3
   },
   "file_extension": ".py",
   "mimetype": "text/x-python",
   "name": "python",
   "nbconvert_exporter": "python",
   "pygments_lexer": "ipython3",
   "version": "3.8.5"
  }
 },
 "nbformat": 4,
 "nbformat_minor": 4
}
