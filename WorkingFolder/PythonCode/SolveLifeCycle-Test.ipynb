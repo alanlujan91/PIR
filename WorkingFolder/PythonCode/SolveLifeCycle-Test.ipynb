{
 "cells": [
  {
   "cell_type": "markdown",
   "metadata": {},
   "source": [
    "## A life-cycle consumption  model under objective/subjective risk perceptions\n",
    "\n",
    "- author: Tao Wang\n",
    "- date: March 2022\n",
    "- this is a companion notebook to the paper \"Perceived income risks\""
   ]
  },
  {
   "cell_type": "markdown",
   "metadata": {},
   "source": [
    "- This notebook builds on a standard life-cycle consumption model with uninsured income risks and extends it to allow subjective beliefs about income risks\n",
    "  - Preference/income process\n",
    "\n",
    "      - CRRA utility \n",
    "      - During work: labor income risk: permanent + MA(1)/persistent/transitory/2-state Markov between UE and EMP or between low and high risk + i.i.d. unemployment shock\n",
    "       -  a deterministic growth rate of permanent income over the life cycle \n",
    "      - During retirement: receives a constant pension proportional to permanent income (no permanent/transitory income risks)\n",
    "      - A positive probability of death before terminal age \n",
    "  "
   ]
  },
  {
   "cell_type": "code",
   "execution_count": 1,
   "metadata": {},
   "outputs": [
    {
     "name": "stderr",
     "output_type": "stream",
     "text": [
      "OMP: Info #270: omp_set_nested routine deprecated, please use omp_set_max_active_levels instead.\n"
     ]
    }
   ],
   "source": [
    "import numpy as np\n",
    "import pandas as pd\n",
    "from quantecon.optimize import brent_max, brentq\n",
    "from interpolation import interp, mlinterp\n",
    "from scipy import interpolate\n",
    "import numba as nb\n",
    "from numba import jit,njit, float64, int64, boolean\n",
    "from numba.experimental import jitclass\n",
    "import matplotlib as mp\n",
    "import matplotlib.pyplot as plt\n",
    "%matplotlib inline\n",
    "from quantecon import MarkovChain\n",
    "import quantecon as qe \n",
    "from mpl_toolkits.mplot3d import Axes3D\n",
    "from matplotlib import cm\n",
    "from time import time\n",
    "from scipy import sparse as sp\n",
    "import scipy.sparse.linalg\n",
    "from scipy import linalg as lg \n",
    "from numba.typed import List\n",
    "from Utility import cal_ss_2markov"
   ]
  },
  {
   "cell_type": "code",
   "execution_count": 2,
   "metadata": {},
   "outputs": [],
   "source": [
    "from resources_jit import MeanOneLogNormal as lognorm"
   ]
  },
  {
   "cell_type": "code",
   "execution_count": 3,
   "metadata": {
    "code_folding": [],
    "lines_to_end_of_cell_marker": 2
   },
   "outputs": [],
   "source": [
    "## figure plotting configurations\n",
    "\n",
    "mp.rc('xtick', labelsize=11) \n",
    "mp.rc('ytick', labelsize=11) \n",
    "\n",
    "mp.rc('legend',fontsize=11)\n",
    "plt.rc('font',size=11) \n",
    "\n",
    "plt.style.use('seaborn')"
   ]
  },
  {
   "cell_type": "markdown",
   "metadata": {},
   "source": [
    "## The Model Class and Solver"
   ]
  },
  {
   "cell_type": "code",
   "execution_count": 4,
   "metadata": {},
   "outputs": [],
   "source": [
    "from SolveLifeCycle import LifeCycle, EGM, solve_model_backward_iter,compare_2solutions"
   ]
  },
  {
   "cell_type": "markdown",
   "metadata": {},
   "source": [
    "## Initialize the model"
   ]
  },
  {
   "cell_type": "code",
   "execution_count": 5,
   "metadata": {
    "code_folding": [
     0
    ]
   },
   "outputs": [],
   "source": [
    "if __name__ == \"__main__\":\n",
    "\n",
    "    ## parameters \n",
    "    ###################\n",
    "\n",
    "    U = 0.2 ## transitory ue risk\n",
    "    U0 = 0.0 ## transitory ue risk\n",
    "    unemp_insurance = 0.15\n",
    "    sigma_psi = 0.1 # permanent \n",
    "    sigma_eps = 0.0 # transitory \n",
    "\n",
    "\n",
    "    #λ = 0.0  ## tax rate\n",
    "    #λ_SS = 0.0 ## social tax rate\n",
    "    #transfer = 0.0  ## transfer \n",
    "    #pension = 1.0 ## pension\n",
    "\n",
    "\n",
    "    ## life cycle \n",
    "\n",
    "    T = 40\n",
    "    L = 60\n",
    "    TGPos = int(L/3) ## one third of life sees income growth \n",
    "    GPos = 1.01*np.ones(TGPos)\n",
    "    GNeg= 0.99*np.ones(L-TGPos)\n",
    "    #G = np.concatenate([GPos,GNeg])\n",
    "    G = np.ones(L)\n",
    "    YPath = np.cumprod(G)\n",
    "\n",
    "\n",
    "    ## other parameters \n",
    "\n",
    "    ρ = 2\n",
    "    R = 1.01\n",
    "    β = 0.97\n",
    "    x = 0.0\n",
    "    theta = 0.0 ## extrapolation parameter \n",
    "\n",
    "    ## no persistent state\n",
    "    b_y = 0.0\n",
    "\n",
    "    ## wether to have zero borrowing constraint \n",
    "    borrowing_cstr = True"
   ]
  },
  {
   "cell_type": "code",
   "execution_count": 6,
   "metadata": {
    "code_folding": [
     1
    ]
   },
   "outputs": [
    {
     "data": {
      "image/png": "[encoded data removed]",
      "text/plain": [
       "<Figure size 576x396 with 1 Axes>"
      ]
     },
     "metadata": {},
     "output_type": "display_data"
    }
   ],
   "source": [
    "## a deterministic income profile \n",
    "if __name__ == \"__main__\":\n",
    "\n",
    "    plt.title('Deterministic Life-cycle Income Profile \\n')\n",
    "    plt.plot(YPath,'ro')\n",
    "    plt.xlabel('Age')\n",
    "    plt.ylabel(r'$\\hat Y$')"
   ]
  },
  {
   "cell_type": "markdown",
   "metadata": {},
   "source": [
    "## Life-Cycle Problem "
   ]
  },
  {
   "cell_type": "markdown",
   "metadata": {},
   "source": [
    "### Consumption  the last period "
   ]
  },
  {
   "cell_type": "code",
   "execution_count": 7,
   "metadata": {
    "code_folding": [
     0,
     1
    ],
    "lines_to_next_cell": 2
   },
   "outputs": [],
   "source": [
    "if __name__ == \"__main__\":\n",
    "    lc = LifeCycle(sigma_psi = sigma_psi,\n",
    "                   sigma_eps = sigma_eps,\n",
    "                   U=U,\n",
    "                   ρ=ρ,\n",
    "                   R=R,\n",
    "                   T=T,\n",
    "                   L=L,\n",
    "                   G=G,\n",
    "                   β=β,\n",
    "                   x=x,\n",
    "                   borrowing_cstr = borrowing_cstr,\n",
    "                   b_y= b_y,\n",
    "                   unemp_insurance = unemp_insurance,\n",
    "                   )"
   ]
  },
  {
   "cell_type": "code",
   "execution_count": 8,
   "metadata": {
    "code_folding": []
   },
   "outputs": [],
   "source": [
    "# Initial the end-of-period consumption policy of σ = consume all assets\n",
    "\n",
    "if __name__ == \"__main__\":\n",
    "\n",
    "    ## terminal consumption function\n",
    "\n",
    "    m_init,σ_init = lc.terminal_solution()"
   ]
  },
  {
   "cell_type": "code",
   "execution_count": 9,
   "metadata": {
    "code_folding": []
   },
   "outputs": [
    {
     "data": {
      "image/png": "[encoded data removed]",
      "text/plain": [
       "<Figure size 576x396 with 1 Axes>"
      ]
     },
     "metadata": {},
     "output_type": "display_data"
    }
   ],
   "source": [
    "if __name__ == \"__main__\":\n",
    "\n",
    "    plt.title('Consumption in the last period')\n",
    "    plt.plot(m_init[:,0,1],\n",
    "             σ_init[:,0,1])"
   ]
  },
  {
   "cell_type": "markdown",
   "metadata": {},
   "source": [
    "## subjective versus objective "
   ]
  },
  {
   "cell_type": "code",
   "execution_count": 10,
   "metadata": {},
   "outputs": [],
   "source": [
    "if __name__ == \"__main__\":\n",
    "\n",
    "    from copy import copy\n",
    "    from PrepareParameters import life_cycle_paras_y as lc_paras_Y\n",
    "    ## make a copy of the imported parameters \n",
    "    lc_paras_y = copy(lc_paras_Y)\n",
    "    lc_paras = lc_paras_y"
   ]
  },
  {
   "cell_type": "code",
   "execution_count": 11,
   "metadata": {
    "code_folding": [
     1,
     45
    ],
    "lines_to_next_cell": 2
   },
   "outputs": [
    {
     "name": "stdout",
     "output_type": "stream",
     "text": [
      "remidner: needs to give true risk parameters: sigma_psi_true & sigma_eps_true!\n"
     ]
    }
   ],
   "source": [
    "if __name__ == \"__main__\":\n",
    "    lc_obj = LifeCycle(\n",
    "        ## primitives\n",
    "                   ρ = lc_paras['ρ'],     ## relative risk aversion  \n",
    "                   β = lc_paras['β'],     ## discount factor\n",
    "                   borrowing_cstr = borrowing_cstr,\n",
    "                   adjust_prob = 1.0,\n",
    "        \n",
    "        ## prices \n",
    "                   R = lc_paras['R'],           ## interest factor\n",
    "                   W = lc_paras['W'],           ## Wage rate\n",
    "        \n",
    "        ## life cycle \n",
    "                   T = lc_paras['T'],\n",
    "                   L = lc_paras['L'],\n",
    "                   G = lc_paras['G'],\n",
    "                   LivPrb = lc_paras['LivPrb'],       ## living probability \n",
    "        \n",
    "        ## income risks \n",
    "                   x = 0.0,\n",
    "                   b_y= 0.0,\n",
    "                   sigma_psi = lc_paras['σ_ψ'],\n",
    "                   sigma_eps = lc_paras['σ_θ'],\n",
    "                   ue_markov = True,\n",
    "                   P = lc_paras['P'],\n",
    "                   U = lc_paras['U'],\n",
    "                   z_val = lc_paras['z_val'], ## markov state from low to high \n",
    "                   sigma_psi_2mkv = lc_paras['σ_ψ_2mkv'],  ## permanent risks in 2 markov states\n",
    "                   sigma_eps_2mkv = lc_paras['σ_θ_2mkv'],  ## transitory risks in 2 markov states\n",
    "        \n",
    "        ## initial conditions \n",
    "                    sigma_p_init = lc_paras['σ_ψ_init'],\n",
    "                    init_b = lc_paras['init_b'],\n",
    "\n",
    "        ## policy \n",
    "                   unemp_insurance = lc_paras['unemp_insurance'],\n",
    "                   pension = lc_paras['pension'], ## pension\n",
    "                   λ = lc_paras['λ'],  ## tax rate\n",
    "                   λ_SS = lc_paras['λ_SS'], ## social tax rate\n",
    "                   transfer = lc_paras['transfer'],  ## transfer \n",
    "                   bequest_ratio = lc_paras['bequest_ratio'],\n",
    "         ## solutions \n",
    "                   shock_draw_size = 10.0,\n",
    "                   grid_max = 10\n",
    "                   )\n",
    "    lc_sub = LifeCycle(\n",
    "        ## primitives\n",
    "                   ρ = lc_paras['ρ'],     ## relative risk aversion  \n",
    "                   β = lc_paras['β'],     ## discount factor\n",
    "                   borrowing_cstr = borrowing_cstr,\n",
    "                   adjust_prob = 1.0,\n",
    "        ## prices \n",
    "                   R = lc_paras['R'],           ## interest factor\n",
    "                   W = lc_paras['W'],            ## Wage rate\n",
    "        ## life cycle \n",
    "                   T = lc_paras['T'],\n",
    "                   L = lc_paras['L'],\n",
    "                   G = lc_paras['G'],\n",
    "                   LivPrb = lc_paras['LivPrb'],       ## living probability \n",
    "        \n",
    "        ## income risks \n",
    "                   x = 0.0,\n",
    "                   b_y= 0.0,\n",
    "                   sigma_psi = lc_paras['σ_ψ_sub'],\n",
    "                   sigma_eps = lc_paras['σ_θ_sub'],\n",
    "                   subjective =True,\n",
    "                   ue_markov = True,\n",
    "                   P = lc_paras['P'],\n",
    "                   U = lc_paras['U'],\n",
    "                   z_val = lc_paras['z_val'], ## markov state from low to high\n",
    "                   sigma_psi_2mkv = lc_paras['σ_ψ_2mkv'],  ## permanent risks in 2 markov states\n",
    "                   sigma_eps_2mkv = lc_paras['σ_θ_2mkv'],  ## transitory risks in 2 markov states\n",
    "                   sigma_psi_true = lc_paras['σ_ψ'], ## true permanent\n",
    "                   sigma_eps_true = lc_paras['σ_θ'], ## true transitory\n",
    "        \n",
    "        ## initial conditions \n",
    "                    sigma_p_init = lc_paras['σ_ψ_init'],\n",
    "                    init_b = lc_paras['init_b'],\n",
    "\n",
    "        ## policy \n",
    "                   unemp_insurance = lc_paras['unemp_insurance'],\n",
    "                   pension = lc_paras['pension'], ## pension\n",
    "                   λ = lc_paras['λ'],  ## tax rate\n",
    "                   λ_SS = lc_paras['λ_SS'], ## social tax rate\n",
    "                   transfer = lc_paras['transfer'],  ## transfer \n",
    "                   bequest_ratio = lc_paras['bequest_ratio'],\n",
    "        ## solutions \n",
    "                  shock_draw_size =  10.0,\n",
    "                  grid_max = 10\n",
    "                   )\n",
    "    \n",
    " \n",
    "    models = [lc_sub,lc_obj]\n",
    "    model_names = ['subjective','objective']"
   ]
  },
  {
   "cell_type": "code",
   "execution_count": 12,
   "metadata": {
    "code_folding": [
     0
    ]
   },
   "outputs": [
    {
     "name": "stdout",
     "output_type": "stream",
     "text": [
      "at work age of 59\n",
      "at work age of 58\n",
      "at work age of 57\n",
      "at work age of 56\n",
      "at work age of 55\n",
      "at work age of 54\n",
      "at work age of 53\n",
      "at work age of 52\n",
      "at work age of 51\n",
      "at work age of 50\n",
      "at work age of 49\n",
      "at work age of 48\n",
      "at work age of 47\n",
      "at work age of 46\n",
      "at work age of 45\n",
      "at work age of 44\n",
      "at work age of 43\n",
      "at work age of 42\n",
      "at work age of 41\n",
      "at work age of 40\n",
      "at work age of 39\n",
      "at work age of 38\n",
      "at work age of 37\n",
      "at work age of 36\n",
      "at work age of 35\n",
      "at work age of 34\n",
      "at work age of 33\n",
      "at work age of 32\n",
      "at work age of 31\n",
      "at work age of 30\n",
      "at work age of 29\n",
      "at work age of 28\n",
      "at work age of 27\n",
      "at work age of 26\n",
      "at work age of 25\n",
      "at work age of 24\n",
      "at work age of 23\n",
      "at work age of 22\n",
      "at work age of 21\n",
      "at work age of 20\n",
      "at work age of 19\n",
      "at work age of 18\n",
      "at work age of 17\n",
      "at work age of 16\n",
      "at work age of 15\n",
      "at work age of 14\n",
      "at work age of 13\n",
      "at work age of 12\n",
      "at work age of 11\n",
      "at work age of 10\n",
      "at work age of 9\n",
      "at work age of 8\n",
      "at work age of 7\n",
      "at work age of 6\n",
      "at work age of 5\n",
      "at work age of 4\n",
      "at work age of 3\n",
      "at work age of 2\n",
      "at work age of 1\n",
      "at work age of 59\n",
      "at work age of 58\n",
      "at work age of 57\n",
      "at work age of 56\n",
      "at work age of 55\n",
      "at work age of 54\n",
      "at work age of 53\n",
      "at work age of 52\n",
      "at work age of 51\n",
      "at work age of 50\n",
      "at work age of 49\n",
      "at work age of 48\n",
      "at work age of 47\n",
      "at work age of 46\n",
      "at work age of 45\n",
      "at work age of 44\n",
      "at work age of 43\n",
      "at work age of 42\n",
      "at work age of 41\n",
      "at work age of 40\n",
      "at work age of 39\n",
      "at work age of 38\n",
      "at work age of 37\n",
      "at work age of 36\n",
      "at work age of 35\n",
      "at work age of 34\n",
      "at work age of 33\n",
      "at work age of 32\n",
      "at work age of 31\n",
      "at work age of 30\n",
      "at work age of 29\n",
      "at work age of 28\n",
      "at work age of 27\n",
      "at work age of 26\n",
      "at work age of 25\n",
      "at work age of 24\n",
      "at work age of 23\n",
      "at work age of 22\n",
      "at work age of 21\n",
      "at work age of 20\n",
      "at work age of 19\n",
      "at work age of 18\n",
      "at work age of 17\n",
      "at work age of 16\n",
      "at work age of 15\n",
      "at work age of 14\n",
      "at work age of 13\n",
      "at work age of 12\n",
      "at work age of 11\n",
      "at work age of 10\n",
      "at work age of 9\n",
      "at work age of 8\n",
      "at work age of 7\n",
      "at work age of 6\n",
      "at work age of 5\n",
      "at work age of 4\n",
      "at work age of 3\n",
      "at work age of 2\n",
      "at work age of 1\n",
      "Time taken, in seconds: 23.348729133605957\n"
     ]
    }
   ],
   "source": [
    "if __name__ == \"__main__\":\n",
    "    \n",
    "    t_start = time()\n",
    "    \n",
    "    ms_stars =[]\n",
    "    σs_stars = []\n",
    "\n",
    "    for i,model in enumerate(models):\n",
    "        ## terminal solution\n",
    "        m_init,σ_init = model.terminal_solution()\n",
    "\n",
    "        ## solve backward\n",
    "        ms_star, σs_star = solve_model_backward_iter(model,\n",
    "                                                     m_init,\n",
    "                                                     σ_init)\n",
    "        ms_stars.append(ms_star)\n",
    "        σs_stars.append(σs_star)\n",
    "\n",
    "\n",
    "    t_finish = time()\n",
    "\n",
    "    print(\"Time taken, in seconds: \"+ str(t_finish - t_start))"
   ]
  },
  {
   "cell_type": "code",
   "execution_count": 13,
   "metadata": {
    "code_folding": []
   },
   "outputs": [
    {
     "name": "stdout",
     "output_type": "stream",
     "text": [
      "should be positive\n"
     ]
    },
    {
     "data": {
      "image/png": "[encoded data removed]",
      "text/plain": [
       "<Figure size 576x396 with 1 Axes>"
      ]
     },
     "metadata": {},
     "output_type": "display_data"
    }
   ],
   "source": [
    "sub_minus_obj = compare_2solutions(ms_stars,\n",
    "                                  σs_stars)\n",
    "\n",
    "plt.hist(sub_minus_obj.flatten(),\n",
    "         bins=50)\n",
    "plt.title('Consumption in subjective model minus objective model')\n",
    "print('should be positive')"
   ]
  },
  {
   "cell_type": "code",
   "execution_count": 14,
   "metadata": {},
   "outputs": [
    {
     "data": {
      "image/png": "[encoded data removed]",
      "text/plain": [
       "<Figure size 1152x288 with 4 Axes>"
      ]
     },
     "metadata": {},
     "output_type": "display_data"
    }
   ],
   "source": [
    "if __name__ == \"__main__\":\n",
    "\n",
    "    m_grid = np.linspace(0.0,10.0,200)\n",
    "    ## plot c func at different age /asset grid\n",
    "    years_left = [1,21,30,59]\n",
    "\n",
    "    n_sub = len(years_left)\n",
    "\n",
    "    eps_fix = 0 ## the first eps grid \n",
    "\n",
    "    fig,axes = plt.subplots(1,n_sub,figsize=(4*n_sub,4))\n",
    "\n",
    "    for x,year in enumerate(years_left):\n",
    "        age = lc.L-year\n",
    "        i = lc.L-age\n",
    "        for k,model_name in enumerate(model_names):\n",
    "            m_plt,c_plt = ms_stars[k][i,:,eps_fix,0],σs_stars[k][i,:,eps_fix,0]\n",
    "            c_func = lambda m: interp(m_plt,c_plt,m)\n",
    "            axes[x].plot(m_grid,\n",
    "                         c_func(m_grid),\n",
    "                         label = model_name,\n",
    "                         lw = 3\n",
    "                        )\n",
    "        axes[x].legend()\n",
    "        axes[x].set_xlim(0.0,np.max(m_grid))\n",
    "        axes[x].set_xlabel('asset')\n",
    "        axes[0].set_ylabel('c')\n",
    "        axes[x].set_title(r'$age={}$'.format(age))"
   ]
  },
  {
   "cell_type": "markdown",
   "metadata": {},
   "source": [
    "## low versus high risks "
   ]
  },
  {
   "cell_type": "code",
   "execution_count": 15,
   "metadata": {
    "code_folding": []
   },
   "outputs": [
    {
     "name": "stdout",
     "output_type": "stream",
     "text": [
      "at work age of 59\n",
      "at work age of 58\n",
      "at work age of 57\n",
      "at work age of 56\n",
      "at work age of 55\n",
      "at work age of 54\n",
      "at work age of 53\n",
      "at work age of 52\n",
      "at work age of 51\n",
      "at work age of 50\n",
      "at work age of 49\n",
      "at work age of 48\n",
      "at work age of 47\n",
      "at work age of 46\n",
      "at work age of 45\n",
      "at work age of 44\n",
      "at work age of 43\n",
      "at work age of 42\n",
      "at work age of 41\n",
      "at work age of 40\n",
      "at work age of 39\n",
      "at work age of 38\n",
      "at work age of 37\n",
      "at work age of 36\n",
      "at work age of 35\n",
      "at work age of 34\n",
      "at work age of 33\n",
      "at work age of 32\n",
      "at work age of 31\n",
      "at work age of 30\n",
      "at work age of 29\n",
      "at work age of 28\n",
      "at work age of 27\n",
      "at work age of 26\n",
      "at work age of 25\n",
      "at work age of 24\n",
      "at work age of 23\n",
      "at work age of 22\n",
      "at work age of 21\n",
      "at work age of 20\n",
      "at work age of 19\n",
      "at work age of 18\n",
      "at work age of 17\n",
      "at work age of 16\n",
      "at work age of 15\n",
      "at work age of 14\n",
      "at work age of 13\n",
      "at work age of 12\n",
      "at work age of 11\n",
      "at work age of 10\n",
      "at work age of 9\n",
      "at work age of 8\n",
      "at work age of 7\n",
      "at work age of 6\n",
      "at work age of 5\n",
      "at work age of 4\n",
      "at work age of 3\n",
      "at work age of 2\n",
      "at work age of 1\n",
      "at work age of 59\n",
      "at work age of 58\n",
      "at work age of 57\n",
      "at work age of 56\n",
      "at work age of 55\n",
      "at work age of 54\n",
      "at work age of 53\n",
      "at work age of 52\n",
      "at work age of 51\n",
      "at work age of 50\n",
      "at work age of 49\n",
      "at work age of 48\n",
      "at work age of 47\n",
      "at work age of 46\n",
      "at work age of 45\n",
      "at work age of 44\n",
      "at work age of 43\n",
      "at work age of 42\n",
      "at work age of 41\n",
      "at work age of 40\n",
      "at work age of 39\n",
      "at work age of 38\n",
      "at work age of 37\n",
      "at work age of 36\n",
      "at work age of 35\n",
      "at work age of 34\n",
      "at work age of 33\n",
      "at work age of 32\n",
      "at work age of 31\n",
      "at work age of 30\n",
      "at work age of 29\n",
      "at work age of 28\n",
      "at work age of 27\n",
      "at work age of 26\n",
      "at work age of 25\n",
      "at work age of 24\n",
      "at work age of 23\n",
      "at work age of 22\n",
      "at work age of 21\n",
      "at work age of 20\n",
      "at work age of 19\n",
      "at work age of 18\n",
      "at work age of 17\n",
      "at work age of 16\n",
      "at work age of 15\n",
      "at work age of 14\n",
      "at work age of 13\n",
      "at work age of 12\n",
      "at work age of 11\n",
      "at work age of 10\n",
      "at work age of 9\n",
      "at work age of 8\n",
      "at work age of 7\n",
      "at work age of 6\n",
      "at work age of 5\n",
      "at work age of 4\n",
      "at work age of 3\n",
      "at work age of 2\n",
      "at work age of 1\n",
      "Time taken, in seconds: 3.1805009841918945\n"
     ]
    }
   ],
   "source": [
    "if __name__ == \"__main__\":\n",
    "\n",
    "    t_start = time()\n",
    "\n",
    "    sigma_psi_ls = [lc_paras['σ_ψ_sub'],lc_paras['σ_ψ']]\n",
    "    sigma_eps_ls = [lc_paras['σ_θ_sub'],lc_paras['σ_θ']]\n",
    "    \n",
    "    ms_stars =[]\n",
    "    σs_stars = []\n",
    "    \n",
    "    for i,sigma_psi in enumerate(sigma_psi_ls):\n",
    "        lc.sigma_psi = sigma_psi\n",
    "        lc.sigma_eps = sigma_eps_ls[i]\n",
    "        ### this line is very important!!!!\n",
    "        #### need to regenerate shock draws for new sigmas\n",
    "        lc.prepare_shocks()\n",
    "        \n",
    "        ## terminal solution\n",
    "        m_init,σ_init = lc.terminal_solution()\n",
    "        \n",
    "        ## solve backward\n",
    "        ms_star, σs_star = solve_model_backward_iter(lc,\n",
    "                                                     m_init,\n",
    "                                                     σ_init)\n",
    "        ms_stars.append(ms_star)\n",
    "        σs_stars.append(σs_star)\n",
    "\n",
    "\n",
    "    t_finish = time()\n",
    "\n",
    "    print(\"Time taken, in seconds: \"+ str(t_finish - t_start))"
   ]
  },
  {
   "cell_type": "code",
   "execution_count": 40,
   "metadata": {
    "code_folding": []
   },
   "outputs": [
    {
     "name": "stdout",
     "output_type": "stream",
     "text": [
      "should be positive\n"
     ]
    },
    {
     "data": {
      "image/png": "[encoded data removed]",
      "text/plain": [
       "<Figure size 576x396 with 1 Axes>"
      ]
     },
     "metadata": {},
     "output_type": "display_data"
    }
   ],
   "source": [
    "# compare solutions\n",
    "\n",
    "sub_minus_obj = compare_2solutions(ms_stars,\n",
    "                                  σs_stars)\n",
    "\n",
    "plt.hist(sub_minus_obj.flatten(),\n",
    "         bins=50)\n",
    "plt.title('Consumption in low PR model minus in high PR')\n",
    "print('should be positive')"
   ]
  },
  {
   "cell_type": "code",
   "execution_count": 26,
   "metadata": {
    "code_folding": []
   },
   "outputs": [
    {
     "data": {
      "image/png": "[encoded data removed]",
      "text/plain": [
       "<Figure size 1152x288 with 4 Axes>"
      ]
     },
     "metadata": {},
     "output_type": "display_data"
    }
   ],
   "source": [
    "if __name__ == \"__main__\":\n",
    "\n",
    "    m_grid = np.linspace(0.0,10.0,200)\n",
    "    ## plot c func at different age /asset grid\n",
    "    years_left = [0,1,30,40]\n",
    "\n",
    "    n_sub = len(years_left)\n",
    "\n",
    "    eps_fix = 0 ## the first eps grid \n",
    "\n",
    "    fig,axes = plt.subplots(1,n_sub,figsize=(4*n_sub,4))\n",
    "\n",
    "    for x,year in enumerate(years_left):\n",
    "        age = lc.L-year\n",
    "        i = lc.L-age\n",
    "        model_names = ['low PR','high PR']\n",
    "        for k,model_name in enumerate(model_names):\n",
    "            m_plt,c_plt = ms_stars[k][i,:,eps_fix,0],σs_stars[k][i,:,eps_fix,0]\n",
    "            c_func = lambda m: interp(m_plt,c_plt,m)\n",
    "            axes[x].plot(m_grid,\n",
    "                         c_func(m_grid),\n",
    "                         label = model_name,\n",
    "                         lw=3\n",
    "                        )\n",
    "        axes[x].legend()\n",
    "        axes[x].set_xlim(0.0,np.max(m_grid))\n",
    "        axes[x].set_xlabel('asset')\n",
    "        axes[0].set_ylabel('c')\n",
    "        axes[x].set_title(r'$age={}$'.format(age))"
   ]
  },
  {
   "cell_type": "markdown",
   "metadata": {},
   "source": [
    "## transitory UE risk as a special case of persistent UE\n",
    "\n",
    "\n",
    "\n"
   ]
  },
  {
   "cell_type": "code",
   "execution_count": 19,
   "metadata": {
    "code_folding": []
   },
   "outputs": [
    {
     "name": "stdout",
     "output_type": "stream",
     "text": [
      "at work age of 59\n",
      "at work age of 58\n",
      "at work age of 57\n",
      "at work age of 56\n",
      "at work age of 55\n",
      "at work age of 54\n",
      "at work age of 53\n",
      "at work age of 52\n",
      "at work age of 51\n",
      "at work age of 50\n",
      "at work age of 49\n",
      "at work age of 48\n",
      "at work age of 47\n",
      "at work age of 46\n",
      "at work age of 45\n",
      "at work age of 44\n",
      "at work age of 43\n",
      "at work age of 42\n",
      "at work age of 41\n",
      "at work age of 40\n",
      "at work age of 39\n",
      "at work age of 38\n",
      "at work age of 37\n",
      "at work age of 36\n",
      "at work age of 35\n",
      "at work age of 34\n",
      "at work age of 33\n",
      "at work age of 32\n",
      "at work age of 31\n",
      "at work age of 30\n",
      "at work age of 29\n",
      "at work age of 28\n",
      "at work age of 27\n",
      "at work age of 26\n",
      "at work age of 25\n",
      "at work age of 24\n",
      "at work age of 23\n",
      "at work age of 22\n",
      "at work age of 21\n",
      "at work age of 20\n",
      "at work age of 19\n",
      "at work age of 18\n",
      "at work age of 17\n",
      "at work age of 16\n",
      "at work age of 15\n",
      "at work age of 14\n",
      "at work age of 13\n",
      "at work age of 12\n",
      "at work age of 11\n",
      "at work age of 10\n",
      "at work age of 9\n",
      "at work age of 8\n",
      "at work age of 7\n",
      "at work age of 6\n",
      "at work age of 5\n",
      "at work age of 4\n",
      "at work age of 3\n",
      "at work age of 2\n",
      "at work age of 1\n",
      "at work age of 59\n",
      "at work age of 58\n",
      "at work age of 57\n",
      "at work age of 56\n",
      "at work age of 55\n",
      "at work age of 54\n",
      "at work age of 53\n",
      "at work age of 52\n",
      "at work age of 51\n",
      "at work age of 50\n",
      "at work age of 49\n",
      "at work age of 48\n",
      "at work age of 47\n",
      "at work age of 46\n",
      "at work age of 45\n",
      "at work age of 44\n",
      "at work age of 43\n",
      "at work age of 42\n",
      "at work age of 41\n",
      "at work age of 40\n",
      "at work age of 39\n",
      "at work age of 38\n",
      "at work age of 37\n",
      "at work age of 36\n",
      "at work age of 35\n",
      "at work age of 34\n",
      "at work age of 33\n",
      "at work age of 32\n",
      "at work age of 31\n",
      "at work age of 30\n",
      "at work age of 29\n",
      "at work age of 28\n",
      "at work age of 27\n",
      "at work age of 26\n",
      "at work age of 25\n",
      "at work age of 24\n",
      "at work age of 23\n",
      "at work age of 22\n",
      "at work age of 21\n",
      "at work age of 20\n",
      "at work age of 19\n",
      "at work age of 18\n",
      "at work age of 17\n",
      "at work age of 16\n",
      "at work age of 15\n",
      "at work age of 14\n",
      "at work age of 13\n",
      "at work age of 12\n",
      "at work age of 11\n",
      "at work age of 10\n",
      "at work age of 9\n",
      "at work age of 8\n",
      "at work age of 7\n",
      "at work age of 6\n",
      "at work age of 5\n",
      "at work age of 4\n",
      "at work age of 3\n",
      "at work age of 2\n",
      "at work age of 1\n",
      "Time taken, in seconds: 9.889328002929688\n"
     ]
    }
   ],
   "source": [
    "if __name__ == \"__main__\":\n",
    "\n",
    "    lc_trans_ue =  LifeCycle(sigma_psi = sigma_psi,\n",
    "                       sigma_eps = sigma_eps,\n",
    "                       U=0.1,\n",
    "                       ρ=ρ,\n",
    "                       R=R,\n",
    "                       T=T,\n",
    "                       L=L,\n",
    "                       G=G,\n",
    "                       β=β,\n",
    "                       x=x,\n",
    "                       borrowing_cstr = borrowing_cstr,\n",
    "                       b_y= b_y,\n",
    "                       unemp_insurance = unemp_insurance\n",
    "                       )\n",
    "\n",
    "    lc_trans_mkv0 =  LifeCycle(sigma_psi = sigma_psi,\n",
    "                       sigma_eps = sigma_eps,\n",
    "                       U=U0,\n",
    "                       ue_markov=True,\n",
    "                       P=np.array([[0.1,0.9],[0.1,0.9]]),\n",
    "                       ρ=ρ,\n",
    "                       R=R,\n",
    "                       T=T,\n",
    "                       L=L,\n",
    "                       G=G,\n",
    "                       β=β,\n",
    "                       x=x,\n",
    "                       borrowing_cstr = borrowing_cstr,\n",
    "                       b_y= b_y,\n",
    "                       unemp_insurance = unemp_insurance\n",
    "                       )\n",
    "\n",
    "\n",
    "    models = [lc_trans_ue,lc_trans_mkv0] \n",
    "    model_names = ['transitory UE',\n",
    "                  'markov UE:special case']\n",
    "\n",
    "\n",
    "\n",
    "    t_start = time()\n",
    "\n",
    "    ms_stars =[]\n",
    "    σs_stars = []\n",
    "    for i,model in enumerate(models):\n",
    "        ## terminal solution\n",
    "        m_init,σ_init = model.terminal_solution()\n",
    "        #### need to regenerate shock draws for new sigmas\n",
    "        ms_star, σs_star = solve_model_backward_iter(model,\n",
    "                                                     m_init,\n",
    "                                                     σ_init)\n",
    "        ms_stars.append(ms_star)\n",
    "        σs_stars.append(σs_star)\n",
    "\n",
    "\n",
    "    t_finish = time()\n",
    "\n",
    "    print(\"Time taken, in seconds: \"+ str(t_finish - t_start))"
   ]
  },
  {
   "cell_type": "code",
   "execution_count": 20,
   "metadata": {
    "code_folding": []
   },
   "outputs": [
    {
     "data": {
      "image/png": "[encoded data removed]",
      "text/plain": [
       "<Figure size 1152x288 with 4 Axes>"
      ]
     },
     "metadata": {},
     "output_type": "display_data"
    }
   ],
   "source": [
    "if __name__ == \"__main__\":\n",
    "\n",
    "\n",
    "    ## plot c func at different age /asset grid\n",
    "    years_left = [0,20,30,40]\n",
    "\n",
    "    n_sub = len(years_left)\n",
    "\n",
    "    eps_fix = 0 ## the first eps grid \n",
    "\n",
    "    fig,axes = plt.subplots(1,n_sub,figsize=(4*n_sub,4))\n",
    "\n",
    "    for x,year in enumerate(years_left):\n",
    "        age = lc.L-year\n",
    "        i = lc.L-age\n",
    "        for k,model_name in enumerate(model_names):\n",
    "            m_plt,c_plt = ms_stars[k][i,:,eps_fix,0],σs_stars[k][i,:,eps_fix,0]\n",
    "            axes[x].plot(m_plt,\n",
    "                         c_plt,\n",
    "                         label = model_name,\n",
    "                         lw=3,\n",
    "                        )\n",
    "        axes[x].legend()\n",
    "        axes[x].set_xlim(0.0,np.max(m_plt))\n",
    "        axes[x].set_xlabel('asset')\n",
    "        axes[0].set_ylabel('c')\n",
    "        axes[x].set_title(r'$age={}$'.format(age))"
   ]
  }
 ],
 "metadata": {
  "jupytext": {
   "encoding": "# -*- coding: utf-8 -*-",
   "formats": "ipynb,py:light"
  },
  "kernelspec": {
   "display_name": "Python 3 (ipykernel)",
   "language": "python",
   "name": "python3"
  },
  "language_info": {
   "codemirror_mode": {
    "name": "ipython",
    "version": 3
   },
   "file_extension": ".py",
   "mimetype": "text/x-python",
   "name": "python",
   "nbconvert_exporter": "python",
   "pygments_lexer": "ipython3",
   "version": "3.8.5"
  }
 },
 "nbformat": 4,
 "nbformat_minor": 4
}
