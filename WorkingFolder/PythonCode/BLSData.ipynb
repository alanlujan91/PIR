{
 "cells": [
  {
   "cell_type": "markdown",
   "id": "5fb778a7",
   "metadata": {},
   "source": [
    "## Download LAUS data from BLS \n",
    "  - state and county level labor market stats \n",
    "  - the [link](https://download.bls.gov/pub/time.series/la/la.series) to the data to be stored as laus.txt\n",
    "  - or to find the format of series id [here](https://www.bls.gov/help/hlpforma.htm#LA)\n",
    "  - [information about the data](https://download.bls.gov/pub/time.series/la/la.txt)\n",
    "  \n",
    "  \n",
    "  - 'Registered users may request up to 20 years per query'"
   ]
  },
  {
   "cell_type": "code",
   "execution_count": 1,
   "id": "3b93e1f2",
   "metadata": {},
   "outputs": [],
   "source": [
    "with open(\"BLS_API_KEY.txt\", \"r\") as file:\n",
    "    API_KEY = file.read()"
   ]
  },
  {
   "cell_type": "code",
   "execution_count": 2,
   "id": "60ffa3f5",
   "metadata": {
    "code_folding": [
     0
    ]
   },
   "outputs": [],
   "source": [
    "## get all data series id to download remotely \n",
    "\n",
    "import pandas as pd\n",
    "\n",
    "laus_series =  pd.read_csv(\"../OtherData/bls/laus_series.txt\",\n",
    "                           sep ='\\t',\n",
    "                           low_memory=False\n",
    "                          )"
   ]
  },
  {
   "cell_type": "code",
   "execution_count": 3,
   "id": "9c78a382",
   "metadata": {
    "code_folding": [
     0
    ]
   },
   "outputs": [],
   "source": [
    "## select data \n",
    "\n",
    "area_type_code = 'A' ## state \n",
    "measure_code = 3 ## UE rate \n",
    "seasonal = 'S' ## seasonal adjusted \n",
    "\n",
    "new_column_names = {col: col.strip().replace(' ', '_') for col in laus_series.columns}\n",
    "laus_series.rename(columns=new_column_names, inplace=True)\n",
    "\n",
    "series_ids = list((laus_series[(laus_series['area_type_code']==area_type_code) &\n",
    "               (laus_series['measure_code']==measure_code) & \n",
    "               (laus_series['seasonal']==seasonal)]['series_id']))\n",
    "\n",
    "series_ids  = [series_id.strip().replace(' ', '_') for series_id in series_ids]\n"
   ]
  },
  {
   "cell_type": "code",
   "execution_count": 4,
   "id": "3381f909",
   "metadata": {
    "code_folding": [
     4,
     9,
     16
    ]
   },
   "outputs": [],
   "source": [
    "import requests\n",
    "import json\n",
    "\n",
    "headers = {'Content-type': 'application/json'}\n",
    "data = json.dumps({\"seriesid\": series_ids,\n",
    "                   \"startyear\":\"2001\", \n",
    "                   \"endyear\":\"2023\",\n",
    "                  \"registrationkey\":API_KEY})\n",
    "\n",
    "p = requests.post('https://api.bls.gov/publicAPI/v2/timeseries/data/', \n",
    "                  data=data, \n",
    "                  headers=headers)\n",
    "\n",
    "json_data = json.loads(p.text)\n",
    "\n",
    "table_data =  []\n",
    "for series in json_data['Results']['series']:\n",
    "    seriesId = series['seriesID']\n",
    "    for item in series['data']:\n",
    "        year = item['year']\n",
    "        period = item['period']\n",
    "        value = item['value']\n",
    "        footnotes=\"\"\n",
    "        for footnote in item['footnotes']:\n",
    "            if footnote:\n",
    "                footnotes = footnotes + footnote['text'] + ','\n",
    "        if 'M01' <= period <= 'M12':\n",
    "            table_data.append([seriesId,\n",
    "                       year,\n",
    "                       period,\n",
    "                       value,\n",
    "                       footnotes[0:-1]])\n",
    "        "
   ]
  },
  {
   "cell_type": "code",
   "execution_count": 5,
   "id": "ae9b8003",
   "metadata": {},
   "outputs": [
    {
     "name": "stdout",
     "output_type": "stream",
     "text": [
      "Length of the first extract: 12000\n"
     ]
    }
   ],
   "source": [
    "print('Length of the first extract: '+ str(len(table_data)))"
   ]
  },
  {
   "cell_type": "code",
   "execution_count": 6,
   "id": "97b644ed",
   "metadata": {
    "code_folding": [
     0,
     5,
     12
    ]
   },
   "outputs": [],
   "source": [
    "data2 = json.dumps({\"seriesid\": series_ids,\n",
    "                   \"startyear\":\"1981\", \n",
    "                   \"endyear\":\"2000\",\n",
    "                  \"registrationkey\":API_KEY})\n",
    "\n",
    "p2 = requests.post('https://api.bls.gov/publicAPI/v2/timeseries/data/', \n",
    "                  data=data, \n",
    "                  headers=headers)\n",
    "\n",
    "json_data2 = json.loads(p2.text)\n",
    "\n",
    "table_data2 =  []\n",
    "for series in json_data2['Results']['series']:\n",
    "    seriesId = series['seriesID']\n",
    "    for item in series['data']:\n",
    "        year = item['year']\n",
    "        period = item['period']\n",
    "        value = item['value']\n",
    "        footnotes=\"\"\n",
    "        for footnote in item['footnotes']:\n",
    "            if footnote:\n",
    "                footnotes = footnotes + footnote['text'] + ','\n",
    "        if 'M01' <= period <= 'M12':\n",
    "            table_data2.append([seriesId,\n",
    "                       year,\n",
    "                       period,\n",
    "                       value,\n",
    "                       footnotes[0:-1]])\n",
    "        "
   ]
  },
  {
   "cell_type": "code",
   "execution_count": 7,
   "id": "ea3eeb2b",
   "metadata": {
    "code_folding": [
     0,
     5,
     12
    ]
   },
   "outputs": [],
   "source": [
    "data3 = json.dumps({\"seriesid\": series_ids,\n",
    "                   \"startyear\":\"1976\", \n",
    "                   \"endyear\":\"1980\",\n",
    "                  \"registrationkey\":API_KEY})\n",
    "\n",
    "p3 = requests.post('https://api.bls.gov/publicAPI/v2/timeseries/data/', \n",
    "                  data=data, \n",
    "                  headers=headers)\n",
    "\n",
    "json_data3 = json.loads(p3.text)\n",
    "\n",
    "table_data3 =  []\n",
    "for series in json_data3['Results']['series']:\n",
    "    seriesId = series['seriesID']\n",
    "    for item in series['data']:\n",
    "        year = item['year']\n",
    "        period = item['period']\n",
    "        value = item['value']\n",
    "        footnotes=\"\"\n",
    "        for footnote in item['footnotes']:\n",
    "            if footnote:\n",
    "                footnotes = footnotes + footnote['text'] + ','\n",
    "        if 'M01' <= period <= 'M12':\n",
    "            table_data3.append([seriesId,\n",
    "                       year,\n",
    "                       period,\n",
    "                       value,\n",
    "                       footnotes[0:-1]])\n",
    "        "
   ]
  },
  {
   "cell_type": "code",
   "execution_count": 8,
   "id": "e2bab36c",
   "metadata": {},
   "outputs": [
    {
     "name": "stdout",
     "output_type": "stream",
     "text": [
      "Length of the second extract: 12000\n"
     ]
    }
   ],
   "source": [
    "print('Length of the second extract: '+ str(len(table_data3)))"
   ]
  },
  {
   "cell_type": "code",
   "execution_count": 10,
   "id": "82396f21",
   "metadata": {},
   "outputs": [],
   "source": [
    "## combine data obtained from various querries \n",
    "\n",
    "table_data = table_data+table_data2+table_data3"
   ]
  },
  {
   "cell_type": "code",
   "execution_count": 11,
   "id": "13a26aff",
   "metadata": {},
   "outputs": [
    {
     "name": "stdout",
     "output_type": "stream",
     "text": [
      "Total length of data: 36000\n"
     ]
    }
   ],
   "source": [
    "print('Total length of data: '+str(len(table_data)))"
   ]
  },
  {
   "cell_type": "code",
   "execution_count": 12,
   "id": "360d6b6b",
   "metadata": {},
   "outputs": [],
   "source": [
    "# Create a Pandas DataFrame from the extracted data\n",
    "names = [\"series_id\",\"year\",\"period\",\"value\",\"footnotes\"]\n",
    "df_all = pd.DataFrame(table_data, columns=names)"
   ]
  },
  {
   "cell_type": "code",
   "execution_count": 13,
   "id": "5ab2882b",
   "metadata": {},
   "outputs": [],
   "source": [
    "# Extract data from PrettyTable\n",
    "\n",
    "df_all['state'] = df_all['series_id'].str[5:7].astype(int)"
   ]
  },
  {
   "cell_type": "code",
   "execution_count": 14,
   "id": "1a685fe6",
   "metadata": {},
   "outputs": [
    {
     "data": {
      "text/plain": [
       "50"
      ]
     },
     "execution_count": 14,
     "metadata": {},
     "output_type": "execute_result"
    }
   ],
   "source": [
    "## how many states have data?\n",
    "\n",
    "len(df_all['state'].unique())"
   ]
  },
  {
   "cell_type": "code",
   "execution_count": 15,
   "id": "207e18b1",
   "metadata": {},
   "outputs": [
    {
     "data": {
      "text/html": [
       "<div>\n",
       "<style scoped>\n",
       "    .dataframe tbody tr th:only-of-type {\n",
       "        vertical-align: middle;\n",
       "    }\n",
       "\n",
       "    .dataframe tbody tr th {\n",
       "        vertical-align: top;\n",
       "    }\n",
       "\n",
       "    .dataframe thead th {\n",
       "        text-align: right;\n",
       "    }\n",
       "</style>\n",
       "<table border=\"1\" class=\"dataframe\">\n",
       "  <thead>\n",
       "    <tr style=\"text-align: right;\">\n",
       "      <th></th>\n",
       "      <th>series_id</th>\n",
       "      <th>year</th>\n",
       "      <th>period</th>\n",
       "      <th>value</th>\n",
       "      <th>footnotes</th>\n",
       "      <th>state</th>\n",
       "    </tr>\n",
       "  </thead>\n",
       "  <tbody>\n",
       "    <tr>\n",
       "      <th>0</th>\n",
       "      <td>LASST010000000000003</td>\n",
       "      <td>2020</td>\n",
       "      <td>M12</td>\n",
       "      <td>4.5</td>\n",
       "      <td>Data were subject to revision on March 1, 2023.</td>\n",
       "      <td>1</td>\n",
       "    </tr>\n",
       "    <tr>\n",
       "      <th>1</th>\n",
       "      <td>LASST010000000000003</td>\n",
       "      <td>2020</td>\n",
       "      <td>M11</td>\n",
       "      <td>4.9</td>\n",
       "      <td>Data were subject to revision on March 1, 2023.</td>\n",
       "      <td>1</td>\n",
       "    </tr>\n",
       "    <tr>\n",
       "      <th>2</th>\n",
       "      <td>LASST010000000000003</td>\n",
       "      <td>2020</td>\n",
       "      <td>M10</td>\n",
       "      <td>5.3</td>\n",
       "      <td>Data were subject to revision on March 1, 2023.</td>\n",
       "      <td>1</td>\n",
       "    </tr>\n",
       "    <tr>\n",
       "      <th>3</th>\n",
       "      <td>LASST010000000000003</td>\n",
       "      <td>2020</td>\n",
       "      <td>M09</td>\n",
       "      <td>5.9</td>\n",
       "      <td>Data were subject to revision on March 1, 2023.</td>\n",
       "      <td>1</td>\n",
       "    </tr>\n",
       "    <tr>\n",
       "      <th>4</th>\n",
       "      <td>LASST010000000000003</td>\n",
       "      <td>2020</td>\n",
       "      <td>M08</td>\n",
       "      <td>6.3</td>\n",
       "      <td>Data were subject to revision on March 1, 2023.</td>\n",
       "      <td>1</td>\n",
       "    </tr>\n",
       "    <tr>\n",
       "      <th>...</th>\n",
       "      <td>...</td>\n",
       "      <td>...</td>\n",
       "      <td>...</td>\n",
       "      <td>...</td>\n",
       "      <td>...</td>\n",
       "      <td>...</td>\n",
       "    </tr>\n",
       "    <tr>\n",
       "      <th>35995</th>\n",
       "      <td>LASST550000000000003</td>\n",
       "      <td>2001</td>\n",
       "      <td>M05</td>\n",
       "      <td>4.2</td>\n",
       "      <td></td>\n",
       "      <td>55</td>\n",
       "    </tr>\n",
       "    <tr>\n",
       "      <th>35996</th>\n",
       "      <td>LASST550000000000003</td>\n",
       "      <td>2001</td>\n",
       "      <td>M04</td>\n",
       "      <td>4.1</td>\n",
       "      <td></td>\n",
       "      <td>55</td>\n",
       "    </tr>\n",
       "    <tr>\n",
       "      <th>35997</th>\n",
       "      <td>LASST550000000000003</td>\n",
       "      <td>2001</td>\n",
       "      <td>M03</td>\n",
       "      <td>4.0</td>\n",
       "      <td></td>\n",
       "      <td>55</td>\n",
       "    </tr>\n",
       "    <tr>\n",
       "      <th>35998</th>\n",
       "      <td>LASST550000000000003</td>\n",
       "      <td>2001</td>\n",
       "      <td>M02</td>\n",
       "      <td>3.9</td>\n",
       "      <td></td>\n",
       "      <td>55</td>\n",
       "    </tr>\n",
       "    <tr>\n",
       "      <th>35999</th>\n",
       "      <td>LASST550000000000003</td>\n",
       "      <td>2001</td>\n",
       "      <td>M01</td>\n",
       "      <td>3.8</td>\n",
       "      <td></td>\n",
       "      <td>55</td>\n",
       "    </tr>\n",
       "  </tbody>\n",
       "</table>\n",
       "<p>36000 rows × 6 columns</p>\n",
       "</div>"
      ],
      "text/plain": [
       "                  series_id  year period value  \\\n",
       "0      LASST010000000000003  2020    M12   4.5   \n",
       "1      LASST010000000000003  2020    M11   4.9   \n",
       "2      LASST010000000000003  2020    M10   5.3   \n",
       "3      LASST010000000000003  2020    M09   5.9   \n",
       "4      LASST010000000000003  2020    M08   6.3   \n",
       "...                     ...   ...    ...   ...   \n",
       "35995  LASST550000000000003  2001    M05   4.2   \n",
       "35996  LASST550000000000003  2001    M04   4.1   \n",
       "35997  LASST550000000000003  2001    M03   4.0   \n",
       "35998  LASST550000000000003  2001    M02   3.9   \n",
       "35999  LASST550000000000003  2001    M01   3.8   \n",
       "\n",
       "                                             footnotes  state  \n",
       "0      Data were subject to revision on March 1, 2023.      1  \n",
       "1      Data were subject to revision on March 1, 2023.      1  \n",
       "2      Data were subject to revision on March 1, 2023.      1  \n",
       "3      Data were subject to revision on March 1, 2023.      1  \n",
       "4      Data were subject to revision on March 1, 2023.      1  \n",
       "...                                                ...    ...  \n",
       "35995                                                      55  \n",
       "35996                                                      55  \n",
       "35997                                                      55  \n",
       "35998                                                      55  \n",
       "35999                                                      55  \n",
       "\n",
       "[36000 rows x 6 columns]"
      ]
     },
     "execution_count": 15,
     "metadata": {},
     "output_type": "execute_result"
    }
   ],
   "source": [
    "df_all"
   ]
  },
  {
   "cell_type": "code",
   "execution_count": 16,
   "id": "60fbd2a8",
   "metadata": {},
   "outputs": [],
   "source": [
    "df_all['date'] = pd.to_datetime(df_all['year'].astype(str) + df_all['period'], format='%YM%m')"
   ]
  },
  {
   "cell_type": "code",
   "execution_count": 17,
   "id": "eb89598c",
   "metadata": {},
   "outputs": [],
   "source": [
    "df_all = df_all.drop(columns=['series_id','year','period','footnotes'])"
   ]
  },
  {
   "cell_type": "code",
   "execution_count": 18,
   "id": "75f0c259",
   "metadata": {},
   "outputs": [
    {
     "data": {
      "text/html": [
       "<div>\n",
       "<style scoped>\n",
       "    .dataframe tbody tr th:only-of-type {\n",
       "        vertical-align: middle;\n",
       "    }\n",
       "\n",
       "    .dataframe tbody tr th {\n",
       "        vertical-align: top;\n",
       "    }\n",
       "\n",
       "    .dataframe thead th {\n",
       "        text-align: right;\n",
       "    }\n",
       "</style>\n",
       "<table border=\"1\" class=\"dataframe\">\n",
       "  <thead>\n",
       "    <tr style=\"text-align: right;\">\n",
       "      <th></th>\n",
       "      <th>value</th>\n",
       "      <th>footnotes</th>\n",
       "      <th>state</th>\n",
       "      <th>date</th>\n",
       "    </tr>\n",
       "  </thead>\n",
       "  <tbody>\n",
       "    <tr>\n",
       "      <th>0</th>\n",
       "      <td>4.5</td>\n",
       "      <td>Data were subject to revision on March 1, 2023.</td>\n",
       "      <td>1</td>\n",
       "      <td>2020-12-01</td>\n",
       "    </tr>\n",
       "    <tr>\n",
       "      <th>1</th>\n",
       "      <td>4.9</td>\n",
       "      <td>Data were subject to revision on March 1, 2023.</td>\n",
       "      <td>1</td>\n",
       "      <td>2020-11-01</td>\n",
       "    </tr>\n",
       "    <tr>\n",
       "      <th>2</th>\n",
       "      <td>5.3</td>\n",
       "      <td>Data were subject to revision on March 1, 2023.</td>\n",
       "      <td>1</td>\n",
       "      <td>2020-10-01</td>\n",
       "    </tr>\n",
       "    <tr>\n",
       "      <th>3</th>\n",
       "      <td>5.9</td>\n",
       "      <td>Data were subject to revision on March 1, 2023.</td>\n",
       "      <td>1</td>\n",
       "      <td>2020-09-01</td>\n",
       "    </tr>\n",
       "    <tr>\n",
       "      <th>4</th>\n",
       "      <td>6.3</td>\n",
       "      <td>Data were subject to revision on March 1, 2023.</td>\n",
       "      <td>1</td>\n",
       "      <td>2020-08-01</td>\n",
       "    </tr>\n",
       "    <tr>\n",
       "      <th>...</th>\n",
       "      <td>...</td>\n",
       "      <td>...</td>\n",
       "      <td>...</td>\n",
       "      <td>...</td>\n",
       "    </tr>\n",
       "    <tr>\n",
       "      <th>35995</th>\n",
       "      <td>4.2</td>\n",
       "      <td></td>\n",
       "      <td>55</td>\n",
       "      <td>2001-05-01</td>\n",
       "    </tr>\n",
       "    <tr>\n",
       "      <th>35996</th>\n",
       "      <td>4.1</td>\n",
       "      <td></td>\n",
       "      <td>55</td>\n",
       "      <td>2001-04-01</td>\n",
       "    </tr>\n",
       "    <tr>\n",
       "      <th>35997</th>\n",
       "      <td>4.0</td>\n",
       "      <td></td>\n",
       "      <td>55</td>\n",
       "      <td>2001-03-01</td>\n",
       "    </tr>\n",
       "    <tr>\n",
       "      <th>35998</th>\n",
       "      <td>3.9</td>\n",
       "      <td></td>\n",
       "      <td>55</td>\n",
       "      <td>2001-02-01</td>\n",
       "    </tr>\n",
       "    <tr>\n",
       "      <th>35999</th>\n",
       "      <td>3.8</td>\n",
       "      <td></td>\n",
       "      <td>55</td>\n",
       "      <td>2001-01-01</td>\n",
       "    </tr>\n",
       "  </tbody>\n",
       "</table>\n",
       "<p>36000 rows × 4 columns</p>\n",
       "</div>"
      ],
      "text/plain": [
       "      value                                        footnotes  state       date\n",
       "0       4.5  Data were subject to revision on March 1, 2023.      1 2020-12-01\n",
       "1       4.9  Data were subject to revision on March 1, 2023.      1 2020-11-01\n",
       "2       5.3  Data were subject to revision on March 1, 2023.      1 2020-10-01\n",
       "3       5.9  Data were subject to revision on March 1, 2023.      1 2020-09-01\n",
       "4       6.3  Data were subject to revision on March 1, 2023.      1 2020-08-01\n",
       "...     ...                                              ...    ...        ...\n",
       "35995   4.2                                                      55 2001-05-01\n",
       "35996   4.1                                                      55 2001-04-01\n",
       "35997   4.0                                                      55 2001-03-01\n",
       "35998   3.9                                                      55 2001-02-01\n",
       "35999   3.8                                                      55 2001-01-01\n",
       "\n",
       "[36000 rows x 4 columns]"
      ]
     },
     "execution_count": 18,
     "metadata": {},
     "output_type": "execute_result"
    }
   ],
   "source": [
    "df_all = df_all.rename(columns={'state':'statecode'})\n"
   ]
  },
  {
   "cell_type": "code",
   "execution_count": 19,
   "id": "a3363800",
   "metadata": {},
   "outputs": [
    {
     "data": {
      "text/html": [
       "<div>\n",
       "<style scoped>\n",
       "    .dataframe tbody tr th:only-of-type {\n",
       "        vertical-align: middle;\n",
       "    }\n",
       "\n",
       "    .dataframe tbody tr th {\n",
       "        vertical-align: top;\n",
       "    }\n",
       "\n",
       "    .dataframe thead th {\n",
       "        text-align: right;\n",
       "    }\n",
       "</style>\n",
       "<table border=\"1\" class=\"dataframe\">\n",
       "  <thead>\n",
       "    <tr style=\"text-align: right;\">\n",
       "      <th></th>\n",
       "      <th>value</th>\n",
       "      <th>footnotes</th>\n",
       "      <th>state</th>\n",
       "      <th>date</th>\n",
       "    </tr>\n",
       "  </thead>\n",
       "  <tbody>\n",
       "    <tr>\n",
       "      <th>0</th>\n",
       "      <td>4.5</td>\n",
       "      <td>Data were subject to revision on March 1, 2023.</td>\n",
       "      <td>1</td>\n",
       "      <td>2020-12-01</td>\n",
       "    </tr>\n",
       "    <tr>\n",
       "      <th>1</th>\n",
       "      <td>4.9</td>\n",
       "      <td>Data were subject to revision on March 1, 2023.</td>\n",
       "      <td>1</td>\n",
       "      <td>2020-11-01</td>\n",
       "    </tr>\n",
       "    <tr>\n",
       "      <th>2</th>\n",
       "      <td>5.3</td>\n",
       "      <td>Data were subject to revision on March 1, 2023.</td>\n",
       "      <td>1</td>\n",
       "      <td>2020-10-01</td>\n",
       "    </tr>\n",
       "    <tr>\n",
       "      <th>3</th>\n",
       "      <td>5.9</td>\n",
       "      <td>Data were subject to revision on March 1, 2023.</td>\n",
       "      <td>1</td>\n",
       "      <td>2020-09-01</td>\n",
       "    </tr>\n",
       "    <tr>\n",
       "      <th>4</th>\n",
       "      <td>6.3</td>\n",
       "      <td>Data were subject to revision on March 1, 2023.</td>\n",
       "      <td>1</td>\n",
       "      <td>2020-08-01</td>\n",
       "    </tr>\n",
       "    <tr>\n",
       "      <th>...</th>\n",
       "      <td>...</td>\n",
       "      <td>...</td>\n",
       "      <td>...</td>\n",
       "      <td>...</td>\n",
       "    </tr>\n",
       "    <tr>\n",
       "      <th>11995</th>\n",
       "      <td>4.2</td>\n",
       "      <td></td>\n",
       "      <td>55</td>\n",
       "      <td>2001-05-01</td>\n",
       "    </tr>\n",
       "    <tr>\n",
       "      <th>11996</th>\n",
       "      <td>4.1</td>\n",
       "      <td></td>\n",
       "      <td>55</td>\n",
       "      <td>2001-04-01</td>\n",
       "    </tr>\n",
       "    <tr>\n",
       "      <th>11997</th>\n",
       "      <td>4.0</td>\n",
       "      <td></td>\n",
       "      <td>55</td>\n",
       "      <td>2001-03-01</td>\n",
       "    </tr>\n",
       "    <tr>\n",
       "      <th>11998</th>\n",
       "      <td>3.9</td>\n",
       "      <td></td>\n",
       "      <td>55</td>\n",
       "      <td>2001-02-01</td>\n",
       "    </tr>\n",
       "    <tr>\n",
       "      <th>11999</th>\n",
       "      <td>3.8</td>\n",
       "      <td></td>\n",
       "      <td>55</td>\n",
       "      <td>2001-01-01</td>\n",
       "    </tr>\n",
       "  </tbody>\n",
       "</table>\n",
       "<p>12000 rows × 4 columns</p>\n",
       "</div>"
      ],
      "text/plain": [
       "      value                                        footnotes  state       date\n",
       "0       4.5  Data were subject to revision on March 1, 2023.      1 2020-12-01\n",
       "1       4.9  Data were subject to revision on March 1, 2023.      1 2020-11-01\n",
       "2       5.3  Data were subject to revision on March 1, 2023.      1 2020-10-01\n",
       "3       5.9  Data were subject to revision on March 1, 2023.      1 2020-09-01\n",
       "4       6.3  Data were subject to revision on March 1, 2023.      1 2020-08-01\n",
       "...     ...                                              ...    ...        ...\n",
       "11995   4.2                                                      55 2001-05-01\n",
       "11996   4.1                                                      55 2001-04-01\n",
       "11997   4.0                                                      55 2001-03-01\n",
       "11998   3.9                                                      55 2001-02-01\n",
       "11999   3.8                                                      55 2001-01-01\n",
       "\n",
       "[12000 rows x 4 columns]"
      ]
     },
     "execution_count": 19,
     "metadata": {},
     "output_type": "execute_result"
    }
   ],
   "source": [
    "df_all = df_all.drop_duplicates()\n",
    "df_all"
   ]
  },
  {
   "cell_type": "code",
   "execution_count": 25,
   "id": "59bb2679",
   "metadata": {},
   "outputs": [
    {
     "data": {
      "text/plain": [
       "<DatetimeArray>\n",
       "['2020-12-01 00:00:00', '2020-11-01 00:00:00', '2020-10-01 00:00:00',\n",
       " '2020-09-01 00:00:00', '2020-08-01 00:00:00', '2020-07-01 00:00:00',\n",
       " '2020-06-01 00:00:00', '2020-05-01 00:00:00', '2020-04-01 00:00:00',\n",
       " '2020-03-01 00:00:00',\n",
       " ...\n",
       " '2001-10-01 00:00:00', '2001-09-01 00:00:00', '2001-08-01 00:00:00',\n",
       " '2001-07-01 00:00:00', '2001-06-01 00:00:00', '2001-05-01 00:00:00',\n",
       " '2001-04-01 00:00:00', '2001-03-01 00:00:00', '2001-02-01 00:00:00',\n",
       " '2001-01-01 00:00:00']\n",
       "Length: 240, dtype: datetime64[ns]"
      ]
     },
     "execution_count": 25,
     "metadata": {},
     "output_type": "execute_result"
    }
   ],
   "source": []
  },
  {
   "cell_type": "code",
   "execution_count": null,
   "id": "facd005e",
   "metadata": {},
   "outputs": [],
   "source": []
  }
 ],
 "metadata": {
  "kernelspec": {
   "display_name": "Python 3 (ipykernel)",
   "language": "python",
   "name": "python3"
  },
  "language_info": {
   "codemirror_mode": {
    "name": "ipython",
    "version": 3
   },
   "file_extension": ".py",
   "mimetype": "text/x-python",
   "name": "python",
   "nbconvert_exporter": "python",
   "pygments_lexer": "ipython3",
   "version": "3.8.13"
  }
 },
 "nbformat": 4,
 "nbformat_minor": 5
}
