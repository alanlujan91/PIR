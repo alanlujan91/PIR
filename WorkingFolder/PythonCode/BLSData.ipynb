{
 "cells": [
  {
   "cell_type": "markdown",
   "id": "5fb778a7",
   "metadata": {},
   "source": [
    "## Download LAUS data from BLS \n",
    "  - state and county level labor market stats \n",
    "  - the [link](https://download.bls.gov/pub/time.series/la/la.series) to the data to be stored as laus.txt\n",
    "  - [information about the data](https://download.bls.gov/pub/time.series/la/la.txt)"
   ]
  },
  {
   "cell_type": "code",
   "execution_count": 58,
   "id": "3b93e1f2",
   "metadata": {},
   "outputs": [],
   "source": [
    "with open(\"BLS_API_KEY.txt\", \"r\") as file:\n",
    "    API_KEY = file.read()"
   ]
  },
  {
   "cell_type": "code",
   "execution_count": 44,
   "id": "60ffa3f5",
   "metadata": {
    "code_folding": [
     2
    ]
   },
   "outputs": [],
   "source": [
    "## get all data series id to download remotely \n",
    "\n",
    "import pandas as pd\n",
    "\n",
    "laus_series =  pd.read_csv(\"../OtherData/bls/laus_series.txt\",\n",
    "                           sep ='\\t',\n",
    "                           low_memory=False\n",
    "                          )"
   ]
  },
  {
   "cell_type": "code",
   "execution_count": 45,
   "id": "9c78a382",
   "metadata": {
    "code_folding": [
     0
    ]
   },
   "outputs": [],
   "source": [
    "## select data \n",
    "\n",
    "area_type_code = 'A' ## state \n",
    "measure_code = 3 ## UE rate \n",
    "seasonal = 'S' ## seasonal adjusted \n",
    "\n",
    "new_column_names = {col: col.strip().replace(' ', '_') for col in laus_series.columns}\n",
    "laus_series.rename(columns=new_column_names, inplace=True)\n",
    "\n",
    "series_ids = list((laus_series[(laus_series['area_type_code']==area_type_code) &\n",
    "               (laus_series['measure_code']==measure_code) & \n",
    "               (laus_series['seasonal']==seasonal)]['series_id']))\n",
    "\n",
    "series_ids  = [series_id.strip().replace(' ', '_') for series_id in series_ids]\n"
   ]
  },
  {
   "cell_type": "code",
   "execution_count": 46,
   "id": "3381f909",
   "metadata": {
    "code_folding": [
     10,
     17
    ]
   },
   "outputs": [],
   "source": [
    "import requests\n",
    "import json\n",
    "\n",
    "headers = {'Content-type': 'application/json'}\n",
    "data = json.dumps({\"seriesid\": series_ids,\n",
    "                   \"startyear\":\"1976\", \n",
    "                   \"endyear\":\"2023\",\n",
    "                  \"registrationkey\":API_KEY})\n",
    "\n",
    "p = requests.post('https://api.bls.gov/publicAPI/v2/timeseries/data/', \n",
    "                  data=data, \n",
    "                  headers=headers)\n",
    "\n",
    "json_data = json.loads(p.text)\n",
    "\n",
    "table_data =  []\n",
    "for series in json_data['Results']['series']:\n",
    "    seriesId = series['seriesID']\n",
    "    for item in series['data']:\n",
    "        year = item['year']\n",
    "        period = item['period']\n",
    "        value = item['value']\n",
    "        footnotes=\"\"\n",
    "        for footnote in item['footnotes']:\n",
    "            if footnote:\n",
    "                footnotes = footnotes + footnote['text'] + ','\n",
    "        if 'M01' <= period <= 'M12':\n",
    "            table_data.append([seriesId,\n",
    "                       year,\n",
    "                       period,\n",
    "                       value,\n",
    "                       footnotes[0:-1]])\n",
    "        "
   ]
  },
  {
   "cell_type": "code",
   "execution_count": 57,
   "id": "13a26aff",
   "metadata": {},
   "outputs": [
    {
     "name": "stdout",
     "output_type": "stream",
     "text": [
      "Total length of data: 12000\n"
     ]
    }
   ],
   "source": [
    "print('Total length of data: '+str(len(table_data)))"
   ]
  },
  {
   "cell_type": "code",
   "execution_count": 69,
   "id": "360d6b6b",
   "metadata": {},
   "outputs": [],
   "source": [
    "# Create a Pandas DataFrame from the extracted data\n",
    "names = [\"series_id\",\"year\",\"period\",\"value\",\"footnotes\"]\n",
    "df_all = pd.DataFrame(table_data, columns=names)"
   ]
  },
  {
   "cell_type": "code",
   "execution_count": 70,
   "id": "5ab2882b",
   "metadata": {},
   "outputs": [],
   "source": [
    "# Extract data from PrettyTable\n",
    "\n",
    "df_all['state'] = df_all['series_id'].str[5:7].astype(int)"
   ]
  },
  {
   "cell_type": "code",
   "execution_count": 71,
   "id": "1a685fe6",
   "metadata": {},
   "outputs": [
    {
     "data": {
      "text/plain": [
       "50"
      ]
     },
     "execution_count": 71,
     "metadata": {},
     "output_type": "execute_result"
    }
   ],
   "source": [
    "## how many states have data?\n",
    "\n",
    "len(df_all['state'].unique())"
   ]
  },
  {
   "cell_type": "code",
   "execution_count": 72,
   "id": "207e18b1",
   "metadata": {},
   "outputs": [
    {
     "data": {
      "text/html": [
       "<div>\n",
       "<style scoped>\n",
       "    .dataframe tbody tr th:only-of-type {\n",
       "        vertical-align: middle;\n",
       "    }\n",
       "\n",
       "    .dataframe tbody tr th {\n",
       "        vertical-align: top;\n",
       "    }\n",
       "\n",
       "    .dataframe thead th {\n",
       "        text-align: right;\n",
       "    }\n",
       "</style>\n",
       "<table border=\"1\" class=\"dataframe\">\n",
       "  <thead>\n",
       "    <tr style=\"text-align: right;\">\n",
       "      <th></th>\n",
       "      <th>series_id</th>\n",
       "      <th>year</th>\n",
       "      <th>period</th>\n",
       "      <th>value</th>\n",
       "      <th>footnotes</th>\n",
       "      <th>state</th>\n",
       "    </tr>\n",
       "  </thead>\n",
       "  <tbody>\n",
       "    <tr>\n",
       "      <th>0</th>\n",
       "      <td>LASST010000000000003</td>\n",
       "      <td>1995</td>\n",
       "      <td>M12</td>\n",
       "      <td>5.5</td>\n",
       "      <td></td>\n",
       "      <td>1</td>\n",
       "    </tr>\n",
       "    <tr>\n",
       "      <th>1</th>\n",
       "      <td>LASST010000000000003</td>\n",
       "      <td>1995</td>\n",
       "      <td>M11</td>\n",
       "      <td>5.6</td>\n",
       "      <td></td>\n",
       "      <td>1</td>\n",
       "    </tr>\n",
       "    <tr>\n",
       "      <th>2</th>\n",
       "      <td>LASST010000000000003</td>\n",
       "      <td>1995</td>\n",
       "      <td>M10</td>\n",
       "      <td>5.7</td>\n",
       "      <td></td>\n",
       "      <td>1</td>\n",
       "    </tr>\n",
       "    <tr>\n",
       "      <th>3</th>\n",
       "      <td>LASST010000000000003</td>\n",
       "      <td>1995</td>\n",
       "      <td>M09</td>\n",
       "      <td>5.8</td>\n",
       "      <td></td>\n",
       "      <td>1</td>\n",
       "    </tr>\n",
       "    <tr>\n",
       "      <th>4</th>\n",
       "      <td>LASST010000000000003</td>\n",
       "      <td>1995</td>\n",
       "      <td>M08</td>\n",
       "      <td>5.9</td>\n",
       "      <td></td>\n",
       "      <td>1</td>\n",
       "    </tr>\n",
       "    <tr>\n",
       "      <th>...</th>\n",
       "      <td>...</td>\n",
       "      <td>...</td>\n",
       "      <td>...</td>\n",
       "      <td>...</td>\n",
       "      <td>...</td>\n",
       "      <td>...</td>\n",
       "    </tr>\n",
       "    <tr>\n",
       "      <th>11995</th>\n",
       "      <td>LASST550000000000003</td>\n",
       "      <td>1976</td>\n",
       "      <td>M05</td>\n",
       "      <td>5.5</td>\n",
       "      <td></td>\n",
       "      <td>55</td>\n",
       "    </tr>\n",
       "    <tr>\n",
       "      <th>11996</th>\n",
       "      <td>LASST550000000000003</td>\n",
       "      <td>1976</td>\n",
       "      <td>M04</td>\n",
       "      <td>5.6</td>\n",
       "      <td></td>\n",
       "      <td>55</td>\n",
       "    </tr>\n",
       "    <tr>\n",
       "      <th>11997</th>\n",
       "      <td>LASST550000000000003</td>\n",
       "      <td>1976</td>\n",
       "      <td>M03</td>\n",
       "      <td>5.7</td>\n",
       "      <td></td>\n",
       "      <td>55</td>\n",
       "    </tr>\n",
       "    <tr>\n",
       "      <th>11998</th>\n",
       "      <td>LASST550000000000003</td>\n",
       "      <td>1976</td>\n",
       "      <td>M02</td>\n",
       "      <td>5.8</td>\n",
       "      <td></td>\n",
       "      <td>55</td>\n",
       "    </tr>\n",
       "    <tr>\n",
       "      <th>11999</th>\n",
       "      <td>LASST550000000000003</td>\n",
       "      <td>1976</td>\n",
       "      <td>M01</td>\n",
       "      <td>5.8</td>\n",
       "      <td></td>\n",
       "      <td>55</td>\n",
       "    </tr>\n",
       "  </tbody>\n",
       "</table>\n",
       "<p>12000 rows × 6 columns</p>\n",
       "</div>"
      ],
      "text/plain": [
       "                  series_id  year period value footnotes  state\n",
       "0      LASST010000000000003  1995    M12   5.5                1\n",
       "1      LASST010000000000003  1995    M11   5.6                1\n",
       "2      LASST010000000000003  1995    M10   5.7                1\n",
       "3      LASST010000000000003  1995    M09   5.8                1\n",
       "4      LASST010000000000003  1995    M08   5.9                1\n",
       "...                     ...   ...    ...   ...       ...    ...\n",
       "11995  LASST550000000000003  1976    M05   5.5               55\n",
       "11996  LASST550000000000003  1976    M04   5.6               55\n",
       "11997  LASST550000000000003  1976    M03   5.7               55\n",
       "11998  LASST550000000000003  1976    M02   5.8               55\n",
       "11999  LASST550000000000003  1976    M01   5.8               55\n",
       "\n",
       "[12000 rows x 6 columns]"
      ]
     },
     "execution_count": 72,
     "metadata": {},
     "output_type": "execute_result"
    }
   ],
   "source": [
    "df_all"
   ]
  },
  {
   "cell_type": "code",
   "execution_count": 73,
   "id": "60fbd2a8",
   "metadata": {},
   "outputs": [],
   "source": [
    "df_all['date'] = pd.to_datetime(df_all['year'].astype(str) + df_all['period'], format='%YM%m')"
   ]
  },
  {
   "cell_type": "code",
   "execution_count": 74,
   "id": "eb89598c",
   "metadata": {},
   "outputs": [],
   "source": [
    "df_all = df_all.drop(columns=['series_id','year','period'])"
   ]
  },
  {
   "cell_type": "code",
   "execution_count": 75,
   "id": "75f0c259",
   "metadata": {},
   "outputs": [
    {
     "data": {
      "text/html": [
       "<div>\n",
       "<style scoped>\n",
       "    .dataframe tbody tr th:only-of-type {\n",
       "        vertical-align: middle;\n",
       "    }\n",
       "\n",
       "    .dataframe tbody tr th {\n",
       "        vertical-align: top;\n",
       "    }\n",
       "\n",
       "    .dataframe thead th {\n",
       "        text-align: right;\n",
       "    }\n",
       "</style>\n",
       "<table border=\"1\" class=\"dataframe\">\n",
       "  <thead>\n",
       "    <tr style=\"text-align: right;\">\n",
       "      <th></th>\n",
       "      <th>value</th>\n",
       "      <th>footnotes</th>\n",
       "      <th>state</th>\n",
       "      <th>date</th>\n",
       "    </tr>\n",
       "  </thead>\n",
       "  <tbody>\n",
       "    <tr>\n",
       "      <th>0</th>\n",
       "      <td>5.5</td>\n",
       "      <td></td>\n",
       "      <td>1</td>\n",
       "      <td>1995-12-01</td>\n",
       "    </tr>\n",
       "    <tr>\n",
       "      <th>1</th>\n",
       "      <td>5.6</td>\n",
       "      <td></td>\n",
       "      <td>1</td>\n",
       "      <td>1995-11-01</td>\n",
       "    </tr>\n",
       "    <tr>\n",
       "      <th>2</th>\n",
       "      <td>5.7</td>\n",
       "      <td></td>\n",
       "      <td>1</td>\n",
       "      <td>1995-10-01</td>\n",
       "    </tr>\n",
       "    <tr>\n",
       "      <th>3</th>\n",
       "      <td>5.8</td>\n",
       "      <td></td>\n",
       "      <td>1</td>\n",
       "      <td>1995-09-01</td>\n",
       "    </tr>\n",
       "    <tr>\n",
       "      <th>4</th>\n",
       "      <td>5.9</td>\n",
       "      <td></td>\n",
       "      <td>1</td>\n",
       "      <td>1995-08-01</td>\n",
       "    </tr>\n",
       "    <tr>\n",
       "      <th>...</th>\n",
       "      <td>...</td>\n",
       "      <td>...</td>\n",
       "      <td>...</td>\n",
       "      <td>...</td>\n",
       "    </tr>\n",
       "    <tr>\n",
       "      <th>11995</th>\n",
       "      <td>5.5</td>\n",
       "      <td></td>\n",
       "      <td>55</td>\n",
       "      <td>1976-05-01</td>\n",
       "    </tr>\n",
       "    <tr>\n",
       "      <th>11996</th>\n",
       "      <td>5.6</td>\n",
       "      <td></td>\n",
       "      <td>55</td>\n",
       "      <td>1976-04-01</td>\n",
       "    </tr>\n",
       "    <tr>\n",
       "      <th>11997</th>\n",
       "      <td>5.7</td>\n",
       "      <td></td>\n",
       "      <td>55</td>\n",
       "      <td>1976-03-01</td>\n",
       "    </tr>\n",
       "    <tr>\n",
       "      <th>11998</th>\n",
       "      <td>5.8</td>\n",
       "      <td></td>\n",
       "      <td>55</td>\n",
       "      <td>1976-02-01</td>\n",
       "    </tr>\n",
       "    <tr>\n",
       "      <th>11999</th>\n",
       "      <td>5.8</td>\n",
       "      <td></td>\n",
       "      <td>55</td>\n",
       "      <td>1976-01-01</td>\n",
       "    </tr>\n",
       "  </tbody>\n",
       "</table>\n",
       "<p>12000 rows × 4 columns</p>\n",
       "</div>"
      ],
      "text/plain": [
       "      value footnotes  state       date\n",
       "0       5.5                1 1995-12-01\n",
       "1       5.6                1 1995-11-01\n",
       "2       5.7                1 1995-10-01\n",
       "3       5.8                1 1995-09-01\n",
       "4       5.9                1 1995-08-01\n",
       "...     ...       ...    ...        ...\n",
       "11995   5.5               55 1976-05-01\n",
       "11996   5.6               55 1976-04-01\n",
       "11997   5.7               55 1976-03-01\n",
       "11998   5.8               55 1976-02-01\n",
       "11999   5.8               55 1976-01-01\n",
       "\n",
       "[12000 rows x 4 columns]"
      ]
     },
     "execution_count": 75,
     "metadata": {},
     "output_type": "execute_result"
    }
   ],
   "source": [
    "df_all"
   ]
  },
  {
   "cell_type": "code",
   "execution_count": null,
   "id": "59bb2679",
   "metadata": {},
   "outputs": [],
   "source": []
  }
 ],
 "metadata": {
  "kernelspec": {
   "display_name": "Python 3 (ipykernel)",
   "language": "python",
   "name": "python3"
  },
  "language_info": {
   "codemirror_mode": {
    "name": "ipython",
    "version": 3
   },
   "file_extension": ".py",
   "mimetype": "text/x-python",
   "name": "python",
   "nbconvert_exporter": "python",
   "pygments_lexer": "ipython3",
   "version": "3.8.13"
  }
 },
 "nbformat": 4,
 "nbformat_minor": 5
}
