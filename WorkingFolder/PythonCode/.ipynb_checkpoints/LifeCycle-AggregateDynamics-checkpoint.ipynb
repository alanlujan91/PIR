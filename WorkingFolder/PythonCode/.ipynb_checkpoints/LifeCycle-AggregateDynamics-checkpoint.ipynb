{
 "cells": [
  {
   "cell_type": "markdown",
   "metadata": {},
   "source": [
    "## Aggregate dynamics in a life-cycle economy under idiosyncratic risks\n",
    "\n",
    "- author: Tao Wang\n",
    "- date: November 2021\n",
    "- this is an companion notebook to the paper \"Perceived income risks\""
   ]
  },
  {
   "cell_type": "code",
   "execution_count": 1,
   "metadata": {},
   "outputs": [
    {
     "name": "stderr",
     "output_type": "stream",
     "text": [
      "OMP: Info #270: omp_set_nested routine deprecated, please use omp_set_max_active_levels instead.\n"
     ]
    }
   ],
   "source": [
    "import numpy as np\n",
    "import pandas as pd\n",
    "from quantecon.optimize import brent_max, brentq\n",
    "from interpolation import interp, mlinterp\n",
    "from scipy import interpolate\n",
    "import numba as nb\n",
    "from numba import jit, njit, float64, int64, boolean\n",
    "from numba.typed import List\n",
    "from numba.experimental import jitclass\n",
    "import matplotlib as mp\n",
    "import matplotlib.pyplot as plt\n",
    "%matplotlib inline\n",
    "from quantecon import MarkovChain\n",
    "import quantecon as qe \n",
    "from mpl_toolkits.mplot3d import Axes3D\n",
    "from matplotlib import cm\n",
    "from time import time\n",
    "from Utility import make_grid_exp_mult\n",
    "from scipy import sparse as sp\n",
    "import scipy.sparse.linalg\n",
    "import scipy.optimize as op\n",
    "from scipy import linalg as lg \n",
    "from Utility import cal_ss_2markov\n",
    "from matplotlib import cm\n",
    "import joypy"
   ]
  },
  {
   "cell_type": "code",
   "execution_count": 2,
   "metadata": {
    "code_folding": [],
    "lines_to_next_cell": 2
   },
   "outputs": [],
   "source": [
    "#from HARK.distribution import DiscreteDistribution, MeanOneLogNormal,combine_indep_dstns"
   ]
  },
  {
   "cell_type": "code",
   "execution_count": 3,
   "metadata": {
    "code_folding": [
     0
    ]
   },
   "outputs": [],
   "source": [
    "## figure plotting configurations\n",
    "\n",
    "mp.rc('xtick', labelsize=14) \n",
    "mp.rc('ytick', labelsize=14) \n",
    "\n",
    "fontsize = 14\n",
    "legendsize = 12"
   ]
  },
  {
   "cell_type": "markdown",
   "metadata": {},
   "source": [
    "### The Life-cycle Model Class and Its Solver"
   ]
  },
  {
   "cell_type": "code",
   "execution_count": 4,
   "metadata": {
    "code_folding": [
     0
    ]
   },
   "outputs": [],
   "source": [
    "lc_data = [\n",
    "    ('ρ', float64),              # utility parameter CRRA\n",
    "    ('β', float64),              # discount factor\n",
    "    ('R',float64),               # Nominal interest rate factor \n",
    "    ('W',float64),               # Wage rate\n",
    "    ('P', float64[:, :]),        # transition probs for z_t, a persistent (macro) state  x\n",
    "    ('z_val', float64[:]),       # values of z, grid values for the continous (macro) persistent state    x\n",
    "    ('sigma_n', float64),        # permanent shock volatility              x\n",
    "    ('x',float64),               # MA(1) coefficient, or essentially the autocorrelation coef of non-persmanent income\n",
    "    ('sigma_eps', float64),      # transitory shock volatility\n",
    "    ('borrowing_cstr',boolean),  ## artifitial borrowing constraint, natural borrowing constraint if False\n",
    "    ('U',float64),               # the probability of being unemployed    * \n",
    "    ('LivPrb',float64),         # the probability of being alive next period \n",
    "    ('b_y', float64),            # loading of macro state to income        x \n",
    "    ('sigma_n_2mkv',float64[:]), # markov permanent risks, only 2 for now\n",
    "    ('sigma_eps_2mkv',float64[:]), # markov transtory risk, only 2 for now\n",
    "    ('s_grid', float64[:]),      # Grid over savings\n",
    "    ('eps_grid', float64[:]),    # Grid over savings\n",
    "    ('n_shk_draws', float64[:]), ## Draws of permanent income shock \n",
    "    ('eps_shk_draws', float64[:]), # Draws of MA/transitory income shocks \n",
    "    ('T',int64),                 # years of work                          *   \n",
    "    ('L',int64),                 # years of life                          * \n",
    "    ('G',float64[:]),            # growth rate of permanent income    *\n",
    "    ('theta',float64),           ## extrapolation parameter \n",
    "    ('shock_draw_size',int64),    ## nb of points drawn for shocks \n",
    "    ('n_shk_mkv_draws',float64[:,:]),  ## 2-state markov on permanent risks \n",
    "    ('eps_shk_mkv_draws',float64[:,:]), ## 2-state markov on transitory risks\n",
    "    ('unemp_insurance',float64),   ## Unemployment insurance replacement ratio \n",
    "    ('pension',float64),           ## pension payment to permanent income ratio\n",
    "    ('ue_markov', boolean),        ## True if 2-state emp/uemp markov \n",
    "    ('adjust_prob',float64),        ## the exogenous probability of being able to adjust consumption plan \n",
    "    ('sigma_p_init',float64),         ## standard devaition of initial income\n",
    "    ('init_p_draws', float64[:]),     ## Draws of initial permanent income \n",
    "    ('init_b', float64),              ## Initial endowment (possibly from accidental bequests) \n",
    "    ('λ', float64),                   ## Income tax rate\n",
    "    ('λ_SS',float64),                 ## Social security tax \n",
    "    ('transfer', float64),            ## Transfer/current permanent income ratio\n",
    "    ('bequest_ratio',float64)         ## zero: bequest thrown to the ocea; one: fully given to newborns\n",
    "]"
   ]
  },
  {
   "cell_type": "code",
   "execution_count": 5,
   "metadata": {
    "code_folding": [
     1,
     6,
     138
    ]
   },
   "outputs": [],
   "source": [
    "@jitclass(lc_data)\n",
    "class LifeCycle:\n",
    "    \"\"\"\n",
    "    A class that stores primitives for the life cycle consumption problem.\n",
    "    \"\"\"\n",
    "\n",
    "    def __init__(self,\n",
    "                 ρ = 2,     ## relative risk aversion  \n",
    "                 β = 0.96,  ## discount factor\n",
    "                 P = np.array([(0.9, 0.1),\n",
    "                             (0.1, 0.9)]),   ## transitory probability of markov state z\n",
    "                 z_val = np.array([0.0,1.0]), ## markov state from low to high  \n",
    "                 sigma_n = 0.01,     ## size of permanent income shocks\n",
    "                 x = 0.9,            ## MA(1) coefficient of non-permanent inocme shocks\n",
    "                 sigma_eps = 0.03,   ## size of transitory income risks\n",
    "                 borrowing_cstr = True,  ## artificial zero borrowing constraint \n",
    "                 U = 0.0,            ## unemployment risk probability (0-1)\n",
    "                 LivPrb = 1.0,       ## living probability \n",
    "                 b_y = 0.0,          ## loading of markov state on income  \n",
    "                 sigma_n_2mkv = np.array([0.01,0.02]),  ## permanent risks in 2 markov states\n",
    "                 sigma_eps_2mkv = np.array([0.02,0.04]),  ## transitory risks in 2 markov states\n",
    "                 R = 1.03,           ## interest factor \n",
    "                 W = 1.0,            ## Wage rate\n",
    "                 T = 40,             ## work age, from 25 to 65\n",
    "                 L = 60,             ## life length 85\n",
    "                 G = np.ones(60),    ## growth factor list of permanent income \n",
    "                 shock_draw_size = 40,\n",
    "                 grid_max = 2.5,\n",
    "                 grid_size = 50,\n",
    "                 seed = 456789,\n",
    "                 theta = 2,               ## assymetric extrapolative parameter\n",
    "                 unemp_insurance = 0.0,   #  unemp_insurance = 0.0,   \n",
    "                 pension = 1.0,           \n",
    "                 ue_markov = False,    \n",
    "                 adjust_prob = 1.0,\n",
    "                 sigma_p_init = 0.01,\n",
    "                 init_b = 0.0,\n",
    "                 λ = 0.0,\n",
    "                 λ_SS = 0.0,\n",
    "                 transfer = 0.0,\n",
    "                 bequest_ratio = 0.0):  \n",
    "\n",
    "        np.random.seed(seed)  # arbitrary seed\n",
    "        \n",
    "        self.ρ, self.β = ρ, β\n",
    "        self.R = R \n",
    "        self.W = W\n",
    "        n_z = len(z_val)\n",
    "        self.P, self.z_val = P, z_val\n",
    "        n_mkv = len(sigma_n_2mkv)\n",
    "        assert n_z == n_mkv, \"the number of markov states for income and for risks should be equal\"\n",
    "        self.T,self.L = T,L\n",
    "        self.G = G\n",
    "        self.sigma_n = sigma_n\n",
    "        self.x = x\n",
    "        self.sigma_eps = sigma_eps\n",
    "        self.sigma_p_init = sigma_p_init\n",
    "        self.init_b = init_b\n",
    "        self.borrowing_cstr = borrowing_cstr\n",
    "        self.b_y = b_y\n",
    "        self.λ = λ\n",
    "        self.λ_SS= λ\n",
    "        self.transfer = transfer \n",
    "        self.bequest_ratio = bequest_ratio \n",
    "        self.sigma_n_2mkv = sigma_n_2mkv\n",
    "        self.sigma_eps_2mkv = sigma_eps_2mkv\n",
    "        self.LivPrb = LivPrb \n",
    "        self.unemp_insurance = unemp_insurance\n",
    "        self.pension = pension \n",
    "        self.ue_markov = ue_markov\n",
    "        self.adjust_prob = adjust_prob\n",
    "        \n",
    "        \n",
    "        ## shocks \n",
    "        \n",
    "        self.shock_draw_size = shock_draw_size\n",
    "        \n",
    "        ## these codes use equalprob discretized distributions at the cost of not being jittable \n",
    "        \n",
    "        #mu_n = -sigma_n**2/2\n",
    "        #mu_eps = -sigma_eps**2/2\n",
    "        #theta_n = stats.lognorm(sigma_n, 0, np.exp(mu_n))    # Create \"frozen\" distribution instance\n",
    "        #theta_eps = stats.lognorm(sigma_eps, 0, np.exp(mu_eps)) # Create \"frozen\" distribution instance\n",
    "        #self.n_shk_draws = DiscreteApproximation(N = shock_draw_size, \n",
    "        #                                         cdf=theta_n.cdf, \n",
    "        #                                         pdf=theta_n.pdf, \n",
    "        #                                         invcdf=theta_n.ppf)\n",
    "        #self.eps_shk_draws = DiscreteApproximation(N = shock_draw_size, \n",
    "        #                                         cdf=theta_eps.cdf, \n",
    "        #                                         pdf=theta_eps.pdf, \n",
    "        #                                         invcdf=theta_eps.ppf)\n",
    "        \n",
    "        \n",
    "        ## draw shocks for constant volatility scenario\n",
    "        self.n_shk_draws = sigma_n*np.random.randn(shock_draw_size)-sigma_n**2/2\n",
    "        self.eps_shk_draws = sigma_eps*np.random.randn(shock_draw_size)-sigma_eps**2/2\n",
    "        self.init_p_draws = sigma_p_init*np.random.randn(shock_draw_size)-sigma_p_init**2/2\n",
    "        \n",
    "        ## draw shocks for stochastic volatility scenario\n",
    "        sigma_n_2mkv_r = sigma_n_2mkv.reshape(n_mkv,-1)\n",
    "        sigma_eps_2mkv_r = sigma_eps_2mkv.reshape(n_mkv,-1)\n",
    "        \n",
    "        self.n_shk_mkv_draws = sigma_n_2mkv_r*np.random.randn(shock_draw_size)-sigma_n_2mkv_r**2/2\n",
    "        self.eps_shk_mkv_draws = sigma_eps_2mkv_r*np.random.randn(shock_draw_size)-sigma_eps_2mkv_r**2/2\n",
    "\n",
    "        \n",
    "        ## ma(1) shock grid \n",
    "        lb_sigma_ϵ = -sigma_eps**2/2-2*sigma_eps\n",
    "        ub_sigma_ϵ = -sigma_eps**2/2+2*sigma_eps\n",
    "        self.eps_grid = np.linspace(lb_sigma_ϵ,ub_sigma_ϵ,grid_size)\n",
    "        \n",
    "        ## saving grid\n",
    "        self.s_grid = np.exp(np.linspace(np.log(1e-6), np.log(grid_max), grid_size))\n",
    "       \n",
    "       \n",
    "        ## extrapolaton coefficient, i.e. higher theta, higher asymmetric response\n",
    "        self.theta = theta\n",
    "        \n",
    "        # Test stability \n",
    "        ## this is for infinite horizon problem \n",
    "        #assert β * R < 1, \"Stability condition failed.\"\n",
    "\n",
    "    ## utility function \n",
    "    def u(self,c):\n",
    "        return c**(1-self.ρ)/(1-ρ)\n",
    "    \n",
    "    # Marginal utility\n",
    "    def u_prime(self, c):\n",
    "        return c**(-self.ρ)\n",
    "\n",
    "    # Inverse of marginal utility\n",
    "    def u_prime_inv(self, c):\n",
    "        return c**(-1/self.ρ)\n",
    "    \n",
    "    ## value function \n",
    "    def V(self,m):\n",
    "        return None\n",
    "\n",
    "    def Y(self, z, u_shk):\n",
    "        #from the transitory/ma shock and ue realization  to the income factor\n",
    "        if self.ue_markov ==False:\n",
    "            ## z state continuously loading to inome\n",
    "            ## u_shk here represents the cumulated MA shock, for instance, for ma(1), u_shk = phi eps_(t-1) + eps_t\n",
    "            ## income \n",
    "            return np.exp(u_shk + (z * self.b_y))\n",
    "        elif self.ue_markov ==True:\n",
    "            assert len(self.P)==2,\"unemployment/employment markov has to be 2 state markov\"\n",
    "            return (z==0)*(self.unemp_insurance) + (z==1)*np.exp(u_shk)\n",
    "\n",
    "    def Γ(self,n_shk):\n",
    "        ## from the permanent shock to the income factor\n",
    "        return np.exp(n_shk)"
   ]
  },
  {
   "cell_type": "code",
   "execution_count": 6,
   "metadata": {
    "code_folding": [
     5
    ]
   },
   "outputs": [],
   "source": [
    "## this function takes the consumption values at different grids of state \n",
    "###   variables from period t+1, and model class \n",
    "### and generates the consumption values at t \n",
    "\n",
    "@njit\n",
    "def EGM(aϵ_in,\n",
    "      σ_in,\n",
    "      t, ## the period for which the c policy is computed \n",
    "      lc):\n",
    "    \"\"\"\n",
    "    The Coleman--Reffett operator for the life-cycle consumption problem,\n",
    "    using the endogenous grid method.\n",
    "\n",
    "        * lc is an instance of life cycle model\n",
    "        * σ_in is a n1 x n2 x n3 dimension consumption policy \n",
    "          * n1 = dim(s), n2 = dim(eps), n3 = dim(z)\n",
    "        * aϵ_in is the same sized grid points of the three state variable \n",
    "        * aϵ_in[:,j,z] is the vector of asset grids corresponding to j-th grid of eps and z-th grid of z \n",
    "        * σ_in[i,j,z] is consumption at aϵ_in[i,j,z]\n",
    "    \"\"\"\n",
    "\n",
    "    # Simplify names\n",
    "    u_prime, u_prime_inv = lc.u_prime, lc.u_prime_inv\n",
    "    R, ρ, P, β = lc.R, lc.ρ, lc.P, lc.β\n",
    "    W = lc.W\n",
    "    z_val = lc.z_val\n",
    "    s_grid,eps_grid = lc.s_grid,lc.eps_grid\n",
    "    n_shk_draws, eps_shk_draws= lc.n_shk_draws, lc.eps_shk_draws\n",
    "    borrowing_cstr = lc.borrowing_cstr \n",
    "    ue_prob = lc.U  ## uemp prob\n",
    "    LivProb = lc.LivPrb  ## live probabilituy \n",
    "    unemp_insurance = lc.unemp_insurance\n",
    "    ue_markov = lc.ue_markov            ## bool for 2-state markov transition probability \n",
    "    adjust_prob = lc.adjust_prob  ## exogenous adjustment probability \n",
    "     \n",
    "    Y = lc.Y\n",
    "    ####################\n",
    "    ρ = lc.ρ\n",
    "    Γ = lc.Γ\n",
    "    ####################################\n",
    "    G = lc.G[t+1]  ## get the age specific \n",
    "    ####################################\n",
    "\n",
    "    x = lc.x\n",
    "    λ = lc.λ\n",
    "    λ_SS = lc.λ_SS\n",
    "    transfer = lc.transfer\n",
    "    \n",
    "    ###################\n",
    "    \n",
    "    n = len(P)\n",
    "\n",
    "    # Create consumption function by linear interpolation\n",
    "    ########################################################\n",
    "    σ = lambda a,ϵ,z: mlinterp((aϵ_in[:,0,z],eps_grid),σ_in[:,:,z], (a,ϵ)) \n",
    "    ########## need to replace with multiinterp \n",
    "\n",
    "    # Allocate memory\n",
    "    σ_out = np.empty_like(σ_in)  ## grid_size_s X grid_size_ϵ X grid_size_z\n",
    "\n",
    "    # Obtain c_i at each s_i, z, store in σ_out[i, z], computing\n",
    "    # the expectation term by Monte Carlo\n",
    "    for i, s in enumerate(s_grid):\n",
    "        for j, eps in enumerate(eps_grid):\n",
    "            for z in range(n):\n",
    "                # Compute expectation\n",
    "                Ez = 0.0\n",
    "                for z_hat in range(n):\n",
    "                    z_val_hat = z_val[z_hat]\n",
    "                    for eps_shk in eps_shk_draws:\n",
    "                        for n_shk in n_shk_draws:\n",
    "                            ## for employed next period \n",
    "                            Γ_hat = Γ(n_shk) \n",
    "                            u_shk = x*eps+eps_shk\n",
    "                            if t <=lc.T-1:\n",
    "                                ## work \n",
    "                                Y_hat = (1-λ)*(1-λ_SS)*Y(z_val_hat,u_shk) ## conditional on being employed \n",
    "                                c_hat = σ(R/(G*Γ_hat) * s + Y_hat+transfer/(G*Γ_hat),eps_shk,z_hat)\n",
    "                                utility = (G*Γ_hat)**(1-ρ)*u_prime(c_hat)\n",
    "\n",
    "                                ## for unemployed next period\n",
    "                                Y_hat_u = (1-λ)*unemp_insurance\n",
    "                                c_hat_u = σ(R/(G*Γ_hat) * s + Y_hat_u+transfer/(G*Γ_hat),eps_shk,z_hat)\n",
    "                                utility_u = (G*Γ_hat)**(1-ρ)*u_prime(c_hat_u)\n",
    "                            \n",
    "                                Ez += LivProb*((1-ue_prob)*utility * P[z, z_hat]+\n",
    "                                           ue_prob*utility_u* P[z, z_hat]\n",
    "                                          )\n",
    "                            else:\n",
    "                                ## retirement\n",
    "                                Y_R = lc.pension\n",
    "                                c_hat = σ(R/(G*Γ_hat) * s + (Y_R+transfer)/(G*Γ_hat),eps_shk,z_hat)\n",
    "                                utility = (G*Γ_hat)**(1-ρ)*u_prime(c_hat)\n",
    "                                Ez += LivProb*utility * P[z, z_hat]\n",
    "                            \n",
    "                Ez = Ez / (len(n_shk_draws)*len(eps_shk_draws))\n",
    "                ## the last step depends on if adjustment is fully flexible\n",
    "                if adjust_prob ==1.0:\n",
    "                    σ_out[i, j, z] =  u_prime_inv(β * R* Ez)\n",
    "                elif adjust_prob <1.0:\n",
    "                    σ_out[i, j, z] =  adjust_prob/(1-LivProb*β*R*(1-adjust_prob))*u_prime_inv(β * R* Ez)\n",
    "\n",
    "    # Calculate endogenous asset grid\n",
    "    aϵ_out = np.empty_like(σ_out)\n",
    "\n",
    "    for j,ϵ in enumerate(eps_grid):\n",
    "        for z in range(n):\n",
    "            aϵ_out[:,j,z] = s_grid + σ_out[:,j,z]\n",
    "\n",
    "    # Fixing a consumption-asset pair at for the constraint region\n",
    "    for j,ϵ in enumerate(eps_grid):\n",
    "        for z in range(n):\n",
    "            if borrowing_cstr==True:  ## either hard constraint is zero or positive probability of losing job\n",
    "                σ_out[0,j,z] = 0.0\n",
    "                aϵ_out[0,j,z] = 0.0\n",
    "            #elif borrowing_cstr==False and ue_markov==True:\n",
    "            #    σ_out[0,j,z] = 0.0\n",
    "            #    aϵ_out[0,j,z] = min(0.0,-unemp_insurance/R)\n",
    "            else:\n",
    "                σ_out[0,j,z] = 0.0\n",
    "                self_min_a = - np.exp(np.min(eps_grid))*G/R\n",
    "                self_min_a = min(self_min_a,-unemp_insurance/R)\n",
    "                aϵ_out[0,j,z] = self_min_a\n",
    "\n",
    "    return aϵ_out, σ_out"
   ]
  },
  {
   "cell_type": "code",
   "execution_count": 7,
   "metadata": {
    "code_folding": [
     1
    ]
   },
   "outputs": [],
   "source": [
    "## for life-cycle/finite horizon problem \n",
    "def solve_model_backward_iter(model,        # Class with model information\n",
    "                                  aϵ_vec,        # Initial condition for assets and MA shocks\n",
    "                                  σ_vec,        # Initial condition for consumption\n",
    "                                  br = False,\n",
    "                                  sv = False):\n",
    "\n",
    "    ## memories for life-cycle solutions \n",
    "    n_grids1 = σ_vec.shape[0]\n",
    "    n_grids2 =σ_vec.shape[1]\n",
    "    n_z = len(model.P)                       \n",
    "    aϵs_new =  np.empty((model.L,n_grids1,n_grids2,n_z),dtype = np.float64)\n",
    "    σs_new =  np.empty((model.L,n_grids1,n_grids2,n_z),dtype = np.float64)\n",
    "    \n",
    "    aϵs_new[0,:,:,:] = aϵ_vec\n",
    "    σs_new[0,:,:,:] = σ_vec\n",
    "    \n",
    "    for year2L in range(1,model.L): ## nb of years till L from 0 to Model.L-2\n",
    "        age = model.L-year2L\n",
    "        age_id = age-1\n",
    "        #print(\"at work age of \"+str(age))\n",
    "        aϵ_vec_next, σ_vec_next = aϵs_new[year2L-1,:,:,:],σs_new[year2L-1,:,:,:]\n",
    "        if br==False:\n",
    "            if sv ==False:\n",
    "                #print('objective model without stochastic risk')\n",
    "                aϵ_new, σ_new =EGM(aϵ_vec_next, σ_vec_next, age_id, model)\n",
    "            else:\n",
    "                #print('objective model with stochastic risk')\n",
    "                aϵ_new, σ_new = EGM_sv(aϵ_vec_next, σ_vec_next, age_id, model)\n",
    "        elif br==True:\n",
    "            #print('subjective model with stochastic risk')\n",
    "            aϵ_new, σ_new = EGM_br(aϵ_vec_next, σ_vec_next, age_id, model)\n",
    "        aϵs_new[year2L,:,:,:] = aϵ_new\n",
    "        σs_new[year2L,:,:,:] = σ_new\n",
    "\n",
    "    return aϵs_new, σs_new"
   ]
  },
  {
   "cell_type": "markdown",
   "metadata": {},
   "source": [
    "### Initialize the model"
   ]
  },
  {
   "cell_type": "code",
   "execution_count": 8,
   "metadata": {
    "code_folding": [
     2
    ]
   },
   "outputs": [],
   "source": [
    "#this is a fake life cycle income function \n",
    "\n",
    "def fake_life_cycle(L):\n",
    "    LPath = np.arange(L+1)\n",
    "    Y_fake = -0.01*(LPath-int(L/3))**2+0.03*LPath+20\n",
    "    G = Y_fake[1:]/Y_fake[:-1]\n",
    "    return G"
   ]
  },
  {
   "cell_type": "code",
   "execution_count": 9,
   "metadata": {
    "code_folding": [
     0
    ],
    "lines_to_next_cell": 2
   },
   "outputs": [],
   "source": [
    "## parameters \n",
    "\n",
    "U = 0.0 ## transitory ue risk \n",
    "LivPrb = 0.99\n",
    "unemp_insurance = 0.15\n",
    "sigma_n = np.sqrt(0.01) # permanent \n",
    "sigma_eps = np.sqrt(0.04) # transitory \n",
    "sigma_p_init = np.sqrt(0.03)\n",
    "init_b = 0.0\n",
    "λ = 0.0942 \n",
    "λ_SS = 0.0\n",
    "transfer = 0.0\n",
    "pension = 0.5\n",
    "\n",
    "T = 40\n",
    "L = 70\n",
    "TGPos = int(L/2)\n",
    "GPos = 1.01*np.ones(TGPos)\n",
    "GNeg= 0.99*np.ones(L-TGPos)\n",
    "#G = np.concatenate([GPos,GNeg])\n",
    "#YPath = np.cumprod(G)\n",
    "G = fake_life_cycle(L)\n",
    "YPath = np.cumprod(G)\n",
    "\n",
    "\n",
    "## other parameters \n",
    "ρ = 1\n",
    "R = 1.01\n",
    "W = 1.0\n",
    "β = 0.96\n",
    "x = 0.0\n",
    "\n",
    "## no persistent state\n",
    "b_y = 0.0\n",
    "\n",
    "## set the bool to be true to turn on unemployment/employment markov (persistent unemployment risks)\n",
    "ue_markov = True\n",
    "###################################\n",
    "\n",
    "## natural borrowing constraint if False\n",
    "borrowing_cstr = True\n",
    "\n",
    "## extrapolation parameter\n",
    "\n",
    "theta = 0.0\n",
    "\n",
    "## bequest ratio \n",
    "bequest_ratio = 0.0"
   ]
  },
  {
   "cell_type": "code",
   "execution_count": 10,
   "metadata": {
    "code_folding": []
   },
   "outputs": [
    {
     "data": {
      "text/plain": [
       "Text(0, 0.5, '$\\\\hat Y$')"
      ]
     },
     "execution_count": 10,
     "metadata": {},
     "output_type": "execute_result"
    },
    {
     "data": {
      "image/png": "[encoded data removed]",
      "text/plain": [
       "<Figure size 432x288 with 1 Axes>"
      ]
     },
     "metadata": {
      "needs_background": "light"
     },
     "output_type": "display_data"
    }
   ],
   "source": [
    "## a deterministic income profile \n",
    "\n",
    "plt.title('Deterministic Life-cycle Income Profile \\n')\n",
    "plt.plot(YPath,'ro')\n",
    "plt.xlabel('Age')\n",
    "plt.ylabel(r'$\\hat Y$')"
   ]
  },
  {
   "cell_type": "markdown",
   "metadata": {},
   "source": [
    "### Solve the model with a Markov state: unemployment and employment "
   ]
  },
  {
   "cell_type": "code",
   "execution_count": 11,
   "metadata": {
    "code_folding": [
     2
    ],
    "lines_to_next_cell": 2
   },
   "outputs": [],
   "source": [
    "## initialize a markov state agent \n",
    "\n",
    "lc_mkv = LifeCycle(sigma_n = sigma_n,\n",
    "                   sigma_eps = sigma_eps,\n",
    "                   U=U,\n",
    "                   LivPrb = LivPrb,\n",
    "                   ρ=ρ,\n",
    "                   R=R,\n",
    "                   W=W,\n",
    "                   G=G,\n",
    "                   T=T,\n",
    "                   L=L,\n",
    "                   β=β,\n",
    "                   x=x,  ## shut down ma(1)\n",
    "                   theta=theta,\n",
    "                   borrowing_cstr = borrowing_cstr,\n",
    "                   b_y = b_y, ## set the macro state loading to be zero, it does not matter for ue_markov\n",
    "                   unemp_insurance = unemp_insurance, \n",
    "                   pension = pension,\n",
    "                   ue_markov = ue_markov,\n",
    "                   sigma_p_init =sigma_p_init,\n",
    "                   init_b = init_b,\n",
    "                   λ = λ,\n",
    "                   transfer = transfer,\n",
    "                   bequest_ratio = bequest_ratio\n",
    "                  )"
   ]
  },
  {
   "cell_type": "code",
   "execution_count": 12,
   "metadata": {
    "code_folding": [
     0
    ],
    "lines_to_next_cell": 2
   },
   "outputs": [],
   "source": [
    "## solve the model \n",
    "\n",
    "P = np.array([[0.7,0.3],\n",
    "            [0.1,0.9]])\n",
    "\n",
    "## parameterize  \n",
    "lc_mkv.P = P\n",
    "\n",
    "\n",
    "## terminal period solutions \n",
    "k = len(lc_mkv.s_grid)\n",
    "k2 =len(lc_mkv.eps_grid)\n",
    "n = len(lc_mkv.P)\n",
    "\n",
    "σ_init_mkv = np.empty((k,k2,n))\n",
    "a_init_mkv = np.empty((k,k2,n))\n",
    "\n",
    "# terminal solution c = m \n",
    "for z in range(n):\n",
    "    for j in range(k2):\n",
    "        a_init_mkv[:,j,z] = 2*lc_mkv.s_grid\n",
    "        σ_init_mkv[:,j,z] = a_init_mkv[:,j,z] \n",
    "\n",
    "## solve the model \n",
    "as_star_mkv, σs_star_mkv = solve_model_backward_iter(lc_mkv,\n",
    "                                                 a_init_mkv,\n",
    "                                                 σ_init_mkv)"
   ]
  },
  {
   "cell_type": "code",
   "execution_count": 13,
   "metadata": {
    "code_folding": [
     0,
     10
    ]
   },
   "outputs": [
    {
     "data": {
      "image/png": "[encoded data removed]",
      "text/plain": [
       "<Figure size 1152x288 with 4 Axes>"
      ]
     },
     "metadata": {
      "needs_background": "light"
     },
     "output_type": "display_data"
    }
   ],
   "source": [
    "## compare two markov states good versus bad \n",
    "\n",
    "\n",
    "years_left = [1,10,21,30]\n",
    "n_sub = len(years_left)\n",
    "\n",
    "eps_ls = [10]\n",
    "\n",
    "fig,axes = plt.subplots(1,n_sub,figsize=(4*n_sub,4))\n",
    "\n",
    "for x,year in enumerate(years_left):\n",
    "    age = lc_mkv.L-year\n",
    "    i = lc_mkv.L -age\n",
    "    for y,eps in enumerate(eps_ls):\n",
    "        axes[x].plot(as_star_mkv[i,:,y,0],\n",
    "                     σs_star_mkv[i,:,y,0],\n",
    "                     '--',\n",
    "                     label ='unemployed',\n",
    "                     lw=3)\n",
    "        axes[x].plot(as_star_mkv[i,:,y,1],\n",
    "                     σs_star_mkv[i,:,y,1],\n",
    "                     '-.',\n",
    "                     label ='employed',\n",
    "                     lw=3)\n",
    "    axes[x].legend()\n",
    "    axes[x].set_xlabel('asset')\n",
    "    axes[0].set_ylabel('c')\n",
    "    axes[x].set_title(r'c at $age={}$'.format(age))"
   ]
  },
  {
   "cell_type": "markdown",
   "metadata": {},
   "source": [
    "## Transition matricies"
   ]
  },
  {
   "cell_type": "code",
   "execution_count": 14,
   "metadata": {
    "code_folding": [
     1
    ]
   },
   "outputs": [],
   "source": [
    "## create distribution grid points \n",
    "def define_distribution_grid(model,\n",
    "                             dist_mGrid = None, \n",
    "                             dist_pGrid = None, \n",
    "                             m_density = 0, \n",
    "                             num_pointsM = 48,  \n",
    "                             num_pointsP = 50, \n",
    "                             max_p_fac = 20.0):\n",
    "        \n",
    "        '''\n",
    "        Defines the grid on which the distribution is defined. Stores the grid of market resources and permanent income as attributes of self.\n",
    "        Grid for normalized market resources and permanent income may be prespecified \n",
    "        as dist_mGrid and dist_pGrid, respectively. If not then default grid is computed based off given parameters.\n",
    "        \n",
    "        Parameters\n",
    "        ----------\n",
    "        dist_mGrid : np.array\n",
    "                Prespecified grid for distribution over normalized market resources\n",
    "            \n",
    "        dist_pGrid : np.array\n",
    "                Prespecified grid for distribution over permanent income. \n",
    "            \n",
    "        m_density: float\n",
    "                Density of normalized market resources grid. Default value is mdensity = 0.\n",
    "                Only affects grid of market resources if dist_mGrid=None.\n",
    "            \n",
    "        num_pointsM: float\n",
    "                Number of gridpoints for market resources grid.\n",
    "        \n",
    "        num_pointsP: float\n",
    "                 Number of gridpoints for permanent income. \n",
    "                 This grid will be exponentiated by the function make_grid_exp_mult.\n",
    "                \n",
    "        max_p_fac : float\n",
    "                Factor that scales the maximum value of permanent income grid. \n",
    "                Larger values increases the maximum value of permanent income grid.\n",
    "        \n",
    "        Returns\n",
    "        -------\n",
    "        List(dist_mGrid): numba typed list, sized of 1, each of which is sized n_m\n",
    "        List(dist_pGrid): numba typed list, sized of T, each of which is sized n_p\n",
    "        '''  \n",
    " \n",
    "        ## m distribution grid \n",
    "        if dist_mGrid == None:\n",
    "            aXtra_Grid = make_grid_exp_mult(ming = model.s_grid[0], \n",
    "                                            maxg = model.s_grid[-1], \n",
    "                                            ng = num_pointsM, \n",
    "                                            timestonest = 3) #Generate Market resources grid given density and number of points\n",
    "\n",
    "            for i in range(m_density):\n",
    "                axtra_shifted = np.delete(aXtra_Grid,-1) \n",
    "                axtra_shifted = np.insert(axtra_shifted, 0,1.00000000e-04)\n",
    "                dist_betw_pts = aXtra_Grid - axtra_shifted\n",
    "                dist_betw_pts_half = dist_betw_pts/2\n",
    "                new_A_grid = axtra_shifted + dist_betw_pts_half\n",
    "                aXtra_Grid = np.concatenate((aXtra_Grid,new_A_grid))\n",
    "                aXtra_Grid = np.sort(aXtra_Grid)\n",
    "                \n",
    "            dist_mGrid =  [aXtra_Grid]\n",
    "\n",
    "        else:\n",
    "            dist_mGrid = [dist_mGrid] #If grid of market resources prespecified then use as mgrid\n",
    "            \n",
    "        ## permanent distribution grid \n",
    "        if dist_pGrid == None:\n",
    "            dist_pGrid = [] #list of grids of permanent income    \n",
    "\n",
    "            for i in range(model.L):\n",
    "                #Dist_pGrid is taken to cover most of the ergodic distribution\n",
    "                if model.sigma_n!=0.0:\n",
    "                    std_p = model.sigma_n\n",
    "                else:\n",
    "                    std_p = 1e-2\n",
    "                max_p = max_p_fac*std_p*(1/(1-model.LivPrb))**0.5 # Consider probability of staying alive this period\n",
    "                right_sided_grid = make_grid_exp_mult(1.0+1e-3, np.exp(max_p), num_pointsP, 2)\n",
    "                left_sided_gird = np.append(1.0/np.fliplr([right_sided_grid])[0],np.ones(1))\n",
    "                left_sided_gird = 1.0/np.fliplr([right_sided_grid])[0]\n",
    "                this_dist_pGrid = np.append(left_sided_gird,\n",
    "                                            right_sided_grid) # Compute permanent income grid this period. Grid of permanent income may differ dependent on PermShkStd\n",
    "                dist_pGrid.append(this_dist_pGrid)\n",
    "              \n",
    "        else:\n",
    "            dist_pGrid = [dist_pGrid] #If grid of permanent income prespecified then use as pgrid\n",
    "            \n",
    "        return List(dist_mGrid), List(dist_pGrid)"
   ]
  },
  {
   "cell_type": "code",
   "execution_count": 15,
   "metadata": {
    "code_folding": [
     1,
     96
    ]
   },
   "outputs": [],
   "source": [
    "@njit\n",
    "def jump_to_grid(model, \n",
    "                 m_vals, \n",
    "                 perm_vals, \n",
    "                 probs, \n",
    "                 dist_mGrid, \n",
    "                 dist_pGrid):\n",
    "\n",
    "    '''\n",
    "    Distributes values onto a predefined grid, maintaining the means. m_vals and perm_vals are realizations of market resources and permanent income while \n",
    "    dist_mGrid and dist_pGrid are the predefined grids of market resources and permanent income, respectively. That is, m_vals and perm_vals do not necesarily lie on their \n",
    "    respective grids. Returns probabilities of each gridpoint on the combined grid of market resources and permanent income.\n",
    "\n",
    "\n",
    "    Parameters\n",
    "    ----------\n",
    "    m_vals: np.array\n",
    "            Market resource values \n",
    "\n",
    "    perm_vals: np.array\n",
    "            Permanent income values \n",
    "\n",
    "    probs: np.array\n",
    "            Shock probabilities associated with combinations of m_vals and perm_vals. \n",
    "            Can be thought of as the probability mass function  of (m_vals, perm_vals).\n",
    "\n",
    "    dist_mGrid : np.array\n",
    "            Grid over normalized market resources\n",
    "\n",
    "    dist_pGrid : np.array\n",
    "            Grid over permanent income \n",
    "\n",
    "    Returns\n",
    "    -------\n",
    "    probGrid.flatten(): np.array\n",
    "             Probabilities of each gridpoint on the combined grid of market resources and permanent income\n",
    "    '''\n",
    "\n",
    "    probGrid = np.zeros((len(dist_mGrid),len(dist_pGrid)))\n",
    "    mIndex = np.digitize(m_vals,dist_mGrid) - 1 # Array indicating in which bin each values of m_vals lies in relative to dist_mGrid. Bins lie between between point of Dist_mGrid. \n",
    "    #For instance, if mval lies between dist_mGrid[4] and dist_mGrid[5] it is in bin 4 (would be 5 if 1 was not subtracted in the previous line). \n",
    "    mIndex[m_vals <= dist_mGrid[0]] = -1 # if the value is less than the smallest value on dist_mGrid assign it an index of -1\n",
    "    mIndex[m_vals >= dist_mGrid[-1]] = len(dist_mGrid)-1 # if value if greater than largest value on dist_mGrid assign it an index of the length of the grid minus 1\n",
    "\n",
    "    #the following three lines hold the same intuition as above\n",
    "    pIndex = np.digitize(perm_vals,dist_pGrid) - 1\n",
    "    pIndex[perm_vals <= dist_pGrid[0]] = -1\n",
    "    pIndex[perm_vals >= dist_pGrid[-1]] = len(dist_pGrid)-1\n",
    "\n",
    "    for i in range(len(m_vals)):\n",
    "        if mIndex[i]==-1: # if mval is below smallest gridpoint, then assign it a weight of 1.0 for lower weight. \n",
    "            mlowerIndex = 0\n",
    "            mupperIndex = 0\n",
    "            mlowerWeight = 1.0\n",
    "            mupperWeight = 0.0\n",
    "        elif mIndex[i]==len(dist_mGrid)-1: # if mval is greater than maximum gridpoint, then assign the following weights\n",
    "            mlowerIndex = -1\n",
    "            mupperIndex = -1\n",
    "            mlowerWeight = 1.0\n",
    "            mupperWeight = 0.0\n",
    "        else: # Standard case where mval does not lie past any extremes\n",
    "        #identify which two points on the grid the mval is inbetween\n",
    "            mlowerIndex = mIndex[i] \n",
    "            mupperIndex = mIndex[i]+1\n",
    "        #Assign weight to the indices that bound the m_vals point. Intuitively, an mval perfectly between two points on the mgrid will assign a weight of .5 to the gridpoint above and below\n",
    "            mlowerWeight = (dist_mGrid[mupperIndex]-m_vals[i])/(dist_mGrid[mupperIndex]-dist_mGrid[mlowerIndex]) #Metric to determine weight of gridpoint/index below. Intuitively, mvals that are close to gridpoint/index above are assigned a smaller mlowerweight.\n",
    "            mupperWeight = 1.0 - mlowerWeight # weight of gridpoint/ index above\n",
    "\n",
    "        #Same logic as above except the weights here concern the permanent income grid\n",
    "        if pIndex[i]==-1: \n",
    "            plowerIndex = 0\n",
    "            pupperIndex = 0\n",
    "            plowerWeight = 1.0\n",
    "            pupperWeight = 0.0\n",
    "        elif pIndex[i]==len(dist_pGrid)-1:\n",
    "            plowerIndex = -1\n",
    "            pupperIndex = -1\n",
    "            plowerWeight = 1.0\n",
    "            pupperWeight = 0.0\n",
    "        else:\n",
    "            plowerIndex = pIndex[i]\n",
    "            pupperIndex = pIndex[i]+1\n",
    "            plowerWeight = (dist_pGrid[pupperIndex]-perm_vals[i])/(dist_pGrid[pupperIndex]-dist_pGrid[plowerIndex])\n",
    "            pupperWeight = 1.0 - plowerWeight\n",
    "\n",
    "        # Compute probabilities of each gridpoint on the combined market resources and permanent income grid by looping through each point on the combined market resources and permanent income grid, \n",
    "        # assigning probabilities to each gridpoint based off the probabilities of the surrounding mvals and pvals and their respective weights placed on the gridpoint.\n",
    "        # Note* probs[i] is the probability of mval AND pval occurring\n",
    "        probGrid[mlowerIndex][plowerIndex] = probGrid[mlowerIndex][plowerIndex] + probs[i]*mlowerWeight*plowerWeight # probability of gridpoint below mval and pval \n",
    "        probGrid[mlowerIndex][pupperIndex] = probGrid[mlowerIndex][pupperIndex] + probs[i]*mlowerWeight*pupperWeight # probability of gridpoint below mval and above pval\n",
    "        probGrid[mupperIndex][plowerIndex] = probGrid[mupperIndex][plowerIndex] + probs[i]*mupperWeight*plowerWeight # probability of gridpoint above mval and below pval\n",
    "        probGrid[mupperIndex][pupperIndex] = probGrid[mupperIndex][pupperIndex] + probs[i]*mupperWeight*pupperWeight # probability of gridpoint above mval and above pval\n",
    "\n",
    "    return probGrid.flatten()\n",
    "\n",
    "@njit\n",
    "def jump_to_grid_fast(model, \n",
    "                      vals, \n",
    "                      probs,\n",
    "                      Grid ):\n",
    "    '''\n",
    "    Distributes values onto a predefined grid, maintaining the means.\n",
    "    ''' \n",
    "\n",
    "    probGrid = np.zeros(len(Grid))\n",
    "    mIndex = np.digitize(vals,Grid) - 1\n",
    "    # return the indices of the bins to which each value in input array belongs.\n",
    "    mIndex[vals <= Grid[0]] = -1\n",
    "    mIndex[vals >= Grid[-1]] = len(Grid)-1\n",
    "\n",
    "\n",
    "    for i in range(len(vals)):\n",
    "        if mIndex[i]==-1:\n",
    "            mlowerIndex = 0\n",
    "            mupperIndex = 0\n",
    "            mlowerWeight = 1.0\n",
    "            mupperWeight = 0.0\n",
    "        elif mIndex[i]==len(Grid)-1:\n",
    "            mlowerIndex = -1\n",
    "            mupperIndex = -1\n",
    "            mlowerWeight = 1.0\n",
    "            mupperWeight = 0.0\n",
    "        else:\n",
    "            mlowerIndex = mIndex[i]\n",
    "            mupperIndex = mIndex[i]+1\n",
    "            mlowerWeight = (Grid[mupperIndex]-vals[i])/(Grid[mupperIndex] - Grid[mlowerIndex])\n",
    "            mupperWeight = 1.0 - mlowerWeight\n",
    "\n",
    "        probGrid[mlowerIndex] = probGrid[mlowerIndex] + probs[i]*mlowerWeight\n",
    "        probGrid[mupperIndex] = probGrid[mupperIndex] + probs[i]*mupperWeight\n",
    "\n",
    "    return probGrid.flatten()"
   ]
  },
  {
   "cell_type": "code",
   "execution_count": 16,
   "metadata": {
    "code_folding": [
     0
    ]
   },
   "outputs": [],
   "source": [
    "## testing define distribution grid \n",
    "\n",
    "n_m = 40\n",
    "n_p = 50\n",
    "\n",
    "m_dist_grid_list,p_dist_grid_list = define_distribution_grid(lc_mkv,\n",
    "                                                             num_pointsM = n_m,\n",
    "                                                             num_pointsP = n_p)\n",
    "fix_epsGrid  = 0.0   ## Without ma shock, consumption does not depend on transitory shock                                           "
   ]
  },
  {
   "cell_type": "code",
   "execution_count": 17,
   "metadata": {
    "code_folding": []
   },
   "outputs": [
    {
     "name": "stdout",
     "output_type": "stream",
     "text": [
      "markov state transition matrix: \n",
      " [[0.7 0.3]\n",
      " [0.1 0.9]]\n",
      "steady state of markov state:\n",
      " [0.25 0.75]\n"
     ]
    }
   ],
   "source": [
    "## Markov transition matrix \n",
    "\n",
    "print(\"markov state transition matrix: \\n\",lc_mkv.P)\n",
    "\n",
    "ss_dstn = cal_ss_2markov(lc_mkv.P)\n",
    "\n",
    "print('steady state of markov state:\\n',ss_dstn)"
   ]
  },
  {
   "cell_type": "code",
   "execution_count": 18,
   "metadata": {
    "code_folding": [
     3
    ]
   },
   "outputs": [],
   "source": [
    "## compute the list of transition matrix from age t to t+1 for all age \n",
    "\n",
    "@njit\n",
    "def calc_transition_matrix(model, \n",
    "                           as_star, ## new,  life cycle age x asset x tran shock x z state grid \n",
    "                           σs_star, ## new, life cycle consumptiona t age  x asset x tran shock x z state grid \n",
    "                           dist_mGrid_list, ## new, list, grid of m for distribution \n",
    "                           dist_pGrid_list,  ## new, list, grid of p for distribution \n",
    "                           finite_horizon = True, ## new \n",
    "                           fast = True   ## new \n",
    "                          ):\n",
    "        '''\n",
    "        Calculates how the distribution of agents across market resources \n",
    "        transitions from one period to the next. \n",
    "        If finite horizon problem, then calculates\n",
    "        a list of transition matrices, consumption and asset policy grids for each period of the problem. \n",
    "        \n",
    "        \n",
    "        Parameters\n",
    "        ----------\n",
    "            # as_star: array, sized of T x n_a x n_eps x n_z, asset grid \n",
    "            # σs_star: array, sized of T x n_a x n_eps x n_z, consumption values at the grid\n",
    "            # dist_mGrid_list, list, sized of 1, list of m grid sized of n_m\n",
    "            # dist_pGrid_list, list, sized of T, list of permanent income grid for each age, sized of n_p\n",
    "            # finite_horizon, bool, True if life cycle is used \n",
    "            # fast, bool, fast or slow method \n",
    "\n",
    "        Returns\n",
    "        -------\n",
    "            # tran_matrix_list, numba typed list, embedded list, sized of n_z,\n",
    "            ## each of which is sized of T, each of which is sized of n_m x n_p \n",
    "        \n",
    "        ''' \n",
    "        \n",
    "        ## nb of states \n",
    "        state_num = len(model.P)\n",
    "        \n",
    "        ## unemployment insurance \n",
    "        unemp_insurance = model.unemp_insurance\n",
    "        \n",
    "        ## tax rate\n",
    "        λ = model.λ\n",
    "        \n",
    "        ## grid holders\n",
    "        cPol_Grid_e_list = [] # List of consumption policy grids for each period in T_cycle\n",
    "        cPol_Grid_u_list = [] # List of consumption policy grids for each period in T_cycle\n",
    "\n",
    "        aPol_Grid_e_list = [] # List of asset policy grids for each period in T_cycle\n",
    "        aPol_Grid_u_list = [] # List of asset policy grids for each period in T_cycle\n",
    "        \n",
    "        \n",
    "\n",
    "        tran_matrix_e_list = [] # List of transition matrices\n",
    "        tran_matrix_u_list = [] # List of transition matrices\n",
    "\n",
    "        for k in range(model.L): ## loop over agents at different ages \n",
    "            \n",
    "            year_left = model.L-(k+1)\n",
    "            \n",
    "            \n",
    "            markov_array2 = model.P\n",
    "\n",
    "            if finite_horizon==True:\n",
    "                this_dist_pGrid = dist_pGrid_list[k] #Permanent income grid this period\n",
    "            else:\n",
    "                this_dist_pGrid = dist_pGrid_list[0] #If here then use prespecified permanent income grid\n",
    "            \n",
    "            ## m-grid does not depend on period \n",
    "            \n",
    "            this_dist_mGrid = dist_mGrid_list[0]\n",
    "        \n",
    "            \n",
    "            ## compute different c at different a and eps\n",
    "            \n",
    "            n_mgrid = len(this_dist_mGrid)\n",
    "            \n",
    "            Cnow_u= np.empty(n_mgrid,dtype = np.float64)\n",
    "            Cnow_e = np.empty(n_mgrid,dtype = np.float64)\n",
    "\n",
    "            fix_epsGrid = 1.0\n",
    "            \n",
    "            for m_id,m in enumerate(this_dist_mGrid):\n",
    "                this_Cnow_u = mlinterp((as_star[year_left,:,0,0],   \n",
    "                                        model.eps_grid),\n",
    "                                       σs_star[year_left,:,:,0],\n",
    "                                       (m,fix_epsGrid))\n",
    "                Cnow_u[m_id] = this_Cnow_u\n",
    "                \n",
    "                #Cnow_u_list.append(this_Cnow_u)\n",
    "                this_Cnow_e = mlinterp((as_star[year_left,:,0,1],\n",
    "                                        model.eps_grid),\n",
    "                                       σs_star[year_left,:,:,1],\n",
    "                                       (m,fix_epsGrid))\n",
    "                Cnow_e[m_id] = this_Cnow_e\n",
    "                #Cnow_e_list.append(this_Cnow_e)\n",
    "                \n",
    "            \n",
    "            ## more generally, depending on the nb of markov states \n",
    "            \n",
    "            #Cnow_e = self.solution[k].cFunc[0](dist_mGrid)  #Consumption policy grid in period k\n",
    "            #Cnow_u = self.solution[k].cFunc[1](dist_mGrid) \n",
    "\n",
    "\n",
    "            cPol_Grid_u_list.append(Cnow_u)  # List of consumption policy grids for each age\n",
    "            cPol_Grid_e_list.append(Cnow_e)  # List of consumption policy grids for each age\n",
    "\n",
    "            aNext_u = this_dist_mGrid - Cnow_u # Asset policy grid in each age\n",
    "            aNext_e = this_dist_mGrid - Cnow_e # Asset policy grid in each age\n",
    "            \n",
    "            aPol_Grid_u_list.append(aNext_u) # Add to list\n",
    "            aPol_Grid_e_list.append(aNext_e) # Add to list\n",
    "\n",
    "\n",
    "            #if finite_horizon==True:\n",
    "            #    bNext_u = model.R[k][0]*aNext_u # we chose the index zero because it both agents face the same interest rate\n",
    "            #    bNext_e = model.R[k][0]*aNext_e\n",
    "            #else:\n",
    "            bNext_u = model.R*aNext_u\n",
    "            bNext_e = model.R*aNext_e\n",
    "\n",
    "\n",
    "            #Obtain shocks and shock probabilities from income distribution this period\n",
    "            size_shk_probs  = model.shock_draw_size**2\n",
    "            shk_prbs = np.ones(size_shk_probs)*1/size_shk_probs\n",
    "            tran_shks = np.exp(np.repeat(model.eps_shk_draws,\n",
    "                                  model.shock_draw_size))\n",
    "            perm_shks = np.exp(np.repeat(model.n_shk_draws,\n",
    "                                  model.shock_draw_size))\n",
    "            \n",
    "            ## This is for the fast method \n",
    "            shk_prbs_ntrl =  np.multiply(shk_prbs,perm_shks)\n",
    "            ## not used yet \n",
    "                        \n",
    "            #shk_prbs = shk_dstn[k][0].pmf  #Probability of shocks this period , \n",
    "            ## I choose the index zero, because we really only use the employe dshock distribution, the unemployed is already implemented automatically\n",
    "            #tran_shks = shk_dstn[k][0].X[1] #Transitory shocks this period\n",
    "            #perm_shks = shk_dstn[k][0].X[0] #Permanent shocks this period\n",
    "            #LivPrb = self.LivPrb[k][0] # Update probability of staying alive this period\n",
    "\n",
    "            \n",
    "            if fast==True:  \n",
    "\n",
    "            \n",
    "                # Generate Transition Matrix for u2u\n",
    "                TranMatrix_uu = np.zeros((len(this_dist_mGrid),\n",
    "                                          len(this_dist_mGrid))) \n",
    "                for i in range(len(this_dist_mGrid)):\n",
    "                    if k <=model.T-1:\n",
    "                        ## work age \n",
    "                        mNext_ij = bNext_u[i]/perm_shks +model.transfer/perm_shks+(1-λ)*unemp_insurance \n",
    "                    else:\n",
    "                        ## retirement \n",
    "                        mNext_ij = bNext_u[i]/perm_shks +model.transfer/perm_shks+model.pension/perm_shks\n",
    "                    # Compute next period's market resources given todays bank balances bnext[i]\n",
    "                    TranMatrix_uu[:,i] = jump_to_grid_fast(model,\n",
    "                                                           mNext_ij,\n",
    "                                                           shk_prbs,\n",
    "                                                           this_dist_mGrid) \n",
    "\n",
    "                # Generate Transition Matrix for u2e\n",
    "                TranMatrix_ue = np.zeros((len(this_dist_mGrid),\n",
    "                                          len(this_dist_mGrid))) \n",
    "                for i in range(len(this_dist_mGrid)):\n",
    "                    if k <=model.T-1:\n",
    "                        ## work age \n",
    "                        mNext_ij = bNext_u[i]/perm_shks +model.transfer/perm_shks+ (1-λ)*tran_shks  \n",
    "                    else:\n",
    "                        ## retirement \n",
    "                        mNext_ij = bNext_u[i]/perm_shks +model.transfer/perm_shks+model.pension/perm_shks\n",
    "                    # Compute next period's market resources given todays bank balances bnext[i]\n",
    "                    TranMatrix_ue[:,i] = jump_to_grid_fast(model,\n",
    "                                                            mNext_ij,\n",
    "                                                            shk_prbs,\n",
    "                                                            this_dist_mGrid) \n",
    "                \n",
    "\n",
    "                # Generate Transition Matrix for e2e \n",
    "                TranMatrix_ee = np.zeros((len(this_dist_mGrid),\n",
    "                                          len(this_dist_mGrid))) \n",
    "                for i in range(len(this_dist_mGrid)):\n",
    "                    if k <=model.T-1:\n",
    "                        ## work age \n",
    "                        mNext_ij = bNext_e[i]/perm_shks +model.transfer/perm_shks+ (1-λ)*tran_shks # Compute next period's market resources given todays bank balances bnext[i]\n",
    "                    else:\n",
    "                        ## retirement \n",
    "                        mNext_ij = bNext_e[i]/perm_shks +model.transfer/perm_shks+model.pension/perm_shks\n",
    "                    TranMatrix_ee[:,i] = jump_to_grid_fast(model,\n",
    "                                                          mNext_ij,\n",
    "                                                          shk_prbs,\n",
    "                                                          this_dist_mGrid)\n",
    "\n",
    "                # Generate Transition Matrix for e2u \n",
    "                TranMatrix_eu = np.zeros((len(this_dist_mGrid),\n",
    "                                          len(this_dist_mGrid))) \n",
    "                for i in range(len(this_dist_mGrid)):\n",
    "                    if k <=model.T-1:\n",
    "                        ## work age \n",
    "                        mNext_ij = bNext_e[i]/perm_shks +model.transfer/perm_shks+ (1-λ)*unemp_insurance # Compute next period's market resources given todays bank balances bnext[i]\n",
    "                    else:\n",
    "                        mNext_ij = bNext_e[i]/perm_shks +model.transfer/perm_shks+ model.pension/perm_shks\n",
    "                    TranMatrix_eu[:,i] = jump_to_grid_fast(model,\n",
    "                                                            mNext_ij, \n",
    "                                                            shk_prbs,\n",
    "                                                            this_dist_mGrid) \n",
    "\n",
    "\n",
    "            else:  ## slow method  (Markov implemented as well)\n",
    "\n",
    "\n",
    "                # Generate Transition Matrix for u2u \n",
    "                TranMatrix_uu = np.zeros((len(this_dist_mGrid)*len(this_dist_pGrid),\n",
    "                                       len(this_dist_mGrid)*len(this_dist_pGrid))) \n",
    "                \n",
    "                for i in range(len(this_dist_mGrid)):\n",
    "                    for j in range(len(this_dist_pGrid)):\n",
    "                        pNext_ij = this_dist_pGrid[j]*perm_shks # Computes next period's permanent income level by applying permanent income shock\n",
    "                        if k <=model.T-1:\n",
    "                            ## work age \n",
    "                            mNext_ij = bNext_u[i]/perm_shks +model.transfer/perm_shks+ (1-λ)*unemp_insurance # Compute next period's market resources given todays bank balances bnext[i]\n",
    "                        else:\n",
    "                            mNext_ij = bNext_u[i]/perm_shks +model.transfer/perm_shks+ model.pension/perm_shks\n",
    "\n",
    "                        TranMatrix_uu[:,i*len(this_dist_pGrid)+j] = jump_to_grid(model,\n",
    "                                                                                 mNext_ij,\n",
    "                                                                                 pNext_ij,\n",
    "                                                                                 shk_prbs,\n",
    "                                                                                 this_dist_mGrid, \n",
    "                                                                                this_dist_pGrid) \n",
    "                #TranMatrix = TranMatrix #columns represent the current state while rows represent the next state\n",
    "                #the 4th row , 6th column entry represents the probability of transitioning from the 6th element of the combined perm and m grid (grid of market resources multiplied by grid of perm income) to the 4th element of the combined perm and m grid\n",
    "                #tran_matrix_list.append(TranMatrix_uu)   \n",
    "                \n",
    "    \n",
    "                # Generate Transition Matrix for u2e \n",
    "                TranMatrix_ue = np.zeros((len(this_dist_mGrid)*len(this_dist_pGrid),\n",
    "                                       len(this_dist_mGrid)*len(this_dist_pGrid))) \n",
    "                \n",
    "                for i in range(len(this_dist_mGrid)):\n",
    "                    for j in range(len(this_dist_pGrid)):\n",
    "                        pNext_ij = this_dist_pGrid[j]*perm_shks # Computes next period's permanent income level by applying permanent income shock\n",
    "                        if k <=model.T-1:\n",
    "                            ## work age \n",
    "                            mNext_ij = bNext_u[i]/perm_shks +model.transfer/perm_shks+ (1-λ)*tran_shks # Compute next period's market resources given todays bank balances bnext[i]\n",
    "                        else:\n",
    "                            mNext_ij = bNext_u[i]/perm_shks +model.transfer/perm_shks+ model.pension/perm_shks\n",
    "                        TranMatrix_ue[:,i*len(this_dist_pGrid)+j] = jump_to_grid(model,\n",
    "                                                                               mNext_ij, \n",
    "                                                                               pNext_ij, \n",
    "                                                                               shk_prbs, \n",
    "                                                                               this_dist_mGrid, \n",
    "                                                                               this_dist_pGrid) \n",
    "                        \n",
    "                # Generate Transition Matrix for e2u \n",
    "                TranMatrix_eu = np.zeros((len(this_dist_mGrid)*len(this_dist_pGrid),\n",
    "                                       len(this_dist_mGrid)*len(this_dist_pGrid))) \n",
    "                \n",
    "                for i in range(len(this_dist_mGrid)):\n",
    "                    for j in range(len(this_dist_pGrid)):\n",
    "                        pNext_ij = this_dist_pGrid[j]*perm_shks # Computes next period's permanent income level by applying permanent income shock\n",
    "\n",
    "                        if k <=model.T-1:\n",
    "                            ## work age \n",
    "                            mNext_ij = bNext_e[i]/perm_shks +model.transfer/perm_shks+ (1-λ)*unemp_insurance # Compute next period's market resources given todays bank balances bnext[i]\n",
    "                        else:\n",
    "                            mNext_ij = bNext_e[i]/perm_shks +model.transfer/perm_shks+ model.pension/perm_shks\n",
    "                        TranMatrix_eu[:,i*len(this_dist_pGrid)+j] = jump_to_grid(model,\n",
    "                                                                                   mNext_ij, \n",
    "                                                                                   pNext_ij, \n",
    "                                                                                   shk_prbs, \n",
    "                                                                                   this_dist_mGrid, \n",
    "                                                                                   this_dist_pGrid) \n",
    "                        \n",
    "                # Generate Transition Matrix for e2e \n",
    "                TranMatrix_ee = np.zeros((len(this_dist_mGrid)*len(this_dist_pGrid),\n",
    "                                       len(this_dist_mGrid)*len(this_dist_pGrid))) \n",
    "                \n",
    "                for i in range(len(this_dist_mGrid)):\n",
    "                    for j in range(len(this_dist_pGrid)):\n",
    "                        pNext_ij = this_dist_pGrid[j]*perm_shks # Computes next period's permanent income level by applying permanent income shock\n",
    "                        if k <=model.T-1:\n",
    "                            mNext_ij = bNext_e[i]/perm_shks +model.transfer/perm_shks+(1-λ)*tran_shks # Compute next period's market resources given todays bank balances bnext[i]\n",
    "                        else:\n",
    "                            mNext_ij = bNext_e[i]/perm_shks +model.transfer/perm_shks+model.pension/perm_shks\n",
    "                        TranMatrix_ee[:,i*len(this_dist_pGrid)+j] = jump_to_grid(model,\n",
    "                                                                               mNext_ij, \n",
    "                                                                               pNext_ij, \n",
    "                                                                               shk_prbs, \n",
    "                                                                               this_dist_mGrid, \n",
    "                                                                               this_dist_pGrid) \n",
    "\n",
    "                        \n",
    "        ###################################################\n",
    "        ## back from the fork between slow and fast method \n",
    "        ##################################################\n",
    "        ## transition matrix for each markov state \n",
    "            tran_matrix_u = markov_array2[0,1] * TranMatrix_ue  + markov_array2[0,0]* TranMatrix_uu #This is the transition for someone who's state today is unemployed\n",
    "            tran_matrix_e = markov_array2[1,1]*TranMatrix_ee  +  markov_array2[1,0] * TranMatrix_eu # This is the transition for someone who's state is employed today\n",
    "\n",
    "                \n",
    "            ## merge to the life cycle list \n",
    "            tran_matrix_u_list.append( tran_matrix_u ) #This is the transition for someone who's state today is unemployed\n",
    "            tran_matrix_e_list.append( tran_matrix_e )\n",
    "            \n",
    "            \n",
    "            # fraction of people who are in different markov states \n",
    "            #prb_emp = dstn_0[0] \n",
    "            #prb_unemp = 1 - prb_emp \n",
    "\n",
    "            #prb_emp_list.append(prb_emp)\n",
    "            #prb_unemp_list.append(prb_unemp)\n",
    "                            \n",
    "            #tran_matrix_combined =  prb_unemp * tran_matrix_u + prb_emp * tran_matrix_e # This is the transition matrix for the whole economy\n",
    "            #tran_matrix_list.append(tran_matrix_combined)\n",
    "                \n",
    "            ## move markov state to the next period\n",
    "            #dstn_0 = np.dot(dstn_0,markov_array2)\n",
    "                \n",
    "        tran_matrix_list = List([tran_matrix_u_list,\n",
    "                                 tran_matrix_e_list])\n",
    "        \n",
    "        ## return aggregate transition matrix and \n",
    "        ###.   the age/state dependent transition matricies necessary for computing aggregate consumption \n",
    "        \n",
    "        \n",
    "        ## consumption policy and saving grid on each m, p, z and k grid \n",
    "        cPol_Grid_list = List([cPol_Grid_u_list,\n",
    "                               cPol_Grid_e_list])  # List of consumption policy grids for each period in T_cycle\n",
    "        aPol_Grid_list = List([aPol_Grid_u_list,\n",
    "                               aPol_Grid_e_list]) ## list of consumption \n",
    "        \n",
    "        \n",
    "        return tran_matrix_list, cPol_Grid_list,aPol_Grid_list"
   ]
  },
  {
   "cell_type": "code",
   "execution_count": 19,
   "metadata": {
    "code_folding": [
     1,
     24
    ]
   },
   "outputs": [],
   "source": [
    "@njit\n",
    "def initial_distribution_u(model,\n",
    "                         dist_mGrid, ## new, array, grid of m for distribution \n",
    "                         dist_pGrid,  ## new, array, grid of p for distribution \n",
    "                        ):\n",
    "    size_shk_probs  = model.shock_draw_size**2\n",
    "    λ = model.λ\n",
    "    init_b = model.init_b\n",
    "    shk_prbs = np.ones(size_shk_probs)*1/size_shk_probs\n",
    "    ue_insurance = np.repeat(np.ones_like(model.eps_shk_draws),\n",
    "                          model.shock_draw_size)*model.unemp_insurance  \n",
    "    init_p_draws = np.exp(np.repeat(model.init_p_draws,\n",
    "                          model.shock_draw_size))\n",
    "    \n",
    "    ## this function starts with a state-specific initial distribution over m and p as a vector sized of (n_m x n_p) \n",
    "    NewBornDist = jump_to_grid(model,\n",
    "                               np.ones_like(init_p_draws)*((1-λ)*ue_insurance+init_b/init_p_draws+model.transfer), ## initial unemployment insurance and accidental bequest transfer\n",
    "                               init_p_draws,\n",
    "                               shk_prbs,\n",
    "                               dist_mGrid,\n",
    "                               dist_pGrid)\n",
    "    return NewBornDist\n",
    "\n",
    "@njit\n",
    "def initial_distribution_e(model,\n",
    "                         dist_mGrid, ## new, array, grid of m for distribution \n",
    "                         dist_pGrid,  ## new, array, grid of p for distribution \n",
    "                        ):\n",
    "    size_shk_probs  = model.shock_draw_size**2\n",
    "    λ = model.λ\n",
    "    λ_SS = model.λ_SS\n",
    "    init_b = model.init_b\n",
    "    shk_prbs = np.ones(size_shk_probs)*1/size_shk_probs\n",
    "    tran_shks = np.exp(np.repeat(model.eps_shk_draws,\n",
    "                          model.shock_draw_size))\n",
    "    init_p_draws = np.exp(np.repeat(model.init_p_draws,\n",
    "                          model.shock_draw_size))\n",
    "    ## this function starts with a state-specific initial distribution over m and p as a vector sized of (n_m x n_p) \n",
    "    NewBornDist = jump_to_grid(model,\n",
    "                              (1-λ)*(1-λ_SS)*tran_shks+init_b/init_p_draws+model.transfer, ## initial transitory risks and accidental bequest transfer\n",
    "                               init_p_draws,\n",
    "                               shk_prbs,\n",
    "                               dist_mGrid,\n",
    "                               dist_pGrid)\n",
    "    return NewBornDist"
   ]
  },
  {
   "cell_type": "code",
   "execution_count": 20,
   "metadata": {
    "code_folding": [
     1,
     5
    ]
   },
   "outputs": [],
   "source": [
    "## plot the initial distribution in the first period of life \n",
    "initial_dist_u = initial_distribution_u(lc_mkv,\n",
    "                                      m_dist_grid_list[0],\n",
    "                                      p_dist_grid_list[0])\n",
    "\n",
    "initial_dist_e = initial_distribution_e(lc_mkv,\n",
    "                                      m_dist_grid_list[0],\n",
    "                                      p_dist_grid_list[0])"
   ]
  },
  {
   "cell_type": "code",
   "execution_count": 21,
   "metadata": {
    "code_folding": [
     0
    ]
   },
   "outputs": [
    {
     "data": {
      "text/plain": [
       "Text(0, 0.5, 'm')"
      ]
     },
     "execution_count": 21,
     "metadata": {},
     "output_type": "execute_result"
    },
    {
     "data": {
      "image/png": "[encoded data removed]",
      "text/plain": [
       "<Figure size 432x288 with 1 Axes>"
      ]
     },
     "metadata": {
      "needs_background": "light"
     },
     "output_type": "display_data"
    }
   ],
   "source": [
    "## plot the initial distribution in the first period of life \n",
    "\n",
    "plt.title('Initial distributions over m and p given u')\n",
    "plt.spy(initial_dist_u.reshape(n_m,-1),\n",
    "       markersize = 2)\n",
    "plt.xlabel('p')\n",
    "plt.ylabel('m')"
   ]
  },
  {
   "cell_type": "code",
   "execution_count": 22,
   "metadata": {
    "code_folding": [
     0
    ]
   },
   "outputs": [
    {
     "data": {
      "text/plain": [
       "Text(0, 0.5, 'm')"
      ]
     },
     "execution_count": 22,
     "metadata": {},
     "output_type": "execute_result"
    },
    {
     "data": {
      "image/png": "[encoded data removed]",
      "text/plain": [
       "<Figure size 432x288 with 1 Axes>"
      ]
     },
     "metadata": {
      "needs_background": "light"
     },
     "output_type": "display_data"
    }
   ],
   "source": [
    "## plot the initial distribution in the first period of life \n",
    "\n",
    "plt.title('Initial distributions over m and p given e')\n",
    "plt.spy(initial_dist_e.reshape(n_m,-1),\n",
    "       markersize = 2)\n",
    "plt.xlabel('p')\n",
    "plt.ylabel('m')"
   ]
  },
  {
   "cell_type": "code",
   "execution_count": 23,
   "metadata": {
    "code_folding": [
     2,
     17
    ]
   },
   "outputs": [],
   "source": [
    "## These two functions have no use for life cycle models \n",
    "@njit\n",
    "def aggregate_transition_matrix(model,\n",
    "                                tran_matrix_lists,  ## size model.T \n",
    "                                dstn_0,    ## size n.z\n",
    "                                age_dist): ## size model.T \n",
    "    ## aggregate different ages in the population\n",
    "    n1,n2 = tran_matrix_lists[0][0].shape\n",
    "    trans_matrix_agg = np.zeros((n1,n2),\n",
    "                                dtype=np.float64)\n",
    "    for z in range(len(dstn_0)):\n",
    "        for k in range(model.L):\n",
    "            trans_matrix_agg = trans_matrix_agg+dstn_0[z]*age_dist[k]*tran_matrix_lists[z][k] \n",
    "    return trans_matrix_agg\n",
    "\n",
    "## for any transition matrix, compute the ergodic distribution \n",
    "\n",
    "def calc_ergodic_dist(transition_matrix = None):\n",
    "\n",
    "    '''\n",
    "    Calculates the ergodic distribution for the transition_matrix, \n",
    "    here it is the distribution (before being reshaped) over normalized market resources and\n",
    "    permanent income as the eigenvector associated with the eigenvalue 1.\n",
    "    \n",
    "\n",
    "    Parameters\n",
    "    ----------\n",
    "    transition_matrix: array \n",
    "                transition matrix whose ergordic distribution is to be solved\n",
    "\n",
    "    Returns\n",
    "    -------\n",
    "    ergodic_distr: a vector array \n",
    "    The distribution is stored as a vector \n",
    "    ## reshaping it to (n_m, n_p) gives a reshaped array with the ij'th element representing\n",
    "    the probability of being at the i'th point on the mGrid and the j'th\n",
    "    point on the pGrid.\n",
    "    '''\n",
    "\n",
    "    #if transition_matrix == None:\n",
    "    #    #transition_matrix = [self.tran_matrix]\n",
    "    #    print('needs transition_matrix')\n",
    "    \n",
    "    eigen, ergodic_distr = sp.linalg.eigs(transition_matrix , k=1 , which='LM')  # Solve for ergodic distribution\n",
    "    ergodic_distr = ergodic_distr.real/np.sum(ergodic_distr.real)   \n",
    "\n",
    "    #vec_erg_dstn = ergodic_distr #distribution as a vector\n",
    "    #erg_dstn = ergodic_distr.reshape((len(m_dist_grid_list[0]),\n",
    "    #                                  len(p_dist_grid_list[0]))) # distribution reshaped into len(mgrid) by len(pgrid) array\n",
    "    return ergodic_distr "
   ]
  },
  {
   "cell_type": "code",
   "execution_count": 24,
   "metadata": {
    "code_folding": [
     2
    ]
   },
   "outputs": [],
   "source": [
    "## get the stationary age distribution \n",
    "@njit\n",
    "def stationary_age_dist(L,\n",
    "                        n,\n",
    "                       LivPrb):\n",
    "    \"\"\"\n",
    "    stationary age distribution of the economy given \n",
    "    T: nb of periods of life \n",
    "    n: Population growth rate \n",
    "    ProbLiv: survival probability \n",
    "    \"\"\"\n",
    "    cum = 0.0\n",
    "    for i in range(L):\n",
    "        cum = cum + LivPrb**i/(1+n)\n",
    "    sigma1 = 1/cum\n",
    "    \n",
    "    dist = np.empty(L)\n",
    "    \n",
    "    for i in range(L):\n",
    "        dist[i] = sigma1*LivPrb**i/(1+n)\n",
    "    return dist "
   ]
  },
  {
   "cell_type": "code",
   "execution_count": 25,
   "metadata": {
    "code_folding": [
     2
    ]
   },
   "outputs": [],
   "source": [
    "## get the distributions of each age by iterating forward over life cycle \n",
    "\n",
    "def SSDist(model,\n",
    "          as_star,\n",
    "          σs_star,\n",
    "          m_dist_grid_list,\n",
    "          p_dist_grid_list):\n",
    "    \n",
    "    time_start = time()\n",
    "    \n",
    "    \n",
    "    ## get the embedded list sized n_z x T x n_m x n_p\n",
    "\n",
    "    tran_matrix_lists,c_PolGrid_list,a_PolGrid_list = calc_transition_matrix(model,\n",
    "                                                                             as_star, ## \n",
    "                                                                             σs_star,\n",
    "                                                                             m_dist_grid_list,\n",
    "                                                                             p_dist_grid_list,\n",
    "                                                                            fast = False)\n",
    "    \n",
    "    \n",
    "    ## plot the initial distribution in the first period of life \n",
    "    initial_dist_u = initial_distribution_u(model,\n",
    "                                          m_dist_grid_list[0],\n",
    "                                          p_dist_grid_list[0])\n",
    "\n",
    "    initial_dist_e = initial_distribution_e(model,\n",
    "                                            m_dist_grid_list[0],\n",
    "                                            p_dist_grid_list[0])\n",
    "    \n",
    "    ## iterate forward \n",
    "    \n",
    "    n_m = len(m_dist_grid_list[0])\n",
    "    \n",
    "\n",
    "    dist_u_lists = []\n",
    "    dist_e_lists = []\n",
    "    dist_u_lists.append(initial_dist_u)\n",
    "    dist_e_lists.append(initial_dist_e)\n",
    "\n",
    "\n",
    "    mp_pdfs_lists_u_2d = []\n",
    "    mp_pdfs_lists_e_2d = []\n",
    "    mp_pdfs_lists_u_2d.append(initial_dist_u.reshape(n_m,-1))\n",
    "    mp_pdfs_lists_e_2d.append(initial_dist_e.reshape(n_m,-1))\n",
    "\n",
    "    mp_pdfs_lists_u = []\n",
    "    mp_pdfs_lists_e = []\n",
    "    mp_pdfs_lists_u.append(initial_dist_u.reshape(n_m,-1).sum(axis=1))\n",
    "    mp_pdfs_lists_e.append(initial_dist_e.reshape(n_m,-1).sum(axis=1))\n",
    "    \n",
    "\n",
    "    ## policy grid lists \n",
    "    cp_u_PolGrid_list = []\n",
    "    cp_e_PolGrid_list = []\n",
    "    ap_u_PolGrid_list = []\n",
    "    ap_e_PolGrid_list = []\n",
    "\n",
    "\n",
    "    ## m/p distribution in the first period in life (newborns)\n",
    "    this_dist_u = initial_dist_u\n",
    "    this_dist_e = initial_dist_e\n",
    "\n",
    "\n",
    "    ## iterate forward for all periods in life \n",
    "    for k in range(model.L-1):\n",
    "        ## uemp \n",
    "        this_dist_u = np.matmul(tran_matrix_lists[0][k],\n",
    "                                this_dist_u)\n",
    "        dist_u_lists.append(this_dist_u)\n",
    "\n",
    "        this_dist_u_2d = this_dist_u.reshape(n_m,-1)\n",
    "        mp_pdfs_lists_u_2d.append(this_dist_u_2d)\n",
    "\n",
    "        this_dist_u_2d_marginal = this_dist_u_2d.sum(axis=1)\n",
    "        mp_pdfs_lists_u.append(this_dist_u_2d_marginal)\n",
    "\n",
    "        ##emp\n",
    "        this_dist_e = np.matmul(tran_matrix_lists[1][k],\n",
    "                                 this_dist_e)\n",
    "        dist_e_lists.append(this_dist_e)\n",
    "        this_dist_e_2d = this_dist_e.reshape(n_m,-1)\n",
    "        mp_pdfs_lists_e_2d.append(this_dist_e_2d)\n",
    "\n",
    "        this_dist_e_2d_marginal = this_dist_e_2d.sum(axis=1)\n",
    "        mp_pdfs_lists_e.append(this_dist_e_2d_marginal)\n",
    "    \n",
    "    for k in range(model.L):\n",
    "           \n",
    "        ## c and a for u \n",
    "        cp_PolGrid = np.multiply.outer(c_PolGrid_list[0][k],\n",
    "                                       p_dist_grid_list[k])\n",
    "        cp_u_PolGrid_list.append(cp_PolGrid)\n",
    "\n",
    "        ap_PolGrid = np.multiply.outer(a_PolGrid_list[0][k],\n",
    "                                       p_dist_grid_list[k])\n",
    "        ap_u_PolGrid_list.append(ap_PolGrid)\n",
    "\n",
    "        ## c and a for e \n",
    "        cp_PolGrid = np.multiply.outer(c_PolGrid_list[1][k],\n",
    "                                       p_dist_grid_list[k])\n",
    "        cp_e_PolGrid_list.append(cp_PolGrid)\n",
    "\n",
    "\n",
    "        ap_PolGrid = np.multiply.outer(a_PolGrid_list[1][k],\n",
    "                                       p_dist_grid_list[k])\n",
    "        ap_e_PolGrid_list.append(ap_PolGrid)\n",
    "\n",
    "    ## stack the distribution lists \n",
    "    dist_lists = [dist_u_lists,\n",
    "                 dist_e_lists]\n",
    "\n",
    "    ##  joint pdfs over m and p\n",
    "    mp_pdfs_2d_lists = [mp_pdfs_lists_u_2d,\n",
    "                       mp_pdfs_lists_e_2d]\n",
    "\n",
    "    ## marginalized pdfs over m \n",
    "    mp_pdfs_lists = [mp_pdfs_lists_u,\n",
    "                     mp_pdfs_lists_e]  ## size of n_z x model.T\n",
    "\n",
    "\n",
    "    ## c policy grid \n",
    "    cp_PolGrid_list = [cp_u_PolGrid_list,\n",
    "                      cp_e_PolGrid_list]\n",
    "\n",
    "    # a policy grid \n",
    "\n",
    "    ap_PolGrid_list = [ap_u_PolGrid_list,\n",
    "                      ap_e_PolGrid_list]\n",
    "\n",
    "\n",
    "    time_end = time()\n",
    "    print('time taken:'+str(time_end-time_start))\n",
    "    \n",
    "    return tran_matrix_lists,dist_lists,mp_pdfs_2d_lists,mp_pdfs_lists,cp_PolGrid_list,ap_PolGrid_list"
   ]
  },
  {
   "cell_type": "code",
   "execution_count": 26,
   "metadata": {
    "code_folding": [
     2
    ]
   },
   "outputs": [
    {
     "name": "stdout",
     "output_type": "stream",
     "text": [
      "time taken:81.92713189125061\n"
     ]
    }
   ],
   "source": [
    "## get the transition matrix and policy grid \n",
    "\n",
    "tran_matrix_lists, dist_lists,mp_pdfs_2d_lists,mp_pdfs_lists,cp_PolGrid_list,ap_PolGrid_list = SSDist(lc_mkv,\n",
    "                                                                                                      as_star_mkv,\n",
    "                                                                                                      σs_star_mkv,\n",
    "                                                                                                      m_dist_grid_list,\n",
    "                                                                                                      p_dist_grid_list)"
   ]
  },
  {
   "cell_type": "code",
   "execution_count": 27,
   "metadata": {
    "code_folding": [
     0
    ]
   },
   "outputs": [],
   "source": [
    "## stationary age distribution \n",
    "\n",
    "age_dist = stationary_age_dist(lc_mkv.L,\n",
    "                               n = 0.0,\n",
    "                               LivPrb =lc_mkv.LivPrb)"
   ]
  },
  {
   "cell_type": "code",
   "execution_count": 28,
   "metadata": {
    "code_folding": []
   },
   "outputs": [
    {
     "data": {
      "text/plain": [
       "Text(0, 0.5, 'p x m')"
      ]
     },
     "execution_count": 28,
     "metadata": {},
     "output_type": "execute_result"
    },
    {
     "data": {
      "image/png": "[encoded data removed]",
      "text/plain": [
       "<Figure size 432x288 with 1 Axes>"
      ]
     },
     "metadata": {
      "needs_background": "light"
     },
     "output_type": "display_data"
    }
   ],
   "source": [
    "## examine some of the transitionary matricies \n",
    "age = L\n",
    "plt.title('Transition matrix for age '+str(age-1))\n",
    "plt.spy(tran_matrix_lists[1][age-1],\n",
    "       #precision=0.1, \n",
    "        markersize = 2\n",
    "       )\n",
    "plt.xlabel('p x m')\n",
    "plt.ylabel('p x m')"
   ]
  },
  {
   "cell_type": "code",
   "execution_count": 29,
   "metadata": {
    "code_folding": [
     2
    ]
   },
   "outputs": [],
   "source": [
    "### Aggregate C or A\n",
    "\n",
    "def Aggregate(dist_lists,   ## size of nb markov state, each of which is sized model.T, each of which is sized n_m x n_p\n",
    "              mp_pdfs_lists,  ## list of pdfs of over m and p grids given markov state and age\n",
    "              dstn_0, \n",
    "              age_dist):      ## distribution over ages\n",
    "    X = 0.0\n",
    "    for z in range(len(dstn_0)):\n",
    "        for k in range(len(age_dist)):\n",
    "            x_flat = dist_lists[z][k].flatten()\n",
    "            pdf_flat = mp_pdfs_lists[z][k].flatten()\n",
    "            X+= np.dot(x_flat,pdf_flat)*age_dist[k]*dstn_0[z]\n",
    "    return X"
   ]
  },
  {
   "cell_type": "code",
   "execution_count": 30,
   "metadata": {
    "code_folding": [
     2,
     7
    ]
   },
   "outputs": [],
   "source": [
    "## compute aggregate C \n",
    "\n",
    "C = Aggregate(cp_PolGrid_list,\n",
    "              mp_pdfs_2d_lists,\n",
    "              ss_dstn,\n",
    "              age_dist)\n",
    "\n",
    "A = Aggregate(ap_PolGrid_list,\n",
    "              mp_pdfs_2d_lists,\n",
    "              ss_dstn,\n",
    "              age_dist)\n"
   ]
  },
  {
   "cell_type": "code",
   "execution_count": 31,
   "metadata": {
    "scrolled": true
   },
   "outputs": [
    {
     "name": "stdout",
     "output_type": "stream",
     "text": [
      "aggregate consumption under stationary distribution: 2.0823151214151765\n",
      "aggregate savings under stationary distribution: 1.5856524183992178\n"
     ]
    }
   ],
   "source": [
    "print('aggregate consumption under stationary distribution:', str(C))\n",
    "print('aggregate savings under stationary distribution:', str(A))"
   ]
  },
  {
   "cell_type": "markdown",
   "metadata": {},
   "source": [
    "### Stationary wealth/consumption distribution"
   ]
  },
  {
   "cell_type": "code",
   "execution_count": 32,
   "metadata": {
    "code_folding": [
     2
    ]
   },
   "outputs": [],
   "source": [
    "## get the single vector of distribution \n",
    "\n",
    "def faltten_dist(grid_lists,      ## nb.z x T x nb x nm x np \n",
    "                 mp_pdfs_lists,   ## nb.z x T x nb x nm x np \n",
    "                 dstn,            ## size of nb.z \n",
    "                 age_dist):       ## size of T \n",
    "    mp_pdfs_lists_new = []\n",
    "    for z in range(len(dstn)):\n",
    "        for k in range(len(age_dist)):\n",
    "            this_pdfs_lists = mp_pdfs_lists[z][k]*dstn[z]*age_dist[k]\n",
    "            mp_pdfs_lists_new.append(this_pdfs_lists)\n",
    "            \n",
    "    grid_sort_id = np.array(grid_lists).flatten().argsort()\n",
    "    grid_array = np.array(grid_lists).flatten()[grid_sort_id]\n",
    "    mp_pdfs_array = np.array(mp_pdfs_lists_new).flatten()[grid_sort_id]\n",
    "    \n",
    "    return grid_array, mp_pdfs_array"
   ]
  },
  {
   "cell_type": "code",
   "execution_count": 33,
   "metadata": {
    "code_folding": []
   },
   "outputs": [],
   "source": [
    "## flatten the distribution of a and its corresponding pdfs \n",
    "\n",
    "\n",
    "ap_grid_dist, ap_pdfs_dist = faltten_dist(ap_PolGrid_list,\n",
    "                                        mp_pdfs_2d_lists,\n",
    "                                        ss_dstn,\n",
    "                                        age_dist)\n",
    "\n",
    "\n",
    "cp_grid_dist, cp_pdfs_dist = faltten_dist(cp_PolGrid_list,\n",
    "                                        mp_pdfs_2d_lists,\n",
    "                                        ss_dstn,\n",
    "                                        age_dist)"
   ]
  },
  {
   "cell_type": "code",
   "execution_count": 34,
   "metadata": {
    "code_folding": [
     1
    ]
   },
   "outputs": [],
   "source": [
    "## lorenz curve\n",
    "def lorenz_curve(grid_distribution,\n",
    "                 pdfs,\n",
    "                 nb_share_grid = 50):\n",
    "    \"\"\"\n",
    "    parameters\n",
    "    ======\n",
    "    grid_distribution: grid on which distribution is defined\n",
    "    pdfs: the fractions/pdfs of each grid ranges \n",
    "    \n",
    "    return\n",
    "    ======\n",
    "    lc_vals: the fraction of people corresponding whose total wealth reaches the corresponding share, x axis in lorenz curve\n",
    "    share_grids: different grid points of the share of total wealth, y axis in lorenz curve\n",
    "    \"\"\"\n",
    "    total = np.dot(grid_distribution,pdfs)\n",
    "    share_grids = np.linspace(0.0,0.99,nb_share_grid)\n",
    "    share_cum = np.multiply(grid_distribution,pdfs).cumsum()/total\n",
    "    lc_vals = []\n",
    "    for i,share in enumerate(share_grids):\n",
    "        where = min([x for x in range(len(share_cum)) if share_cum[x]>=share])\n",
    "        this_lc_val = pdfs[0:where].sum()\n",
    "        lc_vals.append(this_lc_val)\n",
    "    return np.array(lc_vals),share_grids"
   ]
  },
  {
   "cell_type": "code",
   "execution_count": 35,
   "metadata": {
    "code_folding": [
     2
    ]
   },
   "outputs": [],
   "source": [
    "## compute things needed for lorenz curve plot of asset accumulation \n",
    "\n",
    "share_agents_cp, share_cp = lorenz_curve(cp_grid_dist,\n",
    "                                     cp_pdfs_dist,\n",
    "                                     nb_share_grid = 100)\n",
    "\n",
    "## compute things needed for lorenz curve plot of asset accumulation \n",
    "\n",
    "share_agents_ap, share_ap = lorenz_curve(ap_grid_dist,\n",
    "                                     ap_pdfs_dist,\n",
    "                                     nb_share_grid = 100)"
   ]
  },
  {
   "cell_type": "code",
   "execution_count": 36,
   "metadata": {
    "code_folding": []
   },
   "outputs": [
    {
     "data": {
      "text/plain": [
       "(0.0, 1.0)"
      ]
     },
     "execution_count": 36,
     "metadata": {},
     "output_type": "execute_result"
    },
    {
     "data": {
      "image/png": "[encoded data removed]",
      "text/plain": [
       "<Figure size 360x360 with 1 Axes>"
      ]
     },
     "metadata": {
      "needs_background": "light"
     },
     "output_type": "display_data"
    },
    {
     "data": {
      "image/png": "[encoded data removed]",
      "text/plain": [
       "<Figure size 360x360 with 1 Axes>"
      ]
     },
     "metadata": {
      "needs_background": "light"
     },
     "output_type": "display_data"
    }
   ],
   "source": [
    "## Lorenz curve of steady state wealth distribution\n",
    "\n",
    "fig, ax = plt.subplots(figsize=(5,5))\n",
    "ax.plot(share_agents_cp,share_cp, 'r--',label='Lorenz curve of level of consumption')\n",
    "ax.plot(share_agents_cp,share_agents_cp, 'k-',label='equality curve')\n",
    "ax.legend()\n",
    "plt.xlim([0,1])\n",
    "plt.ylim([0,1])\n",
    "\n",
    "\n",
    "## Lorenz curve of steady state wealth distribution\n",
    "\n",
    "fig, ax = plt.subplots(figsize=(5,5))\n",
    "ax.plot(share_agents_ap,share_ap, 'r--',label='Lorenz curve of level of savings')\n",
    "ax.plot(share_agents_ap,share_agents_ap, 'k-',label='equality curve')\n",
    "ax.legend()\n",
    "plt.xlim([0,1])\n",
    "plt.ylim([0,1])"
   ]
  },
  {
   "cell_type": "code",
   "execution_count": 37,
   "metadata": {
    "code_folding": []
   },
   "outputs": [
    {
     "name": "stderr",
     "output_type": "stream",
     "text": [
      "/var/folders/39/ks6jc__9375c2fl7h7pwq5jh0000gn/T/ipykernel_44509/1298611280.py:4: RuntimeWarning: invalid value encountered in log\n",
      "  plt.plot(np.log(ap_grid_dist+0.0000000001),\n"
     ]
    },
    {
     "data": {
      "text/plain": [
       "Text(0, 0.5, '$prob(a)$')"
      ]
     },
     "execution_count": 37,
     "metadata": {},
     "output_type": "execute_result"
    },
    {
     "data": {
      "image/png": "[encoded data removed]",
      "text/plain": [
       "<Figure size 432x288 with 1 Axes>"
      ]
     },
     "metadata": {
      "needs_background": "light"
     },
     "output_type": "display_data"
    }
   ],
   "source": [
    "## Wealth distribution \n",
    "\n",
    "plt.title('Wealth distribution')\n",
    "plt.plot(np.log(ap_grid_dist+0.0000000001), \n",
    "         ap_pdfs_dist)\n",
    "plt.xlabel(r'$a$')\n",
    "plt.ylabel(r'$prob(a)$')"
   ]
  },
  {
   "cell_type": "code",
   "execution_count": 38,
   "metadata": {},
   "outputs": [
    {
     "data": {
      "text/plain": [
       "Text(0, 0.5, '$prob(a)$')"
      ]
     },
     "execution_count": 38,
     "metadata": {},
     "output_type": "execute_result"
    },
    {
     "data": {
      "image/png": "[encoded data removed]",
      "text/plain": [
       "<Figure size 432x288 with 1 Axes>"
      ]
     },
     "metadata": {
      "needs_background": "light"
     },
     "output_type": "display_data"
    }
   ],
   "source": [
    "plt.title('Consumption distribution')\n",
    "plt.plot(np.log(cp_grid_dist), \n",
    "         cp_pdfs_dist)\n",
    "plt.xlabel(r'$c$')\n",
    "plt.ylabel(r'$prob(a)$')"
   ]
  },
  {
   "cell_type": "markdown",
   "metadata": {},
   "source": [
    "### Life-cycle profile and distribution"
   ]
  },
  {
   "cell_type": "code",
   "execution_count": 39,
   "metadata": {
    "code_folding": [
     6
    ],
    "lines_to_next_cell": 2
   },
   "outputs": [],
   "source": [
    "### Aggregate distributions within age\n",
    "\n",
    "C_life = []\n",
    "A_life = []\n",
    "\n",
    "\n",
    "for t in range(L):\n",
    "    age_dist_sparse = np.zeros(L)\n",
    "    age_dist_sparse[t] = 1.0\n",
    "    \n",
    "    ## age specific wealth \n",
    "    C_this_age = Aggregate(cp_PolGrid_list,\n",
    "              mp_pdfs_2d_lists,\n",
    "              ss_dstn,\n",
    "              age_dist_sparse)\n",
    "    \n",
    "    C_life.append(C_this_age)\n",
    "\n",
    "    A_this_age = Aggregate(ap_PolGrid_list,\n",
    "                          mp_pdfs_2d_lists,\n",
    "                          ss_dstn,\n",
    "                          age_dist_sparse)\n",
    "    \n",
    "    A_life.append(A_this_age)"
   ]
  },
  {
   "cell_type": "code",
   "execution_count": 40,
   "metadata": {
    "code_folding": []
   },
   "outputs": [
    {
     "data": {
      "text/plain": [
       "<matplotlib.legend.Legend at 0x7ffc31622dc0>"
      ]
     },
     "execution_count": 40,
     "metadata": {},
     "output_type": "execute_result"
    },
    {
     "data": {
      "image/png": "[encoded data removed]",
      "text/plain": [
       "<Figure size 432x288 with 2 Axes>"
      ]
     },
     "metadata": {
      "needs_background": "light"
     },
     "output_type": "display_data"
    }
   ],
   "source": [
    "## plot life cycle profile\n",
    "\n",
    "fig, ax = plt.subplots()\n",
    "plt.title('Life cycle profile of wealth and consumption')\n",
    "ax.plot(range(L),\n",
    "        A_life,\n",
    "       'r-',\n",
    "       label='wealth')\n",
    "ax.vlines(T,\n",
    "          np.min(A_life),\n",
    "          np.max(A_life),\n",
    "          color='k',\n",
    "          label='retirement')\n",
    "ax2= ax.twinx()\n",
    "ax2.plot(range(L),\n",
    "        C_life,\n",
    "        'b--',\n",
    "        label='consumption (RHS)')\n",
    "\n",
    "ax.set_xlabel('Age since entering job market')\n",
    "ax.set_ylabel('Wealth')\n",
    "ax2.set_ylabel('Consumption')\n",
    "ax.legend(loc=1)\n",
    "ax2.legend(loc=2)"
   ]
  },
  {
   "cell_type": "code",
   "execution_count": 41,
   "metadata": {
    "code_folding": [
     0,
     10
    ]
   },
   "outputs": [],
   "source": [
    "### Distribution over life cycle \n",
    "\n",
    "## Flatten distribution by age\n",
    "\n",
    "ap_grid_dist_life = []\n",
    "ap_pdfs_dist_life = []\n",
    "cp_grid_dist_life = []\n",
    "cp_pdfs_dist_life = []\n",
    "\n",
    "\n",
    "for t in range(L):\n",
    "    \n",
    "    age_dist_sparse = np.zeros(L)\n",
    "    age_dist_sparse[t] = 1.0\n",
    "    \n",
    "    \n",
    "    ap_grid_dist_this_age, ap_pdfs_dist_this_age = faltten_dist(ap_PolGrid_list,\n",
    "                                                                mp_pdfs_2d_lists,\n",
    "                                                                ss_dstn,\n",
    "                                                                age_dist_sparse)\n",
    "    \n",
    "    ap_grid_dist_life.append(ap_grid_dist_this_age)\n",
    "    ap_pdfs_dist_life.append(ap_pdfs_dist_this_age)\n",
    "\n",
    "    cp_grid_dist_this_age, cp_pdfs_dist_this_age = faltten_dist(cp_PolGrid_list,\n",
    "                                                                mp_pdfs_2d_lists,\n",
    "                                                                ss_dstn,\n",
    "                                                                age_dist_sparse)\n",
    "    \n",
    "    cp_grid_dist_life.append(cp_grid_dist_this_age)\n",
    "    cp_pdfs_dist_life.append(cp_pdfs_dist_this_age)"
   ]
  },
  {
   "cell_type": "code",
   "execution_count": 42,
   "metadata": {},
   "outputs": [],
   "source": [
    "## create the dataframe to plot distributions over the life cycle \n",
    "ap_pdfs_life = pd.DataFrame(ap_pdfs_dist_life).T\n",
    "cp_pdfs_life = pd.DataFrame(cp_pdfs_dist_life).T\n",
    "\n",
    "#ap_pdfs_life.index = np.log(ap_grid_dist_life[0]+1e-4)\n",
    "\n",
    "ap_range = list(ap_pdfs_life.index)\n",
    "cp_range = list(cp_pdfs_life.index)"
   ]
  },
  {
   "cell_type": "code",
   "execution_count": 43,
   "metadata": {
    "code_folding": [
     0
    ]
   },
   "outputs": [
    {
     "data": {
      "image/png": "[encoded data removed]",
      "text/plain": [
       "<Figure size 432x720 with 71 Axes>"
      ]
     },
     "metadata": {
      "needs_background": "light"
     },
     "output_type": "display_data"
    }
   ],
   "source": [
    "fig, axes = joypy.joyplot(ap_pdfs_life, \n",
    "                          kind=\"values\", \n",
    "                          x_range=ap_range,\n",
    "                          figsize=(6,10),\n",
    "                          title=\"Wealth distribution over life cycle\",\n",
    "                         colormap=cm.winter)\n",
    "\n",
    "#axes[-1].set_xticks(a_values);"
   ]
  },
  {
   "cell_type": "code",
   "execution_count": 44,
   "metadata": {
    "code_folding": [
     0
    ]
   },
   "outputs": [
    {
     "data": {
      "image/png": "[encoded data removed]",
      "text/plain": [
       "<Figure size 432x720 with 71 Axes>"
      ]
     },
     "metadata": {
      "needs_background": "light"
     },
     "output_type": "display_data"
    }
   ],
   "source": [
    "fig, axes = joypy.joyplot(cp_pdfs_life, \n",
    "                          kind=\"values\", \n",
    "                          x_range=cp_range,\n",
    "                          figsize=(6,10),\n",
    "                          title=\"Consumption distribution over life cycle\",\n",
    "                         colormap=cm.winter)\n",
    "\n",
    "#axes[-1].set_xticks(a_values);"
   ]
  },
  {
   "cell_type": "markdown",
   "metadata": {},
   "source": [
    "### General Equilibrium "
   ]
  },
  {
   "cell_type": "code",
   "execution_count": 8,
   "metadata": {
    "code_folding": [
     0
    ]
   },
   "outputs": [],
   "source": [
    "def unemp_insurance2tax(μ,\n",
    "                        ue_fraction):\n",
    "    \"\"\"\n",
    "    under balanced government budget, what is the tax rate on income corresponds to the ue benefit μ\n",
    "    (1-ue_fraction)x tax + ue_fraction x mu x tax = ue_fraction x mu \n",
    "    --> tax = (ue_fraction x mu)/(1-ue_fraction)+ue_fraction x mu\n",
    "    \"\"\"\n",
    "    num = (ue_fraction*μ)\n",
    "    dem = (1-ue_fraction)+(ue_fraction*μ)\n",
    "    return num/dem"
   ]
  },
  {
   "cell_type": "code",
   "execution_count": 9,
   "metadata": {
    "code_folding": [
     2
    ]
   },
   "outputs": [],
   "source": [
    "## needs to test this function \n",
    "\n",
    "def SS2tax(SS, ## social security /pension replacement ratio \n",
    "           T,  ## retirement years\n",
    "           age_dist,  ## age distribution in the economy \n",
    "           G,         ## permanent growth fractor lists over cycle\n",
    "           emp_fraction):  ## fraction of employment in work age population \n",
    "    pic_share = np.cumprod(G)  ## generational permanent income share \n",
    "    pic_age_share = np.multiply(pic_share,\n",
    "                               age_dist)  ## generational permanent income share weighted by population weights\n",
    "    \n",
    "    dependence_ratio = np.sum(pic_age_share[T:])/np.sum(pic_age_share[:T-1]*emp_fraction)\n",
    "    ## old dependence ratio \n",
    "    \n",
    "    λ_SS = SS*dependence_ratio \n",
    "    ## social security tax rate on labor income of employed \n",
    "    \n",
    "    return λ_SS"
   ]
  },
  {
   "cell_type": "code",
   "execution_count": 10,
   "metadata": {
    "code_folding": []
   },
   "outputs": [],
   "source": [
    "#economy_data = [\n",
    "#    ('Z', float64),            \n",
    "#    ('K', float64),             \n",
    "#    ('L',float64),              \n",
    "#    ('α',float64),           \n",
    "#    ('δ',float64)\n",
    "#]"
   ]
  },
  {
   "cell_type": "code",
   "execution_count": 11,
   "metadata": {
    "code_folding": []
   },
   "outputs": [],
   "source": [
    "#@jitclass(economy_data)\n",
    "class Economy:\n",
    "    ## An economy class that saves market and production parameters \n",
    "    \n",
    "    def __init__(self,\n",
    "             Z = 1.00,     \n",
    "             K = 1.00, \n",
    "             L = 1.00,\n",
    "             α = 0.33, \n",
    "             δ = 0.025,     \n",
    "             ):  \n",
    "        self.Z = Z\n",
    "        self.K = K\n",
    "        self.L = L\n",
    "        self.α = α\n",
    "        self.δ = δ\n",
    "        \n",
    "    def KY(self):\n",
    "        return (self.K/self.Y())\n",
    "    \n",
    "    def Y(self):\n",
    "        return self.Z*self.K**self.α*self.L**(1-self.α)\n",
    "    \n",
    "    def YL(self):\n",
    "        return self.Z*(1-self.α)*(self.K/self.L)**self.α\n",
    "    \n",
    "    def YK(self):\n",
    "        return self.Z*self.α*(self.L/self.K)**(1-self.α)\n",
    "    \n",
    "    def R(self):\n",
    "        return 1+self.YK()-self.δ"
   ]
  },
  {
   "cell_type": "code",
   "execution_count": 13,
   "metadata": {
    "code_folding": []
   },
   "outputs": [
    {
     "name": "stdout",
     "output_type": "stream",
     "text": [
      "Normalized Z 0.9100806239574033\n",
      "Normalized K 4.477611940298525\n",
      "W 1.0000000000000009\n",
      "KY 3.0000000000000084\n",
      "R 1.0849999999999997\n"
     ]
    }
   ],
   "source": [
    "from scipy.optimize import fsolve\n",
    "\n",
    "CDEconomy = Economy()\n",
    "\n",
    "KY_ratio_target = 3\n",
    "W_target = 1.0\n",
    "N_ss = 0.9\n",
    "\n",
    "def distance(ZK):\n",
    "    CDEconomy.N = N_ss\n",
    "    CDEconomy.Z,CDEconomy.K = ZK\n",
    "    distance1 = CDEconomy.KY()- KY_ratio_target\n",
    "    distance2 = CDEconomy.YL()- W_target \n",
    "    return [distance1,distance2]\n",
    "\n",
    "Z_root,K_root = fsolve(distance,\n",
    "                       [0.7,0.5])\n",
    "\n",
    "print('Normalized Z',Z_root)\n",
    "print('Normalized K',K_root)\n",
    "\n",
    "CDEconomy.Z,CDEconomy.K = Z_root,K_root\n",
    "\n",
    "W_fake = CDEconomy.YL()\n",
    "KY_fake = CDEconomy.KY()\n",
    "R_fake = CDEconomy.R()\n",
    "\n",
    "print('W',W_fake)\n",
    "print('KY',KY_fake)\n",
    "print('R',R_fake)"
   ]
  },
  {
   "cell_type": "code",
   "execution_count": 51,
   "metadata": {
    "code_folding": [
     2
    ]
   },
   "outputs": [],
   "source": [
    "## stationary asset demand for a given capital stock/factor price\n",
    "\n",
    "def StE_K_d(model,\n",
    "            K_s,\n",
    "            dstn):  ## distribution between emp and unemp \n",
    "    \"\"\"\n",
    "    Given a proposed capital stock/asset supply and initial wealth from accidental bequests,\n",
    "    this function generates the stationary asset demands, and resulting accidental bequests \n",
    "\n",
    "    \"\"\"\n",
    "    ################################\n",
    "    ## Step 0. Parameterize the model \n",
    "    ################################\n",
    "    ## get the L based on current employed fraction\n",
    "    uemp_now,emp_now = dstn[0],dstn[1]\n",
    "    print('Labor force',str(emp_now))\n",
    "    \n",
    "    \n",
    "    ## obtaine factor prices from FOC of firms \n",
    "    #print(K_s)\n",
    "    #print(nb.typeof(K_s))\n",
    "    one_economy = Economy(Z = Z_root,\n",
    "                          K = K_s,\n",
    "                          L = emp_now)\n",
    "    #print(nb.typeof(one_economy.K))\n",
    "    print('Capital stock',str(K_s))\n",
    "    W,R = one_economy.YL(),one_economy.R()\n",
    "    print('Wage rate',str(W))\n",
    "    print('Real interest rate',str(R))\n",
    "    ##################################\n",
    "    model.W, model.R = W,R\n",
    "    ##################################\n",
    "    \n",
    "    ## stable age distribution \n",
    "    age_dist = stationary_age_dist(model.L,\n",
    "                                   n = 0.0,\n",
    "                                   LivPrb =model.LivPrb)\n",
    "    \n",
    "    ## obtain tax rate from the government budget balance \n",
    "    \n",
    "    model.λ = unemp_insurance2tax(model.unemp_insurance,\n",
    "                                 uemp_now)\n",
    "    print('Tax rate',str(model.λ))\n",
    "    \n",
    "    ## obtain social security rate balancing the SS replacement ratio \n",
    "    \n",
    "    model.λ_SS = SS2tax(model.pension, ## social security /pension replacement ratio \n",
    "                        model.T,  ## retirement years\n",
    "                        age_dist,  ## age distribution in the economy \n",
    "                        model.G,         ## permanent growth fractor lists over cycle\n",
    "                        emp_now)\n",
    "  \n",
    "    print('Social security tax rate',str(model.λ_SS))\n",
    "\n",
    "    ################################\n",
    "    ## Step 1. Solve the model \n",
    "    ################################\n",
    "\n",
    "    ## terminal period solution\n",
    "    k = len(model.s_grid)\n",
    "    k2 =len(model.eps_grid)\n",
    "    n = len(model.P)\n",
    "\n",
    "    σ_init = np.empty((k,k2,n))\n",
    "    a_init = np.empty((k,k2,n))\n",
    "\n",
    "    # terminal solution c = m \n",
    "    for z in range(n):\n",
    "        for j in range(k2):\n",
    "            a_init[:,j,z] = 2*model.s_grid\n",
    "            σ_init[:,j,z] = a_init[:,j,z] \n",
    "\n",
    "    ## solve the model \n",
    "    as_star, σs_star = solve_model_backward_iter(model,\n",
    "                                                 a_init,\n",
    "                                                 σ_init)\n",
    "    \n",
    "    ################################\n",
    "    ## Step 2. StE distribution\n",
    "    ################################\n",
    "\n",
    "\n",
    "    ## accidental transfers \n",
    "    #model.init_b = init_b\n",
    "    \n",
    "    ## Get the StE K_d\n",
    "    ## get the transition matrix and policy grid \n",
    "    \n",
    "    m_dist_grid_list,p_dist_grid_list = define_distribution_grid(model,\n",
    "                                                             num_pointsM = n_m,\n",
    "                                                             num_pointsP = n_p)\n",
    "\n",
    "    tran_matrix_lists, dist_lists,mp_pdfs_2d_lists,mp_pdfs_lists,cp_PolGrid_list,ap_PolGrid_list = SSDist(model,\n",
    "                                                                                                          as_star,\n",
    "                                                                                                          σs_star,\n",
    "                                                                                                          m_dist_grid_list,\n",
    "                                                                                                        p_dist_grid_list)    \n",
    "    \n",
    "    \n",
    "    A = Aggregate(ap_PolGrid_list,\n",
    "                  mp_pdfs_2d_lists,\n",
    "                  ss_dstn,\n",
    "                  age_dist)\n",
    "    \n",
    "    K_d = A*model.W  ## no population growth otherwise diluted by (1+n)\n",
    "    \n",
    "    ## realized accidental transfers from age 2 to L\n",
    "    \n",
    "    #ap_PolGrid_list_old = [ap_PolGrid_list[0][1:],ap_PolGrid_list[1][1:]]\n",
    "    #mp_pdfs_2d_lists_old = [mp_pdfs_2d_lists[0][1:],mp_pdfs_2d_lists[1][1:]]\n",
    "    #age_dist_old =  age_dist[1:]\n",
    "    #A_old = Aggregate(ap_PolGrid_list_old,\n",
    "    #                  mp_pdfs_2d_lists_old,\n",
    "    #                  ss_dstn,\n",
    "    #                 age_dist_old)*model.W \n",
    "    \n",
    "    #init_b_out = model.bequest_ratio*(1-model.LivPrb)*A_old*(1-age_dist[0])*model.R/age_dist[0]\n",
    "    \n",
    "    print('Induced capital stock',str(K_d))\n",
    "    #print('Induced  bequest',str(init_b_out))\n",
    "    \n",
    "    return K_d"
   ]
  },
  {
   "cell_type": "code",
   "execution_count": 52,
   "metadata": {
    "code_folding": []
   },
   "outputs": [],
   "source": [
    "## function to solve the equilibrium \n",
    "eq_func = lambda K: StE_K_d(model=lc_mkv,\n",
    "                            K_s = K,\n",
    "                            dstn=ss_dstn)"
   ]
  },
  {
   "cell_type": "code",
   "execution_count": 53,
   "metadata": {
    "code_folding": [],
    "lines_to_next_cell": 2
   },
   "outputs": [
    {
     "name": "stdout",
     "output_type": "stream",
     "text": [
      "Labor force 0.7500000000000001\n",
      "2.0\n",
      "array(float64, 0d, C)\n",
      "array(float64, 0d, C)\n",
      "Capital stock 2.0\n",
      "Wage rate 0.7507048105215517\n",
      "Real interest rate 1.113656298958272\n",
      "Tax rate 0.04761904761904759\n",
      "Social security tax rate 0.20251142361030447\n",
      "time taken:77.33303713798523\n",
      "Induced capital stock 3.8156008704561337\n",
      "Labor force 0.7500000000000001\n",
      "3.8156008704561337\n",
      "float64\n",
      "float64\n",
      "Capital stock 3.8156008704561337\n",
      "Wage rate 0.9290627980318117\n",
      "Real interest rate 1.0649461402192493\n",
      "Tax rate 0.04761904761904759\n",
      "Social security tax rate 0.20251142361030447\n",
      "time taken:77.47640204429626\n",
      "Induced capital stock 3.0073594475668806\n",
      "Labor force 0.7500000000000001\n",
      "3.256327992410766\n",
      "array(float64, 0d, C)\n",
      "array(float64, 0d, C)\n",
      "Capital stock 3.256327992410766\n",
      "Wage rate 0.8817177572770838\n",
      "Real interest rate 1.075023453500557\n",
      "Tax rate 0.04761904761904759\n",
      "Social security tax rate 0.20251142361030447\n",
      "time taken:77.23156404495239\n",
      "Induced capital stock 3.2386408980902814\n",
      "Labor force 0.7500000000000001\n",
      "3.2386408980902814\n",
      "float64\n",
      "float64\n",
      "Capital stock 3.2386408980902814\n",
      "Wage rate 0.8801344551718331\n",
      "Real interest rate 1.0753891154463038\n",
      "Tax rate 0.04761904761904759\n",
      "Social security tax rate 0.20251142361030447\n",
      "time taken:78.57064390182495\n",
      "Induced capital stock 3.246999234056168\n",
      "Labor force 0.7500000000000001\n",
      "3.244316929354326\n",
      "array(float64, 0d, C)\n",
      "array(float64, 0d, C)\n",
      "Capital stock 3.244316929354326\n",
      "Wage rate 0.8806431884373591\n",
      "Real interest rate 1.075271406794755\n",
      "Tax rate 0.04761904761904759\n",
      "Social security tax rate 0.20251142361030447\n",
      "time taken:3397.257926940918\n",
      "Induced capital stock 3.2443114284244223\n",
      "Labor force 0.7500000000000001\n",
      "3.2443114284244223\n",
      "float64\n",
      "float64\n",
      "Capital stock 3.2443114284244223\n",
      "Wage rate 0.880642695686937\n",
      "Real interest rate 1.0752715207056762\n",
      "Tax rate 0.04761904761904759\n",
      "Social security tax rate 0.20251142361030447\n",
      "time taken:76.21088600158691\n",
      "Induced capital stock 3.2443140309946172\n",
      "Labor force 0.7500000000000001\n",
      "3.244313195137082\n",
      "array(float64, 0d, C)\n",
      "array(float64, 0d, C)\n",
      "Capital stock 3.244313195137082\n",
      "Wage rate 0.8806428539417702\n",
      "Real interest rate 1.0752714841213051\n",
      "Tax rate 0.04761904761904759\n",
      "Social security tax rate 0.20251142361030447\n",
      "time taken:76.68828535079956\n",
      "Induced capital stock 3.244313195136363\n",
      "Labor force 0.7500000000000001\n",
      "3.244313195136363\n",
      "float64\n",
      "float64\n",
      "Capital stock 3.244313195136363\n",
      "Wage rate 0.8806428539417058\n",
      "Real interest rate 1.0752714841213202\n",
      "Tax rate 0.04761904761904759\n",
      "Social security tax rate 0.20251142361030447\n",
      "time taken:76.50574493408203\n",
      "Induced capital stock 3.244313195136731\n"
     ]
    }
   ],
   "source": [
    "## solve the fixed point \n",
    "\n",
    "K_eq = op.fixed_point(eq_func,\n",
    "                      x0 = 2.0)"
   ]
  },
  {
   "cell_type": "code",
   "execution_count": 54,
   "metadata": {
    "code_folding": [
     0,
     31,
     47,
     53
    ],
    "lines_to_next_cell": 2
   },
   "outputs": [
    {
     "name": "stdout",
     "output_type": "stream",
     "text": [
      "SS Capital stock 3.2443131951366064\n",
      "SS Wage Rate 1.0863633379717224\n",
      "SS Real interest rate 1.0986951662139057\n",
      "time taken:77.06680679321289\n"
     ]
    }
   ],
   "source": [
    "## get the StE \n",
    "ss_dstn = cal_ss_2markov(lc_mkv.P)\n",
    "L_ss = ss_dstn[1]\n",
    "\n",
    "## compute factor prices in StE\n",
    "one_economy = Economy(K=K_eq,\n",
    "                      L=L_ss)\n",
    "print('SS Capital stock',str(K_eq))\n",
    "W_eq,R_eq = one_economy.YL(),one_economy.R()\n",
    "print('SS Wage Rate',str(W_eq))\n",
    "print('SS Real interest rate',str(R_eq))\n",
    "\n",
    "## get the distribution under SS\n",
    "lc_mkv.W,lc_mkv.R = W_eq,R_eq\n",
    "\n",
    "## solve the model again \n",
    "\n",
    "## terminal period solution\n",
    "k = len(lc_mkv.s_grid)\n",
    "k2 =len(lc_mkv.eps_grid)\n",
    "n = len(lc_mkv.P)\n",
    "\n",
    "σ_init = np.empty((k,k2,n))\n",
    "a_init = np.empty((k,k2,n))\n",
    "\n",
    "# terminal solution c = m \n",
    "for z in range(n):\n",
    "    for j in range(k2):\n",
    "        a_init[:,j,z] = 2*lc_mkv.s_grid\n",
    "        σ_init[:,j,z] = a_init[:,j,z] \n",
    "\n",
    "as_star, σs_star = solve_model_backward_iter(lc_mkv,\n",
    "                                             a_init,\n",
    "                                             σ_init)\n",
    "\n",
    "## get the transition matrix and policy grid \n",
    "\n",
    "tran_matrix_lists, dist_lists,mp_pdfs_2d_lists,mp_pdfs_lists,cp_PolGrid_list,ap_PolGrid_list = SSDist(lc_mkv,\n",
    "                                                                                                      as_star_mkv,\n",
    "                                                                                                      σs_star_mkv,\n",
    "                                                                                                      m_dist_grid_list,\n",
    "                                                                                                      p_dist_grid_list)\n",
    "\n",
    "\n",
    "## flatten the distribution of a and its corresponding pdfs \n",
    "\n",
    "\n",
    "ap_grid_dist, ap_pdfs_dist = faltten_dist(ap_PolGrid_list,\n",
    "                                        mp_pdfs_2d_lists,\n",
    "                                        ss_dstn,\n",
    "                                        age_dist)\n",
    "\n",
    "\n",
    "cp_grid_dist, cp_pdfs_dist = faltten_dist(cp_PolGrid_list,\n",
    "                                        mp_pdfs_2d_lists,\n",
    "                                        ss_dstn,\n",
    "                                        age_dist)\n"
   ]
  },
  {
   "cell_type": "code",
   "execution_count": 55,
   "metadata": {
    "code_folding": []
   },
   "outputs": [
    {
     "data": {
      "text/plain": [
       "(0.0, 1.0)"
      ]
     },
     "execution_count": 55,
     "metadata": {},
     "output_type": "execute_result"
    },
    {
     "data": {
      "image/png": "[encoded data removed]",
      "text/plain": [
       "<Figure size 360x360 with 1 Axes>"
      ]
     },
     "metadata": {
      "needs_background": "light"
     },
     "output_type": "display_data"
    }
   ],
   "source": [
    "## compute things needed for lorenz curve plot of asset accumulation \n",
    "\n",
    "share_agents_ap, share_ap = lorenz_curve(ap_grid_dist,\n",
    "                                     ap_pdfs_dist,\n",
    "                                     nb_share_grid = 100)\n",
    "\n",
    "\n",
    "## Lorenz curve of steady state wealth distribution\n",
    "\n",
    "fig, ax = plt.subplots(figsize=(5,5))\n",
    "ax.plot(share_agents_ap,share_cp, 'r--',label='Lorenz curve of level of wealth')\n",
    "ax.plot(share_agents_ap,share_agents_ap, 'k-',label='equality curve')\n",
    "ax.legend()\n",
    "plt.xlim([0,1])\n",
    "plt.ylim([0,1])"
   ]
  },
  {
   "cell_type": "code",
   "execution_count": 56,
   "metadata": {},
   "outputs": [
    {
     "name": "stderr",
     "output_type": "stream",
     "text": [
      "/var/folders/39/ks6jc__9375c2fl7h7pwq5jh0000gn/T/ipykernel_44509/1570813690.py:4: RuntimeWarning: divide by zero encountered in log\n",
      "  plt.plot(np.log(ap_grid_dist),\n",
      "/var/folders/39/ks6jc__9375c2fl7h7pwq5jh0000gn/T/ipykernel_44509/1570813690.py:4: RuntimeWarning: invalid value encountered in log\n",
      "  plt.plot(np.log(ap_grid_dist),\n"
     ]
    },
    {
     "data": {
      "text/plain": [
       "Text(0, 0.5, '$prob(a)$')"
      ]
     },
     "execution_count": 56,
     "metadata": {},
     "output_type": "execute_result"
    },
    {
     "data": {
      "image/png": "[encoded data removed]",
      "text/plain": [
       "<Figure size 432x288 with 1 Axes>"
      ]
     },
     "metadata": {
      "needs_background": "light"
     },
     "output_type": "display_data"
    }
   ],
   "source": [
    "## Wealth distribution \n",
    "\n",
    "plt.title('Wealth distribution')\n",
    "plt.plot(np.log(ap_grid_dist), \n",
    "         ap_pdfs_dist)\n",
    "plt.xlabel(r'$a$')\n",
    "plt.ylabel(r'$prob(a)$')"
   ]
  },
  {
   "cell_type": "code",
   "execution_count": 57,
   "metadata": {},
   "outputs": [
    {
     "data": {
      "text/plain": [
       "Text(0, 0.5, '$prob(a)$')"
      ]
     },
     "execution_count": 57,
     "metadata": {},
     "output_type": "execute_result"
    },
    {
     "data": {
      "image/png": "[encoded data removed]",
      "text/plain": [
       "<Figure size 432x288 with 1 Axes>"
      ]
     },
     "metadata": {
      "needs_background": "light"
     },
     "output_type": "display_data"
    }
   ],
   "source": [
    "## Consumption distribution \n",
    "plt.title('Consumption distribution')\n",
    "plt.plot(np.log(cp_grid_dist), \n",
    "         cp_pdfs_dist)\n",
    "plt.xlabel(r'$c$')\n",
    "plt.ylabel(r'$prob(a)$')"
   ]
  },
  {
   "cell_type": "code",
   "execution_count": 58,
   "metadata": {},
   "outputs": [],
   "source": [
    "## Life cycle wealth profile \n",
    "\n",
    "## xxxxxx"
   ]
  },
  {
   "cell_type": "markdown",
   "metadata": {},
   "source": [
    "### Consumption Jacobians\n",
    "\n"
   ]
  },
  {
   "cell_type": "code",
   "execution_count": null,
   "metadata": {
    "code_folding": [
     8
    ],
    "lines_to_next_cell": 2
   },
   "outputs": [],
   "source": [
    "# a test to see if its stable\n",
    "\n",
    "\n",
    "Ce =[]\n",
    "Cu =[]\n",
    "Cagg =[]\n",
    "Aagg =[]\n",
    "\n",
    "for i in range(20):\n",
    "    for k in range(lc_mkv(T)):\n",
    "        dstne = mp_pdfs_lists_e[k]\n",
    "        dstnu = mp_pdfs_lists_u[k]\n",
    "        \n",
    "        Ae = np.dot(example.aPol_Grid_e,dstne)\n",
    "        Au = np.dot(example.aPol_Grid_u,dstnu)\n",
    "    \n",
    "    Ce.append(np.dot(example.cPol_Grid_e,dstne))\n",
    "    Cu.append(np.dot(example.cPol_Grid_u,dstnu))\n",
    "    \n",
    "    Cagg.append(np.dot(example.cPol_Grid_e,dstne)* example.prb_emp + example.prb_unemp*np.dot(example.cPol_Grid_u,dstnu))\n",
    "    Aagg.append(Ae* example.prb_emp +  Au*example.prb_unemp)\n",
    "    \n",
    "    dstne = np.dot(example.tran_matrix_e,dstne)\n",
    "    dstnu = np.dot(example.tran_matrix_u,dstnu)"
   ]
  },
  {
   "cell_type": "code",
   "execution_count": null,
   "metadata": {},
   "outputs": [],
   "source": [
    "##\n",
    "#plt.plot(Cagg)\n",
    "#plt.show()\n",
    "#print('Aggregate Consumption = ' +str(Cagg[10]))\n",
    "\n",
    "#plt.plot(Aagg)\n",
    "#plt.show()\n",
    "#print('Aggregate Asset = ' +str(Aagg[10]))"
   ]
  },
  {
   "cell_type": "code",
   "execution_count": null,
   "metadata": {
    "code_folding": []
   },
   "outputs": [],
   "source": [
    "plt.plot(example.dist_mGrid,steady_Dstn, label = 'all')\n",
    "plt.plot(example.dist_mGrid,dstne, label = 'employed')\n",
    "plt.plot(example.dist_mGrid,dstnu, label = 'unemployed')\n",
    "plt.title('permanent income weighted distribution')\n",
    "plt.legend()\n",
    "plt.show()"
   ]
  },
  {
   "cell_type": "code",
   "execution_count": null,
   "metadata": {
    "code_folding": [
     1,
     28
    ],
    "endofcell": "--"
   },
   "outputs": [],
   "source": [
    "\n",
    "class JAC_agent(HANK_SAM_agent):\n",
    "\n",
    "    \n",
    "    def update_solution_terminal(self):\n",
    "        \"\"\"\n",
    "        Update the terminal period solution.  This method should be run when a\n",
    "        new AgentType is created or when CRRA changes.\n",
    "        Parameters\n",
    "        ----------\n",
    "        none\n",
    "        Returns\n",
    "        -------\n",
    "        none\n",
    "        \"\"\"\n",
    "        #IndShockConsumerType.update_solution_terminal(self)\n",
    "\n",
    "        # Make replicated terminal period solution: consume all resources, no human wealth, minimum m is 0\n",
    "        StateCount = self.MrkvArray[0].shape[0]\n",
    "        self.solution_terminal.cFunc = example.solution[0].cFunc\n",
    "        self.solution_terminal.vFunc = example.solution[0].vFunc\n",
    "        self.solution_terminal.vPfunc = example.solution[0].vPfunc\n",
    "        self.solution_terminal.vPPfunc = example.solution[0].vPPfunc\n",
    "        self.solution_terminal.mNrmMin = np.zeros(StateCount)\n",
    "        self.solution_terminal.hRto = np.zeros(StateCount)\n",
    "        self.solution_terminal.MPCmax = np.ones(StateCount)\n",
    "        self.solution_terminal.MPCmin = np.ones(StateCount)\n",
    "        \n",
    "    def check_markov_inputs(self):\n",
    "        \"\"\"\n",
    "        Many parameters used by MarkovConsumerType are arrays.  Make sure those arrays are the\n",
    "        right shape.\n",
    "\n",
    "        Parameters\n",
    "        ----------\n",
    "        None\n",
    "\n",
    "        Returns\n",
    "        -------\n",
    "        None\n",
    "        \"\"\"\n",
    "        StateCount = self.MrkvArray[0].shape[0]\n",
    "\n",
    "\n",
    "\n",
    "# Jacobian\n",
    "params = deepcopy(HANK_SAM_Dict)\n",
    "params['T_cycle'] = 100\n",
    "params['LivPrb']= params['T_cycle']*example.LivPrb\n",
    "params['PermGroFac']=params['T_cycle']*example.PermGroFac\n",
    "params['PermShkStd'] = params['T_cycle']*example.PermShkStd\n",
    "params['TranShkStd']= params['T_cycle']*example.TranShkStd\n",
    "params['Rfree'] = params['T_cycle']*[rfree]\n",
    "params['MrkvArray'] = params['T_cycle']*example.MrkvArray\n",
    "\n",
    "# ghost\n",
    "\n",
    "ghost = JAC_agent(**params)\n",
    "ghost.IncShkDstn = params['T_cycle']*example.IncShkDstn\n",
    "ghost.del_from_time_inv('Rfree')\n",
    "ghost.add_to_time_vary('Rfree')\n",
    "ghost.dstn_0 = ss_dstn\n",
    "ghost.cycles = 1\n",
    "\n",
    "ghost.wage = 1.2\n",
    "ghost.unemp_insurance = params['T_cycle']*[example.unemp_insurance]\n",
    "ghost.job_find = params['T_cycle']*[example.job_find]\n",
    "ghost.job_sep = params['T_cycle']* [example.job_sep]\n",
    "\n",
    "ghost.solve()\n",
    "\n",
    "\n",
    "\n",
    "\n",
    "ghost.define_distribution_grid(dist_pGrid = params['T_cycle']*[np.array([1])])\n",
    "ghost.calc_transition_matrix(params['T_cycle']*[IncShkDstn_ntrl_msr_e])\n",
    "\n",
    "\n",
    "Agg_Cg =[]\n",
    "Agg_Ag =[]\n",
    "Agg_ceg =[]\n",
    "Agg_cug =[]\n",
    "\n",
    "Agg_aeg =[]\n",
    "Agg_aug =[]\n",
    "\n",
    "dstne = ergodic_distre\n",
    "dstnu = ergodic_distru\n",
    "for i in range(ghost.T_cycle):\n",
    "    \n",
    "    Ae = np.dot(ghost.aPol_Grid_e[i],dstne)\n",
    "    Au = np.dot(ghost.aPol_Grid_u[i],dstnu)\n",
    "    Agg_aeg.append(Ae)\n",
    "    Agg_aug.append(Au)\n",
    "    \n",
    "    Ce = np.dot(ghost.cPol_Grid_e[i],dstne)\n",
    "    Cu = np.dot(ghost.cPol_Grid_u[i],dstnu)\n",
    "    Agg_ceg.append(Ce)\n",
    "    Agg_cug.append(Cu)\n",
    "    \n",
    "    Agg_Ag.append(Ae* ghost.prb_emp[i] + Au*ghost.prb_unemp[i])\n",
    "    Agg_Cg.append(Ce* ghost.prb_emp[i] + Cu*ghost.prb_unemp[i])\n",
    "    \n",
    "    dstne = np.dot(ghost.tran_matrix_e[i],dstne)\n",
    "    dstnu = np.dot(ghost.tran_matrix_u[i],dstnu)\n",
    "\n",
    "\n",
    "\n",
    "#--------------------------------------------------------------------\n",
    "#jacobian executed here\n",
    "\n",
    "example2 = JAC_agent(**params)\n",
    "dx = -.0001\n",
    "\n",
    "\n",
    "\n",
    "\n",
    "#example2.Rfree = q*[rfree] + [rfree + dx] + (params['T_cycle'] - q )*[rfree]\n",
    "\n",
    "example2.cycles = 1\n",
    "\n",
    "example2.wage = example.wage\n",
    "\n",
    "example2.unemp_insurance = params['T_cycle']*[example.unemp_insurance]\n",
    "\n",
    "#example2.job_find = params['T_cycle']*[example.job_find]\n",
    "example2.job_sep = params['T_cycle']* [example.job_sep]\n",
    "example2.IncShkDstn = params['T_cycle']*[ [employed_IncShkDstn, unemployed_IncShkDstn] ]\n",
    "example2.del_from_time_inv('Rfree')\n",
    "example2.add_to_time_vary('Rfree')\n",
    "example2.dstn_0 = ss_dstn\n",
    "\n",
    "MrkvArray_dx = np.array( [ [1 - job_sep*(1-(job_find + dx)) , job_find + dx] ,  #\" The sum of entries in each column in t should equal one. \"\n",
    "                          \n",
    "                               [job_sep*(1- (job_find +dx) ), 1 -( job_find+dx) ] ]  ).T\n",
    "\n",
    "\n",
    "CHist=[]\n",
    "AHist=[]\n",
    "\n",
    "test_set =[30]\n",
    "#for q in range(params['T_cycle']):\n",
    "    \n",
    "for q in test_set:\n",
    "    \n",
    "    example2.MrkvArray = q*example.MrkvArray + [MrkvArray_dx] + (params['T_cycle'] - q )*example.MrkvArray\n",
    "    \n",
    "    example2.job_find =    q*[example.job_find] + [example.job_find + dx]+ (params['T_cycle'] - q )*[example.job_find] \n",
    "    \n",
    "    example2.solve()\n",
    "\n",
    "\n",
    "    start = time.time()\n",
    "\n",
    "    example2.define_distribution_grid(dist_pGrid = params['T_cycle']*[np.array([1])])\n",
    "    example2.calc_transition_matrix(params['T_cycle']*[IncShkDstn_ntrl_msr_e])\n",
    "    \n",
    "    print('seconds past : ' + str(time.time()-start))\n",
    "    \n",
    "    Agg_C =[]\n",
    "    Agg_A =[]\n",
    "    dstne = ergodic_distre\n",
    "    dstnu = ergodic_distru\n",
    "    \n",
    "    Agg_ce =[]\n",
    "    Agg_cu =[]\n",
    "    \n",
    "    Agg_ae =[]\n",
    "    Agg_au =[]\n",
    "    \n",
    "    for i in range(example2.T_cycle):\n",
    "        \n",
    "        Ae = np.dot(example2.aPol_Grid_e[i],dstne)\n",
    "        Au = np.dot(example2.aPol_Grid_u[i],dstnu)\n",
    "        \n",
    "        Agg_ae.append(Ae)\n",
    "        Agg_au.append(Au)\n",
    "        \n",
    "        Ce = np.dot(example2.cPol_Grid_e[i],dstne)\n",
    "        Cu = np.dot(example2.cPol_Grid_u[i],dstnu)\n",
    "        Agg_ce.append(Ce)\n",
    "        Agg_cu.append(Cu)\n",
    "        \n",
    "        Agg_A.append(Ae* example2.prb_emp[i] + Au*example2.prb_unemp[i])\n",
    "        Agg_C.append(Ce* example2.prb_emp[i] + Cu*example2.prb_unemp[i])\n",
    "        \n",
    "        dstne = np.dot(example2.tran_matrix_e[i],dstne)\n",
    "        dstnu = np.dot(example2.tran_matrix_u[i],dstnu)\n",
    "\n",
    "\n",
    "\n",
    "    CHist.append((np.array(Agg_C)-np.array(Agg_Cg))/abs(dx))\n",
    "    AHist.append((np.array(Agg_A) - np.array(Agg_Ag))/abs(dx))\n",
    "        \n",
    "    \n",
    "    \n",
    "\n",
    "    \n",
    "\n",
    "    \n",
    "plt.plot((np.array(Agg_C)-np.array(Agg_Cg))/abs(dx))\n",
    "plt.plot(np.zeros(len(Agg_C)))\n",
    "plt.title('IPR of Aggregate Consumption ')\n",
    "plt.show()\n",
    "\n",
    "plt.plot((np.array(Agg_A) - np.array(Agg_Ag))/abs(dx))\n",
    "plt.plot(np.zeros(len(Agg_A)))\n",
    "plt.title(' IPR of Aggregate Assets')\n",
    "plt.show()\n",
    "\n",
    "\n",
    "plt.plot((np.array(Agg_ce)-np.array(Agg_ceg))/abs(dx))\n",
    "plt.title('IPR of Employed consumption')\n",
    "plt.show()\n",
    "plt.plot((np.array(Agg_cu)-np.array(Agg_cug))/abs(dx))\n",
    "plt.title('IPR of Unemployed Consumption')\n",
    "plt.show()\n",
    "\n",
    "plt.plot((np.array(Agg_ae)-np.array(Agg_aeg))/abs(dx))\n",
    "plt.title('IPR of Employed Savings')\n",
    "plt.show()\n",
    "plt.plot((np.array(Agg_au)-np.array(Agg_aug))/abs(dx))\n",
    "plt.title('IPR of Unemployed Savings')\n",
    "plt.show()\n",
    "\n",
    "\n",
    "\n",
    "fig, axs = plt.subplots(2, 2)\n",
    "axs[0, 0].plot((np.array(Agg_C)-np.array(Agg_Cg))/abs(dx),'darkgreen' )\n",
    "axs[0, 0].set_title(\"IPR of Aggregate Consumption\")\n",
    "axs[1, 0].plot((np.array(Agg_ce)-np.array(Agg_ceg))/abs(dx),'forestgreen' )\n",
    "axs[1, 0].set_title(\"IPR of Employed consumption\")\n",
    "axs[1, 0].sharex(axs[0, 0])\n",
    "axs[0, 1].plot((np.array(Agg_cu)-np.array(Agg_cug))/abs(dx), 'forestgreen')\n",
    "axs[0, 1].set_title(\"IPR of Unemployed Consumption\")\n",
    "fig.tight_layout()\n",
    "\n",
    "\n",
    "\n",
    "fig, axs = plt.subplots(2, 2)\n",
    "axs[0, 0].plot((np.array(Agg_A)-np.array(Agg_Ag))/abs(dx),'darkgreen' )\n",
    "axs[0, 0].set_title(\"IPR of Aggregate Savings\")\n",
    "axs[1, 0].plot((np.array(Agg_ae)-np.array(Agg_aeg))/abs(dx),'forestgreen' )\n",
    "axs[1, 0].set_title(\"IPR of Employed Savings\")\n",
    "axs[1, 0].sharex(axs[0, 0])\n",
    "axs[0, 1].plot((np.array(Agg_au)-np.array(Agg_aug))/abs(dx), 'forestgreen')\n",
    "axs[0, 1].set_title(\"IPR of Unemployed Savings\")\n",
    "fig.tight_layout()\n",
    "\n",
    "# -\n"
   ]
  },
  {
   "cell_type": "code",
   "execution_count": null,
   "metadata": {
    "code_folding": [
     4,
     177,
     203
    ],
    "endofcell": "--"
   },
   "outputs": [],
   "source": [
    "\n",
    "# ## Old codes: simulate a cross-sectionl history \n",
    "\n",
    "#@njit\n",
    "def simulate_time_series(lc, σ, z_idx_seq, p_income,T=400):\n",
    "    \"\"\"\n",
    "    Simulates a time series of length T for assets/consumptions, given optimal\n",
    "    consumption/demand functions.\n",
    "    * z_seq is a time path for {Z_t} recorded by index, instead of its numeric value\n",
    "\n",
    "    \"\"\"\n",
    "    \n",
    "    # Simulate the asset path\n",
    "    a = np.zeros(T)+1e-4\n",
    "    c  = np.empty_like(a)\n",
    "    #c1 = np.empty_like(a)\n",
    "    #c2 = np.empty_like(a)\n",
    "    \n",
    "    ## simulate histories\n",
    "    ζ_sim = np.random.randn(T)\n",
    "    η_sim = np.random.randn(T)\n",
    "    \n",
    "    \n",
    "    R = lc.R\n",
    "    z_val = lc.z_val ## values of the state \n",
    "    \n",
    "    \n",
    "    ## permanent income shocks\n",
    "    \n",
    "    Γs = p_income[1:]/p_income[:-1] \n",
    "    \n",
    "    for t in range(T):\n",
    "        z_idx = z_idx_seq[t]\n",
    "        z = z_val[z_idx]    \n",
    "        Y = lc.Y(z, η_sim[t])\n",
    "        c[t] = σ(a[t], z_idx)\n",
    "        #c1[t],c2[t] = allocate(c[t], S = S) \n",
    "        #if t<T-1:\n",
    "        #    a[t+1] = R/Γs[t] * (a[t] - c1[t]*p_vec[0]-c2[t]*p_vec[1]) + Y\n",
    "        if t<T-1:\n",
    "            a[t+1] = R/Γs[t] * (a[t] - c[t]) + Y\n",
    "        \n",
    "    ## multiply permanent income level \n",
    "    #c = c*p_income\n",
    "    #c1 =c1*p_income\n",
    "    #c2 = c2*p_income\n",
    "    #a = a * p_income \n",
    "    \n",
    "    return a,c\n",
    "\n",
    "def simulate_time_series_new(lc, σ, z_seq, p_income, T=400):\n",
    "    \"\"\"\n",
    "    Simulates a time series of length T for assets/consumptions, given optimal\n",
    "    consumption/demand functions.\n",
    "\n",
    "        * ifp is an instance of IFP\n",
    "        * a_star is the endogenous grid solution\n",
    "        * σ_star is optimal consumption on the grid\n",
    "        * z_seq is a time path for {Z_t} recorded by its numeric value (different from the previous function)\n",
    "\n",
    "    \"\"\"\n",
    "    \n",
    "    # Simulate the asset path\n",
    "    a = np.zeros(T)+1e-4\n",
    "    c = np.empty_like(a)\n",
    "    #c1 = np.empty_like(a)\n",
    "    #c2 = np.empty_like(a)\n",
    "    \n",
    "    ## simulate histories\n",
    "    ζ_sim = np.random.randn(T)\n",
    "    η_sim = np.random.randn(T)\n",
    "    \n",
    "    \n",
    "    R = lc.R\n",
    "    #z_val = ifp.z_val ## values of the state \n",
    "    \n",
    "    ## permanent income shocks\n",
    "    \n",
    "    Γs = p_income[1:]/p_income[:-1] \n",
    "    \n",
    "    for t in range(T):\n",
    "        z = z_seq[t] ## z values\n",
    "        S = lc.ϕ(z,ζ_sim[t])\n",
    "        Y = lc.Y(z, η_sim[t])\n",
    "        c[t] = σ(a[t], z)\n",
    "        #c1[t],c2[t] = allocate(c[t], S = S) \n",
    "        #if t<T-1:\n",
    "        #    a[t+1] = R/Γs[t] * (a[t] - c1[t]*p_vec[0]-c2[t]*p_vec[1]) + Y\n",
    "        if t<T-1:\n",
    "            a[t+1] = R/Γs[t] * (a[t] - c[t]) + Y\n",
    "        \n",
    "    ## multiply permanent income level \n",
    "    #c = c*p_income\n",
    "    #c1 =c1*p_income\n",
    "    #c2 = c2*p_income\n",
    "    #a = a * p_income \n",
    "    \n",
    "    return a,c\n",
    "\n",
    "## now, we simulate the time-series of a cross-sectional matrix of N agents \n",
    "\n",
    "#@njit\n",
    "def simulate_distribution(lc, \n",
    "                          a_star, \n",
    "                          p_vec, \n",
    "                          σ_star,\n",
    "                          z_mat, \n",
    "                          p_income_mat,\n",
    "                          N = 3000, \n",
    "                          T = 400,\n",
    "                          discrete = True):\n",
    "    N_z, T_z = z_mat.shape\n",
    "    \n",
    "    assert N_z>=N and T_z >=T, 'history of the markov states are smaller than the simulated matrix'\n",
    "    \n",
    "    \n",
    "    z_mat = z_mat[0:N,0:T]\n",
    "    ## z_mat is a N_sim x T sized matrix that takes the simulated Markov states \n",
    "    a_mat = np.empty((N,T))\n",
    "    c_mat = np.empty((N,T))\n",
    "    #c1_mat = np.empty((N,T))\n",
    "    #c2_mat = np.empty((N,T))\n",
    "    \n",
    "    ## get the policy function\n",
    "    \n",
    "    if discrete ==True:\n",
    "        σ = policyfunc(lc,\n",
    "                       a_star,\n",
    "                       σ_star,\n",
    "                       discrete = True)  ## interpolate for discrete z index \n",
    "        for i in range (N):\n",
    "            a_mat[i,:],c_mat[i,:] = simulate_time_series(lc,\n",
    "                                                         σ,\n",
    "                                                         z_mat[i,:],\n",
    "                                                         p_income_mat[i,:],\n",
    "                                                         T = T)\n",
    "    else:\n",
    "        σ = policyfunc(lc,\n",
    "                       a_star,\n",
    "                       σ_star,\n",
    "                       discrete = False) ## interpolate for continous z value \n",
    "        for i in range (N):\n",
    "            a_mat[i,:],c_mat[i,:]= simulate_time_series_new(lc,\n",
    "                                                            σ,\n",
    "                                                            z_mat[i,:],\n",
    "                                                            p_income_mat[i,:],\n",
    "                                                            T = T)\n",
    "            \n",
    "    ## multiply permanent income level \n",
    "    #c_mat= np.multiply(c_mat,p_income_mat)\n",
    "    #c1_mat = np.multiply(c1_mat,p_income_mat)\n",
    "    #c2_mat = np.multiply(c2_mat,p_income_mat)\n",
    "    #a_mat = np.multiply(a_mat,p_income_mat) \n",
    "\n",
    "    return a_mat,c_mat\n",
    "\n",
    "# + code_folding=[0]\n",
    "## simulate a Markov sequence \n",
    "\n",
    "mc = MarkovChain(lc.P)\n",
    "\n",
    "### Simulate history of Idiosyncratic Z states \n",
    "#### (For Z to be aggregate state. We can directly copy Z for different agents) \n",
    "\n",
    "## number of agents \n",
    "\n",
    "N = 1000\n",
    "T = 25        ## simulated history of time period\n",
    "\n",
    "z_idx_ts = mc.simulate(T, random_state=13274)\n",
    "z_idx_mat = np.tile(z_idx_ts,(N,1))\n",
    "\n",
    "\n",
    "# + code_folding=[3]\n",
    "## simulate a permanent income distributions \n",
    "\n",
    "@njit\n",
    "def PerIncSimulate(T,\n",
    "               sigma,\n",
    "               init = 0.001):\n",
    "    pshk_draws = sigma*np.random.randn(T)-sigma**2/2\n",
    "    log_p_inc = np.empty(T)\n",
    "    log_p_inc[0] = init\n",
    "    for t in range(T-1):\n",
    "        log_p_inc[t+1] = log_p_inc[t]+ pshk_draws[t+1]\n",
    "    p_income = np.exp(log_p_inc)\n",
    "    return p_income\n",
    "\n",
    "## simulate histories of permanent income \n",
    "\n",
    "p_income_mat = np.empty((N,T))\n",
    "\n",
    "for n in range(N):\n",
    "    p_income_mat[n,:] = PerIncSimulate(T,\n",
    "                                       sigma = lc.sigma_n,\n",
    "                                       init = 0.0001)\n",
    "\n",
    "# + code_folding=[]\n",
    "## Simulate the distribution of consumption/asset (perfect understanding)\n",
    "as_star = as_stars[0]\n",
    "σs_star = σs_stars[0]\n",
    "\n",
    "p_vec = (1,1) \n",
    "a_dist,c_dist = simulate_distribution(lc,\n",
    "                                      as_star,\n",
    "                                      p_vec,\n",
    "                                      σs_star,\n",
    "                                      z_idx_mat,\n",
    "                                      p_income_mat,\n",
    "                                      N = N,\n",
    "                                      T = T,\n",
    "                                      discrete = True)\n",
    "\n",
    "# + code_folding=[]\n",
    "## aggregate history \n",
    "\n",
    "co_mat = np.multiply(c_dist,p_income_mat)  ## non-normalized consumption\n",
    "lco_mat = np.log(co_mat)\n",
    "lco_av = np.mean(lco_mat,axis = 0)\n",
    "\n",
    "#p_av =  np.mean(p_income_mat,axis = 0)  \n",
    "#lp_av = np.log(p_av)\n",
    "lp_income_mat = np.log(p_income_mat)   ## permanent income level \n",
    "lp_av = np.mean(lp_income_mat,axis = 0)\n",
    "\n",
    "#c_av = np.mean(c_dist,axis=0)\n",
    "#lc_av = np.log(c_av)\n",
    "lc_mat = np.log(c_dist)             ## normalized consumption\n",
    "lc_av = np.mean(lc_mat,axis = 0) \n",
    "\n",
    "lc_sd = np.sqrt(np.diag(np.cov(lc_mat.T)))\n",
    "# -\n",
    "\n",
    "plt.title('average log consumption (normalized)')\n",
    "plt.plot(lc_av[1:],label = r'$\\widebar{ln(c/o)}$')\n",
    "plt.legend(loc=2)"
   ]
  }
 ],
 "metadata": {
  "jupytext": {
   "encoding": "# -*- coding: utf-8 -*-",
   "formats": "ipynb,py:light"
  },
  "kernelspec": {
   "display_name": "Python 3 (ipykernel)",
   "language": "python",
   "name": "python3"
  },
  "language_info": {
   "codemirror_mode": {
    "name": "ipython",
    "version": 3
   },
   "file_extension": ".py",
   "mimetype": "text/x-python",
   "name": "python",
   "nbconvert_exporter": "python",
   "pygments_lexer": "ipython3",
   "version": "3.8.5"
  }
 },
 "nbformat": 4,
 "nbformat_minor": 4
}
