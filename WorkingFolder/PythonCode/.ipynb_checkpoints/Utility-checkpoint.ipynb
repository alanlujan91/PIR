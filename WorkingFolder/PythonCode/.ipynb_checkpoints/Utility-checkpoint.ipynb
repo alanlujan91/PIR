{
 "cells": [
  {
   "cell_type": "code",
   "execution_count": 1,
   "id": "2223afa0",
   "metadata": {},
   "outputs": [],
   "source": [
    "import numba as nb\n",
    "import numpy as np\n",
    "from interpolation import interp, mlinterp\n",
    "from numba import jit,njit, float64, int64, boolean"
   ]
  },
  {
   "cell_type": "code",
   "execution_count": null,
   "id": "7f70b50e",
   "metadata": {},
   "outputs": [],
   "source": []
  },
  {
   "cell_type": "code",
   "execution_count": 2,
   "id": "a93b6a66",
   "metadata": {
    "code_folding": [
     0
    ]
   },
   "outputs": [],
   "source": [
    "def policyfunc(lc,\n",
    "               a_star,\n",
    "               σ_star,\n",
    "               discrete = True):\n",
    "    \"\"\"\n",
    "     * ifp is an instance of IFP\n",
    "        * a_star is the endogenous grid solution\n",
    "        * σ_star is optimal consumption on the grid    \n",
    "    \"\"\"\n",
    "    if discrete==True:\n",
    "        # Create consumption function by linear interpolation\n",
    "        σ =  lambda a, z_idx: interp(a_star[:, z_idx], σ_star[:, z_idx], a) \n",
    "    else:\n",
    "        # get z_grid \n",
    "        z_val = lc.z_val \n",
    "\n",
    "        # Create consumption function by linear interpolation\n",
    "        a = a_star[:,0]                                ## aseet grid \n",
    "        σ =  interpolate.interp2d(a, z_val, σ_star.T) \n",
    "    \n",
    "    return σ"
   ]
  },
  {
   "cell_type": "code",
   "execution_count": 3,
   "id": "b28fbde2",
   "metadata": {
    "code_folding": [
     0
    ]
   },
   "outputs": [],
   "source": [
    "def policyfuncMA(lc,\n",
    "                 aϵ_star,\n",
    "                 σ_star):\n",
    "    \"\"\"\n",
    "     * ifp is an instance of IFP\n",
    "        * aϵ_star is the endogenous grid solution\n",
    "        * σ_star is optimal consumption on the grid    \n",
    "    \"\"\"\n",
    "   \n",
    "   # get s_grid and eps grid \n",
    "    s_grid = lc.s_grid\n",
    "    eps_grid = lc.eps_grid \n",
    "\n",
    "    # Create consumption function by linear interpolation \n",
    "    σ =  interpolate.interp2d(eps_grid, s_grid, σ_star.T) \n",
    "    \n",
    "    return σ"
   ]
  },
  {
   "cell_type": "code",
   "execution_count": 4,
   "id": "9f162e9a",
   "metadata": {
    "code_folding": []
   },
   "outputs": [],
   "source": [
    "@njit\n",
    "def policyfuncMAjit(lc,\n",
    "                 aϵ_star,\n",
    "                 σ_star):\n",
    "    \"\"\"\n",
    "     * ifp is an instance of IFP\n",
    "        * aϵ_star is the endogenous grid solution\n",
    "        * σ_star is optimal consumption on the grid    \n",
    "    \"\"\"\n",
    "   \n",
    "   # get z_grid \n",
    "    s_grid = lc.s_grid\n",
    "    eps_grid = lc.eps_grid \n",
    "    \n",
    "    # Create consumption function by linear interpolation\n",
    "    σ =  lambda eps,a: mlinterp((eps_grid,s_grid),σ_star.T,(eps,a))\n",
    "    \n",
    "    return σ"
   ]
  },
  {
   "cell_type": "code",
   "execution_count": 5,
   "id": "d67ec492",
   "metadata": {},
   "outputs": [],
   "source": [
    "## a simple function that computes steady state of 2-state markov\n",
    "@njit\n",
    "def cal_ss_2markov(P):\n",
    "    ## an analytical solution for 2-state markov for double checking \n",
    "    ## when P's row sums up to 1\n",
    "    #P.T = [[q,1-p],[1-q,p]]\n",
    "    q = P.T[0,0]\n",
    "    p = P.T[1,1]\n",
    "    h = (1-p)/(2-p-q)\n",
    "    return np.array([h,1-h])"
   ]
  },
  {
   "cell_type": "code",
   "execution_count": null,
   "id": "fbf6789b",
   "metadata": {},
   "outputs": [],
   "source": [
    "# ==============================================================================\n",
    "# ============== Functions for generating state space grids  ===================\n",
    "# ============= Copied from HARK  ==============================================\n",
    "# ==============================================================================\n",
    "def make_grid_exp_mult(ming, maxg, ng, timestonest=20):\n",
    "    \"\"\"\n",
    "    Make a multi-exponentially spaced grid.\n",
    "\n",
    "    Parameters\n",
    "    ----------\n",
    "    ming : float\n",
    "        Minimum value of the grid\n",
    "    maxg : float\n",
    "        Maximum value of the grid\n",
    "    ng : int\n",
    "        The number of grid points\n",
    "    timestonest : int\n",
    "        the number of times to nest the exponentiation\n",
    "\n",
    "    Returns\n",
    "    -------\n",
    "    points : np.array\n",
    "        A multi-exponentially spaced grid\n",
    "\n",
    "    Original Matab code can be found in Chris Carroll's\n",
    "    [Solution Methods for Microeconomic Dynamic Optimization Problems]\n",
    "    (http://www.econ2.jhu.edu/people/ccarroll/solvingmicrodsops/) toolkit.\n",
    "    Latest update: 01 May 2015\n",
    "    \"\"\"\n",
    "    if timestonest > 0:\n",
    "        Lming = ming\n",
    "        Lmaxg = maxg\n",
    "        for j in range(timestonest):\n",
    "            Lming = np.log(Lming + 1)\n",
    "            Lmaxg = np.log(Lmaxg + 1)\n",
    "        Lgrid = np.linspace(Lming, Lmaxg, ng)\n",
    "        grid = Lgrid\n",
    "        for j in range(timestonest):\n",
    "            grid = np.exp(grid) - 1\n",
    "    else:\n",
    "        Lming = np.log(ming)\n",
    "        Lmaxg = np.log(maxg)\n",
    "        Lstep = (Lmaxg - Lming) / (ng - 1)\n",
    "        Lgrid = np.arange(Lming, Lmaxg + 0.000001, Lstep)\n",
    "        grid = np.exp(Lgrid)\n",
    "    return grid"
   ]
  },
  {
   "cell_type": "code",
   "execution_count": null,
   "id": "6351bf25",
   "metadata": {
    "code_folding": [
     1
    ]
   },
   "outputs": [],
   "source": [
    "## lorenz curve\n",
    "def lorenz_curve(grid_distribution,\n",
    "                 pdfs,\n",
    "                 nb_share_grid = 50):\n",
    "    \"\"\"\n",
    "    parameters\n",
    "    ======\n",
    "    grid_distribution: grid on which distribution is defined\n",
    "    pdfs: the fractions/pdfs of each grid ranges \n",
    "    \n",
    "    return\n",
    "    ======\n",
    "    lc_vals: the fraction of people corresponding whose total wealth reaches the corresponding share, x axis in lorenz curve\n",
    "    share_grids: different grid points of the share of total wealth, y axis in lorenz curve\n",
    "    \"\"\"\n",
    "    total = np.dot(grid_distribution,pdfs)\n",
    "    share_grids = np.linspace(0.0,0.99,nb_share_grid)\n",
    "    share_cum = np.multiply(grid_distribution,pdfs).cumsum()/total\n",
    "    lc_vals = []\n",
    "    for i,share in enumerate(share_grids):\n",
    "        where = min([x for x in range(len(share_cum)) if share_cum[x]>=share])\n",
    "        this_lc_val = pdfs[0:where].sum()\n",
    "        lc_vals.append(this_lc_val)\n",
    "    return np.array(lc_vals),share_grids\n",
    "\n",
    "\n"
   ]
  }
 ],
 "metadata": {
  "jupytext": {
   "encoding": "# -*- coding: utf-8 -*-",
   "formats": "ipynb,py:light"
  },
  "kernelspec": {
   "display_name": "Python 3 (ipykernel)",
   "language": "python",
   "name": "python3"
  },
  "language_info": {
   "codemirror_mode": {
    "name": "ipython",
    "version": 3
   },
   "file_extension": ".py",
   "mimetype": "text/x-python",
   "name": "python",
   "nbconvert_exporter": "python",
   "pygments_lexer": "ipython3",
   "version": "3.9.7"
  }
 },
 "nbformat": 4,
 "nbformat_minor": 5
}
