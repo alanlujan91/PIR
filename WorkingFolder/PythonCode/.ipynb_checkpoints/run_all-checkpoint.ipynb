{
 "cells": [
  {
   "cell_type": "markdown",
   "metadata": {},
   "source": [
    "\n",
    "## Replication of _Perceived Income Risks_\n",
    "\n",
    "- This notebook lists, sequentially, all the python codes/jupyter notebooks that generate both empirical and model results of the paper"
   ]
  },
  {
   "cell_type": "markdown",
   "metadata": {},
   "source": [
    "## Empirics\n",
    "\n",
    "1. [Density estimation of the survey answers](DensityEst.ipynb) (under test)\n",
    "   \n",
    "2. [Income risks decomposition](IncomeRisksEst.ipynb) that draws on the [income process class](IncomeProcess.ipynb)\n",
    "\n",
    "3. [Micro empirical analysis](MicroRiskProfile.ipynb) on the cross-sectional heterogeneity of perceived risks (PR)\n",
    "\n",
    "4. [Macro empirical analysis](MacroRiskProfile.ipynb) on how PR correlate with macroeconomic conditions, i.e. labor market tightness\n",
    "\n",
    "## Model\n",
    "\n",
    "1. [Parameters](PrepareParameters.ipynb)\n",
    "\n",
    "   - prepare the baseline parameters, stored in a txt file. \n",
    "\n",
    "\n",
    "1. [Life-cycle model](SolveLifeCycle.ipynb) \n",
    "   - [cross-validating the solutions with HARK](SolveLifeCycle-ComparisonHARK.ipynb)\n",
    "   - a model [extension](SolveLifeCycle-DC.ipynb) to allow adjustment cost of consumption (under development)\n",
    "\n",
    "2. [Aggregate dynamics and GE of the life cycle economy](LifeCycle-AggregateDynamics.ipynb) (no aggregate risks)\n",
    "\n",
    "   - a possible extension to allow aggregate risks (Krusell-Smith & life-cycle economy)\n",
    "\n",
    "3. [Markov regime swtiching momdel of subjective PR](SubjectiveProfileEst.ipynb)\n",
    "\n",
    "\n",
    "## Supporting utilities/resources \n",
    "\n",
    "\n",
    "\n",
    "1. [Utility](Utility.ipynb)\n",
    "   - used for solving the [life-cycle model](SolveLifeCycle.ipynb)\n",
    "   \n",
    "2. [Resource](resources.ipynb)\n",
    "2. [Latex table manipulation](TexTablesMover.ipynb)"
   ]
  },
  {
   "cell_type": "code",
   "execution_count": null,
   "metadata": {},
   "outputs": [],
   "source": []
  }
 ],
 "metadata": {
  "kernelspec": {
   "display_name": "Python 3 (ipykernel)",
   "language": "python",
   "name": "python3"
  },
  "language_info": {
   "codemirror_mode": {
    "name": "ipython",
    "version": 3
   },
   "file_extension": ".py",
   "mimetype": "text/x-python",
   "name": "python",
   "nbconvert_exporter": "python",
   "pygments_lexer": "ipython3",
   "version": "3.8.5"
  }
 },
 "nbformat": 4,
 "nbformat_minor": 4
}
