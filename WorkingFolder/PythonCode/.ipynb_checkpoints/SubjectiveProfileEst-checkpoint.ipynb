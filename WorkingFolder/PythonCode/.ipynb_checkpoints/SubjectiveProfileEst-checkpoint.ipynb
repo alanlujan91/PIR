{
 "cells": [
  {
   "cell_type": "markdown",
   "metadata": {},
   "source": [
    "## Estimation of subjective income risk profile using SCE data\n",
    "\n",
    "\n",
    "- This notebook does the estimation of the Markov switching model for income risk perceptions using data from SCE \n",
    "- parameters to estimate:\n",
    "   - $\\tilde \\Gamma_l$ and $\\tilde \\Gamma_h$ \n",
    "   - transition matrix $\\Omega$ with $p$ and $q$ as the staying probability in low and high risk states, respectively.\n",
    "  - where $\\tilde \\Gamma_l = \\{\\tilde \\sigma^l_\\psi,\\tilde \\sigma^l_\\theta, \\tilde{\\mho^l}, \\tilde{E^l}\\}$ and $\\tilde \\Gamma_h = \\{\\tilde \\sigma^h_\\psi,\\tilde \\sigma^h_\\theta, \\tilde{\\mho^h}, \\tilde{E^h}\\}$ where we impose the restriction that $\\tilde \\sigma^h_\\psi > \\tilde \\sigma^l_\\psi$ and $\\tilde \\sigma^h_\\theta > \\tilde \\sigma^l_\\theta$, $\\tilde{\\mho^h}>\\tilde{\\mho^l}$, and $\\tilde{E^h}<\\tilde{E^l}$.\n",
    " \n",
    "  \n",
    "Possible extensions (not implemented yet)\n",
    "- Specific to group, such as to age and education. \n",
    "- Conditional on macroeconomic cycles or labor market tightness"
   ]
  },
  {
   "cell_type": "code",
   "execution_count": 1,
   "metadata": {},
   "outputs": [],
   "source": [
    "import numpy as np\n",
    "from scipy.optimize import minimize \n",
    "import matplotlib.pyplot as plt \n",
    "import pandas as pd\n",
    "import statsmodels.api as sm\n",
    "\n",
    "from Utility import mkv2_M2Q, mkv2_Q2Y, mkv2_Y2M, mkv2_Y2Q"
   ]
  },
  {
   "cell_type": "code",
   "execution_count": 2,
   "metadata": {
    "code_folding": [
     0,
     15,
     47,
     62,
     75,
     79,
     83,
     105,
     125,
     136
    ],
    "lines_to_next_cell": 2
   },
   "outputs": [],
   "source": [
    "class Markov2Switching:\n",
    "    \"\"\"\n",
    "    A class that stores primitives for the Markov Regime Switching Model\n",
    "    %%%% Model %%%%%%%\n",
    "    % y_t = alpha+ beta * s_t + epsilon_t\n",
    "    % y is the observed variable;\n",
    "    % s_t =1 in high state; s_t = 0 in low state;\n",
    "    % q=p(s_t=0|s_t-1=0)\n",
    "    % p=p(s_t=1|s_t-1=1)\n",
    "    % Transition Matrix from [s=0,s=1]' is [q,1-p;1-q,p] \n",
    "    % para_est stores all estimates of parameters. \n",
    "    %%%%%%%%%%%%%%%%%\n",
    "\n",
    "    \"\"\"\n",
    "\n",
    "    def __init__(self,\n",
    "                 Y = None,\n",
    "                 paras = np.array([0.1,0.1,0.1,0.7,0.7]),\n",
    "                 nb_var = 1,\n",
    "                 state_dependence = False,\n",
    "                 AR = 0):  \n",
    "        \n",
    "        ## count how many variables \n",
    "        self.nb_var = nb_var\n",
    "        \n",
    "        if AR==0:\n",
    "            assert self.nb_var == int(len(paras)/5),'the nb of parameters needs to be equal to 5 x nb of variables'\n",
    "        elif AR==1:\n",
    "            assert self.nb_var == int(len(paras)/6),'the nb of parameters needs to be equal to 6 x nb of variables'\n",
    "          \n",
    "        self.paras = paras.reshape(self.nb_var,-1)\n",
    "        \n",
    "        self.Y = Y\n",
    "        ## be careful with the order \n",
    "        self.αs = self.paras[:,0]\n",
    "        self.βs = self.paras[:,1]\n",
    "        self.σs = self.paras[:,2]\n",
    "        self.qs = self.paras[:,3]\n",
    "        self.ps = self.paras[:,4]\n",
    "        if AR==0:\n",
    "            self.ϕ1s =np.zeros(self.nb_var)\n",
    "        elif AR==1:\n",
    "            self.ϕ1s = self.paras[:,5]\n",
    "        self.state_dependence = state_dependence\n",
    "        self.AR = AR \n",
    "    \n",
    "    ### pdf function of normal distribution \n",
    "    def norm_pdf(self,\n",
    "                 x,    ## value of the rm \n",
    "                 μ,    ## mean of the nromal\n",
    "                 σ):   ## std of the normal \n",
    "        \"\"\"\n",
    "        pdf of normal distribution mean μ and variance σ^2\n",
    "        \"\"\"\n",
    "        x_new = (x-μ)/σ\n",
    "        temp1 = 1/(np.sqrt(2*np.pi))\n",
    "        temp2 = np.exp(-(x_new**2/2))\n",
    "        return temp1*temp2 \n",
    "    \n",
    "    ## The functions below are help functions \n",
    "    ## that turn a hard constraint for parameters to an unconstrainted problem\n",
    "    ## prob_func  from R -> [0,1]\n",
    "    def prob_func(self,\n",
    "                   x):\n",
    "        \"\"\"\n",
    "        this bound function maps unconstrained x to y between 0 and 1\n",
    "        and it increases with x\n",
    "        \"\"\"\n",
    "        return np.exp(x)/(1+np.exp(x))     \n",
    "    \n",
    "    def prob_func_inv(self,\n",
    "                     y):\n",
    "        return np.log(y)-np.log(1-y)\n",
    "    \n",
    "    ## exp_func  from R --> [0,+infinity]\n",
    "    def exp_func(self,\n",
    "                 x):\n",
    "        return np.exp(x)\n",
    "    \n",
    "    def exp_func_inv(self,\n",
    "                     y):\n",
    "        return np.log(y)\n",
    "    \n",
    "    def get_model_para(self,\n",
    "                      para):\n",
    "        \"\"\"\n",
    "        unconstrained parameters recast into model parameters with constraints\n",
    "        \"\"\"\n",
    "        assert len(para)==self.nb_var*(5+self.AR),\"the nb of parameters is incorrect\"\n",
    "        paras = para.reshape(self.nb_var,-1)\n",
    "        \n",
    "        αs = paras[:,0]\n",
    "        βs = paras[:,1]\n",
    "        #np.concatenate([self.exp_func(paras[0:2,1]),\n",
    "        #                     np.array(-self.exp_func([paras[2,1]]))\n",
    "        #                    ])\n",
    "        σs = self.exp_func(paras[:,2])\n",
    "        qs = self.prob_func(paras[:,3])\n",
    "        ps = self.prob_func(paras[:,4])\n",
    "        if self.AR==1:\n",
    "            ϕ1s = self.prob_func(paras[:,5])\n",
    "        else:\n",
    "            ϕ1s = np.zeros(self.nb_var)\n",
    "        return αs,βs,σs,qs,ps,ϕ1s\n",
    "    \n",
    "    def make_para_dict(self,\n",
    "                      para):\n",
    "        \"\"\"\n",
    "        a function that creates a dictionary of parameters with names\n",
    "        \"\"\"\n",
    "        αs,βs,σs,qs,ps,ϕ1s =self.get_model_para(para)\n",
    "            \n",
    "        q = qs[0]\n",
    "        p =ps[0]\n",
    "        \n",
    "        model_para ={}\n",
    "        model_para['q']=q\n",
    "        model_para['p']=p\n",
    "        model_para['α']=αs\n",
    "        model_para['β']=βs\n",
    "        model_para['σ'] =σs\n",
    "        model_para['ϕ1']=ϕ1s\n",
    "                   \n",
    "        return model_para\n",
    "    \n",
    "    def steady_state(self,\n",
    "                      q,\n",
    "                      p):\n",
    "        \"\"\"\n",
    "        a function that computes the ss of a 2-state markov \n",
    "        \"\"\"\n",
    "        return ((1-p)/(2-p-q),\n",
    "                (1-q)/(2-p-q))\n",
    "    \n",
    "    \n",
    "    ## The key function that computes log-likelihood for a list of time series of realized data\n",
    "    def log_likelihood(self,\n",
    "                       Y_list,   ## a list of multiple series \n",
    "                       para):\n",
    "        \n",
    "        \"\"\"\n",
    "        inputs\n",
    "        ======\n",
    "        Y: a list of independent univariate/multivariate (a vector) time series for which the log-likilihood is computed jointly\n",
    "        para: parameters of the process sized of nb of vairalbes x nb of parameters, with the strict order of α,β,σ,q,p,ϕ1\n",
    "        \n",
    "        outputs\n",
    "        =======\n",
    "        llh_tot: total log-likelihood across all series\n",
    "        update1_list: list of updating probs s=1|Y_t at time t;\n",
    "        prdict1_list: list of prediction probs: s=1|Y_t-1 at time t-1;\n",
    "        f1_list: list of predicted probs: y_t|y_t-1;\n",
    "        \"\"\"\n",
    "        αs,βs,σs,qs,ps,ϕ1s = self.get_model_para(para)\n",
    "\n",
    "        update1_list =[]\n",
    "        prdict1_list =[]\n",
    "        f1_list =[]\n",
    "        \n",
    "        \n",
    "        ## starting from zero loglikelihood \n",
    "        \n",
    "        llh_tot = 0.0\n",
    "        \n",
    "\n",
    "        q = qs[0]\n",
    "        p = ps[0]\n",
    "        \n",
    "        for k in range(len(Y_list)):\n",
    "            Y = Y_list[k]  ## Y is a 1-d or nb_var-d array \n",
    "            \n",
    "            T = Y_list[k].shape[1] ## length of the series is not necessarily the same \n",
    "            \n",
    "            ## this loops over all periods \n",
    "            llh = 0.0\n",
    "\n",
    "            update0 = np.empty(T)\n",
    "            update1 = np.empty(T)\n",
    "            prdict1 = np.empty(T)\n",
    "            f1 = np.empty(T)\n",
    "\n",
    "            ## initilize the first period \n",
    "            update0[0], update1[0] = self.steady_state(q,   #p(s=0|Y_0) and  # p(s=1|Y_1)\n",
    "                                                       p)   \n",
    "            \n",
    "            for t in range(1,T-1):\n",
    "                prdict1[t] = (1-q)*update0[t-1]+p*update1[t-1]  #p(s_t=1|y_t-1);\n",
    "                \n",
    "                pdf_t_1 = prdict1[t]\n",
    "                pdf_t_0 = (1-prdict1[t])\n",
    "                \n",
    "                ## loop over differen time series \n",
    "                for x in range(self.nb_var):\n",
    "                    pdf_t_1 =pdf_t_1*self.norm_pdf(Y[x,t]-ϕ1s[x]*Y[x,t-1],αs[x]+βs[x],σs[x])  # f(y_t|s_t=1,Y_t-1)\n",
    "                    pdf_t_0 =pdf_t_0*self.norm_pdf(Y[x,t]-ϕ1s[x]*Y[x,t-1],αs[x],σs[x]) # f(y_t|s_t=0,Y_t-1)\n",
    "                \n",
    "                f1[t]= pdf_t_1+pdf_t_0     # f1= f(y_t|Y_t-1)\n",
    "                #print(f1[t])\n",
    "                llh_pred = np.log(f1[t])     # log( f(y_t|Y_t-1))\n",
    "                llh = llh + llh_pred         # llh_pred = log(f(y_t|Y_t-1))\n",
    "                update1[t] = pdf_t_1/(pdf_t_1+ pdf_t_0)  # p(s_t=0|y_t-1) \n",
    "                update0[t] = 1-update1[t]                # p(s_t=1|y_t-1)\n",
    "                \n",
    "            ## merge those probabilities \n",
    "            \n",
    "            update1_list.append(update1) \n",
    "            prdict1_list.append(prdict1)\n",
    "            f1_list.append(f1)\n",
    "        \n",
    "            ## sum across agents \n",
    "            llh_tot = llh_tot+llh\n",
    "        \n",
    "        return llh_tot,update1_list,prdict1_list,f1_list"
   ]
  },
  {
   "cell_type": "code",
   "execution_count": 3,
   "metadata": {
    "code_folding": []
   },
   "outputs": [],
   "source": [
    "## create the model \n",
    "mkv2 = Markov2Switching(AR=0,\n",
    "                        nb_var=1)"
   ]
  },
  {
   "cell_type": "markdown",
   "metadata": {},
   "source": [
    "### Test using fake simulated data with known parameters"
   ]
  },
  {
   "cell_type": "code",
   "execution_count": 4,
   "metadata": {
    "code_folding": [
     14
    ]
   },
   "outputs": [
    {
     "name": "stderr",
     "output_type": "stream",
     "text": [
      "OMP: Info #270: omp_set_nested routine deprecated, please use omp_set_max_active_levels instead.\n"
     ]
    }
   ],
   "source": [
    "import quantecon as qe\n",
    "from quantecon import MarkovChain\n",
    "\n",
    "## fake parameters \n",
    "α_fake = 0.1\n",
    "β_fake = 0.2\n",
    "σ_fake = 0.1\n",
    "q_fake = 0.7\n",
    "p_fake = 0.6\n",
    "ϕ1_fake = 0.0\n",
    "\n",
    "mkv_mat = np.array([[q_fake,1-q_fake],\n",
    "                    [1-p_fake,p_fake]])\n",
    "\n",
    "para_fake = np.array([α_fake,\n",
    "                      β_fake,\n",
    "                      mkv2.exp_func_inv(σ_fake),\n",
    "                      mkv2.prob_func_inv(q_fake),\n",
    "                      mkv2.prob_func_inv(p_fake),\n",
    "                      #mkv2.prob_func_inv(ϕ1_fake)\n",
    "                     ])\n",
    "T_fake = 12\n",
    "nb_sim = 300\n",
    "\n",
    "fake_regime_h_list=[]\n",
    "fake_data_list = []\n",
    "\n",
    "prob_ss0, prob_ss1 = mkv2.steady_state(q_fake,\n",
    "                                       p_fake)\n",
    "\n",
    "init_sim = (np.random.uniform(0,1,nb_sim)<=prob_ss1)*1\n",
    "\n",
    "for i in range(nb_sim):\n",
    "    mc = qe.MarkovChain(mkv_mat)\n",
    "    regime_h = mc.simulate(ts_length=T_fake+1,\n",
    "                          init= init_sim[i])\n",
    "    regime_l = 1-regime_h\n",
    "    shocks = np.random.randn(T_fake+1)*σ_fake\n",
    "    constant_l = α_fake\n",
    "    constant_h = α_fake+β_fake\n",
    "    y = (regime_l*constant_l+regime_h*constant_h)+shocks\n",
    "    ## AR1 process\n",
    "    for t in range(1,T_fake):\n",
    "        y[t]= ϕ1_fake*y[t-1]+y[t]\n",
    "    \n",
    "    ## add to the list \n",
    "    this_y_2d = y[1:].reshape(-1,len(y[1:]))\n",
    "    fake_data_list.append(this_y_2d)\n",
    "    fake_regime_h_list.append(regime_h)\n",
    "index = range(T_fake)"
   ]
  },
  {
   "cell_type": "code",
   "execution_count": 5,
   "metadata": {
    "code_folding": [
     14
    ]
   },
   "outputs": [
    {
     "data": {
      "text/plain": [
       "<matplotlib.legend.Legend at 0x7f7e12ebbca0>"
      ]
     },
     "execution_count": 5,
     "metadata": {},
     "output_type": "execute_result"
    },
    {
     "data": {
      "image/png": "[encoded data removed]",
      "text/plain": [
       "<Figure size 720x360 with 1 Axes>"
      ]
     },
     "metadata": {
      "needs_background": "light"
     },
     "output_type": "display_data"
    }
   ],
   "source": [
    "## plot the simulated data \n",
    "if len(fake_data_list)==1:\n",
    "    random_id = 0\n",
    "else:\n",
    "    random_id = np.random.randint(0,len(fake_data_list)-1)\n",
    "    \n",
    "## get the random data and regime sequence\n",
    "y = fake_data_list[random_id].T\n",
    "regime_h = fake_regime_h_list[random_id]\n",
    "\n",
    "plt.figure(figsize=(10,5))\n",
    "plt.title('Simulated time series and the hidden state')\n",
    "plt.plot(y,\n",
    "         label=r'$y_t$')\n",
    "plt.fill_between(index,\n",
    "                 np.min(y),\n",
    "                 np.max(y),\n",
    "                 where=regime_h[1:],\n",
    "                 color=\"k\", \n",
    "                 alpha=0.3,\n",
    "                label='high')\n",
    "plt.legend(loc=1)"
   ]
  },
  {
   "cell_type": "code",
   "execution_count": 6,
   "metadata": {
    "code_folding": []
   },
   "outputs": [],
   "source": [
    "## plot log-likelihood based on the true parameters \n",
    "\n",
    "llh,filter1,pr1,pdf = mkv2.log_likelihood(fake_data_list,\n",
    "                                          para_fake)"
   ]
  },
  {
   "cell_type": "code",
   "execution_count": 7,
   "metadata": {
    "code_folding": [
     0,
     19
    ]
   },
   "outputs": [
    {
     "data": {
      "text/plain": [
       "<matplotlib.legend.Legend at 0x7f7e00df5130>"
      ]
     },
     "execution_count": 7,
     "metadata": {},
     "output_type": "execute_result"
    },
    {
     "data": {
      "image/png": "[encoded data removed]",
      "text/plain": [
       "<Figure size 720x360 with 2 Axes>"
      ]
     },
     "metadata": {
      "needs_background": "light"
     },
     "output_type": "display_data"
    }
   ],
   "source": [
    "## plot the simulated data \n",
    "if len(fake_data_list)==1:\n",
    "    random_id = 0\n",
    "else:\n",
    "    random_id = np.random.randint(0,len(fake_data_list)-1)\n",
    "    \n",
    "## get the random data and regime sequence\n",
    "y = fake_data_list[random_id].T\n",
    "regime_h = fake_regime_h_list[random_id]\n",
    "\n",
    "\n",
    "## plot everything \n",
    "fig, ax = plt.subplots(figsize=(10,5))\n",
    "ax.set_title('Simulated time series and the hidden state')\n",
    "\n",
    "## time series of y \n",
    "ax.plot(y,\n",
    "         label=r'$y_t$')\n",
    "## regime \n",
    "ax.fill_between(index,\n",
    "                 np.min(y),\n",
    "                 np.max(y),\n",
    "                 where=regime_h[1:],\n",
    "                 color=\"k\", \n",
    "                 alpha=0.3,\n",
    "                label='high')\n",
    "ax2 = ax.twinx()\n",
    "## filter prob\n",
    "ax2.plot(filter1[random_id][:-1],\n",
    "         'r--',\n",
    "        label='filtered prob with true para')\n",
    "ax.legend(loc=1)\n",
    "ax2.legend(loc=2)"
   ]
  },
  {
   "cell_type": "code",
   "execution_count": 8,
   "metadata": {
    "code_folding": [
     0,
     2
    ],
    "lines_to_next_cell": 2
   },
   "outputs": [
    {
     "name": "stdout",
     "output_type": "stream",
     "text": [
      "success?  False\n",
      "fake TRUE parameters\n",
      " {'q': 0.7, 'p': 0.5999999999999999, 'α': array([0.1]), 'β': array([0.2]), 'σ': array([0.1]), 'ϕ1': array([0.])}\n",
      "initial guess of the parameters\n",
      " {'q': 0.7, 'p': 0.5999999999999999, 'α': array([0.1]), 'β': array([0.2]), 'σ': array([0.1]), 'ϕ1': array([0.])}\n",
      "estimated parameters\n",
      " {'q': 0.8240118212687729, 'p': 0.5334634204318792, 'α': array([0.18560371]), 'β': array([3.56744518e-05]), 'σ': array([0.21777886]), 'ϕ1': array([0.])}\n"
     ]
    }
   ],
   "source": [
    "## try estimation\n",
    "\n",
    "obj = lambda para: -mkv2.log_likelihood(fake_data_list,\n",
    "                                        para)[0]   ## only the first output\n",
    "\n",
    "\n",
    "## tight bounds for some parameters \n",
    "sigma_ub = np.mean([np.std(np.array(x)) for x in fake_data_list])\n",
    "sigma_inv_ub = mkv2.exp_func_inv(sigma_ub)\n",
    "q_lb = 0.5  ## persistent \n",
    "q_inv_lb = mkv2.prob_func_inv(q_lb) \n",
    "p_lb = 0.5 ## persistent \n",
    "p_inv_lb = mkv2.prob_func_inv(p_lb)\n",
    "\n",
    "## estimation \n",
    "#guess = (0.2,0.3,0.1,0.1,0.4)\n",
    "guess = para_fake\n",
    "#bounds = ((-0.3,1),(-2,2),(-2,2),(-4,1),(-4,1),) \n",
    "bounds = ((None,None),(0.0,None),(-1,sigma_inv_ub),(None,None),(None,None),)\n",
    "\n",
    "result = minimize(obj,\n",
    "                    x0 = guess,\n",
    "                    method='trust-constr',   #SLSQP\n",
    "                    bounds = bounds,\n",
    "                    options={'disp': False,\n",
    "                            }\n",
    "                   )\n",
    "print('success? ',result['success'])\n",
    "para_est = result['x']\n",
    "\n",
    "\n",
    "para_fake_dict = mkv2.make_para_dict(para_fake)\n",
    "para_guess_dict = mkv2.make_para_dict(guess)\n",
    "para_est_dict = mkv2.make_para_dict(para_est)\n",
    "\n",
    "\n",
    "#results\n",
    "print(\"fake TRUE parameters\\n\",para_fake_dict)\n",
    "print(\"initial guess of the parameters\\n\",para_guess_dict)\n",
    "print(\"estimated parameters\\n\",para_est_dict)"
   ]
  },
  {
   "cell_type": "code",
   "execution_count": 9,
   "metadata": {},
   "outputs": [],
   "source": [
    "#Based on estimates of parameters and data; compute filtered probabilities\n",
    "\n",
    "llh,filter1,pr1,pdf = mkv2.log_likelihood(fake_data_list,\n",
    "                                          para_est)\n",
    "# filter1: prob of good state;\n",
    "# pr1: predicted prob of good state "
   ]
  },
  {
   "cell_type": "code",
   "execution_count": 10,
   "metadata": {
    "code_folding": [
     0,
     1,
     3,
     17,
     20
    ]
   },
   "outputs": [
    {
     "data": {
      "text/plain": [
       "<matplotlib.legend.Legend at 0x7f7e13163cd0>"
      ]
     },
     "execution_count": 10,
     "metadata": {},
     "output_type": "execute_result"
    },
    {
     "data": {
      "image/png": "[encoded data removed]",
      "text/plain": [
       "<Figure size 720x360 with 2 Axes>"
      ]
     },
     "metadata": {
      "needs_background": "light"
     },
     "output_type": "display_data"
    }
   ],
   "source": [
    "## plot the simulated data \n",
    "if len(fake_data_list)==1:\n",
    "    random_id = 0\n",
    "else:\n",
    "    random_id = np.random.randint(0,len(fake_data_list)-1)\n",
    "    \n",
    "## get the random data and regime sequence\n",
    "y = fake_data_list[random_id].T\n",
    "regime_h = fake_regime_h_list[random_id]\n",
    "\n",
    "\n",
    "## plot everything \n",
    "\n",
    "fig, ax = plt.subplots(figsize=(10,5))\n",
    "ax.set_title('Simulated time series and the hidden state')\n",
    "\n",
    "## time series of y \n",
    "ax.plot(y,\n",
    "         label=r'$y_t$')\n",
    "## regime \n",
    "ax.fill_between(index,\n",
    "                 np.min(y),\n",
    "                 np.max(y),\n",
    "                 where=regime_h[1:],\n",
    "                 color=\"k\", \n",
    "                 alpha=0.3,\n",
    "                label='high')\n",
    "ax2 = ax.twinx()\n",
    "## filter prob\n",
    "ax2.plot(filter1[random_id][:-1],\n",
    "         'r--',\n",
    "        label='filtered prob with est para')\n",
    "ax.legend(loc=1)\n",
    "ax2.legend(loc=2)"
   ]
  },
  {
   "cell_type": "markdown",
   "metadata": {},
   "source": [
    "### Estimation of SCE data"
   ]
  },
  {
   "cell_type": "code",
   "execution_count": 11,
   "metadata": {
    "lines_to_next_cell": 2
   },
   "outputs": [],
   "source": [
    "import pandas as pd\n",
    "import statsmodels.formula.api as smf\n",
    "import numpy as np\n",
    "\n",
    "## precision of showing float  \n",
    "pd.options.display.float_format = '{:,.3f}'.format"
   ]
  },
  {
   "cell_type": "code",
   "execution_count": 12,
   "metadata": {
    "code_folding": [
     0,
     14,
     28
    ],
    "lines_to_next_cell": 2
   },
   "outputs": [],
   "source": [
    "## import data \n",
    "dataset = pd.read_stata('../SurveyData/SCE/IncExpSCEProbIndM.dta')   \n",
    "\n",
    "## variables \n",
    "vars_id = ['userid','date']\n",
    "moms_nom = ['Q24_mean','Q24_iqr','Q24_var']\n",
    "moms_real = ['Q24_rmean','Q24_rvar']\n",
    "ue_risks = ['Q13new','Q22new']\n",
    "vars_demog = ['D6']   ## level of income, 11 groups \n",
    "\n",
    "vars_job = ['Q10_1',  # full-time \n",
    "            'Q10_2',  # part-time\n",
    "            'Q12new'] ## =1 worked for others; = 2 self-employment \n",
    "\n",
    "vars_demog_sub = ['Q32',  ## age \n",
    "                  'Q33',  ## gender \n",
    "                  'Q36',  ## education (1-8 low to high, 9 other)\n",
    "                  'educ_gr',##education group (1-3)\n",
    "                  'byear', ## year of birth\n",
    "                  'tenure', ## nb of months staying in the survey \n",
    "                   'nlit'] \n",
    "\n",
    "vars_all_reg_long = (vars_id+moms_nom + moms_real+ue_risks+vars_demog+vars_demog_sub+vars_job)\n",
    "\n",
    "## select dataset \n",
    "SCEM = dataset[vars_all_reg_long]\n",
    "\n",
    "\n",
    "SCEM = SCEM.rename(columns={'Q24_mean': 'incexp',\n",
    "                           'Q24_var': 'incvar',\n",
    "                           'Q24_iqr': 'inciqr',\n",
    "                           'Q24_rmean':'rincexp',\n",
    "                           'Q24_rvar': 'rincvar',\n",
    "                           'Q13new':'UE_s',\n",
    "                           'Q22new':'UE_f'\n",
    "                           })\n",
    "\n",
    "\n",
    "SCEM = SCEM.rename(columns = {'D6':'HHinc',\n",
    "                              'Q10_1':'fulltime',\n",
    "                              'Q10_2':'parttime',\n",
    "                              'Q12new':'selfemp',\n",
    "                              'Q32':'age',\n",
    "                              'Q33':'gender',\n",
    "                              'Q36':'educ'})\n",
    "\n",
    "SCEM = SCEM.dropna(subset=['date'])\n",
    "\n",
    "## add year and month variable \n",
    "SCEM['year'] = SCEM.date.dt.year\n",
    "SCEM['month'] = SCEM.date.dt.month \n",
    "\n",
    "\n",
    "## new variables \n",
    "SCEM['age2']=SCEM['age']**2\n",
    "SCEM['age3']=SCEM['age']**3\n",
    "SCEM['age4']=SCEM['age']**4\n",
    "\n",
    "## take the log \n",
    "\n",
    "SCEM['lrincvar'] = np.log(SCEM['rincvar'])\n",
    "\n",
    "### some data transformation \n",
    "\n",
    "SCEM['UE_s'] = SCEM['UE_s']/100\n",
    "SCEM['UE_f'] = SCEM['UE_f']/100\n",
    "\n",
    "SCEM['U2U_prob'] = 1-SCEM['UE_f']   #. 1- prob of find a job\n",
    "SCEM['E2E_prob'] = 1- SCEM['UE_s']*(1-SCEM['UE_f'])   ## 1- prob(loses the job and not finding one)\n",
    "\n",
    "\n",
    "## trucate 0 and 1s for probs \n",
    "SCEM['U2U_prob_truc'] = SCEM['U2U_prob']\n",
    "SCEM['U2U_prob_truc'] = SCEM['U2U_prob_truc'].mask(SCEM['U2U_prob_truc']>=1.0,0.99)\n",
    "SCEM['U2U_prob_truc'] = SCEM['U2U_prob_truc'].mask(SCEM['U2U_prob_truc']<=0.0,0.01)\n",
    "\n",
    "\n",
    "SCEM['E2E_prob_truc'] = SCEM['E2E_prob']\n",
    "SCEM['E2E_prob_truc'] = SCEM['E2E_prob_truc'].mask(SCEM['E2E_prob_truc']>=1.0,0.99)\n",
    "SCEM['E2E_prob_truc'] = SCEM['E2E_prob_truc'].mask(SCEM['E2E_prob_truc']<=0.0,0.01)\n",
    "\n",
    "\n",
    "### transform 0-1 prob to a R \n",
    "\n",
    "prob_inv_func = lambda x: np.log(x)-np.log(1-x)\n",
    "SCEM['U2U_prob_e'] = SCEM['U2U_prob_truc'].apply(prob_inv_func)\n",
    "SCEM['E2E_prob_e'] =  SCEM['E2E_prob_truc'].apply(prob_inv_func)"
   ]
  },
  {
   "cell_type": "code",
   "execution_count": 13,
   "metadata": {},
   "outputs": [
    {
     "name": "stdout",
     "output_type": "stream",
     "text": [
      "nb of observations before: 98593\n",
      "nb of observations after dropping low numeracy/low education sample: 38515\n"
     ]
    }
   ],
   "source": [
    "## filter by basic/necessary criteria  \n",
    "print('nb of observations before:',str(len(SCEM)))\n",
    "SCEM =SCEM[SCEM['tenure']>=3]\n",
    "SCEM = SCEM[SCEM['fulltime']==1]\n",
    "SCEM = SCEM[SCEM['selfemp']==1]  ## working for someone \n",
    "SCEM =SCEM[(SCEM['age']<=65) & (SCEM['age']>=25) ]\n",
    "#SCEM =SCEM[SCEM['nlit']>=2.0]\n",
    "#SCEM =SCEM[SCEM['educ']>=2]\n",
    "print('nb of observations after dropping low numeracy/low education sample:',str(len(SCEM)))"
   ]
  },
  {
   "cell_type": "code",
   "execution_count": 14,
   "metadata": {
    "code_folding": [
     6
    ],
    "lines_to_next_cell": 2
   },
   "outputs": [],
   "source": [
    "## first step regression\n",
    "\n",
    "vars_list = ['lrincvar',\n",
    "            'U2U_prob_e',\n",
    "            'E2E_prob_e']  \n",
    "\n",
    "for var in vars_list:\n",
    "    ## demeaned \n",
    "    SCEM[var+'_dm'] = SCEM[var]-SCEM.groupby('userid')[var].transform('mean')\n",
    "    \n",
    "    ## run a panel regression to get the residuls \n",
    "    model = smf.ols(formula = var+'~ C(date)+C(HHinc)+C(gender)+age2+age3+age4+C(educ_gr)',\n",
    "                data = SCEM)\n",
    "    #model = smf.ols(formula = var+'_dm~ C(date)',\n",
    "    #            data = SCEM)\n",
    "    result = model.fit()\n",
    "    residuls = result.resid\n",
    "    SCEM[var+'_rd'] = residuls"
   ]
  },
  {
   "cell_type": "code",
   "execution_count": 15,
   "metadata": {},
   "outputs": [
    {
     "name": "stdout",
     "output_type": "stream",
     "text": [
      "unconditional correlation\n"
     ]
    },
    {
     "data": {
      "text/html": [
       "<div>\n",
       "<style scoped>\n",
       "    .dataframe tbody tr th:only-of-type {\n",
       "        vertical-align: middle;\n",
       "    }\n",
       "\n",
       "    .dataframe tbody tr th {\n",
       "        vertical-align: top;\n",
       "    }\n",
       "\n",
       "    .dataframe thead th {\n",
       "        text-align: right;\n",
       "    }\n",
       "</style>\n",
       "<table border=\"1\" class=\"dataframe\">\n",
       "  <thead>\n",
       "    <tr style=\"text-align: right;\">\n",
       "      <th></th>\n",
       "      <th>lrincvar</th>\n",
       "      <th>U2U_prob_e</th>\n",
       "      <th>E2E_prob_e</th>\n",
       "    </tr>\n",
       "  </thead>\n",
       "  <tbody>\n",
       "    <tr>\n",
       "      <th>lrincvar</th>\n",
       "      <td>1.000</td>\n",
       "      <td>0.019</td>\n",
       "      <td>-0.078</td>\n",
       "    </tr>\n",
       "    <tr>\n",
       "      <th>U2U_prob_e</th>\n",
       "      <td>0.019</td>\n",
       "      <td>1.000</td>\n",
       "      <td>-0.490</td>\n",
       "    </tr>\n",
       "    <tr>\n",
       "      <th>E2E_prob_e</th>\n",
       "      <td>-0.078</td>\n",
       "      <td>-0.490</td>\n",
       "      <td>1.000</td>\n",
       "    </tr>\n",
       "  </tbody>\n",
       "</table>\n",
       "</div>"
      ],
      "text/plain": [
       "            lrincvar  U2U_prob_e  E2E_prob_e\n",
       "lrincvar       1.000       0.019      -0.078\n",
       "U2U_prob_e     0.019       1.000      -0.490\n",
       "E2E_prob_e    -0.078      -0.490       1.000"
      ]
     },
     "execution_count": 15,
     "metadata": {},
     "output_type": "execute_result"
    }
   ],
   "source": [
    "## correlation \n",
    "print('unconditional correlation')\n",
    "SCEM[vars_list].corr()"
   ]
  },
  {
   "cell_type": "code",
   "execution_count": 16,
   "metadata": {
    "code_folding": [],
    "lines_to_next_cell": 2
   },
   "outputs": [],
   "source": [
    "## convert the panel data of rincvar into a list of time series sequence\n",
    "vars_rd_list = ['lrincvar_rd',\n",
    "                'U2U_prob_e_rd',\n",
    "                'E2E_prob_e_rd']  "
   ]
  },
  {
   "cell_type": "code",
   "execution_count": 17,
   "metadata": {},
   "outputs": [
    {
     "name": "stdout",
     "output_type": "stream",
     "text": [
      "residual correlation\n"
     ]
    },
    {
     "data": {
      "text/html": [
       "<div>\n",
       "<style scoped>\n",
       "    .dataframe tbody tr th:only-of-type {\n",
       "        vertical-align: middle;\n",
       "    }\n",
       "\n",
       "    .dataframe tbody tr th {\n",
       "        vertical-align: top;\n",
       "    }\n",
       "\n",
       "    .dataframe thead th {\n",
       "        text-align: right;\n",
       "    }\n",
       "</style>\n",
       "<table border=\"1\" class=\"dataframe\">\n",
       "  <thead>\n",
       "    <tr style=\"text-align: right;\">\n",
       "      <th></th>\n",
       "      <th>lrincvar_rd</th>\n",
       "      <th>U2U_prob_e_rd</th>\n",
       "      <th>E2E_prob_e_rd</th>\n",
       "    </tr>\n",
       "  </thead>\n",
       "  <tbody>\n",
       "    <tr>\n",
       "      <th>lrincvar_rd</th>\n",
       "      <td>1.000</td>\n",
       "      <td>0.030</td>\n",
       "      <td>-0.078</td>\n",
       "    </tr>\n",
       "    <tr>\n",
       "      <th>U2U_prob_e_rd</th>\n",
       "      <td>0.030</td>\n",
       "      <td>1.000</td>\n",
       "      <td>-0.483</td>\n",
       "    </tr>\n",
       "    <tr>\n",
       "      <th>E2E_prob_e_rd</th>\n",
       "      <td>-0.078</td>\n",
       "      <td>-0.483</td>\n",
       "      <td>1.000</td>\n",
       "    </tr>\n",
       "  </tbody>\n",
       "</table>\n",
       "</div>"
      ],
      "text/plain": [
       "               lrincvar_rd  U2U_prob_e_rd  E2E_prob_e_rd\n",
       "lrincvar_rd          1.000          0.030         -0.078\n",
       "U2U_prob_e_rd        0.030          1.000         -0.483\n",
       "E2E_prob_e_rd       -0.078         -0.483          1.000"
      ]
     },
     "execution_count": 17,
     "metadata": {},
     "output_type": "execute_result"
    }
   ],
   "source": [
    "## correlation \n",
    "print('residual correlation')\n",
    "SCEM[vars_rd_list].corr()"
   ]
  },
  {
   "cell_type": "code",
   "execution_count": 18,
   "metadata": {
    "code_folding": [
     0
    ]
   },
   "outputs": [
    {
     "name": "stdout",
     "output_type": "stream",
     "text": [
      "how many invidividuals have answers in successive months? 3707\n"
     ]
    }
   ],
   "source": [
    "## convert it to a list of arrays storing all time series data for each individual\n",
    "\n",
    "SCEM_sub = SCEM[['userid']+vars_rd_list].dropna(how='any')\n",
    "\n",
    "unique_ids = list(SCEM_sub['userid'].unique())\n",
    "\n",
    "SCE_list = [SCEM_sub[SCEM_sub['userid']==ID][vars_rd_list].T.to_numpy() for ID in unique_ids]\n",
    "\n",
    "SCE_list = [x for x in SCE_list if ~np.isnan(np.array(x)).any() and x.shape[1]>=3]\n",
    "\n",
    "print('how many invidividuals have answers in successive months?',len(SCE_list))"
   ]
  },
  {
   "cell_type": "code",
   "execution_count": 19,
   "metadata": {
    "code_folding": [
     0
    ]
   },
   "outputs": [
    {
     "data": {
      "image/png": "[encoded data removed]",
      "text/plain": [
       "<Figure size 720x576 with 3 Axes>"
      ]
     },
     "metadata": {
      "needs_background": "light"
     },
     "output_type": "display_data"
    }
   ],
   "source": [
    "## plot the simulated data \n",
    "random_id = np.random.randint(0,len(SCE_list)-1)\n",
    "\n",
    "fig, axes = plt.subplots(3,1,figsize=(10,8))\n",
    "axes[0].set_title(\"A random respondent's risk perceptions from the survey\")\n",
    "axes[0].plot(SCE_list[random_id][0,:],\n",
    "         'o-',\n",
    "         label='perceived earnign risk')\n",
    "axes[0].legend(loc=1)\n",
    "axes[1].plot(SCE_list[random_id][1,:],\n",
    "         'o-',\n",
    "         label='perceived U2E prob')\n",
    "axes[1].legend(loc=1)\n",
    "axes[2].plot(SCE_list[random_id][2,:],\n",
    "         'o-',\n",
    "         label='perceived E2E prob')\n",
    "axes[2].legend(loc=1)\n",
    "fig.savefig('../Graphs/sce/markov_example.png')"
   ]
  },
  {
   "cell_type": "code",
   "execution_count": 33,
   "metadata": {
    "code_folding": [],
    "lines_to_next_cell": 2
   },
   "outputs": [],
   "source": [
    "## initialize the model based on the SCE  \n",
    "\n",
    "AR = 0\n",
    "nb_var = 3\n",
    "\n",
    "\n",
    "## impose bounds on some parameters with sensible priors\n",
    "\n",
    "## the size of the shock cannot exceed the sample variation\n",
    "sigma_ub0 = np.mean([np.std(np.array(x[0,:])) for x in SCE_list])\n",
    "sigma_inv_ub0 = SCE_mkv2.exp_func_inv(sigma_ub0)\n",
    "\n",
    "sigma_ub1 = np.mean([np.std(np.array(x[1,:])) for x in SCE_list])\n",
    "sigma_inv_ub1 = SCE_mkv2.exp_func_inv(sigma_ub1)\n",
    "\n",
    "sigma_ub2 = np.mean([np.std(np.array(x[2,:])) for x in SCE_list])\n",
    "sigma_inv_ub2 = SCE_mkv2.exp_func_inv(sigma_ub1)\n",
    "\n",
    "## staying probabilities of both 2 states are above half \n",
    "q_lb = 0.5  ## persistent \n",
    "q_inv_lb = SCE_mkv2.prob_func_inv(q_lb) \n",
    "p_lb = 0.5 ## persistent \n",
    "p_inv_lb = SCE_mkv2.prob_func_inv(p_lb)\n",
    "\n",
    "\n",
    "\n",
    "if AR ==0:\n",
    "    if nb_var==3:\n",
    "        paras_init = np.array([0.1,0.1,0.1,0.7,0.7,\n",
    "                               0.1,0.1,0.1,0.7,0.7,\n",
    "                               0.1,-0.1,0.1,0.7,0.7])\n",
    "        guess = np.array([0.2,0.4,-0.5,0.1,0.4,\n",
    "                0.2,0.4,-2,0.1,0.4,\n",
    "                0.2,-0.1,-2,0.1,0.4])\n",
    "\n",
    "\n",
    "        bounds = ((None,None),(0.0,None),(-1,sigma_inv_ub0),(q_lb,None),(p_inv_lb,None),\n",
    "                 (None,None),(0.0,None),(-3,sigma_inv_ub1),(None,None),(None,None),\n",
    "                 (None,None),(None,0.0),(-3,sigma_inv_ub2),(None,None),(None,None),)\n",
    "        \n",
    "    elif nb_var ==1:\n",
    "        paras_init = np.array([0.1,0.1,0.1,0.7,0.7])\n",
    "        guess = np.array([0.2,0.4,-0.5,0.1,0.4,0.8])\n",
    "        bounds = ((None,None),(0.0,None),(-1,sigma_inv_ub0),(q_lb,None),(p_inv_lb,None),)\n",
    "\n",
    "elif AR==1:\n",
    "    if nb_var==3:\n",
    "        paras_init= np.array([0.1,0.1,0.1,0.7,0.7,0.8,\n",
    "                              0.1,0.1,0.1,0.7,0.7,0.8,\n",
    "                              0.1,-0.1,0.1,0.7,0.7,0.9])\n",
    "        guess = np.array([0.2,0.4,-0.5,0.1,0.4,0.8,\n",
    "                        0.2,0.4,-2,0.1,0.4,0.8,\n",
    "                        0.2,-0.1,-2,0.1,0.4,0.8])\n",
    "        \n",
    "        bounds = ((None,None),(0.0,None),(-1,None),(q_lb,None),(None,None),(None,None),\n",
    "                 (None,None),(0.0,None),(-3,None),(None,None),(None,None),(None,None),\n",
    "                 (None,None),(None,0.0),(-3,None),(None,None),(None,None),(None,None),)\n",
    "        \n",
    "    elif nb_var==1:\n",
    "        paras_init= np.array([0.1,0.1,0.1,0.7,0.7,0.8])\n",
    "        \n",
    "        guess = np.array([0.2,0.4,-0.5,0.1,0.4,0.8,0.8])\n",
    "        \n",
    "        bounds = ((None,None),(0.0,None),(-1,sigma_inv_ub0),(q_lb,None),(p_inv_lb,None),(None,None),)\n",
    "    \n",
    "    \n",
    "SCE_mkv2 = Markov2Switching(AR=AR,\n",
    "                            paras = paras_init,\n",
    "                            nb_var = nb_var)\n",
    "\n",
    "## objective func\n",
    "SCE_obj = lambda para: -SCE_mkv2.log_likelihood(SCE_list,\n",
    "                                                para)[0]   ## only the first output"
   ]
  },
  {
   "cell_type": "code",
   "execution_count": 34,
   "metadata": {
    "code_folding": [],
    "lines_to_next_cell": 0
   },
   "outputs": [
    {
     "name": "stderr",
     "output_type": "stream",
     "text": [
      "/var/folders/39/ks6jc__9375c2fl7h7pwq5jh0000gn/T/ipykernel_48146/3769514773.py:199: RuntimeWarning: divide by zero encountered in log\n",
      "  llh_pred = np.log(f1[t])     # log( f(y_t|Y_t-1))\n",
      "/var/folders/39/ks6jc__9375c2fl7h7pwq5jh0000gn/T/ipykernel_48146/3769514773.py:201: RuntimeWarning: invalid value encountered in double_scalars\n",
      "  update1[t] = pdf_t_1/(pdf_t_1+ pdf_t_0)  # p(s_t=0|y_t-1)\n"
     ]
    },
    {
     "name": "stdout",
     "output_type": "stream",
     "text": [
      "Inequality constraints incompatible    (Exit mode 4)\n",
      "            Current function value: nan\n",
      "            Iterations: 1\n",
      "            Function evaluations: 16\n",
      "            Gradient evaluations: 1\n",
      "success?  False\n",
      "initial guess of the parameters\n",
      " {'q': 0.52497918747894, 'p': 0.598687660112452, 'α': array([0.2, 0.2, 0.2]), 'β': array([ 0.4,  0.4, -0.1]), 'σ': array([0.60653066, 0.13533528, 0.13533528]), 'ϕ1': array([0., 0., 0.])}\n",
      "estimated parameters\n",
      " {'q': 0.6224593312018546, 'p': 0.598687660112452, 'α': array([0.2, 0.2, 0.2]), 'β': array([ 0.4,  0.4, -0.1]), 'σ': array([0.60653066, 0.13533528, 0.13533528]), 'ϕ1': array([0., 0., 0.])}\n"
     ]
    }
   ],
   "source": [
    "\n",
    "result = minimize(SCE_obj,\n",
    "                  x0 = guess,\n",
    "                  method='SLSQP',   #SLSQP\n",
    "                  bounds = bounds,\n",
    "                  options={'disp': True,\n",
    "                            'maxiter':20000}\n",
    "                   )\n",
    "print('success? ',result['success'])\n",
    "SCE_para_est = result['x']\n",
    "## get alpha, beta, sigma, q, p \n",
    "\n",
    "## get model parameters \n",
    "guess_para_model = SCE_mkv2.make_para_dict(guess)\n",
    "SCE_para_model_est = SCE_mkv2.make_para_dict(SCE_para_est)\n",
    "\n",
    "#results\n",
    "print(\"initial guess of the parameters\\n\",guess_para_model)\n",
    "print(\"estimated parameters\\n\",SCE_para_model_est)"
   ]
  },
  {
   "cell_type": "code",
   "execution_count": null,
   "metadata": {
    "lines_to_next_cell": 2
   },
   "outputs": [],
   "source": [
    "## get the kappa \n",
    "\n",
    "risks_est = pd.read_stata('../OtherData/sipp/sipp_history_vol_decomposed.dta')\n",
    "## risks of permanent and transitory component \n",
    "\n",
    "## p/t ratio \n",
    "kappas_sipp  = risks_est['permanent']/risks_est['transitory']\n",
    "kappa_sipp = np.median(kappas_sipp.dropna())\n",
    "kappa = kappa_sipp ## ratio of permanent and transitory risks "
   ]
  },
  {
   "cell_type": "code",
   "execution_count": null,
   "metadata": {
    "code_folding": [
     0,
     8,
     75
    ],
    "lines_to_next_cell": 2
   },
   "outputs": [],
   "source": [
    "## create a dictionary for storing QUARTERLY parameters \n",
    "\n",
    "model_para_q_est = {}\n",
    "\n",
    "############################################\n",
    "## from yeraly to monthly risk then to quarterly \n",
    "############################################\n",
    "\n",
    "model_para_q_est['q'],model_para_q_est['p'] = mkv2_M2Q(SCE_para_model_est['q'],\n",
    "                                                   SCE_para_model_est['p'])\n",
    "\n",
    "alpha = SCE_para_model_est['α'][0]\n",
    "beta = SCE_para_model_est['β'][0]\n",
    "\n",
    "model_para_q_est['\\tilde\\sigma_\\psi^l'] = np.sqrt(3*np.exp(alpha)/(12+1/(12*kappa**2)))\n",
    "model_para_q_est['\\tilde\\sigma_\\theta^l'] =  1/3*model_para_q_est['\\tilde\\sigma_\\psi^l']/kappa\n",
    "model_para_q_est['\\tilde\\sigma_\\psi^h'] =  np.sqrt(3*np.exp(alpha+beta)/(12+1/(12*kappa**2)))\n",
    "model_para_q_est['\\tilde\\sigma_\\theta^h'] =  1/3*model_para_q_est['\\tilde\\sigma_\\psi^h']/kappa\n",
    "\n",
    "alpha_q = SCE_para_model_est['α'][1]\n",
    "beta_q = SCE_para_model_est['α'][1]+SCE_para_model_est['β'][1]\n",
    "\n",
    "alpha_p = SCE_para_model_est['α'][2]\n",
    "beta_p = SCE_para_model_est['α'][2]+SCE_para_model_est['β'][2]\n",
    "\n",
    "\n",
    "model_para_q_est['\\tilde \\mho^l'],model_para_q_est['\\tilde E^l'] = mkv2_Y2Q(SCE_mkv2.prob_func(alpha_q),\n",
    "                                                                        SCE_mkv2.prob_func(alpha_p))\n",
    "\n",
    "model_para_q_est['\\tilde \\mho^h'], model_para_q_est['\\tilde E^h']=  mkv2_Y2Q(SCE_mkv2.prob_func(alpha_q+beta_q),\n",
    "                                                                         SCE_mkv2.prob_func(alpha_p+beta_p))\n",
    "\n",
    "print('quarterly SCE parameters\\n',model_para_q_est)\n",
    "\n",
    "\n",
    "## convert to a dataframe \n",
    "\n",
    "\n",
    "SCE_para_est_q_df = pd.DataFrame.from_dict(model_para_q_est,\n",
    "                                         orient='index',\n",
    "                                         dtype=None, \n",
    "                                         columns=['baseline']\n",
    "                                        )\n",
    "\n",
    "## output tables \n",
    "\n",
    "beginningtex = \"\"\"\n",
    "\\\\begin{table}[p]\n",
    "\\\\centering\n",
    "\\\\begin{adjustbox}{width=0.3\\\\textwidth}\n",
    "\\\\begin{threeparttable}\n",
    "\\\\caption{Estimated subjective risk perceptions}\n",
    "\\\\label{tab:PRMarkovEst}\"\"\"\n",
    "\n",
    "endtex = \"\"\"\\\\begin{tablenotes}\\item This table reports estimates of the parameters \n",
    "for the 2-state Markov switching model of subjective risk perceptions. Risks are at the monthly frequency. \n",
    "\\\\end{tablenotes}\n",
    "\\\\end{threeparttable}\n",
    "\\\\end{adjustbox}\n",
    "\\\\end{table}\"\"\"\n",
    "\n",
    "\n",
    "## write to latex \n",
    "f = open('../Tables/latex/PRMarkovEst.tex', 'w')\n",
    "f.write(beginningtex)\n",
    "tb_ltx = SCE_para_est_q_df.to_latex()\n",
    "f.write(tb_ltx)\n",
    "f.write(endtex)\n",
    "f.close()\n",
    "\n",
    "\n",
    "\n",
    "## presentable tables \n",
    "\n",
    "\n",
    "index_names = ['$q$',\n",
    "              '$p$',\n",
    "              '$\\tilde\\sigma^l_\\psi$',\n",
    "              '$\\tilde\\sigma^l_\\theta$',\n",
    "              '$\\tilde\\sigma^h_\\psi$',\n",
    "              '$\\tilde\\sigma^h_\\theta$',\n",
    "              '$\\tilde \\mho^l$',\n",
    "              '$\\tilde \\mho^h$',\n",
    "              '$\\tilde E^l$',\n",
    "              '$\\tilde E^h$']\n",
    "\n",
    "\n",
    "SCE_para_est_q_df.index = index_names\n",
    "\n",
    "\n",
    "## save it to a pickle file \n",
    "SCE_para_est_q_df.to_pickle('data/subjective_profile_est_q.pkl')\n",
    "\n",
    "SCE_para_est_q_df\n"
   ]
  },
  {
   "cell_type": "code",
   "execution_count": null,
   "metadata": {
    "code_folding": [
     0,
     39,
     74
    ],
    "lines_to_next_cell": 2
   },
   "outputs": [],
   "source": [
    "## create a dictionary for storing YEARLY parameters \n",
    "\n",
    "model_para_y_est = {}\n",
    "\n",
    "############################################\n",
    "## from yeraly to monthly risk\n",
    "############################################\n",
    "\n",
    "###!!!! Here you need to transform montly mkv to 1 year\n",
    "\n",
    "model_para_y_est['q'],model_para_y_est['p'] = mkv2_M2Q(SCE_para_model_est['q'],\n",
    "                                                   SCE_para_model_est['p'])\n",
    "\n",
    "alpha = SCE_para_model_est['α'][0]\n",
    "beta = SCE_para_model_est['β'][0]\n",
    "\n",
    "model_para_y_est['\\tilde\\sigma_\\psi^l'] = np.sqrt(12*np.exp(alpha)/(12+1/(12*kappa**2)))\n",
    "model_para_y_est['\\tilde\\sigma_\\theta^l'] =  1/12*model_para_q_est['\\tilde\\sigma_\\psi^l']/kappa\n",
    "model_para_y_est['\\tilde\\sigma_\\psi^h'] =  np.sqrt(12*np.exp(alpha+beta)/(12+1/(12*kappa**2)))\n",
    "model_para_y_est['\\tilde\\sigma_\\theta^h'] =  1/12*model_para_q_est['\\tilde\\sigma_\\psi^h']/kappa\n",
    "\n",
    "\n",
    "alpha_q = SCE_para_model_est['α'][1]\n",
    "beta_q = SCE_para_model_est['α'][1]+SCE_para_model_est['β'][1]\n",
    "\n",
    "alpha_p = SCE_para_model_est['α'][2]\n",
    "beta_p = SCE_para_model_est['α'][2]+SCE_para_model_est['β'][2]\n",
    "\n",
    "\n",
    "model_para_y_est['\\tilde \\mho^l'],model_para_y_est['\\tilde E^l'] = SCE_mkv2.prob_func(alpha_q),SCE_mkv2.prob_func(alpha_p)\n",
    "\n",
    "model_para_y_est['\\tilde \\mho^h'], model_para_y_est['\\tilde E^h']=  SCE_mkv2.prob_func(alpha_q+beta_q),SCE_mkv2.prob_func(alpha_p+beta_p)\n",
    "\n",
    "print('yearly SCE parameters\\n',model_para_y_est)\n",
    "\n",
    "\n",
    "## convert to a dataframe \n",
    "\n",
    "\n",
    "SCE_para_est_y_df = pd.DataFrame.from_dict(model_para_y_est,\n",
    "                                         orient='index',\n",
    "                                         dtype=None, \n",
    "                                         columns=['baseline']\n",
    "                                        )\n",
    "\n",
    "## output tables \n",
    "\n",
    "beginningtex = \"\"\"\n",
    "\\\\begin{table}[p]\n",
    "\\\\centering\n",
    "\\\\begin{adjustbox}{width=0.3\\\\textwidth}\n",
    "\\\\begin{threeparttable}\n",
    "\\\\caption{Estimated subjective risk perceptions (yearly)}\n",
    "\\\\label{tab:PRMarkovEst}\"\"\"\n",
    "\n",
    "endtex = \"\"\"\\\\begin{tablenotes}\\item This table reports estimates of the parameters \n",
    "for the 2-state Markov switching model of subjective risk perceptions. Risks are at the monthly frequency. \n",
    "\\\\end{tablenotes}\n",
    "\\\\end{threeparttable}\n",
    "\\\\end{adjustbox}\n",
    "\\\\end{table}\"\"\"\n",
    "\n",
    "\n",
    "## write to latex \n",
    "f = open('../Tables/latex/PRMarkovEst_y.tex', 'w')\n",
    "f.write(beginningtex)\n",
    "tb_ltx = SCE_para_est_y_df.to_latex()\n",
    "f.write(tb_ltx)\n",
    "f.write(endtex)\n",
    "f.close()\n",
    "\n",
    "\n",
    "## presentable tables \n",
    "\n",
    "index_names = ['$q$',\n",
    "              '$p$',\n",
    "              '$\\tilde\\sigma^l_\\psi$',\n",
    "              '$\\tilde\\sigma^l_\\theta$',\n",
    "              '$\\tilde\\sigma^h_\\psi$',\n",
    "              '$\\tilde\\sigma^h_\\theta$',\n",
    "              '$\\tilde \\mho^l$',\n",
    "              '$\\tilde \\mho^h$',\n",
    "              '$\\tilde E^l$',\n",
    "              '$\\tilde E^h$']\n",
    "\n",
    "SCE_para_est_y_df.index = index_names\n",
    "\n",
    "\n",
    "## save it to a pickle file \n",
    "SCE_para_est_y_df.to_pickle('data/subjective_profile_est_y.pkl')\n",
    "\n",
    "SCE_para_est_y_df\n"
   ]
  },
  {
   "cell_type": "code",
   "execution_count": null,
   "metadata": {
    "code_folding": [
     5
    ]
   },
   "outputs": [],
   "source": [
    "\"\"\"\n",
    "import pickle\n",
    "\n",
    "with open(\"parameters.txt\", \"rb\") as fp:\n",
    "    lc_paras = pickle.load(fp)\n",
    "    \n",
    "for key in model_para_est.keys():\n",
    "    lc_paras[key] = model_para_est[key]\n",
    "    \n",
    "print(lc_paras)\n",
    "with open(\"parameters.txt\", \"wb\") as fp:\n",
    "    pickle.dump(lc_paras, fp)\n",
    "\"\"\""
   ]
  },
  {
   "cell_type": "markdown",
   "metadata": {},
   "source": [
    "## Other tests of the code"
   ]
  },
  {
   "cell_type": "markdown",
   "metadata": {},
   "source": [
    "### test using macro time series: U.S.  real GDP growth rate \n",
    "\n"
   ]
  },
  {
   "cell_type": "code",
   "execution_count": 28,
   "metadata": {
    "code_folding": [
     0
    ],
    "lines_to_next_cell": 2
   },
   "outputs": [],
   "source": [
    "if __name__ == \"__main__\":\n",
    "\n",
    "    import pandas_datareader.data as web\n",
    "    import datetime\n",
    "\n",
    "    start = datetime.datetime(1945, 1, 1)\n",
    "    end = datetime.datetime(2019, 12, 31)\n",
    "\n",
    "\n",
    "    rec = web.DataReader(\"USREC\", \n",
    "                         \"fred\", \n",
    "                         start, \n",
    "                         end)\n",
    "    gdp = web.DataReader('GDPC1',\n",
    "                         'fred',\n",
    "                         start,\n",
    "                         end)\n",
    "    gdp_gr = gdp.pct_change().dropna()\n",
    "    gdp_gr.index = pd.DatetimeIndex(gdp_gr.index, freq=\"QS\")"
   ]
  },
  {
   "cell_type": "code",
   "execution_count": null,
   "metadata": {
    "code_folding": [
     2
    ]
   },
   "outputs": [],
   "source": [
    "if __name__ == \"__main__\":\n",
    "\n",
    "    ## use statsmodels \n",
    "\n",
    "    mod_hamilton = sm.tsa.MarkovAutoregression(\n",
    "        gdp_gr, \n",
    "        k_regimes=2, \n",
    "        order= 4, \n",
    "        switching_ar=False\n",
    "    )\n",
    "    res_hamilton = mod_hamilton.fit()"
   ]
  },
  {
   "cell_type": "code",
   "execution_count": null,
   "metadata": {},
   "outputs": [],
   "source": [
    "if __name__ == \"__main__\":\n",
    "    res_hamilton.summary()"
   ]
  },
  {
   "cell_type": "code",
   "execution_count": null,
   "metadata": {
    "code_folding": [
     0
    ]
   },
   "outputs": [],
   "source": [
    "if __name__ == \"__main__\":\n",
    "\n",
    "\n",
    "    fig, axes = plt.subplots(2, figsize=(7, 7))\n",
    "    ax = axes[0]\n",
    "    ax.plot(res_hamilton.filtered_marginal_probabilities[0])\n",
    "    ax.fill_between(rec.index, \n",
    "                    0, \n",
    "                    1, \n",
    "                    where=rec[\"USREC\"].values, \n",
    "                    color=\"k\", \n",
    "                    alpha=0.1)\n",
    "    ax.set_xlim(gdp_gr.index[4], gdp_gr.index[-1])\n",
    "    ax.set(title=\"Filtered probability of recession\")\n",
    "\n",
    "    ax = axes[1]\n",
    "    ax.plot(res_hamilton.smoothed_marginal_probabilities[0])\n",
    "    ax.fill_between(rec.index, 0, 1, where=rec[\"USREC\"].values, color=\"k\", alpha=0.1)\n",
    "    ax.set_xlim(gdp_gr.index[4], gdp_gr.index[-1])\n",
    "    ax.set(title=\"Smoothed probability of recession\")\n",
    "\n",
    "    fig.tight_layout()"
   ]
  },
  {
   "cell_type": "code",
   "execution_count": null,
   "metadata": {
    "code_folding": [
     0
    ],
    "lines_to_next_cell": 2
   },
   "outputs": [],
   "source": [
    "if __name__ == \"__main__\":\n",
    "\n",
    "\n",
    "    ## estimation using codes here \n",
    "\n",
    "    mkv2_gdp = Markov2Switching(AR=1,\n",
    "                               nb_var=1)\n",
    "    fake_data_list = [np.array(gdp_gr['GDPC1'])]\n",
    "\n",
    "    obj = lambda para: -mkv2_gdp.log_likelihood(fake_data_list,\n",
    "                                            para)[0]   ## only the first output\n",
    "\n",
    "    ## estimation \n",
    "    guess = (0.0,0.2,0.4,0.2,0.2,0.9)\n",
    "    #bounds = [(None,None),(None,None),(0.03,1.0),(0.0,1.0),(0.0,1.0)] \n",
    "\n",
    "    para_est = minimize(obj,\n",
    "                        x0=guess,\n",
    "                        method='CG',\n",
    "                        options={'disp': True,\n",
    "                                #'maxls':40,\n",
    "                                #'ftol': 2.220446049250313e-11\n",
    "                                }\n",
    "                       )['x']\n",
    "\n",
    "    #results\n",
    "    print('Estimated model parameters:',[round(x,2) for x in mkv2_gdp.get_model_para(para_est)])\n",
    "\n",
    "    llh,filter1,pr1,pdf = mkv2_gdp.log_likelihood(fake_data_list,\n",
    "                                              para_est)"
   ]
  },
  {
   "cell_type": "code",
   "execution_count": null,
   "metadata": {
    "code_folding": [
     0
    ]
   },
   "outputs": [],
   "source": [
    "if __name__ == \"__main__\":\n",
    "\n",
    "\n",
    "    ## plot the time series \n",
    "\n",
    "    lw = 2\n",
    "    figsize = (15,5)\n",
    "    fontsize = 10\n",
    "\n",
    "    ## plot \n",
    "    fig, ax = plt.subplots(figsize = figsize)\n",
    "    ax2 = ax.twinx()\n",
    "    ax.plot(gdp_gr.index[2:-1],\n",
    "            gdp_gr[2:-1],\n",
    "            color='black',\n",
    "               lw= lw,\n",
    "               label= 'gdp growth ')\n",
    "    ax2.plot(gdp_gr.index[2:-1],\n",
    "             filter1[0][2:-1],\n",
    "             'r-',\n",
    "             lw = lw,\n",
    "             label = 'filter prob (RHS)')\n",
    "    ax.legend(loc = 2,\n",
    "             fontsize = fontsize)\n",
    "    ax.set_xlabel(\"month\",fontsize = fontsize)\n",
    "    ax.grid()\n",
    "    ax.set_ylabel('% growth',fontsize = fontsize)\n",
    "    ax.tick_params(axis='both', \n",
    "                   which='major', \n",
    "                   labelsize = fontsize)\n",
    "    ax2.tick_params(axis='both', \n",
    "                   which='major', \n",
    "                   labelsize = fontsize)\n",
    "    ax2.fill_between(rec.index, \n",
    "                    min(filter1[0][1:-1]), \n",
    "                    max(filter1[0][1:-1]), \n",
    "                    where=rec[\"USREC\"].values, \n",
    "                    color=\"k\", \n",
    "                    alpha=0.1)\n",
    "    ax2.legend(loc = 1,\n",
    "              fontsize = fontsize)"
   ]
  }
 ],
 "metadata": {
  "jupytext": {
   "encoding": "# -*- coding: utf-8 -*-",
   "formats": "ipynb,py:light"
  },
  "kernelspec": {
   "display_name": "Python 3 (ipykernel)",
   "language": "python",
   "name": "python3"
  },
  "language_info": {
   "codemirror_mode": {
    "name": "ipython",
    "version": 3
   },
   "file_extension": ".py",
   "mimetype": "text/x-python",
   "name": "python",
   "nbconvert_exporter": "python",
   "pygments_lexer": "ipython3",
   "version": "3.8.5"
  }
 },
 "nbformat": 4,
 "nbformat_minor": 4
}
