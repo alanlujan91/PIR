{
 "cells": [
  {
   "cell_type": "code",
   "execution_count": 1,
   "metadata": {
    "code_folding": []
   },
   "outputs": [],
   "source": [
    "import numpy as np\n",
    "import pickle\n",
    "import pandas as pd\n",
    "import matplotlib.pyplot as plt\n",
    "import numba as nb"
   ]
  },
  {
   "cell_type": "markdown",
   "metadata": {},
   "source": [
    "### Age profile of income "
   ]
  },
  {
   "cell_type": "code",
   "execution_count": 28,
   "metadata": {
    "code_folding": []
   },
   "outputs": [],
   "source": [
    "## import age income profile \n",
    "\n",
    "age_profile = pd.read_stata('../OtherData/age_profile.dta')   \n",
    "\n",
    "## select age range for the model and turn it into an array \n",
    "lc_wages = np.array(age_profile[(age_profile['age']>=24) &(age_profile['age']<=64)]['wage_age'])\n",
    "#print(str(len(lc_wages)),'years since age 25')\n",
    "\n",
    "## growth rates since initial age over life cicle before retirement\n",
    "lc_G = lc_wages[1:]/lc_wages[:-1]\n",
    "\n",
    "T = 40\n",
    "L = 60\n",
    "## growth rates after retirement\n",
    "\n",
    "lc_G_rt = np.ones(L-T)\n",
    "lc_G_rt[0] = 0.6\n",
    "\n",
    "\n",
    "lc_G_full = np.concatenate([lc_G,lc_G_rt])\n",
    "#lc_G_full = np.ones_like(lc_G_full)\n",
    "\n",
    "T_q = T*4\n",
    "L_q = L*4"
   ]
  },
  {
   "cell_type": "code",
   "execution_count": 3,
   "metadata": {
    "code_folding": [
     2
    ]
   },
   "outputs": [],
   "source": [
    "## turn yearly number to quarterly number with interpolation \n",
    "\n",
    "def y2q_interpolate(xs_y):\n",
    "    \n",
    "    \"\"\"\n",
    "    this function turns an array of yealry rates into quarterly rates via linear interpolation \n",
    "    \"\"\"\n",
    "\n",
    "    n_y = len(xs_y)\n",
    "    y_id = np.arange(n_y)\n",
    "    q_id = y_id*4\n",
    "\n",
    "    n_q = 4*n_y\n",
    "    xs_q = np.empty(n_q)\n",
    "    \n",
    "    for i_y in range(n_y):\n",
    "        xs_q[4*i_y] = xs_y[i_y]\n",
    "        for i_q in np.arange(1,4):\n",
    "            q_id_this = 4*i_y+i_q\n",
    "            xs_q[q_id_this] = np.interp(q_id_this,q_id,xs_y)\n",
    "            \n",
    "    return xs_q\n",
    "\n",
    "\n",
    "## get the quarterly income profile over life cycle before retirement \n",
    "lc_G_q = y2q_interpolate(lc_G)\n",
    "\n",
    "lc_G_q_rt = y2q_interpolate(lc_G_rt)\n",
    "\n",
    "lc_G_q_full = np.concatenate([lc_G_q,lc_G_q_rt])"
   ]
  },
  {
   "cell_type": "markdown",
   "metadata": {},
   "source": [
    "### Income risk estimates "
   ]
  },
  {
   "cell_type": "code",
   "execution_count": 4,
   "metadata": {},
   "outputs": [],
   "source": [
    "risks_est = pd.read_stata('../OtherData/sipp/sipp_history_vol_decomposed.dta')\n",
    "## risks of permanent and transitory component \n",
    "\n",
    "σ_ψ_q_sipp = np.sqrt(risks_est['permanent']**2*3)\n",
    "σ_θ_q_sipp = np.sqrt(risks_est['permanent']**2/3)\n",
    "\n",
    "## p/t ratio \n",
    "kappas_sipp  = risks_est['permanent']/risks_est['transitory']\n",
    "kappa_sipp = np.median(kappas_sipp.dropna())"
   ]
  },
  {
   "cell_type": "code",
   "execution_count": 5,
   "metadata": {},
   "outputs": [],
   "source": [
    "## risks of permanent and transitory component \n",
    "\n",
    "σ_ψ_q_sipp = np.sqrt(risks_est['permanent']**2*3)\n",
    "σ_θ_q_sipp = np.sqrt(risks_est['permanent']**2/3)\n",
    "\n",
    "## p/t ratio \n",
    "kappas_sipp  = risks_est['permanent']/risks_est['transitory']\n",
    "kappa_sipp = np.median(kappas_sipp.dropna())"
   ]
  },
  {
   "cell_type": "markdown",
   "metadata": {},
   "source": [
    "### Initial conditions"
   ]
  },
  {
   "cell_type": "code",
   "execution_count": 6,
   "metadata": {},
   "outputs": [],
   "source": [
    "from statsmodels.stats.weightstats import DescrStatsW\n",
    "\n",
    "## SCF data \n",
    "SCF2016 = pd.read_stata('rscfp2016.dta')\n",
    "SCF2016 = SCF2016[SCF2016['age']==25]\n",
    "SCF2016 = SCF2016.drop_duplicates(subset=['yy1'])\n",
    "SCF2016 = SCF2016[['norminc','networth','wgt']]\n",
    "SCF2016 = SCF2016[SCF2016['norminc']>0]\n",
    "\n",
    "## permanent income at age 25 \n",
    "pinc_SCF = SCF2016[['norminc','wgt']]\n",
    "lpinc_SCF_pos, lpinc_SCF_wgt = np.log(pinc_SCF['norminc']),np.array(pinc_SCF['wgt'])\n",
    "\n",
    "## wealth \n",
    "b_SCF = SCF2016[['networth','wgt']]\n",
    "lb_SCF_pos, lb_SCF_wgt = b_SCF['networth'],np.array(b_SCF['wgt'])\n",
    "\n",
    "## wealth to permanent income\n",
    "SCF2016['networth2pinc'] = SCF2016['networth']/SCF2016['norminc']\n",
    "b_SCF, b_wgt = SCF2016['networth2pinc'], SCF2016['wgt']\n",
    "\n",
    "## compute data moments \n",
    "σ_ψ_init_SCF = DescrStatsW(lpinc_SCF_pos, weights=lpinc_SCF_wgt, ddof=1).std\n",
    "σ_b_init_SCF = DescrStatsW(lb_SCF_pos, weights=lb_SCF_wgt, ddof=1).std\n",
    "b_SCF = DescrStatsW(b_SCF,weights=b_wgt, ddof=1).mean ## annual \n",
    "b_q_SCF = b_SCF*4  ## quarterly  "
   ]
  },
  {
   "cell_type": "markdown",
   "metadata": {},
   "source": [
    "### subjective profile estiamtion "
   ]
  },
  {
   "cell_type": "code",
   "execution_count": 7,
   "metadata": {},
   "outputs": [],
   "source": [
    "## import subjective profile estimation results \n",
    "SCE_est_q = pd.read_pickle('data/subjective_profile_est_q.pkl')\n",
    "SCE_est_y = pd.read_pickle('data/subjective_profile_est_y.pkl')\n",
    "SCE_est_q = SCE_est_q['baseline']\n",
    "SCE_est_y = SCE_est_y['baseline']"
   ]
  },
  {
   "cell_type": "code",
   "execution_count": 8,
   "metadata": {
    "code_folding": []
   },
   "outputs": [],
   "source": [
    "## create a dictionary of parameters \n",
    "life_cycle_paras_q = {'ρ': 2.0, \n",
    "                    'β': 0.98**(1/4), \n",
    "                    'P': np.array([[0.18, 0.82],\n",
    "                                   [0.04, 0.96]]), \n",
    "                    'z_val': np.array([0., 1.]), \n",
    "                    'σ_ψ': np.sqrt(0.15**2*4/11), \n",
    "                    'σ_θ': np.sqrt(0.1**2*4), \n",
    "                    'U': 0.0, \n",
    "                    'LivPrb': 1.0-0.00625, \n",
    "                    'R': 1.01**(1/4), \n",
    "                    'W': 1.0, \n",
    "                    'T': T_q, \n",
    "                    'L': L_q, \n",
    "                    'G':lc_G_q_full, \n",
    "                    'unemp_insurance': 0.15, \n",
    "                    'pension': 1.0, \n",
    "                    'σ_ψ_init': σ_ψ_init_SCF, \n",
    "                    'init_b': b_q_SCF, \n",
    "                    'λ': 0.0, \n",
    "                    'λ_SS': 0.0, \n",
    "                    'transfer': 0.0, \n",
    "                    'bequest_ratio': 0.0,\n",
    "                    'κ':kappa_sipp,\n",
    "                    \n",
    "                    ## subjective profile\n",
    "                    'q':SCE_est_q.loc['$q$'],\n",
    "                    'p':SCE_est_q.loc['$p$'],\n",
    "                    'σ_ψ_2mkv':np.array([SCE_est_q.loc['$\\tilde\\sigma^l_\\psi$'],\n",
    "                                       SCE_est_q.loc['$\\tilde\\sigma^h_\\psi$']]),\n",
    "                    'σ_θ_2mkv':np.array([SCE_est_q.loc['$\\tilde\\sigma^l_\\theta$'],\n",
    "                                       SCE_est_q.loc['$\\tilde\\sigma^h_\\theta$']]),\n",
    "                    'mho_2mkv':np.array([SCE_est_q.loc['$\\tilde \\mho^l$'],\n",
    "                                         SCE_est_q.loc['$\\tilde \\mho^h$']]),\n",
    "                    'E_2mkv':np.array([SCE_est_q.loc['$\\tilde E^l$'],\n",
    "                                      SCE_est_q.loc['$\\tilde E^h$']])\n",
    "                }"
   ]
  },
  {
   "cell_type": "code",
   "execution_count": 9,
   "metadata": {},
   "outputs": [
    {
     "data": {
      "text/plain": [
       "{'ρ': 2.0,\n",
       " 'β': 0.9949620563926881,\n",
       " 'P': array([[0.18, 0.82],\n",
       "        [0.04, 0.96]]),\n",
       " 'z_val': array([0., 1.]),\n",
       " 'σ_ψ': 0.09045340337332908,\n",
       " 'σ_θ': 0.2,\n",
       " 'U': 0.0,\n",
       " 'LivPrb': 0.99375,\n",
       " 'R': 1.0024906793143211,\n",
       " 'W': 1.0,\n",
       " 'T': 160,\n",
       " 'L': 240,\n",
       " 'G': array([1.        , 1.00621092, 1.01242185, 1.01863277, 1.02484369,\n",
       "        1.02443039, 1.0240171 , 1.0236038 , 1.0231905 , 1.02278841,\n",
       "        1.02238631, 1.02198422, 1.02158213, 1.02119136, 1.02080059,\n",
       "        1.02040982, 1.02001905, 1.01963976, 1.01926047, 1.01888117,\n",
       "        1.01850188, 1.01813418, 1.01776648, 1.01739877, 1.01703107,\n",
       "        1.01667506, 1.01631904, 1.01596302, 1.015607  , 1.01526287,\n",
       "        1.01491874, 1.01457462, 1.01423049, 1.0138984 , 1.01356632,\n",
       "        1.01323423, 1.01290214, 1.01258209, 1.01226205, 1.011942  ,\n",
       "        1.01162195, 1.01131424, 1.01100653, 1.01069883, 1.01039112,\n",
       "        1.01009578, 1.00980043, 1.00950509, 1.00920975, 1.00892699,\n",
       "        1.00864422, 1.00836146, 1.00807869, 1.00780857, 1.00753844,\n",
       "        1.00726831, 1.00699818, 1.00674093, 1.00648367, 1.00622642,\n",
       "        1.00596917, 1.00572485, 1.00548053, 1.00523621, 1.00499189,\n",
       "        1.00476068, 1.00452948, 1.00429827, 1.00406706, 1.00384912,\n",
       "        1.00363117, 1.00341323, 1.00319529, 1.00299069, 1.0027861 ,\n",
       "        1.00258151, 1.00237691, 1.00218591, 1.00199491, 1.0018039 ,\n",
       "        1.0016129 , 1.00143558, 1.00125825, 1.00108093, 1.00090361,\n",
       "        1.00074011, 1.00057662, 1.00041312, 1.00024962, 1.00010012,\n",
       "        0.99995062, 0.99980111, 0.99965161, 0.99951625, 0.99938089,\n",
       "        0.99924552, 0.99911016, 0.99898914, 0.99886811, 0.99874708,\n",
       "        0.99862605, 0.99851948, 0.99841291, 0.99830633, 0.99819976,\n",
       "        0.99810779, 0.99801582, 0.99792385, 0.99783188, 0.99775474,\n",
       "        0.99767759, 0.99760045, 0.99752331, 0.9974611 , 0.99739888,\n",
       "        0.99733667, 0.99727446, 0.99722734, 0.99718022, 0.99713311,\n",
       "        0.99708599, 0.99705417, 0.99702236, 0.99699055, 0.99695873,\n",
       "        0.99694239, 0.99692604, 0.99690969, 0.99689335, 0.99689262,\n",
       "        0.99689189, 0.99689116, 0.99689043, 0.99690555, 0.99692068,\n",
       "        0.9969358 , 0.99695092, 0.99698201, 0.99701309, 0.99704418,\n",
       "        0.99707526, 0.99712256, 0.99716985, 0.99721715, 0.99726444,\n",
       "        0.99732807, 0.9973917 , 0.99745533, 0.99751896, 0.9975992 ,\n",
       "        0.99767944, 0.99775968, 0.99783993, 0.99793686, 0.99803379,\n",
       "        0.99813072, 0.99822766, 0.99822766, 0.99822766, 0.99822766,\n",
       "        1.        , 0.9       , 0.8       , 0.7       , 0.6       ,\n",
       "        0.7       , 0.8       , 0.9       , 1.        , 1.        ,\n",
       "        1.        , 1.        , 1.        , 1.        , 1.        ,\n",
       "        1.        , 1.        , 1.        , 1.        , 1.        ,\n",
       "        1.        , 1.        , 1.        , 1.        , 1.        ,\n",
       "        1.        , 1.        , 1.        , 1.        , 1.        ,\n",
       "        1.        , 1.        , 1.        , 1.        , 1.        ,\n",
       "        1.        , 1.        , 1.        , 1.        , 1.        ,\n",
       "        1.        , 1.        , 1.        , 1.        , 1.        ,\n",
       "        1.        , 1.        , 1.        , 1.        , 1.        ,\n",
       "        1.        , 1.        , 1.        , 1.        , 1.        ,\n",
       "        1.        , 1.        , 1.        , 1.        , 1.        ,\n",
       "        1.        , 1.        , 1.        , 1.        , 1.        ,\n",
       "        1.        , 1.        , 1.        , 1.        , 1.        ,\n",
       "        1.        , 1.        , 1.        , 1.        , 1.        ,\n",
       "        1.        , 1.        , 1.        , 1.        , 1.        ]),\n",
       " 'unemp_insurance': 0.15,\n",
       " 'pension': 1.0,\n",
       " 'σ_ψ_init': 0.6285209184601319,\n",
       " 'init_b': 2.2162629517855184,\n",
       " 'λ': 0.0,\n",
       " 'λ_SS': 0.0,\n",
       " 'transfer': 0.0,\n",
       " 'bequest_ratio': 0.0,\n",
       " 'κ': 1.719786711116489,\n",
       " 'q': 0.9999949729217684,\n",
       " 'p': 0.9999949729217684,\n",
       " 'σ_ψ_2mkv': array([0.15243701, 0.48807924]),\n",
       " 'σ_θ_2mkv': array([0.02954572, 0.09460073]),\n",
       " 'mho_2mkv': array([0.11862184, 0.89533594]),\n",
       " 'E_2mkv': array([0.11980964, 0.89515585])}"
      ]
     },
     "execution_count": 9,
     "metadata": {},
     "output_type": "execute_result"
    }
   ],
   "source": [
    "life_cycle_paras_q"
   ]
  },
  {
   "cell_type": "code",
   "execution_count": 10,
   "metadata": {},
   "outputs": [],
   "source": [
    "## create a dictionary of parameters \n",
    "life_cycle_paras_y = {'ρ': 2.0, \n",
    "                    'β': 0.98, \n",
    "                    'P': np.array([[0.18, 0.82],\n",
    "                                   [0.04, 0.96]]), \n",
    "                    'z_val': np.array([0., 1.]), \n",
    "                    'σ_ψ': np.sqrt(0.15**2), \n",
    "                    'σ_θ': np.sqrt(0.1**2), \n",
    "                    'U': 0.0, \n",
    "                    'LivPrb': 1.0-0.00625, \n",
    "                    'R': 1.01, \n",
    "                    'W': 1.0, \n",
    "                    'T': T, \n",
    "                    'L': L, \n",
    "                    'G':lc_G_full, \n",
    "                    'unemp_insurance': 0.15, \n",
    "                    'pension': 1.0, \n",
    "                    'σ_ψ_init': σ_ψ_init_SCF, \n",
    "                    'init_b': b_SCF, \n",
    "                    'λ': 0.0, \n",
    "                    'λ_SS': 0.0, \n",
    "                    'transfer': 0.0, \n",
    "                    'bequest_ratio': 0.0,\n",
    "                    'κ':kappa_sipp,\n",
    "                    \n",
    "                    ## subjective profile\n",
    "                    'q':SCE_est_y.loc['$q$'],\n",
    "                    'p':SCE_est_y.loc['$p$'],\n",
    "                    'σ_ψ_2mkv':np.array([SCE_est_y.loc['$\\tilde\\sigma^l_\\psi$'],\n",
    "                                       SCE_est_y.loc['$\\tilde\\sigma^h_\\psi$']]),\n",
    "                    'σ_θ_2mkv':np.array([SCE_est_y.loc['$\\tilde\\sigma^l_\\theta$'],\n",
    "                                       SCE_est_y.loc['$\\tilde\\sigma^h_\\theta$']]),\n",
    "                    'mho_2mkv':np.array([SCE_est_y.loc['$\\tilde \\mho^l$'],\n",
    "                                         SCE_est_y.loc['$\\tilde \\mho^h$']]),\n",
    "                    'E_2mkv':np.array([SCE_est_y.loc['$\\tilde E^l$'],\n",
    "                                      SCE_est_y.loc['$\\tilde E^h$']])\n",
    "                }"
   ]
  },
  {
   "cell_type": "code",
   "execution_count": 11,
   "metadata": {},
   "outputs": [
    {
     "data": {
      "text/plain": [
       "{'ρ': 2.0,\n",
       " 'β': 0.98,\n",
       " 'P': array([[0.18, 0.82],\n",
       "        [0.04, 0.96]]),\n",
       " 'z_val': array([0., 1.]),\n",
       " 'σ_ψ': 0.15,\n",
       " 'σ_θ': 0.1,\n",
       " 'U': 0.0,\n",
       " 'LivPrb': 0.99375,\n",
       " 'R': 1.01,\n",
       " 'W': 1.0,\n",
       " 'T': 40,\n",
       " 'L': 60,\n",
       " 'G': array([1.        , 1.02484369, 1.0231905 , 1.02158213, 1.02001905,\n",
       "        1.01850188, 1.01703107, 1.015607  , 1.01423049, 1.01290214,\n",
       "        1.01162195, 1.01039112, 1.00920975, 1.00807869, 1.00699818,\n",
       "        1.00596917, 1.00499189, 1.00406706, 1.00319529, 1.00237691,\n",
       "        1.0016129 , 1.00090361, 1.00024962, 0.99965161, 0.99911016,\n",
       "        0.99862605, 0.99819976, 0.99783188, 0.99752331, 0.99727446,\n",
       "        0.99708599, 0.99695873, 0.99689335, 0.99689043, 0.99695092,\n",
       "        0.99707526, 0.99726444, 0.99751896, 0.99783993, 0.99822766,\n",
       "        1.        , 0.6       , 1.        , 1.        , 1.        ,\n",
       "        1.        , 1.        , 1.        , 1.        , 1.        ,\n",
       "        1.        , 1.        , 1.        , 1.        , 1.        ,\n",
       "        1.        , 1.        , 1.        , 1.        , 1.        ]),\n",
       " 'unemp_insurance': 0.15,\n",
       " 'pension': 1.0,\n",
       " 'σ_ψ_init': 0.6285209184601319,\n",
       " 'init_b': 0.5540657379463796,\n",
       " 'λ': 0.0,\n",
       " 'λ_SS': 0.0,\n",
       " 'transfer': 0.0,\n",
       " 'bequest_ratio': 0.0,\n",
       " 'κ': 1.719786711116489,\n",
       " 'q': 0.9999949729217684,\n",
       " 'p': 0.9999949729217684,\n",
       " 'σ_ψ_2mkv': array([0.30487402, 0.97615849]),\n",
       " 'σ_θ_2mkv': array([0.00738643, 0.02365018]),\n",
       " 'mho_2mkv': array([0.31532124, 0.99885345]),\n",
       " 'E_2mkv': array([0.31808566, 0.99884752])}"
      ]
     },
     "execution_count": 11,
     "metadata": {},
     "output_type": "execute_result"
    }
   ],
   "source": [
    "life_cycle_paras_y"
   ]
  },
  {
   "cell_type": "code",
   "execution_count": 12,
   "metadata": {
    "lines_to_next_cell": 0
   },
   "outputs": [],
   "source": [
    "#with open(\"parameters.txt\", \"wb\") as fp:\n",
    "#    pickle.dump(life_cycle_paras, fp)"
   ]
  },
  {
   "cell_type": "code",
   "execution_count": null,
   "metadata": {
    "lines_to_next_cell": 2
   },
   "outputs": [],
   "source": []
  }
 ],
 "metadata": {
  "jupytext": {
   "encoding": "# -*- coding: utf-8 -*-",
   "formats": "ipynb,py:light"
  },
  "kernelspec": {
   "display_name": "Python 3 (ipykernel)",
   "language": "python",
   "name": "python3"
  },
  "language_info": {
   "codemirror_mode": {
    "name": "ipython",
    "version": 3
   },
   "file_extension": ".py",
   "mimetype": "text/x-python",
   "name": "python",
   "nbconvert_exporter": "python",
   "pygments_lexer": "ipython3",
   "version": "3.9.7"
  }
 },
 "nbformat": 4,
 "nbformat_minor": 4
}
