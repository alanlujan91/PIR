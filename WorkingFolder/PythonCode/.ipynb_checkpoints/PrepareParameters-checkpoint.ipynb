{
 "cells": [
  {
   "cell_type": "code",
   "execution_count": 39,
   "metadata": {
    "code_folding": []
   },
   "outputs": [],
   "source": [
    "import numpy as np\n",
    "import pickle\n",
    "import pandas as pd\n",
    "import matplotlib.pyplot as plt"
   ]
  },
  {
   "cell_type": "code",
   "execution_count": 40,
   "metadata": {},
   "outputs": [],
   "source": [
    "## import age income profile \n",
    "\n",
    "age_profile = pd.read_stata('../OtherData/age_profile.dta')   "
   ]
  },
  {
   "cell_type": "code",
   "execution_count": 45,
   "metadata": {},
   "outputs": [
    {
     "name": "stdout",
     "output_type": "stream",
     "text": [
      "40 years since age 25\n"
     ]
    }
   ],
   "source": [
    "## select age range for the model and turn it into an array \n",
    "lc_wages = np.array(age_profile[(age_profile['age']>=25) &(age_profile['age']<=64)]['wage_age'])\n",
    "print(str(len(lc_wages)),'years since age 25')\n",
    "\n",
    "## growth rates since initial age \n",
    "lc_G = lc_wages[1:]/lc_wages[:-1]\n",
    "lc_G = np.insert(lc_G,0,1.0)\n",
    "\n",
    "T = 40\n",
    "L = 60\n",
    "\n",
    "T_q = T*4\n",
    "L_q = L*4"
   ]
  },
  {
   "cell_type": "code",
   "execution_count": 46,
   "metadata": {
    "code_folding": [
     2
    ]
   },
   "outputs": [],
   "source": [
    "## turn yearly number to quarterly number with interpolation \n",
    "\n",
    "def y2q_interpolate(xs_y):\n",
    "    \n",
    "    \"\"\"\n",
    "    this function turns an array of yealry rates into quarterly rates via linear interpolation \n",
    "    \"\"\"\n",
    "\n",
    "    n_y = len(xs_y)\n",
    "    y_id = np.arange(n_y)\n",
    "    q_id = y_id*4\n",
    "\n",
    "    n_q = 4*n_y\n",
    "    xs_q = np.empty(n_q)\n",
    "    \n",
    "    for i_y in range(n_y):\n",
    "        xs_q[4*i_y] = xs_y[i_y]\n",
    "        for i_q in np.arange(1,4):\n",
    "            q_id_this = 4*i_y+i_q\n",
    "            xs_q[q_id_this] = np.interp(q_id_this,q_id,xs_y)\n",
    "            \n",
    "    return xs_q\n",
    "\n",
    "\n",
    "## get the quarterly income profile in life cycle \n",
    "lc_G_q = y2q_interpolate(lc_G)"
   ]
  },
  {
   "cell_type": "code",
   "execution_count": 48,
   "metadata": {},
   "outputs": [],
   "source": [
    "## create a dictionary of parameters \n",
    "life_cycle_paras = {'ρ': 1, 'β': 0.98**(1/4), 'P': np.array([[0.9, 0.1],\n",
    "       [0.1, 0.9]]), 'z_val': np.array([0., 1.]), 'σ_ψ': np.sqrt(0.01*4/11), 'σ_θ': np.sqrt(0.01*4), 'U': 0.0, 'LivPrb': 1.0-0.00625, 'σ_ψ_2mkv': np.array([0.01, 0.02]), 'σ_θ_2mkv': np.array([0.02, 0.04]), 'R': 1.01**(1/4), 'W': 1.0, 'T': T_q, 'L': L_q, 'G':lc_G_q, 'unemp_insurance': 0.15, 'pension': 1.0, 'σ_ψ_init': 0.01, 'init_b': 0.0, 'λ': 0.0, 'λ_SS': 0.0, 'transfer': 0.0, 'bequest_ratio': 0.0,'kappa':1.7}"
   ]
  },
  {
   "cell_type": "code",
   "execution_count": 49,
   "metadata": {},
   "outputs": [],
   "source": [
    "with open(\"parameters.txt\", \"wb\") as fp:\n",
    "    pickle.dump(life_cycle_paras, fp)"
   ]
  },
  {
   "cell_type": "code",
   "execution_count": null,
   "metadata": {},
   "outputs": [],
   "source": []
  }
 ],
 "metadata": {
  "jupytext": {
   "encoding": "# -*- coding: utf-8 -*-",
   "formats": "ipynb,py:light"
  },
  "kernelspec": {
   "display_name": "Python 3 (ipykernel)",
   "language": "python",
   "name": "python3"
  },
  "language_info": {
   "codemirror_mode": {
    "name": "ipython",
    "version": 3
   },
   "file_extension": ".py",
   "mimetype": "text/x-python",
   "name": "python",
   "nbconvert_exporter": "python",
   "pygments_lexer": "ipython3",
   "version": "3.8.5"
  }
 },
 "nbformat": 4,
 "nbformat_minor": 4
}
